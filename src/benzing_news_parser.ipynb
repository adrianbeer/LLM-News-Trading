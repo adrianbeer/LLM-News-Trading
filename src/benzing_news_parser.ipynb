{
  "cells": [
    {
      "cell_type": "markdown",
      "metadata": {
        "id": "wkovyr-oc4-K"
      },
      "source": [
        "# Benzinga-Nachrichten-Verarbeitung"
      ]
    },
    {
      "cell_type": "markdown",
      "metadata": {
        "id": "2A8GOctQmMfj"
      },
      "source": [
        "## Setup up"
      ]
    },
    {
      "cell_type": "markdown",
      "metadata": {
        "id": "VxfEWak8MNGE"
      },
      "source": [
        "### Cluster spin up"
      ]
    },
    {
      "cell_type": "code",
      "source": [
        "from google.colab import drive\n",
        "drive.mount('/content/drive')\n",
        "cwd=\"/content/drive/MyDrive/NewsTrading/trading_bot\"\n",
        "%cd /content/drive/MyDrive/NewsTrading/trading_bot\n",
        "%pip install -r requirements_clean.txt"
      ],
      "metadata": {
        "colab": {
          "base_uri": "https://localhost:8080/"
        },
        "id": "8pmVviAjMTaQ",
        "outputId": "8ee1b300-7cb1-4c1f-f310-c292b6df5c41"
      },
      "execution_count": 1,
      "outputs": [
        {
          "output_type": "stream",
          "name": "stdout",
          "text": [
            "Drive already mounted at /content/drive; to attempt to forcibly remount, call drive.mount(\"/content/drive\", force_remount=True).\n",
            "/content/drive/MyDrive/NewsTrading/trading_bot\n",
            "Requirement already satisfied: html2text in /usr/local/lib/python3.10/dist-packages (from -r requirements_clean.txt (line 4)) (2020.1.16)\n",
            "Requirement already satisfied: datefinder in /usr/local/lib/python3.10/dist-packages (from -r requirements_clean.txt (line 5)) (0.7.3)\n",
            "Requirement already satisfied: dask[complete] in /usr/local/lib/python3.10/dist-packages (from -r requirements_clean.txt (line 6)) (2023.8.1)\n",
            "Requirement already satisfied: nltk in /usr/local/lib/python3.10/dist-packages (from -r requirements_clean.txt (line 7)) (3.8.1)\n",
            "Requirement already satisfied: dateparser in /usr/local/lib/python3.10/dist-packages (from -r requirements_clean.txt (line 8)) (1.2.0)\n",
            "Requirement already satisfied: sutime in /usr/local/lib/python3.10/dist-packages (from -r requirements_clean.txt (line 9)) (1.0.1)\n",
            "Requirement already satisfied: yfinance in /usr/local/lib/python3.10/dist-packages (from -r requirements_clean.txt (line 10)) (0.2.33)\n",
            "Requirement already satisfied: pandas in /usr/local/lib/python3.10/dist-packages (from -r requirements_clean.txt (line 11)) (1.5.3)\n",
            "Requirement already satisfied: scikit-learn in /usr/local/lib/python3.10/dist-packages (from -r requirements_clean.txt (line 12)) (1.2.2)\n",
            "Requirement already satisfied: jupyter-server-proxy in /usr/local/lib/python3.10/dist-packages (from -r requirements_clean.txt (line 15)) (4.1.0)\n",
            "Requirement already satisfied: pyngrok in /usr/local/lib/python3.10/dist-packages (from -r requirements_clean.txt (line 16)) (7.0.3)\n",
            "Requirement already satisfied: fsspec==2023.4.0 in /usr/local/lib/python3.10/dist-packages (from -r requirements_clean.txt (line 19)) (2023.4.0)\n",
            "Requirement already satisfied: gcsfs in /usr/local/lib/python3.10/dist-packages (from -r requirements_clean.txt (line 20)) (2023.4.0)\n",
            "Requirement already satisfied: transformers in /usr/local/lib/python3.10/dist-packages (from -r requirements_clean.txt (line 24)) (4.35.2)\n",
            "Requirement already satisfied: regex>=2017.02.08 in /usr/local/lib/python3.10/dist-packages (from datefinder->-r requirements_clean.txt (line 5)) (2023.6.3)\n",
            "Requirement already satisfied: python-dateutil>=2.4.2 in /usr/local/lib/python3.10/dist-packages (from datefinder->-r requirements_clean.txt (line 5)) (2.8.2)\n",
            "Requirement already satisfied: pytz in /usr/local/lib/python3.10/dist-packages (from datefinder->-r requirements_clean.txt (line 5)) (2023.3.post1)\n",
            "Requirement already satisfied: click>=8.0 in /usr/local/lib/python3.10/dist-packages (from dask[complete]->-r requirements_clean.txt (line 6)) (8.1.7)\n",
            "Requirement already satisfied: cloudpickle>=1.5.0 in /usr/local/lib/python3.10/dist-packages (from dask[complete]->-r requirements_clean.txt (line 6)) (2.2.1)\n",
            "Requirement already satisfied: packaging>=20.0 in /usr/local/lib/python3.10/dist-packages (from dask[complete]->-r requirements_clean.txt (line 6)) (23.2)\n",
            "Requirement already satisfied: partd>=1.2.0 in /usr/local/lib/python3.10/dist-packages (from dask[complete]->-r requirements_clean.txt (line 6)) (1.4.1)\n",
            "Requirement already satisfied: pyyaml>=5.3.1 in /usr/local/lib/python3.10/dist-packages (from dask[complete]->-r requirements_clean.txt (line 6)) (6.0.1)\n",
            "Requirement already satisfied: toolz>=0.10.0 in /usr/local/lib/python3.10/dist-packages (from dask[complete]->-r requirements_clean.txt (line 6)) (0.12.0)\n",
            "Requirement already satisfied: importlib-metadata>=4.13.0 in /usr/local/lib/python3.10/dist-packages (from dask[complete]->-r requirements_clean.txt (line 6)) (7.0.0)\n",
            "Requirement already satisfied: pyarrow>=7.0 in /usr/local/lib/python3.10/dist-packages (from dask[complete]->-r requirements_clean.txt (line 6)) (10.0.1)\n",
            "Requirement already satisfied: lz4>=4.3.2 in /usr/local/lib/python3.10/dist-packages (from dask[complete]->-r requirements_clean.txt (line 6)) (4.3.2)\n",
            "Requirement already satisfied: joblib in /usr/local/lib/python3.10/dist-packages (from nltk->-r requirements_clean.txt (line 7)) (1.3.2)\n",
            "Requirement already satisfied: tqdm in /usr/local/lib/python3.10/dist-packages (from nltk->-r requirements_clean.txt (line 7)) (4.66.1)\n",
            "Requirement already satisfied: tzlocal in /usr/local/lib/python3.10/dist-packages (from dateparser->-r requirements_clean.txt (line 8)) (5.2)\n",
            "Requirement already satisfied: JPype1<2.0.0,>=1.1.2 in /usr/local/lib/python3.10/dist-packages (from sutime->-r requirements_clean.txt (line 9)) (1.4.1)\n",
            "Requirement already satisfied: numpy>=1.16.5 in /usr/local/lib/python3.10/dist-packages (from yfinance->-r requirements_clean.txt (line 10)) (1.23.5)\n",
            "Requirement already satisfied: requests>=2.31 in /usr/local/lib/python3.10/dist-packages (from yfinance->-r requirements_clean.txt (line 10)) (2.31.0)\n",
            "Requirement already satisfied: multitasking>=0.0.7 in /usr/local/lib/python3.10/dist-packages (from yfinance->-r requirements_clean.txt (line 10)) (0.0.11)\n",
            "Requirement already satisfied: lxml>=4.9.1 in /usr/local/lib/python3.10/dist-packages (from yfinance->-r requirements_clean.txt (line 10)) (4.9.3)\n",
            "Requirement already satisfied: appdirs>=1.4.4 in /usr/local/lib/python3.10/dist-packages (from yfinance->-r requirements_clean.txt (line 10)) (1.4.4)\n",
            "Requirement already satisfied: frozendict>=2.3.4 in /usr/local/lib/python3.10/dist-packages (from yfinance->-r requirements_clean.txt (line 10)) (2.3.10)\n",
            "Requirement already satisfied: peewee>=3.16.2 in /usr/local/lib/python3.10/dist-packages (from yfinance->-r requirements_clean.txt (line 10)) (3.17.0)\n",
            "Requirement already satisfied: beautifulsoup4>=4.11.1 in /usr/local/lib/python3.10/dist-packages (from yfinance->-r requirements_clean.txt (line 10)) (4.11.2)\n",
            "Requirement already satisfied: html5lib>=1.1 in /usr/local/lib/python3.10/dist-packages (from yfinance->-r requirements_clean.txt (line 10)) (1.1)\n",
            "Requirement already satisfied: scipy>=1.3.2 in /usr/local/lib/python3.10/dist-packages (from scikit-learn->-r requirements_clean.txt (line 12)) (1.11.4)\n",
            "Requirement already satisfied: threadpoolctl>=2.0.0 in /usr/local/lib/python3.10/dist-packages (from scikit-learn->-r requirements_clean.txt (line 12)) (3.2.0)\n",
            "Requirement already satisfied: aiohttp in /usr/local/lib/python3.10/dist-packages (from jupyter-server-proxy->-r requirements_clean.txt (line 15)) (3.9.1)\n",
            "Requirement already satisfied: jupyter-server>=1.0 in /usr/local/lib/python3.10/dist-packages (from jupyter-server-proxy->-r requirements_clean.txt (line 15)) (1.24.0)\n",
            "Requirement already satisfied: simpervisor>=1.0 in /usr/local/lib/python3.10/dist-packages (from jupyter-server-proxy->-r requirements_clean.txt (line 15)) (1.0.0)\n",
            "Requirement already satisfied: decorator>4.1.2 in /usr/local/lib/python3.10/dist-packages (from gcsfs->-r requirements_clean.txt (line 20)) (4.4.2)\n",
            "Requirement already satisfied: google-auth>=1.2 in /usr/local/lib/python3.10/dist-packages (from gcsfs->-r requirements_clean.txt (line 20)) (2.17.3)\n",
            "Requirement already satisfied: google-auth-oauthlib in /usr/local/lib/python3.10/dist-packages (from gcsfs->-r requirements_clean.txt (line 20)) (1.2.0)\n",
            "Requirement already satisfied: google-cloud-storage in /usr/local/lib/python3.10/dist-packages (from gcsfs->-r requirements_clean.txt (line 20)) (2.8.0)\n",
            "Requirement already satisfied: filelock in /usr/local/lib/python3.10/dist-packages (from transformers->-r requirements_clean.txt (line 24)) (3.13.1)\n",
            "Requirement already satisfied: huggingface-hub<1.0,>=0.16.4 in /usr/local/lib/python3.10/dist-packages (from transformers->-r requirements_clean.txt (line 24)) (0.17.3)\n",
            "Requirement already satisfied: tokenizers<0.19,>=0.14 in /usr/local/lib/python3.10/dist-packages (from transformers->-r requirements_clean.txt (line 24)) (0.15.0)\n",
            "Requirement already satisfied: safetensors>=0.3.1 in /usr/local/lib/python3.10/dist-packages (from transformers->-r requirements_clean.txt (line 24)) (0.4.1)\n",
            "Requirement already satisfied: attrs>=17.3.0 in /usr/local/lib/python3.10/dist-packages (from aiohttp->jupyter-server-proxy->-r requirements_clean.txt (line 15)) (23.1.0)\n",
            "Requirement already satisfied: multidict<7.0,>=4.5 in /usr/local/lib/python3.10/dist-packages (from aiohttp->jupyter-server-proxy->-r requirements_clean.txt (line 15)) (6.0.4)\n",
            "Requirement already satisfied: yarl<2.0,>=1.0 in /usr/local/lib/python3.10/dist-packages (from aiohttp->jupyter-server-proxy->-r requirements_clean.txt (line 15)) (1.9.4)\n",
            "Requirement already satisfied: frozenlist>=1.1.1 in /usr/local/lib/python3.10/dist-packages (from aiohttp->jupyter-server-proxy->-r requirements_clean.txt (line 15)) (1.4.1)\n",
            "Requirement already satisfied: aiosignal>=1.1.2 in /usr/local/lib/python3.10/dist-packages (from aiohttp->jupyter-server-proxy->-r requirements_clean.txt (line 15)) (1.3.1)\n",
            "Requirement already satisfied: async-timeout<5.0,>=4.0 in /usr/local/lib/python3.10/dist-packages (from aiohttp->jupyter-server-proxy->-r requirements_clean.txt (line 15)) (4.0.3)\n",
            "Requirement already satisfied: soupsieve>1.2 in /usr/local/lib/python3.10/dist-packages (from beautifulsoup4>=4.11.1->yfinance->-r requirements_clean.txt (line 10)) (2.5)\n",
            "Requirement already satisfied: cachetools<6.0,>=2.0.0 in /usr/local/lib/python3.10/dist-packages (from google-auth>=1.2->gcsfs->-r requirements_clean.txt (line 20)) (5.3.2)\n",
            "Requirement already satisfied: pyasn1-modules>=0.2.1 in /usr/local/lib/python3.10/dist-packages (from google-auth>=1.2->gcsfs->-r requirements_clean.txt (line 20)) (0.3.0)\n",
            "Requirement already satisfied: six>=1.9.0 in /usr/local/lib/python3.10/dist-packages (from google-auth>=1.2->gcsfs->-r requirements_clean.txt (line 20)) (1.16.0)\n",
            "Requirement already satisfied: rsa<5,>=3.1.4 in /usr/local/lib/python3.10/dist-packages (from google-auth>=1.2->gcsfs->-r requirements_clean.txt (line 20)) (4.9)\n",
            "Requirement already satisfied: webencodings in /usr/local/lib/python3.10/dist-packages (from html5lib>=1.1->yfinance->-r requirements_clean.txt (line 10)) (0.5.1)\n",
            "Requirement already satisfied: typing-extensions>=3.7.4.3 in /usr/local/lib/python3.10/dist-packages (from huggingface-hub<1.0,>=0.16.4->transformers->-r requirements_clean.txt (line 24)) (4.5.0)\n",
            "Requirement already satisfied: zipp>=0.5 in /usr/local/lib/python3.10/dist-packages (from importlib-metadata>=4.13.0->dask[complete]->-r requirements_clean.txt (line 6)) (3.17.0)\n",
            "Requirement already satisfied: anyio<4,>=3.1.0 in /usr/local/lib/python3.10/dist-packages (from jupyter-server>=1.0->jupyter-server-proxy->-r requirements_clean.txt (line 15)) (3.7.1)\n",
            "Requirement already satisfied: argon2-cffi in /usr/local/lib/python3.10/dist-packages (from jupyter-server>=1.0->jupyter-server-proxy->-r requirements_clean.txt (line 15)) (23.1.0)\n",
            "Requirement already satisfied: jinja2 in /usr/local/lib/python3.10/dist-packages (from jupyter-server>=1.0->jupyter-server-proxy->-r requirements_clean.txt (line 15)) (3.1.2)\n",
            "Requirement already satisfied: jupyter-client>=6.1.12 in /usr/local/lib/python3.10/dist-packages (from jupyter-server>=1.0->jupyter-server-proxy->-r requirements_clean.txt (line 15)) (6.1.12)\n",
            "Requirement already satisfied: jupyter-core!=5.0.*,>=4.12 in /usr/local/lib/python3.10/dist-packages (from jupyter-server>=1.0->jupyter-server-proxy->-r requirements_clean.txt (line 15)) (5.5.1)\n",
            "Requirement already satisfied: nbconvert>=6.4.4 in /usr/local/lib/python3.10/dist-packages (from jupyter-server>=1.0->jupyter-server-proxy->-r requirements_clean.txt (line 15)) (6.5.4)\n",
            "Requirement already satisfied: nbformat>=5.2.0 in /usr/local/lib/python3.10/dist-packages (from jupyter-server>=1.0->jupyter-server-proxy->-r requirements_clean.txt (line 15)) (5.9.2)\n",
            "Requirement already satisfied: prometheus-client in /usr/local/lib/python3.10/dist-packages (from jupyter-server>=1.0->jupyter-server-proxy->-r requirements_clean.txt (line 15)) (0.19.0)\n",
            "Requirement already satisfied: pyzmq>=17 in /usr/local/lib/python3.10/dist-packages (from jupyter-server>=1.0->jupyter-server-proxy->-r requirements_clean.txt (line 15)) (23.2.1)\n",
            "Requirement already satisfied: Send2Trash in /usr/local/lib/python3.10/dist-packages (from jupyter-server>=1.0->jupyter-server-proxy->-r requirements_clean.txt (line 15)) (1.8.2)\n",
            "Requirement already satisfied: terminado>=0.8.3 in /usr/local/lib/python3.10/dist-packages (from jupyter-server>=1.0->jupyter-server-proxy->-r requirements_clean.txt (line 15)) (0.18.0)\n",
            "Requirement already satisfied: tornado>=6.1.0 in /usr/local/lib/python3.10/dist-packages (from jupyter-server>=1.0->jupyter-server-proxy->-r requirements_clean.txt (line 15)) (6.3.2)\n",
            "Requirement already satisfied: traitlets>=5.1 in /usr/local/lib/python3.10/dist-packages (from jupyter-server>=1.0->jupyter-server-proxy->-r requirements_clean.txt (line 15)) (5.7.1)\n",
            "Requirement already satisfied: websocket-client in /usr/local/lib/python3.10/dist-packages (from jupyter-server>=1.0->jupyter-server-proxy->-r requirements_clean.txt (line 15)) (1.7.0)\n",
            "Requirement already satisfied: locket in /usr/local/lib/python3.10/dist-packages (from partd>=1.2.0->dask[complete]->-r requirements_clean.txt (line 6)) (1.0.0)\n",
            "Requirement already satisfied: charset-normalizer<4,>=2 in /usr/local/lib/python3.10/dist-packages (from requests>=2.31->yfinance->-r requirements_clean.txt (line 10)) (3.3.2)\n",
            "Requirement already satisfied: idna<4,>=2.5 in /usr/local/lib/python3.10/dist-packages (from requests>=2.31->yfinance->-r requirements_clean.txt (line 10)) (3.6)\n",
            "Requirement already satisfied: urllib3<3,>=1.21.1 in /usr/local/lib/python3.10/dist-packages (from requests>=2.31->yfinance->-r requirements_clean.txt (line 10)) (2.0.7)\n",
            "Requirement already satisfied: certifi>=2017.4.17 in /usr/local/lib/python3.10/dist-packages (from requests>=2.31->yfinance->-r requirements_clean.txt (line 10)) (2023.11.17)\n",
            "Requirement already satisfied: distributed==2023.8.1 in /usr/local/lib/python3.10/dist-packages (from dask[complete]->-r requirements_clean.txt (line 6)) (2023.8.1)\n",
            "Requirement already satisfied: bokeh>=2.4.2 in /usr/local/lib/python3.10/dist-packages (from dask[complete]->-r requirements_clean.txt (line 6)) (3.3.2)\n",
            "Requirement already satisfied: msgpack>=1.0.0 in /usr/local/lib/python3.10/dist-packages (from distributed==2023.8.1->dask[complete]->-r requirements_clean.txt (line 6)) (1.0.7)\n",
            "Requirement already satisfied: psutil>=5.7.2 in /usr/local/lib/python3.10/dist-packages (from distributed==2023.8.1->dask[complete]->-r requirements_clean.txt (line 6)) (5.9.5)\n",
            "Requirement already satisfied: sortedcontainers>=2.0.5 in /usr/local/lib/python3.10/dist-packages (from distributed==2023.8.1->dask[complete]->-r requirements_clean.txt (line 6)) (2.4.0)\n",
            "Requirement already satisfied: tblib>=1.6.0 in /usr/local/lib/python3.10/dist-packages (from distributed==2023.8.1->dask[complete]->-r requirements_clean.txt (line 6)) (3.0.0)\n",
            "Requirement already satisfied: zict>=2.2.0 in /usr/local/lib/python3.10/dist-packages (from distributed==2023.8.1->dask[complete]->-r requirements_clean.txt (line 6)) (3.0.0)\n",
            "Requirement already satisfied: requests-oauthlib>=0.7.0 in /usr/local/lib/python3.10/dist-packages (from google-auth-oauthlib->gcsfs->-r requirements_clean.txt (line 20)) (1.3.1)\n",
            "Requirement already satisfied: google-api-core!=2.0.*,!=2.1.*,!=2.2.*,!=2.3.0,<3.0.0dev,>=1.31.5 in /usr/local/lib/python3.10/dist-packages (from google-cloud-storage->gcsfs->-r requirements_clean.txt (line 20)) (2.11.1)\n",
            "Requirement already satisfied: google-cloud-core<3.0dev,>=2.3.0 in /usr/local/lib/python3.10/dist-packages (from google-cloud-storage->gcsfs->-r requirements_clean.txt (line 20)) (2.3.3)\n",
            "Requirement already satisfied: google-resumable-media>=2.3.2 in /usr/local/lib/python3.10/dist-packages (from google-cloud-storage->gcsfs->-r requirements_clean.txt (line 20)) (2.7.0)\n",
            "Requirement already satisfied: sniffio>=1.1 in /usr/local/lib/python3.10/dist-packages (from anyio<4,>=3.1.0->jupyter-server>=1.0->jupyter-server-proxy->-r requirements_clean.txt (line 15)) (1.3.0)\n",
            "Requirement already satisfied: exceptiongroup in /usr/local/lib/python3.10/dist-packages (from anyio<4,>=3.1.0->jupyter-server>=1.0->jupyter-server-proxy->-r requirements_clean.txt (line 15)) (1.2.0)\n",
            "Requirement already satisfied: contourpy>=1 in /usr/local/lib/python3.10/dist-packages (from bokeh>=2.4.2->dask[complete]->-r requirements_clean.txt (line 6)) (1.2.0)\n",
            "Requirement already satisfied: pillow>=7.1.0 in /usr/local/lib/python3.10/dist-packages (from bokeh>=2.4.2->dask[complete]->-r requirements_clean.txt (line 6)) (9.4.0)\n",
            "Requirement already satisfied: xyzservices>=2021.09.1 in /usr/local/lib/python3.10/dist-packages (from bokeh>=2.4.2->dask[complete]->-r requirements_clean.txt (line 6)) (2023.10.1)\n",
            "Requirement already satisfied: googleapis-common-protos<2.0.dev0,>=1.56.2 in /usr/local/lib/python3.10/dist-packages (from google-api-core!=2.0.*,!=2.1.*,!=2.2.*,!=2.3.0,<3.0.0dev,>=1.31.5->google-cloud-storage->gcsfs->-r requirements_clean.txt (line 20)) (1.62.0)\n",
            "Requirement already satisfied: protobuf!=3.20.0,!=3.20.1,!=4.21.0,!=4.21.1,!=4.21.2,!=4.21.3,!=4.21.4,!=4.21.5,<5.0.0.dev0,>=3.19.5 in /usr/local/lib/python3.10/dist-packages (from google-api-core!=2.0.*,!=2.1.*,!=2.2.*,!=2.3.0,<3.0.0dev,>=1.31.5->google-cloud-storage->gcsfs->-r requirements_clean.txt (line 20)) (3.20.3)\n",
            "Requirement already satisfied: google-crc32c<2.0dev,>=1.0 in /usr/local/lib/python3.10/dist-packages (from google-resumable-media>=2.3.2->google-cloud-storage->gcsfs->-r requirements_clean.txt (line 20)) (1.5.0)\n",
            "Requirement already satisfied: MarkupSafe>=2.0 in /usr/local/lib/python3.10/dist-packages (from jinja2->jupyter-server>=1.0->jupyter-server-proxy->-r requirements_clean.txt (line 15)) (2.1.3)\n",
            "Requirement already satisfied: platformdirs>=2.5 in /usr/local/lib/python3.10/dist-packages (from jupyter-core!=5.0.*,>=4.12->jupyter-server>=1.0->jupyter-server-proxy->-r requirements_clean.txt (line 15)) (4.1.0)\n",
            "Requirement already satisfied: bleach in /usr/local/lib/python3.10/dist-packages (from nbconvert>=6.4.4->jupyter-server>=1.0->jupyter-server-proxy->-r requirements_clean.txt (line 15)) (6.1.0)\n",
            "Requirement already satisfied: defusedxml in /usr/local/lib/python3.10/dist-packages (from nbconvert>=6.4.4->jupyter-server>=1.0->jupyter-server-proxy->-r requirements_clean.txt (line 15)) (0.7.1)\n",
            "Requirement already satisfied: entrypoints>=0.2.2 in /usr/local/lib/python3.10/dist-packages (from nbconvert>=6.4.4->jupyter-server>=1.0->jupyter-server-proxy->-r requirements_clean.txt (line 15)) (0.4)\n",
            "Requirement already satisfied: jupyterlab-pygments in /usr/local/lib/python3.10/dist-packages (from nbconvert>=6.4.4->jupyter-server>=1.0->jupyter-server-proxy->-r requirements_clean.txt (line 15)) (0.3.0)\n",
            "Requirement already satisfied: mistune<2,>=0.8.1 in /usr/local/lib/python3.10/dist-packages (from nbconvert>=6.4.4->jupyter-server>=1.0->jupyter-server-proxy->-r requirements_clean.txt (line 15)) (0.8.4)\n",
            "Requirement already satisfied: nbclient>=0.5.0 in /usr/local/lib/python3.10/dist-packages (from nbconvert>=6.4.4->jupyter-server>=1.0->jupyter-server-proxy->-r requirements_clean.txt (line 15)) (0.9.0)\n",
            "Requirement already satisfied: pandocfilters>=1.4.1 in /usr/local/lib/python3.10/dist-packages (from nbconvert>=6.4.4->jupyter-server>=1.0->jupyter-server-proxy->-r requirements_clean.txt (line 15)) (1.5.0)\n",
            "Requirement already satisfied: pygments>=2.4.1 in /usr/local/lib/python3.10/dist-packages (from nbconvert>=6.4.4->jupyter-server>=1.0->jupyter-server-proxy->-r requirements_clean.txt (line 15)) (2.16.1)\n",
            "Requirement already satisfied: tinycss2 in /usr/local/lib/python3.10/dist-packages (from nbconvert>=6.4.4->jupyter-server>=1.0->jupyter-server-proxy->-r requirements_clean.txt (line 15)) (1.2.1)\n",
            "Requirement already satisfied: fastjsonschema in /usr/local/lib/python3.10/dist-packages (from nbformat>=5.2.0->jupyter-server>=1.0->jupyter-server-proxy->-r requirements_clean.txt (line 15)) (2.19.0)\n",
            "Requirement already satisfied: jsonschema>=2.6 in /usr/local/lib/python3.10/dist-packages (from nbformat>=5.2.0->jupyter-server>=1.0->jupyter-server-proxy->-r requirements_clean.txt (line 15)) (4.19.2)\n",
            "Requirement already satisfied: pyasn1<0.6.0,>=0.4.6 in /usr/local/lib/python3.10/dist-packages (from pyasn1-modules>=0.2.1->google-auth>=1.2->gcsfs->-r requirements_clean.txt (line 20)) (0.5.1)\n",
            "Requirement already satisfied: oauthlib>=3.0.0 in /usr/local/lib/python3.10/dist-packages (from requests-oauthlib>=0.7.0->google-auth-oauthlib->gcsfs->-r requirements_clean.txt (line 20)) (3.2.2)\n",
            "Requirement already satisfied: ptyprocess in /usr/local/lib/python3.10/dist-packages (from terminado>=0.8.3->jupyter-server>=1.0->jupyter-server-proxy->-r requirements_clean.txt (line 15)) (0.7.0)\n",
            "Requirement already satisfied: argon2-cffi-bindings in /usr/local/lib/python3.10/dist-packages (from argon2-cffi->jupyter-server>=1.0->jupyter-server-proxy->-r requirements_clean.txt (line 15)) (21.2.0)\n",
            "Requirement already satisfied: jsonschema-specifications>=2023.03.6 in /usr/local/lib/python3.10/dist-packages (from jsonschema>=2.6->nbformat>=5.2.0->jupyter-server>=1.0->jupyter-server-proxy->-r requirements_clean.txt (line 15)) (2023.11.2)\n",
            "Requirement already satisfied: referencing>=0.28.4 in /usr/local/lib/python3.10/dist-packages (from jsonschema>=2.6->nbformat>=5.2.0->jupyter-server>=1.0->jupyter-server-proxy->-r requirements_clean.txt (line 15)) (0.32.0)\n",
            "Requirement already satisfied: rpds-py>=0.7.1 in /usr/local/lib/python3.10/dist-packages (from jsonschema>=2.6->nbformat>=5.2.0->jupyter-server>=1.0->jupyter-server-proxy->-r requirements_clean.txt (line 15)) (0.15.2)\n",
            "Requirement already satisfied: cffi>=1.0.1 in /usr/local/lib/python3.10/dist-packages (from argon2-cffi-bindings->argon2-cffi->jupyter-server>=1.0->jupyter-server-proxy->-r requirements_clean.txt (line 15)) (1.16.0)\n",
            "Requirement already satisfied: pycparser in /usr/local/lib/python3.10/dist-packages (from cffi>=1.0.1->argon2-cffi-bindings->argon2-cffi->jupyter-server>=1.0->jupyter-server-proxy->-r requirements_clean.txt (line 15)) (2.21)\n"
          ]
        }
      ]
    },
    {
      "cell_type": "code",
      "execution_count": 2,
      "metadata": {
        "id": "zj0QodzRMNGE"
      },
      "outputs": [],
      "source": [
        "import sys, io, tarfile, os\n",
        "import re\n",
        "import pandas as pd\n",
        "import subprocess\n",
        "import os\n",
        "\n",
        "import dask\n",
        "import dask.dataframe as dd\n",
        "from dask.distributed import Client\n",
        "from distributed.diagnostics.plugin import WorkerPlugin\n",
        "from pyngrok import ngrok, conf\n",
        "\n",
        "from src.preprocessing.news_parser import get_company_abbreviation, yahoo_get_wrapper, \\\n",
        "                                          infer_author, filter_body"
      ]
    },
    {
      "cell_type": "code",
      "execution_count": 3,
      "metadata": {
        "colab": {
          "base_uri": "https://localhost:8080/"
        },
        "id": "1w1-9R-RMNGH",
        "outputId": "508c2347-d7c5-47a9-ffbe-57e2e49dcc83"
      },
      "outputs": [
        {
          "output_type": "stream",
          "name": "stderr",
          "text": [
            "INFO:distributed.scheduler:State start\n",
            "INFO:distributed.diskutils:Found stale lock file and directory '/tmp/dask-scratch-space/scheduler-ur00vq6c', purging\n",
            "INFO:distributed.scheduler:  Scheduler at:     tcp://127.0.0.1:45771\n",
            "INFO:distributed.scheduler:  dashboard at:  http://127.0.0.1:8787/status\n",
            "INFO:distributed.nanny:        Start Nanny at: 'tcp://127.0.0.1:36989'\n",
            "INFO:distributed.nanny:        Start Nanny at: 'tcp://127.0.0.1:35279'\n",
            "INFO:distributed.nanny:        Start Nanny at: 'tcp://127.0.0.1:39457'\n",
            "INFO:distributed.nanny:        Start Nanny at: 'tcp://127.0.0.1:41233'\n",
            "INFO:distributed.scheduler:Register worker <WorkerState 'tcp://127.0.0.1:39917', name: 0, status: init, memory: 0, processing: 0>\n",
            "INFO:distributed.scheduler:Starting worker compute stream, tcp://127.0.0.1:39917\n",
            "INFO:distributed.core:Starting established connection to tcp://127.0.0.1:57350\n",
            "INFO:distributed.scheduler:Register worker <WorkerState 'tcp://127.0.0.1:41571', name: 1, status: init, memory: 0, processing: 0>\n",
            "INFO:distributed.scheduler:Starting worker compute stream, tcp://127.0.0.1:41571\n",
            "INFO:distributed.core:Starting established connection to tcp://127.0.0.1:57360\n",
            "INFO:distributed.scheduler:Register worker <WorkerState 'tcp://127.0.0.1:35541', name: 3, status: init, memory: 0, processing: 0>\n",
            "INFO:distributed.scheduler:Starting worker compute stream, tcp://127.0.0.1:35541\n",
            "INFO:distributed.core:Starting established connection to tcp://127.0.0.1:57368\n",
            "INFO:distributed.scheduler:Register worker <WorkerState 'tcp://127.0.0.1:36921', name: 2, status: init, memory: 0, processing: 0>\n",
            "INFO:distributed.scheduler:Starting worker compute stream, tcp://127.0.0.1:36921\n",
            "INFO:distributed.core:Starting established connection to tcp://127.0.0.1:57382\n",
            "INFO:distributed.scheduler:Receive client connection: Client-97edec22-a257-11ee-bf44-0242ac1c000c\n",
            "INFO:distributed.core:Starting established connection to tcp://127.0.0.1:57384\n"
          ]
        }
      ],
      "source": [
        "from dask.distributed import Client, LocalCluster\n",
        "cluster = LocalCluster()\n",
        "client = Client(cluster)"
      ]
    },
    {
      "cell_type": "code",
      "execution_count": 4,
      "metadata": {
        "colab": {
          "base_uri": "https://localhost:8080/"
        },
        "id": "hqoPHxpNMNGH",
        "outputId": "95c92913-e019-4b81-9f6a-4e4d225dcce6"
      },
      "outputs": [
        {
          "output_type": "stream",
          "name": "stdout",
          "text": [
            " * ngrok tunnel \"https://1f4a-35-185-82-179.ngrok-free.app\" -> \"http://127.0.0.1:8787\"\n"
          ]
        }
      ],
      "source": [
        "## Set Up NGROK-Tunnel\n",
        "conf.get_default().auth_token = \"2WntwErWDt9LxQ2Jfp6C8OxDAMK_7iZVdC1utyZET1PE8cuUg\"\n",
        "\n",
        "public_url = ngrok.connect(8787).public_url\n",
        "print(\" * ngrok tunnel \\\"{}\\\" -> \\\"http://127.0.0.1:{}\\\"\".format(public_url, 8787))\n",
        "\n",
        "if 'client' not in globals():\n",
        "  !python -m pip install jupyter-server-proxy\n",
        "  client = Client()"
      ]
    },
    {
      "cell_type": "markdown",
      "metadata": {
        "id": "CymECzDhh6Mn"
      },
      "source": [
        "### System settings"
      ]
    },
    {
      "cell_type": "code",
      "execution_count": 5,
      "metadata": {
        "id": "F4lfXyeQvfCn"
      },
      "outputs": [],
      "source": [
        "cwd = os.getcwd()"
      ]
    },
    {
      "cell_type": "markdown",
      "metadata": {
        "id": "DCMMsTZyC0BE"
      },
      "source": [
        "### CUDF für hardware acceleration"
      ]
    },
    {
      "cell_type": "code",
      "execution_count": null,
      "metadata": {
        "id": "bqFqwisUh6Mn"
      },
      "outputs": [],
      "source": [
        "# !git clone https://github.com/rapidsai/rapidsai-csp-utils.git\n",
        "# !python rapidsai-csp-utils/colab/pip-install.py\n",
        "# import cudf"
      ]
    },
    {
      "cell_type": "markdown",
      "metadata": {
        "id": "DRqa0EPy_lpx"
      },
      "source": [
        "## Grobes HTML-Parsing\n",
        "Als erstes müssen wir die HTML-Dokumente zu normalem Text umwandeln, ansonsten sind die Text-Zellen zu groß und führen zu Problemen mit PyArrow/Dask."
      ]
    },
    {
      "cell_type": "code",
      "execution_count": null,
      "metadata": {
        "id": "J4rQifxX6ygR"
      },
      "outputs": [],
      "source": [
        "input_dir = \"data/raw_bzg/\"\n",
        "output_dir = 'data/unraw1_bzg/'"
      ]
    },
    {
      "cell_type": "code",
      "execution_count": null,
      "metadata": {
        "id": "3wy5-WZ4B_A2"
      },
      "outputs": [],
      "source": [
        "# for year in range(2019, 2020):\n",
        "#     print(year)\n",
        "#     df = pd.read_parquet(f\"{input_dir}story_df_raw_{year}.parquet\")\n",
        "#     df = dd.from_pandas(df, npartitions=12)\n",
        "#     df[\"html_body\"] = df[\"html_body\"].apply(body_formatter, meta=pd.Series(dtype=\"str\"))\n",
        "#     df = df.rename(columns={\"html_body\":\"body\"})\n",
        "#     name_function = lambda x: f\"data-{year}-{x}.parquet\"\n",
        "#     df.to_parquet(output_dir, name_function=name_function)"
      ]
    },
    {
      "cell_type": "markdown",
      "metadata": {
        "id": "xa6QpqfR_t97"
      },
      "source": [
        "## Neu-Partitionierug\n",
        "Sodass alle Partitionen etwa die gleiche Größe haben."
      ]
    },
    {
      "cell_type": "code",
      "execution_count": null,
      "metadata": {
        "id": "pHFpynyiq3O4"
      },
      "outputs": [],
      "source": [
        "input_dir = 'data/unraw1_bzg/'\n",
        "output_dir = 'data/unraw2_bzg/'\n",
        "\n",
        "# ddf = dd.read_parquet(input_dir+\"*.parquet\")\n",
        "# ddf2 = ddf.repartition(npartitions=50)\n",
        "# name_function = lambda x: f\"data-{x}.parquet\"\n",
        "# ddf2.to_parquet(output_dir, name_function=name_function)"
      ]
    },
    {
      "cell_type": "markdown",
      "metadata": {
        "id": "MFnIFQW2Nag7"
      },
      "source": [
        "## Author-Inferenz"
      ]
    },
    {
      "cell_type": "markdown",
      "metadata": {
        "id": "__EYo7CaFlVj"
      },
      "source": [
        "Ein bisschen die Daten säubern..."
      ]
    },
    {
      "cell_type": "code",
      "execution_count": null,
      "metadata": {
        "id": "8-jzA2AbFptW"
      },
      "outputs": [],
      "source": [
        "input_dir = cwd+'/data/unraw2_bzg/'\n",
        "output_dir = cwd+'/data/unraw3_bzg/'"
      ]
    },
    {
      "cell_type": "code",
      "execution_count": null,
      "metadata": {
        "id": "ef28p8AOnrFD"
      },
      "outputs": [],
      "source": [
        "ddf = dd.read_parquet(input_dir+\"*.parquet\")"
      ]
    },
    {
      "cell_type": "code",
      "execution_count": null,
      "metadata": {
        "id": "ylwarwpXLegE"
      },
      "outputs": [],
      "source": [
        "# Remove rows for which noo stock ticker is recorded\n",
        "ddf = ddf[ddf.stocks != '']"
      ]
    },
    {
      "cell_type": "code",
      "execution_count": null,
      "metadata": {
        "id": "W7OPUatcMS7C"
      },
      "outputs": [],
      "source": [
        "# Convert `channels`  datatype from string to list\n",
        "ddf[\"channels\"] = ddf[\"channels\"].apply(eval, meta=pd.Series(dtype='object'))"
      ]
    },
    {
      "cell_type": "markdown",
      "metadata": {
        "id": "eu1EhTqrVpBG"
      },
      "source": [
        "Untersuche als nächstes die Behauptung, dass **PRNewswire** und **Businesswire** den gesamten Markt für Pressemeldungen in den USA kontrollieren. Wenn dem so ist, und sie nicht noch weitere, unwichtige Meldungen veröffentlichen, dann können wir einfach die Newsartikel nach diesen Autoren filtern und uns viel Arbeit ersparen."
      ]
    },
    {
      "cell_type": "code",
      "execution_count": null,
      "metadata": {
        "id": "D5mO091MfO6e"
      },
      "outputs": [],
      "source": [
        "dask.config.set(scheduler=\"processes\")\n",
        "ddf[\"inferred_author\"] = None\n",
        "ddf[\"inferred_author\"] = ddf.body.apply(infer_author, meta=pd.Series(dtype=\"string\"))"
      ]
    },
    {
      "cell_type": "code",
      "execution_count": null,
      "metadata": {
        "id": "NTcPjnU0VZZu"
      },
      "outputs": [],
      "source": [
        "# value_counts for authors\n",
        "auhtor_value_counts = pd.concat([ddf.author.value_counts().head(10), ddf.inferred_author.value_counts().head(10)], axis=1)"
      ]
    },
    {
      "cell_type": "code",
      "execution_count": null,
      "metadata": {
        "id": "UNesN9jX1IP0"
      },
      "outputs": [],
      "source": [
        "auhtor_value_counts"
      ]
    },
    {
      "cell_type": "code",
      "execution_count": null,
      "metadata": {
        "id": "TKT6tusBp13y"
      },
      "outputs": [],
      "source": [
        "auhtor_value_counts.sum().diff()"
      ]
    },
    {
      "cell_type": "markdown",
      "metadata": {
        "id": "wk6p6woeqJqP"
      },
      "source": [
        "Ungefähr 650k Nachrichten werden ausgelassen, wenn nur die vier Hauptvertreiber von Pressemeldungen berücksichtigt werden."
      ]
    },
    {
      "cell_type": "code",
      "execution_count": null,
      "metadata": {
        "id": "8X8rHo-CsDCQ"
      },
      "outputs": [],
      "source": [
        "ddf = ddf[~ddf.inferred_author.isna()]"
      ]
    },
    {
      "cell_type": "code",
      "execution_count": null,
      "metadata": {
        "id": "xHvzym8sFcX_"
      },
      "outputs": [],
      "source": [
        "ddf[\"inferred_author\"] = ddf[\"inferred_author\"].astype(\"string\")"
      ]
    },
    {
      "cell_type": "code",
      "execution_count": null,
      "metadata": {
        "id": "ufk8_XUjFwdk"
      },
      "outputs": [],
      "source": [
        "ddf[\"channels\"] = ddf.channels.apply(lambda x: str(x), meta=pd.Series(dtype=\"string\"))"
      ]
    },
    {
      "cell_type": "code",
      "execution_count": null,
      "metadata": {
        "id": "KsEmViTzNvgs"
      },
      "outputs": [],
      "source": [
        "ddf.inferred_author.value_counts().compute()"
      ]
    },
    {
      "cell_type": "code",
      "execution_count": null,
      "metadata": {
        "id": "zfNNyD_31sly"
      },
      "outputs": [],
      "source": [
        "ddf.inferred_author.value_counts().sum().compute()"
      ]
    },
    {
      "cell_type": "code",
      "execution_count": null,
      "metadata": {
        "id": "v04Wy5Y4iudn"
      },
      "outputs": [],
      "source": [
        "name_function = lambda x: f\"data-{x}.parquet\"\n",
        "ddf.to_parquet(output_dir, name_function=name_function)"
      ]
    },
    {
      "cell_type": "code",
      "execution_count": null,
      "metadata": {
        "id": "CLdnwdyxNFiH"
      },
      "outputs": [],
      "source": [
        "# Contains 100k rows\n",
        "earnings_ddf = ddf[ddf.channels.apply(lambda x: \"Earnings\" in x, meta=pd.Series(dtype=bool))]"
      ]
    },
    {
      "cell_type": "code",
      "execution_count": null,
      "metadata": {
        "id": "A-zs5SSiVbyp"
      },
      "outputs": [],
      "source": [
        "# value counts for authors of earnings reports (contrast to value counts of all news articles)\n",
        "earnings_ddf.inferred_author.value_counts().head(10)"
      ]
    },
    {
      "cell_type": "markdown",
      "metadata": {
        "id": "1dVD6j-G9nie"
      },
      "source": [
        "Hier sehen wir, dass es keine einzige Pressemeldung von **Business Wire** gibt, die mit *Earnings* gekennzeichnet sind. Trotzdem gibt es relevante *Earnings* reports von Business Wire. Dies habe ich kurz verifiziert..."
      ]
    },
    {
      "cell_type": "markdown",
      "metadata": {
        "id": "jafqZ87tXDKn"
      },
      "source": [
        "## Vorgehen\n",
        "\n",
        "Benötigt:\n",
        "---------\n",
        "- data_shared/corporation_endings.txt \\\\\n",
        "- input_dir = data/unraw3_bzg/ \\\\\n",
        "\n",
        "Produziert:\n",
        "-----------\n",
        "- data_shared/all_ticker_name_mapper.parquet\n",
        "\n",
        "--------------\n",
        "\n",
        "Wie viele Nachrichten bleiben, wenn wir auf relevante Ticker filtern? Wir wollen nicht(!) - so ist es momentan - auf die momentane Russell 3k-Zusammensetzung filtern, denn wir wollen auch ungelistete bzw. ehemalige Russell-Aktien beachten.\n",
        "\n",
        "\n",
        "**1. Full-Name-Discovery:**\n",
        "\n",
        "Herausfinden des vollen Namens des Unternehmens für jeden Ticker, damit 1. der Text richtig geparst werden kann und 2. damit wir einen Anhaltspunkt für das Ticker-Grouping haben.\n",
        "\n",
        "\n",
        "**2. Ticker-Filtering:**\n",
        "\n",
        "Alle Ticker herausfiltern, die wir nicht brauchen. Wenn wir aber ein großes Aktienuniversum (mit inzwischen ungelisteten Aktien) benutzen, werden wir fast alle Nachrichten behalten können. Allerdings lassen sich so Fehlerhafte Nachrichten/Ticker etc. herausfiltern.\n",
        "\n",
        "\n",
        "**3. Ticker-Grouping:**\n",
        "\n",
        "Was machen wir, wenn wir mehrerer Aktiengattungen für ein Unternehmen haben? Z.B. Vorzugs- und Stammaktien. Wir können i.A. die Stammaktie nehmen, da diese normalerweise ein höheres Handelsvolumen aufweist. D.h. wir bilden alle Ticker der Benzinga-Nachrichten auf den Ticker der Stammaktie ab.\n",
        "\n",
        "\n",
        "**4. Firmennamen-Nachrichtenkörper-Verifikation:**\n",
        "\n",
        "Da Ticker wiederverwendet werden können bzw. sich verändern können wollen wir sicherstellen, dass der Unternehmensname im Nachrichtenkörper vorkommt! Bzw. generell ist das eine gute Datensäuberungs-Maßnahme."
      ]
    },
    {
      "cell_type": "code",
      "execution_count": 6,
      "metadata": {
        "id": "VaSble_1ku1t"
      },
      "outputs": [],
      "source": [
        "input_dir = cwd+'/data/unraw3_bzg/'\n",
        "ddf = dd.read_parquet(input_dir)"
      ]
    },
    {
      "cell_type": "code",
      "execution_count": 7,
      "metadata": {
        "id": "JosrB0RfsUsy"
      },
      "outputs": [],
      "source": [
        "all_tickers = ddf.stocks.unique().compute()"
      ]
    },
    {
      "cell_type": "code",
      "source": [
        "# Tickers sometimes have a dollar sign in front of them.\n",
        "# This is common practice to indicate that the acronym refers to a stock ticker.\n",
        "# This results in ~ 4 duplicate entries.\n",
        "all_tickers = all_tickers.apply(lambda x: x.strip(\"$\"))"
      ],
      "metadata": {
        "id": "JQ3o-6Zimwhh"
      },
      "execution_count": 8,
      "outputs": []
    },
    {
      "cell_type": "code",
      "source": [
        "# Some stock tickers are in lowercase.\n",
        "# Altough yfinance can handle lowercase tickers we uppercase them\n",
        "# in order to avoid inconsistencies and avoid duplicates.\n",
        "all_tickers = all_tickers.str.upper()\n",
        "all_tickers = all_tickers.drop_duplicates()"
      ],
      "metadata": {
        "id": "BglCX_xQnjNw"
      },
      "execution_count": 9,
      "outputs": []
    },
    {
      "cell_type": "code",
      "source": [
        "colon_tickers = [x for x in all_tickers.values if \":\" in x]\n",
        "print(f\"Around {len(colon_tickers)} stock tickers are from foreign exchanges. \\n\"\n",
        "      f\"The list of foreign exchanges is:\")\n",
        "set([x.split(\":\")[0] for x in colon_tickers])"
      ],
      "metadata": {
        "colab": {
          "base_uri": "https://localhost:8080/"
        },
        "id": "MHKsMwElpmBr",
        "outputId": "ee853c19-bcb5-43c0-fc1d-a50191552abe"
      },
      "execution_count": 10,
      "outputs": [
        {
          "output_type": "stream",
          "name": "stdout",
          "text": [
            "Around 2741 stock tickers are from foreign exchanges. \n",
            "The list of foreign exchanges is:\n"
          ]
        },
        {
          "output_type": "execute_result",
          "data": {
            "text/plain": [
              "{'BMV', 'CSE', 'PARIS', 'TSX', 'TSXV', 'TYO'}"
            ]
          },
          "metadata": {},
          "execution_count": 10
        }
      ]
    },
    {
      "cell_type": "code",
      "source": [
        "# We remove these foreign exchanges:\n",
        "all_tickers = all_tickers[all_tickers.apply(lambda x: \":\" not in x)]"
      ],
      "metadata": {
        "id": "KkJtizLXrOgR"
      },
      "execution_count": 11,
      "outputs": []
    },
    {
      "cell_type": "code",
      "source": [
        "# Do Whitespaces exit and prevent yfinance from finding company names?\n",
        "# Only one company, and its not even a ticker but the company name\n",
        "all_tickers[all_tickers.apply(lambda x: \" \" in x)]"
      ],
      "metadata": {
        "id": "H--sFC-J8cF6",
        "outputId": "454b0300-4399-4b99-bbcc-11ec7e0bb45b",
        "colab": {
          "base_uri": "https://localhost:8080/"
        }
      },
      "execution_count": 36,
      "outputs": [
        {
          "output_type": "execute_result",
          "data": {
            "text/plain": [
              "10892    SERA PROGNOSTICS, INC.\n",
              "Name: stocks, dtype: object"
            ]
          },
          "metadata": {},
          "execution_count": 36
        }
      ]
    },
    {
      "cell_type": "markdown",
      "metadata": {
        "id": "EdwKGnsPnkYS"
      },
      "source": [
        "### Full-Name-Discovery"
      ]
    },
    {
      "cell_type": "code",
      "execution_count": 28,
      "metadata": {
        "id": "_8urd8wvsXza"
      },
      "outputs": [],
      "source": [
        "company_names = all_tickers.map(lambda x: yahoo_get_wrapper(x))"
      ]
    },
    {
      "cell_type": "code",
      "execution_count": 44,
      "metadata": {
        "id": "NUslIwYdsmU7"
      },
      "outputs": [],
      "source": [
        "all_mapper = pd.concat([all_tickers, company_names], axis=1)"
      ]
    },
    {
      "cell_type": "code",
      "execution_count": 45,
      "metadata": {
        "id": "tW8AGmgfK_oV"
      },
      "outputs": [],
      "source": [
        "all_mapper.columns = [\"ticker\", \"company_name\"]"
      ]
    },
    {
      "cell_type": "code",
      "source": [
        "print(f\"For {all_mapper[all_mapper.isna().any(axis=1)].shape[0]} tickers, yfinance had no entry, or at least not entry for the `longName`\")\n",
        "# E.g. AIS, PTNR, BSI, LUFK, BFRM. Can't find these stocks on guidants as well and\n",
        "# Some are not headquartered in the US."
      ],
      "metadata": {
        "id": "k-yCIl7vEuUk",
        "outputId": "7f78b627-a212-4abd-d7b2-162dd68a9a67",
        "colab": {
          "base_uri": "https://localhost:8080/"
        }
      },
      "execution_count": 46,
      "outputs": [
        {
          "output_type": "stream",
          "name": "stdout",
          "text": [
            "For 8492 tickers, yfinance had no entry, or at least not entry for the `longName`\n"
          ]
        }
      ]
    },
    {
      "cell_type": "code",
      "execution_count": 47,
      "metadata": {
        "id": "qa3sz1yBMkjw"
      },
      "outputs": [],
      "source": [
        "all_mapper = all_mapper.dropna()"
      ]
    },
    {
      "cell_type": "code",
      "execution_count": 55,
      "metadata": {
        "colab": {
          "base_uri": "https://localhost:8080/"
        },
        "id": "5FEP_5x3P9F2",
        "outputId": "96da95b7-d9d3-46a4-dcf1-f42f52984d1d"
      },
      "outputs": [
        {
          "output_type": "execute_result",
          "data": {
            "text/plain": [
              "556"
            ]
          },
          "metadata": {},
          "execution_count": 55
        }
      ],
      "source": [
        "# Multiple tickers for the same company exist for ~556/2 companies\n",
        "vcs = all_mapper.company_name.value_counts()\n",
        "vcs = vcs[vcs >= 2]\n",
        "all_mapper[all_mapper.company_name.isin(vcs.index)].sort_values(\"company_name\").shape[0]"
      ]
    },
    {
      "cell_type": "markdown",
      "metadata": {
        "id": "Y0vWtCfFSoox"
      },
      "source": [
        "Es ist nicht leicht zu sagen, welchen von den Tickern wir bevorzugen sollten. Abgleichen mit den Aktientickern des Kursdatensatzes notwendig, um zu sehen, ob überhaupt nur ein Ticker übereinstimmt. Wenn es für beide Ticker eine Kurszeitreihe gibt, dann sollten wir die nehmen, die ein höheres historisches Volumen hat. Dies ist allerdings etwas, was wir später machen und nicht jetzt. Hier wollen wir zunächst nur die Nachrichten verarbeiten, weswegen wir nur die NaN-Unternehmen rausnehmen und den Rest - *ohne Ticker-Filtering* - weiterverarbeiten."
      ]
    },
    {
      "cell_type": "code",
      "execution_count": 59,
      "metadata": {
        "id": "Y6J-M2i4WeW2"
      },
      "outputs": [],
      "source": [
        "mapper = all_mapper"
      ]
    },
    {
      "cell_type": "code",
      "execution_count": 60,
      "metadata": {
        "id": "dvJpTNzVFmLZ"
      },
      "outputs": [],
      "source": [
        "mapper.columns = [\"ticker\", \"company_names\"]\n",
        "mapper.set_index(\"ticker\", inplace=True)"
      ]
    },
    {
      "cell_type": "code",
      "execution_count": 61,
      "metadata": {
        "id": "-t2omABfXZRK"
      },
      "outputs": [],
      "source": [
        "company_endings = pd.read_table(\"data_shared/corporation_endings.txt\").iloc[:, 0]\n",
        "# Apply `get_company_abbreviation` twice in order to get rid of Enterprise, Ltd.\n",
        "# Otherwise , Ltd. remains.\n",
        "mapper[\"short_name\"] = mapper.company_names.apply(lambda x: get_company_abbreviation(x, company_endings=company_endings))"
      ]
    },
    {
      "cell_type": "code",
      "source": [
        "mapper # stopped here"
      ],
      "metadata": {
        "id": "46__JKDPHXmE",
        "outputId": "1ac61172-d855-4e0d-a691-3461fb1e0a46",
        "colab": {
          "base_uri": "https://localhost:8080/",
          "height": 455
        }
      },
      "execution_count": 62,
      "outputs": [
        {
          "output_type": "execute_result",
          "data": {
            "text/plain": [
              "                                       company_names  \\\n",
              "ticker                                                 \n",
              "RENT                           Rent the Runway, Inc.   \n",
              "WW                            WW International, Inc.   \n",
              "JBLU                     JetBlue Airways Corporation   \n",
              "WPS     iShares International Developed Property ETF   \n",
              "ENSG                          The Ensign Group, Inc.   \n",
              "...                                              ...   \n",
              "BURU                                    Nuburu, Inc.   \n",
              "APXYY                                  Appen Limited   \n",
              "BRWXF                     Brunswick Exploration Inc.   \n",
              "NBYCF                             Niobay Metals Inc.   \n",
              "PKBO                                  Peak Bio, Inc.   \n",
              "\n",
              "                                          short_name  \n",
              "ticker                                                \n",
              "RENT                                 Rent the Runway  \n",
              "WW                                  WW International  \n",
              "JBLU                                 JetBlue Airways  \n",
              "WPS     iShares International Developed Property ETF  \n",
              "ENSG                                The Ensign Group  \n",
              "...                                              ...  \n",
              "BURU                                          Nuburu  \n",
              "APXYY                                          Appen  \n",
              "BRWXF                          Brunswick Exploration  \n",
              "NBYCF                                  Niobay Metals  \n",
              "PKBO                                        Peak Bio  \n",
              "\n",
              "[11158 rows x 2 columns]"
            ],
            "text/html": [
              "\n",
              "  <div id=\"df-907b8ae2-cbeb-472b-a701-047b68c74464\" class=\"colab-df-container\">\n",
              "    <div>\n",
              "<style scoped>\n",
              "    .dataframe tbody tr th:only-of-type {\n",
              "        vertical-align: middle;\n",
              "    }\n",
              "\n",
              "    .dataframe tbody tr th {\n",
              "        vertical-align: top;\n",
              "    }\n",
              "\n",
              "    .dataframe thead th {\n",
              "        text-align: right;\n",
              "    }\n",
              "</style>\n",
              "<table border=\"1\" class=\"dataframe\">\n",
              "  <thead>\n",
              "    <tr style=\"text-align: right;\">\n",
              "      <th></th>\n",
              "      <th>company_names</th>\n",
              "      <th>short_name</th>\n",
              "    </tr>\n",
              "    <tr>\n",
              "      <th>ticker</th>\n",
              "      <th></th>\n",
              "      <th></th>\n",
              "    </tr>\n",
              "  </thead>\n",
              "  <tbody>\n",
              "    <tr>\n",
              "      <th>RENT</th>\n",
              "      <td>Rent the Runway, Inc.</td>\n",
              "      <td>Rent the Runway</td>\n",
              "    </tr>\n",
              "    <tr>\n",
              "      <th>WW</th>\n",
              "      <td>WW International, Inc.</td>\n",
              "      <td>WW International</td>\n",
              "    </tr>\n",
              "    <tr>\n",
              "      <th>JBLU</th>\n",
              "      <td>JetBlue Airways Corporation</td>\n",
              "      <td>JetBlue Airways</td>\n",
              "    </tr>\n",
              "    <tr>\n",
              "      <th>WPS</th>\n",
              "      <td>iShares International Developed Property ETF</td>\n",
              "      <td>iShares International Developed Property ETF</td>\n",
              "    </tr>\n",
              "    <tr>\n",
              "      <th>ENSG</th>\n",
              "      <td>The Ensign Group, Inc.</td>\n",
              "      <td>The Ensign Group</td>\n",
              "    </tr>\n",
              "    <tr>\n",
              "      <th>...</th>\n",
              "      <td>...</td>\n",
              "      <td>...</td>\n",
              "    </tr>\n",
              "    <tr>\n",
              "      <th>BURU</th>\n",
              "      <td>Nuburu, Inc.</td>\n",
              "      <td>Nuburu</td>\n",
              "    </tr>\n",
              "    <tr>\n",
              "      <th>APXYY</th>\n",
              "      <td>Appen Limited</td>\n",
              "      <td>Appen</td>\n",
              "    </tr>\n",
              "    <tr>\n",
              "      <th>BRWXF</th>\n",
              "      <td>Brunswick Exploration Inc.</td>\n",
              "      <td>Brunswick Exploration</td>\n",
              "    </tr>\n",
              "    <tr>\n",
              "      <th>NBYCF</th>\n",
              "      <td>Niobay Metals Inc.</td>\n",
              "      <td>Niobay Metals</td>\n",
              "    </tr>\n",
              "    <tr>\n",
              "      <th>PKBO</th>\n",
              "      <td>Peak Bio, Inc.</td>\n",
              "      <td>Peak Bio</td>\n",
              "    </tr>\n",
              "  </tbody>\n",
              "</table>\n",
              "<p>11158 rows × 2 columns</p>\n",
              "</div>\n",
              "    <div class=\"colab-df-buttons\">\n",
              "\n",
              "  <div class=\"colab-df-container\">\n",
              "    <button class=\"colab-df-convert\" onclick=\"convertToInteractive('df-907b8ae2-cbeb-472b-a701-047b68c74464')\"\n",
              "            title=\"Convert this dataframe to an interactive table.\"\n",
              "            style=\"display:none;\">\n",
              "\n",
              "  <svg xmlns=\"http://www.w3.org/2000/svg\" height=\"24px\" viewBox=\"0 -960 960 960\">\n",
              "    <path d=\"M120-120v-720h720v720H120Zm60-500h600v-160H180v160Zm220 220h160v-160H400v160Zm0 220h160v-160H400v160ZM180-400h160v-160H180v160Zm440 0h160v-160H620v160ZM180-180h160v-160H180v160Zm440 0h160v-160H620v160Z\"/>\n",
              "  </svg>\n",
              "    </button>\n",
              "\n",
              "  <style>\n",
              "    .colab-df-container {\n",
              "      display:flex;\n",
              "      gap: 12px;\n",
              "    }\n",
              "\n",
              "    .colab-df-convert {\n",
              "      background-color: #E8F0FE;\n",
              "      border: none;\n",
              "      border-radius: 50%;\n",
              "      cursor: pointer;\n",
              "      display: none;\n",
              "      fill: #1967D2;\n",
              "      height: 32px;\n",
              "      padding: 0 0 0 0;\n",
              "      width: 32px;\n",
              "    }\n",
              "\n",
              "    .colab-df-convert:hover {\n",
              "      background-color: #E2EBFA;\n",
              "      box-shadow: 0px 1px 2px rgba(60, 64, 67, 0.3), 0px 1px 3px 1px rgba(60, 64, 67, 0.15);\n",
              "      fill: #174EA6;\n",
              "    }\n",
              "\n",
              "    .colab-df-buttons div {\n",
              "      margin-bottom: 4px;\n",
              "    }\n",
              "\n",
              "    [theme=dark] .colab-df-convert {\n",
              "      background-color: #3B4455;\n",
              "      fill: #D2E3FC;\n",
              "    }\n",
              "\n",
              "    [theme=dark] .colab-df-convert:hover {\n",
              "      background-color: #434B5C;\n",
              "      box-shadow: 0px 1px 3px 1px rgba(0, 0, 0, 0.15);\n",
              "      filter: drop-shadow(0px 1px 2px rgba(0, 0, 0, 0.3));\n",
              "      fill: #FFFFFF;\n",
              "    }\n",
              "  </style>\n",
              "\n",
              "    <script>\n",
              "      const buttonEl =\n",
              "        document.querySelector('#df-907b8ae2-cbeb-472b-a701-047b68c74464 button.colab-df-convert');\n",
              "      buttonEl.style.display =\n",
              "        google.colab.kernel.accessAllowed ? 'block' : 'none';\n",
              "\n",
              "      async function convertToInteractive(key) {\n",
              "        const element = document.querySelector('#df-907b8ae2-cbeb-472b-a701-047b68c74464');\n",
              "        const dataTable =\n",
              "          await google.colab.kernel.invokeFunction('convertToInteractive',\n",
              "                                                    [key], {});\n",
              "        if (!dataTable) return;\n",
              "\n",
              "        const docLinkHtml = 'Like what you see? Visit the ' +\n",
              "          '<a target=\"_blank\" href=https://colab.research.google.com/notebooks/data_table.ipynb>data table notebook</a>'\n",
              "          + ' to learn more about interactive tables.';\n",
              "        element.innerHTML = '';\n",
              "        dataTable['output_type'] = 'display_data';\n",
              "        await google.colab.output.renderOutput(dataTable, element);\n",
              "        const docLink = document.createElement('div');\n",
              "        docLink.innerHTML = docLinkHtml;\n",
              "        element.appendChild(docLink);\n",
              "      }\n",
              "    </script>\n",
              "  </div>\n",
              "\n",
              "\n",
              "<div id=\"df-08c3670a-b947-40c5-a2ee-0f2dd9b2d90a\">\n",
              "  <button class=\"colab-df-quickchart\" onclick=\"quickchart('df-08c3670a-b947-40c5-a2ee-0f2dd9b2d90a')\"\n",
              "            title=\"Suggest charts\"\n",
              "            style=\"display:none;\">\n",
              "\n",
              "<svg xmlns=\"http://www.w3.org/2000/svg\" height=\"24px\"viewBox=\"0 0 24 24\"\n",
              "     width=\"24px\">\n",
              "    <g>\n",
              "        <path d=\"M19 3H5c-1.1 0-2 .9-2 2v14c0 1.1.9 2 2 2h14c1.1 0 2-.9 2-2V5c0-1.1-.9-2-2-2zM9 17H7v-7h2v7zm4 0h-2V7h2v10zm4 0h-2v-4h2v4z\"/>\n",
              "    </g>\n",
              "</svg>\n",
              "  </button>\n",
              "\n",
              "<style>\n",
              "  .colab-df-quickchart {\n",
              "      --bg-color: #E8F0FE;\n",
              "      --fill-color: #1967D2;\n",
              "      --hover-bg-color: #E2EBFA;\n",
              "      --hover-fill-color: #174EA6;\n",
              "      --disabled-fill-color: #AAA;\n",
              "      --disabled-bg-color: #DDD;\n",
              "  }\n",
              "\n",
              "  [theme=dark] .colab-df-quickchart {\n",
              "      --bg-color: #3B4455;\n",
              "      --fill-color: #D2E3FC;\n",
              "      --hover-bg-color: #434B5C;\n",
              "      --hover-fill-color: #FFFFFF;\n",
              "      --disabled-bg-color: #3B4455;\n",
              "      --disabled-fill-color: #666;\n",
              "  }\n",
              "\n",
              "  .colab-df-quickchart {\n",
              "    background-color: var(--bg-color);\n",
              "    border: none;\n",
              "    border-radius: 50%;\n",
              "    cursor: pointer;\n",
              "    display: none;\n",
              "    fill: var(--fill-color);\n",
              "    height: 32px;\n",
              "    padding: 0;\n",
              "    width: 32px;\n",
              "  }\n",
              "\n",
              "  .colab-df-quickchart:hover {\n",
              "    background-color: var(--hover-bg-color);\n",
              "    box-shadow: 0 1px 2px rgba(60, 64, 67, 0.3), 0 1px 3px 1px rgba(60, 64, 67, 0.15);\n",
              "    fill: var(--button-hover-fill-color);\n",
              "  }\n",
              "\n",
              "  .colab-df-quickchart-complete:disabled,\n",
              "  .colab-df-quickchart-complete:disabled:hover {\n",
              "    background-color: var(--disabled-bg-color);\n",
              "    fill: var(--disabled-fill-color);\n",
              "    box-shadow: none;\n",
              "  }\n",
              "\n",
              "  .colab-df-spinner {\n",
              "    border: 2px solid var(--fill-color);\n",
              "    border-color: transparent;\n",
              "    border-bottom-color: var(--fill-color);\n",
              "    animation:\n",
              "      spin 1s steps(1) infinite;\n",
              "  }\n",
              "\n",
              "  @keyframes spin {\n",
              "    0% {\n",
              "      border-color: transparent;\n",
              "      border-bottom-color: var(--fill-color);\n",
              "      border-left-color: var(--fill-color);\n",
              "    }\n",
              "    20% {\n",
              "      border-color: transparent;\n",
              "      border-left-color: var(--fill-color);\n",
              "      border-top-color: var(--fill-color);\n",
              "    }\n",
              "    30% {\n",
              "      border-color: transparent;\n",
              "      border-left-color: var(--fill-color);\n",
              "      border-top-color: var(--fill-color);\n",
              "      border-right-color: var(--fill-color);\n",
              "    }\n",
              "    40% {\n",
              "      border-color: transparent;\n",
              "      border-right-color: var(--fill-color);\n",
              "      border-top-color: var(--fill-color);\n",
              "    }\n",
              "    60% {\n",
              "      border-color: transparent;\n",
              "      border-right-color: var(--fill-color);\n",
              "    }\n",
              "    80% {\n",
              "      border-color: transparent;\n",
              "      border-right-color: var(--fill-color);\n",
              "      border-bottom-color: var(--fill-color);\n",
              "    }\n",
              "    90% {\n",
              "      border-color: transparent;\n",
              "      border-bottom-color: var(--fill-color);\n",
              "    }\n",
              "  }\n",
              "</style>\n",
              "\n",
              "  <script>\n",
              "    async function quickchart(key) {\n",
              "      const quickchartButtonEl =\n",
              "        document.querySelector('#' + key + ' button');\n",
              "      quickchartButtonEl.disabled = true;  // To prevent multiple clicks.\n",
              "      quickchartButtonEl.classList.add('colab-df-spinner');\n",
              "      try {\n",
              "        const charts = await google.colab.kernel.invokeFunction(\n",
              "            'suggestCharts', [key], {});\n",
              "      } catch (error) {\n",
              "        console.error('Error during call to suggestCharts:', error);\n",
              "      }\n",
              "      quickchartButtonEl.classList.remove('colab-df-spinner');\n",
              "      quickchartButtonEl.classList.add('colab-df-quickchart-complete');\n",
              "    }\n",
              "    (() => {\n",
              "      let quickchartButtonEl =\n",
              "        document.querySelector('#df-08c3670a-b947-40c5-a2ee-0f2dd9b2d90a button');\n",
              "      quickchartButtonEl.style.display =\n",
              "        google.colab.kernel.accessAllowed ? 'block' : 'none';\n",
              "    })();\n",
              "  </script>\n",
              "</div>\n",
              "    </div>\n",
              "  </div>\n"
            ]
          },
          "metadata": {},
          "execution_count": 62
        }
      ]
    },
    {
      "cell_type": "code",
      "execution_count": null,
      "metadata": {
        "id": "z3d5wM_qWhvx"
      },
      "outputs": [],
      "source": [
        "print(f\"{mapper.short_name.isna().sum()} stocks for which we don't have an ending to abbreviate\")\n",
        "# mapper.loc[:, \"short_name\"] = mapper.short_name.fillna(mapper.company_names)\n",
        "mapper = mapper.applymap(lambda x: x.strip(\" \"))"
      ]
    },
    {
      "cell_type": "code",
      "execution_count": null,
      "metadata": {
        "id": "voNHNOrXSIKL"
      },
      "outputs": [],
      "source": [
        "mapper.to_parquet(cwd + \"/data_shared/ticker_name_mapper.parquet\")"
      ]
    },
    {
      "cell_type": "code",
      "execution_count": null,
      "metadata": {
        "id": "yrLjdrfwlmRm"
      },
      "outputs": [],
      "source": [
        "mapper = pd.read_parquet(cwd + \"/data_shared/ticker_name_mapper.parquet\")"
      ]
    },
    {
      "cell_type": "code",
      "execution_count": null,
      "metadata": {
        "id": "70POMUC-PN-n"
      },
      "outputs": [],
      "source": [
        "filt_ddf = ddf[ddf.stocks.isin(mapper.index.to_list())]"
      ]
    },
    {
      "cell_type": "code",
      "execution_count": null,
      "metadata": {
        "id": "WZszkSxWPBK9"
      },
      "outputs": [],
      "source": [
        "ddf.shape[0].compute()"
      ]
    },
    {
      "cell_type": "code",
      "execution_count": null,
      "metadata": {
        "id": "NLbhWydOPaaK"
      },
      "outputs": [],
      "source": [
        "filt_ddf.shape[0].compute()"
      ]
    },
    {
      "cell_type": "markdown",
      "metadata": {
        "id": "fRN7QEojStnr"
      },
      "source": [
        "Es verbleiben circa 1 Mio. Nachrichten, für die wir den Ticker zu einem FIrmennamen auflösen können."
      ]
    },
    {
      "cell_type": "markdown",
      "metadata": {
        "id": "IuLyEUaicPl_"
      },
      "source": [
        "Diese Nachrichten können wir nun wirklich parsen, und danach ordentlich kategorisieren."
      ]
    },
    {
      "cell_type": "code",
      "execution_count": null,
      "metadata": {
        "id": "xSH8cQgL5tZu"
      },
      "outputs": [],
      "source": [
        "ddf = filt_ddf\n",
        "ddf = ddf.drop(columns=[\"author\"]).rename(columns={\"inferred_author\":\"author\"})"
      ]
    },
    {
      "cell_type": "code",
      "execution_count": null,
      "metadata": {
        "id": "safdLC-H6GR5"
      },
      "outputs": [],
      "source": [
        "# TODO: Kann effizienter werden mit GroupBy-Operation\n",
        "ddf[\"company_name\"] = ddf.stocks.apply(lambda x: mapper.company_names.loc[x], meta=pd.Series(dtype=\"string\"))\n",
        "ddf[\"short_name\"] = ddf.stocks.apply(lambda x: mapper.short_name.loc[x], meta=pd.Series(dtype=\"string\"))"
      ]
    },
    {
      "cell_type": "code",
      "execution_count": null,
      "metadata": {
        "id": "CTzB5osyPRnf"
      },
      "outputs": [],
      "source": [
        "name_function = lambda x: f\"data-{x}.parquet\"\n",
        "ddf.to_parquet(cwd+'/data/latest/', name_function=name_function)"
      ]
    },
    {
      "cell_type": "markdown",
      "metadata": {
        "id": "3F3dOc35YN8k"
      },
      "source": [
        "### Firmennamen-Nachrichtenkörper-Verifikation"
      ]
    },
    {
      "cell_type": "code",
      "execution_count": 8,
      "metadata": {
        "id": "w91ht_CvPZDx"
      },
      "outputs": [],
      "source": [
        "ddf = dd.read_parquet(cwd+'/data/latest/')"
      ]
    },
    {
      "cell_type": "code",
      "execution_count": 9,
      "metadata": {
        "id": "AeFzTaK77g0j"
      },
      "outputs": [],
      "source": [
        "# ddf[\"time\"] = ddf[\"time\"].astype(str)"
      ]
    },
    {
      "cell_type": "code",
      "execution_count": null,
      "metadata": {
        "id": "VM_VZgZgMNGe"
      },
      "outputs": [],
      "source": [
        "def f(df):\n",
        "    df[\"time\"] = df[\"time\"].astype(str)\n",
        "    return df\n",
        "# futures = client.submit(f, ddf)\n",
        "# ddf = ddf.map_partitions(f)"
      ]
    },
    {
      "cell_type": "code",
      "execution_count": null,
      "metadata": {
        "id": "6w4drFkvMNGe"
      },
      "outputs": [],
      "source": [
        "# results = client.gather(futures)"
      ]
    },
    {
      "cell_type": "code",
      "execution_count": null,
      "metadata": {
        "id": "Weq1TOz3Yuvp"
      },
      "outputs": [],
      "source": [
        "mask = ddf.apply(lambda x: bool(re.search(x[\"short_name\"], x[\"body\"].replace(\"( )*\\n( )*\", \" \"), re.IGNORECASE)) or \\\n",
        "                 bool(re.search(x[\"short_name\"], x.title, re.IGNORECASE)),\n",
        "                 axis=1,\n",
        "                 meta=pd.Series(dtype=bool))"
      ]
    },
    {
      "cell_type": "code",
      "execution_count": null,
      "metadata": {
        "id": "FBv0rbEKYULN"
      },
      "outputs": [],
      "source": [
        "# Around 11k stocks before `filtering`\n",
        "# len(ddf.stocks.unique())\n",
        "\n",
        "# Around 10k stocks after `filtering`\n",
        "# len(ddf[mask].stocks.unique())"
      ]
    },
    {
      "cell_type": "code",
      "execution_count": null,
      "metadata": {
        "id": "L-6OLBEJQYg_"
      },
      "outputs": [],
      "source": [
        "ddf[mask].shape[0].compute()"
      ]
    },
    {
      "cell_type": "code",
      "execution_count": null,
      "metadata": {
        "id": "gtK_9YL-ORgB"
      },
      "outputs": [],
      "source": [
        "# Case 1: Firmenname wird in abgekürzter Version benutzt, die wir nicht methodisch rekonstruieren können\n",
        "#   Z.B.: IBM -> International Business Machines,\n",
        "#   oder UPS -> United Parcel Service\n",
        "#   oder GE -> General Electric\n",
        "# Case 2: Ticker wurde recycled und zeigt inzwischen auf eine andere Firma.\n",
        "# Will hierzu nicht auch noch Daten kaufen, deswegen werden hier leider einige Nachrichten verworfen werden.\n",
        "\n",
        "ddf[~mask].shape[0].compute() # ~120k Nachrichten mit `FALSCHEM` Firmennamen -> Textinhalt ableichen mit Firmennamen des Kursdaten-Datensatzes."
      ]
    },
    {
      "cell_type": "code",
      "execution_count": null,
      "metadata": {
        "id": "_17NxbxjXbZo"
      },
      "outputs": [],
      "source": [
        "# ddf[~mask].stocks.value_counts().compute().head(15)"
      ]
    },
    {
      "cell_type": "code",
      "execution_count": null,
      "metadata": {
        "id": "oNAFvvVmmWm2"
      },
      "outputs": [],
      "source": [
        "# Filter for high conviction entries\n",
        "ddf = ddf[mask]"
      ]
    },
    {
      "cell_type": "code",
      "execution_count": null,
      "metadata": {
        "id": "WIKojMpEmyas"
      },
      "outputs": [],
      "source": [
        "ddf = ddf.repartition(npartitions=30)"
      ]
    },
    {
      "cell_type": "code",
      "execution_count": null,
      "metadata": {
        "id": "Q5aSElh8MNGh"
      },
      "outputs": [],
      "source": [
        "ddf.head()"
      ]
    },
    {
      "cell_type": "markdown",
      "metadata": {
        "id": "5Xw1JSiI_0JH"
      },
      "source": [
        "### Duplikate Entfernen"
      ]
    },
    {
      "cell_type": "code",
      "execution_count": null,
      "metadata": {
        "id": "cEzrJqEN_yuJ"
      },
      "outputs": [],
      "source": [
        "res = ddf.map_partitions(lambda x: x.drop_duplicates())"
      ]
    },
    {
      "cell_type": "code",
      "execution_count": null,
      "metadata": {
        "id": "MM9AoaeT_48w"
      },
      "outputs": [],
      "source": [
        "# res.shape[0].compute()"
      ]
    },
    {
      "cell_type": "code",
      "execution_count": null,
      "metadata": {
        "id": "5o-p2FkSACbs"
      },
      "outputs": [],
      "source": [
        "ddf = res"
      ]
    },
    {
      "cell_type": "code",
      "execution_count": null,
      "metadata": {
        "id": "Cs74YSdZ9qEr"
      },
      "outputs": [],
      "source": [
        "ddf.head()"
      ]
    },
    {
      "cell_type": "code",
      "execution_count": null,
      "metadata": {
        "id": "GvhpDVtFh6M6"
      },
      "outputs": [],
      "source": [
        "name_function = lambda x: f\"data-{x}.parquet\"\n",
        "ddf.to_parquet(cwd+'/data/latest2/', name_function=name_function)"
      ]
    },
    {
      "cell_type": "markdown",
      "metadata": {
        "id": "5HxMOTfgjpvs"
      },
      "source": [
        "#### Convert ddf to pd.DataFrame"
      ]
    },
    {
      "cell_type": "code",
      "source": [
        "ddf = dd.read_parquet(cwd+'/data/latest/')"
      ],
      "metadata": {
        "id": "QpskPuAUkXXu"
      },
      "execution_count": 12,
      "outputs": []
    },
    {
      "cell_type": "code",
      "execution_count": 13,
      "metadata": {
        "id": "sPF987k3H8tC",
        "colab": {
          "base_uri": "https://localhost:8080/",
          "height": 1000
        },
        "outputId": "1a1cc7cf-4258-46d8-a244-1549aeef2ff9"
      },
      "outputs": [
        {
          "output_type": "stream",
          "name": "stderr",
          "text": [
            "INFO:distributed.core:Connection to tcp://127.0.0.1:55124 has been closed.\n",
            "INFO:distributed.scheduler:Remove worker <WorkerState 'tcp://127.0.0.1:36257', name: 1, status: running, memory: 25, processing: 0> (stimulus_id='handle-worker-cleanup-1703417258.9058738')\n",
            "INFO:distributed.nanny:Worker process 1538 was killed by signal 9\n",
            "WARNING:distributed.nanny:Restarting worker\n",
            "WARNING:distributed.nanny.memory:Worker tcp://127.0.0.1:33801 (pid=1536) exceeded 95% memory budget. Restarting...\n",
            "INFO:distributed.nanny:Worker process 1536 was killed by signal 15\n",
            "INFO:distributed.core:Connection to tcp://127.0.0.1:55112 has been closed.\n",
            "INFO:distributed.scheduler:Remove worker <WorkerState 'tcp://127.0.0.1:33801', name: 0, status: running, memory: 25, processing: 2> (stimulus_id='handle-worker-cleanup-1703417262.6487777')\n",
            "INFO:distributed.scheduler:Lost all workers\n",
            "ERROR:distributed.scheduler:Couldn't gather keys: {\"('read-parquet-fb49b699ac845d6e0cb6d86b1c970b76', 30)\": 'queued', \"('read-parquet-fb49b699ac845d6e0cb6d86b1c970b76', 10)\": 'queued', \"('read-parquet-fb49b699ac845d6e0cb6d86b1c970b76', 13)\": 'queued', \"('read-parquet-fb49b699ac845d6e0cb6d86b1c970b76', 47)\": 'queued', \"('read-parquet-fb49b699ac845d6e0cb6d86b1c970b76', 38)\": 'queued', \"('read-parquet-fb49b699ac845d6e0cb6d86b1c970b76', 1)\": 'queued', \"('read-parquet-fb49b699ac845d6e0cb6d86b1c970b76', 34)\": 'queued', \"('read-parquet-fb49b699ac845d6e0cb6d86b1c970b76', 32)\": 'queued', \"('read-parquet-fb49b699ac845d6e0cb6d86b1c970b76', 19)\": 'queued', \"('read-parquet-fb49b699ac845d6e0cb6d86b1c970b76', 23)\": 'queued', \"('read-parquet-fb49b699ac845d6e0cb6d86b1c970b76', 44)\": 'queued', \"('read-parquet-fb49b699ac845d6e0cb6d86b1c970b76', 15)\": 'queued', \"('read-parquet-fb49b699ac845d6e0cb6d86b1c970b76', 39)\": 'queued', \"('read-parquet-fb49b699ac845d6e0cb6d86b1c970b76', 0)\": 'queued', \"('read-parquet-fb49b699ac845d6e0cb6d86b1c970b76', 37)\": 'queued', \"('read-parquet-fb49b699ac845d6e0cb6d86b1c970b76', 25)\": 'queued', \"('read-parquet-fb49b699ac845d6e0cb6d86b1c970b76', 11)\": 'queued', \"('read-parquet-fb49b699ac845d6e0cb6d86b1c970b76', 12)\": 'queued', \"('read-parquet-fb49b699ac845d6e0cb6d86b1c970b76', 18)\": 'queued', \"('read-parquet-fb49b699ac845d6e0cb6d86b1c970b76', 20)\": 'queued', \"('read-parquet-fb49b699ac845d6e0cb6d86b1c970b76', 41)\": 'queued', \"('read-parquet-fb49b699ac845d6e0cb6d86b1c970b76', 35)\": 'queued', \"('read-parquet-fb49b699ac845d6e0cb6d86b1c970b76', 5)\": 'queued', \"('read-parquet-fb49b699ac845d6e0cb6d86b1c970b76', 16)\": 'queued', \"('read-parquet-fb49b699ac845d6e0cb6d86b1c970b76', 48)\": 'queued', \"('read-parquet-fb49b699ac845d6e0cb6d86b1c970b76', 14)\": 'queued', \"('read-parquet-fb49b699ac845d6e0cb6d86b1c970b76', 27)\": 'queued', \"('read-parquet-fb49b699ac845d6e0cb6d86b1c970b76', 6)\": 'queued', \"('read-parquet-fb49b699ac845d6e0cb6d86b1c970b76', 7)\": 'queued', \"('read-parquet-fb49b699ac845d6e0cb6d86b1c970b76', 24)\": 'queued', \"('read-parquet-fb49b699ac845d6e0cb6d86b1c970b76', 9)\": 'queued', \"('read-parquet-fb49b699ac845d6e0cb6d86b1c970b76', 31)\": 'queued', \"('read-parquet-fb49b699ac845d6e0cb6d86b1c970b76', 4)\": 'queued', \"('read-parquet-fb49b699ac845d6e0cb6d86b1c970b76', 22)\": 'queued', \"('read-parquet-fb49b699ac845d6e0cb6d86b1c970b76', 8)\": 'queued', \"('read-parquet-fb49b699ac845d6e0cb6d86b1c970b76', 29)\": 'queued', \"('read-parquet-fb49b699ac845d6e0cb6d86b1c970b76', 33)\": 'queued', \"('read-parquet-fb49b699ac845d6e0cb6d86b1c970b76', 26)\": 'queued', \"('read-parquet-fb49b699ac845d6e0cb6d86b1c970b76', 43)\": 'queued', \"('read-parquet-fb49b699ac845d6e0cb6d86b1c970b76', 42)\": 'queued', \"('read-parquet-fb49b699ac845d6e0cb6d86b1c970b76', 21)\": 'queued', \"('read-parquet-fb49b699ac845d6e0cb6d86b1c970b76', 28)\": 'queued', \"('read-parquet-fb49b699ac845d6e0cb6d86b1c970b76', 40)\": 'queued', \"('read-parquet-fb49b699ac845d6e0cb6d86b1c970b76', 3)\": 'queued', \"('read-parquet-fb49b699ac845d6e0cb6d86b1c970b76', 36)\": 'queued', \"('read-parquet-fb49b699ac845d6e0cb6d86b1c970b76', 45)\": 'queued', \"('read-parquet-fb49b699ac845d6e0cb6d86b1c970b76', 49)\": 'queued', \"('read-parquet-fb49b699ac845d6e0cb6d86b1c970b76', 2)\": 'queued', \"('read-parquet-fb49b699ac845d6e0cb6d86b1c970b76', 46)\": 'queued', \"('read-parquet-fb49b699ac845d6e0cb6d86b1c970b76', 17)\": 'queued'}\n",
            "WARNING:distributed.client:Couldn't gather 50 keys, rescheduling (\"('read-parquet-fb49b699ac845d6e0cb6d86b1c970b76', 30)\", \"('read-parquet-fb49b699ac845d6e0cb6d86b1c970b76', 10)\", \"('read-parquet-fb49b699ac845d6e0cb6d86b1c970b76', 13)\", \"('read-parquet-fb49b699ac845d6e0cb6d86b1c970b76', 47)\", \"('read-parquet-fb49b699ac845d6e0cb6d86b1c970b76', 38)\", \"('read-parquet-fb49b699ac845d6e0cb6d86b1c970b76', 1)\", \"('read-parquet-fb49b699ac845d6e0cb6d86b1c970b76', 34)\", \"('read-parquet-fb49b699ac845d6e0cb6d86b1c970b76', 32)\", \"('read-parquet-fb49b699ac845d6e0cb6d86b1c970b76', 19)\", \"('read-parquet-fb49b699ac845d6e0cb6d86b1c970b76', 23)\", \"('read-parquet-fb49b699ac845d6e0cb6d86b1c970b76', 44)\", \"('read-parquet-fb49b699ac845d6e0cb6d86b1c970b76', 15)\", \"('read-parquet-fb49b699ac845d6e0cb6d86b1c970b76', 39)\", \"('read-parquet-fb49b699ac845d6e0cb6d86b1c970b76', 0)\", \"('read-parquet-fb49b699ac845d6e0cb6d86b1c970b76', 37)\", \"('read-parquet-fb49b699ac845d6e0cb6d86b1c970b76', 25)\", \"('read-parquet-fb49b699ac845d6e0cb6d86b1c970b76', 11)\", \"('read-parquet-fb49b699ac845d6e0cb6d86b1c970b76', 12)\", \"('read-parquet-fb49b699ac845d6e0cb6d86b1c970b76', 18)\", \"('read-parquet-fb49b699ac845d6e0cb6d86b1c970b76', 20)\", \"('read-parquet-fb49b699ac845d6e0cb6d86b1c970b76', 41)\", \"('read-parquet-fb49b699ac845d6e0cb6d86b1c970b76', 35)\", \"('read-parquet-fb49b699ac845d6e0cb6d86b1c970b76', 5)\", \"('read-parquet-fb49b699ac845d6e0cb6d86b1c970b76', 16)\", \"('read-parquet-fb49b699ac845d6e0cb6d86b1c970b76', 48)\", \"('read-parquet-fb49b699ac845d6e0cb6d86b1c970b76', 14)\", \"('read-parquet-fb49b699ac845d6e0cb6d86b1c970b76', 27)\", \"('read-parquet-fb49b699ac845d6e0cb6d86b1c970b76', 6)\", \"('read-parquet-fb49b699ac845d6e0cb6d86b1c970b76', 7)\", \"('read-parquet-fb49b699ac845d6e0cb6d86b1c970b76', 24)\", \"('read-parquet-fb49b699ac845d6e0cb6d86b1c970b76', 9)\", \"('read-parquet-fb49b699ac845d6e0cb6d86b1c970b76', 31)\", \"('read-parquet-fb49b699ac845d6e0cb6d86b1c970b76', 4)\", \"('read-parquet-fb49b699ac845d6e0cb6d86b1c970b76', 22)\", \"('read-parquet-fb49b699ac845d6e0cb6d86b1c970b76', 8)\", \"('read-parquet-fb49b699ac845d6e0cb6d86b1c970b76', 29)\", \"('read-parquet-fb49b699ac845d6e0cb6d86b1c970b76', 33)\", \"('read-parquet-fb49b699ac845d6e0cb6d86b1c970b76', 26)\", \"('read-parquet-fb49b699ac845d6e0cb6d86b1c970b76', 43)\", \"('read-parquet-fb49b699ac845d6e0cb6d86b1c970b76', 42)\", \"('read-parquet-fb49b699ac845d6e0cb6d86b1c970b76', 21)\", \"('read-parquet-fb49b699ac845d6e0cb6d86b1c970b76', 28)\", \"('read-parquet-fb49b699ac845d6e0cb6d86b1c970b76', 40)\", \"('read-parquet-fb49b699ac845d6e0cb6d86b1c970b76', 3)\", \"('read-parquet-fb49b699ac845d6e0cb6d86b1c970b76', 36)\", \"('read-parquet-fb49b699ac845d6e0cb6d86b1c970b76', 45)\", \"('read-parquet-fb49b699ac845d6e0cb6d86b1c970b76', 49)\", \"('read-parquet-fb49b699ac845d6e0cb6d86b1c970b76', 2)\", \"('read-parquet-fb49b699ac845d6e0cb6d86b1c970b76', 46)\", \"('read-parquet-fb49b699ac845d6e0cb6d86b1c970b76', 17)\")\n",
            "WARNING:distributed.nanny:Restarting worker\n",
            "INFO:distributed.scheduler:Register worker <WorkerState 'tcp://127.0.0.1:43531', name: 1, status: init, memory: 0, processing: 0>\n",
            "INFO:distributed.scheduler:Starting worker compute stream, tcp://127.0.0.1:43531\n",
            "INFO:distributed.core:Starting established connection to tcp://127.0.0.1:53490\n",
            "INFO:distributed.scheduler:Register worker <WorkerState 'tcp://127.0.0.1:36483', name: 0, status: init, memory: 0, processing: 0>\n",
            "INFO:distributed.scheduler:Starting worker compute stream, tcp://127.0.0.1:36483\n",
            "INFO:distributed.core:Starting established connection to tcp://127.0.0.1:53496\n",
            "INFO:distributed.core:Connection to tcp://127.0.0.1:53496 has been closed.\n",
            "INFO:distributed.scheduler:Remove worker <WorkerState 'tcp://127.0.0.1:36483', name: 0, status: running, memory: 23, processing: 0> (stimulus_id='handle-worker-cleanup-1703417321.7697377')\n",
            "INFO:distributed.nanny:Worker process 3387 was killed by signal 9\n",
            "WARNING:distributed.nanny:Restarting worker\n",
            "WARNING:distributed.nanny.memory:Worker tcp://127.0.0.1:43531 (pid=3372) exceeded 95% memory budget. Restarting...\n",
            "INFO:distributed.core:Connection to tcp://127.0.0.1:53490 has been closed.\n",
            "INFO:distributed.scheduler:Remove worker <WorkerState 'tcp://127.0.0.1:43531', name: 1, status: running, memory: 27, processing: 2> (stimulus_id='handle-worker-cleanup-1703417326.5581555')\n",
            "INFO:distributed.scheduler:Lost all workers\n",
            "ERROR:distributed.scheduler:Couldn't gather keys: {\"('read-parquet-fb49b699ac845d6e0cb6d86b1c970b76', 30)\": 'queued', \"('read-parquet-fb49b699ac845d6e0cb6d86b1c970b76', 10)\": 'queued', \"('read-parquet-fb49b699ac845d6e0cb6d86b1c970b76', 13)\": 'queued', \"('read-parquet-fb49b699ac845d6e0cb6d86b1c970b76', 47)\": 'queued', \"('read-parquet-fb49b699ac845d6e0cb6d86b1c970b76', 38)\": 'queued', \"('read-parquet-fb49b699ac845d6e0cb6d86b1c970b76', 1)\": 'queued', \"('read-parquet-fb49b699ac845d6e0cb6d86b1c970b76', 34)\": 'queued', \"('read-parquet-fb49b699ac845d6e0cb6d86b1c970b76', 32)\": 'queued', \"('read-parquet-fb49b699ac845d6e0cb6d86b1c970b76', 19)\": 'queued', \"('read-parquet-fb49b699ac845d6e0cb6d86b1c970b76', 23)\": 'queued', \"('read-parquet-fb49b699ac845d6e0cb6d86b1c970b76', 44)\": 'queued', \"('read-parquet-fb49b699ac845d6e0cb6d86b1c970b76', 15)\": 'queued', \"('read-parquet-fb49b699ac845d6e0cb6d86b1c970b76', 39)\": 'queued', \"('read-parquet-fb49b699ac845d6e0cb6d86b1c970b76', 0)\": 'queued', \"('read-parquet-fb49b699ac845d6e0cb6d86b1c970b76', 37)\": 'queued', \"('read-parquet-fb49b699ac845d6e0cb6d86b1c970b76', 25)\": 'queued', \"('read-parquet-fb49b699ac845d6e0cb6d86b1c970b76', 11)\": 'queued', \"('read-parquet-fb49b699ac845d6e0cb6d86b1c970b76', 12)\": 'queued', \"('read-parquet-fb49b699ac845d6e0cb6d86b1c970b76', 18)\": 'queued', \"('read-parquet-fb49b699ac845d6e0cb6d86b1c970b76', 20)\": 'queued', \"('read-parquet-fb49b699ac845d6e0cb6d86b1c970b76', 41)\": 'queued', \"('read-parquet-fb49b699ac845d6e0cb6d86b1c970b76', 35)\": 'queued', \"('read-parquet-fb49b699ac845d6e0cb6d86b1c970b76', 5)\": 'queued', \"('read-parquet-fb49b699ac845d6e0cb6d86b1c970b76', 16)\": 'queued', \"('read-parquet-fb49b699ac845d6e0cb6d86b1c970b76', 48)\": 'queued', \"('read-parquet-fb49b699ac845d6e0cb6d86b1c970b76', 14)\": 'queued', \"('read-parquet-fb49b699ac845d6e0cb6d86b1c970b76', 27)\": 'queued', \"('read-parquet-fb49b699ac845d6e0cb6d86b1c970b76', 6)\": 'queued', \"('read-parquet-fb49b699ac845d6e0cb6d86b1c970b76', 7)\": 'queued', \"('read-parquet-fb49b699ac845d6e0cb6d86b1c970b76', 24)\": 'queued', \"('read-parquet-fb49b699ac845d6e0cb6d86b1c970b76', 9)\": 'queued', \"('read-parquet-fb49b699ac845d6e0cb6d86b1c970b76', 31)\": 'queued', \"('read-parquet-fb49b699ac845d6e0cb6d86b1c970b76', 4)\": 'queued', \"('read-parquet-fb49b699ac845d6e0cb6d86b1c970b76', 22)\": 'queued', \"('read-parquet-fb49b699ac845d6e0cb6d86b1c970b76', 8)\": 'queued', \"('read-parquet-fb49b699ac845d6e0cb6d86b1c970b76', 29)\": 'queued', \"('read-parquet-fb49b699ac845d6e0cb6d86b1c970b76', 33)\": 'queued', \"('read-parquet-fb49b699ac845d6e0cb6d86b1c970b76', 26)\": 'queued', \"('read-parquet-fb49b699ac845d6e0cb6d86b1c970b76', 43)\": 'queued', \"('read-parquet-fb49b699ac845d6e0cb6d86b1c970b76', 42)\": 'queued', \"('read-parquet-fb49b699ac845d6e0cb6d86b1c970b76', 21)\": 'queued', \"('read-parquet-fb49b699ac845d6e0cb6d86b1c970b76', 28)\": 'queued', \"('read-parquet-fb49b699ac845d6e0cb6d86b1c970b76', 40)\": 'queued', \"('read-parquet-fb49b699ac845d6e0cb6d86b1c970b76', 3)\": 'queued', \"('read-parquet-fb49b699ac845d6e0cb6d86b1c970b76', 36)\": 'queued', \"('read-parquet-fb49b699ac845d6e0cb6d86b1c970b76', 45)\": 'queued', \"('read-parquet-fb49b699ac845d6e0cb6d86b1c970b76', 49)\": 'queued', \"('read-parquet-fb49b699ac845d6e0cb6d86b1c970b76', 2)\": 'queued', \"('read-parquet-fb49b699ac845d6e0cb6d86b1c970b76', 46)\": 'queued', \"('read-parquet-fb49b699ac845d6e0cb6d86b1c970b76', 17)\": 'queued'}\n",
            "INFO:distributed.nanny:Worker process 3372 was killed by signal 15\n",
            "WARNING:distributed.client:Couldn't gather 50 keys, rescheduling (\"('read-parquet-fb49b699ac845d6e0cb6d86b1c970b76', 30)\", \"('read-parquet-fb49b699ac845d6e0cb6d86b1c970b76', 10)\", \"('read-parquet-fb49b699ac845d6e0cb6d86b1c970b76', 13)\", \"('read-parquet-fb49b699ac845d6e0cb6d86b1c970b76', 47)\", \"('read-parquet-fb49b699ac845d6e0cb6d86b1c970b76', 38)\", \"('read-parquet-fb49b699ac845d6e0cb6d86b1c970b76', 1)\", \"('read-parquet-fb49b699ac845d6e0cb6d86b1c970b76', 34)\", \"('read-parquet-fb49b699ac845d6e0cb6d86b1c970b76', 32)\", \"('read-parquet-fb49b699ac845d6e0cb6d86b1c970b76', 19)\", \"('read-parquet-fb49b699ac845d6e0cb6d86b1c970b76', 23)\", \"('read-parquet-fb49b699ac845d6e0cb6d86b1c970b76', 44)\", \"('read-parquet-fb49b699ac845d6e0cb6d86b1c970b76', 15)\", \"('read-parquet-fb49b699ac845d6e0cb6d86b1c970b76', 39)\", \"('read-parquet-fb49b699ac845d6e0cb6d86b1c970b76', 0)\", \"('read-parquet-fb49b699ac845d6e0cb6d86b1c970b76', 37)\", \"('read-parquet-fb49b699ac845d6e0cb6d86b1c970b76', 25)\", \"('read-parquet-fb49b699ac845d6e0cb6d86b1c970b76', 11)\", \"('read-parquet-fb49b699ac845d6e0cb6d86b1c970b76', 12)\", \"('read-parquet-fb49b699ac845d6e0cb6d86b1c970b76', 18)\", \"('read-parquet-fb49b699ac845d6e0cb6d86b1c970b76', 20)\", \"('read-parquet-fb49b699ac845d6e0cb6d86b1c970b76', 41)\", \"('read-parquet-fb49b699ac845d6e0cb6d86b1c970b76', 35)\", \"('read-parquet-fb49b699ac845d6e0cb6d86b1c970b76', 5)\", \"('read-parquet-fb49b699ac845d6e0cb6d86b1c970b76', 16)\", \"('read-parquet-fb49b699ac845d6e0cb6d86b1c970b76', 48)\", \"('read-parquet-fb49b699ac845d6e0cb6d86b1c970b76', 14)\", \"('read-parquet-fb49b699ac845d6e0cb6d86b1c970b76', 27)\", \"('read-parquet-fb49b699ac845d6e0cb6d86b1c970b76', 6)\", \"('read-parquet-fb49b699ac845d6e0cb6d86b1c970b76', 7)\", \"('read-parquet-fb49b699ac845d6e0cb6d86b1c970b76', 24)\", \"('read-parquet-fb49b699ac845d6e0cb6d86b1c970b76', 9)\", \"('read-parquet-fb49b699ac845d6e0cb6d86b1c970b76', 31)\", \"('read-parquet-fb49b699ac845d6e0cb6d86b1c970b76', 4)\", \"('read-parquet-fb49b699ac845d6e0cb6d86b1c970b76', 22)\", \"('read-parquet-fb49b699ac845d6e0cb6d86b1c970b76', 8)\", \"('read-parquet-fb49b699ac845d6e0cb6d86b1c970b76', 29)\", \"('read-parquet-fb49b699ac845d6e0cb6d86b1c970b76', 33)\", \"('read-parquet-fb49b699ac845d6e0cb6d86b1c970b76', 26)\", \"('read-parquet-fb49b699ac845d6e0cb6d86b1c970b76', 43)\", \"('read-parquet-fb49b699ac845d6e0cb6d86b1c970b76', 42)\", \"('read-parquet-fb49b699ac845d6e0cb6d86b1c970b76', 21)\", \"('read-parquet-fb49b699ac845d6e0cb6d86b1c970b76', 28)\", \"('read-parquet-fb49b699ac845d6e0cb6d86b1c970b76', 40)\", \"('read-parquet-fb49b699ac845d6e0cb6d86b1c970b76', 3)\", \"('read-parquet-fb49b699ac845d6e0cb6d86b1c970b76', 36)\", \"('read-parquet-fb49b699ac845d6e0cb6d86b1c970b76', 45)\", \"('read-parquet-fb49b699ac845d6e0cb6d86b1c970b76', 49)\", \"('read-parquet-fb49b699ac845d6e0cb6d86b1c970b76', 2)\", \"('read-parquet-fb49b699ac845d6e0cb6d86b1c970b76', 46)\", \"('read-parquet-fb49b699ac845d6e0cb6d86b1c970b76', 17)\")\n",
            "WARNING:distributed.nanny:Restarting worker\n",
            "INFO:distributed.scheduler:Register worker <WorkerState 'tcp://127.0.0.1:33897', name: 0, status: init, memory: 0, processing: 0>\n",
            "INFO:distributed.scheduler:Starting worker compute stream, tcp://127.0.0.1:33897\n",
            "INFO:distributed.core:Starting established connection to tcp://127.0.0.1:57314\n",
            "INFO:distributed.scheduler:Register worker <WorkerState 'tcp://127.0.0.1:45551', name: 1, status: init, memory: 0, processing: 0>\n",
            "INFO:distributed.scheduler:Starting worker compute stream, tcp://127.0.0.1:45551\n",
            "INFO:distributed.core:Starting established connection to tcp://127.0.0.1:57320\n",
            "INFO:distributed.core:Connection to tcp://127.0.0.1:57320 has been closed.\n",
            "INFO:distributed.scheduler:Remove worker <WorkerState 'tcp://127.0.0.1:45551', name: 1, status: running, memory: 23, processing: 0> (stimulus_id='handle-worker-cleanup-1703417387.179309')\n",
            "INFO:distributed.nanny:Worker process 3679 was killed by signal 9\n",
            "WARNING:distributed.nanny:Restarting worker\n",
            "WARNING:distributed.nanny.memory:Worker tcp://127.0.0.1:33897 (pid=3651) exceeded 95% memory budget. Restarting...\n",
            "INFO:distributed.scheduler:Register worker <WorkerState 'tcp://127.0.0.1:41913', name: 1, status: init, memory: 0, processing: 0>\n",
            "INFO:distributed.scheduler:Starting worker compute stream, tcp://127.0.0.1:41913\n",
            "INFO:distributed.core:Starting established connection to tcp://127.0.0.1:50394\n",
            "INFO:distributed.nanny:Worker process 3651 was killed by signal 15\n",
            "INFO:distributed.core:Connection to tcp://127.0.0.1:57314 has been closed.\n",
            "INFO:distributed.scheduler:Remove worker <WorkerState 'tcp://127.0.0.1:33897', name: 0, status: running, memory: 27, processing: 2> (stimulus_id='handle-worker-cleanup-1703417393.0105972')\n",
            "ERROR:distributed.scheduler:Couldn't gather keys: {\"('read-parquet-fb49b699ac845d6e0cb6d86b1c970b76', 30)\": 'queued', \"('read-parquet-fb49b699ac845d6e0cb6d86b1c970b76', 10)\": 'processing', \"('read-parquet-fb49b699ac845d6e0cb6d86b1c970b76', 13)\": 'queued', \"('read-parquet-fb49b699ac845d6e0cb6d86b1c970b76', 47)\": 'queued', \"('read-parquet-fb49b699ac845d6e0cb6d86b1c970b76', 38)\": 'queued', \"('read-parquet-fb49b699ac845d6e0cb6d86b1c970b76', 1)\": 'queued', \"('read-parquet-fb49b699ac845d6e0cb6d86b1c970b76', 34)\": 'queued', \"('read-parquet-fb49b699ac845d6e0cb6d86b1c970b76', 32)\": 'queued', \"('read-parquet-fb49b699ac845d6e0cb6d86b1c970b76', 19)\": 'queued', \"('read-parquet-fb49b699ac845d6e0cb6d86b1c970b76', 23)\": 'queued', \"('read-parquet-fb49b699ac845d6e0cb6d86b1c970b76', 44)\": 'queued', \"('read-parquet-fb49b699ac845d6e0cb6d86b1c970b76', 15)\": 'queued', \"('read-parquet-fb49b699ac845d6e0cb6d86b1c970b76', 39)\": 'queued', \"('read-parquet-fb49b699ac845d6e0cb6d86b1c970b76', 0)\": 'queued', \"('read-parquet-fb49b699ac845d6e0cb6d86b1c970b76', 37)\": 'queued', \"('read-parquet-fb49b699ac845d6e0cb6d86b1c970b76', 25)\": 'queued', \"('read-parquet-fb49b699ac845d6e0cb6d86b1c970b76', 11)\": 'processing', \"('read-parquet-fb49b699ac845d6e0cb6d86b1c970b76', 12)\": 'queued', \"('read-parquet-fb49b699ac845d6e0cb6d86b1c970b76', 18)\": 'queued', \"('read-parquet-fb49b699ac845d6e0cb6d86b1c970b76', 20)\": 'queued', \"('read-parquet-fb49b699ac845d6e0cb6d86b1c970b76', 41)\": 'queued', \"('read-parquet-fb49b699ac845d6e0cb6d86b1c970b76', 35)\": 'queued', \"('read-parquet-fb49b699ac845d6e0cb6d86b1c970b76', 5)\": 'queued', \"('read-parquet-fb49b699ac845d6e0cb6d86b1c970b76', 16)\": 'queued', \"('read-parquet-fb49b699ac845d6e0cb6d86b1c970b76', 48)\": 'queued', \"('read-parquet-fb49b699ac845d6e0cb6d86b1c970b76', 14)\": 'queued', \"('read-parquet-fb49b699ac845d6e0cb6d86b1c970b76', 27)\": 'queued', \"('read-parquet-fb49b699ac845d6e0cb6d86b1c970b76', 6)\": 'queued', \"('read-parquet-fb49b699ac845d6e0cb6d86b1c970b76', 7)\": 'queued', \"('read-parquet-fb49b699ac845d6e0cb6d86b1c970b76', 24)\": 'queued', \"('read-parquet-fb49b699ac845d6e0cb6d86b1c970b76', 9)\": 'queued', \"('read-parquet-fb49b699ac845d6e0cb6d86b1c970b76', 31)\": 'queued', \"('read-parquet-fb49b699ac845d6e0cb6d86b1c970b76', 4)\": 'queued', \"('read-parquet-fb49b699ac845d6e0cb6d86b1c970b76', 22)\": 'queued', \"('read-parquet-fb49b699ac845d6e0cb6d86b1c970b76', 8)\": 'queued', \"('read-parquet-fb49b699ac845d6e0cb6d86b1c970b76', 29)\": 'queued', \"('read-parquet-fb49b699ac845d6e0cb6d86b1c970b76', 33)\": 'queued', \"('read-parquet-fb49b699ac845d6e0cb6d86b1c970b76', 26)\": 'queued', \"('read-parquet-fb49b699ac845d6e0cb6d86b1c970b76', 43)\": 'queued', \"('read-parquet-fb49b699ac845d6e0cb6d86b1c970b76', 42)\": 'queued', \"('read-parquet-fb49b699ac845d6e0cb6d86b1c970b76', 21)\": 'queued', \"('read-parquet-fb49b699ac845d6e0cb6d86b1c970b76', 28)\": 'queued', \"('read-parquet-fb49b699ac845d6e0cb6d86b1c970b76', 40)\": 'queued', \"('read-parquet-fb49b699ac845d6e0cb6d86b1c970b76', 3)\": 'queued', \"('read-parquet-fb49b699ac845d6e0cb6d86b1c970b76', 36)\": 'queued', \"('read-parquet-fb49b699ac845d6e0cb6d86b1c970b76', 45)\": 'queued', \"('read-parquet-fb49b699ac845d6e0cb6d86b1c970b76', 49)\": 'queued', \"('read-parquet-fb49b699ac845d6e0cb6d86b1c970b76', 2)\": 'queued', \"('read-parquet-fb49b699ac845d6e0cb6d86b1c970b76', 46)\": 'queued', \"('read-parquet-fb49b699ac845d6e0cb6d86b1c970b76', 17)\": 'queued'}\n",
            "WARNING:distributed.client:Couldn't gather 50 keys, rescheduling (\"('read-parquet-fb49b699ac845d6e0cb6d86b1c970b76', 30)\", \"('read-parquet-fb49b699ac845d6e0cb6d86b1c970b76', 10)\", \"('read-parquet-fb49b699ac845d6e0cb6d86b1c970b76', 13)\", \"('read-parquet-fb49b699ac845d6e0cb6d86b1c970b76', 47)\", \"('read-parquet-fb49b699ac845d6e0cb6d86b1c970b76', 38)\", \"('read-parquet-fb49b699ac845d6e0cb6d86b1c970b76', 1)\", \"('read-parquet-fb49b699ac845d6e0cb6d86b1c970b76', 34)\", \"('read-parquet-fb49b699ac845d6e0cb6d86b1c970b76', 32)\", \"('read-parquet-fb49b699ac845d6e0cb6d86b1c970b76', 19)\", \"('read-parquet-fb49b699ac845d6e0cb6d86b1c970b76', 23)\", \"('read-parquet-fb49b699ac845d6e0cb6d86b1c970b76', 44)\", \"('read-parquet-fb49b699ac845d6e0cb6d86b1c970b76', 15)\", \"('read-parquet-fb49b699ac845d6e0cb6d86b1c970b76', 39)\", \"('read-parquet-fb49b699ac845d6e0cb6d86b1c970b76', 0)\", \"('read-parquet-fb49b699ac845d6e0cb6d86b1c970b76', 37)\", \"('read-parquet-fb49b699ac845d6e0cb6d86b1c970b76', 25)\", \"('read-parquet-fb49b699ac845d6e0cb6d86b1c970b76', 11)\", \"('read-parquet-fb49b699ac845d6e0cb6d86b1c970b76', 12)\", \"('read-parquet-fb49b699ac845d6e0cb6d86b1c970b76', 18)\", \"('read-parquet-fb49b699ac845d6e0cb6d86b1c970b76', 20)\", \"('read-parquet-fb49b699ac845d6e0cb6d86b1c970b76', 41)\", \"('read-parquet-fb49b699ac845d6e0cb6d86b1c970b76', 35)\", \"('read-parquet-fb49b699ac845d6e0cb6d86b1c970b76', 5)\", \"('read-parquet-fb49b699ac845d6e0cb6d86b1c970b76', 16)\", \"('read-parquet-fb49b699ac845d6e0cb6d86b1c970b76', 48)\", \"('read-parquet-fb49b699ac845d6e0cb6d86b1c970b76', 14)\", \"('read-parquet-fb49b699ac845d6e0cb6d86b1c970b76', 27)\", \"('read-parquet-fb49b699ac845d6e0cb6d86b1c970b76', 6)\", \"('read-parquet-fb49b699ac845d6e0cb6d86b1c970b76', 7)\", \"('read-parquet-fb49b699ac845d6e0cb6d86b1c970b76', 24)\", \"('read-parquet-fb49b699ac845d6e0cb6d86b1c970b76', 9)\", \"('read-parquet-fb49b699ac845d6e0cb6d86b1c970b76', 31)\", \"('read-parquet-fb49b699ac845d6e0cb6d86b1c970b76', 4)\", \"('read-parquet-fb49b699ac845d6e0cb6d86b1c970b76', 22)\", \"('read-parquet-fb49b699ac845d6e0cb6d86b1c970b76', 8)\", \"('read-parquet-fb49b699ac845d6e0cb6d86b1c970b76', 29)\", \"('read-parquet-fb49b699ac845d6e0cb6d86b1c970b76', 33)\", \"('read-parquet-fb49b699ac845d6e0cb6d86b1c970b76', 26)\", \"('read-parquet-fb49b699ac845d6e0cb6d86b1c970b76', 43)\", \"('read-parquet-fb49b699ac845d6e0cb6d86b1c970b76', 42)\", \"('read-parquet-fb49b699ac845d6e0cb6d86b1c970b76', 21)\", \"('read-parquet-fb49b699ac845d6e0cb6d86b1c970b76', 28)\", \"('read-parquet-fb49b699ac845d6e0cb6d86b1c970b76', 40)\", \"('read-parquet-fb49b699ac845d6e0cb6d86b1c970b76', 3)\", \"('read-parquet-fb49b699ac845d6e0cb6d86b1c970b76', 36)\", \"('read-parquet-fb49b699ac845d6e0cb6d86b1c970b76', 45)\", \"('read-parquet-fb49b699ac845d6e0cb6d86b1c970b76', 49)\", \"('read-parquet-fb49b699ac845d6e0cb6d86b1c970b76', 2)\", \"('read-parquet-fb49b699ac845d6e0cb6d86b1c970b76', 46)\", \"('read-parquet-fb49b699ac845d6e0cb6d86b1c970b76', 17)\")\n",
            "WARNING:distributed.nanny:Restarting worker\n",
            "INFO:distributed.scheduler:Register worker <WorkerState 'tcp://127.0.0.1:35683', name: 0, status: init, memory: 0, processing: 0>\n",
            "INFO:distributed.scheduler:Starting worker compute stream, tcp://127.0.0.1:35683\n",
            "INFO:distributed.core:Starting established connection to tcp://127.0.0.1:50412\n",
            "INFO:distributed.core:Connection to tcp://127.0.0.1:50394 has been closed.\n",
            "INFO:distributed.scheduler:Remove worker <WorkerState 'tcp://127.0.0.1:41913', name: 1, status: running, memory: 4, processing: 2> (stimulus_id='handle-worker-cleanup-1703417399.8658655')\n",
            "INFO:distributed.core:Connection to tcp://127.0.0.1:50412 has been closed.\n",
            "INFO:distributed.scheduler:Remove worker <WorkerState 'tcp://127.0.0.1:35683', name: 0, status: running, memory: 5, processing: 2> (stimulus_id='handle-worker-cleanup-1703417399.8737679')\n",
            "INFO:distributed.scheduler:Lost all workers\n",
            "WARNING:distributed.scheduler:Received heartbeat from unregistered worker 'tcp://127.0.0.1:41913'.\n",
            "INFO:distributed.nanny:Closing Nanny gracefully at 'tcp://127.0.0.1:35459'. Reason: worker-handle-scheduler-connection-broken\n"
          ]
        },
        {
          "output_type": "error",
          "ename": "KeyboardInterrupt",
          "evalue": "ignored",
          "traceback": [
            "\u001b[0;31m---------------------------------------------------------------------------\u001b[0m",
            "\u001b[0;31mKeyboardInterrupt\u001b[0m                         Traceback (most recent call last)",
            "\u001b[0;32m<ipython-input-13-e265b297a57f>\u001b[0m in \u001b[0;36m<cell line: 1>\u001b[0;34m()\u001b[0m\n\u001b[0;32m----> 1\u001b[0;31m \u001b[0mddf\u001b[0m \u001b[0;34m=\u001b[0m \u001b[0mddf\u001b[0m\u001b[0;34m.\u001b[0m\u001b[0mcompute\u001b[0m\u001b[0;34m(\u001b[0m\u001b[0;34m)\u001b[0m\u001b[0;34m\u001b[0m\u001b[0;34m\u001b[0m\u001b[0m\n\u001b[0m\u001b[1;32m      2\u001b[0m \u001b[0mddf\u001b[0m \u001b[0;34m=\u001b[0m \u001b[0mddf\u001b[0m\u001b[0;34m.\u001b[0m\u001b[0msort_values\u001b[0m\u001b[0;34m(\u001b[0m\u001b[0;34m\"time\"\u001b[0m\u001b[0;34m)\u001b[0m\u001b[0;34m\u001b[0m\u001b[0;34m\u001b[0m\u001b[0m\n",
            "\u001b[0;32m/usr/local/lib/python3.10/dist-packages/dask/base.py\u001b[0m in \u001b[0;36mcompute\u001b[0;34m(self, **kwargs)\u001b[0m\n\u001b[1;32m    379\u001b[0m         \u001b[0mdask\u001b[0m\u001b[0;34m.\u001b[0m\u001b[0mcompute\u001b[0m\u001b[0;34m\u001b[0m\u001b[0;34m\u001b[0m\u001b[0m\n\u001b[1;32m    380\u001b[0m         \"\"\"\n\u001b[0;32m--> 381\u001b[0;31m         \u001b[0;34m(\u001b[0m\u001b[0mresult\u001b[0m\u001b[0;34m,\u001b[0m\u001b[0;34m)\u001b[0m \u001b[0;34m=\u001b[0m \u001b[0mcompute\u001b[0m\u001b[0;34m(\u001b[0m\u001b[0mself\u001b[0m\u001b[0;34m,\u001b[0m \u001b[0mtraverse\u001b[0m\u001b[0;34m=\u001b[0m\u001b[0;32mFalse\u001b[0m\u001b[0;34m,\u001b[0m \u001b[0;34m**\u001b[0m\u001b[0mkwargs\u001b[0m\u001b[0;34m)\u001b[0m\u001b[0;34m\u001b[0m\u001b[0;34m\u001b[0m\u001b[0m\n\u001b[0m\u001b[1;32m    382\u001b[0m         \u001b[0;32mreturn\u001b[0m \u001b[0mresult\u001b[0m\u001b[0;34m\u001b[0m\u001b[0;34m\u001b[0m\u001b[0m\n\u001b[1;32m    383\u001b[0m \u001b[0;34m\u001b[0m\u001b[0m\n",
            "\u001b[0;32m/usr/local/lib/python3.10/dist-packages/dask/base.py\u001b[0m in \u001b[0;36mcompute\u001b[0;34m(traverse, optimize_graph, scheduler, get, *args, **kwargs)\u001b[0m\n\u001b[1;32m    664\u001b[0m         \u001b[0mpostcomputes\u001b[0m\u001b[0;34m.\u001b[0m\u001b[0mappend\u001b[0m\u001b[0;34m(\u001b[0m\u001b[0mx\u001b[0m\u001b[0;34m.\u001b[0m\u001b[0m__dask_postcompute__\u001b[0m\u001b[0;34m(\u001b[0m\u001b[0;34m)\u001b[0m\u001b[0;34m)\u001b[0m\u001b[0;34m\u001b[0m\u001b[0;34m\u001b[0m\u001b[0m\n\u001b[1;32m    665\u001b[0m \u001b[0;34m\u001b[0m\u001b[0m\n\u001b[0;32m--> 666\u001b[0;31m     \u001b[0mresults\u001b[0m \u001b[0;34m=\u001b[0m \u001b[0mschedule\u001b[0m\u001b[0;34m(\u001b[0m\u001b[0mdsk\u001b[0m\u001b[0;34m,\u001b[0m \u001b[0mkeys\u001b[0m\u001b[0;34m,\u001b[0m \u001b[0;34m**\u001b[0m\u001b[0mkwargs\u001b[0m\u001b[0;34m)\u001b[0m\u001b[0;34m\u001b[0m\u001b[0;34m\u001b[0m\u001b[0m\n\u001b[0m\u001b[1;32m    667\u001b[0m     \u001b[0;32mreturn\u001b[0m \u001b[0mrepack\u001b[0m\u001b[0;34m(\u001b[0m\u001b[0;34m[\u001b[0m\u001b[0mf\u001b[0m\u001b[0;34m(\u001b[0m\u001b[0mr\u001b[0m\u001b[0;34m,\u001b[0m \u001b[0;34m*\u001b[0m\u001b[0ma\u001b[0m\u001b[0;34m)\u001b[0m \u001b[0;32mfor\u001b[0m \u001b[0mr\u001b[0m\u001b[0;34m,\u001b[0m \u001b[0;34m(\u001b[0m\u001b[0mf\u001b[0m\u001b[0;34m,\u001b[0m \u001b[0ma\u001b[0m\u001b[0;34m)\u001b[0m \u001b[0;32min\u001b[0m \u001b[0mzip\u001b[0m\u001b[0;34m(\u001b[0m\u001b[0mresults\u001b[0m\u001b[0;34m,\u001b[0m \u001b[0mpostcomputes\u001b[0m\u001b[0;34m)\u001b[0m\u001b[0;34m]\u001b[0m\u001b[0;34m)\u001b[0m\u001b[0;34m\u001b[0m\u001b[0;34m\u001b[0m\u001b[0m\n\u001b[1;32m    668\u001b[0m \u001b[0;34m\u001b[0m\u001b[0m\n",
            "\u001b[0;32m/usr/local/lib/python3.10/dist-packages/distributed/client.py\u001b[0m in \u001b[0;36mget\u001b[0;34m(self, dsk, keys, workers, allow_other_workers, resources, sync, asynchronous, direct, retries, priority, fifo_timeout, actors, **kwargs)\u001b[0m\n\u001b[1;32m   3276\u001b[0m                     \u001b[0mshould_rejoin\u001b[0m \u001b[0;34m=\u001b[0m \u001b[0;32mFalse\u001b[0m\u001b[0;34m\u001b[0m\u001b[0;34m\u001b[0m\u001b[0m\n\u001b[1;32m   3277\u001b[0m             \u001b[0;32mtry\u001b[0m\u001b[0;34m:\u001b[0m\u001b[0;34m\u001b[0m\u001b[0;34m\u001b[0m\u001b[0m\n\u001b[0;32m-> 3278\u001b[0;31m                 \u001b[0mresults\u001b[0m \u001b[0;34m=\u001b[0m \u001b[0mself\u001b[0m\u001b[0;34m.\u001b[0m\u001b[0mgather\u001b[0m\u001b[0;34m(\u001b[0m\u001b[0mpacked\u001b[0m\u001b[0;34m,\u001b[0m \u001b[0masynchronous\u001b[0m\u001b[0;34m=\u001b[0m\u001b[0masynchronous\u001b[0m\u001b[0;34m,\u001b[0m \u001b[0mdirect\u001b[0m\u001b[0;34m=\u001b[0m\u001b[0mdirect\u001b[0m\u001b[0;34m)\u001b[0m\u001b[0;34m\u001b[0m\u001b[0;34m\u001b[0m\u001b[0m\n\u001b[0m\u001b[1;32m   3279\u001b[0m             \u001b[0;32mfinally\u001b[0m\u001b[0;34m:\u001b[0m\u001b[0;34m\u001b[0m\u001b[0;34m\u001b[0m\u001b[0m\n\u001b[1;32m   3280\u001b[0m                 \u001b[0;32mfor\u001b[0m \u001b[0mf\u001b[0m \u001b[0;32min\u001b[0m \u001b[0mfutures\u001b[0m\u001b[0;34m.\u001b[0m\u001b[0mvalues\u001b[0m\u001b[0;34m(\u001b[0m\u001b[0;34m)\u001b[0m\u001b[0;34m:\u001b[0m\u001b[0;34m\u001b[0m\u001b[0;34m\u001b[0m\u001b[0m\n",
            "\u001b[0;32m/usr/local/lib/python3.10/dist-packages/distributed/client.py\u001b[0m in \u001b[0;36mgather\u001b[0;34m(self, futures, errors, direct, asynchronous)\u001b[0m\n\u001b[1;32m   2401\u001b[0m             \u001b[0;32mexcept\u001b[0m \u001b[0mValueError\u001b[0m\u001b[0;34m:\u001b[0m\u001b[0;34m\u001b[0m\u001b[0;34m\u001b[0m\u001b[0m\n\u001b[1;32m   2402\u001b[0m                 \u001b[0mlocal_worker\u001b[0m \u001b[0;34m=\u001b[0m \u001b[0;32mNone\u001b[0m\u001b[0;34m\u001b[0m\u001b[0;34m\u001b[0m\u001b[0m\n\u001b[0;32m-> 2403\u001b[0;31m             return self.sync(\n\u001b[0m\u001b[1;32m   2404\u001b[0m                 \u001b[0mself\u001b[0m\u001b[0;34m.\u001b[0m\u001b[0m_gather\u001b[0m\u001b[0;34m,\u001b[0m\u001b[0;34m\u001b[0m\u001b[0;34m\u001b[0m\u001b[0m\n\u001b[1;32m   2405\u001b[0m                 \u001b[0mfutures\u001b[0m\u001b[0;34m,\u001b[0m\u001b[0;34m\u001b[0m\u001b[0;34m\u001b[0m\u001b[0m\n",
            "\u001b[0;32m/usr/local/lib/python3.10/dist-packages/distributed/utils.py\u001b[0m in \u001b[0;36msync\u001b[0;34m(self, func, asynchronous, callback_timeout, *args, **kwargs)\u001b[0m\n\u001b[1;32m    357\u001b[0m             \u001b[0;32mreturn\u001b[0m \u001b[0mfuture\u001b[0m\u001b[0;34m\u001b[0m\u001b[0;34m\u001b[0m\u001b[0m\n\u001b[1;32m    358\u001b[0m         \u001b[0;32melse\u001b[0m\u001b[0;34m:\u001b[0m\u001b[0;34m\u001b[0m\u001b[0;34m\u001b[0m\u001b[0m\n\u001b[0;32m--> 359\u001b[0;31m             return sync(\n\u001b[0m\u001b[1;32m    360\u001b[0m                 \u001b[0mself\u001b[0m\u001b[0;34m.\u001b[0m\u001b[0mloop\u001b[0m\u001b[0;34m,\u001b[0m \u001b[0mfunc\u001b[0m\u001b[0;34m,\u001b[0m \u001b[0;34m*\u001b[0m\u001b[0margs\u001b[0m\u001b[0;34m,\u001b[0m \u001b[0mcallback_timeout\u001b[0m\u001b[0;34m=\u001b[0m\u001b[0mcallback_timeout\u001b[0m\u001b[0;34m,\u001b[0m \u001b[0;34m**\u001b[0m\u001b[0mkwargs\u001b[0m\u001b[0;34m\u001b[0m\u001b[0;34m\u001b[0m\u001b[0m\n\u001b[1;32m    361\u001b[0m             )\n",
            "\u001b[0;32m/usr/local/lib/python3.10/dist-packages/distributed/utils.py\u001b[0m in \u001b[0;36msync\u001b[0;34m(loop, func, callback_timeout, *args, **kwargs)\u001b[0m\n\u001b[1;32m    420\u001b[0m     \u001b[0;32melse\u001b[0m\u001b[0;34m:\u001b[0m\u001b[0;34m\u001b[0m\u001b[0;34m\u001b[0m\u001b[0m\n\u001b[1;32m    421\u001b[0m         \u001b[0;32mwhile\u001b[0m \u001b[0;32mnot\u001b[0m \u001b[0me\u001b[0m\u001b[0;34m.\u001b[0m\u001b[0mis_set\u001b[0m\u001b[0;34m(\u001b[0m\u001b[0;34m)\u001b[0m\u001b[0;34m:\u001b[0m\u001b[0;34m\u001b[0m\u001b[0;34m\u001b[0m\u001b[0m\n\u001b[0;32m--> 422\u001b[0;31m             \u001b[0mwait\u001b[0m\u001b[0;34m(\u001b[0m\u001b[0;36m10\u001b[0m\u001b[0;34m)\u001b[0m\u001b[0;34m\u001b[0m\u001b[0;34m\u001b[0m\u001b[0m\n\u001b[0m\u001b[1;32m    423\u001b[0m \u001b[0;34m\u001b[0m\u001b[0m\n\u001b[1;32m    424\u001b[0m     \u001b[0;32mif\u001b[0m \u001b[0merror\u001b[0m\u001b[0;34m:\u001b[0m\u001b[0;34m\u001b[0m\u001b[0;34m\u001b[0m\u001b[0m\n",
            "\u001b[0;32m/usr/local/lib/python3.10/dist-packages/distributed/utils.py\u001b[0m in \u001b[0;36mwait\u001b[0;34m(timeout)\u001b[0m\n\u001b[1;32m    409\u001b[0m     \u001b[0;32mdef\u001b[0m \u001b[0mwait\u001b[0m\u001b[0;34m(\u001b[0m\u001b[0mtimeout\u001b[0m\u001b[0;34m)\u001b[0m\u001b[0;34m:\u001b[0m\u001b[0;34m\u001b[0m\u001b[0;34m\u001b[0m\u001b[0m\n\u001b[1;32m    410\u001b[0m         \u001b[0;32mtry\u001b[0m\u001b[0;34m:\u001b[0m\u001b[0;34m\u001b[0m\u001b[0;34m\u001b[0m\u001b[0m\n\u001b[0;32m--> 411\u001b[0;31m             \u001b[0;32mreturn\u001b[0m \u001b[0me\u001b[0m\u001b[0;34m.\u001b[0m\u001b[0mwait\u001b[0m\u001b[0;34m(\u001b[0m\u001b[0mtimeout\u001b[0m\u001b[0;34m)\u001b[0m\u001b[0;34m\u001b[0m\u001b[0;34m\u001b[0m\u001b[0m\n\u001b[0m\u001b[1;32m    412\u001b[0m         \u001b[0;32mexcept\u001b[0m \u001b[0mKeyboardInterrupt\u001b[0m\u001b[0;34m:\u001b[0m\u001b[0;34m\u001b[0m\u001b[0;34m\u001b[0m\u001b[0m\n\u001b[1;32m    413\u001b[0m             \u001b[0mloop\u001b[0m\u001b[0;34m.\u001b[0m\u001b[0madd_callback\u001b[0m\u001b[0;34m(\u001b[0m\u001b[0mcancel\u001b[0m\u001b[0;34m)\u001b[0m\u001b[0;34m\u001b[0m\u001b[0;34m\u001b[0m\u001b[0m\n",
            "\u001b[0;32m/usr/lib/python3.10/threading.py\u001b[0m in \u001b[0;36mwait\u001b[0;34m(self, timeout)\u001b[0m\n\u001b[1;32m    605\u001b[0m             \u001b[0msignaled\u001b[0m \u001b[0;34m=\u001b[0m \u001b[0mself\u001b[0m\u001b[0;34m.\u001b[0m\u001b[0m_flag\u001b[0m\u001b[0;34m\u001b[0m\u001b[0;34m\u001b[0m\u001b[0m\n\u001b[1;32m    606\u001b[0m             \u001b[0;32mif\u001b[0m \u001b[0;32mnot\u001b[0m \u001b[0msignaled\u001b[0m\u001b[0;34m:\u001b[0m\u001b[0;34m\u001b[0m\u001b[0;34m\u001b[0m\u001b[0m\n\u001b[0;32m--> 607\u001b[0;31m                 \u001b[0msignaled\u001b[0m \u001b[0;34m=\u001b[0m \u001b[0mself\u001b[0m\u001b[0;34m.\u001b[0m\u001b[0m_cond\u001b[0m\u001b[0;34m.\u001b[0m\u001b[0mwait\u001b[0m\u001b[0;34m(\u001b[0m\u001b[0mtimeout\u001b[0m\u001b[0;34m)\u001b[0m\u001b[0;34m\u001b[0m\u001b[0;34m\u001b[0m\u001b[0m\n\u001b[0m\u001b[1;32m    608\u001b[0m             \u001b[0;32mreturn\u001b[0m \u001b[0msignaled\u001b[0m\u001b[0;34m\u001b[0m\u001b[0;34m\u001b[0m\u001b[0m\n\u001b[1;32m    609\u001b[0m \u001b[0;34m\u001b[0m\u001b[0m\n",
            "\u001b[0;32m/usr/lib/python3.10/threading.py\u001b[0m in \u001b[0;36mwait\u001b[0;34m(self, timeout)\u001b[0m\n\u001b[1;32m    322\u001b[0m             \u001b[0;32melse\u001b[0m\u001b[0;34m:\u001b[0m\u001b[0;34m\u001b[0m\u001b[0;34m\u001b[0m\u001b[0m\n\u001b[1;32m    323\u001b[0m                 \u001b[0;32mif\u001b[0m \u001b[0mtimeout\u001b[0m \u001b[0;34m>\u001b[0m \u001b[0;36m0\u001b[0m\u001b[0;34m:\u001b[0m\u001b[0;34m\u001b[0m\u001b[0;34m\u001b[0m\u001b[0m\n\u001b[0;32m--> 324\u001b[0;31m                     \u001b[0mgotit\u001b[0m \u001b[0;34m=\u001b[0m \u001b[0mwaiter\u001b[0m\u001b[0;34m.\u001b[0m\u001b[0macquire\u001b[0m\u001b[0;34m(\u001b[0m\u001b[0;32mTrue\u001b[0m\u001b[0;34m,\u001b[0m \u001b[0mtimeout\u001b[0m\u001b[0;34m)\u001b[0m\u001b[0;34m\u001b[0m\u001b[0;34m\u001b[0m\u001b[0m\n\u001b[0m\u001b[1;32m    325\u001b[0m                 \u001b[0;32melse\u001b[0m\u001b[0;34m:\u001b[0m\u001b[0;34m\u001b[0m\u001b[0;34m\u001b[0m\u001b[0m\n\u001b[1;32m    326\u001b[0m                     \u001b[0mgotit\u001b[0m \u001b[0;34m=\u001b[0m \u001b[0mwaiter\u001b[0m\u001b[0;34m.\u001b[0m\u001b[0macquire\u001b[0m\u001b[0;34m(\u001b[0m\u001b[0;32mFalse\u001b[0m\u001b[0;34m)\u001b[0m\u001b[0;34m\u001b[0m\u001b[0;34m\u001b[0m\u001b[0m\n",
            "\u001b[0;31mKeyboardInterrupt\u001b[0m: "
          ]
        }
      ],
      "source": [
        "ddf = ddf.compute()\n",
        "ddf = ddf.sort_values(\"time\")"
      ]
    },
    {
      "cell_type": "markdown",
      "metadata": {
        "id": "6SurJhZXHx0U"
      },
      "source": [
        "### Timedeltas zwischen Nachrichtenmeldungen\n",
        "\n",
        "\n",
        "\n",
        "Wir sehen, dass einige Nachrichten dupliziert vorkommen, d.h. mit einem Timedelta von 0 und mit derselben Überschrift etc. diese gilt es zu eliminieren."
      ]
    },
    {
      "cell_type": "code",
      "execution_count": null,
      "metadata": {
        "id": "NDJqz8MW5_xW"
      },
      "outputs": [],
      "source": [
        "tmp = ddf[[\"time\", \"stocks\"]]"
      ]
    },
    {
      "cell_type": "code",
      "execution_count": null,
      "metadata": {
        "id": "rZouQiwXHy0r"
      },
      "outputs": [],
      "source": [
        "#### Adding timedeltas to the data frame\n",
        "news_timedeltas = tmp.groupby(\"stocks\").transform(lambda x: x.diff())"
      ]
    },
    {
      "cell_type": "code",
      "execution_count": null,
      "metadata": {
        "id": "lrcTtcDj-UjE"
      },
      "outputs": [],
      "source": [
        "# ~3 minutes evaluates to true\n",
        "# (news_timedeltas.index == ddf.index).all()"
      ]
    },
    {
      "cell_type": "code",
      "execution_count": null,
      "metadata": {
        "id": "P77WnvamNhf-"
      },
      "outputs": [],
      "source": [
        "ddf.loc[:, \"timedelta\"] = news_timedeltas.time.fillna(pd.Timedelta(days=100))"
      ]
    },
    {
      "cell_type": "code",
      "execution_count": null,
      "metadata": {
        "id": "3Ij4ENbFQw7b"
      },
      "outputs": [],
      "source": [
        "news_timedeltas = ddf.timedelta"
      ]
    },
    {
      "cell_type": "code",
      "execution_count": null,
      "metadata": {
        "id": "sbnz32U8RFCj"
      },
      "outputs": [],
      "source": [
        "news_timedeltas.iloc[0].components"
      ]
    },
    {
      "cell_type": "code",
      "execution_count": null,
      "metadata": {
        "id": "zcSEhkw6JLHO"
      },
      "outputs": [],
      "source": [
        "same_day_timedeltas = news_timedeltas.apply(lambda x: x.components.days == 0)"
      ]
    },
    {
      "cell_type": "code",
      "execution_count": null,
      "metadata": {
        "id": "Y2wKSEQ4JT1E"
      },
      "outputs": [],
      "source": [
        "(same_day_timedeltas == 0).sum()"
      ]
    },
    {
      "cell_type": "code",
      "execution_count": null,
      "metadata": {
        "id": "xEOr6c8qsI7G"
      },
      "outputs": [],
      "source": [
        "same_hour_timedeltas = news_timedeltas.apply(lambda x: (x.components.days == 0) & \\\n",
        "                                               (x.components.hours == 0))"
      ]
    },
    {
      "cell_type": "code",
      "execution_count": null,
      "metadata": {
        "id": "K0wfw1X8sMxy"
      },
      "outputs": [],
      "source": [
        "print(same_hour_timedeltas.sum())"
      ]
    },
    {
      "cell_type": "code",
      "execution_count": null,
      "metadata": {
        "id": "L-KxzooAoIrp"
      },
      "outputs": [],
      "source": [
        "same_minute_timedeltas = news_timedeltas.apply(lambda x: (x.components.days == 0) & \\\n",
        "                                               (x.components.hours == 0) & \\\n",
        "                                               (x.components.minutes == 0))"
      ]
    },
    {
      "cell_type": "code",
      "execution_count": null,
      "metadata": {
        "id": "8-eIKdg7ogxA"
      },
      "outputs": [],
      "source": [
        "print(same_minute_timedeltas.sum())"
      ]
    },
    {
      "cell_type": "code",
      "execution_count": null,
      "metadata": {
        "id": "6cECO9zSxX6G"
      },
      "outputs": [],
      "source": [
        "same_day_ddf = ddf.loc[same_day_timedeltas]"
      ]
    },
    {
      "cell_type": "code",
      "execution_count": null,
      "metadata": {
        "id": "fcTg5C9lUyQk"
      },
      "outputs": [],
      "source": [
        "ddf.stocks.value_counts().describe()"
      ]
    },
    {
      "cell_type": "markdown",
      "metadata": {
        "id": "Bshj1secWQ3P"
      },
      "source": [
        "Bis zu 5k Nachrichten pro Firma, z.B. AT&T, was in 13 Jahren ca. einer Nachricht pro Tag entspricht. Wir wollen nicht das eine Firma mit vielen Junk-Nachrichten das Modell dominiert.\n",
        "\n",
        "Kategorisieren von Nachrichten (mit Text2Topic, wie Salbrechter?) und eliminieren von Business/Strategic etc.\n",
        "Im Falle von Text2Topic, versuche Estimates des Unternehmens von Dritten zu unterscheiden.\n",
        "\n",
        "Wichtig!!! Unterscheide zwischen LERN-Phase und PRODUKTIONS-Phase.\n",
        "Wir können z.B. CLS-Token in der Produktions-Phase vergleichen, in der Lern-Phase aber noch nicht.\n",
        "\n",
        "Text2Vec -> Business category evtl. entfernen-> Intrastock variance average"
      ]
    },
    {
      "cell_type": "markdown",
      "metadata": {
        "id": "XRABrPVOcaa9"
      },
      "source": [
        "## Nachrichten-Parsing\n"
      ]
    },
    {
      "cell_type": "code",
      "execution_count": null,
      "metadata": {
        "id": "8sBkgXJoMNGq"
      },
      "outputs": [],
      "source": [
        "ddf = dd.read_parquet(\"gcs://extreme-lore-398917-bzg/latest2/\")"
      ]
    },
    {
      "cell_type": "code",
      "execution_count": null,
      "metadata": {
        "id": "MUy_FfbYMNGq"
      },
      "outputs": [],
      "source": [
        "# TODO: Compare to ticker_name_mapper\n",
        "ticker_name_mapper_reduced = ddf[[\"stocks\", \"company_name\", \"short_name\"]].drop_duplicates(keep=\"first\").compute()\n",
        "ticker_name_mapper_reduced.to_parquet(\"data_shared/ticker_name_mapper_reduced.parquet\")"
      ]
    },
    {
      "cell_type": "markdown",
      "metadata": {
        "id": "wqQBHH3QMNGr"
      },
      "source": [
        "### Beispiel/ Untersuchung"
      ]
    },
    {
      "cell_type": "code",
      "execution_count": null,
      "metadata": {
        "id": "keF_8QNAkM36"
      },
      "outputs": [],
      "source": [
        "sample_partition = ddf.get_partition(20)\n",
        "y = sample_partition.head(5)\n",
        "y.loc[:, \"time\"] = pd.to_datetime(y.time).dt.tz_convert(\"UTC\")\n",
        "x = y.iloc[2]\n",
        "x.body"
      ]
    },
    {
      "cell_type": "code",
      "execution_count": null,
      "metadata": {
        "id": "mSAGuM_Acrwr"
      },
      "outputs": [],
      "source": [
        "res = client.submit(filter_body, row=x, logging=False)"
      ]
    },
    {
      "cell_type": "code",
      "execution_count": null,
      "metadata": {
        "id": "LieS1minMNGs"
      },
      "outputs": [],
      "source": [
        "res.result()"
      ]
    },
    {
      "cell_type": "markdown",
      "metadata": {
        "id": "wj6mofzeqcqB"
      },
      "source": [
        "### Anwenden der filter_body-Funktion auf alle Reihen:"
      ]
    },
    {
      "cell_type": "code",
      "execution_count": null,
      "metadata": {
        "id": "8tqzGy3bMNGs"
      },
      "outputs": [],
      "source": [
        "def handle_timezone(x):\n",
        "    try:\n",
        "        return x.tz_convert(\"US/Eastern\")\n",
        "    except Exception as e:\n",
        "        return x.tz_localize(\"US/Eastern\")"
      ]
    },
    {
      "cell_type": "code",
      "execution_count": null,
      "metadata": {
        "id": "qubEijBxMNGt"
      },
      "outputs": [],
      "source": [
        "# Still need to parse time correctly...\n",
        "ddf[\"time\"] = ddf[\"time\"].map(lambda x: handle_timezone(pd.to_datetime(x)), meta=pd.Series(dtype=\"datetime64[ns, US/Eastern]\"))"
      ]
    },
    {
      "cell_type": "code",
      "execution_count": null,
      "metadata": {
        "id": "KGlOJPEvFxuP"
      },
      "outputs": [],
      "source": [
        "par = ddf"
      ]
    },
    {
      "cell_type": "code",
      "execution_count": null,
      "metadata": {
        "id": "9gPPJDRKPv72"
      },
      "outputs": [],
      "source": [
        "par[\"parsed_body\"] = par.map_partitions(lambda y: y.apply(lambda x: filter_body(x),\n",
        "                                                axis=1),\n",
        "                                                meta=pd.Series(dtype=\"string\"))"
      ]
    },
    {
      "cell_type": "code",
      "execution_count": null,
      "metadata": {
        "id": "IU0NTpsVMNGu"
      },
      "outputs": [],
      "source": [
        "par = client.persist(par)"
      ]
    },
    {
      "cell_type": "code",
      "execution_count": null,
      "metadata": {
        "colab": {
          "background_save": true
        },
        "id": "vlCN3tKDfnw8"
      },
      "outputs": [],
      "source": [
        "# Do this only after having persisted, because this blocks the console making us unable to interact witth client/cluster\n",
        "# and can interfere with communication between client and scheduler.\n",
        "\n",
        "# VMManager needs to be redone... do os.system(kubectl delete dsk example), its a cleaner shutdown and also deletes nodes\n",
        "# with VMManager(cluster) as _:\n",
        "par.to_parquet(\"gcs://extreme-lore-398917-bzg/processed_news\",\n",
        "        storage_options={'token': token})"
      ]
    },
    {
      "cell_type": "code",
      "execution_count": null,
      "metadata": {
        "id": "9uPo1Ruo0N0q"
      },
      "outputs": [],
      "source": [
        "client # no connection, can we connect via ip??"
      ]
    },
    {
      "cell_type": "code",
      "execution_count": null,
      "metadata": {
        "id": "E6x3b8dPMNGv"
      },
      "outputs": [],
      "source": [
        "cluster # connection still here?"
      ]
    },
    {
      "cell_type": "markdown",
      "metadata": {
        "id": "Ihzi516YMNGv"
      },
      "source": [
        "## Filtern von Newstiteln"
      ]
    },
    {
      "cell_type": "code",
      "execution_count": null,
      "metadata": {
        "id": "cdbc2yRqMNGv"
      },
      "outputs": [],
      "source": []
    },
    {
      "cell_type": "markdown",
      "metadata": {
        "id": "v1DIhhqZMNGv"
      },
      "source": [
        "## Voranstellen von gefilterten Newstiteln an Nachrichtenkörper"
      ]
    },
    {
      "cell_type": "code",
      "execution_count": null,
      "metadata": {
        "id": "rFEujkJ-MNGw"
      },
      "outputs": [],
      "source": []
    },
    {
      "cell_type": "markdown",
      "metadata": {
        "id": "GaK5pLz4mRHF"
      },
      "source": [
        "## Analyse der durschnittlichen Tokenlänge"
      ]
    },
    {
      "cell_type": "code",
      "execution_count": null,
      "metadata": {
        "id": "Y192tnIfpIXj"
      },
      "outputs": [],
      "source": []
    },
    {
      "cell_type": "code",
      "execution_count": null,
      "metadata": {
        "id": "Y0bW6kYmpI1W"
      },
      "outputs": [],
      "source": []
    },
    {
      "cell_type": "code",
      "execution_count": null,
      "metadata": {
        "id": "VG5rnSiNpWVN"
      },
      "outputs": [],
      "source": []
    },
    {
      "cell_type": "code",
      "execution_count": null,
      "metadata": {
        "id": "8mc6lpRCpfVT"
      },
      "outputs": [],
      "source": []
    }
  ],
  "metadata": {
    "colab": {
      "machine_shape": "hm",
      "provenance": [],
      "toc_visible": true
    },
    "kernelspec": {
      "display_name": "Python 3",
      "name": "python3"
    },
    "language_info": {
      "codemirror_mode": {
        "name": "ipython",
        "version": 3
      },
      "file_extension": ".py",
      "mimetype": "text/x-python",
      "name": "python",
      "nbconvert_exporter": "python",
      "pygments_lexer": "ipython3",
      "version": "3.10.12"
    }
  },
  "nbformat": 4,
  "nbformat_minor": 0
}