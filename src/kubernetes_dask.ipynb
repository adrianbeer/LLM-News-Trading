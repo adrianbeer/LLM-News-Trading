{
 "cells": [
  {
   "cell_type": "code",
   "execution_count": 33,
   "metadata": {},
   "outputs": [],
   "source": [
    "from dask.distributed import Client\n",
    "from dask_kubernetes.operator import KubeCluster\n",
    "import subprocess"
   ]
  },
  {
   "cell_type": "code",
   "execution_count": 32,
   "metadata": {},
   "outputs": [
    {
     "name": "stderr",
     "output_type": "stream",
     "text": [
      "Resizing coolercluster...\n",
      "................................done.\n",
      "Updated [https://container.googleapis.com/v1/projects/extreme-lore-398917/zones/us-central1-a/clusters/coolercluster].\n"
     ]
    },
    {
     "data": {
      "text/plain": [
       "CompletedProcess(args='gcloud container clusters resize coolercluster --node-pool workerpool --num-nodes 0 --zone us-central1-a --quiet', returncode=0)"
      ]
     },
     "execution_count": 32,
     "metadata": {},
     "output_type": "execute_result"
    }
   ],
   "source": [
    "subprocess.run(\"gcloud container clusters resize coolercluster --node-pool workerpool --num-nodes 0 --zone us-central1-a --quiet\" , shell=True)"
   ]
  },
  {
   "cell_type": "code",
   "execution_count": 34,
   "metadata": {},
   "outputs": [],
   "source": [
    "class MyClient(Client):\n",
    "    \n",
    "    def __exit__(self, *args, **kwargs):\n",
    "        super().__exit__(*args, **kwargs)\n",
    "        subprocess.run(\"gcloud container clusters resize coolercluster --node-pool workerpool --num-nodes 0 --zone us-central1-a --quiet\" , shell=True)        "
   ]
  },
  {
   "cell_type": "code",
   "execution_count": 37,
   "metadata": {},
   "outputs": [
    {
     "data": {
      "application/vnd.jupyter.widget-view+json": {
       "model_id": "2c1a92ec7c7445e9a457e5c7cdf6a322",
       "version_major": 2,
       "version_minor": 0
      },
      "text/plain": [
       "Output()"
      ]
     },
     "metadata": {},
     "output_type": "display_data"
    }
   ],
   "source": [
    "cluster: KubeCluster = KubeCluster(name=\"mycluster\",\n",
    "                                   image='hermelinkluntjes/thesis:test',\n",
    "                                   n_workers=0)"
   ]
  },
  {
   "cell_type": "code",
   "execution_count": null,
   "metadata": {},
   "outputs": [
    {
     "name": "stderr",
     "output_type": "stream",
     "text": [
      "/home/beer/miniconda3/envs/test/lib/python3.10/site-packages/distributed/client.py:1391: VersionMismatchWarning: Mismatched versions found\n",
      "\n",
      "+-------------+--------+-----------+---------+\n",
      "| Package     | Client | Scheduler | Workers |\n",
      "+-------------+--------+-----------+---------+\n",
      "| cloudpickle | 3.0.0  | 2.2.1     | None    |\n",
      "| lz4         | None   | 4.3.2     | None    |\n",
      "| msgpack     | 1.0.7  | 1.0.6     | None    |\n",
      "| tornado     | 6.1    | 6.3.3     | None    |\n",
      "+-------------+--------+-----------+---------+\n",
      "  warnings.warn(version_module.VersionMismatchWarning(msg[0][\"warning\"]))\n"
     ]
    }
   ],
   "source": [
    "client = MyClient(cluster)"
   ]
  },
  {
   "cell_type": "code",
   "execution_count": 25,
   "metadata": {},
   "outputs": [
    {
     "data": {
      "text/html": [
       "<div>\n",
       "    <div style=\"width: 24px; height: 24px; background-color: #e1e1e1; border: 3px solid #9D9D9D; border-radius: 5px; position: absolute;\"> </div>\n",
       "    <div style=\"margin-left: 48px;\">\n",
       "        <h3 style=\"margin-bottom: 0px;\">Client</h3>\n",
       "        <p style=\"color: #9D9D9D; margin-bottom: 0px;\">Client-43821023-8540-11ee-ae19-f8a2d6e78b25</p>\n",
       "        <table style=\"width: 100%; text-align: left;\">\n",
       "\n",
       "        <tr>\n",
       "        \n",
       "            <td style=\"text-align: left;\"><strong>Connection method:</strong> Cluster object</td>\n",
       "            <td style=\"text-align: left;\"><strong>Cluster type:</strong> __main__.MyKubeCluster</td>\n",
       "        \n",
       "        </tr>\n",
       "\n",
       "        \n",
       "            <tr>\n",
       "                <td style=\"text-align: left;\">\n",
       "                    <strong>Dashboard: </strong> <a href=\"http://localhost:54256/status\" target=\"_blank\">http://localhost:54256/status</a>\n",
       "                </td>\n",
       "                <td style=\"text-align: left;\"></td>\n",
       "            </tr>\n",
       "        \n",
       "\n",
       "        </table>\n",
       "\n",
       "        \n",
       "\n",
       "        \n",
       "            <details>\n",
       "            <summary style=\"margin-bottom: 20px;\"><h3 style=\"display: inline;\">Cluster Info</h3></summary>\n",
       "            <div class=\"jp-RenderedHTMLCommon jp-RenderedHTML jp-mod-trusted jp-OutputArea-output\">\n",
       "    <div style=\"width: 24px; height: 24px; background-color: #e1e1e1; border: 3px solid #9D9D9D; border-radius: 5px; position: absolute;\">\n",
       "    </div>\n",
       "    <div style=\"margin-left: 48px;\">\n",
       "        <h3 style=\"margin-bottom: 0px; margin-top: 0px;\">MyKubeCluster</h3>\n",
       "        <p style=\"color: #9D9D9D; margin-bottom: 0px;\">mycluster</p>\n",
       "        <table style=\"width: 100%; text-align: left;\">\n",
       "            <tr>\n",
       "                <td style=\"text-align: left;\">\n",
       "                    <strong>Dashboard:</strong> <a href=\"http://localhost:54256/status\" target=\"_blank\">http://localhost:54256/status</a>\n",
       "                </td>\n",
       "                <td style=\"text-align: left;\">\n",
       "                    <strong>Workers:</strong> 0\n",
       "                </td>\n",
       "            </tr>\n",
       "            <tr>\n",
       "                <td style=\"text-align: left;\">\n",
       "                    <strong>Total threads:</strong> 0\n",
       "                </td>\n",
       "                <td style=\"text-align: left;\">\n",
       "                    <strong>Total memory:</strong> 0 B\n",
       "                </td>\n",
       "            </tr>\n",
       "            \n",
       "        </table>\n",
       "\n",
       "        <details>\n",
       "            <summary style=\"margin-bottom: 20px;\">\n",
       "                <h3 style=\"display: inline;\">Scheduler Info</h3>\n",
       "            </summary>\n",
       "\n",
       "            <div style=\"\">\n",
       "    <div>\n",
       "        <div style=\"width: 24px; height: 24px; background-color: #FFF7E5; border: 3px solid #FF6132; border-radius: 5px; position: absolute;\"> </div>\n",
       "        <div style=\"margin-left: 48px;\">\n",
       "            <h3 style=\"margin-bottom: 0px;\">Scheduler</h3>\n",
       "            <p style=\"color: #9D9D9D; margin-bottom: 0px;\">Scheduler-a5dd4e19-bfb7-4b54-a611-170518822d26</p>\n",
       "            <table style=\"width: 100%; text-align: left;\">\n",
       "                <tr>\n",
       "                    <td style=\"text-align: left;\">\n",
       "                        <strong>Comm:</strong> tcp://10.12.0.17:8786\n",
       "                    </td>\n",
       "                    <td style=\"text-align: left;\">\n",
       "                        <strong>Workers:</strong> 0\n",
       "                    </td>\n",
       "                </tr>\n",
       "                <tr>\n",
       "                    <td style=\"text-align: left;\">\n",
       "                        <strong>Dashboard:</strong> <a href=\"http://10.12.0.17:8787/status\" target=\"_blank\">http://10.12.0.17:8787/status</a>\n",
       "                    </td>\n",
       "                    <td style=\"text-align: left;\">\n",
       "                        <strong>Total threads:</strong> 0\n",
       "                    </td>\n",
       "                </tr>\n",
       "                <tr>\n",
       "                    <td style=\"text-align: left;\">\n",
       "                        <strong>Started:</strong> Just now\n",
       "                    </td>\n",
       "                    <td style=\"text-align: left;\">\n",
       "                        <strong>Total memory:</strong> 0 B\n",
       "                    </td>\n",
       "                </tr>\n",
       "            </table>\n",
       "        </div>\n",
       "    </div>\n",
       "\n",
       "    <details style=\"margin-left: 48px;\">\n",
       "        <summary style=\"margin-bottom: 20px;\">\n",
       "            <h3 style=\"display: inline;\">Workers</h3>\n",
       "        </summary>\n",
       "\n",
       "        \n",
       "\n",
       "    </details>\n",
       "</div>\n",
       "\n",
       "        </details>\n",
       "    </div>\n",
       "</div>\n",
       "            </details>\n",
       "        \n",
       "\n",
       "    </div>\n",
       "</div>"
      ],
      "text/plain": [
       "<Client: 'tcp://10.12.0.17:8786' processes=0 threads=0, memory=0 B>"
      ]
     },
     "execution_count": 25,
     "metadata": {},
     "output_type": "execute_result"
    }
   ],
   "source": [
    "# client.wait_for_workers(2)\n",
    "client"
   ]
  },
  {
   "cell_type": "code",
   "execution_count": 12,
   "metadata": {},
   "outputs": [],
   "source": [
    "worker_group_config = {\n",
    "   \"name\": \"highmem\",\n",
    "   \"n_workers\": 2,\n",
    "   \"resources\":{\n",
    "      \"requests\": \n",
    "         {\"memory\": \"6Gi\",\n",
    "          \"cpu\": \"3\"}\n",
    "      }\n",
    "}\n",
    "cluster.add_worker_group(**worker_group_config)"
   ]
  },
  {
   "cell_type": "code",
   "execution_count": 26,
   "metadata": {},
   "outputs": [
    {
     "name": "stderr",
     "output_type": "stream",
     "text": [
      "Task exception was never retrieved\n",
      "future: <Task finished name='Task-4997' coro=<PortForward._sync_sockets() done, defined at /home/beer/miniconda3/envs/test/lib/python3.10/site-packages/kr8s/_portforward.py:167> exception=ExceptionGroup('unhandled errors in a TaskGroup', [ConnectionClosedError('TCP socket closed')])>\n",
      "  + Exception Group Traceback (most recent call last):\n",
      "  |   File \"/home/beer/miniconda3/envs/test/lib/python3.10/site-packages/kr8s/_portforward.py\", line 171, in _sync_sockets\n",
      "  |     async with anyio.create_task_group() as tg:\n",
      "  |   File \"/home/beer/miniconda3/envs/test/lib/python3.10/site-packages/anyio/_backends/_asyncio.py\", line 664, in __aexit__\n",
      "  |     raise BaseExceptionGroup(\n",
      "  | exceptiongroup.ExceptionGroup: unhandled errors in a TaskGroup (1 sub-exception)\n",
      "  +-+---------------- 1 ----------------\n",
      "    | Traceback (most recent call last):\n",
      "    |   File \"/home/beer/miniconda3/envs/test/lib/python3.10/site-packages/kr8s/_portforward.py\", line 183, in _tcp_to_ws\n",
      "    |     raise ConnectionClosedError(\"TCP socket closed\")\n",
      "    | kr8s._exceptions.ConnectionClosedError: TCP socket closed\n",
      "    +------------------------------------\n",
      "Task exception was never retrieved\n",
      "future: <Task finished name='Task-4995' coro=<PortForward._sync_sockets() done, defined at /home/beer/miniconda3/envs/test/lib/python3.10/site-packages/kr8s/_portforward.py:167> exception=ExceptionGroup('unhandled errors in a TaskGroup', [ConnectionClosedError('TCP socket closed')])>\n",
      "  + Exception Group Traceback (most recent call last):\n",
      "  |   File \"/home/beer/miniconda3/envs/test/lib/python3.10/site-packages/kr8s/_portforward.py\", line 171, in _sync_sockets\n",
      "  |     async with anyio.create_task_group() as tg:\n",
      "  |   File \"/home/beer/miniconda3/envs/test/lib/python3.10/site-packages/anyio/_backends/_asyncio.py\", line 664, in __aexit__\n",
      "  |     raise BaseExceptionGroup(\n",
      "  | exceptiongroup.ExceptionGroup: unhandled errors in a TaskGroup (1 sub-exception)\n",
      "  +-+---------------- 1 ----------------\n",
      "    | Traceback (most recent call last):\n",
      "    |   File \"/home/beer/miniconda3/envs/test/lib/python3.10/site-packages/kr8s/_portforward.py\", line 183, in _tcp_to_ws\n",
      "    |     raise ConnectionClosedError(\"TCP socket closed\")\n",
      "    | kr8s._exceptions.ConnectionClosedError: TCP socket closed\n",
      "    +------------------------------------\n",
      "Task exception was never retrieved\n",
      "future: <Task finished name='Task-5018' coro=<PortForward._sync_sockets() done, defined at /home/beer/miniconda3/envs/test/lib/python3.10/site-packages/kr8s/_portforward.py:167> exception=ExceptionGroup('unhandled errors in a TaskGroup', [ConnectionClosedError('TCP socket closed')])>\n",
      "  + Exception Group Traceback (most recent call last):\n",
      "  |   File \"/home/beer/miniconda3/envs/test/lib/python3.10/site-packages/kr8s/_portforward.py\", line 171, in _sync_sockets\n",
      "  |     async with anyio.create_task_group() as tg:\n",
      "  |   File \"/home/beer/miniconda3/envs/test/lib/python3.10/site-packages/anyio/_backends/_asyncio.py\", line 664, in __aexit__\n",
      "  |     raise BaseExceptionGroup(\n",
      "  | exceptiongroup.ExceptionGroup: unhandled errors in a TaskGroup (1 sub-exception)\n",
      "  +-+---------------- 1 ----------------\n",
      "    | Traceback (most recent call last):\n",
      "    |   File \"/home/beer/miniconda3/envs/test/lib/python3.10/site-packages/kr8s/_portforward.py\", line 183, in _tcp_to_ws\n",
      "    |     raise ConnectionClosedError(\"TCP socket closed\")\n",
      "    | kr8s._exceptions.ConnectionClosedError: TCP socket closed\n",
      "    +------------------------------------\n"
     ]
    },
    {
     "ename": "NotFoundError",
     "evalue": "Object mycluster-highmem does not exist",
     "output_type": "error",
     "traceback": [
      "\u001b[0;31m---------------------------------------------------------------------------\u001b[0m",
      "\u001b[0;31mNotFoundError\u001b[0m                             Traceback (most recent call last)",
      "\u001b[1;32m/home/beer/Documents/GithubProjekte/trading_bot/src/kubernetes_dask.ipynb Cell 7\u001b[0m line \u001b[0;36m1\n\u001b[0;32m----> <a href='vscode-notebook-cell:/home/beer/Documents/GithubProjekte/trading_bot/src/kubernetes_dask.ipynb#W5sZmlsZQ%3D%3D?line=0'>1</a>\u001b[0m cluster\u001b[39m.\u001b[39;49mscale(\u001b[39m2\u001b[39;49m, worker_group\u001b[39m=\u001b[39;49m\u001b[39m\"\u001b[39;49m\u001b[39mhighmem\u001b[39;49m\u001b[39m\"\u001b[39;49m)\n",
      "File \u001b[0;32m~/miniconda3/envs/test/lib/python3.10/site-packages/dask_kubernetes/operator/kubecluster/kubecluster.py:729\u001b[0m, in \u001b[0;36mKubeCluster.scale\u001b[0;34m(self, n, worker_group)\u001b[0m\n\u001b[1;32m    713\u001b[0m \u001b[39mdef\u001b[39;00m \u001b[39mscale\u001b[39m(\u001b[39mself\u001b[39m, n, worker_group\u001b[39m=\u001b[39m\u001b[39m\"\u001b[39m\u001b[39mdefault\u001b[39m\u001b[39m\"\u001b[39m):\n\u001b[1;32m    714\u001b[0m \u001b[39m    \u001b[39m\u001b[39m\"\"\"Scale cluster to n workers\u001b[39;00m\n\u001b[1;32m    715\u001b[0m \n\u001b[1;32m    716\u001b[0m \u001b[39m    Parameters\u001b[39;00m\n\u001b[0;32m   (...)\u001b[0m\n\u001b[1;32m    726\u001b[0m \u001b[39m    >>> cluster.scale(7, worker_group=\"high-mem-workers\") # scale worker group high-mem-workers to seven workers\u001b[39;00m\n\u001b[1;32m    727\u001b[0m \u001b[39m    \"\"\"\u001b[39;00m\n\u001b[0;32m--> 729\u001b[0m     \u001b[39mreturn\u001b[39;00m \u001b[39mself\u001b[39;49m\u001b[39m.\u001b[39;49msync(\u001b[39mself\u001b[39;49m\u001b[39m.\u001b[39;49m_scale, n, worker_group)\n",
      "File \u001b[0;32m~/miniconda3/envs/test/lib/python3.10/site-packages/distributed/utils.py:357\u001b[0m, in \u001b[0;36mSyncMethodMixin.sync\u001b[0;34m(self, func, asynchronous, callback_timeout, *args, **kwargs)\u001b[0m\n\u001b[1;32m    355\u001b[0m     \u001b[39mreturn\u001b[39;00m future\n\u001b[1;32m    356\u001b[0m \u001b[39melse\u001b[39;00m:\n\u001b[0;32m--> 357\u001b[0m     \u001b[39mreturn\u001b[39;00m sync(\n\u001b[1;32m    358\u001b[0m         \u001b[39mself\u001b[39;49m\u001b[39m.\u001b[39;49mloop, func, \u001b[39m*\u001b[39;49margs, callback_timeout\u001b[39m=\u001b[39;49mcallback_timeout, \u001b[39m*\u001b[39;49m\u001b[39m*\u001b[39;49mkwargs\n\u001b[1;32m    359\u001b[0m     )\n",
      "File \u001b[0;32m~/miniconda3/envs/test/lib/python3.10/site-packages/distributed/utils.py:424\u001b[0m, in \u001b[0;36msync\u001b[0;34m(loop, func, callback_timeout, *args, **kwargs)\u001b[0m\n\u001b[1;32m    422\u001b[0m \u001b[39mif\u001b[39;00m error:\n\u001b[1;32m    423\u001b[0m     typ, exc, tb \u001b[39m=\u001b[39m error\n\u001b[0;32m--> 424\u001b[0m     \u001b[39mraise\u001b[39;00m exc\u001b[39m.\u001b[39mwith_traceback(tb)\n\u001b[1;32m    425\u001b[0m \u001b[39melse\u001b[39;00m:\n\u001b[1;32m    426\u001b[0m     \u001b[39mreturn\u001b[39;00m result\n",
      "File \u001b[0;32m~/miniconda3/envs/test/lib/python3.10/site-packages/distributed/utils.py:397\u001b[0m, in \u001b[0;36msync.<locals>.f\u001b[0;34m()\u001b[0m\n\u001b[1;32m    395\u001b[0m         future \u001b[39m=\u001b[39m wait_for(future, callback_timeout)\n\u001b[1;32m    396\u001b[0m     future \u001b[39m=\u001b[39m asyncio\u001b[39m.\u001b[39mensure_future(future)\n\u001b[0;32m--> 397\u001b[0m     result \u001b[39m=\u001b[39m \u001b[39myield\u001b[39;00m future\n\u001b[1;32m    398\u001b[0m \u001b[39mexcept\u001b[39;00m \u001b[39mException\u001b[39;00m:\n\u001b[1;32m    399\u001b[0m     error \u001b[39m=\u001b[39m sys\u001b[39m.\u001b[39mexc_info()\n",
      "File \u001b[0;32m~/miniconda3/envs/test/lib/python3.10/site-packages/tornado/gen.py:762\u001b[0m, in \u001b[0;36mRunner.run\u001b[0;34m(self)\u001b[0m\n\u001b[1;32m    759\u001b[0m exc_info \u001b[39m=\u001b[39m \u001b[39mNone\u001b[39;00m\n\u001b[1;32m    761\u001b[0m \u001b[39mtry\u001b[39;00m:\n\u001b[0;32m--> 762\u001b[0m     value \u001b[39m=\u001b[39m future\u001b[39m.\u001b[39;49mresult()\n\u001b[1;32m    763\u001b[0m \u001b[39mexcept\u001b[39;00m \u001b[39mException\u001b[39;00m:\n\u001b[1;32m    764\u001b[0m     exc_info \u001b[39m=\u001b[39m sys\u001b[39m.\u001b[39mexc_info()\n",
      "File \u001b[0;32m~/miniconda3/envs/test/lib/python3.10/site-packages/dask_kubernetes/operator/kubecluster/kubecluster.py:740\u001b[0m, in \u001b[0;36mKubeCluster._scale\u001b[0;34m(self, n, worker_group)\u001b[0m\n\u001b[1;32m    735\u001b[0m     \u001b[39mawait\u001b[39;00m autoscaler\u001b[39m.\u001b[39mdelete()\n\u001b[1;32m    737\u001b[0m wg \u001b[39m=\u001b[39m \u001b[39mawait\u001b[39;00m DaskWorkerGroup(\n\u001b[1;32m    738\u001b[0m     \u001b[39mf\u001b[39m\u001b[39m\"\u001b[39m\u001b[39m{\u001b[39;00m\u001b[39mself\u001b[39m\u001b[39m.\u001b[39mname\u001b[39m}\u001b[39;00m\u001b[39m-\u001b[39m\u001b[39m{\u001b[39;00mworker_group\u001b[39m}\u001b[39;00m\u001b[39m\"\u001b[39m, namespace\u001b[39m=\u001b[39m\u001b[39mself\u001b[39m\u001b[39m.\u001b[39mnamespace\n\u001b[1;32m    739\u001b[0m )\n\u001b[0;32m--> 740\u001b[0m \u001b[39mawait\u001b[39;00m wg\u001b[39m.\u001b[39mscale(n)\n\u001b[1;32m    741\u001b[0m \u001b[39mfor\u001b[39;00m instance \u001b[39min\u001b[39;00m \u001b[39mself\u001b[39m\u001b[39m.\u001b[39m_instances:\n\u001b[1;32m    742\u001b[0m     \u001b[39mif\u001b[39;00m instance\u001b[39m.\u001b[39mname \u001b[39m==\u001b[39m \u001b[39mself\u001b[39m\u001b[39m.\u001b[39mname:\n",
      "File \u001b[0;32m~/miniconda3/envs/test/lib/python3.10/site-packages/kr8s/_objects.py:307\u001b[0m, in \u001b[0;36mAPIObject.scale\u001b[0;34m(self, replicas)\u001b[0m\n\u001b[1;32m    305\u001b[0m \u001b[39mif\u001b[39;00m \u001b[39mnot\u001b[39;00m \u001b[39mself\u001b[39m\u001b[39m.\u001b[39mscalable:\n\u001b[1;32m    306\u001b[0m     \u001b[39mraise\u001b[39;00m \u001b[39mNotImplementedError\u001b[39;00m(\u001b[39mf\u001b[39m\u001b[39m\"\u001b[39m\u001b[39m{\u001b[39;00m\u001b[39mself\u001b[39m\u001b[39m.\u001b[39mkind\u001b[39m}\u001b[39;00m\u001b[39m is not scalable\u001b[39m\u001b[39m\"\u001b[39m)\n\u001b[0;32m--> 307\u001b[0m \u001b[39mawait\u001b[39;00m \u001b[39mself\u001b[39m\u001b[39m.\u001b[39m_exists(ensure\u001b[39m=\u001b[39m\u001b[39mTrue\u001b[39;00m)\n\u001b[1;32m    308\u001b[0m \u001b[39mawait\u001b[39;00m \u001b[39mself\u001b[39m\u001b[39m.\u001b[39m_patch({\u001b[39m\"\u001b[39m\u001b[39mspec\u001b[39m\u001b[39m\"\u001b[39m: dot_to_nested_dict(\u001b[39mself\u001b[39m\u001b[39m.\u001b[39mscalable_spec, replicas)})\n\u001b[1;32m    309\u001b[0m \u001b[39mwhile\u001b[39;00m \u001b[39mself\u001b[39m\u001b[39m.\u001b[39mreplicas \u001b[39m!=\u001b[39m replicas:\n",
      "File \u001b[0;32m~/miniconda3/envs/test/lib/python3.10/site-packages/kr8s/_objects.py:227\u001b[0m, in \u001b[0;36mAPIObject._exists\u001b[0;34m(self, ensure)\u001b[0m\n\u001b[1;32m    225\u001b[0m     \u001b[39mreturn\u001b[39;00m \u001b[39mTrue\u001b[39;00m\n\u001b[1;32m    226\u001b[0m \u001b[39mif\u001b[39;00m ensure:\n\u001b[0;32m--> 227\u001b[0m     \u001b[39mraise\u001b[39;00m NotFoundError(\u001b[39mf\u001b[39m\u001b[39m\"\u001b[39m\u001b[39mObject \u001b[39m\u001b[39m{\u001b[39;00m\u001b[39mself\u001b[39m\u001b[39m.\u001b[39mname\u001b[39m}\u001b[39;00m\u001b[39m does not exist\u001b[39m\u001b[39m\"\u001b[39m)\n\u001b[1;32m    228\u001b[0m \u001b[39mreturn\u001b[39;00m \u001b[39mFalse\u001b[39;00m\n",
      "\u001b[0;31mNotFoundError\u001b[0m: Object mycluster-highmem does not exist"
     ]
    }
   ],
   "source": [
    "cluster.scale(2, worker_group=\"highmem\")"
   ]
  },
  {
   "cell_type": "code",
   "execution_count": null,
   "metadata": {},
   "outputs": [
    {
     "name": "stderr",
     "output_type": "stream",
     "text": [
      "Task exception was never retrieved\n",
      "future: <Task finished name='Task-4815' coro=<PortForward._sync_sockets() done, defined at /home/beer/miniconda3/envs/test/lib/python3.10/site-packages/kr8s/_portforward.py:167> exception=HTTPStatusError(\"Client error '401 Unauthorized' for url 'https://34.30.34.80/api/v1/namespaces/default/pods?labelSelector=dask.org%2Fcluster-name%3Dmycluster%2Cdask.org%2Fcomponent%3Dscheduler'\\nFor more information check: https://developer.mozilla.org/en-US/docs/Web/HTTP/Status/401\")>\n",
      "Traceback (most recent call last):\n",
      "  File \"/home/beer/miniconda3/envs/test/lib/python3.10/site-packages/kr8s/_portforward.py\", line 170, in _sync_sockets\n",
      "    async with self._connect_websocket() as ws:\n",
      "  File \"/home/beer/miniconda3/envs/test/lib/python3.10/contextlib.py\", line 199, in __aenter__\n",
      "    return await anext(self.gen)\n",
      "  File \"/home/beer/miniconda3/envs/test/lib/python3.10/site-packages/kr8s/_portforward.py\", line 147, in _connect_websocket\n",
      "    self.pod = await self._select_pod()\n",
      "  File \"/home/beer/miniconda3/envs/test/lib/python3.10/site-packages/kr8s/_portforward.py\", line 137, in _select_pod\n",
      "    return random.choice(await self._resource.ready_pods())\n",
      "  File \"/home/beer/miniconda3/envs/test/lib/python3.10/site-packages/kr8s/_objects.py\", line 885, in ready_pods\n",
      "    return await self._ready_pods()\n",
      "  File \"/home/beer/miniconda3/envs/test/lib/python3.10/site-packages/kr8s/_objects.py\", line 889, in _ready_pods\n",
      "    pods = await self.api._get(\n",
      "  File \"/home/beer/miniconda3/envs/test/lib/python3.10/site-packages/kr8s/_api.py\", line 323, in _get\n",
      "    async with self._get_kind(\n",
      "  File \"/home/beer/miniconda3/envs/test/lib/python3.10/contextlib.py\", line 199, in __aenter__\n",
      "    return await anext(self.gen)\n",
      "  File \"/home/beer/miniconda3/envs/test/lib/python3.10/site-packages/kr8s/_api.py\", line 252, in _get_kind\n",
      "    async with self.call_api(\n",
      "  File \"/home/beer/miniconda3/envs/test/lib/python3.10/contextlib.py\", line 199, in __aenter__\n",
      "    return await anext(self.gen)\n",
      "  File \"/home/beer/miniconda3/envs/test/lib/python3.10/site-packages/kr8s/_api.py\", line 135, in call_api\n",
      "    response.raise_for_status()\n",
      "  File \"/home/beer/miniconda3/envs/test/lib/python3.10/site-packages/httpx/_models.py\", line 749, in raise_for_status\n",
      "    raise HTTPStatusError(message, request=request, response=self)\n",
      "httpx.HTTPStatusError: Client error '401 Unauthorized' for url 'https://34.30.34.80/api/v1/namespaces/default/pods?labelSelector=dask.org%2Fcluster-name%3Dmycluster%2Cdask.org%2Fcomponent%3Dscheduler'\n",
      "For more information check: https://developer.mozilla.org/en-US/docs/Web/HTTP/Status/401\n",
      "Task exception was never retrieved\n",
      "future: <Task finished name='Task-4822' coro=<PortForward._sync_sockets() done, defined at /home/beer/miniconda3/envs/test/lib/python3.10/site-packages/kr8s/_portforward.py:167> exception=HTTPStatusError(\"Client error '401 Unauthorized' for url 'https://34.30.34.80/api/v1/namespaces/default/pods?labelSelector=dask.org%2Fcluster-name%3Dmycluster%2Cdask.org%2Fcomponent%3Dscheduler'\\nFor more information check: https://developer.mozilla.org/en-US/docs/Web/HTTP/Status/401\")>\n",
      "Traceback (most recent call last):\n",
      "  File \"/home/beer/miniconda3/envs/test/lib/python3.10/site-packages/kr8s/_portforward.py\", line 170, in _sync_sockets\n",
      "    async with self._connect_websocket() as ws:\n",
      "  File \"/home/beer/miniconda3/envs/test/lib/python3.10/contextlib.py\", line 199, in __aenter__\n",
      "    return await anext(self.gen)\n",
      "  File \"/home/beer/miniconda3/envs/test/lib/python3.10/site-packages/kr8s/_portforward.py\", line 147, in _connect_websocket\n",
      "    self.pod = await self._select_pod()\n",
      "  File \"/home/beer/miniconda3/envs/test/lib/python3.10/site-packages/kr8s/_portforward.py\", line 137, in _select_pod\n",
      "    return random.choice(await self._resource.ready_pods())\n",
      "  File \"/home/beer/miniconda3/envs/test/lib/python3.10/site-packages/kr8s/_objects.py\", line 885, in ready_pods\n",
      "    return await self._ready_pods()\n",
      "  File \"/home/beer/miniconda3/envs/test/lib/python3.10/site-packages/kr8s/_objects.py\", line 889, in _ready_pods\n",
      "    pods = await self.api._get(\n",
      "  File \"/home/beer/miniconda3/envs/test/lib/python3.10/site-packages/kr8s/_api.py\", line 323, in _get\n",
      "    async with self._get_kind(\n",
      "  File \"/home/beer/miniconda3/envs/test/lib/python3.10/contextlib.py\", line 199, in __aenter__\n",
      "    return await anext(self.gen)\n",
      "  File \"/home/beer/miniconda3/envs/test/lib/python3.10/site-packages/kr8s/_api.py\", line 252, in _get_kind\n",
      "    async with self.call_api(\n",
      "  File \"/home/beer/miniconda3/envs/test/lib/python3.10/contextlib.py\", line 199, in __aenter__\n",
      "    return await anext(self.gen)\n",
      "  File \"/home/beer/miniconda3/envs/test/lib/python3.10/site-packages/kr8s/_api.py\", line 135, in call_api\n",
      "    response.raise_for_status()\n",
      "  File \"/home/beer/miniconda3/envs/test/lib/python3.10/site-packages/httpx/_models.py\", line 749, in raise_for_status\n",
      "    raise HTTPStatusError(message, request=request, response=self)\n",
      "httpx.HTTPStatusError: Client error '401 Unauthorized' for url 'https://34.30.34.80/api/v1/namespaces/default/pods?labelSelector=dask.org%2Fcluster-name%3Dmycluster%2Cdask.org%2Fcomponent%3Dscheduler'\n",
      "For more information check: https://developer.mozilla.org/en-US/docs/Web/HTTP/Status/401\n"
     ]
    }
   ],
   "source": [
    "cluster.scale(0, worker_group=\"highmem\")"
   ]
  },
  {
   "cell_type": "code",
   "execution_count": 17,
   "metadata": {},
   "outputs": [
    {
     "name": "stderr",
     "output_type": "stream",
     "text": [
      "Task exception was never retrieved\n",
      "future: <Task finished name='Task-4829' coro=<PortForward._sync_sockets() done, defined at /home/beer/miniconda3/envs/test/lib/python3.10/site-packages/kr8s/_portforward.py:167> exception=HTTPStatusError(\"Client error '401 Unauthorized' for url 'https://34.30.34.80/api/v1/namespaces/default/pods?labelSelector=dask.org%2Fcluster-name%3Dmycluster%2Cdask.org%2Fcomponent%3Dscheduler'\\nFor more information check: https://developer.mozilla.org/en-US/docs/Web/HTTP/Status/401\")>\n",
      "Traceback (most recent call last):\n",
      "  File \"/home/beer/miniconda3/envs/test/lib/python3.10/site-packages/kr8s/_portforward.py\", line 170, in _sync_sockets\n",
      "    async with self._connect_websocket() as ws:\n",
      "  File \"/home/beer/miniconda3/envs/test/lib/python3.10/contextlib.py\", line 199, in __aenter__\n",
      "    return await anext(self.gen)\n",
      "  File \"/home/beer/miniconda3/envs/test/lib/python3.10/site-packages/kr8s/_portforward.py\", line 147, in _connect_websocket\n",
      "    self.pod = await self._select_pod()\n",
      "  File \"/home/beer/miniconda3/envs/test/lib/python3.10/site-packages/kr8s/_portforward.py\", line 137, in _select_pod\n",
      "    return random.choice(await self._resource.ready_pods())\n",
      "  File \"/home/beer/miniconda3/envs/test/lib/python3.10/site-packages/kr8s/_objects.py\", line 885, in ready_pods\n",
      "    return await self._ready_pods()\n",
      "  File \"/home/beer/miniconda3/envs/test/lib/python3.10/site-packages/kr8s/_objects.py\", line 889, in _ready_pods\n",
      "    pods = await self.api._get(\n",
      "  File \"/home/beer/miniconda3/envs/test/lib/python3.10/site-packages/kr8s/_api.py\", line 323, in _get\n",
      "    async with self._get_kind(\n",
      "  File \"/home/beer/miniconda3/envs/test/lib/python3.10/contextlib.py\", line 199, in __aenter__\n",
      "    return await anext(self.gen)\n",
      "  File \"/home/beer/miniconda3/envs/test/lib/python3.10/site-packages/kr8s/_api.py\", line 252, in _get_kind\n",
      "    async with self.call_api(\n",
      "  File \"/home/beer/miniconda3/envs/test/lib/python3.10/contextlib.py\", line 199, in __aenter__\n",
      "    return await anext(self.gen)\n",
      "  File \"/home/beer/miniconda3/envs/test/lib/python3.10/site-packages/kr8s/_api.py\", line 135, in call_api\n",
      "    response.raise_for_status()\n",
      "  File \"/home/beer/miniconda3/envs/test/lib/python3.10/site-packages/httpx/_models.py\", line 749, in raise_for_status\n",
      "    raise HTTPStatusError(message, request=request, response=self)\n",
      "httpx.HTTPStatusError: Client error '401 Unauthorized' for url 'https://34.30.34.80/api/v1/namespaces/default/pods?labelSelector=dask.org%2Fcluster-name%3Dmycluster%2Cdask.org%2Fcomponent%3Dscheduler'\n",
      "For more information check: https://developer.mozilla.org/en-US/docs/Web/HTTP/Status/401\n"
     ]
    }
   ],
   "source": [
    "cluster.delete_worker_group(\"highmem\")"
   ]
  },
  {
   "cell_type": "code",
   "execution_count": 27,
   "metadata": {},
   "outputs": [
    {
     "name": "stdout",
     "output_type": "stream",
     "text": [
      "MyKubeCluster(mycluster, 'tcp://localhost:55279', workers=0, threads=0, memory=0 B)\n"
     ]
    },
    {
     "ename": "RuntimeError",
     "evalue": "super(): no arguments",
     "output_type": "error",
     "traceback": [
      "\u001b[0;31m---------------------------------------------------------------------------\u001b[0m",
      "\u001b[0;31mRuntimeError\u001b[0m                              Traceback (most recent call last)",
      "\u001b[1;32m/home/beer/Documents/GithubProjekte/trading_bot/src/kubernetes_dask.ipynb Cell 10\u001b[0m line \u001b[0;36m1\n\u001b[0;32m----> <a href='vscode-notebook-cell:/home/beer/Documents/GithubProjekte/trading_bot/src/kubernetes_dask.ipynb#X13sZmlsZQ%3D%3D?line=0'>1</a>\u001b[0m \u001b[39mwith\u001b[39;00m cluster \u001b[39mas\u001b[39;00m  c:\n\u001b[1;32m      <a href='vscode-notebook-cell:/home/beer/Documents/GithubProjekte/trading_bot/src/kubernetes_dask.ipynb#X13sZmlsZQ%3D%3D?line=1'>2</a>\u001b[0m     \u001b[39mprint\u001b[39m(c)\n",
      "\u001b[1;32m/home/beer/Documents/GithubProjekte/trading_bot/src/kubernetes_dask.ipynb Cell 10\u001b[0m line \u001b[0;36m4\n\u001b[1;32m      <a href='vscode-notebook-cell:/home/beer/Documents/GithubProjekte/trading_bot/src/kubernetes_dask.ipynb#X13sZmlsZQ%3D%3D?line=2'>3</a>\u001b[0m \u001b[39mdef\u001b[39;00m \u001b[39m__exit__\u001b[39m(\u001b[39m*\u001b[39margs, \u001b[39m*\u001b[39m\u001b[39m*\u001b[39mkwargs):\n\u001b[0;32m----> <a href='vscode-notebook-cell:/home/beer/Documents/GithubProjekte/trading_bot/src/kubernetes_dask.ipynb#X13sZmlsZQ%3D%3D?line=3'>4</a>\u001b[0m     x \u001b[39m=\u001b[39m \u001b[39msuper\u001b[39;49m()\u001b[39m.\u001b[39m\u001b[39m__exit__\u001b[39m(\u001b[39m*\u001b[39margs, \u001b[39m*\u001b[39m\u001b[39m*\u001b[39mkwargs)\n\u001b[1;32m      <a href='vscode-notebook-cell:/home/beer/Documents/GithubProjekte/trading_bot/src/kubernetes_dask.ipynb#X13sZmlsZQ%3D%3D?line=4'>5</a>\u001b[0m     subprocess\u001b[39m.\u001b[39mrun(\u001b[39m\"\u001b[39m\u001b[39mgcloud container clusters resize coolercluster --node-pool workerpool --num-nodes 0\u001b[39m\u001b[39m\"\u001b[39m)\n",
      "\u001b[0;31mRuntimeError\u001b[0m: super(): no arguments"
     ]
    }
   ],
   "source": [
    "with cluster as  c:\n",
    "    print(c)"
   ]
  },
  {
   "cell_type": "code",
   "execution_count": null,
   "metadata": {},
   "outputs": [],
   "source": []
  }
 ],
 "metadata": {
  "kernelspec": {
   "display_name": "test",
   "language": "python",
   "name": "python3"
  },
  "language_info": {
   "codemirror_mode": {
    "name": "ipython",
    "version": 3
   },
   "file_extension": ".py",
   "mimetype": "text/x-python",
   "name": "python",
   "nbconvert_exporter": "python",
   "pygments_lexer": "ipython3",
   "version": "3.10.12"
  }
 },
 "nbformat": 4,
 "nbformat_minor": 2
}
