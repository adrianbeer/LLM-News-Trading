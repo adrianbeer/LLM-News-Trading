{
 "cells": [
  {
   "cell_type": "code",
   "execution_count": null,
   "metadata": {},
   "outputs": [],
   "source": [
    "from dask.distributed import Client\n",
    "from dask_kubernetes.operator import KubeCluster\n",
    "from src.cloud_manager import VMManager"
   ]
  },
  {
   "cell_type": "code",
   "execution_count": null,
   "metadata": {},
   "outputs": [],
   "source": [
    "cluster: KubeCluster = KubeCluster(name=\"mycluster\",\n",
    "                                   image='hermelinkluntjes/thesis:test',\n",
    "                                   n_workers=0)\n",
    "client = Client(cluster)\n",
    "client"
   ]
  },
  {
   "cell_type": "code",
   "execution_count": null,
   "metadata": {},
   "outputs": [],
   "source": [
    "worker_group_config = {\n",
    "   \"name\": \"highmem\",\n",
    "   \"n_workers\": 2,\n",
    "   \"resources\":{\n",
    "      \"requests\": \n",
    "         {\"memory\": \"6Gi\",\n",
    "          \"cpu\": \"3\"}\n",
    "      }\n",
    "}\n",
    "cluster.add_worker_group(**worker_group_config)"
   ]
  },
  {
   "cell_type": "code",
   "execution_count": null,
   "metadata": {},
   "outputs": [],
   "source": [
    "cluster.scale(2, worker_group=\"highmem\")\n",
    "# Dont scale down while cluster scales up -> makes for errors\n",
    "client.wait_for_workers(2)"
   ]
  },
  {
   "cell_type": "code",
   "execution_count": null,
   "metadata": {},
   "outputs": [],
   "source": [
    "with VMManager(cluster) as vmmanager:\n",
    "    print(vmmanager.cluster)"
   ]
  }
 ],
 "metadata": {
  "kernelspec": {
   "display_name": "test",
   "language": "python",
   "name": "python3"
  },
  "language_info": {
   "codemirror_mode": {
    "name": "ipython",
    "version": 3
   },
   "file_extension": ".py",
   "mimetype": "text/x-python",
   "name": "python",
   "nbconvert_exporter": "python",
   "pygments_lexer": "ipython3",
   "version": "3.10.12"
  }
 },
 "nbformat": 4,
 "nbformat_minor": 2
}
