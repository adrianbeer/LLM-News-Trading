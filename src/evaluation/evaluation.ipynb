{
 "cells": [
  {
   "cell_type": "code",
   "execution_count": null,
   "metadata": {},
   "outputs": [],
   "source": [
    "%load_ext autoreload\n",
    "%autoreload 2\n",
    "import torch\n",
    "from src.model.neural_network import BERTClassifier, predict\n",
    "from src.model.data_loading import get_data_loader_from_dataset\n",
    "from src.config import config, MODEL_CONFIG\n",
    "import numpy as np\n",
    "import pandas as pd\n",
    "import time\n",
    "import plotly.graph_objects as go\n",
    "import plotly.express as px\n",
    "from lightning import Trainer"
   ]
  },
  {
   "cell_type": "code",
   "execution_count": null,
   "metadata": {},
   "outputs": [],
   "source": [
    "# Settings\n",
    "BATCH_SIZE = 16\n",
    "target_col_name = MODEL_CONFIG.target_col_name"
   ]
  },
  {
   "cell_type": "code",
   "execution_count": null,
   "metadata": {},
   "outputs": [],
   "source": [
    "from model.data_loading import CustomDataModule\n",
    "\n",
    "\n",
    "dataset = pd.read_parquet(config.data.merged)\n",
    "\n",
    "torch.cuda.empty_cache()\n",
    "dm = CustomDataModule(news_data_path=config.data.learning_dataset, \n",
    "                      input_ids_path=config.data.benzinga.input_ids, \n",
    "                      masks_path=config.data.benzinga.masks, \n",
    "                      batch_size=2,\n",
    "                      target_col_name=target_col_name)"
   ]
  },
  {
   "cell_type": "code",
   "execution_count": null,
   "metadata": {},
   "outputs": [],
   "source": [
    "model = BERTClassifier.load_from_checkpoint(\"/path/to/checkpoint.ckpt\")\n",
    "\n",
    "# disable randomness, dropout, etc...\n",
    "model.eval()\n",
    "\n",
    "with torch.no_grad():\n",
    "    y_hat = model(data_loader)"
   ]
  },
  {
   "cell_type": "code",
   "execution_count": null,
   "metadata": {},
   "outputs": [],
   "source": []
  },
  {
   "cell_type": "code",
   "execution_count": null,
   "metadata": {},
   "outputs": [],
   "source": [
    "start = time.time()\n",
    "\n",
    "dataset.loc[:, \"fcst\"] = predictions\n",
    "\n",
    "end = time.time()\n",
    "print(f\"{end-start:.2f}s\")"
   ]
  },
  {
   "attachments": {},
   "cell_type": "markdown",
   "metadata": {},
   "source": [
    "# Regression Task Performance"
   ]
  },
  {
   "cell_type": "code",
   "execution_count": null,
   "metadata": {},
   "outputs": [],
   "source": [
    "test_labels = dataset.loc[:, MODEL_CONFIG.target_col_name].tolist()\n",
    "\n",
    "print(f\"Length of evaluation set: {len(y_pred_scaled)}\")\n",
    "print(\"Vanilla results:\")\n",
    "y_hat = y_pred_scaled\n",
    "y = np.array(test_labels)\n",
    "assert len(y_hat) == len(y)\n",
    "\n",
    "mae, rw_mae, TP, TN = get_metrics(y_hat, y)\n",
    "metrics_dict = dict(mae=[mae], mae_rw=[rw_mae], TP=[TP], TN=[TN])\n",
    "metrics_df = pd.DataFrame.from_dict(metrics_dict)\n",
    "print(metrics_df)\n",
    "\n",
    "\n",
    "pred_margin_mask = np.abs(y_pred_scaled) >= 0.02\n",
    "\n",
    "print(f\"\\nWith prediction margin mask:\")\n",
    "y_hat = y_pred_scaled[pred_margin_mask]\n",
    "y = np.array(test_labels)[pred_margin_mask]\n",
    "print(f\"\\nLength of prediction margin masked evaluation set: {len(y_hat)}\")\n",
    "mae, rw_mae, TP, TN = get_metrics(y_hat, y)\n",
    "metrics_dict = dict(mae=[mae], mae_rw=[rw_mae], TP=[TP], TN=[TN])\n",
    "metrics_df = pd.DataFrame.from_dict(metrics_dict)\n",
    "print(metrics_df)\n",
    "\n"
   ]
  },
  {
   "cell_type": "code",
   "execution_count": null,
   "metadata": {},
   "outputs": [],
   "source": [
    "##############\n",
    "# Import stocks\n",
    "stocks = pd.read_pickle(\"data/stocks.pkl\").reset_index()\n",
    "# TODO: Do same transformations as import in asset_data_preprocessor\n"
   ]
  },
  {
   "attachments": {},
   "cell_type": "markdown",
   "metadata": {},
   "source": [
    "# Analysis of single forecast: "
   ]
  },
  {
   "cell_type": "code",
   "execution_count": null,
   "metadata": {},
   "outputs": [],
   "source": [
    "idx = 11\n",
    "tmp = test_dat.loc[pred_margin_mask]\n",
    "row = tmp.iloc[idx, :]\n",
    "print(row)\n",
    "# print(f\"Fcst: {row.Fcst}\")\n",
    "# print(f\"Target: {row.IntradayReturn}\")\n",
    "\n",
    "print(row.body[:750])\n",
    "pr_time, ticker, fcst = row[[\"Date\", \"ID\", \"Fcst\"]]\n",
    "df = stocks.query(\"(Date >= @pr_time) & (ID == @ticker)\").head(30)\n",
    "fig = go.Figure(data=[go.Candlestick(x=df['Date'],\n",
    "                open=df['Open'],\n",
    "                high=df['High'],\n",
    "                low=df['Low'],\n",
    "                close=df['Close'])])\n",
    "fig.update_layout(xaxis_rangeslider_visible=False)\n",
    "fig.show()"
   ]
  },
  {
   "cell_type": "code",
   "execution_count": null,
   "metadata": {},
   "outputs": [],
   "source": [
    "print(row)"
   ]
  },
  {
   "attachments": {},
   "cell_type": "markdown",
   "metadata": {},
   "source": [
    "# Trading Performance"
   ]
  },
  {
   "cell_type": "code",
   "execution_count": null,
   "metadata": {},
   "outputs": [],
   "source": [
    "tmp = test_dat.loc[pred_margin_mask].dropna()"
   ]
  },
  {
   "cell_type": "code",
   "execution_count": null,
   "metadata": {},
   "outputs": [],
   "source": [
    "tmp.head()"
   ]
  },
  {
   "cell_type": "code",
   "execution_count": null,
   "metadata": {},
   "outputs": [],
   "source": [
    "trades = np.sign(tmp[\"Fcst\"])*tmp[\"CloseToCloseReturn\"]"
   ]
  },
  {
   "cell_type": "code",
   "execution_count": null,
   "metadata": {},
   "outputs": [],
   "source": [
    "trades.mean()"
   ]
  },
  {
   "cell_type": "code",
   "execution_count": null,
   "metadata": {},
   "outputs": [],
   "source": [
    "px.scatter(tmp, x=MODEL_CONFIG.target_col_name, y=\"Fcst\")"
   ]
  },
  {
   "cell_type": "code",
   "execution_count": null,
   "metadata": {},
   "outputs": [],
   "source": []
  }
 ],
 "metadata": {
  "kernelspec": {
   "display_name": ".env",
   "language": "python",
   "name": "python3"
  },
  "language_info": {
   "codemirror_mode": {
    "name": "ipython",
    "version": 3
   },
   "file_extension": ".py",
   "mimetype": "text/x-python",
   "name": "python",
   "nbconvert_exporter": "python",
   "pygments_lexer": "ipython3",
   "version": "3.11.3"
  }
 },
 "nbformat": 4,
 "nbformat_minor": 2
}
