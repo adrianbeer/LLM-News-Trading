{
 "cells": [
  {
   "cell_type": "code",
   "execution_count": 101,
   "metadata": {},
   "outputs": [],
   "source": [
    "from src.config import config\n",
    "import numpy as np\n",
    "import pandas as pd\n",
    "import plotly.graph_objects as go\n",
    "import plotly.express as px\n",
    "from transformers import AutoModel\n",
    "from src.model.bert_classifier import BERTClassifier"
   ]
  },
  {
   "cell_type": "code",
   "execution_count": 102,
   "metadata": {},
   "outputs": [],
   "source": [
    "# Settings\n",
    "model_id = '7zdo79pv'\n",
    "target_col_name = 'z_score_class'"
   ]
  },
  {
   "cell_type": "code",
   "execution_count": 103,
   "metadata": {},
   "outputs": [],
   "source": [
    "df = pd.read_parquet(f\"{config.data.predictions.regression_dir}/{model_id}.parquet\")\n",
    "df = df[df.est_entry_time.dt.hour != 9]\n"
   ]
  },
  {
   "cell_type": "code",
   "execution_count": 51,
   "metadata": {},
   "outputs": [],
   "source": [
    "def accuracy(df: pd.DataFrame):\n",
    "    N = len(df)\n",
    "    acc = (df['z_score_class'] == df['class_preds']).sum() / N\n",
    "    return acc"
   ]
  },
  {
   "cell_type": "code",
   "execution_count": 52,
   "metadata": {},
   "outputs": [
    {
     "data": {
      "text/plain": [
       "split\n",
       "testing       0.355102\n",
       "training      0.467156\n",
       "validation    0.368246\n",
       "dtype: float64"
      ]
     },
     "execution_count": 52,
     "metadata": {},
     "output_type": "execute_result"
    }
   ],
   "source": [
    "df.groupby(\"split\", observed=True).apply(accuracy)"
   ]
  },
  {
   "cell_type": "code",
   "execution_count": 53,
   "metadata": {},
   "outputs": [],
   "source": [
    "q_list = [0.5, 0.6, 0.7, 0.8, 0.9, 0.95, 0.99]\n",
    "quantiles = df.groupby(\"split\", observed=True).apply(lambda x: x[\"max_probs\"].quantile(q_list))\n",
    "quantiles.index = pd.MultiIndex.from_tuples([(i, 'quantile') for i in quantiles.index], names=['split', 'value'])"
   ]
  },
  {
   "cell_type": "code",
   "execution_count": 54,
   "metadata": {},
   "outputs": [
    {
     "data": {
      "text/html": [
       "<div>\n",
       "<style scoped>\n",
       "    .dataframe tbody tr th:only-of-type {\n",
       "        vertical-align: middle;\n",
       "    }\n",
       "\n",
       "    .dataframe tbody tr th {\n",
       "        vertical-align: top;\n",
       "    }\n",
       "\n",
       "    .dataframe thead th {\n",
       "        text-align: right;\n",
       "    }\n",
       "</style>\n",
       "<table border=\"1\" class=\"dataframe\">\n",
       "  <thead>\n",
       "    <tr style=\"text-align: right;\">\n",
       "      <th></th>\n",
       "      <th>max_probs</th>\n",
       "      <th>0.50</th>\n",
       "      <th>0.60</th>\n",
       "      <th>0.70</th>\n",
       "      <th>0.80</th>\n",
       "      <th>0.90</th>\n",
       "      <th>0.95</th>\n",
       "      <th>0.99</th>\n",
       "    </tr>\n",
       "    <tr>\n",
       "      <th>split</th>\n",
       "      <th>value</th>\n",
       "      <th></th>\n",
       "      <th></th>\n",
       "      <th></th>\n",
       "      <th></th>\n",
       "      <th></th>\n",
       "      <th></th>\n",
       "      <th></th>\n",
       "    </tr>\n",
       "  </thead>\n",
       "  <tbody>\n",
       "    <tr>\n",
       "      <th>testing</th>\n",
       "      <th>quantile</th>\n",
       "      <td>0.429393</td>\n",
       "      <td>0.446544</td>\n",
       "      <td>0.468057</td>\n",
       "      <td>0.493696</td>\n",
       "      <td>0.539201</td>\n",
       "      <td>0.583723</td>\n",
       "      <td>0.668375</td>\n",
       "    </tr>\n",
       "    <tr>\n",
       "      <th>training</th>\n",
       "      <th>quantile</th>\n",
       "      <td>0.433935</td>\n",
       "      <td>0.454430</td>\n",
       "      <td>0.478374</td>\n",
       "      <td>0.514317</td>\n",
       "      <td>0.570011</td>\n",
       "      <td>0.622834</td>\n",
       "      <td>0.719574</td>\n",
       "    </tr>\n",
       "    <tr>\n",
       "      <th>validation</th>\n",
       "      <th>quantile</th>\n",
       "      <td>0.428339</td>\n",
       "      <td>0.446638</td>\n",
       "      <td>0.468273</td>\n",
       "      <td>0.498177</td>\n",
       "      <td>0.540965</td>\n",
       "      <td>0.581718</td>\n",
       "      <td>0.672474</td>\n",
       "    </tr>\n",
       "  </tbody>\n",
       "</table>\n",
       "</div>"
      ],
      "text/plain": [
       "max_probs                0.50      0.60      0.70      0.80      0.90  \\\n",
       "split      value                                                        \n",
       "testing    quantile  0.429393  0.446544  0.468057  0.493696  0.539201   \n",
       "training   quantile  0.433935  0.454430  0.478374  0.514317  0.570011   \n",
       "validation quantile  0.428339  0.446638  0.468273  0.498177  0.540965   \n",
       "\n",
       "max_probs                0.95      0.99  \n",
       "split      value                         \n",
       "testing    quantile  0.583723  0.668375  \n",
       "training   quantile  0.622834  0.719574  \n",
       "validation quantile  0.581718  0.672474  "
      ]
     },
     "execution_count": 54,
     "metadata": {},
     "output_type": "execute_result"
    }
   ],
   "source": [
    "quantiles"
   ]
  },
  {
   "cell_type": "code",
   "execution_count": 55,
   "metadata": {},
   "outputs": [],
   "source": [
    "accuracies = quantiles.copy(deep=True)\n",
    "lengths = quantiles.copy(deep=True)"
   ]
  },
  {
   "cell_type": "code",
   "execution_count": 56,
   "metadata": {},
   "outputs": [],
   "source": [
    "for quantile in quantiles.columns:\n",
    "    for idx in quantiles.index:\n",
    "        split = idx[0]\n",
    "        subframe = df.loc[\n",
    "            (df['split'] == split) & \n",
    "            (df['max_probs'] > quantiles.at[idx, quantile])\n",
    "            ]\n",
    "        acc = accuracy(subframe)\n",
    "        accuracies.at[idx, quantile] = acc\n",
    "        lengths.at[idx, quantile] = int(subframe.shape[0]) "
   ]
  },
  {
   "cell_type": "code",
   "execution_count": 57,
   "metadata": {},
   "outputs": [],
   "source": [
    "accuracies.index = pd.MultiIndex.from_tuples([(i, 'accuracy') for i in accuracies.index.droplevel('value')], names=['split', 'value'])\n",
    "lengths.index = pd.MultiIndex.from_tuples([(i, 'len') for i in accuracies.index.droplevel('value')], names=['split', 'value'])"
   ]
  },
  {
   "cell_type": "code",
   "execution_count": 58,
   "metadata": {},
   "outputs": [],
   "source": [
    "summary_df = pd.concat([quantiles, accuracies, lengths]).sort_index()"
   ]
  },
  {
   "cell_type": "code",
   "execution_count": 59,
   "metadata": {},
   "outputs": [
    {
     "data": {
      "application/vnd.plotly.v1+json": {
       "config": {
        "plotlyServerURL": "https://plot.ly"
       },
       "data": [
        {
         "hovertemplate": "split=testing<br>quantile=%{x}<br>accuracy=%{y}<extra></extra>",
         "legendgroup": "testing",
         "line": {
          "color": "#636efa",
          "dash": "solid"
         },
         "marker": {
          "symbol": "circle"
         },
         "mode": "lines",
         "name": "testing",
         "orientation": "v",
         "showlegend": true,
         "type": "scatter",
         "x": [
          0.5,
          0.6,
          0.7,
          0.8,
          0.9,
          0.95,
          0.99
         ],
         "xaxis": "x",
         "y": [
          0.3883381924198251,
          0.3870262390670554,
          0.3877551020408163,
          0.38629737609329445,
          0.39067055393586003,
          0.37058823529411766,
          0.2571428571428571
         ],
         "yaxis": "y"
        },
        {
         "hovertemplate": "split=training<br>quantile=%{x}<br>accuracy=%{y}<extra></extra>",
         "legendgroup": "training",
         "line": {
          "color": "#EF553B",
          "dash": "solid"
         },
         "marker": {
          "symbol": "circle"
         },
         "mode": "lines",
         "name": "training",
         "orientation": "v",
         "showlegend": true,
         "type": "scatter",
         "x": [
          0.5,
          0.6,
          0.7,
          0.8,
          0.9,
          0.95,
          0.99
         ],
         "xaxis": "x",
         "y": [
          0.5429370871433928,
          0.5640470910631546,
          0.5927261363909522,
          0.6301290834354943,
          0.6898391865580155,
          0.7412748774156331,
          0.8543619322278299
         ],
         "yaxis": "y"
        },
        {
         "hovertemplate": "split=validation<br>quantile=%{x}<br>accuracy=%{y}<extra></extra>",
         "legendgroup": "validation",
         "line": {
          "color": "#00cc96",
          "dash": "solid"
         },
         "marker": {
          "symbol": "circle"
         },
         "mode": "lines",
         "name": "validation",
         "orientation": "v",
         "showlegend": true,
         "type": "scatter",
         "x": [
          0.5,
          0.6,
          0.7,
          0.8,
          0.9,
          0.95,
          0.99
         ],
         "xaxis": "x",
         "y": [
          0.37667645931792054,
          0.37064835515809647,
          0.3727117922520221,
          0.36462324393358875,
          0.3563218390804598,
          0.3371647509578544,
          0.35668789808917195
         ],
         "yaxis": "y"
        }
       ],
       "layout": {
        "legend": {
         "title": {
          "text": "split"
         },
         "tracegroupgap": 0
        },
        "margin": {
         "t": 60
        },
        "template": {
         "data": {
          "bar": [
           {
            "error_x": {
             "color": "#2a3f5f"
            },
            "error_y": {
             "color": "#2a3f5f"
            },
            "marker": {
             "line": {
              "color": "#E5ECF6",
              "width": 0.5
             },
             "pattern": {
              "fillmode": "overlay",
              "size": 10,
              "solidity": 0.2
             }
            },
            "type": "bar"
           }
          ],
          "barpolar": [
           {
            "marker": {
             "line": {
              "color": "#E5ECF6",
              "width": 0.5
             },
             "pattern": {
              "fillmode": "overlay",
              "size": 10,
              "solidity": 0.2
             }
            },
            "type": "barpolar"
           }
          ],
          "carpet": [
           {
            "aaxis": {
             "endlinecolor": "#2a3f5f",
             "gridcolor": "white",
             "linecolor": "white",
             "minorgridcolor": "white",
             "startlinecolor": "#2a3f5f"
            },
            "baxis": {
             "endlinecolor": "#2a3f5f",
             "gridcolor": "white",
             "linecolor": "white",
             "minorgridcolor": "white",
             "startlinecolor": "#2a3f5f"
            },
            "type": "carpet"
           }
          ],
          "choropleth": [
           {
            "colorbar": {
             "outlinewidth": 0,
             "ticks": ""
            },
            "type": "choropleth"
           }
          ],
          "contour": [
           {
            "colorbar": {
             "outlinewidth": 0,
             "ticks": ""
            },
            "colorscale": [
             [
              0,
              "#0d0887"
             ],
             [
              0.1111111111111111,
              "#46039f"
             ],
             [
              0.2222222222222222,
              "#7201a8"
             ],
             [
              0.3333333333333333,
              "#9c179e"
             ],
             [
              0.4444444444444444,
              "#bd3786"
             ],
             [
              0.5555555555555556,
              "#d8576b"
             ],
             [
              0.6666666666666666,
              "#ed7953"
             ],
             [
              0.7777777777777778,
              "#fb9f3a"
             ],
             [
              0.8888888888888888,
              "#fdca26"
             ],
             [
              1,
              "#f0f921"
             ]
            ],
            "type": "contour"
           }
          ],
          "contourcarpet": [
           {
            "colorbar": {
             "outlinewidth": 0,
             "ticks": ""
            },
            "type": "contourcarpet"
           }
          ],
          "heatmap": [
           {
            "colorbar": {
             "outlinewidth": 0,
             "ticks": ""
            },
            "colorscale": [
             [
              0,
              "#0d0887"
             ],
             [
              0.1111111111111111,
              "#46039f"
             ],
             [
              0.2222222222222222,
              "#7201a8"
             ],
             [
              0.3333333333333333,
              "#9c179e"
             ],
             [
              0.4444444444444444,
              "#bd3786"
             ],
             [
              0.5555555555555556,
              "#d8576b"
             ],
             [
              0.6666666666666666,
              "#ed7953"
             ],
             [
              0.7777777777777778,
              "#fb9f3a"
             ],
             [
              0.8888888888888888,
              "#fdca26"
             ],
             [
              1,
              "#f0f921"
             ]
            ],
            "type": "heatmap"
           }
          ],
          "heatmapgl": [
           {
            "colorbar": {
             "outlinewidth": 0,
             "ticks": ""
            },
            "colorscale": [
             [
              0,
              "#0d0887"
             ],
             [
              0.1111111111111111,
              "#46039f"
             ],
             [
              0.2222222222222222,
              "#7201a8"
             ],
             [
              0.3333333333333333,
              "#9c179e"
             ],
             [
              0.4444444444444444,
              "#bd3786"
             ],
             [
              0.5555555555555556,
              "#d8576b"
             ],
             [
              0.6666666666666666,
              "#ed7953"
             ],
             [
              0.7777777777777778,
              "#fb9f3a"
             ],
             [
              0.8888888888888888,
              "#fdca26"
             ],
             [
              1,
              "#f0f921"
             ]
            ],
            "type": "heatmapgl"
           }
          ],
          "histogram": [
           {
            "marker": {
             "pattern": {
              "fillmode": "overlay",
              "size": 10,
              "solidity": 0.2
             }
            },
            "type": "histogram"
           }
          ],
          "histogram2d": [
           {
            "colorbar": {
             "outlinewidth": 0,
             "ticks": ""
            },
            "colorscale": [
             [
              0,
              "#0d0887"
             ],
             [
              0.1111111111111111,
              "#46039f"
             ],
             [
              0.2222222222222222,
              "#7201a8"
             ],
             [
              0.3333333333333333,
              "#9c179e"
             ],
             [
              0.4444444444444444,
              "#bd3786"
             ],
             [
              0.5555555555555556,
              "#d8576b"
             ],
             [
              0.6666666666666666,
              "#ed7953"
             ],
             [
              0.7777777777777778,
              "#fb9f3a"
             ],
             [
              0.8888888888888888,
              "#fdca26"
             ],
             [
              1,
              "#f0f921"
             ]
            ],
            "type": "histogram2d"
           }
          ],
          "histogram2dcontour": [
           {
            "colorbar": {
             "outlinewidth": 0,
             "ticks": ""
            },
            "colorscale": [
             [
              0,
              "#0d0887"
             ],
             [
              0.1111111111111111,
              "#46039f"
             ],
             [
              0.2222222222222222,
              "#7201a8"
             ],
             [
              0.3333333333333333,
              "#9c179e"
             ],
             [
              0.4444444444444444,
              "#bd3786"
             ],
             [
              0.5555555555555556,
              "#d8576b"
             ],
             [
              0.6666666666666666,
              "#ed7953"
             ],
             [
              0.7777777777777778,
              "#fb9f3a"
             ],
             [
              0.8888888888888888,
              "#fdca26"
             ],
             [
              1,
              "#f0f921"
             ]
            ],
            "type": "histogram2dcontour"
           }
          ],
          "mesh3d": [
           {
            "colorbar": {
             "outlinewidth": 0,
             "ticks": ""
            },
            "type": "mesh3d"
           }
          ],
          "parcoords": [
           {
            "line": {
             "colorbar": {
              "outlinewidth": 0,
              "ticks": ""
             }
            },
            "type": "parcoords"
           }
          ],
          "pie": [
           {
            "automargin": true,
            "type": "pie"
           }
          ],
          "scatter": [
           {
            "fillpattern": {
             "fillmode": "overlay",
             "size": 10,
             "solidity": 0.2
            },
            "type": "scatter"
           }
          ],
          "scatter3d": [
           {
            "line": {
             "colorbar": {
              "outlinewidth": 0,
              "ticks": ""
             }
            },
            "marker": {
             "colorbar": {
              "outlinewidth": 0,
              "ticks": ""
             }
            },
            "type": "scatter3d"
           }
          ],
          "scattercarpet": [
           {
            "marker": {
             "colorbar": {
              "outlinewidth": 0,
              "ticks": ""
             }
            },
            "type": "scattercarpet"
           }
          ],
          "scattergeo": [
           {
            "marker": {
             "colorbar": {
              "outlinewidth": 0,
              "ticks": ""
             }
            },
            "type": "scattergeo"
           }
          ],
          "scattergl": [
           {
            "marker": {
             "colorbar": {
              "outlinewidth": 0,
              "ticks": ""
             }
            },
            "type": "scattergl"
           }
          ],
          "scattermapbox": [
           {
            "marker": {
             "colorbar": {
              "outlinewidth": 0,
              "ticks": ""
             }
            },
            "type": "scattermapbox"
           }
          ],
          "scatterpolar": [
           {
            "marker": {
             "colorbar": {
              "outlinewidth": 0,
              "ticks": ""
             }
            },
            "type": "scatterpolar"
           }
          ],
          "scatterpolargl": [
           {
            "marker": {
             "colorbar": {
              "outlinewidth": 0,
              "ticks": ""
             }
            },
            "type": "scatterpolargl"
           }
          ],
          "scatterternary": [
           {
            "marker": {
             "colorbar": {
              "outlinewidth": 0,
              "ticks": ""
             }
            },
            "type": "scatterternary"
           }
          ],
          "surface": [
           {
            "colorbar": {
             "outlinewidth": 0,
             "ticks": ""
            },
            "colorscale": [
             [
              0,
              "#0d0887"
             ],
             [
              0.1111111111111111,
              "#46039f"
             ],
             [
              0.2222222222222222,
              "#7201a8"
             ],
             [
              0.3333333333333333,
              "#9c179e"
             ],
             [
              0.4444444444444444,
              "#bd3786"
             ],
             [
              0.5555555555555556,
              "#d8576b"
             ],
             [
              0.6666666666666666,
              "#ed7953"
             ],
             [
              0.7777777777777778,
              "#fb9f3a"
             ],
             [
              0.8888888888888888,
              "#fdca26"
             ],
             [
              1,
              "#f0f921"
             ]
            ],
            "type": "surface"
           }
          ],
          "table": [
           {
            "cells": {
             "fill": {
              "color": "#EBF0F8"
             },
             "line": {
              "color": "white"
             }
            },
            "header": {
             "fill": {
              "color": "#C8D4E3"
             },
             "line": {
              "color": "white"
             }
            },
            "type": "table"
           }
          ]
         },
         "layout": {
          "annotationdefaults": {
           "arrowcolor": "#2a3f5f",
           "arrowhead": 0,
           "arrowwidth": 1
          },
          "autotypenumbers": "strict",
          "coloraxis": {
           "colorbar": {
            "outlinewidth": 0,
            "ticks": ""
           }
          },
          "colorscale": {
           "diverging": [
            [
             0,
             "#8e0152"
            ],
            [
             0.1,
             "#c51b7d"
            ],
            [
             0.2,
             "#de77ae"
            ],
            [
             0.3,
             "#f1b6da"
            ],
            [
             0.4,
             "#fde0ef"
            ],
            [
             0.5,
             "#f7f7f7"
            ],
            [
             0.6,
             "#e6f5d0"
            ],
            [
             0.7,
             "#b8e186"
            ],
            [
             0.8,
             "#7fbc41"
            ],
            [
             0.9,
             "#4d9221"
            ],
            [
             1,
             "#276419"
            ]
           ],
           "sequential": [
            [
             0,
             "#0d0887"
            ],
            [
             0.1111111111111111,
             "#46039f"
            ],
            [
             0.2222222222222222,
             "#7201a8"
            ],
            [
             0.3333333333333333,
             "#9c179e"
            ],
            [
             0.4444444444444444,
             "#bd3786"
            ],
            [
             0.5555555555555556,
             "#d8576b"
            ],
            [
             0.6666666666666666,
             "#ed7953"
            ],
            [
             0.7777777777777778,
             "#fb9f3a"
            ],
            [
             0.8888888888888888,
             "#fdca26"
            ],
            [
             1,
             "#f0f921"
            ]
           ],
           "sequentialminus": [
            [
             0,
             "#0d0887"
            ],
            [
             0.1111111111111111,
             "#46039f"
            ],
            [
             0.2222222222222222,
             "#7201a8"
            ],
            [
             0.3333333333333333,
             "#9c179e"
            ],
            [
             0.4444444444444444,
             "#bd3786"
            ],
            [
             0.5555555555555556,
             "#d8576b"
            ],
            [
             0.6666666666666666,
             "#ed7953"
            ],
            [
             0.7777777777777778,
             "#fb9f3a"
            ],
            [
             0.8888888888888888,
             "#fdca26"
            ],
            [
             1,
             "#f0f921"
            ]
           ]
          },
          "colorway": [
           "#636efa",
           "#EF553B",
           "#00cc96",
           "#ab63fa",
           "#FFA15A",
           "#19d3f3",
           "#FF6692",
           "#B6E880",
           "#FF97FF",
           "#FECB52"
          ],
          "font": {
           "color": "#2a3f5f"
          },
          "geo": {
           "bgcolor": "white",
           "lakecolor": "white",
           "landcolor": "#E5ECF6",
           "showlakes": true,
           "showland": true,
           "subunitcolor": "white"
          },
          "hoverlabel": {
           "align": "left"
          },
          "hovermode": "closest",
          "mapbox": {
           "style": "light"
          },
          "paper_bgcolor": "white",
          "plot_bgcolor": "#E5ECF6",
          "polar": {
           "angularaxis": {
            "gridcolor": "white",
            "linecolor": "white",
            "ticks": ""
           },
           "bgcolor": "#E5ECF6",
           "radialaxis": {
            "gridcolor": "white",
            "linecolor": "white",
            "ticks": ""
           }
          },
          "scene": {
           "xaxis": {
            "backgroundcolor": "#E5ECF6",
            "gridcolor": "white",
            "gridwidth": 2,
            "linecolor": "white",
            "showbackground": true,
            "ticks": "",
            "zerolinecolor": "white"
           },
           "yaxis": {
            "backgroundcolor": "#E5ECF6",
            "gridcolor": "white",
            "gridwidth": 2,
            "linecolor": "white",
            "showbackground": true,
            "ticks": "",
            "zerolinecolor": "white"
           },
           "zaxis": {
            "backgroundcolor": "#E5ECF6",
            "gridcolor": "white",
            "gridwidth": 2,
            "linecolor": "white",
            "showbackground": true,
            "ticks": "",
            "zerolinecolor": "white"
           }
          },
          "shapedefaults": {
           "line": {
            "color": "#2a3f5f"
           }
          },
          "ternary": {
           "aaxis": {
            "gridcolor": "white",
            "linecolor": "white",
            "ticks": ""
           },
           "baxis": {
            "gridcolor": "white",
            "linecolor": "white",
            "ticks": ""
           },
           "bgcolor": "#E5ECF6",
           "caxis": {
            "gridcolor": "white",
            "linecolor": "white",
            "ticks": ""
           }
          },
          "title": {
           "x": 0.05
          },
          "xaxis": {
           "automargin": true,
           "gridcolor": "white",
           "linecolor": "white",
           "ticks": "",
           "title": {
            "standoff": 15
           },
           "zerolinecolor": "white",
           "zerolinewidth": 2
          },
          "yaxis": {
           "automargin": true,
           "gridcolor": "white",
           "linecolor": "white",
           "ticks": "",
           "title": {
            "standoff": 15
           },
           "zerolinecolor": "white",
           "zerolinewidth": 2
          }
         }
        },
        "xaxis": {
         "anchor": "y",
         "domain": [
          0,
          1
         ],
         "title": {
          "text": "quantile"
         }
        },
        "yaxis": {
         "anchor": "x",
         "domain": [
          0,
          1
         ],
         "title": {
          "text": "accuracy"
         }
        }
       }
      },
      "text/html": [
       "<div>                            <div id=\"2d0d2e45-3c22-434d-a0da-f0f0bd8d016e\" class=\"plotly-graph-div\" style=\"height:525px; width:100%;\"></div>            <script type=\"text/javascript\">                require([\"plotly\"], function(Plotly) {                    window.PLOTLYENV=window.PLOTLYENV || {};                                    if (document.getElementById(\"2d0d2e45-3c22-434d-a0da-f0f0bd8d016e\")) {                    Plotly.newPlot(                        \"2d0d2e45-3c22-434d-a0da-f0f0bd8d016e\",                        [{\"hovertemplate\":\"split=testing\\u003cbr\\u003equantile=%{x}\\u003cbr\\u003eaccuracy=%{y}\\u003cextra\\u003e\\u003c\\u002fextra\\u003e\",\"legendgroup\":\"testing\",\"line\":{\"color\":\"#636efa\",\"dash\":\"solid\"},\"marker\":{\"symbol\":\"circle\"},\"mode\":\"lines\",\"name\":\"testing\",\"orientation\":\"v\",\"showlegend\":true,\"x\":[0.5,0.6,0.7,0.8,0.9,0.95,0.99],\"xaxis\":\"x\",\"y\":[0.3883381924198251,0.3870262390670554,0.3877551020408163,0.38629737609329445,0.39067055393586003,0.37058823529411766,0.2571428571428571],\"yaxis\":\"y\",\"type\":\"scatter\"},{\"hovertemplate\":\"split=training\\u003cbr\\u003equantile=%{x}\\u003cbr\\u003eaccuracy=%{y}\\u003cextra\\u003e\\u003c\\u002fextra\\u003e\",\"legendgroup\":\"training\",\"line\":{\"color\":\"#EF553B\",\"dash\":\"solid\"},\"marker\":{\"symbol\":\"circle\"},\"mode\":\"lines\",\"name\":\"training\",\"orientation\":\"v\",\"showlegend\":true,\"x\":[0.5,0.6,0.7,0.8,0.9,0.95,0.99],\"xaxis\":\"x\",\"y\":[0.5429370871433928,0.5640470910631546,0.5927261363909522,0.6301290834354943,0.6898391865580155,0.7412748774156331,0.8543619322278299],\"yaxis\":\"y\",\"type\":\"scatter\"},{\"hovertemplate\":\"split=validation\\u003cbr\\u003equantile=%{x}\\u003cbr\\u003eaccuracy=%{y}\\u003cextra\\u003e\\u003c\\u002fextra\\u003e\",\"legendgroup\":\"validation\",\"line\":{\"color\":\"#00cc96\",\"dash\":\"solid\"},\"marker\":{\"symbol\":\"circle\"},\"mode\":\"lines\",\"name\":\"validation\",\"orientation\":\"v\",\"showlegend\":true,\"x\":[0.5,0.6,0.7,0.8,0.9,0.95,0.99],\"xaxis\":\"x\",\"y\":[0.37667645931792054,0.37064835515809647,0.3727117922520221,0.36462324393358875,0.3563218390804598,0.3371647509578544,0.35668789808917195],\"yaxis\":\"y\",\"type\":\"scatter\"}],                        {\"template\":{\"data\":{\"histogram2dcontour\":[{\"type\":\"histogram2dcontour\",\"colorbar\":{\"outlinewidth\":0,\"ticks\":\"\"},\"colorscale\":[[0.0,\"#0d0887\"],[0.1111111111111111,\"#46039f\"],[0.2222222222222222,\"#7201a8\"],[0.3333333333333333,\"#9c179e\"],[0.4444444444444444,\"#bd3786\"],[0.5555555555555556,\"#d8576b\"],[0.6666666666666666,\"#ed7953\"],[0.7777777777777778,\"#fb9f3a\"],[0.8888888888888888,\"#fdca26\"],[1.0,\"#f0f921\"]]}],\"choropleth\":[{\"type\":\"choropleth\",\"colorbar\":{\"outlinewidth\":0,\"ticks\":\"\"}}],\"histogram2d\":[{\"type\":\"histogram2d\",\"colorbar\":{\"outlinewidth\":0,\"ticks\":\"\"},\"colorscale\":[[0.0,\"#0d0887\"],[0.1111111111111111,\"#46039f\"],[0.2222222222222222,\"#7201a8\"],[0.3333333333333333,\"#9c179e\"],[0.4444444444444444,\"#bd3786\"],[0.5555555555555556,\"#d8576b\"],[0.6666666666666666,\"#ed7953\"],[0.7777777777777778,\"#fb9f3a\"],[0.8888888888888888,\"#fdca26\"],[1.0,\"#f0f921\"]]}],\"heatmap\":[{\"type\":\"heatmap\",\"colorbar\":{\"outlinewidth\":0,\"ticks\":\"\"},\"colorscale\":[[0.0,\"#0d0887\"],[0.1111111111111111,\"#46039f\"],[0.2222222222222222,\"#7201a8\"],[0.3333333333333333,\"#9c179e\"],[0.4444444444444444,\"#bd3786\"],[0.5555555555555556,\"#d8576b\"],[0.6666666666666666,\"#ed7953\"],[0.7777777777777778,\"#fb9f3a\"],[0.8888888888888888,\"#fdca26\"],[1.0,\"#f0f921\"]]}],\"heatmapgl\":[{\"type\":\"heatmapgl\",\"colorbar\":{\"outlinewidth\":0,\"ticks\":\"\"},\"colorscale\":[[0.0,\"#0d0887\"],[0.1111111111111111,\"#46039f\"],[0.2222222222222222,\"#7201a8\"],[0.3333333333333333,\"#9c179e\"],[0.4444444444444444,\"#bd3786\"],[0.5555555555555556,\"#d8576b\"],[0.6666666666666666,\"#ed7953\"],[0.7777777777777778,\"#fb9f3a\"],[0.8888888888888888,\"#fdca26\"],[1.0,\"#f0f921\"]]}],\"contourcarpet\":[{\"type\":\"contourcarpet\",\"colorbar\":{\"outlinewidth\":0,\"ticks\":\"\"}}],\"contour\":[{\"type\":\"contour\",\"colorbar\":{\"outlinewidth\":0,\"ticks\":\"\"},\"colorscale\":[[0.0,\"#0d0887\"],[0.1111111111111111,\"#46039f\"],[0.2222222222222222,\"#7201a8\"],[0.3333333333333333,\"#9c179e\"],[0.4444444444444444,\"#bd3786\"],[0.5555555555555556,\"#d8576b\"],[0.6666666666666666,\"#ed7953\"],[0.7777777777777778,\"#fb9f3a\"],[0.8888888888888888,\"#fdca26\"],[1.0,\"#f0f921\"]]}],\"surface\":[{\"type\":\"surface\",\"colorbar\":{\"outlinewidth\":0,\"ticks\":\"\"},\"colorscale\":[[0.0,\"#0d0887\"],[0.1111111111111111,\"#46039f\"],[0.2222222222222222,\"#7201a8\"],[0.3333333333333333,\"#9c179e\"],[0.4444444444444444,\"#bd3786\"],[0.5555555555555556,\"#d8576b\"],[0.6666666666666666,\"#ed7953\"],[0.7777777777777778,\"#fb9f3a\"],[0.8888888888888888,\"#fdca26\"],[1.0,\"#f0f921\"]]}],\"mesh3d\":[{\"type\":\"mesh3d\",\"colorbar\":{\"outlinewidth\":0,\"ticks\":\"\"}}],\"scatter\":[{\"fillpattern\":{\"fillmode\":\"overlay\",\"size\":10,\"solidity\":0.2},\"type\":\"scatter\"}],\"parcoords\":[{\"type\":\"parcoords\",\"line\":{\"colorbar\":{\"outlinewidth\":0,\"ticks\":\"\"}}}],\"scatterpolargl\":[{\"type\":\"scatterpolargl\",\"marker\":{\"colorbar\":{\"outlinewidth\":0,\"ticks\":\"\"}}}],\"bar\":[{\"error_x\":{\"color\":\"#2a3f5f\"},\"error_y\":{\"color\":\"#2a3f5f\"},\"marker\":{\"line\":{\"color\":\"#E5ECF6\",\"width\":0.5},\"pattern\":{\"fillmode\":\"overlay\",\"size\":10,\"solidity\":0.2}},\"type\":\"bar\"}],\"scattergeo\":[{\"type\":\"scattergeo\",\"marker\":{\"colorbar\":{\"outlinewidth\":0,\"ticks\":\"\"}}}],\"scatterpolar\":[{\"type\":\"scatterpolar\",\"marker\":{\"colorbar\":{\"outlinewidth\":0,\"ticks\":\"\"}}}],\"histogram\":[{\"marker\":{\"pattern\":{\"fillmode\":\"overlay\",\"size\":10,\"solidity\":0.2}},\"type\":\"histogram\"}],\"scattergl\":[{\"type\":\"scattergl\",\"marker\":{\"colorbar\":{\"outlinewidth\":0,\"ticks\":\"\"}}}],\"scatter3d\":[{\"type\":\"scatter3d\",\"line\":{\"colorbar\":{\"outlinewidth\":0,\"ticks\":\"\"}},\"marker\":{\"colorbar\":{\"outlinewidth\":0,\"ticks\":\"\"}}}],\"scattermapbox\":[{\"type\":\"scattermapbox\",\"marker\":{\"colorbar\":{\"outlinewidth\":0,\"ticks\":\"\"}}}],\"scatterternary\":[{\"type\":\"scatterternary\",\"marker\":{\"colorbar\":{\"outlinewidth\":0,\"ticks\":\"\"}}}],\"scattercarpet\":[{\"type\":\"scattercarpet\",\"marker\":{\"colorbar\":{\"outlinewidth\":0,\"ticks\":\"\"}}}],\"carpet\":[{\"aaxis\":{\"endlinecolor\":\"#2a3f5f\",\"gridcolor\":\"white\",\"linecolor\":\"white\",\"minorgridcolor\":\"white\",\"startlinecolor\":\"#2a3f5f\"},\"baxis\":{\"endlinecolor\":\"#2a3f5f\",\"gridcolor\":\"white\",\"linecolor\":\"white\",\"minorgridcolor\":\"white\",\"startlinecolor\":\"#2a3f5f\"},\"type\":\"carpet\"}],\"table\":[{\"cells\":{\"fill\":{\"color\":\"#EBF0F8\"},\"line\":{\"color\":\"white\"}},\"header\":{\"fill\":{\"color\":\"#C8D4E3\"},\"line\":{\"color\":\"white\"}},\"type\":\"table\"}],\"barpolar\":[{\"marker\":{\"line\":{\"color\":\"#E5ECF6\",\"width\":0.5},\"pattern\":{\"fillmode\":\"overlay\",\"size\":10,\"solidity\":0.2}},\"type\":\"barpolar\"}],\"pie\":[{\"automargin\":true,\"type\":\"pie\"}]},\"layout\":{\"autotypenumbers\":\"strict\",\"colorway\":[\"#636efa\",\"#EF553B\",\"#00cc96\",\"#ab63fa\",\"#FFA15A\",\"#19d3f3\",\"#FF6692\",\"#B6E880\",\"#FF97FF\",\"#FECB52\"],\"font\":{\"color\":\"#2a3f5f\"},\"hovermode\":\"closest\",\"hoverlabel\":{\"align\":\"left\"},\"paper_bgcolor\":\"white\",\"plot_bgcolor\":\"#E5ECF6\",\"polar\":{\"bgcolor\":\"#E5ECF6\",\"angularaxis\":{\"gridcolor\":\"white\",\"linecolor\":\"white\",\"ticks\":\"\"},\"radialaxis\":{\"gridcolor\":\"white\",\"linecolor\":\"white\",\"ticks\":\"\"}},\"ternary\":{\"bgcolor\":\"#E5ECF6\",\"aaxis\":{\"gridcolor\":\"white\",\"linecolor\":\"white\",\"ticks\":\"\"},\"baxis\":{\"gridcolor\":\"white\",\"linecolor\":\"white\",\"ticks\":\"\"},\"caxis\":{\"gridcolor\":\"white\",\"linecolor\":\"white\",\"ticks\":\"\"}},\"coloraxis\":{\"colorbar\":{\"outlinewidth\":0,\"ticks\":\"\"}},\"colorscale\":{\"sequential\":[[0.0,\"#0d0887\"],[0.1111111111111111,\"#46039f\"],[0.2222222222222222,\"#7201a8\"],[0.3333333333333333,\"#9c179e\"],[0.4444444444444444,\"#bd3786\"],[0.5555555555555556,\"#d8576b\"],[0.6666666666666666,\"#ed7953\"],[0.7777777777777778,\"#fb9f3a\"],[0.8888888888888888,\"#fdca26\"],[1.0,\"#f0f921\"]],\"sequentialminus\":[[0.0,\"#0d0887\"],[0.1111111111111111,\"#46039f\"],[0.2222222222222222,\"#7201a8\"],[0.3333333333333333,\"#9c179e\"],[0.4444444444444444,\"#bd3786\"],[0.5555555555555556,\"#d8576b\"],[0.6666666666666666,\"#ed7953\"],[0.7777777777777778,\"#fb9f3a\"],[0.8888888888888888,\"#fdca26\"],[1.0,\"#f0f921\"]],\"diverging\":[[0,\"#8e0152\"],[0.1,\"#c51b7d\"],[0.2,\"#de77ae\"],[0.3,\"#f1b6da\"],[0.4,\"#fde0ef\"],[0.5,\"#f7f7f7\"],[0.6,\"#e6f5d0\"],[0.7,\"#b8e186\"],[0.8,\"#7fbc41\"],[0.9,\"#4d9221\"],[1,\"#276419\"]]},\"xaxis\":{\"gridcolor\":\"white\",\"linecolor\":\"white\",\"ticks\":\"\",\"title\":{\"standoff\":15},\"zerolinecolor\":\"white\",\"automargin\":true,\"zerolinewidth\":2},\"yaxis\":{\"gridcolor\":\"white\",\"linecolor\":\"white\",\"ticks\":\"\",\"title\":{\"standoff\":15},\"zerolinecolor\":\"white\",\"automargin\":true,\"zerolinewidth\":2},\"scene\":{\"xaxis\":{\"backgroundcolor\":\"#E5ECF6\",\"gridcolor\":\"white\",\"linecolor\":\"white\",\"showbackground\":true,\"ticks\":\"\",\"zerolinecolor\":\"white\",\"gridwidth\":2},\"yaxis\":{\"backgroundcolor\":\"#E5ECF6\",\"gridcolor\":\"white\",\"linecolor\":\"white\",\"showbackground\":true,\"ticks\":\"\",\"zerolinecolor\":\"white\",\"gridwidth\":2},\"zaxis\":{\"backgroundcolor\":\"#E5ECF6\",\"gridcolor\":\"white\",\"linecolor\":\"white\",\"showbackground\":true,\"ticks\":\"\",\"zerolinecolor\":\"white\",\"gridwidth\":2}},\"shapedefaults\":{\"line\":{\"color\":\"#2a3f5f\"}},\"annotationdefaults\":{\"arrowcolor\":\"#2a3f5f\",\"arrowhead\":0,\"arrowwidth\":1},\"geo\":{\"bgcolor\":\"white\",\"landcolor\":\"#E5ECF6\",\"subunitcolor\":\"white\",\"showland\":true,\"showlakes\":true,\"lakecolor\":\"white\"},\"title\":{\"x\":0.05},\"mapbox\":{\"style\":\"light\"}}},\"xaxis\":{\"anchor\":\"y\",\"domain\":[0.0,1.0],\"title\":{\"text\":\"quantile\"}},\"yaxis\":{\"anchor\":\"x\",\"domain\":[0.0,1.0],\"title\":{\"text\":\"accuracy\"}},\"legend\":{\"title\":{\"text\":\"split\"},\"tracegroupgap\":0},\"margin\":{\"t\":60}},                        {\"responsive\": true}                    ).then(function(){\n",
       "                            \n",
       "var gd = document.getElementById('2d0d2e45-3c22-434d-a0da-f0f0bd8d016e');\n",
       "var x = new MutationObserver(function (mutations, observer) {{\n",
       "        var display = window.getComputedStyle(gd).display;\n",
       "        if (!display || display === 'none') {{\n",
       "            console.log([gd, 'removed!']);\n",
       "            Plotly.purge(gd);\n",
       "            observer.disconnect();\n",
       "        }}\n",
       "}});\n",
       "\n",
       "// Listen for the removal of the full notebook cells\n",
       "var notebookContainer = gd.closest('#notebook-container');\n",
       "if (notebookContainer) {{\n",
       "    x.observe(notebookContainer, {childList: true});\n",
       "}}\n",
       "\n",
       "// Listen for the clearing of the current output cell\n",
       "var outputEl = gd.closest('.output');\n",
       "if (outputEl) {{\n",
       "    x.observe(outputEl, {childList: true});\n",
       "}}\n",
       "\n",
       "                        })                };                });            </script>        </div>"
      ]
     },
     "metadata": {},
     "output_type": "display_data"
    }
   ],
   "source": [
    "plot_df = summary_df.xs(key='accuracy', level='value').T\n",
    "plot_df.index.name = 'quantile'\n",
    "px.line(plot_df, labels={'value':'accuracy'})"
   ]
  },
  {
   "cell_type": "code",
   "execution_count": 94,
   "metadata": {},
   "outputs": [
    {
     "data": {
      "text/html": [
       "<div>\n",
       "<style scoped>\n",
       "    .dataframe tbody tr th:only-of-type {\n",
       "        vertical-align: middle;\n",
       "    }\n",
       "\n",
       "    .dataframe tbody tr th {\n",
       "        vertical-align: top;\n",
       "    }\n",
       "\n",
       "    .dataframe thead th {\n",
       "        text-align: right;\n",
       "    }\n",
       "</style>\n",
       "<table border=\"1\" class=\"dataframe\">\n",
       "  <thead>\n",
       "    <tr style=\"text-align: right;\">\n",
       "      <th></th>\n",
       "      <th>quantile</th>\n",
       "      <th>0.50</th>\n",
       "      <th>0.60</th>\n",
       "      <th>0.70</th>\n",
       "      <th>0.80</th>\n",
       "      <th>0.90</th>\n",
       "      <th>0.95</th>\n",
       "      <th>0.99</th>\n",
       "    </tr>\n",
       "    <tr>\n",
       "      <th>split</th>\n",
       "      <th>value</th>\n",
       "      <th></th>\n",
       "      <th></th>\n",
       "      <th></th>\n",
       "      <th></th>\n",
       "      <th></th>\n",
       "      <th></th>\n",
       "      <th></th>\n",
       "    </tr>\n",
       "  </thead>\n",
       "  <tbody>\n",
       "    <tr>\n",
       "      <th rowspan=\"3\" valign=\"top\">testing</th>\n",
       "      <th>accuracy</th>\n",
       "      <td>0.388338</td>\n",
       "      <td>0.387026</td>\n",
       "      <td>0.387755</td>\n",
       "      <td>0.386297</td>\n",
       "      <td>0.390671</td>\n",
       "      <td>0.370588</td>\n",
       "      <td>0.257143</td>\n",
       "    </tr>\n",
       "    <tr>\n",
       "      <th>len</th>\n",
       "      <td>1715.000000</td>\n",
       "      <td>1372.000000</td>\n",
       "      <td>1029.000000</td>\n",
       "      <td>686.000000</td>\n",
       "      <td>343.000000</td>\n",
       "      <td>170.000000</td>\n",
       "      <td>35.000000</td>\n",
       "    </tr>\n",
       "    <tr>\n",
       "      <th>quantile</th>\n",
       "      <td>0.429393</td>\n",
       "      <td>0.446544</td>\n",
       "      <td>0.468057</td>\n",
       "      <td>0.493696</td>\n",
       "      <td>0.539201</td>\n",
       "      <td>0.583723</td>\n",
       "      <td>0.668375</td>\n",
       "    </tr>\n",
       "    <tr>\n",
       "      <th rowspan=\"3\" valign=\"top\">training</th>\n",
       "      <th>accuracy</th>\n",
       "      <td>0.542937</td>\n",
       "      <td>0.564047</td>\n",
       "      <td>0.592726</td>\n",
       "      <td>0.630129</td>\n",
       "      <td>0.689839</td>\n",
       "      <td>0.741275</td>\n",
       "      <td>0.854362</td>\n",
       "    </tr>\n",
       "    <tr>\n",
       "      <th>len</th>\n",
       "      <td>69334.000000</td>\n",
       "      <td>55467.000000</td>\n",
       "      <td>41601.000000</td>\n",
       "      <td>27734.000000</td>\n",
       "      <td>13867.000000</td>\n",
       "      <td>6934.000000</td>\n",
       "      <td>1387.000000</td>\n",
       "    </tr>\n",
       "    <tr>\n",
       "      <th>quantile</th>\n",
       "      <td>0.433935</td>\n",
       "      <td>0.454430</td>\n",
       "      <td>0.478374</td>\n",
       "      <td>0.514317</td>\n",
       "      <td>0.570011</td>\n",
       "      <td>0.622834</td>\n",
       "      <td>0.719574</td>\n",
       "    </tr>\n",
       "    <tr>\n",
       "      <th rowspan=\"3\" valign=\"top\">validation</th>\n",
       "      <th>accuracy</th>\n",
       "      <td>0.376676</td>\n",
       "      <td>0.370648</td>\n",
       "      <td>0.372712</td>\n",
       "      <td>0.364623</td>\n",
       "      <td>0.356322</td>\n",
       "      <td>0.337165</td>\n",
       "      <td>0.356688</td>\n",
       "    </tr>\n",
       "    <tr>\n",
       "      <th>len</th>\n",
       "      <td>7829.000000</td>\n",
       "      <td>6262.000000</td>\n",
       "      <td>4698.000000</td>\n",
       "      <td>3132.000000</td>\n",
       "      <td>1566.000000</td>\n",
       "      <td>783.000000</td>\n",
       "      <td>157.000000</td>\n",
       "    </tr>\n",
       "    <tr>\n",
       "      <th>quantile</th>\n",
       "      <td>0.428339</td>\n",
       "      <td>0.446638</td>\n",
       "      <td>0.468273</td>\n",
       "      <td>0.498177</td>\n",
       "      <td>0.540965</td>\n",
       "      <td>0.581718</td>\n",
       "      <td>0.672474</td>\n",
       "    </tr>\n",
       "  </tbody>\n",
       "</table>\n",
       "</div>"
      ],
      "text/plain": [
       "quantile                     0.50          0.60          0.70          0.80  \\\n",
       "split      value                                                              \n",
       "testing    accuracy      0.388338      0.387026      0.387755      0.386297   \n",
       "           len        1715.000000   1372.000000   1029.000000    686.000000   \n",
       "           quantile      0.429393      0.446544      0.468057      0.493696   \n",
       "training   accuracy      0.542937      0.564047      0.592726      0.630129   \n",
       "           len       69334.000000  55467.000000  41601.000000  27734.000000   \n",
       "           quantile      0.433935      0.454430      0.478374      0.514317   \n",
       "validation accuracy      0.376676      0.370648      0.372712      0.364623   \n",
       "           len        7829.000000   6262.000000   4698.000000   3132.000000   \n",
       "           quantile      0.428339      0.446638      0.468273      0.498177   \n",
       "\n",
       "quantile                     0.90         0.95         0.99  \n",
       "split      value                                             \n",
       "testing    accuracy      0.390671     0.370588     0.257143  \n",
       "           len         343.000000   170.000000    35.000000  \n",
       "           quantile      0.539201     0.583723     0.668375  \n",
       "training   accuracy      0.689839     0.741275     0.854362  \n",
       "           len       13867.000000  6934.000000  1387.000000  \n",
       "           quantile      0.570011     0.622834     0.719574  \n",
       "validation accuracy      0.356322     0.337165     0.356688  \n",
       "           len        1566.000000   783.000000   157.000000  \n",
       "           quantile      0.540965     0.581718     0.672474  "
      ]
     },
     "execution_count": 94,
     "metadata": {},
     "output_type": "execute_result"
    }
   ],
   "source": [
    "summary_df"
   ]
  },
  {
   "cell_type": "code",
   "execution_count": 95,
   "metadata": {},
   "outputs": [],
   "source": [
    "subframe = df.loc[\n",
    "    (df['split'] == 'validation') & \n",
    "    (df['max_probs'] > quantiles.at[('testing', 'quantile'), 0.9])\n",
    "    ]"
   ]
  },
  {
   "cell_type": "code",
   "execution_count": 96,
   "metadata": {},
   "outputs": [
    {
     "data": {
      "text/plain": [
       "class_preds\n",
       "0    1163\n",
       "2     434\n",
       "1      19\n",
       "Name: count, dtype: int64"
      ]
     },
     "execution_count": 96,
     "metadata": {},
     "output_type": "execute_result"
    }
   ],
   "source": [
    "subframe['class_preds'].value_counts()"
   ]
  },
  {
   "cell_type": "code",
   "execution_count": 97,
   "metadata": {},
   "outputs": [
    {
     "data": {
      "text/plain": [
       "z_score_class\n",
       "2    629\n",
       "1    558\n",
       "0    429\n",
       "Name: count, dtype: int64"
      ]
     },
     "execution_count": 97,
     "metadata": {},
     "output_type": "execute_result"
    }
   ],
   "source": [
    "subframe['z_score_class'].value_counts()"
   ]
  },
  {
   "cell_type": "code",
   "execution_count": 98,
   "metadata": {},
   "outputs": [
    {
     "data": {
      "text/html": [
       "<div>\n",
       "<style scoped>\n",
       "    .dataframe tbody tr th:only-of-type {\n",
       "        vertical-align: middle;\n",
       "    }\n",
       "\n",
       "    .dataframe tbody tr th {\n",
       "        vertical-align: top;\n",
       "    }\n",
       "\n",
       "    .dataframe thead th {\n",
       "        text-align: right;\n",
       "    }\n",
       "</style>\n",
       "<table border=\"1\" class=\"dataframe\">\n",
       "  <thead>\n",
       "    <tr style=\"text-align: right;\">\n",
       "      <th>z_score_class</th>\n",
       "      <th>0</th>\n",
       "      <th>1</th>\n",
       "      <th>2</th>\n",
       "    </tr>\n",
       "  </thead>\n",
       "  <tbody>\n",
       "    <tr>\n",
       "      <th>count</th>\n",
       "      <td>429.000000</td>\n",
       "      <td>558.000000</td>\n",
       "      <td>629.000000</td>\n",
       "    </tr>\n",
       "    <tr>\n",
       "      <th>mean</th>\n",
       "      <td>0.000913</td>\n",
       "      <td>0.029559</td>\n",
       "      <td>-0.025686</td>\n",
       "    </tr>\n",
       "    <tr>\n",
       "      <th>std</th>\n",
       "      <td>0.012964</td>\n",
       "      <td>0.068346</td>\n",
       "      <td>0.041679</td>\n",
       "    </tr>\n",
       "    <tr>\n",
       "      <th>min</th>\n",
       "      <td>-0.038817</td>\n",
       "      <td>-0.034091</td>\n",
       "      <td>-0.513500</td>\n",
       "    </tr>\n",
       "    <tr>\n",
       "      <th>25%</th>\n",
       "      <td>-0.007250</td>\n",
       "      <td>0.005935</td>\n",
       "      <td>-0.039164</td>\n",
       "    </tr>\n",
       "    <tr>\n",
       "      <th>50%</th>\n",
       "      <td>0.000624</td>\n",
       "      <td>0.017846</td>\n",
       "      <td>-0.016596</td>\n",
       "    </tr>\n",
       "    <tr>\n",
       "      <th>75%</th>\n",
       "      <td>0.009865</td>\n",
       "      <td>0.038630</td>\n",
       "      <td>-0.003204</td>\n",
       "    </tr>\n",
       "    <tr>\n",
       "      <th>max</th>\n",
       "      <td>0.044496</td>\n",
       "      <td>1.346154</td>\n",
       "      <td>0.031494</td>\n",
       "    </tr>\n",
       "  </tbody>\n",
       "</table>\n",
       "</div>"
      ],
      "text/plain": [
       "z_score_class           0           1           2\n",
       "count          429.000000  558.000000  629.000000\n",
       "mean             0.000913    0.029559   -0.025686\n",
       "std              0.012964    0.068346    0.041679\n",
       "min             -0.038817   -0.034091   -0.513500\n",
       "25%             -0.007250    0.005935   -0.039164\n",
       "50%              0.000624    0.017846   -0.016596\n",
       "75%              0.009865    0.038630   -0.003204\n",
       "max              0.044496    1.346154    0.031494"
      ]
     },
     "execution_count": 98,
     "metadata": {},
     "output_type": "execute_result"
    }
   ],
   "source": [
    "subframe.groupby('z_score_class')['r'].describe().T"
   ]
  },
  {
   "cell_type": "code",
   "execution_count": 100,
   "metadata": {},
   "outputs": [
    {
     "data": {
      "text/html": [
       "<div>\n",
       "<style scoped>\n",
       "    .dataframe tbody tr th:only-of-type {\n",
       "        vertical-align: middle;\n",
       "    }\n",
       "\n",
       "    .dataframe tbody tr th {\n",
       "        vertical-align: top;\n",
       "    }\n",
       "\n",
       "    .dataframe thead th {\n",
       "        text-align: right;\n",
       "    }\n",
       "</style>\n",
       "<table border=\"1\" class=\"dataframe\">\n",
       "  <thead>\n",
       "    <tr style=\"text-align: right;\">\n",
       "      <th></th>\n",
       "      <th>parsed_body</th>\n",
       "      <th>z_score_class</th>\n",
       "      <th>class_preds</th>\n",
       "      <th>max_probs</th>\n",
       "      <th>stocks</th>\n",
       "    </tr>\n",
       "    <tr>\n",
       "      <th>index</th>\n",
       "      <th></th>\n",
       "      <th></th>\n",
       "      <th></th>\n",
       "      <th></th>\n",
       "      <th></th>\n",
       "    </tr>\n",
       "  </thead>\n",
       "  <tbody>\n",
       "    <tr>\n",
       "      <th>4469477</th>\n",
       "      <td>Health Net Awards $1.5 Million Grant to Keck S...</td>\n",
       "      <td>2</td>\n",
       "      <td>1</td>\n",
       "      <td>0.685178</td>\n",
       "      <td>CNC</td>\n",
       "    </tr>\n",
       "    <tr>\n",
       "      <th>4434843</th>\n",
       "      <td>Morgan Stanley at Work Announces 2022 End of Y...</td>\n",
       "      <td>1</td>\n",
       "      <td>1</td>\n",
       "      <td>0.595549</td>\n",
       "      <td>MS</td>\n",
       "    </tr>\n",
       "    <tr>\n",
       "      <th>4508526</th>\n",
       "      <td>Polaris Donates More Than $135,000 to Off-Road...</td>\n",
       "      <td>0</td>\n",
       "      <td>1</td>\n",
       "      <td>0.593507</td>\n",
       "      <td>PII</td>\n",
       "    </tr>\n",
       "    <tr>\n",
       "      <th>4520099</th>\n",
       "      <td>More Than 5,000 Nonprofits, Schools Benefit fr...</td>\n",
       "      <td>0</td>\n",
       "      <td>1</td>\n",
       "      <td>0.591979</td>\n",
       "      <td>PCG</td>\n",
       "    </tr>\n",
       "    <tr>\n",
       "      <th>4342630</th>\n",
       "      <td>Winmark Corporation Announces Second Quarter R...</td>\n",
       "      <td>1</td>\n",
       "      <td>1</td>\n",
       "      <td>0.573910</td>\n",
       "      <td>WINA</td>\n",
       "    </tr>\n",
       "    <tr>\n",
       "      <th>4505765</th>\n",
       "      <td>Class Action Lawsuit Filed on Behalf of Vertex...</td>\n",
       "      <td>2</td>\n",
       "      <td>1</td>\n",
       "      <td>0.572249</td>\n",
       "      <td>VTNR</td>\n",
       "    </tr>\n",
       "    <tr>\n",
       "      <th>4329077</th>\n",
       "      <td>Winmark Corporation Announces Addition of Play...</td>\n",
       "      <td>2</td>\n",
       "      <td>1</td>\n",
       "      <td>0.567890</td>\n",
       "      <td>WINA</td>\n",
       "    </tr>\n",
       "    <tr>\n",
       "      <th>4501661</th>\n",
       "      <td>ROSEN, A LEADING LAW FIRM, Encourages TAL Educ...</td>\n",
       "      <td>1</td>\n",
       "      <td>1</td>\n",
       "      <td>0.566307</td>\n",
       "      <td>TAL</td>\n",
       "    </tr>\n",
       "    <tr>\n",
       "      <th>4482071</th>\n",
       "      <td>Class Action Lawsuit Filed on Behalf of Vertex...</td>\n",
       "      <td>1</td>\n",
       "      <td>1</td>\n",
       "      <td>0.563102</td>\n",
       "      <td>VTNR</td>\n",
       "    </tr>\n",
       "    <tr>\n",
       "      <th>4527501</th>\n",
       "      <td>Dotdash Meredith Launches D/Cipher, a Transfor...</td>\n",
       "      <td>0</td>\n",
       "      <td>1</td>\n",
       "      <td>0.558890</td>\n",
       "      <td>IAC</td>\n",
       "    </tr>\n",
       "    <tr>\n",
       "      <th>4507566</th>\n",
       "      <td>Winmark Corporation Announces First Quarter Re...</td>\n",
       "      <td>1</td>\n",
       "      <td>1</td>\n",
       "      <td>0.557646</td>\n",
       "      <td>WINA</td>\n",
       "    </tr>\n",
       "    <tr>\n",
       "      <th>4388405</th>\n",
       "      <td>Health Net Awarded \"Health Equity Accreditatio...</td>\n",
       "      <td>1</td>\n",
       "      <td>1</td>\n",
       "      <td>0.557537</td>\n",
       "      <td>CNC</td>\n",
       "    </tr>\n",
       "    <tr>\n",
       "      <th>4527602</th>\n",
       "      <td>Henderson, NV: Century Communities Announces N...</td>\n",
       "      <td>1</td>\n",
       "      <td>1</td>\n",
       "      <td>0.556172</td>\n",
       "      <td>CCS</td>\n",
       "    </tr>\n",
       "    <tr>\n",
       "      <th>4476067</th>\n",
       "      <td>Consensus Cloud Shareholder Notice. Securities...</td>\n",
       "      <td>2</td>\n",
       "      <td>1</td>\n",
       "      <td>0.549964</td>\n",
       "      <td>CCSI</td>\n",
       "    </tr>\n",
       "    <tr>\n",
       "      <th>4473259</th>\n",
       "      <td>OVATION TV PARTNERS WITH CHARTER COMMUNICATION...</td>\n",
       "      <td>0</td>\n",
       "      <td>1</td>\n",
       "      <td>0.549161</td>\n",
       "      <td>CHTR</td>\n",
       "    </tr>\n",
       "    <tr>\n",
       "      <th>4414249</th>\n",
       "      <td>Patterson Enters Agreement to Acquire Relief S...</td>\n",
       "      <td>2</td>\n",
       "      <td>1</td>\n",
       "      <td>0.546369</td>\n",
       "      <td>PDCO</td>\n",
       "    </tr>\n",
       "    <tr>\n",
       "      <th>4414271</th>\n",
       "      <td>Bio-Rad and NuProbe Enter into an Exclusive Li...</td>\n",
       "      <td>0</td>\n",
       "      <td>1</td>\n",
       "      <td>0.544874</td>\n",
       "      <td>BIO</td>\n",
       "    </tr>\n",
       "    <tr>\n",
       "      <th>4476809</th>\n",
       "      <td>SHAREHOLDER ALERT: Kaskela Law LLC Announces I...</td>\n",
       "      <td>1</td>\n",
       "      <td>1</td>\n",
       "      <td>0.540259</td>\n",
       "      <td>MRTX</td>\n",
       "    </tr>\n",
       "    <tr>\n",
       "      <th>4434151</th>\n",
       "      <td>Portillo's Named a 2022 Best in Biz Awards Sil...</td>\n",
       "      <td>1</td>\n",
       "      <td>1</td>\n",
       "      <td>0.539305</td>\n",
       "      <td>PTLO</td>\n",
       "    </tr>\n",
       "  </tbody>\n",
       "</table>\n",
       "</div>"
      ],
      "text/plain": [
       "                                               parsed_body  z_score_class  \\\n",
       "index                                                                       \n",
       "4469477  Health Net Awards $1.5 Million Grant to Keck S...              2   \n",
       "4434843  Morgan Stanley at Work Announces 2022 End of Y...              1   \n",
       "4508526  Polaris Donates More Than $135,000 to Off-Road...              0   \n",
       "4520099  More Than 5,000 Nonprofits, Schools Benefit fr...              0   \n",
       "4342630  Winmark Corporation Announces Second Quarter R...              1   \n",
       "4505765  Class Action Lawsuit Filed on Behalf of Vertex...              2   \n",
       "4329077  Winmark Corporation Announces Addition of Play...              2   \n",
       "4501661  ROSEN, A LEADING LAW FIRM, Encourages TAL Educ...              1   \n",
       "4482071  Class Action Lawsuit Filed on Behalf of Vertex...              1   \n",
       "4527501  Dotdash Meredith Launches D/Cipher, a Transfor...              0   \n",
       "4507566  Winmark Corporation Announces First Quarter Re...              1   \n",
       "4388405  Health Net Awarded \"Health Equity Accreditatio...              1   \n",
       "4527602  Henderson, NV: Century Communities Announces N...              1   \n",
       "4476067  Consensus Cloud Shareholder Notice. Securities...              2   \n",
       "4473259  OVATION TV PARTNERS WITH CHARTER COMMUNICATION...              0   \n",
       "4414249  Patterson Enters Agreement to Acquire Relief S...              2   \n",
       "4414271  Bio-Rad and NuProbe Enter into an Exclusive Li...              0   \n",
       "4476809  SHAREHOLDER ALERT: Kaskela Law LLC Announces I...              1   \n",
       "4434151  Portillo's Named a 2022 Best in Biz Awards Sil...              1   \n",
       "\n",
       "         class_preds  max_probs stocks  \n",
       "index                                   \n",
       "4469477            1   0.685178    CNC  \n",
       "4434843            1   0.595549     MS  \n",
       "4508526            1   0.593507    PII  \n",
       "4520099            1   0.591979    PCG  \n",
       "4342630            1   0.573910   WINA  \n",
       "4505765            1   0.572249   VTNR  \n",
       "4329077            1   0.567890   WINA  \n",
       "4501661            1   0.566307    TAL  \n",
       "4482071            1   0.563102   VTNR  \n",
       "4527501            1   0.558890    IAC  \n",
       "4507566            1   0.557646   WINA  \n",
       "4388405            1   0.557537    CNC  \n",
       "4527602            1   0.556172    CCS  \n",
       "4476067            1   0.549964   CCSI  \n",
       "4473259            1   0.549161   CHTR  \n",
       "4414249            1   0.546369   PDCO  \n",
       "4414271            1   0.544874    BIO  \n",
       "4476809            1   0.540259   MRTX  \n",
       "4434151            1   0.539305   PTLO  "
      ]
     },
     "execution_count": 100,
     "metadata": {},
     "output_type": "execute_result"
    }
   ],
   "source": [
    "tmp = subframe[[\"parsed_body\", \"z_score_class\", \"class_preds\", \"max_probs\", \"stocks\"]].sort_values(\"max_probs\", ascending=False)\n",
    "tmp = tmp[tmp['class_preds'] == 1]\n",
    "tmp"
   ]
  },
  {
   "cell_type": "code",
   "execution_count": 91,
   "metadata": {},
   "outputs": [
    {
     "data": {
      "text/plain": [
       "'Winmark Corporation Announces Second Quarter Results. the company announced today net income for the quarter ended $10,368,800 or $2.85 per share diluted compared to net income of $9,027,200 or $2.54 per share diluted in 2022. \"Our year to date results reflect positive franchisee performance and the company \\'s continued emphasis on providing exceptional operational support,\" commented Brett D. Heffes, Chair and Chief Executive Officer. the company — the Resale Company®, is a nationally recognized franchising business focused on sustainability and small business formation. We champion and guide entrepreneurs interested in operating one of our award winning resale franchises: Plato\\'s Closet®, Once Upon A Child®, Play It Again Sports®, Style Encore® and Music Go Round®. , there were 1,303 franchises in operation and over 2,800 available territories. An additional 70 franchises have been awarded but are not open. This press release contains forward looking statements within the meaning of the safe harbor provisions of Section 21E of the Securities Exchange Act of 1934, as amended , relating to future events or the future financial performance of the Company. Such forward looking statements are only predictions or statements of intention subject to risks and uncertainties and actual events or results could differ materially from those anticipated. Because actual result may differ, shareholders and prospective investors are cautioned not to place undue reliance on such forward looking statements. View source version on businesswire'"
      ]
     },
     "execution_count": 91,
     "metadata": {},
     "output_type": "execute_result"
    }
   ],
   "source": [
    "tmp.iloc[1][\"parsed_body\"]"
   ]
  },
  {
   "cell_type": "markdown",
   "metadata": {},
   "source": [
    "# Change Over Time"
   ]
  },
  {
   "attachments": {},
   "cell_type": "markdown",
   "metadata": {},
   "source": [
    "# Analysis of Single Forecast: "
   ]
  },
  {
   "cell_type": "code",
   "execution_count": null,
   "metadata": {},
   "outputs": [],
   "source": [
    "idx = 11\n",
    "tmp = test_dat.loc[pred_margin_mask]\n",
    "row = tmp.iloc[idx, :]\n",
    "print(row)\n",
    "# print(f\"Fcst: {row.Fcst}\")\n",
    "# print(f\"Target: {row.IntradayReturn}\")\n",
    "\n",
    "print(row.body[:750])\n",
    "pr_time, ticker, fcst = row[[\"Date\", \"ID\", \"Fcst\"]]\n",
    "df = stocks.query(\"(Date >= @pr_time) & (ID == @ticker)\").head(30)\n",
    "fig = go.Figure(data=[go.Candlestick(x=df['Date'],\n",
    "                open=df['Open'],\n",
    "                high=df['High'],\n",
    "                low=df['Low'],\n",
    "                close=df['Close'])])\n",
    "fig.update_layout(xaxis_rangeslider_visible=False)\n",
    "fig.show()"
   ]
  },
  {
   "cell_type": "code",
   "execution_count": null,
   "metadata": {},
   "outputs": [],
   "source": [
    "print(row)"
   ]
  },
  {
   "attachments": {},
   "cell_type": "markdown",
   "metadata": {},
   "source": [
    "# Trading Performance"
   ]
  },
  {
   "cell_type": "code",
   "execution_count": null,
   "metadata": {},
   "outputs": [],
   "source": [
    "tmp = test_dat.loc[pred_margin_mask].dropna()"
   ]
  },
  {
   "cell_type": "code",
   "execution_count": null,
   "metadata": {},
   "outputs": [],
   "source": [
    "tmp.head()"
   ]
  },
  {
   "cell_type": "code",
   "execution_count": null,
   "metadata": {},
   "outputs": [],
   "source": [
    "trades = np.sign(tmp[\"Fcst\"])*tmp[\"CloseToCloseReturn\"]"
   ]
  },
  {
   "cell_type": "code",
   "execution_count": null,
   "metadata": {},
   "outputs": [],
   "source": [
    "trades.mean()"
   ]
  },
  {
   "cell_type": "code",
   "execution_count": null,
   "metadata": {},
   "outputs": [],
   "source": [
    "px.scatter(tmp, x=MODEL_CONFIG.target_col_name, y=\"Fcst\")"
   ]
  },
  {
   "cell_type": "code",
   "execution_count": null,
   "metadata": {},
   "outputs": [],
   "source": []
  }
 ],
 "metadata": {
  "kernelspec": {
   "display_name": ".env",
   "language": "python",
   "name": "python3"
  },
  "language_info": {
   "codemirror_mode": {
    "name": "ipython",
    "version": 3
   },
   "file_extension": ".py",
   "mimetype": "text/x-python",
   "name": "python",
   "nbconvert_exporter": "python",
   "pygments_lexer": "ipython3",
   "version": "3.11.7"
  }
 },
 "nbformat": 4,
 "nbformat_minor": 2
}
