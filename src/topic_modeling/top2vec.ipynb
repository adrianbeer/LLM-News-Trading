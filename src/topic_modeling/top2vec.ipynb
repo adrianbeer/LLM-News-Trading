{
 "cells": [
  {
   "cell_type": "code",
   "execution_count": 1,
   "metadata": {},
   "outputs": [
    {
     "name": "stderr",
     "output_type": "stream",
     "text": [
      "c:\\Users\\Adria\\Documents\\Github Projects\\trading_bot\\.venv\\Lib\\site-packages\\tqdm\\auto.py:21: TqdmWarning: IProgress not found. Please update jupyter and ipywidgets. See https://ipywidgets.readthedocs.io/en/stable/user_install.html\n",
      "  from .autonotebook import tqdm as notebook_tqdm\n"
     ]
    }
   ],
   "source": [
    "from src.config import config\n",
    "import pandas as pd\n",
    "import os"
   ]
  },
  {
   "cell_type": "code",
   "execution_count": 39,
   "metadata": {},
   "outputs": [],
   "source": [
    "dataset = pd.read_parquet(config.data.merged, columns=[\"parsed_body\"])"
   ]
  },
  {
   "cell_type": "code",
   "execution_count": 41,
   "metadata": {},
   "outputs": [
    {
     "data": {
      "text/plain": [
       "(419094, 1)"
      ]
     },
     "execution_count": 41,
     "metadata": {},
     "output_type": "execute_result"
    }
   ],
   "source": [
    "dataset.shape"
   ]
  },
  {
   "cell_type": "code",
   "execution_count": 42,
   "metadata": {},
   "outputs": [
    {
     "name": "stderr",
     "output_type": "stream",
     "text": [
      "2024-01-21 15:04:34,979 - top2vec - INFO - Pre-processing documents for training\n",
      "2024-01-21 15:32:14,151 - top2vec - INFO - Creating joint document/word embedding\n"
     ]
    }
   ],
   "source": [
    "## Top2Vec\n",
    "\n",
    "'''\n",
    "Topic Modeling with Top2Vec: Minimum Viable Example\n",
    "References:\n",
    "[1] https://github.com/ddangelov/Top2Vec\n",
    "[2] https://top2vec.readthedocs.io/_/downloads/en/stable/pdf/\n",
    "'''\n",
    "from top2vec import Top2Vec\n",
    "\n",
    "# Fetch 20newsgropus dataset\n",
    "docs = dataset.parsed_body.tolist()\n",
    "\n",
    "# Create jointly embedded topic, document and word vectors\n",
    "model = Top2Vec(\n",
    "  docs, \n",
    "  embedding_model = 'doc2vec', # Embedding model: See [1,2] for supported models\n",
    "  min_count = 2500,            # Ignore words less frequent than this value\n",
    "  umap_args = None,            # Dict of custom args for UMAP\n",
    "  hdbscan_args = None,         # Dict of custom argd for HDBSCAN\n",
    "  workers=os.cpu_count(),\n",
    "  speed=\"deep-lean\"\n",
    "  )"
   ]
  },
  {
   "cell_type": "code",
   "execution_count": null,
   "metadata": {},
   "outputs": [],
   "source": [
    "model.save(\"top2vec.model\")"
   ]
  },
  {
   "cell_type": "code",
   "execution_count": null,
   "metadata": {},
   "outputs": [
    {
     "data": {
      "text/plain": [
       "191"
      ]
     },
     "execution_count": 24,
     "metadata": {},
     "output_type": "execute_result"
    }
   ],
   "source": [
    "model.get_num_topics()"
   ]
  },
  {
   "cell_type": "code",
   "execution_count": null,
   "metadata": {},
   "outputs": [],
   "source": [
    "topic_sizes, topic_nums = model.get_topic_sizes()"
   ]
  },
  {
   "cell_type": "code",
   "execution_count": null,
   "metadata": {},
   "outputs": [
    {
     "data": {
      "text/plain": [
       "array([508, 231, 227, 225, 211, 203, 188, 159, 156, 153, 143, 140, 133,\n",
       "       131, 129, 124, 120, 116,  90,  87,  86,  85,  85,  83,  83,  83,\n",
       "        81,  77,  75,  73,  72,  70,  70,  69,  66,  64,  63,  62,  61,\n",
       "        61,  59,  58,  56,  56,  54,  54,  54,  51,  51,  51,  51,  50,\n",
       "        49,  49,  48,  48,  47,  46,  46,  45,  45,  45,  44,  44,  44,\n",
       "        44,  43,  43,  43,  43,  42,  42,  42,  41,  41,  41,  41,  41,\n",
       "        41,  40,  40,  40,  40,  39,  39,  39,  39,  38,  38,  37,  37,\n",
       "        37,  37,  36,  36,  36,  36,  36,  35,  35,  35,  35,  34,  34,\n",
       "        34,  34,  34,  33,  33,  33,  32,  32,  32,  32,  32,  31,  31,\n",
       "        31,  31,  31,  31,  31,  31,  31,  30,  30,  30,  30,  30,  30,\n",
       "        30,  29,  29,  29,  29,  28,  28,  28,  28,  28,  28,  28,  27,\n",
       "        27,  27,  27,  27,  27,  27,  26,  26,  26,  26,  26,  26,  25,\n",
       "        25,  25,  25,  25,  24,  24,  24,  24,  24,  24,  24,  24,  23,\n",
       "        23,  23,  23,  23,  22,  22,  22,  21,  21,  21,  21,  21,  21,\n",
       "        20,  20,  19,  19,  19,  18,  17,  17,  16], dtype=int64)"
      ]
     },
     "execution_count": 26,
     "metadata": {},
     "output_type": "execute_result"
    }
   ],
   "source": [
    "topic_sizes"
   ]
  },
  {
   "cell_type": "code",
   "execution_count": 37,
   "metadata": {},
   "outputs": [],
   "source": [
    "topic_words, word_scores, topic_nums = model.get_topics(10)"
   ]
  },
  {
   "cell_type": "code",
   "execution_count": 38,
   "metadata": {},
   "outputs": [
    {
     "data": {
      "text/plain": [
       "[array(['webcast', 'replay', 'website', 'listen', 'archived', 'conference',\n",
       "        'call', 'investor', 'live', 'presentation'], dtype='<U15'),\n",
       " array(['he', 'roles', 'joining', 'his', 'bachelor', 'mba', 'served', 'mr',\n",
       "        'joined', 'role'], dtype='<U15'),\n",
       " array(['dividend', 'declared', 'dividends', 'payable', 'quarterly',\n",
       "        'record', 'shareholders', 'directors', 'stock', 'regular'],\n",
       "       dtype='<U15'),\n",
       " array(['therapeutic', 'molecule', 'disease', 'drugs', 'drug', 'therapies',\n",
       "        'therapeutics', 'clinical', 'inflammatory', 'oncology'],\n",
       "       dtype='<U15'),\n",
       " array(['electricity', 'utility', 'megawatts', 'electric', 'nuclear',\n",
       "        'energy', 'generating', 'utilities', 'transmission', 'megawatt'],\n",
       "       dtype='<U15'),\n",
       " array(['broadband', 'mobile', 'voice', 'att', 'wireless', 'coverage',\n",
       "        'fi', 'wi', 'network', 'verse'], dtype='<U15'),\n",
       " array(['apparel', 'footwear', 'accessories', 'clothing', 'fashion',\n",
       "        'casual', 'merchandise', 'stores', 'retailer', 'cato'],\n",
       "       dtype='<U15'),\n",
       " array(['institutional', 'equities', 'mutual', 'investment', 'funds',\n",
       "        'stocks', 'advisors', 'wealth', 'clients', 'asset'], dtype='<U15'),\n",
       " array(['sustainment', 'bethesda', 'missile', 'navy', 'command',\n",
       "        'tactical', 'combat', 'md', 'warfare', 'missions'], dtype='<U15'),\n",
       " array(['feet', 'square', 'redevelopment', 'estate', 'realty',\n",
       "        'properties', 'reit', 'tenant', 'ownership', 'leased'],\n",
       "       dtype='<U15')]"
      ]
     },
     "execution_count": 38,
     "metadata": {},
     "output_type": "execute_result"
    }
   ],
   "source": [
    "[x[:10] for x in topic_words]"
   ]
  },
  {
   "cell_type": "code",
   "execution_count": null,
   "metadata": {},
   "outputs": [],
   "source": [
    "topic_words, word_scores, topic_scores, topic_nums = model.search_topics(keywords=[\"medicine\"], num_topics=5)"
   ]
  },
  {
   "cell_type": "code",
   "execution_count": 33,
   "metadata": {},
   "outputs": [],
   "source": [
    "topic_nums, topic_scores, _, _ = model.get_documents_topics(list(range(len(dataset))), reduced=False, num_topics=1)\n"
   ]
  },
  {
   "cell_type": "code",
   "execution_count": 34,
   "metadata": {},
   "outputs": [
    {
     "data": {
      "text/plain": [
       "array([ 50, 158, 158, ...,  22, 125,  78])"
      ]
     },
     "execution_count": 34,
     "metadata": {},
     "output_type": "execute_result"
    }
   ],
   "source": [
    "topic_nums"
   ]
  },
  {
   "cell_type": "code",
   "execution_count": 35,
   "metadata": {},
   "outputs": [
    {
     "data": {
      "text/plain": [
       "array([0.77271056, 0.88665867, 0.863677  , ..., 0.5109895 , 0.46452522,\n",
       "       0.24834464], dtype=float32)"
      ]
     },
     "execution_count": 35,
     "metadata": {},
     "output_type": "execute_result"
    }
   ],
   "source": [
    "topic_scores"
   ]
  },
  {
   "cell_type": "markdown",
   "metadata": {},
   "source": [
    "search_documents_by_documents -> K-Means?"
   ]
  }
 ],
 "metadata": {
  "kernelspec": {
   "display_name": ".venv",
   "language": "python",
   "name": "python3"
  },
  "language_info": {
   "codemirror_mode": {
    "name": "ipython",
    "version": 3
   },
   "file_extension": ".py",
   "mimetype": "text/x-python",
   "name": "python",
   "nbconvert_exporter": "python",
   "pygments_lexer": "ipython3",
   "version": "3.11.3"
  }
 },
 "nbformat": 4,
 "nbformat_minor": 2
}
