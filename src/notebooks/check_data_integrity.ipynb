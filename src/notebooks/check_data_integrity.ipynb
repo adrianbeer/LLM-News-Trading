{
 "cells": [
  {
   "cell_type": "code",
   "execution_count": 1,
   "id": "e0a38ea4-3112-4c86-9a5b-628a49145ce3",
   "metadata": {},
   "outputs": [
    {
     "name": "stderr",
     "output_type": "stream",
     "text": [
      "/gxfs_work/cau/sunms534/.conda/envs/my_pytorch_env/lib/python3.11/site-packages/IPython/core/magics/osm.py:417: UserWarning: using dhist requires you to install the `pickleshare` library.\n",
      "  self.shell.db['dhist'] = compress_dhist(dhist)[-100:]\n"
     ]
    },
    {
     "name": "stdout",
     "output_type": "stream",
     "text": [
      "/gxfs_work/cau/sunms534/trading_bot\n"
     ]
    }
   ],
   "source": [
    "%cd /gxfs_work/cau/sunms534/trading_bot/\n",
    "import pandas as pd \n",
    "import numpy as np\n",
    "from src.config import config, ClassificationConfig, PREP_CONFIG\n"
   ]
  },
  {
   "cell_type": "code",
   "execution_count": 2,
   "id": "d9b81c5d-1c4e-48ef-abc9-666e8c54161d",
   "metadata": {},
   "outputs": [],
   "source": [
    "from transformers import AutoTokenizer"
   ]
  },
  {
   "cell_type": "code",
   "execution_count": 3,
   "id": "4ee59e81-5955-4a41-a24e-40bc18452c08",
   "metadata": {},
   "outputs": [],
   "source": [
    "# 1. Taking a look at cleaned dataset"
   ]
  },
  {
   "cell_type": "code",
   "execution_count": 4,
   "id": "fc1b5c68-b2d2-41fd-866f-f0fa33c10dd9",
   "metadata": {},
   "outputs": [],
   "source": [
    "stripped = pd.read_parquet(config.data.news.stripped)"
   ]
  },
  {
   "cell_type": "code",
   "execution_count": 5,
   "id": "a5874f10-a31d-44ad-8b23-aa021f820989",
   "metadata": {},
   "outputs": [
    {
     "data": {
      "text/plain": [
       "Index(['time', 'stocks', 'title', 'body', 'intra_day_time', 'channels',\n",
       "       'company_name', 'short_name', 'author', 'parsed_body', 'cls_token',\n",
       "       'staleness'],\n",
       "      dtype='object')"
      ]
     },
     "execution_count": 5,
     "metadata": {},
     "output_type": "execute_result"
    }
   ],
   "source": [
    "stripped.columns"
   ]
  },
  {
   "cell_type": "code",
   "execution_count": 6,
   "id": "301c7a21-09fe-403b-b815-4712df7f031b",
   "metadata": {},
   "outputs": [
    {
     "data": {
      "text/html": [
       "<div>\n",
       "<style scoped>\n",
       "    .dataframe tbody tr th:only-of-type {\n",
       "        vertical-align: middle;\n",
       "    }\n",
       "\n",
       "    .dataframe tbody tr th {\n",
       "        vertical-align: top;\n",
       "    }\n",
       "\n",
       "    .dataframe thead th {\n",
       "        text-align: right;\n",
       "    }\n",
       "</style>\n",
       "<table border=\"1\" class=\"dataframe\">\n",
       "  <thead>\n",
       "    <tr style=\"text-align: right;\">\n",
       "      <th></th>\n",
       "      <th>title</th>\n",
       "      <th>stocks</th>\n",
       "      <th>parsed_body</th>\n",
       "    </tr>\n",
       "    <tr>\n",
       "      <th>index</th>\n",
       "      <th></th>\n",
       "      <th></th>\n",
       "      <th></th>\n",
       "    </tr>\n",
       "  </thead>\n",
       "  <tbody>\n",
       "    <tr>\n",
       "      <th>4578113</th>\n",
       "      <td>Cybin Announces Renewed At-The-Market Equity P...</td>\n",
       "      <td>CYBN</td>\n",
       "      <td>the company  announces renewed atthemarket eq...</td>\n",
       "    </tr>\n",
       "    <tr>\n",
       "      <th>4578114</th>\n",
       "      <td>Environmental Icon Dr. Jane Goodall's Roots &amp; ...</td>\n",
       "      <td>TM</td>\n",
       "      <td>environmental icon dr jane goodalls roots  sho...</td>\n",
       "    </tr>\n",
       "    <tr>\n",
       "      <th>4578116</th>\n",
       "      <td>Chindata Group Unveils Pioneering Full-Stack S...</td>\n",
       "      <td>CD</td>\n",
       "      <td>chindata group unveils pioneering fullstack so...</td>\n",
       "    </tr>\n",
       "    <tr>\n",
       "      <th>4578117</th>\n",
       "      <td>Orbital Infrastructure Group Inc. Intends to E...</td>\n",
       "      <td>OIG</td>\n",
       "      <td>the company  inc intends to enter into purcha...</td>\n",
       "    </tr>\n",
       "    <tr>\n",
       "      <th>4578118</th>\n",
       "      <td>IBRX FINAL DEADLINE TUESDAY: ROSEN, TRUSTED IN...</td>\n",
       "      <td>IBRX</td>\n",
       "      <td>ibrx final deadline tuesday rosen trusted inve...</td>\n",
       "    </tr>\n",
       "  </tbody>\n",
       "</table>\n",
       "</div>"
      ],
      "text/plain": [
       "                                                     title stocks  \\\n",
       "index                                                               \n",
       "4578113  Cybin Announces Renewed At-The-Market Equity P...   CYBN   \n",
       "4578114  Environmental Icon Dr. Jane Goodall's Roots & ...     TM   \n",
       "4578116  Chindata Group Unveils Pioneering Full-Stack S...     CD   \n",
       "4578117  Orbital Infrastructure Group Inc. Intends to E...    OIG   \n",
       "4578118  IBRX FINAL DEADLINE TUESDAY: ROSEN, TRUSTED IN...   IBRX   \n",
       "\n",
       "                                               parsed_body  \n",
       "index                                                       \n",
       "4578113   the company  announces renewed atthemarket eq...  \n",
       "4578114  environmental icon dr jane goodalls roots  sho...  \n",
       "4578116  chindata group unveils pioneering fullstack so...  \n",
       "4578117   the company  inc intends to enter into purcha...  \n",
       "4578118  ibrx final deadline tuesday rosen trusted inve...  "
      ]
     },
     "execution_count": 6,
     "metadata": {},
     "output_type": "execute_result"
    }
   ],
   "source": [
    "stripped[[\"title\", \"stocks\", \"parsed_body\"]].tail()"
   ]
  },
  {
   "cell_type": "code",
   "execution_count": null,
   "id": "20cae158-e414-486f-ac38-e07fce31adb2",
   "metadata": {},
   "outputs": [],
   "source": [
    "# 2. Take a look at input_ids and if tokenizer works correctly"
   ]
  },
  {
   "cell_type": "code",
   "execution_count": 12,
   "id": "031bcb7c-91f5-4b5a-a13a-2ebc7b4fa7ce",
   "metadata": {},
   "outputs": [],
   "source": [
    "title_inputs_ids = pd.read_parquet(config.data.news.title_only.input_ids)"
   ]
  },
  {
   "cell_type": "code",
   "execution_count": 13,
   "id": "7b211b9f-8d9e-4305-902e-e68ac9dc641a",
   "metadata": {},
   "outputs": [],
   "source": [
    "ld = pd.read_parquet(config.data.learning_dataset)"
   ]
  },
  {
   "cell_type": "code",
   "execution_count": 14,
   "id": "6ace02da-14dc-4ec9-b48f-7a65ee83777b",
   "metadata": {},
   "outputs": [],
   "source": [
    "#cleaned = ld = pd.read_parquet(config.data.merged) # requires more memory"
   ]
  },
  {
   "cell_type": "code",
   "execution_count": 3,
   "id": "d972ac44-ac4e-4935-b81b-09b166e0c745",
   "metadata": {},
   "outputs": [],
   "source": [
    "tokenizer = AutoTokenizer.from_pretrained(PREP_CONFIG.tokenizer)"
   ]
  },
  {
   "cell_type": "code",
   "execution_count": 44,
   "id": "cf12f4eb-ac9c-47a2-852c-ce3145202ec8",
   "metadata": {},
   "outputs": [],
   "source": [
    "mask = ld.parsed_body.apply(lambda x: \"today announced\" in x)"
   ]
  },
  {
   "cell_type": "code",
   "execution_count": 47,
   "id": "81d5d1f3-91ec-4d2e-bcf7-dd406e83689e",
   "metadata": {},
   "outputs": [],
   "source": [
    "ld = ld[mask]"
   ]
  },
  {
   "cell_type": "code",
   "execution_count": null,
   "id": "e071688d-a35f-48ba-b37a-6c2facd9b2a3",
   "metadata": {},
   "outputs": [],
   "source": [
    "n = np.random.randint(0, ld.shape[0])\n",
    "index = ld.index[n]\n",
    "print(index)\n",
    "entry = title_inputs_ids.loc[index, :].values\n",
    "\n",
    "print(ld.loc[index, \"stocks\"])\n",
    "print(f\"{tokenizer.decode(entry)} \\n\")\n",
    "print(ld.loc[index, \"parsed_body\"])\n",
    "\n",
    "for x in entry:\n",
    "    print(f\"{x} --- {tokenizer.decode(x)}\")\n"
   ]
  },
  {
   "cell_type": "markdown",
   "id": "1c1bd24f-3ef4-4db3-ab74-6a23f77077f6",
   "metadata": {},
   "source": [
    "# Average number of token in news"
   ]
  },
  {
   "cell_type": "code",
   "execution_count": 4,
   "id": "5ede43a5-8b68-4354-a9bb-2e06a150e030",
   "metadata": {},
   "outputs": [],
   "source": [
    "title_inputs_ids = pd.read_parquet(config.data.news.input_ids)\n"
   ]
  },
  {
   "cell_type": "code",
   "execution_count": 5,
   "id": "8428caeb-256d-40bc-b6de-6b08b915ebc0",
   "metadata": {},
   "outputs": [],
   "source": [
    "n_padding = title_inputs_ids[title_inputs_ids == 0].sum(axis=1)"
   ]
  },
  {
   "cell_type": "code",
   "execution_count": null,
   "id": "859d055f-855d-4830-a0ce-c86eb62510a6",
   "metadata": {},
   "outputs": [],
   "source": []
  },
  {
   "cell_type": "markdown",
   "id": "2d7c0ba5-6b48-4a4e-ba7d-082430438dfe",
   "metadata": {},
   "source": [
    "# Predictions from Model"
   ]
  },
  {
   "cell_type": "code",
   "execution_count": 4,
   "id": "ba0a8987-71b4-44a1-8c2e-337196082884",
   "metadata": {},
   "outputs": [],
   "source": [
    "ld = pd.read_parquet(config.data.learning_dataset, columns=[\"z_score\", \"z_score_class\", \"parsed_body\"])\n",
    "title_inputs_ids = pd.read_parquet(config.data.news.title_only.input_ids)\n",
    "masks = pd.read_parquet(config.data.news.title_only.masks)"
   ]
  },
  {
   "cell_type": "code",
   "execution_count": 5,
   "id": "ce53113b-68ed-4143-bdb7-5ff1a8d4aa2e",
   "metadata": {},
   "outputs": [],
   "source": [
    "ld_mini = ld.iloc[-10000:,:]"
   ]
  },
  {
   "cell_type": "code",
   "execution_count": 6,
   "id": "299b026b-ebe1-443c-9fd6-eaa10405e319",
   "metadata": {},
   "outputs": [],
   "source": [
    "index = ld.index[0]"
   ]
  },
  {
   "cell_type": "code",
   "execution_count": 7,
   "id": "b0255cd9-5d69-4572-9317-20fcc753b855",
   "metadata": {},
   "outputs": [],
   "source": [
    "import torch\n",
    "import torch.nn.functional as F\n",
    "from tqdm.notebook import tqdm\n"
   ]
  },
  {
   "cell_type": "code",
   "execution_count": null,
   "id": "500d3933-27bc-4194-a75a-4647a50dbcc4",
   "metadata": {},
   "outputs": [],
   "source": [
    "from transformers import AutoTokenizer, BertForSequenceClassification, BertTokenizer\n",
    "from transformers import pipeline\n",
    "\n",
    "finbert = BertForSequenceClassification.from_pretrained(\"/gxfs_work/cau/sunms534/trading_bot/data/models/ProsusAI/finbert\", num_labels=3, local_files_only=True)\n",
    "\n",
    "prob = []\n",
    "preds = []\n",
    "actuals = []\n",
    "with torch.no_grad():\n",
    "    for index in tqdm(ld_mini.index):\n",
    "        input_id = torch.tensor([title_inputs_ids.loc[index, :].tolist()], dtype=torch.int32)\n",
    "        mask = torch.tensor([masks.loc[index, :].tolist()])\n",
    "        result = finbert(input_id, mask)\n",
    "        probs = F.softmax(result.logits).numpy()\n",
    "        prob.append(probs.max())\n",
    "        preds.append((probs.argmax()  + 1) % 2)\n",
    "        actuals.append(ld.loc[index, \"z_score_class\"])\n",
    "        #print(result)  #LABEL_0: neutral; LABEL_1: positive; LABEL_2: negative"
   ]
  },
  {
   "cell_type": "code",
   "execution_count": null,
   "id": "e8a07507-1a70-4af1-8f8f-2baba9802ed6",
   "metadata": {},
   "outputs": [],
   "source": [
    "F.softmax(result.logits).numpy().argmax()"
   ]
  },
  {
   "cell_type": "code",
   "execution_count": 75,
   "id": "c56829e3-c058-4896-92e4-b4ad2e3dcef5",
   "metadata": {},
   "outputs": [
    {
     "data": {
      "text/plain": [
       "'[CLS] robotexts increase while robocalls drop for third consecutive month, according to robokiller insights [SEP] [PAD] [PAD] [PAD] [PAD] [PAD] [PAD] [PAD] [PAD] [PAD] [PAD]'"
      ]
     },
     "execution_count": 75,
     "metadata": {},
     "output_type": "execute_result"
    }
   ],
   "source": [
    "tokenizer.decode(title_inputs_ids.loc[ld_mini.index[532]])"
   ]
  },
  {
   "cell_type": "code",
   "execution_count": 23,
   "id": "0a486847-9bc4-4885-b4d4-8d91c145444b",
   "metadata": {},
   "outputs": [
    {
     "data": {
      "text/plain": [
       "10000"
      ]
     },
     "execution_count": 23,
     "metadata": {},
     "output_type": "execute_result"
    }
   ],
   "source": [
    "len(preds)"
   ]
  },
  {
   "cell_type": "code",
   "execution_count": 58,
   "id": "e52c409a-784f-42be-9575-f18570769352",
   "metadata": {},
   "outputs": [],
   "source": [
    "df = pd.DataFrame(zip(preds,actuals, prob))"
   ]
  },
  {
   "cell_type": "code",
   "execution_count": 59,
   "id": "bd0a8835-abb9-4050-a937-56d2bc59943c",
   "metadata": {},
   "outputs": [
    {
     "data": {
      "text/plain": [
       "count    10000.000000\n",
       "mean         0.825836\n",
       "std          0.124616\n",
       "min          0.384929\n",
       "25%          0.757534\n",
       "50%          0.875642\n",
       "75%          0.923297\n",
       "max          0.969893\n",
       "Name: 2, dtype: float64"
      ]
     },
     "execution_count": 59,
     "metadata": {},
     "output_type": "execute_result"
    }
   ],
   "source": [
    "df.loc[:, 2].describe()"
   ]
  },
  {
   "cell_type": "code",
   "execution_count": 60,
   "id": "4ddbfdd8-147f-4541-ae93-b80f82555c95",
   "metadata": {},
   "outputs": [],
   "source": [
    "df = df[df.iloc[:, 2] > 0.95]"
   ]
  },
  {
   "cell_type": "code",
   "execution_count": 61,
   "id": "b0ef552d-e8f4-4cd3-aed7-8ad4542e7161",
   "metadata": {},
   "outputs": [
    {
     "data": {
      "text/plain": [
       "227"
      ]
     },
     "execution_count": 61,
     "metadata": {},
     "output_type": "execute_result"
    }
   ],
   "source": [
    "len(df)"
   ]
  },
  {
   "cell_type": "code",
   "execution_count": 62,
   "id": "1c12f712-d3e7-4229-a03b-b78d55b9fdc3",
   "metadata": {},
   "outputs": [
    {
     "data": {
      "text/plain": [
       "115"
      ]
     },
     "execution_count": 62,
     "metadata": {},
     "output_type": "execute_result"
    }
   ],
   "source": [
    "(df.iloc[:, 0] == df.iloc[:, 1]).sum()"
   ]
  },
  {
   "cell_type": "code",
   "execution_count": 63,
   "id": "e562de0c-26c1-4d5f-a27a-ebfecd3e0d5a",
   "metadata": {},
   "outputs": [
    {
     "data": {
      "text/plain": [
       "1\n",
       "1    119\n",
       "2     65\n",
       "0     43\n",
       "Name: count, dtype: int64"
      ]
     },
     "execution_count": 63,
     "metadata": {},
     "output_type": "execute_result"
    }
   ],
   "source": [
    "df.iloc[:, 1].value_counts()"
   ]
  },
  {
   "cell_type": "code",
   "execution_count": 64,
   "id": "689ca11b-bc72-44d2-af41-d10118dda45a",
   "metadata": {},
   "outputs": [
    {
     "data": {
      "text/plain": [
       "0\n",
       "1    210\n",
       "0     17\n",
       "Name: count, dtype: int64"
      ]
     },
     "execution_count": 64,
     "metadata": {},
     "output_type": "execute_result"
    }
   ],
   "source": [
    "df.iloc[:, 0].value_counts()"
   ]
  },
  {
   "cell_type": "code",
   "execution_count": 70,
   "id": "f2a6118e-cce3-4c63-afe9-5e9fc2a68248",
   "metadata": {},
   "outputs": [
    {
     "data": {
      "text/plain": [
       "532"
      ]
     },
     "execution_count": 70,
     "metadata": {},
     "output_type": "execute_result"
    }
   ],
   "source": [
    "df.iloc[:, 2].idxmax()"
   ]
  },
  {
   "cell_type": "code",
   "execution_count": 72,
   "id": "92fa4765-ba29-4a42-8356-5de7d2eb0ccb",
   "metadata": {},
   "outputs": [
    {
     "data": {
      "text/plain": [
       "0    0.000000\n",
       "1    1.000000\n",
       "2    0.969893\n",
       "Name: 532, dtype: float64"
      ]
     },
     "execution_count": 72,
     "metadata": {},
     "output_type": "execute_result"
    }
   ],
   "source": [
    "df.loc[532, :]"
   ]
  },
  {
   "cell_type": "code",
   "execution_count": 74,
   "id": "5f320933-c2ac-4dc5-8b8b-d64ab89d4e57",
   "metadata": {},
   "outputs": [
    {
     "data": {
      "text/plain": [
       "'Robotexts Increase While Robocalls Drop For Third Consecutive Month, According to Robokiller Insights. Americans received 14.2 billion robotexts and 4.6 billion robocalls in May, a 9% increase and 10% decrease, respectively, according to Robokiller Insights. The two categories continue to follow diverging paths — this marks the third consecutive month over month increase in SMS spam and the second consecutive month over month decrease in unwanted calls. Government anti robocall efforts continue to pay dividends The decrease in robocalls can be attributed largely to the government\\'s successful efforts to crack down on specific high volume robocalls. Yet, although the quantity of robocalls is dropping, the damage they cause is escalating. Americans have lost $29 billion to robocalls already in 2023, outpacing 2022\\'s record losses. Scammers are getting better results despite fewer calls, signifying they continue to refine their tactics and double down on scams that work. According to the FTC, the median amount lost to phone scams so far in 2023 is $1,286, more than the $1,000 from late 2022. \"As the FCC continues to successfully crack down on robocalls, Robokiller has confirmed yet another monthly decrease in spam call volume. That doesn\\'t mean we\\'re out of the woods, however, as scammers are becoming more clever with the tactics they are using to scam Americans, \" said Patrick Falzon, General Manager at Teltech, creators of Robokiller. \"Robocalls may be decreasing in volume, but they\\'re costly. And, although Americans may enjoy a little reprieve from the volume of robocalls, the larger increase in robotexts means they are actually getting more phone spam overall. We suggest Americans have a robocall and robotext blocker on their phone like Robokiller to protect themselves from emerging scams.\" Surging robotexts are leading to greater fraud losses Robotexts increased 9% month over month, and Robokiller predicts this trend will continue for the remainder of the year, with losses already reaching $12 billion in 2023 (up 58% from 2022). Robokiller warns Americans to be cautious when receiving text messages from unknown numbers or those claiming to be well known businesses, especially if you\\'re not expecting that particular company to contact you. May 2023 key trends Top robotexts nationwide: In May, Americans were frequently targeted with delivery related messages that suggested they missed a delivery, needed to update their delivery preferences, or that a package was pending. Those messages often contained links that, once clicked, could ask them to provide personal information or install malware on their phones. However, not all robotexts were scams, as political messages are making their way to phones just ahead of next year\\'s presidential election and are anticipated to increase as election day draws near. Top robocalls nationwide: Even though robocalls may be on the decline, Americans need to be aware of more targeted robocall scams like the recent AI scams that impersonate a loved one in order to steal money or your personal information. While this scam is relatively new, this is another reason Americans should ignore calls from unknown numbers. Scammers play on vulnerabilities, and these scams can often lead to falling victim. Tips on how to stop phone scams:. Don\\'t answer calls or texts from unknown numbers, especially those who call or text at odd hours. Don\\'t follow prompts like \"Press 1\" or click any links. Never provide personal information like banking details or other sensitive information. Download a spam text and call blocker like Robokiller to equip your phone with the latest technology to stop scams. About Robokiller With more than 12 million downloads and $600 million in losses prevented, Robokiller is the leading independent spam call and text blocker. Robokiller has been named a technical and mobile achievement leader by the Webby Awards, Media Excellence, Best in Biz, and more. Robokiller was named the most effective solution to robocalls by the FTC. Robokiller\\'s robocall and spam text insights are powered by a global database of millions of phone scams and audio fingerprints. Robokiller\\'s proprietary data insights have been featured by The New York Times, ABC World News, NBC Nightly News, and many others. Robokiller is available for download in the Apple App Store and Google Play. Robokiller, a Teltech brand, is a division of Mosaic Group, an the company Company'"
      ]
     },
     "execution_count": 74,
     "metadata": {},
     "output_type": "execute_result"
    }
   ],
   "source": [
    "ld.loc[ld_mini.index[532], \"parsed_body\"]"
   ]
  },
  {
   "cell_type": "markdown",
   "id": "60b2ccc2-7969-4f4e-b576-e8084f9c1a2a",
   "metadata": {},
   "source": [
    "## Analyze impact of correction for standard deviation "
   ]
  },
  {
   "cell_type": "code",
   "execution_count": null,
   "id": "c50b4eea-f6e2-4b90-9db4-2b2db194af12",
   "metadata": {},
   "outputs": [],
   "source": [
    "import pandas as pd\n",
    "from src.config import config, MODEL_CONFIG\n",
    "import numpy as np"
   ]
  },
  {
   "cell_type": "code",
   "execution_count": null,
   "id": "0281595c-2f44-4108-8556-cd6b9af5341d",
   "metadata": {},
   "outputs": [],
   "source": [
    "dat: pd.DataFrame = pd.read_parquet(path=config.data.merged)"
   ]
  },
  {
   "cell_type": "code",
   "execution_count": 5,
   "id": "d04a8421-b6f6-4dda-a3e2-41831ed760ab",
   "metadata": {},
   "outputs": [
    {
     "data": {
      "text/plain": [
       "Index(['est_entry_time', 'est_exit_time', 'entry_time', 'exit_time', 'r',\n",
       "       'r_spy', 'unadj_entry_open', 'entry_is_too_far_apart',\n",
       "       'exit_is_too_far_apart', 'parsed_body', 'staleness', 'stocks',\n",
       "       'std_252', 'dollar_volume', 'r_intra_(t-1)', 'unadj_open', 'cond_vola',\n",
       "       'r_mkt_adj', 'z_score', 'z_score_class', 'sample_weights'],\n",
       "      dtype='object')"
      ]
     },
     "execution_count": 5,
     "metadata": {},
     "output_type": "execute_result"
    }
   ],
   "source": [
    "dat.columns"
   ]
  },
  {
   "cell_type": "code",
   "execution_count": 9,
   "id": "88a98363-5b89-483a-9b00-08601b68f77e",
   "metadata": {},
   "outputs": [],
   "source": [
    "X = dat[['r', 'r_spy', 'std_252', 'stocks', 'entry_time']]"
   ]
  },
  {
   "cell_type": "code",
   "execution_count": 12,
   "id": "c894e794-70cb-42ef-9394-0ededccb9117",
   "metadata": {},
   "outputs": [],
   "source": [
    "X.loc[:, 'mkt_adj'] = X['r'] - X['r_spy']"
   ]
  },
  {
   "cell_type": "code",
   "execution_count": 15,
   "id": "4ce8ce8a-c026-4d6e-8dd1-1ea7a21e7b55",
   "metadata": {},
   "outputs": [],
   "source": [
    "X = X.dropna()"
   ]
  },
  {
   "cell_type": "code",
   "execution_count": 17,
   "id": "939ff7a9-54ec-4cbe-856f-227927442424",
   "metadata": {},
   "outputs": [
    {
     "data": {
      "text/html": [
       "<div>\n",
       "<style scoped>\n",
       "    .dataframe tbody tr th:only-of-type {\n",
       "        vertical-align: middle;\n",
       "    }\n",
       "\n",
       "    .dataframe tbody tr th {\n",
       "        vertical-align: top;\n",
       "    }\n",
       "\n",
       "    .dataframe thead th {\n",
       "        text-align: right;\n",
       "    }\n",
       "</style>\n",
       "<table border=\"1\" class=\"dataframe\">\n",
       "  <thead>\n",
       "    <tr style=\"text-align: right;\">\n",
       "      <th></th>\n",
       "      <th>r</th>\n",
       "      <th>r_spy</th>\n",
       "      <th>std_252</th>\n",
       "      <th>mkt_adj</th>\n",
       "    </tr>\n",
       "  </thead>\n",
       "  <tbody>\n",
       "    <tr>\n",
       "      <th>count</th>\n",
       "      <td>2.337559e+06</td>\n",
       "      <td>2.337559e+06</td>\n",
       "      <td>2.337559e+06</td>\n",
       "      <td>2.337559e+06</td>\n",
       "    </tr>\n",
       "    <tr>\n",
       "      <th>mean</th>\n",
       "      <td>2.261430e-04</td>\n",
       "      <td>1.758870e-04</td>\n",
       "      <td>2.962545e-02</td>\n",
       "      <td>5.025593e-05</td>\n",
       "    </tr>\n",
       "    <tr>\n",
       "      <th>std</th>\n",
       "      <td>4.079177e-02</td>\n",
       "      <td>8.814592e-03</td>\n",
       "      <td>8.741242e-01</td>\n",
       "      <td>3.954428e-02</td>\n",
       "    </tr>\n",
       "    <tr>\n",
       "      <th>min</th>\n",
       "      <td>-8.825647e-01</td>\n",
       "      <td>-1.190273e-01</td>\n",
       "      <td>1.822642e-04</td>\n",
       "      <td>-8.848767e-01</td>\n",
       "    </tr>\n",
       "    <tr>\n",
       "      <th>25%</th>\n",
       "      <td>-1.253482e-02</td>\n",
       "      <td>-3.663569e-03</td>\n",
       "      <td>1.592303e-02</td>\n",
       "      <td>-1.129293e-02</td>\n",
       "    </tr>\n",
       "    <tr>\n",
       "      <th>50%</th>\n",
       "      <td>0.000000e+00</td>\n",
       "      <td>5.393307e-04</td>\n",
       "      <td>2.241463e-02</td>\n",
       "      <td>-1.961995e-04</td>\n",
       "    </tr>\n",
       "    <tr>\n",
       "      <th>75%</th>\n",
       "      <td>1.235995e-02</td>\n",
       "      <td>4.528339e-03</td>\n",
       "      <td>3.398496e-02</td>\n",
       "      <td>1.077793e-02</td>\n",
       "    </tr>\n",
       "    <tr>\n",
       "      <th>max</th>\n",
       "      <td>6.535211e+00</td>\n",
       "      <td>1.044661e-01</td>\n",
       "      <td>4.723933e+02</td>\n",
       "      <td>6.522799e+00</td>\n",
       "    </tr>\n",
       "  </tbody>\n",
       "</table>\n",
       "</div>"
      ],
      "text/plain": [
       "                  r         r_spy       std_252       mkt_adj\n",
       "count  2.337559e+06  2.337559e+06  2.337559e+06  2.337559e+06\n",
       "mean   2.261430e-04  1.758870e-04  2.962545e-02  5.025593e-05\n",
       "std    4.079177e-02  8.814592e-03  8.741242e-01  3.954428e-02\n",
       "min   -8.825647e-01 -1.190273e-01  1.822642e-04 -8.848767e-01\n",
       "25%   -1.253482e-02 -3.663569e-03  1.592303e-02 -1.129293e-02\n",
       "50%    0.000000e+00  5.393307e-04  2.241463e-02 -1.961995e-04\n",
       "75%    1.235995e-02  4.528339e-03  3.398496e-02  1.077793e-02\n",
       "max    6.535211e+00  1.044661e-01  4.723933e+02  6.522799e+00"
      ]
     },
     "execution_count": 17,
     "metadata": {},
     "output_type": "execute_result"
    }
   ],
   "source": [
    "X.describe()"
   ]
  },
  {
   "cell_type": "code",
   "execution_count": 18,
   "id": "8b7f3a54-7d3a-46b8-94db-3a1d478e8374",
   "metadata": {},
   "outputs": [
    {
     "name": "stderr",
     "output_type": "stream",
     "text": [
      "/scratch/SlurmTMP/sunms534.10881239/ipykernel_2837370/2975249423.py:1: SettingWithCopyWarning: \n",
      "A value is trying to be set on a copy of a slice from a DataFrame.\n",
      "Try using .loc[row_indexer,col_indexer] = value instead\n",
      "\n",
      "See the caveats in the documentation: https://pandas.pydata.org/pandas-docs/stable/user_guide/indexing.html#returning-a-view-versus-a-copy\n",
      "  X.loc[:, 'z_score'] = X['mkt_adj'] / X['std_252']\n"
     ]
    }
   ],
   "source": [
    "X.loc[:, 'z_score'] = X['mkt_adj'] / X['std_252']"
   ]
  },
  {
   "cell_type": "code",
   "execution_count": 20,
   "id": "b2a954ae-cf3e-43c0-96fb-a92ed6dd725e",
   "metadata": {},
   "outputs": [
    {
     "name": "stderr",
     "output_type": "stream",
     "text": [
      "/scratch/SlurmTMP/sunms534.10881239/ipykernel_2837370/373010617.py:1: SettingWithCopyWarning: \n",
      "A value is trying to be set on a copy of a slice from a DataFrame\n",
      "\n",
      "See the caveats in the documentation: https://pandas.pydata.org/pandas-docs/stable/user_guide/indexing.html#returning-a-view-versus-a-copy\n",
      "  X.sort_values('z_score', inplace=True)\n"
     ]
    }
   ],
   "source": [
    "X.sort_values('z_score', inplace=True)"
   ]
  },
  {
   "cell_type": "code",
   "execution_count": null,
   "id": "cfc86b41-72eb-46d9-b4fb-6abe280e0a59",
   "metadata": {},
   "outputs": [],
   "source": [
    "X"
   ]
  },
  {
   "cell_type": "code",
   "execution_count": 28,
   "id": "f69c0a09-c224-40b2-a23c-acb4a97d1218",
   "metadata": {},
   "outputs": [
    {
     "data": {
      "text/plain": [
       "count    2.337559e+06\n",
       "mean     1.480262e-04\n",
       "std      1.107952e+00\n",
       "min     -1.043610e+02\n",
       "25%     -4.966595e-01\n",
       "50%     -9.333168e-03\n",
       "75%      4.859626e-01\n",
       "max      1.195337e+02\n",
       "Name: z_score, dtype: float64"
      ]
     },
     "execution_count": 28,
     "metadata": {},
     "output_type": "execute_result"
    }
   ],
   "source": [
    "X['z_score'].describe()"
   ]
  },
  {
   "cell_type": "code",
   "execution_count": 29,
   "id": "90c54760-313d-43cd-aec7-6363e9e3661f",
   "metadata": {},
   "outputs": [],
   "source": [
    "X.loc[:, \"z_score\"] = X[\"z_score\"].clip(lower=X[\"z_score\"].quantile(0.05), upper=X[\"z_score\"].quantile(0.95))"
   ]
  },
  {
   "cell_type": "code",
   "execution_count": 30,
   "id": "55b50fdf-f3a5-473c-bdb9-3101cd30b8f8",
   "metadata": {},
   "outputs": [
    {
     "data": {
      "text/plain": [
       "count    2.337559e+06\n",
       "mean    -2.617431e-03\n",
       "std      7.952768e-01\n",
       "min     -1.577498e+00\n",
       "25%     -4.966595e-01\n",
       "50%     -9.333168e-03\n",
       "75%      4.859626e-01\n",
       "max      1.602021e+00\n",
       "Name: z_score, dtype: float64"
      ]
     },
     "execution_count": 30,
     "metadata": {},
     "output_type": "execute_result"
    }
   ],
   "source": [
    "X['z_score'].describe()"
   ]
  },
  {
   "cell_type": "markdown",
   "id": "e431915a-595a-4ea1-a849-d4df56cda550",
   "metadata": {},
   "source": [
    "Maximum ist 1.6, minimum ist -1.6 nach winsorisieren..."
   ]
  },
  {
   "cell_type": "markdown",
   "id": "e1d6805d-49c7-457e-9598-4a0302126f23",
   "metadata": {},
   "source": [
    "Problem, wenn wir mit std_252 standardisieren ist, dass es Wertpapiere (Aktien?) gibt mit sehr geringer Vola. Und weil wir die std von r nehmen, und nicht von r - r_spy bekommen wir unsinnige, viel zu große Werte heraus. -> Filtere minimale std_252 heraus."
   ]
  },
  {
   "cell_type": "code",
   "execution_count": 31,
   "id": "440ba9b3-3540-4f92-8482-e2cdba0fb4d0",
   "metadata": {},
   "outputs": [
    {
     "data": {
      "text/plain": [
       "count    2.337559e+06\n",
       "mean     2.962545e-02\n",
       "std      8.741242e-01\n",
       "min      1.822642e-04\n",
       "25%      1.592303e-02\n",
       "50%      2.241463e-02\n",
       "75%      3.398496e-02\n",
       "max      4.723933e+02\n",
       "Name: std_252, dtype: float64"
      ]
     },
     "execution_count": 31,
     "metadata": {},
     "output_type": "execute_result"
    }
   ],
   "source": [
    "X['std_252'].describe()"
   ]
  },
  {
   "cell_type": "code",
   "execution_count": null,
   "id": "f5b50446-f772-41a1-9164-04e1f5899f98",
   "metadata": {},
   "outputs": [],
   "source": [
    "X.sort_values('std_252')"
   ]
  },
  {
   "cell_type": "code",
   "execution_count": null,
   "id": "6a9b6a54-91f8-4a4a-8c9f-65fa9be55bb7",
   "metadata": {},
   "outputs": [],
   "source": [
    "learndat: pd.DataFrame = pd.read_parquet(path=config.data.learning_dataset)"
   ]
  },
  {
   "cell_type": "code",
   "execution_count": null,
   "id": "d08f343f-b113-441c-b6e0-c0191255f2be",
   "metadata": {},
   "outputs": [],
   "source": [
    "learndat.sort_values(\"z_score\")"
   ]
  },
  {
   "cell_type": "code",
   "execution_count": null,
   "id": "6d219c3b-5e24-437c-ad07-e4d67ce71eed",
   "metadata": {},
   "outputs": [],
   "source": [
    "learndat.z_score.describe()"
   ]
  },
  {
   "cell_type": "code",
   "execution_count": 38,
   "id": "c2352ab3-dfd4-415e-afc9-49d3e3df305f",
   "metadata": {},
   "outputs": [
    {
     "data": {
      "text/plain": [
       "count    954478.000000\n",
       "mean         -0.003496\n",
       "std           0.949972\n",
       "min        -104.360953\n",
       "25%          -0.497133\n",
       "50%          -0.002012\n",
       "75%           0.500479\n",
       "max         119.533666\n",
       "dtype: float64"
      ]
     },
     "execution_count": 38,
     "metadata": {},
     "output_type": "execute_result"
    }
   ],
   "source": [
    "(learndat.z_score/learndat.std_252).describe()"
   ]
  },
  {
   "cell_type": "markdown",
   "id": "bec7bf2f-670e-4668-aa97-976ca85b2c77",
   "metadata": {},
   "source": [
    "## Staleness analysis"
   ]
  },
  {
   "cell_type": "code",
   "execution_count": null,
   "id": "4e3d693c-4244-42e2-87a5-ba43b6dcf8ee",
   "metadata": {},
   "outputs": [],
   "source": [
    "dat: pd.DataFrame = pd.read_parquet(path=config.data.merged)\n",
    "\n",
    "def jaccard_similarity(str1, str2):\n",
    "    set1 = set(str1.split())\n",
    "    set2 = set(str2.split())\n",
    "    intersection = set1.intersection(set2)\n",
    "    union = set1.union(set2)\n",
    "    return len(intersection) / len(union)\n",
    "\n",
    "dataset = dat\n",
    "\n",
    "from tqdm.notebook import tqdm\n",
    "\n",
    "# To determine the freshness of news, I compare the similarity of each news article with all articles published in the previous three days.\n",
    "original_index_name = dataset.index.name\n",
    "for ticker in tqdm(list(set(dataset.stocks))[1:100], desc=\"stocks\"):\n",
    "    orig_sort_ticker_news = dataset[dataset.stocks == ticker]\n",
    "\n",
    "    # Using time sorted df makes for easier splicing later\n",
    "    ticker_news = orig_sort_ticker_news.reset_index().set_index(\"est_entry_time\").sort_index(ascending=True)\n",
    "    \n",
    "    # Set staleness of first news message to 0 \n",
    "    ticker_news.at[ticker_news.index[0], \"jaccard\"] = 0\n",
    "\n",
    "    for idx in orig_sort_ticker_news.index:\n",
    "        time = orig_sort_ticker_news.at[idx, 'est_entry_time']\n",
    "        previous_news = ticker_news.loc[(time-pd.DateOffset(days=3)):time-pd.DateOffset(minutes=1), \"parsed_body\"]\n",
    "        if len(previous_news) == 0:\n",
    "            ticker_news.at[time, \"jaccard\"] = 0\n",
    "        else:\n",
    "            current_str = orig_sort_ticker_news.at[idx, 'parsed_body']\n",
    "            previous_news = previous_news\n",
    "            jaccards = previous_news.apply(lambda x: jaccard_similarity(current_str, x))\n",
    "            ticker_news.loc[ticker_news[original_index_name] == idx, \"jaccard\"] = jaccards.max()\n",
    "            \n",
    "    ticker_news.set_index(original_index_name, inplace=True)\n",
    "    # Add entries to data set\n",
    "    dataset.loc[ticker_news.index, \"jaccard2\"] = ticker_news.loc[:, \"jaccard\"]"
   ]
  },
  {
   "cell_type": "code",
   "execution_count": 59,
   "id": "69bf556b-d62a-40ff-909b-9308aa9d920e",
   "metadata": {},
   "outputs": [],
   "source": [
    "tmp = dataset.dropna()"
   ]
  },
  {
   "cell_type": "code",
   "execution_count": 33,
   "id": "a31eff18-f189-4ce6-9c16-61c3d34717e1",
   "metadata": {},
   "outputs": [
    {
     "data": {
      "text/html": [
       "<div>\n",
       "<style scoped>\n",
       "    .dataframe tbody tr th:only-of-type {\n",
       "        vertical-align: middle;\n",
       "    }\n",
       "\n",
       "    .dataframe tbody tr th {\n",
       "        vertical-align: top;\n",
       "    }\n",
       "\n",
       "    .dataframe thead th {\n",
       "        text-align: right;\n",
       "    }\n",
       "</style>\n",
       "<table border=\"1\" class=\"dataframe\">\n",
       "  <thead>\n",
       "    <tr style=\"text-align: right;\">\n",
       "      <th></th>\n",
       "      <th>jaccard</th>\n",
       "      <th>staleness</th>\n",
       "    </tr>\n",
       "  </thead>\n",
       "  <tbody>\n",
       "    <tr>\n",
       "      <th>count</th>\n",
       "      <td>2.508859e+06</td>\n",
       "      <td>2.508859e+06</td>\n",
       "    </tr>\n",
       "    <tr>\n",
       "      <th>mean</th>\n",
       "      <td>2.551004e-01</td>\n",
       "      <td>6.638613e-01</td>\n",
       "    </tr>\n",
       "    <tr>\n",
       "      <th>std</th>\n",
       "      <td>3.450391e-01</td>\n",
       "      <td>4.696810e-01</td>\n",
       "    </tr>\n",
       "    <tr>\n",
       "      <th>min</th>\n",
       "      <td>0.000000e+00</td>\n",
       "      <td>0.000000e+00</td>\n",
       "    </tr>\n",
       "    <tr>\n",
       "      <th>25%</th>\n",
       "      <td>0.000000e+00</td>\n",
       "      <td>0.000000e+00</td>\n",
       "    </tr>\n",
       "    <tr>\n",
       "      <th>50%</th>\n",
       "      <td>1.081081e-01</td>\n",
       "      <td>9.997681e-01</td>\n",
       "    </tr>\n",
       "    <tr>\n",
       "      <th>75%</th>\n",
       "      <td>2.760181e-01</td>\n",
       "      <td>1.000000e+00</td>\n",
       "    </tr>\n",
       "    <tr>\n",
       "      <th>max</th>\n",
       "      <td>1.000000e+00</td>\n",
       "      <td>1.000000e+00</td>\n",
       "    </tr>\n",
       "  </tbody>\n",
       "</table>\n",
       "</div>"
      ],
      "text/plain": [
       "            jaccard     staleness\n",
       "count  2.508859e+06  2.508859e+06\n",
       "mean   2.551004e-01  6.638613e-01\n",
       "std    3.450391e-01  4.696810e-01\n",
       "min    0.000000e+00  0.000000e+00\n",
       "25%    0.000000e+00  0.000000e+00\n",
       "50%    1.081081e-01  9.997681e-01\n",
       "75%    2.760181e-01  1.000000e+00\n",
       "max    1.000000e+00  1.000000e+00"
      ]
     },
     "execution_count": 33,
     "metadata": {},
     "output_type": "execute_result"
    }
   ],
   "source": [
    "dataset[[\"jaccard\", \"staleness\", 'jaccard2']].describe()"
   ]
  },
  {
   "cell_type": "code",
   "execution_count": 34,
   "id": "ba022137-c21c-41c7-aecb-31bab9b776e0",
   "metadata": {},
   "outputs": [],
   "source": [
    "import plotly.express as px"
   ]
  },
  {
   "cell_type": "code",
   "execution_count": null,
   "id": "058f37b4-782a-4be0-aced-4ebbbb0b2263",
   "metadata": {},
   "outputs": [],
   "source": [
    "px.histogram(dataset[\"jaccard\"])"
   ]
  },
  {
   "cell_type": "code",
   "execution_count": null,
   "id": "c36b729c-112a-4236-8273-280085c24c91",
   "metadata": {},
   "outputs": [],
   "source": [
    "px.histogram(dataset[\"staleness\"])"
   ]
  },
  {
   "cell_type": "code",
   "execution_count": null,
   "id": "58fbedbc-4d0e-43f0-9777-912647d2eacf",
   "metadata": {
    "scrolled": true
   },
   "outputs": [],
   "source": [
    "dataset[dataset.stocks == \"ACCO\"].loc[39023:]"
   ]
  },
  {
   "cell_type": "code",
   "execution_count": 66,
   "id": "9ac48223-c064-4dd0-84fb-bef6ce9fd6ed",
   "metadata": {},
   "outputs": [],
   "source": [
    "jacc_df = tmp[tmp[\"jaccard2\"] == 1]"
   ]
  },
  {
   "cell_type": "code",
   "execution_count": null,
   "id": "ba4ed181-6f46-4afd-b41d-996d5d3db355",
   "metadata": {},
   "outputs": [],
   "source": [
    "jacc_df[jacc_df.stocks == \"ACCO\"]"
   ]
  },
  {
   "cell_type": "code",
   "execution_count": null,
   "id": "b17158c8-59c4-4247-a52c-767518c8f67b",
   "metadata": {},
   "outputs": [],
   "source": []
  },
  {
   "cell_type": "markdown",
   "id": "5ea9027f-de24-4d23-8e32-35041ff53c7e",
   "metadata": {},
   "source": [
    "## Keyword Analysis"
   ]
  },
  {
   "cell_type": "code",
   "execution_count": 3,
   "id": "ab5491a2-e0e5-407d-ac1c-ccf932397e28",
   "metadata": {},
   "outputs": [],
   "source": [
    "from transformers import AutoTokenizer, BertForSequenceClassification, BertTokenizer\n",
    "from transformers import pipeline\n",
    "from src.config import PREP_CONFIG"
   ]
  },
  {
   "cell_type": "code",
   "execution_count": 4,
   "id": "0b9a00b2-51f4-460f-b9f6-c4bcdaa45ff1",
   "metadata": {},
   "outputs": [],
   "source": [
    "dat: pd.DataFrame = pd.read_parquet(path=config.data.merged)"
   ]
  },
  {
   "cell_type": "code",
   "execution_count": 33,
   "id": "791a9c01-73a0-43f5-8c28-c57e5d78050a",
   "metadata": {},
   "outputs": [],
   "source": [
    "inputs_ids = pd.read_parquet(config.data.news.input_ids)"
   ]
  },
  {
   "cell_type": "code",
   "execution_count": 34,
   "id": "ceb8ace2-daac-4a15-8441-3d88a99cea68",
   "metadata": {},
   "outputs": [],
   "source": [
    "ld: pd.DataFrame = pd.read_parquet(path=config.data.learning_dataset)"
   ]
  },
  {
   "cell_type": "code",
   "execution_count": 35,
   "id": "f65c97ec-6600-4b7f-bf63-e9100f75cf16",
   "metadata": {},
   "outputs": [],
   "source": [
    "tokenizer = AutoTokenizer.from_pretrained(PREP_CONFIG.tokenizer)"
   ]
  },
  {
   "cell_type": "code",
   "execution_count": 36,
   "id": "6bc4135b-abf9-4b5b-9986-578d496bfbc2",
   "metadata": {},
   "outputs": [
    {
     "data": {
      "text/plain": [
       "2508859"
      ]
     },
     "execution_count": 36,
     "metadata": {},
     "output_type": "execute_result"
    }
   ],
   "source": [
    "dat.shape[0]"
   ]
  },
  {
   "cell_type": "code",
   "execution_count": 37,
   "id": "4723444c-5650-4888-b919-ebf7323e8bbc",
   "metadata": {},
   "outputs": [
    {
     "data": {
      "text/plain": [
       "(628215, 48)"
      ]
     },
     "execution_count": 37,
     "metadata": {},
     "output_type": "execute_result"
    }
   ],
   "source": [
    "ld.shape"
   ]
  },
  {
   "cell_type": "code",
   "execution_count": 38,
   "id": "df974bd9-dfd9-4801-b4ed-d2f8251a46ff",
   "metadata": {},
   "outputs": [],
   "source": [
    "text = \"announced\"\n",
    "tmp = ld[ld.parsed_body.apply(lambda x: text in x)]"
   ]
  },
  {
   "cell_type": "code",
   "execution_count": 39,
   "id": "2cdac24b-7fcc-47ba-ae19-38b7f647773f",
   "metadata": {},
   "outputs": [
    {
     "data": {
      "text/plain": [
       "340421"
      ]
     },
     "execution_count": 39,
     "metadata": {},
     "output_type": "execute_result"
    }
   ],
   "source": [
    "tmp.shape[0]"
   ]
  },
  {
   "cell_type": "code",
   "execution_count": 40,
   "id": "d06023d6-7ba9-4554-b987-8dff2e334b82",
   "metadata": {},
   "outputs": [
    {
     "data": {
      "text/html": [
       "<div>\n",
       "<style scoped>\n",
       "    .dataframe tbody tr th:only-of-type {\n",
       "        vertical-align: middle;\n",
       "    }\n",
       "\n",
       "    .dataframe tbody tr th {\n",
       "        vertical-align: top;\n",
       "    }\n",
       "\n",
       "    .dataframe thead th {\n",
       "        text-align: right;\n",
       "    }\n",
       "</style>\n",
       "<table border=\"1\" class=\"dataframe\">\n",
       "  <thead>\n",
       "    <tr style=\"text-align: right;\">\n",
       "      <th></th>\n",
       "      <th>r</th>\n",
       "      <th>r_intra_(t-1)</th>\n",
       "      <th>r_mkt_adj</th>\n",
       "    </tr>\n",
       "  </thead>\n",
       "  <tbody>\n",
       "    <tr>\n",
       "      <th>count</th>\n",
       "      <td>340421.000000</td>\n",
       "      <td>340421.000000</td>\n",
       "      <td>340421.000000</td>\n",
       "    </tr>\n",
       "    <tr>\n",
       "      <th>mean</th>\n",
       "      <td>0.000909</td>\n",
       "      <td>0.000142</td>\n",
       "      <td>0.000714</td>\n",
       "    </tr>\n",
       "    <tr>\n",
       "      <th>std</th>\n",
       "      <td>0.040940</td>\n",
       "      <td>0.030532</td>\n",
       "      <td>0.039588</td>\n",
       "    </tr>\n",
       "    <tr>\n",
       "      <th>min</th>\n",
       "      <td>-0.882565</td>\n",
       "      <td>-0.660274</td>\n",
       "      <td>-0.884877</td>\n",
       "    </tr>\n",
       "    <tr>\n",
       "      <th>25%</th>\n",
       "      <td>-0.012174</td>\n",
       "      <td>-0.010412</td>\n",
       "      <td>-0.010852</td>\n",
       "    </tr>\n",
       "    <tr>\n",
       "      <th>50%</th>\n",
       "      <td>0.000705</td>\n",
       "      <td>0.000133</td>\n",
       "      <td>0.000310</td>\n",
       "    </tr>\n",
       "    <tr>\n",
       "      <th>75%</th>\n",
       "      <td>0.013414</td>\n",
       "      <td>0.010420</td>\n",
       "      <td>0.011653</td>\n",
       "    </tr>\n",
       "    <tr>\n",
       "      <th>max</th>\n",
       "      <td>2.954802</td>\n",
       "      <td>3.164384</td>\n",
       "      <td>2.978776</td>\n",
       "    </tr>\n",
       "  </tbody>\n",
       "</table>\n",
       "</div>"
      ],
      "text/plain": [
       "                   r  r_intra_(t-1)      r_mkt_adj\n",
       "count  340421.000000  340421.000000  340421.000000\n",
       "mean        0.000909       0.000142       0.000714\n",
       "std         0.040940       0.030532       0.039588\n",
       "min        -0.882565      -0.660274      -0.884877\n",
       "25%        -0.012174      -0.010412      -0.010852\n",
       "50%         0.000705       0.000133       0.000310\n",
       "75%         0.013414       0.010420       0.011653\n",
       "max         2.954802       3.164384       2.978776"
      ]
     },
     "execution_count": 40,
     "metadata": {},
     "output_type": "execute_result"
    }
   ],
   "source": [
    "tmp[[\"r\", \"r_intra_(t-1)\", \"r_mkt_adj\"]].describe()"
   ]
  },
  {
   "cell_type": "code",
   "execution_count": 41,
   "id": "cfdc1a8f-fe3f-442c-96f0-70eb4844a39a",
   "metadata": {},
   "outputs": [],
   "source": [
    "n=0"
   ]
  },
  {
   "cell_type": "code",
   "execution_count": 42,
   "id": "f23e03a6-9d38-41d3-a444-68f9d8c6a21e",
   "metadata": {},
   "outputs": [],
   "source": [
    "from IPython.display import Markdown, HTML"
   ]
  },
  {
   "cell_type": "code",
   "execution_count": 54,
   "id": "0ce6a707-d700-4a59-96c7-a53bb96eec56",
   "metadata": {},
   "outputs": [
    {
     "data": {
      "text/markdown": [
       " the company  declares quarterly dividend the company  <span style=\"color: #ff0000\">announced</span> today that its board of directors has declared a regular quarterly cash dividend of  cents on each outstanding share of its common and class b common stock the cash dividend is payable to shareholders of record at the close of business the company improves indoor living and working environments with air conditioning and heating solutions that provide comfort regardless of the outdoor climate our solutions also promote healthier indoor spaces by removing pollutants from the indoor air that can lead to asthma allergies and reductions in productivity furthermore since heating and cooling accounts for approximately  of the energy consumed in a typical united states home we offer consumers the greatest opportunity to save money on energy by replacing existing air conditioning and heating systems with more energy efficient and environmentally friendly solutions there are approximately  million central air conditioning and heating systems installed in the united states that have been in service for more than  years older systems often operate below government mandated energy efficiency and environmental standards the company has an opportunity to accelerate the replacement of these systems at a scale greater than our competitors as the movement toward reducing energy consumption and its environmental impact continues as the industry leader with over  locations in the united states and puerto rico with additional market coverage on an export basis to parts of latin america and the caribbean significant growth potential remains given that our current \n",
       "\n",
       " r=0.008650519031141668"
      ],
      "text/plain": [
       "<IPython.core.display.Markdown object>"
      ]
     },
     "metadata": {},
     "output_type": "display_data"
    }
   ],
   "source": [
    "n += 1\n",
    "idx = tmp.parsed_body.index[n]\n",
    "inputs_ids.loc[idx]\n",
    "entry = inputs_ids.loc[idx, :].values\n",
    "display_text = tokenizer.decode(entry).replace(text, f'<span style=\"color: #ff0000\">{text}</span>').strip(\"<s></s>\") + (f\" \\n\\n r={tmp.iloc[n].r}\")\n",
    "display(Markdown(display_text))"
   ]
  },
  {
   "cell_type": "code",
   "execution_count": 55,
   "id": "f6be4735-b97b-459f-86ac-d2d740d7b5e4",
   "metadata": {},
   "outputs": [
    {
     "data": {
      "text/plain": [
       "'Watsco Declares Quarterly Dividend. the company , announced today that its Board of Directors has declared a regular quarterly cash dividend of 52 cents on each outstanding share of its Common and Class B common stock. The cash dividend is payable to shareholders of record at the close of business. the company improves indoor living and working environments with air conditioning and heating solutions that provide comfort regardless of the outdoor climate. Our solutions also promote healthier indoor spaces by removing pollutants from the indoor air that can lead to asthma, allergies and reductions in productivity. Furthermore, since heating and cooling accounts for approximately 56% of the energy consumed in a typical United States home, we offer consumers the greatest opportunity to save money on energy by replacing existing air conditioning and heating systems with more energy efficient and environmentally friendly solutions. There are approximately 74 million central air conditioning and heating systems installed in the United States that have been in service for more than 10 years. Older systems often operate below government mandated energy efficiency and environmental standards. the company has an opportunity to accelerate the replacement of these systems at a scale greater than our competitors as the movement toward reducing energy consumption and its environmental impact continues. As the industry leader with over 500 locations in the United States and Puerto Rico, with additional market coverage on an export basis to parts of Latin America and the Caribbean, significant growth potential remains given that our current revenue run rate is less than 10% of the estimated $30 billion United States market for HVAC R products'"
      ]
     },
     "execution_count": 55,
     "metadata": {},
     "output_type": "execute_result"
    }
   ],
   "source": [
    "dat.loc[idx].parsed_body"
   ]
  },
  {
   "cell_type": "code",
   "execution_count": 146,
   "id": "b69ea944-d098-43b8-bbcf-4cabed584e65",
   "metadata": {},
   "outputs": [
    {
     "data": {
      "text/plain": [
       "news_time                                            2011-01-03 07:04:06-05:00\n",
       "stocks                                                                      MD\n",
       "parsed_body                  MEDNAX Announces the Acquisition of Long Beach...\n",
       "est_entry_time                                       2011-01-03 09:31:00-05:00\n",
       "est_exit_time                                        2011-01-03 16:01:00-05:00\n",
       "entry_time                                           2011-01-03 09:31:00-05:00\n",
       "open_entry                                                              33.845\n",
       "high_entry                                                              33.875\n",
       "low_entry                                                               33.845\n",
       "close_entry                                                             33.845\n",
       "volume_entry                                                            4082.0\n",
       "cum_split_ratio_entry                                                      0.5\n",
       "exit_time                                            2011-01-03 16:00:00-05:00\n",
       "open_exit                                                                34.53\n",
       "high_exit                                                               34.565\n",
       "low_exit                                                                 34.53\n",
       "close_exit                                                              34.565\n",
       "volume_exit                                                             5502.0\n",
       "cum_split_ratio_exit                                                       0.5\n",
       "r                                                                     0.020239\n",
       "SPY_open_entry                                                       99.329083\n",
       "SPY_high_entry                                                       99.352601\n",
       "SPY_low_entry                                                        99.289888\n",
       "SPY_close_entry                                                      99.336922\n",
       "SPY_volume_entry                                                2881771.472586\n",
       "SPY_cum_split_ratio_entry                                             0.783909\n",
       "SPY_open_exit                                                         99.61129\n",
       "SPY_high_exit                                                         99.61913\n",
       "SPY_low_exit                                                         99.587773\n",
       "SPY_close_exit                                                       99.595612\n",
       "SPY_volume_exit                                                 3849017.924838\n",
       "SPY_cum_split_ratio_exit                                              0.783909\n",
       "unadj_entry_open                                                         67.69\n",
       "r_spy                                                                 0.002604\n",
       "entry_is_too_far_apart                                                   False\n",
       "exit_is_too_far_apart                                                    False\n",
       "std_252                                                               0.016162\n",
       "dollar_volume                                                     42067.543266\n",
       "r_intra_(t-1)                                                        -0.010296\n",
       "unadj_open                                                               67.69\n",
       "cond_vola                                                             0.014907\n",
       "jaccard                                                                    0.0\n",
       "sample_weights                                                         0.70669\n",
       "r_mkt_adj                                                             0.017635\n",
       "z_score                                                               0.830176\n",
       "split                                                                 training\n",
       "z_score_2_class                                                              1\n",
       "z_score_3_class                                                              1\n",
       "Name: 2494479, dtype: object"
      ]
     },
     "execution_count": 146,
     "metadata": {},
     "output_type": "execute_result"
    }
   ],
   "source": [
    "tmp.iloc[n]"
   ]
  },
  {
   "cell_type": "markdown",
   "id": "e7b63eaa-2517-4cb3-b53a-e2b3172eea05",
   "metadata": {},
   "source": [
    "## Misc"
   ]
  },
  {
   "cell_type": "code",
   "execution_count": 16,
   "id": "47a37c6c-63cc-4044-9a04-6e3faf0e67ee",
   "metadata": {},
   "outputs": [],
   "source": [
    "NEWS_SOURCES = {\n",
    "    \"FNSPID\": config.data.fnspid.raw_html_parsed,\n",
    "    \"BZG\": config.data.benzinga.raw_html_parsed\n",
    "}"
   ]
  },
  {
   "cell_type": "code",
   "execution_count": 31,
   "id": "b01e07d8-1a03-402b-b701-226227c27843",
   "metadata": {},
   "outputs": [
    {
     "name": "stdout",
     "output_type": "stream",
     "text": [
      "dfs[0].shape[0]=2491778(bzg) + dfs[1].shape[0]=2086342 (fnspid) = ddf.shape[0]=4578120\n"
     ]
    }
   ],
   "source": [
    "dfs = []\n",
    "for source in NEWS_SOURCES:\n",
    "    df = pd.read_parquet(NEWS_SOURCES[source])\n",
    "    # FNSPID has a intra_day_time boolean column, but BZG doesnt, since BZG always has intra_day timestamps\n",
    "    if source == \"BZG\":\n",
    "        df['intra_day_time'] = True\n",
    "    dfs.append(df)\n",
    "    \n",
    "ddf = pd.concat(dfs, axis=0)\n",
    "print(f\"{dfs[0].shape[0]=}(bzg) + {dfs[1].shape[0]=} (fnspid) = {ddf.shape[0]=}\")\n",
    "ddf = ddf.reset_index(drop=True)"
   ]
  },
  {
   "cell_type": "code",
   "execution_count": 32,
   "id": "93b4ec96-415c-4f73-a0e6-32bb8581c646",
   "metadata": {},
   "outputs": [
    {
     "data": {
      "text/html": [
       "<div>\n",
       "<style scoped>\n",
       "    .dataframe tbody tr th:only-of-type {\n",
       "        vertical-align: middle;\n",
       "    }\n",
       "\n",
       "    .dataframe tbody tr th {\n",
       "        vertical-align: top;\n",
       "    }\n",
       "\n",
       "    .dataframe thead th {\n",
       "        text-align: right;\n",
       "    }\n",
       "</style>\n",
       "<table border=\"1\" class=\"dataframe\">\n",
       "  <thead>\n",
       "    <tr style=\"text-align: right;\">\n",
       "      <th></th>\n",
       "      <th>time</th>\n",
       "      <th>stocks</th>\n",
       "      <th>author</th>\n",
       "      <th>title</th>\n",
       "      <th>body</th>\n",
       "      <th>intra_day_time</th>\n",
       "      <th>channels</th>\n",
       "    </tr>\n",
       "  </thead>\n",
       "  <tbody>\n",
       "    <tr>\n",
       "      <th>0</th>\n",
       "      <td>2023-12-17 04:00:00+00:00</td>\n",
       "      <td>A</td>\n",
       "      <td>None</td>\n",
       "      <td>Interesting A Put And Call Options For August ...</td>\n",
       "      <td>Investors in Agilent Technologies, Inc. (Symbo...</td>\n",
       "      <td>True</td>\n",
       "      <td>NaN</td>\n",
       "    </tr>\n",
       "    <tr>\n",
       "      <th>1</th>\n",
       "      <td>2023-12-12 05:00:00+00:00</td>\n",
       "      <td>A</td>\n",
       "      <td>None</td>\n",
       "      <td>Wolfe Research Initiates Coverage of Agilent T...</td>\n",
       "      <td>Fintel reports that on December 13, 2023, Wolf...</td>\n",
       "      <td>False</td>\n",
       "      <td>NaN</td>\n",
       "    </tr>\n",
       "    <tr>\n",
       "      <th>2</th>\n",
       "      <td>2023-12-12 05:00:00+00:00</td>\n",
       "      <td>A</td>\n",
       "      <td>None</td>\n",
       "      <td>Agilent Technologies Reaches Analyst Target Price</td>\n",
       "      <td>In recent trading, shares of Agilent Technolog...</td>\n",
       "      <td>False</td>\n",
       "      <td>NaN</td>\n",
       "    </tr>\n",
       "    <tr>\n",
       "      <th>3</th>\n",
       "      <td>2023-12-07 05:00:00+00:00</td>\n",
       "      <td>A</td>\n",
       "      <td>None</td>\n",
       "      <td>Agilent (A) Enhances BioTek Cytation C10 With ...</td>\n",
       "      <td>Agilent Technologies A is enhancing its BioTek...</td>\n",
       "      <td>False</td>\n",
       "      <td>NaN</td>\n",
       "    </tr>\n",
       "    <tr>\n",
       "      <th>4</th>\n",
       "      <td>2023-12-07 05:00:00+00:00</td>\n",
       "      <td>A</td>\n",
       "      <td>None</td>\n",
       "      <td>Pre-Market Most Active for Dec 7, 2023 : SQQQ,...</td>\n",
       "      <td>The NASDAQ 100 Pre-Market Indicator is up 70.2...</td>\n",
       "      <td>False</td>\n",
       "      <td>NaN</td>\n",
       "    </tr>\n",
       "  </tbody>\n",
       "</table>\n",
       "</div>"
      ],
      "text/plain": [
       "                        time stocks author  \\\n",
       "0  2023-12-17 04:00:00+00:00      A   None   \n",
       "1  2023-12-12 05:00:00+00:00      A   None   \n",
       "2  2023-12-12 05:00:00+00:00      A   None   \n",
       "3  2023-12-07 05:00:00+00:00      A   None   \n",
       "4  2023-12-07 05:00:00+00:00      A   None   \n",
       "\n",
       "                                               title  \\\n",
       "0  Interesting A Put And Call Options For August ...   \n",
       "1  Wolfe Research Initiates Coverage of Agilent T...   \n",
       "2  Agilent Technologies Reaches Analyst Target Price   \n",
       "3  Agilent (A) Enhances BioTek Cytation C10 With ...   \n",
       "4  Pre-Market Most Active for Dec 7, 2023 : SQQQ,...   \n",
       "\n",
       "                                                body  intra_day_time channels  \n",
       "0  Investors in Agilent Technologies, Inc. (Symbo...            True      NaN  \n",
       "1  Fintel reports that on December 13, 2023, Wolf...           False      NaN  \n",
       "2  In recent trading, shares of Agilent Technolog...           False      NaN  \n",
       "3  Agilent Technologies A is enhancing its BioTek...           False      NaN  \n",
       "4  The NASDAQ 100 Pre-Market Indicator is up 70.2...           False      NaN  "
      ]
     },
     "execution_count": 32,
     "metadata": {},
     "output_type": "execute_result"
    }
   ],
   "source": [
    "ddf.head()"
   ]
  },
  {
   "cell_type": "code",
   "execution_count": 33,
   "id": "cb131514-2eee-4241-bb7b-06280e0a1c51",
   "metadata": {},
   "outputs": [
    {
     "data": {
      "text/plain": [
       "0          2023-12-17 04:00:00+00:00\n",
       "1          2023-12-12 05:00:00+00:00\n",
       "2          2023-12-12 05:00:00+00:00\n",
       "3          2023-12-07 05:00:00+00:00\n",
       "4          2023-12-07 05:00:00+00:00\n",
       "                     ...            \n",
       "4578115    2023-08-23 21:51:18-04:00\n",
       "4578116    2023-08-23 22:43:00-04:00\n",
       "4578117    2023-08-23 23:00:00-04:00\n",
       "4578118    2023-08-23 23:11:00-04:00\n",
       "4578119    2023-08-23 23:06:54-04:00\n",
       "Name: time, Length: 4578120, dtype: object"
      ]
     },
     "execution_count": 33,
     "metadata": {},
     "output_type": "execute_result"
    }
   ],
   "source": [
    "ddf.time"
   ]
  },
  {
   "cell_type": "code",
   "execution_count": null,
   "id": "eda1cc72-9e73-4df7-b387-39a05a32c179",
   "metadata": {},
   "outputs": [],
   "source": []
  }
 ],
 "metadata": {
  "kernelspec": {
   "display_name": "Python 3 (ipykernel)",
   "language": "python",
   "name": "python3"
  },
  "language_info": {
   "codemirror_mode": {
    "name": "ipython",
    "version": 3
   },
   "file_extension": ".py",
   "mimetype": "text/x-python",
   "name": "python",
   "nbconvert_exporter": "python",
   "pygments_lexer": "ipython3",
   "version": "3.11.7"
  }
 },
 "nbformat": 4,
 "nbformat_minor": 5
}
