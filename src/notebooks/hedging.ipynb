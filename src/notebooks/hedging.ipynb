{
 "cells": [
  {
   "cell_type": "markdown",
   "metadata": {},
   "source": [
    "# Dnamic beta\n"
   ]
  },
  {
   "cell_type": "code",
   "execution_count": null,
   "metadata": {},
   "outputs": [],
   "source": [
    "import pandas as pd\n",
    "from src.config import config"
   ]
  },
  {
   "cell_type": "code",
   "execution_count": null,
   "metadata": {},
   "outputs": [],
   "source": [
    "# Beta calculation (use intraday?)\n",
    "spy = pd.read_parquet(path=f\"{config.data.iqfeed.daily.cleaned}/SPY_daily.parquet\")\n",
    "prices = pd.read_parquet(path=f\"{config.data.iqfeed.daily.cleaned}/AAPL_daily.parquet\")\n",
    "X = pd.merge(prices, spy, left_index=True, right_index=True, suffixes=(\"_stock\", \"_SPY\"))"
   ]
  },
  {
   "cell_type": "code",
   "execution_count": null,
   "metadata": {},
   "outputs": [],
   "source": [
    "X[\"r_stock\"] = X[\"adj_close_stock\"]/X[\"adj_close_stock\"].shift() - 1 \n",
    "X[\"r_SPY\"] = X[\"adj_close_SPY\"]/X[\"adj_close_SPY\"].shift() - 1 \n",
    "X.dropna(inplace=True)\n",
    "returns = X[[\"r_stock\", \"r_SPY\"]]"
   ]
  },
  {
   "cell_type": "code",
   "execution_count": null,
   "metadata": {},
   "outputs": [],
   "source": [
    "from sklearn.linear_model import LinearRegression\n",
    "lr = LinearRegression(fit_intercept=False)\n",
    "X = returns[\"r_SPY\"].to_numpy().reshape(-1, 1)\n",
    "Y = returns[\"r_stock\"].to_numpy()\n",
    "lr.fit(X, Y)"
   ]
  },
  {
   "cell_type": "code",
   "execution_count": null,
   "metadata": {},
   "outputs": [],
   "source": [
    "print(f\"{lr.intercept_=:.4f} \\n{lr.coef_[0]=:.4f}\")"
   ]
  },
  {
   "cell_type": "code",
   "execution_count": null,
   "metadata": {},
   "outputs": [],
   "source": [
    "resid_variance = ((Y - lr.predict(X))**2).mean()\n",
    "resid_variance"
   ]
  },
  {
   "cell_type": "code",
   "execution_count": null,
   "metadata": {},
   "outputs": [],
   "source": [
    "returns = returns * 1000"
   ]
  },
  {
   "cell_type": "code",
   "execution_count": null,
   "metadata": {},
   "outputs": [],
   "source": [
    "from arch import arch_model\n",
    "# define lists for storing objects\n",
    "coeffs = []\n",
    "cond_vol = []\n",
    "std_resids = []\n",
    "models = []"
   ]
  },
  {
   "cell_type": "code",
   "execution_count": null,
   "metadata": {},
   "outputs": [],
   "source": [
    "for asset in returns.columns:\n",
    "    model = (arch_model(returns[asset], \n",
    "                        mean = 'Constant', \n",
    "                        vol = 'GARCH', \n",
    "                        p = 1, o = 0, q = 1)\n",
    "             .fit(update_freq = 0, disp = 'off'))\n",
    "    \n",
    "    coeffs.append(model.params)\n",
    "    cond_vol.append(model.conditional_volatility)\n",
    "    std_resids.append(model.resid / model.conditional_volatility)\n",
    "    models.append(model)"
   ]
  },
  {
   "cell_type": "code",
   "execution_count": null,
   "metadata": {},
   "outputs": [],
   "source": [
    "# store the results in df\n",
    "coeffs_df = pd.DataFrame(coeffs, index=returns.columns)\n",
    "cond_vol_df = pd.DataFrame(cond_vol).transpose().set_axis(returns.columns, axis = 'columns')\n",
    "std_resids_df = pd.DataFrame(std_resids).transpose().set_axis(returns.columns, axis = 'columns')"
   ]
  },
  {
   "cell_type": "code",
   "execution_count": null,
   "metadata": {},
   "outputs": [],
   "source": [
    "# calculate the constant conditional correlation matrix (CCC) R:\n",
    "R = std_resids_df.transpose().dot(std_resids_df).div(len(std_resids_df))\n",
    "R"
   ]
  },
  {
   "cell_type": "code",
   "execution_count": null,
   "metadata": {},
   "outputs": [],
   "source": [
    "dynamic_betas = cond_vol_df.r_stock * R.iloc[0, 1] / cond_vol_df.r_SPY\n",
    "dynamic_betas"
   ]
  },
  {
   "cell_type": "code",
   "execution_count": null,
   "metadata": {},
   "outputs": [],
   "source": [
    "resids = returns.r_stock - (returns.r_SPY) * dynamic_betas\n",
    "(resids**2).mean()"
   ]
  },
  {
   "cell_type": "code",
   "execution_count": null,
   "metadata": {},
   "outputs": [],
   "source": [
    "# calculate one step ahead forecastof the conditional covariance matrix\n",
    "import numpy as np\n",
    "diag = []\n",
    "D = np.zeros((2, 2))\n",
    "\n",
    "for model in models:\n",
    "    diag.append(model.forecast(horizon = 1).variance.values[-1][0])\n",
    "    \n",
    "diag = np.sqrt(np.array(diag))\n",
    "np.fill_diagonal(D, diag)\n",
    "\n",
    "H = np.matmul(np.matmul(D, R.values), D)"
   ]
  },
  {
   "cell_type": "markdown",
   "metadata": {},
   "source": [
    "## Factors"
   ]
  },
  {
   "cell_type": "code",
   "execution_count": null,
   "metadata": {},
   "outputs": [],
   "source": [
    "factors = pd.read_csv(\"D:/data/F-F_Research_Data_Factors_daily.CSV\")\n",
    "factors.columns = [\"date\", \"Mkt-RF\", \"SMB\", \"HML\", \"RF\"]\n",
    "factors[\"date\"] = pd.to_datetime(factors.iloc[:, 0], format=\"%Y%m%d\")\n",
    "factors.set_index(\"date\", inplace=True)"
   ]
  },
  {
   "cell_type": "code",
   "execution_count": null,
   "metadata": {},
   "outputs": [],
   "source": [
    "A = pd.merge(X.r_stock*100, factors, left_index=True, right_index=True, how=\"inner\").dropna()\n"
   ]
  },
  {
   "cell_type": "code",
   "execution_count": null,
   "metadata": {},
   "outputs": [],
   "source": [
    "A.iloc[0, :] = 0\n",
    "(1 + A/100).apply(np.cumprod, axis=0).plot(logy=True)"
   ]
  },
  {
   "cell_type": "code",
   "execution_count": null,
   "metadata": {},
   "outputs": [],
   "source": [
    "factors.rolling(252).corr(X.r_stock)"
   ]
  }
 ],
 "metadata": {
  "language_info": {
   "name": "python"
  }
 },
 "nbformat": 4,
 "nbformat_minor": 2
}
