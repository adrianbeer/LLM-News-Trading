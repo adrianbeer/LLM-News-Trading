{
 "cells": [
  {
   "cell_type": "code",
   "execution_count": null,
   "id": "a6ccf648-8779-4ea5-a446-1d9bb64fc8c2",
   "metadata": {},
   "outputs": [],
   "source": [
    "%cd /gxfs_work/cau/sunms534/trading_bot/"
   ]
  },
  {
   "cell_type": "code",
   "execution_count": null,
   "id": "afd9a633-a7ff-4d2c-b608-ff34d8a2013f",
   "metadata": {},
   "outputs": [],
   "source": [
    "from pathlib import Path\n",
    "\n",
    "import pandas as pd\n",
    "from tokenizers import ByteLevelBPETokenizer\n",
    "from transformers import AutoTokenizer\n",
    "\n",
    "from tokenizers.processors import RobertaProcessing\n",
    "from src.config import config\n",
    "import torch"
   ]
  },
  {
   "cell_type": "code",
   "execution_count": null,
   "id": "6041493e-9240-46b4-a05f-ac45d825a4f5",
   "metadata": {},
   "outputs": [],
   "source": [
    "bodies = pd.read_parquet(config.data.news.stripped, columns=[\"parsed_body\"])"
   ]
  },
  {
   "cell_type": "code",
   "execution_count": null,
   "id": "26bdec46-ca16-4fa8-85ea-07a6b76fad6e",
   "metadata": {},
   "outputs": [],
   "source": [
    "# Initialize a tokenizer\n",
    "tokenizer = ByteLevelBPETokenizer(lowercase=True)\n",
    "\n",
    "tokenizer.train_from_iterator(bodies.parsed_body.values, \n",
    "                              vocab_size=30000, \n",
    "                              min_frequency=10, \n",
    "                              special_tokens=[\n",
    "                                \"<s>\",\n",
    "                                \"<pad>\",\n",
    "                                \"</s>\",\n",
    "                                \"<unk>\",\n",
    "                                \"<mask>\",\n",
    "                              ])"
   ]
  },
  {
   "cell_type": "code",
   "execution_count": null,
   "id": "bd1b4a4f-9851-474c-aea7-ea705f4c08b9",
   "metadata": {},
   "outputs": [],
   "source": [
    "tokenizer.post_processor = RobertaProcessing(\n",
    "    cls=(\"<s>\", tokenizer.token_to_id(\"<s>\")),\n",
    "    sep=(\"</s>\", tokenizer.token_to_id(\"</s>\")),\n",
    ")\n",
    "tokenizer.enable_truncation(max_length=256)"
   ]
  },
  {
   "cell_type": "code",
   "execution_count": null,
   "id": "b145a2a1-d2a8-4780-a6c6-eb6b58690969",
   "metadata": {},
   "outputs": [],
   "source": [
    "# Save files to disk\n",
    "tokenizer = PreTrainedTokenizerFast(tokenizer_object=tokenizer._tokenizer, pad_token=\"<pad>\", truncation=True)\n",
    "tokenizer.save_pretrained(\"data/models/newstokenizer\")"
   ]
  },
  {
   "cell_type": "code",
   "execution_count": null,
   "id": "6f7303d2-942c-4e55-8e32-2a0737c997b7",
   "metadata": {},
   "outputs": [],
   "source": [
    "tokenizer = AutoTokenizer.from_pretrained(\"data/models/newstokenizer\", max_len=256)"
   ]
  },
  {
   "cell_type": "code",
   "execution_count": null,
   "id": "899044d8-89e5-425c-9e90-591b28c8fb76",
   "metadata": {},
   "outputs": [],
   "source": [
    "text = bodies.iloc[10].parsed_body"
   ]
  },
  {
   "cell_type": "code",
   "execution_count": null,
   "id": "707c52e2-26f0-4350-9d2a-bf93519bd695",
   "metadata": {},
   "outputs": [],
   "source": [
    "encoding = tokenizer(\n",
    "    text, \n",
    "    add_special_tokens = True, \n",
    "    truncation = True, \n",
    "    padding = \"max_length\", \n",
    "    max_length = 256,\n",
    "    return_attention_mask = True, \n",
    "    return_tensors = \"pt\"\n",
    ")"
   ]
  },
  {
   "cell_type": "code",
   "execution_count": null,
   "id": "4165cca0-2246-4e60-b4c0-3572e306b584",
   "metadata": {},
   "outputs": [],
   "source": [
    "encoding[\"input_ids\"]"
   ]
  },
  {
   "cell_type": "code",
   "execution_count": null,
   "id": "5fcb4f14-f938-4535-8d27-a6878b322b36",
   "metadata": {},
   "outputs": [],
   "source": [
    "encoding[\"attention_mask\"]"
   ]
  },
  {
   "cell_type": "code",
   "execution_count": null,
   "id": "48ac2a18-bc1c-4217-a21c-dc66e312f802",
   "metadata": {},
   "outputs": [],
   "source": [
    "title_inputs_ids = pd.read_parquet(config.data.news.input_ids)\n",
    "masks = pd.read_parquet(config.data.news.masks)"
   ]
  },
  {
   "cell_type": "code",
   "execution_count": null,
   "id": "31b1c9ea-e251-4b33-8ed3-6d92719068ba",
   "metadata": {},
   "outputs": [],
   "source": [
    "from transformers import RobertaConfig, RobertaModel, RobertaForMaskedLM, RobertaTokenizerFast\n",
    "from transformers import DataCollatorForLanguageModeling\n",
    "\n",
    "configuration = RobertaConfig(vocab_size = 30000,\n",
    "                              hidden_size = 256,\n",
    "                              num_hidden_layers = 6,\n",
    "                              num_attention_heads = 4,\n",
    "                              intermediate_size = 1556,\n",
    "                              hidden_act = 'gelu',\n",
    "                              hidden_dropout_prob = 0.1,\n",
    "                              attention_probs_dropout_prob = 0.1,\n",
    "                              max_position_embeddings = 258,\n",
    "                              type_vocab_size = 2,\n",
    "                              initializer_range = 0.02,\n",
    "                              layer_norm_eps = 1e-12,\n",
    "                              pad_token_id = 1,\n",
    "                              bos_token_id = 0,\n",
    "                              eos_token_id = 2,\n",
    "                              position_embedding_type = 'absolute',\n",
    "                              use_cache = True,\n",
    "                              classifier_dropout = None)\n",
    "\n",
    "\n",
    "model = RobertaModel(configuration)"
   ]
  },
  {
   "cell_type": "code",
   "execution_count": null,
   "id": "6e9dd0f9-88b5-443d-a063-f74c832bf7df",
   "metadata": {},
   "outputs": [],
   "source": [
    "title_inputs_ids.iloc[0, :]"
   ]
  },
  {
   "cell_type": "code",
   "execution_count": null,
   "id": "503933f3-95d2-427a-9aeb-4dc1099d1efe",
   "metadata": {},
   "outputs": [],
   "source": [
    "title_inputs_ids.iloc[1:5, :].values"
   ]
  },
  {
   "cell_type": "code",
   "execution_count": null,
   "id": "8b1fc6c3-5fe0-4040-a78a-44c66a5b8e5d",
   "metadata": {},
   "outputs": [],
   "source": [
    "model(input_ids=torch.tensor(title_inputs_ids.iloc[1:5, :].values), attention_mask=torch.tensor(masks.iloc[1:5, :].values))"
   ]
  },
  {
   "cell_type": "code",
   "execution_count": null,
   "id": "40f31969-b512-4e15-8b25-78d101eb7945",
   "metadata": {},
   "outputs": [],
   "source": []
  }
 ],
 "metadata": {
  "kernelspec": {
   "display_name": "Python 3 (ipykernel)",
   "language": "python",
   "name": "python3"
  },
  "language_info": {
   "codemirror_mode": {
    "name": "ipython",
    "version": 3
   },
   "file_extension": ".py",
   "mimetype": "text/x-python",
   "name": "python",
   "nbconvert_exporter": "python",
   "pygments_lexer": "ipython3",
   "version": "3.11.7"
  }
 },
 "nbformat": 4,
 "nbformat_minor": 5
}
