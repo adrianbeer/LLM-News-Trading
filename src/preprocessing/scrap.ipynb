{
 "cells": [
  {
   "cell_type": "code",
   "execution_count": null,
   "id": "e0a38ea4-3112-4c86-9a5b-628a49145ce3",
   "metadata": {},
   "outputs": [],
   "source": [
    "%cd /gxfs_work/cau/sunms534/trading_bot/"
   ]
  },
  {
   "cell_type": "code",
   "execution_count": null,
   "id": "d9b81c5d-1c4e-48ef-abc9-666e8c54161d",
   "metadata": {},
   "outputs": [],
   "source": [
    "import pandas as pd \n",
    "import numpy as np\n",
    "from src.config import config, MODEL_CONFIG\n",
    "from src.utils.tickers import get_tickers"
   ]
  },
  {
   "cell_type": "code",
   "execution_count": null,
   "id": "64e7c398-fc71-443f-8905-15e859636798",
   "metadata": {},
   "outputs": [],
   "source": [
    "dat = pd.read_parquet(config.data.merged)"
   ]
  },
  {
   "cell_type": "code",
   "execution_count": null,
   "id": "f90aa38e-dcaa-4804-a98f-3ba7608a8e79",
   "metadata": {},
   "outputs": [],
   "source": [
    "'cond_vola' in dat.columns"
   ]
  },
  {
   "cell_type": "code",
   "execution_count": null,
   "id": "99d2f041-35b7-4d05-a336-65de1baf71f8",
   "metadata": {},
   "outputs": [],
   "source": [
    "dat = pd.read_parquet(f\"{config.data.iqfeed.daily.cleaned}\")"
   ]
  },
  {
   "cell_type": "code",
   "execution_count": null,
   "id": "3e83a265-5a91-467e-97b5-85e29477172f",
   "metadata": {},
   "outputs": [],
   "source": [
    "dat[dat[\"r_intra_(t-1)\"] == np.inf]"
   ]
  },
  {
   "cell_type": "code",
   "execution_count": null,
   "id": "2dab170f-4b31-4cb6-86f7-1caf5a85b189",
   "metadata": {},
   "outputs": [],
   "source": []
  }
 ],
 "metadata": {
  "kernelspec": {
   "display_name": "Python 3 (ipykernel)",
   "language": "python",
   "name": "python3"
  },
  "language_info": {
   "codemirror_mode": {
    "name": "ipython",
    "version": 3
   },
   "file_extension": ".py",
   "mimetype": "text/x-python",
   "name": "python",
   "nbconvert_exporter": "python",
   "pygments_lexer": "ipython3",
   "version": "3.11.7"
  }
 },
 "nbformat": 4,
 "nbformat_minor": 5
}
