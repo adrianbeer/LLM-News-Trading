{
 "cells": [
  {
   "cell_type": "code",
   "execution_count": 1,
   "id": "e0a38ea4-3112-4c86-9a5b-628a49145ce3",
   "metadata": {},
   "outputs": [
    {
     "name": "stdout",
     "output_type": "stream",
     "text": [
      "/gxfs_work/cau/sunms534/trading_bot\n"
     ]
    },
    {
     "name": "stderr",
     "output_type": "stream",
     "text": [
      "/gxfs_work/cau/sunms534/.conda/envs/my_pytorch_env/lib/python3.11/site-packages/IPython/core/magics/osm.py:417: UserWarning: using dhist requires you to install the `pickleshare` library.\n",
      "  self.shell.db['dhist'] = compress_dhist(dhist)[-100:]\n"
     ]
    }
   ],
   "source": [
    "%cd /gxfs_work/cau/sunms534/trading_bot/"
   ]
  },
  {
   "cell_type": "code",
   "execution_count": 2,
   "id": "d9b81c5d-1c4e-48ef-abc9-666e8c54161d",
   "metadata": {},
   "outputs": [],
   "source": [
    "import pandas as pd \n",
    "import numpy as np\n",
    "from src.config import config, MODEL_CONFIG"
   ]
  },
  {
   "cell_type": "code",
   "execution_count": 3,
   "id": "7b211b9f-8d9e-4305-902e-e68ac9dc641a",
   "metadata": {},
   "outputs": [],
   "source": [
    "dat = pd.read_parquet(config.data.news.cleaned)"
   ]
  },
  {
   "cell_type": "code",
   "execution_count": 9,
   "id": "e071688d-a35f-48ba-b37a-6c2facd9b2a3",
   "metadata": {},
   "outputs": [],
   "source": [
    "import random"
   ]
  },
  {
   "cell_type": "code",
   "execution_count": 57,
   "id": "d0d0a6f9-c6d6-4cbc-8e2f-bc0309e72f7d",
   "metadata": {},
   "outputs": [
    {
     "name": "stdout",
     "output_type": "stream",
     "text": [
      "4313392\n",
      "UTSI\n",
      "UTStarcom Announces Date for Extraordinary General Meeting to Approve Reverse Share Split\n"
     ]
    },
    {
     "data": {
      "text/plain": [
       "\"UTStarcom Announces Date for Extraordinary General Meeting to Approve Reverse Share Split. UTStarcom , a global telecommunications infrastructure provider, today announced that it will hold an extraordinary general meeting of its shareholders. China Standard Time, to seek approval for a one for four reverse share split. UTStarcom's Board of Directors believes that implementing a reverse share split is likely to improve the marketability and liquidity of UTStarcom's ordinary shares. The meeting will be held at UTStarcom's office located at 4th Floor, South Wing, 368 Liuhe Road, Binjiang District, Hangzhou 310053, P.R. China. If approved, the reverse share split will become effective immediately upon approval by the Company's shareholders. Upon becoming effective, every four outstanding and authorized ordinary shares of UTStarcom as of the effective date will be automatically combined into one issued and outstanding ordinary share. About the company UTStarcom is committed to helping network operators offer their customers the most innovative, reliable and cost effective communication services. UTStarcom offers high performance advanced equipment optimized for the most rapidly growing network functions, such as mobile backhaul, metro aggregation and broadband access. UTStarcom has operations and customers around the world, with a special focus on Japan and India. UTStarcom was founded in 1991 and listed its shares on the Nasdaq Market in 2000\""
      ]
     },
     "execution_count": 57,
     "metadata": {},
     "output_type": "execute_result"
    }
   ],
   "source": [
    "n = random.randint(0, dat.shape[0])\n",
    "print(dat.index[n])\n",
    "\n",
    "print(dat.stocks.iloc[n])\n",
    "print(dat.title.iloc[n])\n",
    "dat.parsed_body.iloc[n]"
   ]
  },
  {
   "cell_type": "code",
   "execution_count": 97,
   "id": "5d014309-7344-44ff-9f6d-54817fd8e66f",
   "metadata": {},
   "outputs": [
    {
     "data": {
      "text/plain": [
       "\"In afternoon trading on Tuesday, Healthcare stocks are the best performing sector, up 0.8%. Within that group, Agilent Technologies, Inc. (Symbol: A) and Waters Corp. (Symbol: WAT) are two large stocks leading the way, showing a gain of 8.8% and 5.7%, respectively. Among healthcare ETFs, one ETF following the sector is the Health Care Select Sector SPDR ETF (Symbol: XLV), which is up 0.8% on the day, and down 2.87% year-to-date. Agilent Technologies, Inc., meanwhile, is down 16.88% year-to-date, and Waters Corp., is down 20.21% year-to-date. Combined, A and WAT make up approximately 1.1% of the underlying holdings of XLV.\\nThe next best performing sector is the Consumer Products sector, not showing much of a loss. Among large Consumer Products stocks, Tesla Inc (Symbol: TSLA) and Clorox Co (Symbol: CLX) are the most notable, showing a gain of 2.4% and 2.2%, respectively. One ETF closely tracking Consumer Products stocks is the iShares U.S. Consumer Goods ETF (IYK), which is up 0.2% in midday trading, and down 5.05% on a year-to-date basis. Tesla Inc, meanwhile, is up 123.25% year-to-date, and Clorox Co is up 1.76% year-to-date. CLX makes up approximately 0.8% of the underlying holdings of IYK.\\nComparing these stocks and ETFs on a trailing twelve month basis, below is a relative stock price performance chart, with each of the symbols shown in a different color as labeled in the legend at the bottom:\\nHere's a snapshot of how the S&P 500 components within the various sectors are faring in afternoon trading on Tuesday. As you can see, one sector is up on the day, while six sectors are down.\\nSECTOR % CHANGE\\nHealthcare +0.8%\\nConsumer Products -0.0%\\nMaterials -0.0%\\nIndustrial -0.1%\\nUtilities -0.2%\\nFinancial -0.2%\\nServices -0.3%\\nEnergy -0.4%\\nTechnology & Communications -0.8%\\n25 Dividend Giants Widely Held By ETFs »\\nAlso see:\\n\\x95 Funds Holding AB\\n\\x95 NYCB Historical Stock Prices\\n\\x95 SAPE Videos\\nThe views and opinions expressed herein are the views and opinions of the author and do not necessarily reflect those of Nasdaq, Inc.\""
      ]
     },
     "execution_count": 97,
     "metadata": {},
     "output_type": "execute_result"
    }
   ],
   "source": [
    "dat.body.iloc[n]"
   ]
  },
  {
   "cell_type": "code",
   "execution_count": 73,
   "id": "a764bfe1-6344-4cf9-a346-13e35b6f4dc7",
   "metadata": {},
   "outputs": [
    {
     "name": "stdout",
     "output_type": "stream",
     "text": [
      "The autoreload extension is already loaded. To reload it, use:\n",
      "  %reload_ext autoreload\n"
     ]
    }
   ],
   "source": [
    "%load_ext autoreload\n",
    "%autoreload 2\n",
    "from src.preprocessing.news_parser import filter_body\n",
    "from src.preprocessing.news_preprocessing import preprocess_news, merge_news_sources"
   ]
  },
  {
   "cell_type": "code",
   "execution_count": 74,
   "id": "6b6afcd1-8563-4ec7-a8c1-1d1af186930e",
   "metadata": {},
   "outputs": [],
   "source": [
    "ddf = pd.read_parquet(config.data.fnspid.raw_html_parsed)\n",
    "ddf = ddf.iloc[:55]"
   ]
  },
  {
   "cell_type": "code",
   "execution_count": 75,
   "id": "521c75f4-6cb1-41f5-a44f-6aa158299d11",
   "metadata": {
    "scrolled": true
   },
   "outputs": [
    {
     "name": "stdout",
     "output_type": "stream",
     "text": [
      "Removing duplicates: samples_before=55, samples_after=55\n"
     ]
    },
    {
     "data": {
      "application/vnd.jupyter.widget-view+json": {
       "model_id": "466d60ee24ab4596ae4866bf70291db6",
       "version_major": 2,
       "version_minor": 0
      },
      "text/plain": [
       "  0%|          | 0/55 [00:00<?, ?it/s]"
      ]
     },
     "metadata": {},
     "output_type": "display_data"
    },
    {
     "data": {
      "application/vnd.jupyter.widget-view+json": {
       "model_id": "5a66446e29814c069a492ff9e69255da",
       "version_major": 2,
       "version_minor": 0
      },
      "text/plain": [
       "  0%|          | 0/55 [00:00<?, ?it/s]"
      ]
     },
     "metadata": {},
     "output_type": "display_data"
    },
    {
     "name": "stdout",
     "output_type": "stream",
     "text": [
      "Es verbleiben 55 Nachrichten, für die wir den Ticker zu einem Firmennamen aufgelösen konnten.\n",
      "n_cores=32, df.shape=(55, 8)\n"
     ]
    },
    {
     "name": "stderr",
     "output_type": "stream",
     "text": [
      "/gxfs_work/cau/sunms534/.conda/envs/my_pytorch_env/lib/python3.11/site-packages/numpy/core/fromnumeric.py:59: FutureWarning: 'DataFrame.swapaxes' is deprecated and will be removed in a future version. Please use 'DataFrame.transpose' instead.\n",
      "  return bound(*args, **kwds)\n",
      "parallelize_data: 100%|████████████████████████████████████████████████████████████████████████████████████████████████████████████████| 32/32 [00:00<00:00, 236.14it/s]\n"
     ]
    },
    {
     "name": "stdout",
     "output_type": "stream",
     "text": [
      "Filter for company name appearance in msg body.Around 1 stocks before filtering and 1 after.\n",
      "50 stocks left after removing the stocks.\n"
     ]
    },
    {
     "data": {
      "application/vnd.jupyter.widget-view+json": {
       "model_id": "1828d03538814625bded653c406ae030",
       "version_major": 2,
       "version_minor": 0
      },
      "text/plain": [
       "  0%|          | 0/50 [00:00<?, ?it/s]"
      ]
     },
     "metadata": {},
     "output_type": "display_data"
    },
    {
     "name": "stdout",
     "output_type": "stream",
     "text": [
      "From 11383 to 1 tickers (reduced)\n"
     ]
    },
    {
     "data": {
      "application/vnd.jupyter.widget-view+json": {
       "model_id": "472192db08004c20b5e3a6eac50fe8c4",
       "version_major": 2,
       "version_minor": 0
      },
      "text/plain": [
       "  0%|          | 0/50 [00:00<?, ?it/s]"
      ]
     },
     "metadata": {},
     "output_type": "display_data"
    },
    {
     "name": "stdout",
     "output_type": "stream",
     "text": [
      "n_cores=32, df.shape=(50, 8)\n"
     ]
    },
    {
     "name": "stderr",
     "output_type": "stream",
     "text": [
      "/gxfs_work/cau/sunms534/.conda/envs/my_pytorch_env/lib/python3.11/site-packages/numpy/core/fromnumeric.py:59: FutureWarning: 'DataFrame.swapaxes' is deprecated and will be removed in a future version. Please use 'DataFrame.transpose' instead.\n",
      "  return bound(*args, **kwds)\n",
      "parallelize_data:   0%|                                                                                                                          | 0/32 [00:00<?, ?it/s]"
     ]
    },
    {
     "name": "stdout",
     "output_type": "stream",
     "text": [
      "                                "
     ]
    },
    {
     "data": {
      "application/vnd.jupyter.widget-view+json": {
       "model_id": "9a74d5eb7a7a433fb806118650a0ffeb",
       "version_major": 2,
       "version_minor": 0
      },
      "text/plain": [
       "  0%|          | 0/1 [00:00<?, ?it/s]"
      ]
     },
     "metadata": {},
     "output_type": "display_data"
    },
    {
     "data": {
      "application/vnd.jupyter.widget-view+json": {
       "model_id": "a4c7e09ee7d54062aa6704a27a58932c",
       "version_major": 2,
       "version_minor": 0
      },
      "text/plain": [
       "  0%|          | 0/1 [00:00<?, ?it/s]"
      ]
     },
     "metadata": {},
     "output_type": "display_data"
    },
    {
     "data": {
      "application/vnd.jupyter.widget-view+json": {
       "model_id": "18661a3d577241849973408c12352462",
       "version_major": 2,
       "version_minor": 0
      },
      "text/plain": [
       "  0%|          | 0/2 [00:00<?, ?it/s]"
      ]
     },
     "metadata": {},
     "output_type": "display_data"
    },
    {
     "data": {
      "application/vnd.jupyter.widget-view+json": {
       "model_id": "645e1cf16b094423a85d1ac0ed14daa6",
       "version_major": 2,
       "version_minor": 0
      },
      "text/plain": [
       "  0%|          | 0/1 [00:00<?, ?it/s]"
      ]
     },
     "metadata": {},
     "output_type": "display_data"
    },
    {
     "data": {
      "application/vnd.jupyter.widget-view+json": {
       "model_id": "5dbb312fa4d24b678d4bcfb3065a22a8",
       "version_major": 2,
       "version_minor": 0
      },
      "text/plain": [
       "  0%|          | 0/2 [00:00<?, ?it/s]"
      ]
     },
     "metadata": {},
     "output_type": "display_data"
    },
    {
     "data": {
      "application/vnd.jupyter.widget-view+json": {
       "model_id": "b5a154094eb24eea8bbc9c76179bea8a",
       "version_major": 2,
       "version_minor": 0
      },
      "text/plain": [
       "  0%|          | 0/2 [00:00<?, ?it/s]"
      ]
     },
     "metadata": {},
     "output_type": "display_data"
    },
    {
     "data": {
      "application/vnd.jupyter.widget-view+json": {
       "model_id": "4f403fdeb62d44f6a68825395783e9d7",
       "version_major": 2,
       "version_minor": 0
      },
      "text/plain": [
       "  0%|          | 0/1 [00:00<?, ?it/s]"
      ]
     },
     "metadata": {},
     "output_type": "display_data"
    },
    {
     "data": {
      "application/vnd.jupyter.widget-view+json": {
       "model_id": "0c6469901e5240598272343aa8bd0a16",
       "version_major": 2,
       "version_minor": 0
      },
      "text/plain": [
       "  0%|          | 0/1 [00:00<?, ?it/s]"
      ]
     },
     "metadata": {},
     "output_type": "display_data"
    },
    {
     "data": {
      "application/vnd.jupyter.widget-view+json": {
       "model_id": "cca2e55a965d453a8f761f0cd7419558",
       "version_major": 2,
       "version_minor": 0
      },
      "text/plain": [
       "  0%|          | 0/1 [00:00<?, ?it/s]"
      ]
     },
     "metadata": {},
     "output_type": "display_data"
    },
    {
     "data": {
      "application/vnd.jupyter.widget-view+json": {
       "model_id": "dfbdac1d9bd44fb986e6862659861fcf",
       "version_major": 2,
       "version_minor": 0
      },
      "text/plain": [
       "  0%|          | 0/2 [00:00<?, ?it/s]"
      ]
     },
     "metadata": {},
     "output_type": "display_data"
    },
    {
     "data": {
      "application/vnd.jupyter.widget-view+json": {
       "model_id": "23a4bf5d9f66463e9f5097714d71bb98",
       "version_major": 2,
       "version_minor": 0
      },
      "text/plain": [
       "  0%|          | 0/2 [00:00<?, ?it/s]"
      ]
     },
     "metadata": {},
     "output_type": "display_data"
    },
    {
     "data": {
      "application/vnd.jupyter.widget-view+json": {
       "model_id": "38f821fe137f443fb35aefa0e22bde0c",
       "version_major": 2,
       "version_minor": 0
      },
      "text/plain": [
       "  0%|          | 0/2 [00:00<?, ?it/s]"
      ]
     },
     "metadata": {},
     "output_type": "display_data"
    },
    {
     "data": {
      "application/vnd.jupyter.widget-view+json": {
       "model_id": "79c3bb8ce12149a48bc350217e00b11c",
       "version_major": 2,
       "version_minor": 0
      },
      "text/plain": [
       "  0%|          | 0/2 [00:00<?, ?it/s]"
      ]
     },
     "metadata": {},
     "output_type": "display_data"
    },
    {
     "data": {
      "application/vnd.jupyter.widget-view+json": {
       "model_id": "90cab8fd007c4702aed6795f45b6634b",
       "version_major": 2,
       "version_minor": 0
      },
      "text/plain": [
       "  0%|          | 0/2 [00:00<?, ?it/s]"
      ]
     },
     "metadata": {},
     "output_type": "display_data"
    },
    {
     "data": {
      "application/vnd.jupyter.widget-view+json": {
       "model_id": "8b66f28d388b460aa370e75df5d9b089",
       "version_major": 2,
       "version_minor": 0
      },
      "text/plain": [
       "  0%|          | 0/1 [00:00<?, ?it/s]"
      ]
     },
     "metadata": {},
     "output_type": "display_data"
    },
    {
     "data": {
      "application/vnd.jupyter.widget-view+json": {
       "model_id": "c803e99413c0459fafdf59c5d3ab0dc5",
       "version_major": 2,
       "version_minor": 0
      },
      "text/plain": [
       "  0%|          | 0/2 [00:00<?, ?it/s]"
      ]
     },
     "metadata": {},
     "output_type": "display_data"
    },
    {
     "data": {
      "application/vnd.jupyter.widget-view+json": {
       "model_id": "170e99f425174467a76b1cd7e385fca3",
       "version_major": 2,
       "version_minor": 0
      },
      "text/plain": [
       "  0%|          | 0/2 [00:00<?, ?it/s]"
      ]
     },
     "metadata": {},
     "output_type": "display_data"
    },
    {
     "data": {
      "application/vnd.jupyter.widget-view+json": {
       "model_id": "fc63b335f67f4b43b7819e96dc128b2b",
       "version_major": 2,
       "version_minor": 0
      },
      "text/plain": [
       "  0%|          | 0/2 [00:00<?, ?it/s]"
      ]
     },
     "metadata": {},
     "output_type": "display_data"
    },
    {
     "data": {
      "application/vnd.jupyter.widget-view+json": {
       "model_id": "c01a484716f24b82a417af9bf6b3c150",
       "version_major": 2,
       "version_minor": 0
      },
      "text/plain": [
       "  0%|          | 0/2 [00:00<?, ?it/s]"
      ]
     },
     "metadata": {},
     "output_type": "display_data"
    },
    {
     "data": {
      "application/vnd.jupyter.widget-view+json": {
       "model_id": "28a6bdfbf07e406baee2b20b948adba8",
       "version_major": 2,
       "version_minor": 0
      },
      "text/plain": [
       "  0%|          | 0/2 [00:00<?, ?it/s]"
      ]
     },
     "metadata": {},
     "output_type": "display_data"
    },
    {
     "data": {
      "application/vnd.jupyter.widget-view+json": {
       "model_id": "c1add6b882c2439189e1124bec04f7ac",
       "version_major": 2,
       "version_minor": 0
      },
      "text/plain": [
       "  0%|          | 0/2 [00:00<?, ?it/s]"
      ]
     },
     "metadata": {},
     "output_type": "display_data"
    },
    {
     "data": {
      "application/vnd.jupyter.widget-view+json": {
       "model_id": "1d26278fbd31497cacb0b7444799b75c",
       "version_major": 2,
       "version_minor": 0
      },
      "text/plain": [
       "  0%|          | 0/2 [00:00<?, ?it/s]"
      ]
     },
     "metadata": {},
     "output_type": "display_data"
    },
    {
     "data": {
      "application/vnd.jupyter.widget-view+json": {
       "model_id": "ca27cf81da874ad5a5c7b6b468c63e9f",
       "version_major": 2,
       "version_minor": 0
      },
      "text/plain": [
       "  0%|          | 0/1 [00:00<?, ?it/s]"
      ]
     },
     "metadata": {},
     "output_type": "display_data"
    },
    {
     "data": {
      "application/vnd.jupyter.widget-view+json": {
       "model_id": "d6dbcb9bf9b44215b7f0847e9c7da226",
       "version_major": 2,
       "version_minor": 0
      },
      "text/plain": [
       "  0%|          | 0/1 [00:00<?, ?it/s]"
      ]
     },
     "metadata": {},
     "output_type": "display_data"
    },
    {
     "data": {
      "application/vnd.jupyter.widget-view+json": {
       "model_id": "2b3a18f710e34d8f94c76f84c3ca129e",
       "version_major": 2,
       "version_minor": 0
      },
      "text/plain": [
       "  0%|          | 0/2 [00:00<?, ?it/s]"
      ]
     },
     "metadata": {},
     "output_type": "display_data"
    },
    {
     "data": {
      "application/vnd.jupyter.widget-view+json": {
       "model_id": "83e3d9b5c332456b922f20f0c3e437d7",
       "version_major": 2,
       "version_minor": 0
      },
      "text/plain": [
       "  0%|          | 0/1 [00:00<?, ?it/s]"
      ]
     },
     "metadata": {},
     "output_type": "display_data"
    },
    {
     "data": {
      "application/vnd.jupyter.widget-view+json": {
       "model_id": "493c1d09c8164e49ba9f8c404f4e8f0b",
       "version_major": 2,
       "version_minor": 0
      },
      "text/plain": [
       "  0%|          | 0/2 [00:00<?, ?it/s]"
      ]
     },
     "metadata": {},
     "output_type": "display_data"
    },
    {
     "data": {
      "application/vnd.jupyter.widget-view+json": {
       "model_id": "a073a88d4f914478afe2030c0dc7c859",
       "version_major": 2,
       "version_minor": 0
      },
      "text/plain": [
       "  0%|          | 0/1 [00:00<?, ?it/s]"
      ]
     },
     "metadata": {},
     "output_type": "display_data"
    },
    {
     "data": {
      "application/vnd.jupyter.widget-view+json": {
       "model_id": "a5d327c774b6400c9f5f5d46eaa8e385",
       "version_major": 2,
       "version_minor": 0
      },
      "text/plain": [
       "  0%|          | 0/2 [00:00<?, ?it/s]"
      ]
     },
     "metadata": {},
     "output_type": "display_data"
    },
    {
     "data": {
      "application/vnd.jupyter.widget-view+json": {
       "model_id": "a5844ce0cc1641f0af88fece7097d6fe",
       "version_major": 2,
       "version_minor": 0
      },
      "text/plain": [
       "  0%|          | 0/1 [00:00<?, ?it/s]"
      ]
     },
     "metadata": {},
     "output_type": "display_data"
    },
    {
     "data": {
      "application/vnd.jupyter.widget-view+json": {
       "model_id": "6860af173bda4be49d8b41f21b2f006b",
       "version_major": 2,
       "version_minor": 0
      },
      "text/plain": [
       "  0%|          | 0/1 [00:00<?, ?it/s]"
      ]
     },
     "metadata": {},
     "output_type": "display_data"
    },
    {
     "data": {
      "application/vnd.jupyter.widget-view+json": {
       "model_id": "50980275d40c48a5ae4a1498f268c971",
       "version_major": 2,
       "version_minor": 0
      },
      "text/plain": [
       "  0%|          | 0/1 [00:00<?, ?it/s]"
      ]
     },
     "metadata": {},
     "output_type": "display_data"
    },
    {
     "name": "stderr",
     "output_type": "stream",
     "text": [
      "parallelize_data: 100%|█████████████████████████████████████████████████████████████████████████████████████████████████████████████████| 32/32 [00:01<00:00, 18.62it/s]\n"
     ]
    }
   ],
   "source": [
    "ddf, _ = preprocess_news(ddf)"
   ]
  },
  {
   "cell_type": "code",
   "execution_count": 95,
   "id": "f37ce186-0761-472a-858f-e06eaf0563d3",
   "metadata": {},
   "outputs": [
    {
     "data": {
      "text/plain": [
       "\"Tuesday Sector Leaders: Healthcare, Consumer Products. In afternoon trading on Tuesday, Healthcare stocks are the best performing sector, up 0.8%. Within that group, the company and Waters Corp. (Symbol: WAT) are two large stocks leading the way, showing a gain of 8.8% and 5.7%, respectively. Among healthcare ETFs, one ETF following the sector is the Health Care Select Sector SPDR ETF (Symbol: XLV), which is up 0.8% on the day, and down 2.87% year to date. the company , meanwhile, is down 16.88% year to date, and Waters Corp., is down 20.21% year to date. Combined, A and WAT make up approximately 1.1% of the underlying holdings of XLV. The next best performing sector is the Consumer Products sector, not showing much of a loss. Among large Consumer Products stocks, Tesla Inc (Symbol: TSLA) and Clorox Co (Symbol: CLX) are the most notable, showing a gain of 2.4% and 2.2%, respectively. One ETF closely tracking Consumer Products stocks is the iShares U.S. Consumer Goods ETF (IYK), which is up 0.2% in midday trading, and down 5.05% on a year to date basis. Tesla Inc, meanwhile, is up 123.25% year to date, and Clorox Co is up 1.76% year to date. CLX makes up approximately 0.8% of the underlying holdings of IYK. Comparing these stocks and ETFs on a trailing twelve month basis, below is a relative stock price performance chart, with each of the symbols shown in a different color as labeled in the legend at the bottom: Here's a snapshot of how the S&P 500 components within the various sectors are faring in afternoon trading on Tuesday. As you can see, one sector is up on the day, while six sectors are down. SECTOR % CHANGE Healthcare +0.8% Consumer Products  0.0% Materials  0.0% Industrial  0.1% Utilities  0.2% Financial  0.2% Services  0.3% Energy  0.4% Technology & Communications  0.8% 25 Dividend Giants Widely Held By ETFs » Also see: \\x95 Funds Holding AB \\x95 NYCB Historical Stock Prices \\x95 SAPE Videos The views and opinions expressed herein are the views and opinions of the author and do not necessarily reflect those of Nasdaq, Inc\""
      ]
     },
     "execution_count": 95,
     "metadata": {},
     "output_type": "execute_result"
    }
   ],
   "source": [
    "ddf.iloc[8].parsed_body"
   ]
  },
  {
   "cell_type": "code",
   "execution_count": null,
   "id": "a1f29712-114a-40dd-81ba-3690057c08e8",
   "metadata": {},
   "outputs": [],
   "source": []
  }
 ],
 "metadata": {
  "kernelspec": {
   "display_name": "Python 3 (ipykernel)",
   "language": "python",
   "name": "python3"
  },
  "language_info": {
   "codemirror_mode": {
    "name": "ipython",
    "version": 3
   },
   "file_extension": ".py",
   "mimetype": "text/x-python",
   "name": "python",
   "nbconvert_exporter": "python",
   "pygments_lexer": "ipython3",
   "version": "3.11.7"
  }
 },
 "nbformat": 4,
 "nbformat_minor": 5
}
