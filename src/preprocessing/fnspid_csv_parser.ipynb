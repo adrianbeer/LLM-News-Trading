{
 "cells": [
  {
   "cell_type": "code",
   "execution_count": 1,
   "metadata": {
    "editable": true,
    "slideshow": {
     "slide_type": ""
    },
    "tags": []
   },
   "outputs": [
    {
     "name": "stdout",
     "output_type": "stream",
     "text": [
      "/gxfs_work/cau/sunms534/trading_bot\n"
     ]
    },
    {
     "name": "stderr",
     "output_type": "stream",
     "text": [
      "/gxfs_work/cau/sunms534/.conda/envs/my_pytorch_env/lib/python3.11/site-packages/IPython/core/magics/osm.py:417: UserWarning: using dhist requires you to install the `pickleshare` library.\n",
      "  self.shell.db['dhist'] = compress_dhist(dhist)[-100:]\n"
     ]
    }
   ],
   "source": [
    "%cd /gxfs_work/cau/sunms534/trading_bot/"
   ]
  },
  {
   "cell_type": "code",
   "execution_count": 2,
   "metadata": {},
   "outputs": [],
   "source": [
    "import pandas as pd\n",
    "from src.config import config \n",
    "from tqdm.notebook import tqdm\n",
    "tqdm.pandas()\n",
    "\n",
    "pd.set_option(\n",
    "    'display.max_colwidth', 2000\n",
    ")"
   ]
  },
  {
   "cell_type": "markdown",
   "metadata": {},
   "source": [
    "## Experimental"
   ]
  },
  {
   "cell_type": "code",
   "execution_count": 3,
   "metadata": {},
   "outputs": [
    {
     "name": "stderr",
     "output_type": "stream",
     "text": [
      "/scratch/SlurmTMP/sunms534.10454573/ipykernel_1948800/1036305684.py:1: DtypeWarning: Columns (3,5,6,7,8,9,10,11) have mixed types. Specify dtype option on import or set low_memory=False.\n",
      "  news_csv = pd.read_csv(config.data.fnspid.raw)\n"
     ]
    }
   ],
   "source": [
    "news_csv = pd.read_csv(config.data.fnspid.raw)"
   ]
  },
  {
   "cell_type": "code",
   "execution_count": 4,
   "metadata": {},
   "outputs": [],
   "source": [
    "news_csv.rename(columns={\n",
    "    \"Date\": \"time\",\n",
    "    \"Stock_symbol\": \"stocks\",\n",
    "    \"Author\": \"author\",\n",
    "    \"Article_title\": \"title\",\n",
    "    \"Article\":\"body\"\n",
    "}, inplace=True)"
   ]
  },
  {
   "cell_type": "code",
   "execution_count": 5,
   "metadata": {},
   "outputs": [],
   "source": [
    "N_0 = news_csv.shape[0]"
   ]
  },
  {
   "cell_type": "code",
   "execution_count": 6,
   "metadata": {},
   "outputs": [],
   "source": [
    "news_csv = news_csv.loc[:, ['time', 'stocks', 'author', 'title', 'body']]"
   ]
  },
  {
   "cell_type": "code",
   "execution_count": 7,
   "metadata": {},
   "outputs": [
    {
     "data": {
      "text/html": [
       "<div>\n",
       "<style scoped>\n",
       "    .dataframe tbody tr th:only-of-type {\n",
       "        vertical-align: middle;\n",
       "    }\n",
       "\n",
       "    .dataframe tbody tr th {\n",
       "        vertical-align: top;\n",
       "    }\n",
       "\n",
       "    .dataframe thead th {\n",
       "        text-align: right;\n",
       "    }\n",
       "</style>\n",
       "<table border=\"1\" class=\"dataframe\">\n",
       "  <thead>\n",
       "    <tr style=\"text-align: right;\">\n",
       "      <th></th>\n",
       "      <th>time</th>\n",
       "      <th>stocks</th>\n",
       "      <th>author</th>\n",
       "      <th>title</th>\n",
       "      <th>body</th>\n",
       "    </tr>\n",
       "  </thead>\n",
       "  <tbody>\n",
       "    <tr>\n",
       "      <th>243305</th>\n",
       "      <td>2022-06-06 00:00:00 UTC</td>\n",
       "      <td>ARKK</td>\n",
       "      <td>NaN</td>\n",
       "      <td>Fox Business: Tom Lydon Tackles ETF Money In Motion</td>\n",
       "      <td>NaN</td>\n",
       "    </tr>\n",
       "    <tr>\n",
       "      <th>1409458</th>\n",
       "      <td>2022-06-06 00:00:00 UTC</td>\n",
       "      <td>KWEB</td>\n",
       "      <td>NaN</td>\n",
       "      <td>Fox Business: Tom Lydon Tackles ETF Money In Motion</td>\n",
       "      <td>NaN</td>\n",
       "    </tr>\n",
       "    <tr>\n",
       "      <th>1759129</th>\n",
       "      <td>2023-10-17 00:00:00 UTC</td>\n",
       "      <td>PFFL</td>\n",
       "      <td>NaN</td>\n",
       "      <td>Stocks Mostly Lower as Strong U.S. Economic Reports Push Bond Yields Higher</td>\n",
       "      <td>NaN</td>\n",
       "    </tr>\n",
       "    <tr>\n",
       "      <th>1902201</th>\n",
       "      <td>2023-12-16 20:00:00 UTC</td>\n",
       "      <td>RILYN</td>\n",
       "      <td>NaN</td>\n",
       "      <td>3 High-Yield Dividend Stocks to Buy Before the End of the Year</td>\n",
       "      <td>NaN</td>\n",
       "    </tr>\n",
       "    <tr>\n",
       "      <th>2020353</th>\n",
       "      <td>2022-06-06 00:00:00 UTC</td>\n",
       "      <td>SPY</td>\n",
       "      <td>NaN</td>\n",
       "      <td>Fox Business: Tom Lydon Tackles ETF Money In Motion</td>\n",
       "      <td>NaN</td>\n",
       "    </tr>\n",
       "  </tbody>\n",
       "</table>\n",
       "</div>"
      ],
      "text/plain": [
       "                            time stocks author  \\\n",
       "243305   2022-06-06 00:00:00 UTC   ARKK    NaN   \n",
       "1409458  2022-06-06 00:00:00 UTC   KWEB    NaN   \n",
       "1759129  2023-10-17 00:00:00 UTC   PFFL    NaN   \n",
       "1902201  2023-12-16 20:00:00 UTC  RILYN    NaN   \n",
       "2020353  2022-06-06 00:00:00 UTC    SPY    NaN   \n",
       "\n",
       "                                                                               title  \\\n",
       "243305                           Fox Business: Tom Lydon Tackles ETF Money In Motion   \n",
       "1409458                          Fox Business: Tom Lydon Tackles ETF Money In Motion   \n",
       "1759129  Stocks Mostly Lower as Strong U.S. Economic Reports Push Bond Yields Higher   \n",
       "1902201               3 High-Yield Dividend Stocks to Buy Before the End of the Year   \n",
       "2020353                          Fox Business: Tom Lydon Tackles ETF Money In Motion   \n",
       "\n",
       "        body  \n",
       "243305   NaN  \n",
       "1409458  NaN  \n",
       "1759129  NaN  \n",
       "1902201  NaN  \n",
       "2020353  NaN  "
      ]
     },
     "execution_count": 7,
     "metadata": {},
     "output_type": "execute_result"
    }
   ],
   "source": [
    "# Inspect rows with insufficient information \n",
    "news_csv[news_csv[['time', 'stocks', 'body']].isna().any(axis=1) & ~news_csv[['time', 'stocks', 'body']].isna().all(axis=1)].head()"
   ]
  },
  {
   "cell_type": "code",
   "execution_count": 8,
   "metadata": {},
   "outputs": [],
   "source": [
    "news_csv.dropna(subset=['time', 'stocks', 'body'], inplace=True)"
   ]
  },
  {
   "cell_type": "code",
   "execution_count": 9,
   "metadata": {},
   "outputs": [],
   "source": [
    "N_1 = news_csv.shape[0]"
   ]
  },
  {
   "cell_type": "code",
   "execution_count": 10,
   "metadata": {},
   "outputs": [
    {
     "name": "stdout",
     "output_type": "stream",
     "text": [
      "N_0=15549299, N_1=2491778\n",
      "Dropped 13057521 entries due to NaNs.\n"
     ]
    }
   ],
   "source": [
    "print(f\"{N_0=}, {N_1=}\")\n",
    "print(f\"Dropped {N_0 - N_1} entries due to NaNs.\")"
   ]
  },
  {
   "cell_type": "code",
   "execution_count": 11,
   "metadata": {},
   "outputs": [],
   "source": [
    "news_csv['time'] = pd.to_datetime(news_csv['time'])"
   ]
  },
  {
   "cell_type": "markdown",
   "metadata": {},
   "source": [
    "Many time stamps don't contain intra-day information. Hence we need to set the intra-day time of these entries to the end of the day and mark them as special rows."
   ]
  },
  {
   "cell_type": "code",
   "execution_count": 12,
   "metadata": {},
   "outputs": [
    {
     "data": {
      "text/plain": [
       "time\n",
       "0    2465156\n",
       "1       1073\n",
       "2       1202\n",
       "3       1007\n",
       "4       1303\n",
       "Name: count, dtype: int64"
      ]
     },
     "execution_count": 12,
     "metadata": {},
     "output_type": "execute_result"
    }
   ],
   "source": [
    "news_csv['time'].dt.hour.value_counts().sort_index().head(5)"
   ]
  },
  {
   "cell_type": "code",
   "execution_count": 13,
   "metadata": {},
   "outputs": [],
   "source": [
    "x = news_csv['time'].dt\n",
    "no_intra_day_entries_mask = (x.hour == 0) & (x.minute == 0)"
   ]
  },
  {
   "cell_type": "code",
   "execution_count": 14,
   "metadata": {},
   "outputs": [],
   "source": [
    "# Inspect entries which we will modify\n",
    "# news_csv.loc[no_intra_day_entries_mask, :].head()"
   ]
  },
  {
   "cell_type": "code",
   "execution_count": 15,
   "metadata": {},
   "outputs": [],
   "source": [
    "news_csv[\"intra_day_time\"] = True\n",
    "news_csv.loc[no_intra_day_entries_mask, \"intra_day_time\"] = False"
   ]
  },
  {
   "cell_type": "code",
   "execution_count": 16,
   "metadata": {},
   "outputs": [],
   "source": [
    "# Transform date into time by offsetting by one day\n",
    "news_csv.loc[no_intra_day_entries_mask, \"time\"] = news_csv.loc[no_intra_day_entries_mask, \"time\"] + pd.offsets.Day(1)"
   ]
  },
  {
   "cell_type": "code",
   "execution_count": 17,
   "metadata": {},
   "outputs": [],
   "source": [
    "news_csv.to_parquet(config.data.fnspid.raw_html_parsed)"
   ]
  },
  {
   "cell_type": "code",
   "execution_count": null,
   "metadata": {},
   "outputs": [],
   "source": []
  }
 ],
 "metadata": {
  "kernelspec": {
   "display_name": "Python 3 (ipykernel)",
   "language": "python",
   "name": "python3"
  },
  "language_info": {
   "codemirror_mode": {
    "name": "ipython",
    "version": 3
   },
   "file_extension": ".py",
   "mimetype": "text/x-python",
   "name": "python",
   "nbconvert_exporter": "python",
   "pygments_lexer": "ipython3",
   "version": "3.11.7"
  }
 },
 "nbformat": 4,
 "nbformat_minor": 4
}
