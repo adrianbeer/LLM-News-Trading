{
 "cells": [
  {
   "cell_type": "markdown",
   "metadata": {},
   "source": [
    "# Applying Indicators to Price Data\n",
    "Takes the output from `iq_feed_cleaning.ipynb` and for each row, adds indicators. \\\n",
    "This is preferred over calculating the indicators for each timestamp/date, as it saves \n",
    "a lot of computations. \\\n",
    "It does require us to do a look-up, but so does the alternative."
   ]
  },
  {
   "cell_type": "code",
   "execution_count": null,
   "metadata": {},
   "outputs": [],
   "source": [
    "# Sort by stocks\n",
    "# Sort by time\n",
    "# Add stock specific indicator\n",
    "# Add global indicator (S&P500)"
   ]
  },
  {
   "cell_type": "code",
   "execution_count": 2,
   "metadata": {},
   "outputs": [],
   "source": [
    "import pandas as pd\n",
    "import numpy as np\n",
    "from os import listdir\n",
    "from os.path import isfile, join\n",
    "import plotly.express as px\n",
    "import pytz\n",
    "eastern = pytz.timezone('US/Eastern')\n",
    "from src.config import config\n",
    "from concurrent.futures import ThreadPoolExecutor\n",
    "import os\n",
    "from src.utils.tickers import get_tickers"
   ]
  },
  {
   "cell_type": "code",
   "execution_count": 3,
   "metadata": {},
   "outputs": [],
   "source": [
    "tickers = get_tickers(config.data.iqfeed.daily.cleaned)"
   ]
  },
  {
   "cell_type": "code",
   "execution_count": 4,
   "metadata": {},
   "outputs": [],
   "source": [
    "def add_indicators(ticker):\n",
    "    prices = pd.read_parquet(path=f\"{config.data.iqfeed.daily.cleaned}/{ticker}_daily.parquet\")\n",
    "    prices[\"std_252\"] = prices[\"adj_close\"].pct_change().rolling(252, min_periods=252).std()*(252**0.5)\n",
    "    prices[\"dollar_volume\"] = prices[\"adj_volume\"] * (prices[\"adj_close\"] + prices[\"adj_open\"])/2\n",
    "    prices[\"r_intra_(t-1)\"] = (prices[\"adj_close\"] / prices[\"adj_open\"]).shift(periods=1)\n",
    "    prices.to_parquet(path=f\"{config.data.iqfeed.daily.cleaned}/{ticker}_daily.parquet\")"
   ]
  },
  {
   "cell_type": "code",
   "execution_count": 6,
   "metadata": {},
   "outputs": [],
   "source": [
    "pool_obj = ThreadPoolExecutor(max_workers=os.cpu_count()-1)\n",
    "ans = pool_obj.map(add_indicators, tickers)\n",
    "result = list(ans)"
   ]
  },
  {
   "cell_type": "code",
   "execution_count": null,
   "metadata": {},
   "outputs": [],
   "source": []
  }
 ],
 "metadata": {
  "kernelspec": {
   "display_name": ".venv",
   "language": "python",
   "name": "python3"
  },
  "language_info": {
   "codemirror_mode": {
    "name": "ipython",
    "version": 3
   },
   "file_extension": ".py",
   "mimetype": "text/x-python",
   "name": "python",
   "nbconvert_exporter": "python",
   "pygments_lexer": "ipython3",
   "version": "3.11.3"
  }
 },
 "nbformat": 4,
 "nbformat_minor": 2
}
