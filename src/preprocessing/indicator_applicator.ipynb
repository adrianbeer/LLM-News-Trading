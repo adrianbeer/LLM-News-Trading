{
 "cells": [
  {
   "cell_type": "markdown",
   "metadata": {},
   "source": [
    "# Applying Indicators to Price Data\n",
    "Takes the output from `iq_feed_cleaning.ipynb` and for each row, adds indicators. \\\n",
    "This is preferred over calculating the indicators for each timestamp/date, as it saves \n",
    "a lot of computations. \\\n",
    "It does require us to do a look-up, but so does the alternative."
   ]
  },
  {
   "cell_type": "code",
   "execution_count": null,
   "metadata": {},
   "outputs": [],
   "source": [
    "import os\n",
    "import pandas as pd\n",
    "from src.config import config\n",
    "from src.utils.tickers import get_tickers\n",
    "import concurrent.futures\n",
    "\n",
    "import tqdm as tqdm"
   ]
  },
  {
   "cell_type": "code",
   "execution_count": null,
   "metadata": {},
   "outputs": [],
   "source": [
    "tickers = get_tickers(config.data.iqfeed.daily.cleaned)"
   ]
  },
  {
   "cell_type": "markdown",
   "metadata": {},
   "source": [
    "---------"
   ]
  },
  {
   "cell_type": "code",
   "execution_count": null,
   "metadata": {},
   "outputs": [],
   "source": [
    "from arch import arch_model\n",
    "def get_insample_conditional_volatilies(ts: pd.Series):\n",
    "    model = (arch_model(ts * 100, \n",
    "                        mean = 'Constant', \n",
    "                        vol = 'GARCH', \n",
    "                        p = 1, o = 0, q = 1)\n",
    "                .fit(update_freq = 0, disp = 'off'))\n",
    "\n",
    "    # coefs = model.params\n",
    "    cond_vol = model.conditional_volatility\n",
    "    # Downscale after having upscaled for numerical stability \n",
    "    cond_vol /= 100\n",
    "    return cond_vol"
   ]
  },
  {
   "cell_type": "markdown",
   "metadata": {},
   "source": [
    "-----------"
   ]
  },
  {
   "cell_type": "code",
   "execution_count": null,
   "metadata": {},
   "outputs": [],
   "source": [
    "def add_indicators(ticker):\n",
    "    prices = pd.read_parquet(path=f\"{config.data.iqfeed.daily.cleaned}/{ticker}_daily.parquet\")\n",
    "    \n",
    "    # TODO: train_test split... prevent forward looking bias!\n",
    "    # Requires train test split before using this module...  \n",
    "    prices[\"std_252\"] = prices[\"adj_close\"].pct_change().rolling(252, min_periods=252).std()*(252**0.5)\n",
    "    prices[\"r\"] = prices[\"adj_close\"] / prices[\"adj_close\"].shift() - 1 \n",
    "    prices[\"cond_vola\"] = get_insample_conditional_volatilies(prices[\"r\"].dropna())\n",
    "    prices[\"dollar_volume\"] = prices[\"adj_volume\"] * (prices[\"adj_close\"] + prices[\"adj_open\"])/2\n",
    "    prices[\"r_intra_(t-1)\"] = (prices[\"adj_close\"] / prices[\"adj_open\"] - 1).shift(periods=1)\n",
    "    prices[\"unadj_open\"] = prices[\"adj_open\"] / prices[\"cum_split_ratio\"]\n",
    "    \n",
    "    prices.to_parquet(path=f\"{config.data.iqfeed.daily.cleaned}/{ticker}_daily.parquet\")"
   ]
  },
  {
   "cell_type": "code",
   "execution_count": null,
   "metadata": {},
   "outputs": [],
   "source": [
    "# pool_obj = ThreadPoolExecutor(max_workers=os.cpu_count()-1)\n",
    "# ans = pool_obj.map(add_indicators, tickers)\n",
    "# result = list(ans)"
   ]
  },
  {
   "cell_type": "code",
   "execution_count": null,
   "metadata": {},
   "outputs": [],
   "source": [
    "with tqdm(total=len(tickers), desc=\"tickers (indicator_applicator)\") as pbar:\n",
    "    # let's give it some more threads:\n",
    "    with concurrent.futures.ThreadPoolExecutor(max_workers=os.cpu_count()) as executor:\n",
    "        futures = {executor.submit(add_indicators, ticker): ticker for ticker in tickers}\n",
    "        for future in concurrent.futures.as_completed(futures):\n",
    "            ticker = futures[future]\n",
    "            pbar.update(1)"
   ]
  }
 ],
 "metadata": {
  "kernelspec": {
   "display_name": ".venv",
   "language": "python",
   "name": "python3"
  },
  "language_info": {
   "codemirror_mode": {
    "name": "ipython",
    "version": 3
   },
   "file_extension": ".py",
   "mimetype": "text/x-python",
   "name": "python",
   "nbconvert_exporter": "python",
   "pygments_lexer": "ipython3",
   "version": "3.11.3"
  }
 },
 "nbformat": 4,
 "nbformat_minor": 2
}
