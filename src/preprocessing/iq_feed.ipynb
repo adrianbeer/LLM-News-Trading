{
  "cells": [
    {
      "cell_type": "markdown",
      "metadata": {
        "colab_type": "text",
        "id": "view-in-github"
      },
      "source": [
        "## Clean and Adjust Intraday Data"
      ]
    },
    {
      "cell_type": "code",
      "execution_count": null,
      "metadata": {
        "id": "tU-UtmILfEI6"
      },
      "outputs": [],
      "source": [
        "%%capture\n",
        "from google.colab import drive\n",
        "drive.mount('/content/drive')\n",
        "cwd=\"/content/drive/MyDrive/NewsTrading/trading_bot\"\n",
        "%cd /content/drive/MyDrive/NewsTrading/trading_bot\n",
        "%pip install -r requirements_clean.txt\n",
        "\n",
        "from google.colab import auth\n",
        "auth.authenticate_user()"
      ]
    },
    {
      "cell_type": "code",
      "execution_count": null,
      "metadata": {
        "id": "5w_3GBj2fBkB"
      },
      "outputs": [],
      "source": [
        "import pandas as pd\n",
        "import numpy as np\n",
        "import pytz\n",
        "eastern = pytz.timezone('US/Eastern')\n",
        "from IPython.display import clear_output\n",
        "import logging\n",
        "from src.config import config\n",
        "from src.utils.prices import calc_backward_adjustment_factors, calc_adj_prices\n",
        "from src.utils.tickers import get_tickers"
      ]
    },
    {
      "cell_type": "code",
      "execution_count": null,
      "metadata": {
        "id": "QVtb04smfBkE"
      },
      "outputs": [],
      "source": [
        "def filter_trading_hours(df, time_column):\n",
        "    T = df[time_column].dt\n",
        "    min_mask = (T.hour >= 10) | ((T.hour == 9) & (T.minute >= 31))\n",
        "    max_mask = (T.hour < 16) | ((T.hour == 16) & (T.minute <= 1))\n",
        "    return df.loc[min_mask & max_mask, :]"
      ]
    },
    {
      "cell_type": "code",
      "execution_count": null,
      "metadata": {
        "id": "gAx2fHuMfBkF"
      },
      "outputs": [],
      "source": [
        "def preprocess_iq_feed_prices(prices: pd.DataFrame) -> pd.DataFrame:\n",
        "    if \"time\" in prices.columns:\n",
        "        # Intra-day data\n",
        "        prices.loc[:, \"time\"] = prices.loc[:, \"time\"].dt.tz_localize(None)\n",
        "        prices.loc[:, \"time\"] = prices.loc[:, \"time\"].dt.tz_localize(eastern)\n",
        "        prices.drop_duplicates(keep=\"first\", inplace=True)\n",
        "        prices.dropna(inplace=True)\n",
        "\n",
        "        prices = filter_trading_hours(df=prices, time_column=\"time\")\n",
        "\n",
        "        # Deals with duplicate rows which occurr when not all the digits for volume are\n",
        "        # correctly entered, but only the first 1-3. So keep the largest.\n",
        "        prices = prices.sort_values([\"time\", \"volume\"], ascending=[True, False])\n",
        "        prices = prices.drop_duplicates(subset=[\"time\"], keep=\"first\")\n",
        "\n",
        "        prices.set_index(\"time\", inplace=True)\n",
        "        prices.sort_index(ascending=True, inplace=True)\n",
        "        assert prices.index.is_unique\n",
        "        prices.index = prices.index.astype('datetime64[ns, US/Eastern]')\n",
        "    else:\n",
        "        # Daily data\n",
        "        prices.dropna(inplace=True)\n",
        "        prices[\"date\"] = pd.to_datetime(prices.date)\n",
        "    return prices"
      ]
    },
    {
      "cell_type": "code",
      "execution_count": null,
      "metadata": {
        "id": "xy6pi2w2-z34"
      },
      "outputs": [],
      "source": [
        "tickers = get_tickers()"
      ]
    },
    {
      "cell_type": "code",
      "execution_count": null,
      "metadata": {
        "colab": {
          "base_uri": "https://localhost:8080/"
        },
        "id": "D0FYXGEYfBkG",
        "outputId": "f5156aa5-6651-4714-c90c-4ccbcd940aa5"
      },
      "outputs": [],
      "source": [
        "for i in range(len(tickers)):\n",
        "  ticker = tickers[i]\n",
        "  clear_output(wait=True)\n",
        "  print(f\"{i} - {ticker}\", flush=True)\n",
        "\n",
        "  path = f\"{config.data.iqfeed.minute.raw}/{ticker}_1min.parquet\"\n",
        "  prices = pd.read_parquet(path=path,\n",
        "                           columns=[\"time\", \"open\", \"high\", \"low\", \"close\", \"volume\"])\n",
        "  prices: pd.DataFrame = preprocess_iq_feed_prices(prices)\n",
        "  # Adjust for Splits and Dividends\n",
        "  bafs = calc_backward_adjustment_factors(ticker, return_dataframe=False)\n",
        "  if bafs is None:\n",
        "    # No yfinance data for this stock\n",
        "    continue\n",
        "  adj_prices = calc_adj_prices(prices, bafs)\n",
        "\n",
        "  # Save adjusted files to disk\n",
        "  adj_prices.to_parquet(path=f\"{config.data.iqfeed.minute.cleaned}/{ticker}_1min.parquet\")"
      ]
    },
    {
      "cell_type": "markdown",
      "metadata": {
        "id": "-hcixcnMfBkI"
      },
      "source": [
        "## Make Daily Time Series from Intra-Day"
      ]
    },
    {
      "cell_type": "code",
      "execution_count": null,
      "metadata": {},
      "outputs": [],
      "source": [
        "from concurrent.futures import ThreadPoolExecutor\n",
        "import os"
      ]
    },
    {
      "cell_type": "code",
      "execution_count": null,
      "metadata": {},
      "outputs": [],
      "source": [
        "def downsample_intraday_prices_to_daily(df: pd.DataFrame):\n",
        "    dic = dict()\n",
        "    dic[\"adj_open\"] = df.iloc[0, :].at[\"adj_open\"]\n",
        "    dic[\"adj_high\"] = df[\"adj_high\"].max()\n",
        "    dic[\"adj_high\"] = df[\"adj_low\"].min()\n",
        "    dic[\"adj_close\"] = df.iloc[-1, :].at[\"adj_close\"]\n",
        "    dic[\"adj_volume\"] = df.loc[:, \"adj_volume\"].mean()\n",
        "    dic[\"cum_split_ratio\"] = df.at[df.index[0], \"cum_split_ratio\"]\n",
        "    \n",
        "    daily = pd.Series(dic, name=df.index.date[0])\n",
        "    return daily"
      ]
    },
    {
      "cell_type": "code",
      "execution_count": null,
      "metadata": {},
      "outputs": [],
      "source": [
        "tickers = get_tickers(directory=config.data.iqfeed.minute.cleaned)"
      ]
    },
    {
      "cell_type": "code",
      "execution_count": null,
      "metadata": {},
      "outputs": [],
      "source": [
        "def downsample_intraday_prices_to_daily_for_ticker_and_save(ticker: str):\n",
        "    prices = pd.read_parquet(path=f\"{config.data.iqfeed.minute.cleaned}/{ticker}_1min.parquet\")\n",
        "    assert prices.index.is_monotonic_increasing\n",
        "    try:\n",
        "        daily_prices = prices.groupby(prices.index.date).apply(downsample_intraday_prices_to_daily)\n",
        "    except Exception as err:\n",
        "        logging.info(f\"{err=}\")\n",
        "        print(f\"{err=}\")\n",
        "        return\n",
        "    daily_prices.index = pd.to_datetime(prices.index)\n",
        "    daily_prices = daily_prices.index.tz_localize(\"US/Eastern\")\n",
        "    daily_prices.index.name = \"date\"\n",
        "    daily_prices.to_parquet(path=f\"{config.data.iqfeed.daily.cleaned}/{ticker}_daily.parquet\")"
      ]
    },
    {
      "cell_type": "code",
      "execution_count": null,
      "metadata": {},
      "outputs": [],
      "source": [
        "pool_obj = ThreadPoolExecutor(max_workers=os.cpu_count()-1)\n",
        "ans = pool_obj.map(downsample_intraday_prices_to_daily_for_ticker_and_save, tickers)\n",
        "result = list(ans)"
      ]
    },
    {
      "cell_type": "code",
      "execution_count": null,
      "metadata": {},
      "outputs": [],
      "source": [
        "tickers = get_tickers(config.data.iqfeed.minute.cleaned)\n",
        "daily_tickers = get_tickers(config.data.iqfeed.daily.cleaned)\n",
        "set(tickers) - set(daily_tickers)"
      ]
    },
    {
      "cell_type": "code",
      "execution_count": null,
      "metadata": {},
      "outputs": [],
      "source": []
    }
  ],
  "metadata": {
    "colab": {
      "include_colab_link": true,
      "machine_shape": "hm",
      "provenance": []
    },
    "kernelspec": {
      "display_name": "Python 3",
      "name": "python3"
    },
    "language_info": {
      "codemirror_mode": {
        "name": "ipython",
        "version": 3
      },
      "file_extension": ".py",
      "mimetype": "text/x-python",
      "name": "python",
      "nbconvert_exporter": "python",
      "pygments_lexer": "ipython3",
      "version": "3.11.3"
    }
  },
  "nbformat": 4,
  "nbformat_minor": 0
}
