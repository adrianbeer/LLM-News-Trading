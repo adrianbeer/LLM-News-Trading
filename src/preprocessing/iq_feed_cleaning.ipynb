{
 "cells": [
  {
   "cell_type": "code",
   "execution_count": 1,
   "metadata": {},
   "outputs": [
    {
     "ename": "ModuleNotFoundError",
     "evalue": "No module named 'plotly'",
     "output_type": "error",
     "traceback": [
      "\u001b[0;31m---------------------------------------------------------------------------\u001b[0m",
      "\u001b[0;31mModuleNotFoundError\u001b[0m                       Traceback (most recent call last)",
      "\u001b[1;32m/home/beer/Documents/GithubProjekte/trading_bot/src/preprocessing/iq_feed_cleaning.ipynb Cell 1\u001b[0m line \u001b[0;36m5\n\u001b[1;32m      <a href='vscode-notebook-cell:/home/beer/Documents/GithubProjekte/trading_bot/src/preprocessing/iq_feed_cleaning.ipynb#W0sZmlsZQ%3D%3D?line=2'>3</a>\u001b[0m \u001b[39mfrom\u001b[39;00m \u001b[39mos\u001b[39;00m \u001b[39mimport\u001b[39;00m listdir\n\u001b[1;32m      <a href='vscode-notebook-cell:/home/beer/Documents/GithubProjekte/trading_bot/src/preprocessing/iq_feed_cleaning.ipynb#W0sZmlsZQ%3D%3D?line=3'>4</a>\u001b[0m \u001b[39mfrom\u001b[39;00m \u001b[39mos\u001b[39;00m\u001b[39m.\u001b[39;00m\u001b[39mpath\u001b[39;00m \u001b[39mimport\u001b[39;00m isfile, join\n\u001b[0;32m----> <a href='vscode-notebook-cell:/home/beer/Documents/GithubProjekte/trading_bot/src/preprocessing/iq_feed_cleaning.ipynb#W0sZmlsZQ%3D%3D?line=4'>5</a>\u001b[0m \u001b[39mimport\u001b[39;00m \u001b[39mplotly\u001b[39;00m\u001b[39m.\u001b[39;00m\u001b[39mexpress\u001b[39;00m \u001b[39mas\u001b[39;00m \u001b[39mpx\u001b[39;00m\n\u001b[1;32m      <a href='vscode-notebook-cell:/home/beer/Documents/GithubProjekte/trading_bot/src/preprocessing/iq_feed_cleaning.ipynb#W0sZmlsZQ%3D%3D?line=5'>6</a>\u001b[0m \u001b[39mimport\u001b[39;00m \u001b[39mpytz\u001b[39;00m\n\u001b[1;32m      <a href='vscode-notebook-cell:/home/beer/Documents/GithubProjekte/trading_bot/src/preprocessing/iq_feed_cleaning.ipynb#W0sZmlsZQ%3D%3D?line=6'>7</a>\u001b[0m eastern \u001b[39m=\u001b[39m pytz\u001b[39m.\u001b[39mtimezone(\u001b[39m'\u001b[39m\u001b[39mUS/Eastern\u001b[39m\u001b[39m'\u001b[39m)\n",
      "\u001b[0;31mModuleNotFoundError\u001b[0m: No module named 'plotly'"
     ]
    }
   ],
   "source": [
    "import pandas as pd \n",
    "import numpy as np\n",
    "from os import listdir\n",
    "from os.path import isfile, join\n",
    "import plotly.express as px\n",
    "import pytz\n",
    "eastern = pytz.timezone('US/Eastern')\n",
    "\n",
    "from dotmap import DotMap\n",
    "import yaml\n",
    "config = DotMap(yaml.safe_load(open(\"src/config.yaml\")), _dynamic=False)"
   ]
  },
  {
   "cell_type": "code",
   "execution_count": null,
   "metadata": {},
   "outputs": [],
   "source": [
    "def filter_trading_hours(df, time_column):\n",
    "    T = df[time_column].dt\n",
    "    min_mask = (T.hour >= 10) | ((T.hour == 9) & (T.minute >= 31))\n",
    "    max_mask = (T.hour < 16) | ((T.hour == 16) & (T.minute <= 1))\n",
    "    return df.loc[min_mask & max_mask, :]"
   ]
  },
  {
   "cell_type": "code",
   "execution_count": null,
   "metadata": {},
   "outputs": [],
   "source": [
    "def preprocess_iq_feed_prices(prices: pd.DataFrame) -> pd.DataFrame: \n",
    "    if \"time\" in prices.columns:\n",
    "        # Intra-day data\n",
    "        prices.loc[:, \"time\"] = prices.loc[:, \"time\"].dt.tz_localize(None)\n",
    "        prices.loc[:, \"time\"] = prices.loc[:, \"time\"].dt.tz_localize(eastern)\n",
    "        prices.drop_duplicates(keep=\"first\", inplace=True)\n",
    "        prices.dropna(inplace=True)\n",
    "        \n",
    "        prices = filter_trading_hours(df=prices, time_column=\"time\")\n",
    "\n",
    "        # Deals with duplicate rows which occurr when not all the digits for volume are \n",
    "        # correctly entered, but only the first 1-3. So keep the largest.\n",
    "        prices = prices.sort_values([\"time\", \"volume\"], ascending=[True, False])\n",
    "        prices = prices.drop_duplicates(subset=[\"time\"], keep=\"first\")\n",
    "\n",
    "        prices.set_index(\"time\", inplace=True)\n",
    "        prices.sort_index(ascending=True, inplace=True)\n",
    "        assert prices.index.is_unique\n",
    "    else:\n",
    "        # Daily data\n",
    "        prices.dropna(inplace=True)\n",
    "        prices[\"date\"] = pd.to_datetime(prices.date)\n",
    "    return prices"
   ]
  },
  {
   "cell_type": "code",
   "execution_count": null,
   "metadata": {},
   "outputs": [],
   "source": [
    "onlyfiles = [f for f in listdir(config.data.iqfeed.minute.raw) if isfile(join(config.data.iqfeed.minute.raw, f))]\n",
    "tickers = [x.split(\"_\")[0] for x in onlyfiles]\n",
    "ticker = \"GOOGL\""
   ]
  },
  {
   "cell_type": "code",
   "execution_count": null,
   "metadata": {},
   "outputs": [],
   "source": [
    "prices: pd.DataFrame = preprocess_iq_feed_prices(pd.read_parquet(path=f\"{config.data.iqfeed.minute.raw}/{ticker}_1min.parquet\", \n",
    "                                                                 columns=[\"time\", \"close\", \"open\", \"volume\"]))\n",
    "prices_daily: pd.DataFrame = preprocess_iq_feed_prices(pd.read_parquet(path=f\"{config.data.iqfeed.minute.raw}/daily/{ticker}_daily.parquet\", \n",
    "                                                                       columns=[\"date\", \"close\", \"open\", \"volume\"]))"
   ]
  },
  {
   "cell_type": "markdown",
   "metadata": {},
   "source": [
    "# Adjust for Splits and Dividends"
   ]
  },
  {
   "cell_type": "code",
   "execution_count": null,
   "metadata": {},
   "outputs": [],
   "source": [
    "\n",
    "intra_opens = prices[(prices.index.hour == 9) & (prices.index.minute == 0), \"open\"]\n",
    "intra_opens.index = intra_opens.index.date\n",
    "intra_opens.index.name = \"date\"\n",
    "\n",
    "intra_closes = prices[(prices.index.hour == 16) & (prices.index.minute == 1), \"open\"]\n",
    "intra_closes.index = intra_closes.index.date\n",
    "intra_closes.index.name = \"date\"\n",
    "intra_closes.name = \"intra_close\""
   ]
  },
  {
   "cell_type": "code",
   "execution_count": null,
   "metadata": {},
   "outputs": [],
   "source": [
    "merged = pd.merge(intra_opens, prices_daily[\"date\", \"close\", \"open\"], left_on=\"date\", right_on=\"date\", suffixes=(\"_intra\", \"_eod\"))\n",
    "merged = pd.merge(merged, intra_closes, left_on=\"date\", right_on=\"date\")"
   ]
  },
  {
   "cell_type": "code",
   "execution_count": null,
   "metadata": {},
   "outputs": [],
   "source": [
    "merged = merged.sort_index(ascending=False)\n",
    "merged[\"split_ratio\"] = 1"
   ]
  },
  {
   "cell_type": "code",
   "execution_count": null,
   "metadata": {},
   "outputs": [],
   "source": [
    "# Calculate Dividend and Split Events (They are handled exactly the same, but dividend events are smaller)\n",
    "# To adjust, we go backwrds in time. \n",
    "# When a split has occurred the close will be the first price that is influenced in the historical adjusted time series.\n",
    "# Assuming the split/dividend has occurred overnight.\n",
    "for i in range(len(merged.index)):\n",
    "    row = merged.index[i]\n",
    "    \n",
    "    split_ratios = merged.iloc[i:i+5][\"close_eod\"] / merged.iloc[i:i+5][\"close_intra\"]\n",
    "    \n",
    "    # All split ratios are larger than 0.5% => persistent discrepancy => split/dividend event\n",
    "    if min(np.abs(split_ratios - 1)) >= 0.005:\n",
    "        split_ratio = merged[row, \"close_eod\"] / merged[row, \"close_intra\"]\n",
    "        merged[row:, [\"close_intra\", \"split_ratio\"]]  = [merged[row:, \"close_intra\"] * split_ratio, \"split_ratio\"]"
   ]
  },
  {
   "cell_type": "code",
   "execution_count": null,
   "metadata": {},
   "outputs": [],
   "source": [
    "prices[\"split_ratio\"] = 1\n",
    "prices[merged.index, \"split_ratio\"] = merged[\"split_ratio\"]\n",
    "prices[\"cum_split_ratio\"] = np.cumprod(prices[\"split_ratio\"][::-1])[::-1] "
   ]
  },
  {
   "cell_type": "code",
   "execution_count": null,
   "metadata": {},
   "outputs": [],
   "source": [
    "# split_ratio < 1 => price goes down\n",
    "# stocks dont trade in fractions of a penny, hence we need to round to 2 decimals\n",
    "prices[[\"open\", \"high\", \"low\", \"close\"]] = (prices[[\"open\", \"high\", \"low\", \"close\"]] * prices[\"cum_split_ratio\"]).round(decimals=2)\n",
    "\n",
    "# split_ratio < 1 => volume goes up, since price goes down and pricevolume has to stay the same \n",
    "# (volume denotes number of stocks traded)\n",
    "prices[\"volume\"] = prices[\"volume\"] / prices[\"cum_split_ratio\"]"
   ]
  },
  {
   "cell_type": "code",
   "execution_count": null,
   "metadata": {},
   "outputs": [],
   "source": [
    "px.line(merged[\"close_intra\", \"close_eod\"])"
   ]
  },
  {
   "cell_type": "markdown",
   "metadata": {},
   "source": [
    "# Check quality looking at the amount of splits/dividends"
   ]
  },
  {
   "cell_type": "code",
   "execution_count": 45,
   "metadata": {},
   "outputs": [
    {
     "name": "stdout",
     "output_type": "stream",
     "text": [
      "[*********************100%%**********************]  1 of 1 completed\n"
     ]
    }
   ],
   "source": [
    "# Download yfinance split data and check if there is a difference between the calculated splits/dividends\n",
    "import yfinance\n",
    "# In yahoo finance the `Close` is adj. for splits and the `Adj. Close` for splits and dividends\n",
    "# Dividends on Yahoo Finance are adjusted for splits!\n",
    "\n",
    "df=yfinance.download(\"AAPL\",period=\"10y\",actions=True)"
   ]
  },
  {
   "cell_type": "code",
   "execution_count": 46,
   "metadata": {},
   "outputs": [],
   "source": [
    "df[\"split_ratio\"] = 1\n",
    "# split_mask = df[\"Stock Splits\"] > 0\n",
    "# df.loc[split_mask, \"split_ratio\"] = 1 / df.loc[split_mask, \"Stock Splits\"] # Do we have to apply the split the next day or the current day?\n",
    "\n",
    "df[\"Dividends\"] = df[\"Dividends\"].shift(-1, fill_value=0)\n",
    "dividend_mask = (df[\"Dividends\"] > 0)\n",
    "df.loc[dividend_mask, \"split_ratio\"] = 1 - df.loc[dividend_mask, \"Dividends\"] / df.loc[dividend_mask, \"Close\"]"
   ]
  },
  {
   "cell_type": "code",
   "execution_count": 47,
   "metadata": {},
   "outputs": [],
   "source": [
    "df[\"cum_split_ratio\"] = np.cumprod(df[\"split_ratio\"][::-1])[::-1] \n",
    "df[\"Close\"] = df[\"Close\"] * df[\"cum_split_ratio\"]"
   ]
  },
  {
   "cell_type": "code",
   "execution_count": 48,
   "metadata": {},
   "outputs": [
    {
     "data": {
      "text/html": [
       "<div>\n",
       "<style scoped>\n",
       "    .dataframe tbody tr th:only-of-type {\n",
       "        vertical-align: middle;\n",
       "    }\n",
       "\n",
       "    .dataframe tbody tr th {\n",
       "        vertical-align: top;\n",
       "    }\n",
       "\n",
       "    .dataframe thead th {\n",
       "        text-align: right;\n",
       "    }\n",
       "</style>\n",
       "<table border=\"1\" class=\"dataframe\">\n",
       "  <thead>\n",
       "    <tr style=\"text-align: right;\">\n",
       "      <th></th>\n",
       "      <th>Open</th>\n",
       "      <th>High</th>\n",
       "      <th>Low</th>\n",
       "      <th>Close</th>\n",
       "      <th>Adj Close</th>\n",
       "      <th>Volume</th>\n",
       "      <th>Dividends</th>\n",
       "      <th>Stock Splits</th>\n",
       "      <th>split_ratio</th>\n",
       "      <th>cum_split_ratio</th>\n",
       "    </tr>\n",
       "    <tr>\n",
       "      <th>Date</th>\n",
       "      <th></th>\n",
       "      <th></th>\n",
       "      <th></th>\n",
       "      <th></th>\n",
       "      <th></th>\n",
       "      <th></th>\n",
       "      <th></th>\n",
       "      <th></th>\n",
       "      <th></th>\n",
       "      <th></th>\n",
       "    </tr>\n",
       "  </thead>\n",
       "  <tbody>\n",
       "    <tr>\n",
       "      <th>2013-12-23</th>\n",
       "      <td>20.285713</td>\n",
       "      <td>20.382856</td>\n",
       "      <td>20.098572</td>\n",
       "      <td>17.849752</td>\n",
       "      <td>17.849752</td>\n",
       "      <td>501306400</td>\n",
       "      <td>0.0</td>\n",
       "      <td>0.0</td>\n",
       "      <td>1.0</td>\n",
       "      <td>0.876692</td>\n",
       "    </tr>\n",
       "    <tr>\n",
       "      <th>2013-12-24</th>\n",
       "      <td>20.353214</td>\n",
       "      <td>20.424286</td>\n",
       "      <td>20.215357</td>\n",
       "      <td>17.773982</td>\n",
       "      <td>17.773985</td>\n",
       "      <td>167554800</td>\n",
       "      <td>0.0</td>\n",
       "      <td>0.0</td>\n",
       "      <td>1.0</td>\n",
       "      <td>0.876692</td>\n",
       "    </tr>\n",
       "    <tr>\n",
       "      <th>2013-12-26</th>\n",
       "      <td>20.289286</td>\n",
       "      <td>20.339287</td>\n",
       "      <td>20.120714</td>\n",
       "      <td>17.655941</td>\n",
       "      <td>17.655939</td>\n",
       "      <td>204008000</td>\n",
       "      <td>0.0</td>\n",
       "      <td>0.0</td>\n",
       "      <td>1.0</td>\n",
       "      <td>0.876692</td>\n",
       "    </tr>\n",
       "    <tr>\n",
       "      <th>2013-12-27</th>\n",
       "      <td>20.136429</td>\n",
       "      <td>20.157499</td>\n",
       "      <td>19.982143</td>\n",
       "      <td>17.536648</td>\n",
       "      <td>17.536648</td>\n",
       "      <td>225884400</td>\n",
       "      <td>0.0</td>\n",
       "      <td>0.0</td>\n",
       "      <td>1.0</td>\n",
       "      <td>0.876692</td>\n",
       "    </tr>\n",
       "    <tr>\n",
       "      <th>2013-12-30</th>\n",
       "      <td>19.909286</td>\n",
       "      <td>20.003214</td>\n",
       "      <td>19.725714</td>\n",
       "      <td>17.362249</td>\n",
       "      <td>17.362255</td>\n",
       "      <td>253629600</td>\n",
       "      <td>0.0</td>\n",
       "      <td>0.0</td>\n",
       "      <td>1.0</td>\n",
       "      <td>0.876692</td>\n",
       "    </tr>\n",
       "    <tr>\n",
       "      <th>...</th>\n",
       "      <td>...</td>\n",
       "      <td>...</td>\n",
       "      <td>...</td>\n",
       "      <td>...</td>\n",
       "      <td>...</td>\n",
       "      <td>...</td>\n",
       "      <td>...</td>\n",
       "      <td>...</td>\n",
       "      <td>...</td>\n",
       "      <td>...</td>\n",
       "    </tr>\n",
       "    <tr>\n",
       "      <th>2023-12-18</th>\n",
       "      <td>196.089996</td>\n",
       "      <td>196.630005</td>\n",
       "      <td>194.389999</td>\n",
       "      <td>195.889999</td>\n",
       "      <td>195.889999</td>\n",
       "      <td>55751900</td>\n",
       "      <td>0.0</td>\n",
       "      <td>0.0</td>\n",
       "      <td>1.0</td>\n",
       "      <td>1.000000</td>\n",
       "    </tr>\n",
       "    <tr>\n",
       "      <th>2023-12-19</th>\n",
       "      <td>196.160004</td>\n",
       "      <td>196.949997</td>\n",
       "      <td>195.889999</td>\n",
       "      <td>196.940002</td>\n",
       "      <td>196.940002</td>\n",
       "      <td>40714100</td>\n",
       "      <td>0.0</td>\n",
       "      <td>0.0</td>\n",
       "      <td>1.0</td>\n",
       "      <td>1.000000</td>\n",
       "    </tr>\n",
       "    <tr>\n",
       "      <th>2023-12-20</th>\n",
       "      <td>196.899994</td>\n",
       "      <td>197.679993</td>\n",
       "      <td>194.830002</td>\n",
       "      <td>194.830002</td>\n",
       "      <td>194.830002</td>\n",
       "      <td>52242800</td>\n",
       "      <td>0.0</td>\n",
       "      <td>0.0</td>\n",
       "      <td>1.0</td>\n",
       "      <td>1.000000</td>\n",
       "    </tr>\n",
       "    <tr>\n",
       "      <th>2023-12-21</th>\n",
       "      <td>196.100006</td>\n",
       "      <td>197.080002</td>\n",
       "      <td>193.500000</td>\n",
       "      <td>194.679993</td>\n",
       "      <td>194.679993</td>\n",
       "      <td>46482500</td>\n",
       "      <td>0.0</td>\n",
       "      <td>0.0</td>\n",
       "      <td>1.0</td>\n",
       "      <td>1.000000</td>\n",
       "    </tr>\n",
       "    <tr>\n",
       "      <th>2023-12-22</th>\n",
       "      <td>195.179993</td>\n",
       "      <td>195.410004</td>\n",
       "      <td>192.970001</td>\n",
       "      <td>193.600006</td>\n",
       "      <td>193.600006</td>\n",
       "      <td>37122800</td>\n",
       "      <td>0.0</td>\n",
       "      <td>0.0</td>\n",
       "      <td>1.0</td>\n",
       "      <td>1.000000</td>\n",
       "    </tr>\n",
       "  </tbody>\n",
       "</table>\n",
       "<p>2518 rows × 10 columns</p>\n",
       "</div>"
      ],
      "text/plain": [
       "                  Open        High         Low       Close   Adj Close  \\\n",
       "Date                                                                     \n",
       "2013-12-23   20.285713   20.382856   20.098572   17.849752   17.849752   \n",
       "2013-12-24   20.353214   20.424286   20.215357   17.773982   17.773985   \n",
       "2013-12-26   20.289286   20.339287   20.120714   17.655941   17.655939   \n",
       "2013-12-27   20.136429   20.157499   19.982143   17.536648   17.536648   \n",
       "2013-12-30   19.909286   20.003214   19.725714   17.362249   17.362255   \n",
       "...                ...         ...         ...         ...         ...   \n",
       "2023-12-18  196.089996  196.630005  194.389999  195.889999  195.889999   \n",
       "2023-12-19  196.160004  196.949997  195.889999  196.940002  196.940002   \n",
       "2023-12-20  196.899994  197.679993  194.830002  194.830002  194.830002   \n",
       "2023-12-21  196.100006  197.080002  193.500000  194.679993  194.679993   \n",
       "2023-12-22  195.179993  195.410004  192.970001  193.600006  193.600006   \n",
       "\n",
       "               Volume  Dividends  Stock Splits  split_ratio  cum_split_ratio  \n",
       "Date                                                                          \n",
       "2013-12-23  501306400        0.0           0.0          1.0         0.876692  \n",
       "2013-12-24  167554800        0.0           0.0          1.0         0.876692  \n",
       "2013-12-26  204008000        0.0           0.0          1.0         0.876692  \n",
       "2013-12-27  225884400        0.0           0.0          1.0         0.876692  \n",
       "2013-12-30  253629600        0.0           0.0          1.0         0.876692  \n",
       "...               ...        ...           ...          ...              ...  \n",
       "2023-12-18   55751900        0.0           0.0          1.0         1.000000  \n",
       "2023-12-19   40714100        0.0           0.0          1.0         1.000000  \n",
       "2023-12-20   52242800        0.0           0.0          1.0         1.000000  \n",
       "2023-12-21   46482500        0.0           0.0          1.0         1.000000  \n",
       "2023-12-22   37122800        0.0           0.0          1.0         1.000000  \n",
       "\n",
       "[2518 rows x 10 columns]"
      ]
     },
     "execution_count": 48,
     "metadata": {},
     "output_type": "execute_result"
    }
   ],
   "source": [
    "df"
   ]
  },
  {
   "cell_type": "code",
   "execution_count": null,
   "metadata": {},
   "outputs": [],
   "source": [
    "# Check quality looking at the difference between intra_day adj open and eod adj open.\n",
    "# This difference should be smaller than the split_ratio for all days where the split_ratio is not 1\n",
    "# This difference should also be smaller in general than our threshold for splits (1%?)"
   ]
  },
  {
   "cell_type": "code",
   "execution_count": null,
   "metadata": {},
   "outputs": [],
   "source": [
    "# Once this has been checked and intraday data consistency/continuity is assured we could\n",
    "# Replace all the closes and opens from the intra day data set with those of the eod data set.\n",
    "# However this leads to problems, if we calculate wrong a single split event.\n",
    "# If we don't do this replacement only one bday is affected (split day). \n",
    "# If we do the replacement multiple days will be affected by the error."
   ]
  },
  {
   "cell_type": "markdown",
   "metadata": {},
   "source": [
    "# Save adjusted files to disk"
   ]
  }
 ],
 "metadata": {
  "kernelspec": {
   "display_name": ".venv",
   "language": "python",
   "name": "python3"
  },
  "language_info": {
   "codemirror_mode": {
    "name": "ipython",
    "version": 3
   },
   "file_extension": ".py",
   "mimetype": "text/x-python",
   "name": "python",
   "nbconvert_exporter": "python",
   "pygments_lexer": "ipython3",
   "version": "3.8.10"
  }
 },
 "nbformat": 4,
 "nbformat_minor": 2
}
