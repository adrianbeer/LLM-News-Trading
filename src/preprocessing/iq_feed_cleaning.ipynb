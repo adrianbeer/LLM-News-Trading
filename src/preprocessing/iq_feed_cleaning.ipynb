{
  "cells": [
    {
      "cell_type": "code",
      "execution_count": null,
      "metadata": {
        "id": "tU-UtmILfEI6"
      },
      "outputs": [],
      "source": [
        "%%capture\n",
        "from google.colab import drive\n",
        "drive.mount('/content/drive')\n",
        "cwd=\"/content/drive/MyDrive/NewsTrading/trading_bot\"\n",
        "%cd /content/drive/MyDrive/NewsTrading/trading_bot\n",
        "%pip install -r requirements_clean.txt"
      ]
    },
    {
      "cell_type": "code",
      "execution_count": null,
      "metadata": {
        "id": "IovrlVPZi2i5"
      },
      "outputs": [],
      "source": [
        "from google.colab import auth\n",
        "auth.authenticate_user()"
      ]
    },
    {
      "cell_type": "code",
      "execution_count": null,
      "metadata": {
        "id": "5w_3GBj2fBkB"
      },
      "outputs": [],
      "source": [
        "import pandas as pd\n",
        "import numpy as np\n",
        "from os import listdir\n",
        "from os.path import isfile, join\n",
        "import plotly.express as px\n",
        "import pytz\n",
        "eastern = pytz.timezone('US/Eastern')\n",
        "import yfinance\n",
        "\n",
        "from dotmap import DotMap\n",
        "import yaml"
      ]
    },
    {
      "cell_type": "code",
      "execution_count": null,
      "metadata": {
        "id": "0FoLjE8cy_04"
      },
      "outputs": [],
      "source": [
        "config_name = \"src/config.yaml\"\n",
        "config = DotMap(yaml.safe_load(open(config_name)), _dynamic=False)"
      ]
    },
    {
      "cell_type": "code",
      "execution_count": null,
      "metadata": {
        "id": "QVtb04smfBkE"
      },
      "outputs": [],
      "source": [
        "def filter_trading_hours(df, time_column):\n",
        "    T = df[time_column].dt\n",
        "    min_mask = (T.hour >= 10) | ((T.hour == 9) & (T.minute >= 31))\n",
        "    max_mask = (T.hour < 16) | ((T.hour == 16) & (T.minute <= 1))\n",
        "    return df.loc[min_mask & max_mask, :]"
      ]
    },
    {
      "cell_type": "code",
      "execution_count": null,
      "metadata": {
        "id": "gAx2fHuMfBkF"
      },
      "outputs": [],
      "source": [
        "def preprocess_iq_feed_prices(prices: pd.DataFrame) -> pd.DataFrame:\n",
        "    if \"time\" in prices.columns:\n",
        "        # Intra-day data\n",
        "        prices.loc[:, \"time\"] = prices.loc[:, \"time\"].dt.tz_localize(None)\n",
        "        prices.loc[:, \"time\"] = prices.loc[:, \"time\"].dt.tz_localize(eastern)\n",
        "        prices.drop_duplicates(keep=\"first\", inplace=True)\n",
        "        prices.dropna(inplace=True)\n",
        "\n",
        "        prices = filter_trading_hours(df=prices, time_column=\"time\")\n",
        "\n",
        "        # Deals with duplicate rows which occurr when not all the digits for volume are\n",
        "        # correctly entered, but only the first 1-3. So keep the largest.\n",
        "        prices = prices.sort_values([\"time\", \"volume\"], ascending=[True, False])\n",
        "        prices = prices.drop_duplicates(subset=[\"time\"], keep=\"first\")\n",
        "\n",
        "        prices.set_index(\"time\", inplace=True)\n",
        "        prices.sort_index(ascending=True, inplace=True)\n",
        "        assert prices.index.is_unique\n",
        "        prices.index = prices.index.astype('datetime64[ns, US/Eastern]')\n",
        "    else:\n",
        "        # Daily data\n",
        "        prices.dropna(inplace=True)\n",
        "        prices[\"date\"] = pd.to_datetime(prices.date)\n",
        "    return prices"
      ]
    },
    {
      "cell_type": "code",
      "execution_count": null,
      "metadata": {
        "id": "Qk56dd8BfBkH"
      },
      "outputs": [],
      "source": [
        "def calc_backward_adjustment_factors(ticker: str, dataframe: bool =False):\n",
        "    \"\"\"Calculates the backward adjust factors based on data from yfinance.\n",
        "\n",
        "    `cum_split_ratio` and `backward_adjustment_factor` are synonymous.\n",
        "    IMPORTANT !!!!!!!!!!\n",
        "    In yahoo finance the `Close` is adj. for splits and the `Adj. Close` for splits and dividends\n",
        "    Dividends on Yahoo Finance are adjusted for splits!\n",
        "    \"\"\"\n",
        "    df = yfinance.download(ticker, period=\"14y\",actions=True)\n",
        "    df.sort_index(ascending=True, inplace=True)\n",
        "    df[\"split_ratio\"] = 1\n",
        "\n",
        "    # Add splits\n",
        "    df[\"Stock Splits\"] = df[\"Stock Splits\"].shift(-1, fill_value=1)\n",
        "    split_mask = df[\"Stock Splits\"] > 0\n",
        "    df.loc[split_mask, \"split_ratio\"] = 1 / df[\"Stock Splits\"]\n",
        "\n",
        "    # Add dividends\n",
        "    dividend_mask = (df[\"Dividends\"] > 0)\n",
        "    # The Close is split, but not dividend adjusted\n",
        "    df.loc[dividend_mask, \"split_ratio\"] = (1 - df.loc[dividend_mask, \"Dividends\"].values / df.shift(1).loc[dividend_mask, \"Close\"].values)\n",
        "\n",
        "    df[\"cum_split_ratio\"] = np.cumprod(df[\"split_ratio\"][::-1])[::-1]\n",
        "    if dataframe:\n",
        "      return df\n",
        "    else:\n",
        "      return df[\"cum_split_ratio\"]"
      ]
    },
    {
      "cell_type": "code",
      "execution_count": null,
      "metadata": {
        "id": "mXryLCfNusZ0"
      },
      "outputs": [],
      "source": []
    },
    {
      "cell_type": "code",
      "execution_count": null,
      "metadata": {
        "id": "Lim6QGN8u7Sb"
      },
      "outputs": [],
      "source": [
        "x = next(blobs)"
      ]
    },
    {
      "cell_type": "code",
      "execution_count": null,
      "metadata": {
        "colab": {
          "base_uri": "https://localhost:8080/",
          "height": 36
        },
        "id": "NT5VSM3EvOsx",
        "outputId": "5d8627ab-a300-49c3-e147-663dab475e7a"
      },
      "outputs": [],
      "source": [
        "x.name"
      ]
    },
    {
      "cell_type": "code",
      "execution_count": null,
      "metadata": {
        "id": "MyCbtf9ZfBkF"
      },
      "outputs": [],
      "source": []
    },
    {
      "cell_type": "code",
      "execution_count": null,
      "metadata": {
        "id": "QlydIlm_wApZ"
      },
      "outputs": [],
      "source": [
        "def get_gcs_tickers():\n",
        "  from google.cloud import storage\n",
        "  storage_client = storage.Client()\n",
        "  bucket = storage_client.get_bucket(\"extreme-lore-398917-bzg\")\n",
        "  prefix = \"iqfeed/raw/\"\n",
        "  blobs = bucket.list_blobs(prefix=prefix)\n",
        "  tickers = [subpath.split(\"/\")[-1] for subpath in blobs]\n",
        "  return tickers\n",
        "\n",
        "def get_local_tickers():\n",
        "  onlyfiles = [f for f in listdir(config.data.iqfeed.minute.raw) if isfile(join(config.data.iqfeed.minute.raw, f))]\n",
        "  tickers = [x.split(\"_\")[0] for x in onlyfiles]\n",
        "  return tickers\n",
        "\n",
        "def get_tickers(how):\n",
        "  if how == \"gcs\":\n",
        "    tickers = get_gcs_tickers()\n",
        "  if how == \"local\":\n",
        "    tickers = get_local_tickers()\n",
        "  return tickers\n",
        "\n",
        "def make_ticker_path(how)\n",
        "  if how == \"gcs\":\n",
        "    ticker_paths = [f\"gs://extreme-lore-398917-bzg/{subpath.name}\" for subpath in blobs]\n",
        "  if how == \"local\":\n",
        "    ticker_paths = [f\"{config.data.iqfeed.minute.raw}/{ticker}_1min.parquet\" for ticker in tickers]\n",
        "\n",
        "def get_local_tickerpath_list(tickers):\n",
        "\n",
        "  return ticker_paths"
      ]
    },
    {
      "cell_type": "code",
      "execution_count": null,
      "metadata": {
        "id": "wupRs3c7z6yN"
      },
      "outputs": [],
      "source": [
        "from google.colab import drive\n",
        "drive.mount('/content/drive')"
      ]
    },
    {
      "cell_type": "code",
      "execution_count": null,
      "metadata": {
        "id": "VaueKdhqwxOW"
      },
      "outputs": [],
      "source": [
        "ticker_paths = get_gcs_tickerpath_list()\n",
        "ticker_path = ticker_paths[1]"
      ]
    },
    {
      "cell_type": "code",
      "execution_count": null,
      "metadata": {
        "id": "D0FYXGEYfBkG"
      },
      "outputs": [],
      "source": [
        "prices: pd.DataFrame = preprocess_iq_feed_prices(pd.read_parquet(path=ticker_path,\n",
        "                                                                 columns=[\"time\", \"open\", \"high\", \"low\", \"close\", \"volume\"]))"
      ]
    },
    {
      "cell_type": "markdown",
      "metadata": {
        "id": "eydTlT1DfBkG"
      },
      "source": [
        "# Adjust for Splits and Dividends"
      ]
    },
    {
      "cell_type": "code",
      "execution_count": null,
      "metadata": {
        "colab": {
          "base_uri": "https://localhost:8080/"
        },
        "id": "-hcixcnMfBkI",
        "outputId": "f1224788-14c5-4993-9231-8b3450571af9"
      },
      "outputs": [],
      "source": [
        "bafs = calc_backward_adjustment_factors(ticker, dataframe=False)"
      ]
    },
    {
      "cell_type": "code",
      "execution_count": null,
      "metadata": {
        "id": "BSYCrTSyfBkJ"
      },
      "outputs": [],
      "source": [
        "def calc_adj_prices(prices, bafs):\n",
        "    X = bafs.index.tz_localize(\"US/Eastern\")\n",
        "    # danger: this was passed as reference, not valuee.\n",
        "    bafs.index = X  + pd.DateOffset(hours=16, minutes=1)\n",
        "    prices_adj = pd.merge_asof(prices, bafs, left_index=True, right_on=\"Date\", direction=\"forward\")\n",
        "    prices_adj.loc[:, [\"open\", \"high\", \"low\", \"close\"]] = prices_adj[[\"open\", \"high\", \"low\", \"close\"]].mul(prices_adj.cum_split_ratio, axis=\"index\")\n",
        "    prices_adj.loc[:, \"volume\"] = prices_adj[\"volume\"].div(prices_adj.cum_split_ratio, axis=\"index\")\n",
        "    prices_adj.drop(columns=\"Date\", inplace=True)\n",
        "    prices_adj.rename(columns=dict(\n",
        "        zip([\"open\", \"high\", \"low\", \"close\", \"volume\"],\n",
        "            [f\"adj_{x}\" for x in [\"open\", \"high\", \"low\", \"close\", \"volume\"]])\n",
        "        ),\n",
        "                      inplace=True)\n",
        "    return prices_adj"
      ]
    },
    {
      "cell_type": "code",
      "execution_count": null,
      "metadata": {
        "id": "1ri2Ea8zfBkJ"
      },
      "outputs": [],
      "source": [
        "adj_prices = calc_adj_prices(prices, bafs)"
      ]
    },
    {
      "cell_type": "markdown",
      "metadata": {
        "id": "6N1G1TD3fBkK"
      },
      "source": [
        "# Save adjusted files to disk"
      ]
    },
    {
      "cell_type": "code",
      "execution_count": null,
      "metadata": {
        "id": "YHSaVNfHfBkK"
      },
      "outputs": [],
      "source": [
        "adj_prices.to_parquet(path=f\"gs://extreme-lore-398917-bzg/iqfeed/cleaned/{ticker}_1min.parquet\")"
      ]
    },
    {
      "cell_type": "code",
      "execution_count": null,
      "metadata": {
        "colab": {
          "base_uri": "https://localhost:8080/",
          "height": 455
        },
        "id": "BijS5G63sgte",
        "outputId": "4fdf3535-d165-487e-8195-7ab395986306"
      },
      "outputs": [],
      "source": [
        "adj_prices"
      ]
    },
    {
      "cell_type": "code",
      "execution_count": null,
      "metadata": {
        "id": "gsuTilp8uKnt"
      },
      "outputs": [],
      "source": []
    }
  ],
  "metadata": {
    "colab": {
      "include_colab_link": true,
      "machine_shape": "hm",
      "provenance": []
    },
    "kernelspec": {
      "display_name": "Python 3",
      "name": "python3"
    },
    "language_info": {
      "codemirror_mode": {
        "name": "ipython",
        "version": 3
      },
      "file_extension": ".py",
      "mimetype": "text/x-python",
      "name": "python",
      "nbconvert_exporter": "python",
      "pygments_lexer": "ipython3",
      "version": "3.11.3"
    }
  },
  "nbformat": 4,
  "nbformat_minor": 0
}
