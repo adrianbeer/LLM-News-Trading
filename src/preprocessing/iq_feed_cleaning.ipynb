{
 "cells": [
  {
   "cell_type": "code",
   "execution_count": 1,
   "metadata": {},
   "outputs": [],
   "source": [
    "import pandas as pd \n",
    "import numpy as np\n",
    "from os import listdir\n",
    "from os.path import isfile, join\n",
    "import plotly.express as px\n",
    "import pytz\n",
    "eastern = pytz.timezone('US/Eastern')\n",
    "import yfinance \n",
    "\n",
    "from dotmap import DotMap\n",
    "import yaml\n",
    "config = DotMap(yaml.safe_load(open(\"src/config.yaml\")), _dynamic=False)"
   ]
  },
  {
   "cell_type": "code",
   "execution_count": 2,
   "metadata": {},
   "outputs": [],
   "source": [
    "def filter_trading_hours(df, time_column):\n",
    "    T = df[time_column].dt\n",
    "    min_mask = (T.hour >= 10) | ((T.hour == 9) & (T.minute >= 31))\n",
    "    max_mask = (T.hour < 16) | ((T.hour == 16) & (T.minute <= 1))\n",
    "    return df.loc[min_mask & max_mask, :]"
   ]
  },
  {
   "cell_type": "code",
   "execution_count": 461,
   "metadata": {},
   "outputs": [],
   "source": [
    "def preprocess_iq_feed_prices(prices: pd.DataFrame) -> pd.DataFrame: \n",
    "    if \"time\" in prices.columns:\n",
    "        # Intra-day data\n",
    "        prices.loc[:, \"time\"] = prices.loc[:, \"time\"].dt.tz_localize(None)\n",
    "        prices.loc[:, \"time\"] = prices.loc[:, \"time\"].dt.tz_localize(eastern)\n",
    "        prices.drop_duplicates(keep=\"first\", inplace=True)\n",
    "        prices.dropna(inplace=True)\n",
    "        \n",
    "        prices = filter_trading_hours(df=prices, time_column=\"time\")\n",
    "\n",
    "        # Deals with duplicate rows which occurr when not all the digits for volume are \n",
    "        # correctly entered, but only the first 1-3. So keep the largest.\n",
    "        prices = prices.sort_values([\"time\", \"volume\"], ascending=[True, False])\n",
    "        prices = prices.drop_duplicates(subset=[\"time\"], keep=\"first\")\n",
    "\n",
    "        prices.set_index(\"time\", inplace=True)\n",
    "        prices.sort_index(ascending=True, inplace=True)\n",
    "        assert prices.index.is_unique\n",
    "        prices.index = prices.index.astype('datetime64[ns, US/Eastern]')\n",
    "    else:\n",
    "        # Daily data\n",
    "        prices.dropna(inplace=True)\n",
    "        prices[\"date\"] = pd.to_datetime(prices.date)\n",
    "    return prices"
   ]
  },
  {
   "cell_type": "code",
   "execution_count": 619,
   "metadata": {},
   "outputs": [],
   "source": [
    "onlyfiles = [f for f in listdir(config.data.iqfeed.minute.raw) if isfile(join(config.data.iqfeed.minute.raw, f))]\n",
    "tickers = [x.split(\"_\")[0] for x in onlyfiles]\n",
    "ticker = \"IBM\""
   ]
  },
  {
   "cell_type": "code",
   "execution_count": 646,
   "metadata": {},
   "outputs": [],
   "source": [
    "prices: pd.DataFrame = preprocess_iq_feed_prices(pd.read_parquet(path=f\"{config.data.iqfeed.minute.raw}/{ticker}_1min.parquet\", \n",
    "                                                                 columns=[\"time\", \"open\", \"high\", \"low\", \"close\", \"volume\"]))\n",
    "prices_daily: pd.DataFrame = preprocess_iq_feed_prices(pd.read_parquet(path=f\"{config.data.iqfeed.minute.raw}/daily/{ticker}_daily.parquet\", \n",
    "                                                                       columns=[\"date\", \"close\", \"open\", \"volume\"]))"
   ]
  },
  {
   "cell_type": "markdown",
   "metadata": {},
   "source": [
    "# Adjust for Splits and Dividends"
   ]
  },
  {
   "cell_type": "code",
   "execution_count": 666,
   "metadata": {},
   "outputs": [],
   "source": [
    "def calc_backward_adjustment_factors(ticker):\n",
    "    \"\"\"Calculates the backward adjust factors based on data from yfinance.\n",
    "    \n",
    "    `cum_split_ratio` and `backward_adjustment_factor` are synonymous.\n",
    "    IMPORTANT !!!!!!!!!!\n",
    "    In yahoo finance the `Close` is adj. for splits and the `Adj. Close` for splits and dividends\n",
    "    Dividends on Yahoo Finance are adjusted for splits!\n",
    "    \"\"\"\n",
    "    df = yfinance.download(ticker, period=\"14y\",actions=True)\n",
    "    df.sort_index(ascending=True, inplace=True)\n",
    "    df[\"split_ratio\"] = 1\n",
    "\n",
    "    # Add splits\n",
    "    df[\"Stock Splits\"] = df[\"Stock Splits\"].shift(-1, fill_value=1)\n",
    "    split_mask = df[\"Stock Splits\"] > 0\n",
    "    df.loc[split_mask, \"split_ratio\"] = 1 / df[\"Stock Splits\"]\n",
    "\n",
    "    # Add dividends\n",
    "    dividend_mask = (df[\"Dividends\"] > 0)\n",
    "    # The Close is split, but not dividend adjusted\n",
    "    df.loc[dividend_mask, \"split_ratio\"] = (1 - df.loc[dividend_mask, \"Dividends\"].values / df.shift(1).loc[dividend_mask, \"Close\"].values)\n",
    "\n",
    "    df[\"cum_split_ratio\"] = np.cumprod(df[\"split_ratio\"][::-1])[::-1] \n",
    "    return df[\"cum_split_ratio\"]"
   ]
  },
  {
   "cell_type": "code",
   "execution_count": 667,
   "metadata": {},
   "outputs": [
    {
     "name": "stdout",
     "output_type": "stream",
     "text": [
      "[*********************100%***********************]  1 of 1 completed\n"
     ]
    }
   ],
   "source": [
    "bafs = calc_backward_adjustment_factors(ticker)"
   ]
  },
  {
   "cell_type": "code",
   "execution_count": 668,
   "metadata": {},
   "outputs": [],
   "source": [
    "def calc_adj_prices(prices, bafs):\n",
    "    X = bafs.index.tz_localize(\"US/Eastern\")\n",
    "    bafs.index = X  + pd.DateOffset(hours=16, minutes=1)\n",
    "    prices_adj = pd.merge_asof(prices, bafs, left_index=True, right_on=\"Date\", direction=\"forward\")\n",
    "    prices_adj[ [f\"adj_{x}\" for x in [\"open\", \"high\", \"low\", \"close\"]]] = prices_adj[[\"open\", \"high\", \"low\", \"close\"]] * prices_adj.cum_split_ratio\n",
    "    prices_adj[\"volume\"] = prices_adj[\"volume\"] / prices_adj.cum_split_ratio\n",
    "    return prices_adj"
   ]
  },
  {
   "cell_type": "code",
   "execution_count": null,
   "metadata": {},
   "outputs": [],
   "source": [
    "calc_adj_prices(prices, bafs)"
   ]
  },
  {
   "cell_type": "code",
   "execution_count": null,
   "metadata": {},
   "outputs": [],
   "source": [
    "prices"
   ]
  },
  {
   "cell_type": "markdown",
   "metadata": {},
   "source": [
    "# Save adjusted files to disk"
   ]
  },
  {
   "cell_type": "code",
   "execution_count": null,
   "metadata": {},
   "outputs": [],
   "source": []
  }
 ],
 "metadata": {
  "kernelspec": {
   "display_name": ".venv",
   "language": "python",
   "name": "python3"
  },
  "language_info": {
   "codemirror_mode": {
    "name": "ipython",
    "version": 3
   },
   "file_extension": ".py",
   "mimetype": "text/x-python",
   "name": "python",
   "nbconvert_exporter": "python",
   "pygments_lexer": "ipython3",
   "version": "3.11.3"
  }
 },
 "nbformat": 4,
 "nbformat_minor": 2
}
