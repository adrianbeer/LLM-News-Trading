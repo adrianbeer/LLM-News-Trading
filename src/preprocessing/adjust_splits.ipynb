{
 "cells": [
  {
   "cell_type": "code",
   "execution_count": null,
   "metadata": {},
   "outputs": [],
   "source": [
    "import pandas as pd \n",
    "import numpy as np\n",
    "from os import listdir\n",
    "from os.path import isfile, join\n",
    "\n",
    "from src.config import TEST_CUTOFF_DATE\n",
    "\n",
    "import pytz\n",
    "eastern = pytz.timezone('US/Eastern')\n"
   ]
  },
  {
   "cell_type": "code",
   "execution_count": null,
   "metadata": {},
   "outputs": [],
   "source": [
    "onlyfiles = [f for f in listdir(raw_iq_feed_data_dir) if isfile(join(raw_iq_feed_data_dir, f))]\n",
    "tickers = [x.split(\"_\")[0] for x in onlyfiles]\n",
    "ticker = \"GOOGL\""
   ]
  },
  {
   "cell_type": "code",
   "execution_count": null,
   "metadata": {},
   "outputs": [],
   "source": [
    "prices: pd.DataFrame = preprocess_iq_feed_prices(pd.read_parquet(path=f\"{raw_iq_feed_data_dir}/{ticker}_1min.parquet\", \n",
    "                                                                 columns=[\"time\", \"close\", \"open\", \"volume\"]))\n",
    "prices_daily: pd.DataFrame = preprocess_iq_feed_prices(pd.read_parquet(path=f\"{raw_iq_feed_data_dir}/daily/{ticker}_daily.parquet\", \n",
    "                                                                       columns=[\"date\", \"close\", \"open\", \"volume\"]))"
   ]
  },
  {
   "cell_type": "code",
   "execution_count": null,
   "metadata": {},
   "outputs": [],
   "source": [
    "intra_opens = prices[(prices.index.hour == 9) & (prices.index.minute == 0), [\"close\", \"open\"]]\n",
    "intra_opens.index = prices.index.date\n",
    "intra_opens.index.name = \"date\""
   ]
  },
  {
   "cell_type": "code",
   "execution_count": null,
   "metadata": {},
   "outputs": [],
   "source": [
    "merged = pd.merge(intra_opens, prices_daily[\"date\", \"close\", \"open\"], left_on=\"date\", right_on=\"date\", suffixes=(\"_intra\", \"_eod\"))"
   ]
  },
  {
   "cell_type": "code",
   "execution_count": null,
   "metadata": {},
   "outputs": [],
   "source": [
    "merged = merged.sort_index(ascending=False)\n",
    "merged[\"split_ratio\"] = 1"
   ]
  },
  {
   "cell_type": "code",
   "execution_count": null,
   "metadata": {},
   "outputs": [],
   "source": [
    "# Calculate Dividend and Split Events\n",
    "# To adjust, we go backwrds in time. \n",
    "# When a split has occurred the close will be the first price that is influenced in the historical adjusted time series.\n",
    "# Assuming the split/dividend has occurred overnight.\n",
    "for row in merged:\n",
    "     split_ratio = merged[row, \"close_eod\"] / merged[row, \"close_intra\"]\n",
    "     if np.abs(split_ratio - 1) >= 0.01:\n",
    "         merged[row:, [\"close_intra\", \"split_ratio\"]]  = [merged[row:, \"close_intra\"] * split_ratio, \"split_ratio\"]"
   ]
  },
  {
   "cell_type": "code",
   "execution_count": null,
   "metadata": {},
   "outputs": [],
   "source": [
    "# Check quality looking at the amount of splits/dividends"
   ]
  },
  {
   "cell_type": "code",
   "execution_count": null,
   "metadata": {},
   "outputs": [],
   "source": [
    "# Check quality looking at the difference between intra_day adj open and eod adj open.\n",
    "# This difference should be smaller than the split_ratio for all days where the split_ratio is not 1\n",
    "# This difference should also be smaller in general than our threshold for splits (1%?)"
   ]
  },
  {
   "cell_type": "code",
   "execution_count": null,
   "metadata": {},
   "outputs": [],
   "source": [
    "# Once this has been checked and intraday data consistency/continuity is assured we could\n",
    "# Replace all the closes and opens from the intra day data set with those of the eod data set.\n",
    "# However this leads to problems, if we calculate wrong a single split event.\n",
    "# If we don't do this replacement only one day is affected (split day). \n",
    "# If we do the replacement multiple days will be affected by the error."
   ]
  }
 ],
 "metadata": {
  "language_info": {
   "name": "python"
  }
 },
 "nbformat": 4,
 "nbformat_minor": 2
}
