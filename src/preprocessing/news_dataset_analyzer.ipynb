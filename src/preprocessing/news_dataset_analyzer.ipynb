{
 "cells": [
  {
   "cell_type": "code",
   "execution_count": null,
   "metadata": {},
   "outputs": [],
   "source": [
    "import dask.dataframe as dd\n",
    "import pandas as pd\n",
    "from dask.distributed import Client\n",
    "from news_parser import filter_body, time, body_formatter"
   ]
  },
  {
   "cell_type": "code",
   "execution_count": null,
   "metadata": {},
   "outputs": [],
   "source": [
    "client = Client(memory_limit='14GB', processes=False,\n",
    "                n_workers=1, threads_per_worker=1)\n",
    "client"
   ]
  },
  {
   "cell_type": "code",
   "execution_count": null,
   "metadata": {},
   "outputs": [],
   "source": [
    "client.amm.start()"
   ]
  },
  {
   "cell_type": "markdown",
   "metadata": {},
   "source": [
    "### First, strip documents of html, otherwise html_body cells are too large to handle for pyarrow. "
   ]
  },
  {
   "cell_type": "code",
   "execution_count": null,
   "metadata": {},
   "outputs": [],
   "source": [
    "input_dir = \"data/parquet_bzg_stories/\"\n",
    "output_dir = 'data\\\\benzinga\\\\'\n",
    "\n",
    "# Parallelized version with Dask Client.\n",
    "# for year in range(2017, 2019):\n",
    "#     print(year)\n",
    "#     df = pd.read_parquet(f\"{input_dir}story_df_raw_{year}.parquet\")\n",
    "#     df = dd.from_pandas(df, npartitions=12)\n",
    "#     df[\"html_body\"] = df[\"html_body\"].apply(body_formatter, meta=pd.Series(dtype=\"str\"))\n",
    "#     df = df.rename(columns={\"html_body\":\"body\"})\n",
    "#     name_function = lambda x: f\"data-{year}-{x}.parquet\"\n",
    "#     df.to_parquet(output_dir, name_function=name_function)\n",
    "\n",
    "# Use this version of memory not suffifcient for repartition from pd.DataFrame:\n",
    "for year in range(2017,2019):\n",
    "    print(year)\n",
    "    df = pd.read_parquet(f\"{input_dir}story_df_raw_{year}.parquet\")\n",
    "    df[\"html_body\"] = df.html_body.apply(body_formatter)\n",
    "    df.rename(columns={\"html_body\":\"body\"}, inplace=True)\n",
    "    ddf = dd.from_pandas(df, npartitions=10)\n",
    "    name_function = lambda x: f\"data-{year}-{x}.parquet\"\n",
    "    ddf.to_parquet(output_dir, name_function=name_function)"
   ]
  },
  {
   "cell_type": "code",
   "execution_count": null,
   "metadata": {},
   "outputs": [],
   "source": []
  },
  {
   "cell_type": "markdown",
   "metadata": {},
   "source": [
    "### Repartition with dask"
   ]
  },
  {
   "cell_type": "code",
   "execution_count": null,
   "metadata": {},
   "outputs": [],
   "source": [
    "# ddf = dd.read_parquet(\"data/benzinga/*.parquet\")\n",
    "# ddf[\"channels\"] = ddf[\"channels\"].apply(eval)"
   ]
  },
  {
   "cell_type": "code",
   "execution_count": null,
   "metadata": {},
   "outputs": [],
   "source": []
  },
  {
   "cell_type": "markdown",
   "metadata": {},
   "source": [
    "### Apply proper news_parsing (TODO: adjust filter_body since body_formatter already applied to html)"
   ]
  },
  {
   "cell_type": "code",
   "execution_count": null,
   "metadata": {},
   "outputs": [],
   "source": [
    "story_df = ddf\n",
    "start = time.time()\n",
    "story_df[\"body\"] = story_df.apply(lambda x: filter_body(x.html_body, x.stocks, x.author, x.time), axis=1, meta=pd.Series(dtype=\"str\"))\n",
    "end = time.time()\n",
    "print(f\"Time elapsed: {end-start}s\")\n",
    "print(f\"Average seconds required per body: {(end-start)/story_df.shape[0]}s\")\n",
    "\n",
    "# story_df[\"NewsTimestamp\"] = pd.to_datetime(story_df.time)\n",
    "# story_df.drop(columns=[\"time\"], inplace=True)"
   ]
  },
  {
   "cell_type": "markdown",
   "metadata": {},
   "source": [
    "# Applying parser to news"
   ]
  },
  {
   "cell_type": "code",
   "execution_count": null,
   "metadata": {},
   "outputs": [],
   "source": [
    "ddf.compute()"
   ]
  },
  {
   "cell_type": "code",
   "execution_count": null,
   "metadata": {},
   "outputs": [],
   "source": []
  },
  {
   "cell_type": "markdown",
   "metadata": {},
   "source": [
    "# Misc"
   ]
  },
  {
   "cell_type": "code",
   "execution_count": null,
   "metadata": {},
   "outputs": [],
   "source": [
    "ddf.shape[0].compute()"
   ]
  },
  {
   "cell_type": "code",
   "execution_count": null,
   "metadata": {},
   "outputs": [],
   "source": [
    "ddf.columns"
   ]
  },
  {
   "cell_type": "code",
   "execution_count": null,
   "metadata": {},
   "outputs": [],
   "source": [
    "ddf.channels.unique().compute()"
   ]
  },
  {
   "cell_type": "code",
   "execution_count": null,
   "metadata": {},
   "outputs": [],
   "source": [
    "ddf.dtypes"
   ]
  },
  {
   "cell_type": "code",
   "execution_count": null,
   "metadata": {},
   "outputs": [],
   "source": [
    "ddf.time.max().compute()"
   ]
  },
  {
   "cell_type": "code",
   "execution_count": null,
   "metadata": {},
   "outputs": [],
   "source": [
    "ddf.groupby(ddf.time.dt.year).count().compute()"
   ]
  },
  {
   "cell_type": "code",
   "execution_count": null,
   "metadata": {},
   "outputs": [],
   "source": [
    "tagged_news = ddf.loc[ddf[\"time\"].dt.year >= 2017, :]"
   ]
  },
  {
   "cell_type": "code",
   "execution_count": null,
   "metadata": {},
   "outputs": [],
   "source": [
    "tagged_news = tagged_news.compute()"
   ]
  },
  {
   "cell_type": "code",
   "execution_count": null,
   "metadata": {},
   "outputs": [],
   "source": [
    "## TODO: Untersuche die Güte der BZG-Channels. \n",
    "# In wie vielen Nachrichten kommt der Begriff EBIT, EBITDA oder Earnings vor und wie viele Nachrichten wurden mit dem `Earnings`-Channeltag gekennzeichnet. \n",
    "# Evtl. müssen wir das Tagging selbst machen, was evtl. sowieso eine gute Idee ist. Allerdings ist dann die Frage, wie wir sie Filtern, da wir nicht alle Nachrichten\n",
    "# benutzen können (teilw. redundant und unnütz).\n",
    "# Schaue nach, wie das in der Literatur gehandhabt wird!"
   ]
  },
  {
   "cell_type": "code",
   "execution_count": null,
   "metadata": {},
   "outputs": [],
   "source": [
    "tagged_news"
   ]
  }
 ],
 "metadata": {
  "kernelspec": {
   "display_name": ".env",
   "language": "python",
   "name": "python3"
  },
  "language_info": {
   "codemirror_mode": {
    "name": "ipython",
    "version": 3
   },
   "file_extension": ".py",
   "mimetype": "text/x-python",
   "name": "python",
   "nbconvert_exporter": "python",
   "pygments_lexer": "ipython3",
   "version": "3.11.3"
  }
 },
 "nbformat": 4,
 "nbformat_minor": 2
}
