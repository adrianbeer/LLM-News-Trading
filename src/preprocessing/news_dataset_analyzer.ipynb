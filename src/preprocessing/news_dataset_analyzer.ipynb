{
 "cells": [
  {
   "cell_type": "code",
   "execution_count": 1,
   "metadata": {},
   "outputs": [],
   "source": [
    "import pandas as pd\n",
    "import plotly.express as px\n",
    "import pathlib\n",
    "import dask.dataframe as dd"
   ]
  },
  {
   "cell_type": "code",
   "execution_count": 2,
   "metadata": {},
   "outputs": [],
   "source": [
    "ddf = dd.read_parquet(\"data/parquet_bzg_stories/story_df_raw_2021.parquet\", engine=\"pyarrow\")"
   ]
  },
  {
   "cell_type": "code",
   "execution_count": 3,
   "metadata": {},
   "outputs": [
    {
     "data": {
      "text/plain": [
       "233784"
      ]
     },
     "execution_count": 3,
     "metadata": {},
     "output_type": "execute_result"
    }
   ],
   "source": [
    "ddf.shape[0].compute()"
   ]
  },
  {
   "cell_type": "code",
   "execution_count": 4,
   "metadata": {},
   "outputs": [
    {
     "data": {
      "text/plain": [
       "Index(['time', 'stocks', 'author', 'title', 'channels', 'html_body'], dtype='object')"
      ]
     },
     "execution_count": 4,
     "metadata": {},
     "output_type": "execute_result"
    }
   ],
   "source": [
    "ddf.columns"
   ]
  },
  {
   "cell_type": "code",
   "execution_count": 5,
   "metadata": {},
   "outputs": [
    {
     "data": {
      "text/plain": [
       "0                             [\"News\", \"Press Releases\"]\n",
       "1                                     [\"Press Releases\"]\n",
       "2         [\"Commodities\", \"Offerings\", \"Press Releases\"]\n",
       "3           [\"Dividends\", \"Small Cap\", \"Press Releases\"]\n",
       "4                        [\"Small Cap\", \"Press Releases\"]\n",
       "                             ...                        \n",
       "531    [\"Biotech\", \"Press Releases\", \"General\", \"Real...\n",
       "532    [\"News\", \"Health Care\", \"Financing\", \"Manageme...\n",
       "533    [\"Short Sellers\", \"Press Releases\", \"Real Esta...\n",
       "534    [\"News\", \"Short Sellers\", \"Commodities\", \"Cont...\n",
       "535    [\"News\", \"Health Care\", \"IPOs\", \"Economics\", \"...\n",
       "Name: channels, Length: 536, dtype: string"
      ]
     },
     "execution_count": 5,
     "metadata": {},
     "output_type": "execute_result"
    }
   ],
   "source": [
    "ddf.channels.unique().compute()"
   ]
  },
  {
   "cell_type": "code",
   "execution_count": 11,
   "metadata": {},
   "outputs": [
    {
     "data": {
      "text/plain": [
       "time         datetime64[ns, pytz.FixedOffset(-240)]\n",
       "stocks                              string[pyarrow]\n",
       "author                              string[pyarrow]\n",
       "title                               string[pyarrow]\n",
       "channels                            string[pyarrow]\n",
       "html_body                           string[pyarrow]\n",
       "dtype: object"
      ]
     },
     "execution_count": 11,
     "metadata": {},
     "output_type": "execute_result"
    }
   ],
   "source": [
    "ddf.dtypes"
   ]
  },
  {
   "cell_type": "code",
   "execution_count": 13,
   "metadata": {},
   "outputs": [],
   "source": [
    "ddf.time.max().compute()"
   ]
  },
  {
   "cell_type": "code",
   "execution_count": 6,
   "metadata": {},
   "outputs": [
    {
     "data": {
      "text/html": [
       "<div>\n",
       "<style scoped>\n",
       "    .dataframe tbody tr th:only-of-type {\n",
       "        vertical-align: middle;\n",
       "    }\n",
       "\n",
       "    .dataframe tbody tr th {\n",
       "        vertical-align: top;\n",
       "    }\n",
       "\n",
       "    .dataframe thead th {\n",
       "        text-align: right;\n",
       "    }\n",
       "</style>\n",
       "<table border=\"1\" class=\"dataframe\">\n",
       "  <thead>\n",
       "    <tr style=\"text-align: right;\">\n",
       "      <th></th>\n",
       "      <th>time</th>\n",
       "      <th>stocks</th>\n",
       "      <th>author</th>\n",
       "      <th>title</th>\n",
       "      <th>channels</th>\n",
       "      <th>body</th>\n",
       "      <th>html_body</th>\n",
       "    </tr>\n",
       "    <tr>\n",
       "      <th>time</th>\n",
       "      <th></th>\n",
       "      <th></th>\n",
       "      <th></th>\n",
       "      <th></th>\n",
       "      <th></th>\n",
       "      <th></th>\n",
       "      <th></th>\n",
       "    </tr>\n",
       "  </thead>\n",
       "  <tbody>\n",
       "    <tr>\n",
       "      <th>2014</th>\n",
       "      <td>51435</td>\n",
       "      <td>51435</td>\n",
       "      <td>51435</td>\n",
       "      <td>51435</td>\n",
       "      <td>51435</td>\n",
       "      <td>51435</td>\n",
       "      <td>51435</td>\n",
       "    </tr>\n",
       "    <tr>\n",
       "      <th>2015</th>\n",
       "      <td>62566</td>\n",
       "      <td>62566</td>\n",
       "      <td>62566</td>\n",
       "      <td>62566</td>\n",
       "      <td>62566</td>\n",
       "      <td>62566</td>\n",
       "      <td>62566</td>\n",
       "    </tr>\n",
       "    <tr>\n",
       "      <th>2016</th>\n",
       "      <td>61953</td>\n",
       "      <td>61953</td>\n",
       "      <td>61953</td>\n",
       "      <td>61953</td>\n",
       "      <td>61953</td>\n",
       "      <td>61953</td>\n",
       "      <td>61953</td>\n",
       "    </tr>\n",
       "    <tr>\n",
       "      <th>2017</th>\n",
       "      <td>2419</td>\n",
       "      <td>2419</td>\n",
       "      <td>2419</td>\n",
       "      <td>2419</td>\n",
       "      <td>2419</td>\n",
       "      <td>2419</td>\n",
       "      <td>2419</td>\n",
       "    </tr>\n",
       "    <tr>\n",
       "      <th>2018</th>\n",
       "      <td>6294</td>\n",
       "      <td>6294</td>\n",
       "      <td>6294</td>\n",
       "      <td>6294</td>\n",
       "      <td>6294</td>\n",
       "      <td>6294</td>\n",
       "      <td>6294</td>\n",
       "    </tr>\n",
       "    <tr>\n",
       "      <th>2019</th>\n",
       "      <td>8739</td>\n",
       "      <td>8739</td>\n",
       "      <td>8739</td>\n",
       "      <td>8739</td>\n",
       "      <td>8739</td>\n",
       "      <td>8739</td>\n",
       "      <td>8739</td>\n",
       "    </tr>\n",
       "    <tr>\n",
       "      <th>2020</th>\n",
       "      <td>10222</td>\n",
       "      <td>10222</td>\n",
       "      <td>10222</td>\n",
       "      <td>10222</td>\n",
       "      <td>10222</td>\n",
       "      <td>10222</td>\n",
       "      <td>10222</td>\n",
       "    </tr>\n",
       "    <tr>\n",
       "      <th>2021</th>\n",
       "      <td>10357</td>\n",
       "      <td>10357</td>\n",
       "      <td>10357</td>\n",
       "      <td>10357</td>\n",
       "      <td>10357</td>\n",
       "      <td>10357</td>\n",
       "      <td>10357</td>\n",
       "    </tr>\n",
       "    <tr>\n",
       "      <th>2022</th>\n",
       "      <td>9124</td>\n",
       "      <td>9124</td>\n",
       "      <td>9124</td>\n",
       "      <td>9124</td>\n",
       "      <td>9124</td>\n",
       "      <td>9124</td>\n",
       "      <td>9124</td>\n",
       "    </tr>\n",
       "  </tbody>\n",
       "</table>\n",
       "</div>"
      ],
      "text/plain": [
       "       time  stocks  author  title  channels   body  html_body\n",
       "time                                                          \n",
       "2014  51435   51435   51435  51435     51435  51435      51435\n",
       "2015  62566   62566   62566  62566     62566  62566      62566\n",
       "2016  61953   61953   61953  61953     61953  61953      61953\n",
       "2017   2419    2419    2419   2419      2419   2419       2419\n",
       "2018   6294    6294    6294   6294      6294   6294       6294\n",
       "2019   8739    8739    8739   8739      8739   8739       8739\n",
       "2020  10222   10222   10222  10222     10222  10222      10222\n",
       "2021  10357   10357   10357  10357     10357  10357      10357\n",
       "2022   9124    9124    9124   9124      9124   9124       9124"
      ]
     },
     "execution_count": 6,
     "metadata": {},
     "output_type": "execute_result"
    }
   ],
   "source": [
    "ddf.groupby(ddf.time.dt.year).count().compute()"
   ]
  },
  {
   "cell_type": "code",
   "execution_count": 6,
   "metadata": {},
   "outputs": [],
   "source": [
    "tagged_news = ddf.loc[ddf[\"time\"].dt.year >= 2017, :]"
   ]
  },
  {
   "cell_type": "code",
   "execution_count": 9,
   "metadata": {},
   "outputs": [],
   "source": [
    "tagged_news = tagged_news.compute()"
   ]
  },
  {
   "cell_type": "code",
   "execution_count": 11,
   "metadata": {},
   "outputs": [],
   "source": [
    "## TODO: Untersuche die Güte der BZG-Channels. \n",
    "# In wie vielen Nachrichten kommt der Begriff EBIT, EBITDA oder Earnings vor und wie viele Nachrichten wurden mit dem `Earnings`-Channeltag gekennzeichnet. \n",
    "# Evtl. müssen wir das Tagging selbst machen, was evtl. sowieso eine gute Idee ist. Allerdings ist dann die Frage, wie wir sie Filtern, da wir nicht alle Nachrichten\n",
    "# benutzen können (teilw. redundant und unnütz).\n",
    "# Schaue nach, wie das in der Literatur gehandhabt wird!"
   ]
  },
  {
   "cell_type": "code",
   "execution_count": null,
   "metadata": {},
   "outputs": [],
   "source": [
    "tagged_news"
   ]
  }
 ],
 "metadata": {
  "kernelspec": {
   "display_name": ".env",
   "language": "python",
   "name": "python3"
  },
  "language_info": {
   "codemirror_mode": {
    "name": "ipython",
    "version": 3
   },
   "file_extension": ".py",
   "mimetype": "text/x-python",
   "name": "python",
   "nbconvert_exporter": "python",
   "pygments_lexer": "ipython3",
   "version": "3.11.3"
  }
 },
 "nbformat": 4,
 "nbformat_minor": 2
}
