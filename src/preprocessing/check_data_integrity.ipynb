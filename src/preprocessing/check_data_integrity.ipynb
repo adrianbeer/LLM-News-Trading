{
 "cells": [
  {
   "cell_type": "code",
   "execution_count": null,
   "id": "e0a38ea4-3112-4c86-9a5b-628a49145ce3",
   "metadata": {},
   "outputs": [],
   "source": [
    "%cd /gxfs_work/cau/sunms534/trading_bot/"
   ]
  },
  {
   "cell_type": "code",
   "execution_count": null,
   "id": "d9b81c5d-1c4e-48ef-abc9-666e8c54161d",
   "metadata": {},
   "outputs": [],
   "source": [
    "import pandas as pd \n",
    "import numpy as np\n",
    "from src.config import config, ClassificationConfig, PREP_CONFIG\n",
    "from transformers import AutoTokenizer"
   ]
  },
  {
   "cell_type": "code",
   "execution_count": null,
   "id": "4ee59e81-5955-4a41-a24e-40bc18452c08",
   "metadata": {},
   "outputs": [],
   "source": [
    "# 1. Taking a look at cleaned dataset"
   ]
  },
  {
   "cell_type": "code",
   "execution_count": null,
   "id": "fc1b5c68-b2d2-41fd-866f-f0fa33c10dd9",
   "metadata": {},
   "outputs": [],
   "source": [
    "stripped = pd.read_parquet(config.data.news.stripped)"
   ]
  },
  {
   "cell_type": "code",
   "execution_count": null,
   "id": "a5874f10-a31d-44ad-8b23-aa021f820989",
   "metadata": {},
   "outputs": [],
   "source": [
    "stripped.columns"
   ]
  },
  {
   "cell_type": "code",
   "execution_count": null,
   "id": "301c7a21-09fe-403b-b815-4712df7f031b",
   "metadata": {},
   "outputs": [],
   "source": [
    "stripped[[\"title\", \"stocks\", \"parsed_body\"]].tail()"
   ]
  },
  {
   "cell_type": "code",
   "execution_count": null,
   "id": "20cae158-e414-486f-ac38-e07fce31adb2",
   "metadata": {},
   "outputs": [],
   "source": [
    "# 2. Take a look at input_ids and if tokenizer works correctly"
   ]
  },
  {
   "cell_type": "code",
   "execution_count": null,
   "id": "031bcb7c-91f5-4b5a-a13a-2ebc7b4fa7ce",
   "metadata": {},
   "outputs": [],
   "source": [
    "title_inputs_ids = pd.read_parquet(config.data.news.title_only.input_ids)"
   ]
  },
  {
   "cell_type": "code",
   "execution_count": null,
   "id": "7b211b9f-8d9e-4305-902e-e68ac9dc641a",
   "metadata": {},
   "outputs": [],
   "source": [
    "ld = pd.read_parquet(config.data.learning_dataset)"
   ]
  },
  {
   "cell_type": "code",
   "execution_count": null,
   "id": "6ace02da-14dc-4ec9-b48f-7a65ee83777b",
   "metadata": {},
   "outputs": [],
   "source": [
    "#cleaned = ld = pd.read_parquet(config.data.merged) # requires more memory"
   ]
  },
  {
   "cell_type": "code",
   "execution_count": null,
   "id": "d972ac44-ac4e-4935-b81b-09b166e0c745",
   "metadata": {},
   "outputs": [],
   "source": [
    "tokenizer = AutoTokenizer.from_pretrained(PREP_CONFIG.tokenizer)"
   ]
  },
  {
   "cell_type": "code",
   "execution_count": null,
   "id": "cf12f4eb-ac9c-47a2-852c-ce3145202ec8",
   "metadata": {},
   "outputs": [],
   "source": [
    "mask = ld.parsed_body.apply(lambda x: \"today announced\" in x)"
   ]
  },
  {
   "cell_type": "code",
   "execution_count": null,
   "id": "81d5d1f3-91ec-4d2e-bcf7-dd406e83689e",
   "metadata": {},
   "outputs": [],
   "source": [
    "ld = ld[mask]"
   ]
  },
  {
   "cell_type": "code",
   "execution_count": null,
   "id": "e071688d-a35f-48ba-b37a-6c2facd9b2a3",
   "metadata": {},
   "outputs": [],
   "source": [
    "n = np.random.randint(0, ld.shape[0])\n",
    "index = ld.index[n]\n",
    "print(index)\n",
    "entry = title_inputs_ids.loc[index, :].values\n",
    "\n",
    "print(ld.loc[index, \"stocks\"])\n",
    "print(f\"{tokenizer.decode(entry)} \\n\")\n",
    "print(ld.loc[index, \"parsed_body\"])\n",
    "\n",
    "for x in entry:\n",
    "    print(f\"{x} --- {tokenizer.decode(x)}\")\n"
   ]
  },
  {
   "cell_type": "markdown",
   "id": "1c1bd24f-3ef4-4db3-ab74-6a23f77077f6",
   "metadata": {},
   "source": [
    "# Average number of token in news"
   ]
  },
  {
   "cell_type": "code",
   "execution_count": null,
   "id": "5ede43a5-8b68-4354-a9bb-2e06a150e030",
   "metadata": {},
   "outputs": [],
   "source": [
    "title_inputs_ids = pd.read_parquet(config.data.news.input_ids)\n"
   ]
  },
  {
   "cell_type": "code",
   "execution_count": null,
   "id": "8428caeb-256d-40bc-b6de-6b08b915ebc0",
   "metadata": {},
   "outputs": [],
   "source": [
    "n_padding = title_inputs_ids[title_inputs_ids == 0].sum(axis=1)"
   ]
  },
  {
   "cell_type": "code",
   "execution_count": null,
   "id": "859d055f-855d-4830-a0ce-c86eb62510a6",
   "metadata": {},
   "outputs": [],
   "source": []
  },
  {
   "cell_type": "markdown",
   "id": "2d7c0ba5-6b48-4a4e-ba7d-082430438dfe",
   "metadata": {},
   "source": [
    "# Predictions from Model"
   ]
  },
  {
   "cell_type": "code",
   "execution_count": null,
   "id": "ba0a8987-71b4-44a1-8c2e-337196082884",
   "metadata": {},
   "outputs": [],
   "source": [
    "ld = pd.read_parquet(config.data.learning_dataset, columns=[\"z_score\", \"z_score_class\", \"parsed_body\"])\n",
    "title_inputs_ids = pd.read_parquet(config.data.news.title_only.input_ids)\n",
    "masks = pd.read_parquet(config.data.news.title_only.masks)"
   ]
  },
  {
   "cell_type": "code",
   "execution_count": null,
   "id": "ce53113b-68ed-4143-bdb7-5ff1a8d4aa2e",
   "metadata": {},
   "outputs": [],
   "source": [
    "ld_mini = ld.iloc[-10000:,:]"
   ]
  },
  {
   "cell_type": "code",
   "execution_count": null,
   "id": "299b026b-ebe1-443c-9fd6-eaa10405e319",
   "metadata": {},
   "outputs": [],
   "source": [
    "index = ld.index[0]"
   ]
  },
  {
   "cell_type": "code",
   "execution_count": null,
   "id": "b0255cd9-5d69-4572-9317-20fcc753b855",
   "metadata": {},
   "outputs": [],
   "source": [
    "import torch\n",
    "import torch.nn.functional as F\n",
    "from tqdm.notebook import tqdm\n"
   ]
  },
  {
   "cell_type": "code",
   "execution_count": null,
   "id": "500d3933-27bc-4194-a75a-4647a50dbcc4",
   "metadata": {},
   "outputs": [],
   "source": [
    "from transformers import AutoTokenizer, BertForSequenceClassification, BertTokenizer\n",
    "from transformers import pipeline\n",
    "\n",
    "finbert = BertForSequenceClassification.from_pretrained(\"/gxfs_work/cau/sunms534/trading_bot/data/models/ProsusAI/finbert\", num_labels=3, local_files_only=True)\n",
    "\n",
    "prob = []\n",
    "preds = []\n",
    "actuals = []\n",
    "with torch.no_grad():\n",
    "    for index in tqdm(ld_mini.index):\n",
    "        input_id = torch.tensor([title_inputs_ids.loc[index, :].tolist()], dtype=torch.int32)\n",
    "        mask = torch.tensor([masks.loc[index, :].tolist()])\n",
    "        result = finbert(input_id, mask)\n",
    "        probs = F.softmax(result.logits).numpy()\n",
    "        prob.append(probs.max())\n",
    "        preds.append((probs.argmax()  + 1) % 2)\n",
    "        actuals.append(ld.loc[index, \"z_score_class\"])\n",
    "        #print(result)  #LABEL_0: neutral; LABEL_1: positive; LABEL_2: negative"
   ]
  },
  {
   "cell_type": "code",
   "execution_count": null,
   "id": "e8a07507-1a70-4af1-8f8f-2baba9802ed6",
   "metadata": {},
   "outputs": [],
   "source": [
    "F.softmax(result.logits).numpy().argmax()"
   ]
  },
  {
   "cell_type": "code",
   "execution_count": null,
   "id": "c56829e3-c058-4896-92e4-b4ad2e3dcef5",
   "metadata": {},
   "outputs": [],
   "source": [
    "tokenizer.decode(title_inputs_ids.loc[ld_mini.index[532]])"
   ]
  },
  {
   "cell_type": "code",
   "execution_count": null,
   "id": "0a486847-9bc4-4885-b4d4-8d91c145444b",
   "metadata": {},
   "outputs": [],
   "source": [
    "len(preds)"
   ]
  },
  {
   "cell_type": "code",
   "execution_count": null,
   "id": "e52c409a-784f-42be-9575-f18570769352",
   "metadata": {},
   "outputs": [],
   "source": [
    "df = pd.DataFrame(zip(preds,actuals, prob))"
   ]
  },
  {
   "cell_type": "code",
   "execution_count": null,
   "id": "bd0a8835-abb9-4050-a937-56d2bc59943c",
   "metadata": {},
   "outputs": [],
   "source": [
    "df.loc[:, 2].describe()"
   ]
  },
  {
   "cell_type": "code",
   "execution_count": null,
   "id": "4ddbfdd8-147f-4541-ae93-b80f82555c95",
   "metadata": {},
   "outputs": [],
   "source": [
    "df = df[df.iloc[:, 2] > 0.95]"
   ]
  },
  {
   "cell_type": "code",
   "execution_count": null,
   "id": "b0ef552d-e8f4-4cd3-aed7-8ad4542e7161",
   "metadata": {},
   "outputs": [],
   "source": [
    "len(df)"
   ]
  },
  {
   "cell_type": "code",
   "execution_count": null,
   "id": "1c12f712-d3e7-4229-a03b-b78d55b9fdc3",
   "metadata": {},
   "outputs": [],
   "source": [
    "(df.iloc[:, 0] == df.iloc[:, 1]).sum()"
   ]
  },
  {
   "cell_type": "code",
   "execution_count": null,
   "id": "e562de0c-26c1-4d5f-a27a-ebfecd3e0d5a",
   "metadata": {},
   "outputs": [],
   "source": [
    "df.iloc[:, 1].value_counts()"
   ]
  },
  {
   "cell_type": "code",
   "execution_count": null,
   "id": "689ca11b-bc72-44d2-af41-d10118dda45a",
   "metadata": {},
   "outputs": [],
   "source": [
    "df.iloc[:, 0].value_counts()"
   ]
  },
  {
   "cell_type": "code",
   "execution_count": null,
   "id": "f2a6118e-cce3-4c63-afe9-5e9fc2a68248",
   "metadata": {},
   "outputs": [],
   "source": [
    "df.iloc[:, 2].idxmax()"
   ]
  },
  {
   "cell_type": "code",
   "execution_count": null,
   "id": "92fa4765-ba29-4a42-8356-5de7d2eb0ccb",
   "metadata": {},
   "outputs": [],
   "source": [
    "df.loc[532, :]"
   ]
  },
  {
   "cell_type": "code",
   "execution_count": null,
   "id": "5f320933-c2ac-4dc5-8b8b-d64ab89d4e57",
   "metadata": {},
   "outputs": [],
   "source": [
    "ld.loc[ld_mini.index[532], \"parsed_body\"]"
   ]
  },
  {
   "cell_type": "markdown",
   "id": "60b2ccc2-7969-4f4e-b576-e8084f9c1a2a",
   "metadata": {},
   "source": [
    "## Analyze impact of correction for standard deviation "
   ]
  },
  {
   "cell_type": "code",
   "execution_count": null,
   "id": "c50b4eea-f6e2-4b90-9db4-2b2db194af12",
   "metadata": {},
   "outputs": [],
   "source": [
    "import pandas as pd\n",
    "from src.config import config, MODEL_CONFIG\n",
    "import numpy as np"
   ]
  },
  {
   "cell_type": "code",
   "execution_count": null,
   "id": "0281595c-2f44-4108-8556-cd6b9af5341d",
   "metadata": {},
   "outputs": [],
   "source": [
    "dat: pd.DataFrame = pd.read_parquet(path=config.data.merged)"
   ]
  },
  {
   "cell_type": "code",
   "execution_count": null,
   "id": "d04a8421-b6f6-4dda-a3e2-41831ed760ab",
   "metadata": {},
   "outputs": [],
   "source": [
    "dat.columns"
   ]
  },
  {
   "cell_type": "code",
   "execution_count": null,
   "id": "88a98363-5b89-483a-9b00-08601b68f77e",
   "metadata": {},
   "outputs": [],
   "source": [
    "X = dat[['r', 'r_spy', 'std_252', 'stocks', 'entry_time']]"
   ]
  },
  {
   "cell_type": "code",
   "execution_count": null,
   "id": "c894e794-70cb-42ef-9394-0ededccb9117",
   "metadata": {},
   "outputs": [],
   "source": [
    "X.loc[:, 'mkt_adj'] = X['r'] - X['r_spy']"
   ]
  },
  {
   "cell_type": "code",
   "execution_count": null,
   "id": "4ce8ce8a-c026-4d6e-8dd1-1ea7a21e7b55",
   "metadata": {},
   "outputs": [],
   "source": [
    "X = X.dropna()"
   ]
  },
  {
   "cell_type": "code",
   "execution_count": null,
   "id": "939ff7a9-54ec-4cbe-856f-227927442424",
   "metadata": {},
   "outputs": [],
   "source": [
    "X.describe()"
   ]
  },
  {
   "cell_type": "code",
   "execution_count": null,
   "id": "8b7f3a54-7d3a-46b8-94db-3a1d478e8374",
   "metadata": {},
   "outputs": [],
   "source": [
    "X.loc[:, 'z_score'] = X['mkt_adj'] / X['std_252']"
   ]
  },
  {
   "cell_type": "code",
   "execution_count": null,
   "id": "b2a954ae-cf3e-43c0-96fb-a92ed6dd725e",
   "metadata": {},
   "outputs": [],
   "source": [
    "X.sort_values('z_score', inplace=True)"
   ]
  },
  {
   "cell_type": "code",
   "execution_count": null,
   "id": "cfc86b41-72eb-46d9-b4fb-6abe280e0a59",
   "metadata": {},
   "outputs": [],
   "source": [
    "X"
   ]
  },
  {
   "cell_type": "code",
   "execution_count": null,
   "id": "f69c0a09-c224-40b2-a23c-acb4a97d1218",
   "metadata": {},
   "outputs": [],
   "source": [
    "X['z_score'].describe()"
   ]
  },
  {
   "cell_type": "code",
   "execution_count": null,
   "id": "90c54760-313d-43cd-aec7-6363e9e3661f",
   "metadata": {},
   "outputs": [],
   "source": [
    "X.loc[:, \"z_score\"] = X[\"z_score\"].clip(lower=X[\"z_score\"].quantile(0.05), upper=X[\"z_score\"].quantile(0.95))"
   ]
  },
  {
   "cell_type": "code",
   "execution_count": null,
   "id": "55b50fdf-f3a5-473c-bdb9-3101cd30b8f8",
   "metadata": {},
   "outputs": [],
   "source": [
    "X['z_score'].describe()"
   ]
  },
  {
   "cell_type": "markdown",
   "id": "e431915a-595a-4ea1-a849-d4df56cda550",
   "metadata": {},
   "source": [
    "Maximum ist 1.6, minimum ist -1.6 nach winsorisieren..."
   ]
  },
  {
   "cell_type": "markdown",
   "id": "e1d6805d-49c7-457e-9598-4a0302126f23",
   "metadata": {},
   "source": [
    "Problem, wenn wir mit std_252 standardisieren ist, dass es Wertpapiere (Aktien?) gibt mit sehr geringer Vola. Und weil wir die std von r nehmen, und nicht von r - r_spy bekommen wir unsinnige, viel zu große Werte heraus. -> Filtere minimale std_252 heraus."
   ]
  },
  {
   "cell_type": "code",
   "execution_count": null,
   "id": "440ba9b3-3540-4f92-8482-e2cdba0fb4d0",
   "metadata": {},
   "outputs": [],
   "source": [
    "X['std_252'].describe()"
   ]
  },
  {
   "cell_type": "code",
   "execution_count": null,
   "id": "f5b50446-f772-41a1-9164-04e1f5899f98",
   "metadata": {},
   "outputs": [],
   "source": [
    "X.sort_values('std_252')"
   ]
  },
  {
   "cell_type": "code",
   "execution_count": null,
   "id": "6a9b6a54-91f8-4a4a-8c9f-65fa9be55bb7",
   "metadata": {},
   "outputs": [],
   "source": [
    "learndat: pd.DataFrame = pd.read_parquet(path=config.data.learning_dataset)"
   ]
  },
  {
   "cell_type": "code",
   "execution_count": null,
   "id": "d08f343f-b113-441c-b6e0-c0191255f2be",
   "metadata": {},
   "outputs": [],
   "source": [
    "learndat.sort_values(\"z_score\")"
   ]
  },
  {
   "cell_type": "code",
   "execution_count": null,
   "id": "6d219c3b-5e24-437c-ad07-e4d67ce71eed",
   "metadata": {},
   "outputs": [],
   "source": [
    "learndat.z_score.describe()"
   ]
  },
  {
   "cell_type": "code",
   "execution_count": null,
   "id": "c2352ab3-dfd4-415e-afc9-49d3e3df305f",
   "metadata": {},
   "outputs": [],
   "source": [
    "(learndat.z_score/learndat.std_252).describe()"
   ]
  },
  {
   "cell_type": "markdown",
   "id": "bec7bf2f-670e-4668-aa97-976ca85b2c77",
   "metadata": {},
   "source": [
    "## Staleness analysis"
   ]
  },
  {
   "cell_type": "code",
   "execution_count": null,
   "id": "4e3d693c-4244-42e2-87a5-ba43b6dcf8ee",
   "metadata": {},
   "outputs": [],
   "source": [
    "dat: pd.DataFrame = pd.read_parquet(path=config.data.merged)\n",
    "\n",
    "def jaccard_similarity(str1, str2):\n",
    "    set1 = set(str1.split())\n",
    "    set2 = set(str2.split())\n",
    "    intersection = set1.intersection(set2)\n",
    "    union = set1.union(set2)\n",
    "    return len(intersection) / len(union)\n",
    "\n",
    "dataset = dat\n",
    "\n",
    "from tqdm.notebook import tqdm\n",
    "\n",
    "# To determine the freshness of news, I compare the similarity of each news article with all articles published in the previous three days.\n",
    "original_index_name = dataset.index.name\n",
    "for ticker in tqdm(list(set(dataset.stocks))[1:100], desc=\"stocks\"):\n",
    "    orig_sort_ticker_news = dataset[dataset.stocks == ticker]\n",
    "\n",
    "    # Using time sorted df makes for easier splicing later\n",
    "    ticker_news = orig_sort_ticker_news.reset_index().set_index(\"est_entry_time\").sort_index(ascending=True)\n",
    "    \n",
    "    # Set staleness of first news message to 0 \n",
    "    ticker_news.at[ticker_news.index[0], \"jaccard\"] = 0\n",
    "\n",
    "    for idx in orig_sort_ticker_news.index:\n",
    "        time = orig_sort_ticker_news.at[idx, 'est_entry_time']\n",
    "        previous_news = ticker_news.loc[(time-pd.DateOffset(days=3)):time-pd.DateOffset(minutes=1), \"parsed_body\"]\n",
    "        if len(previous_news) == 0:\n",
    "            ticker_news.at[time, \"jaccard\"] = 0\n",
    "        else:\n",
    "            current_str = orig_sort_ticker_news.at[idx, 'parsed_body']\n",
    "            previous_news = previous_news\n",
    "            jaccards = previous_news.apply(lambda x: jaccard_similarity(current_str, x))\n",
    "            ticker_news.loc[ticker_news[original_index_name] == idx, \"jaccard\"] = jaccards.max()\n",
    "            \n",
    "    ticker_news.set_index(original_index_name, inplace=True)\n",
    "    # Add entries to data set\n",
    "    dataset.loc[ticker_news.index, \"jaccard2\"] = ticker_news.loc[:, \"jaccard\"]"
   ]
  },
  {
   "cell_type": "code",
   "execution_count": null,
   "id": "69bf556b-d62a-40ff-909b-9308aa9d920e",
   "metadata": {},
   "outputs": [],
   "source": [
    "tmp = dataset.dropna()"
   ]
  },
  {
   "cell_type": "code",
   "execution_count": null,
   "id": "a31eff18-f189-4ce6-9c16-61c3d34717e1",
   "metadata": {},
   "outputs": [],
   "source": [
    "dataset[[\"jaccard\", \"staleness\", 'jaccard2']].describe()"
   ]
  },
  {
   "cell_type": "code",
   "execution_count": null,
   "id": "ba022137-c21c-41c7-aecb-31bab9b776e0",
   "metadata": {},
   "outputs": [],
   "source": [
    "import plotly.express as px"
   ]
  },
  {
   "cell_type": "code",
   "execution_count": null,
   "id": "058f37b4-782a-4be0-aced-4ebbbb0b2263",
   "metadata": {},
   "outputs": [],
   "source": [
    "px.histogram(dataset[\"jaccard\"])"
   ]
  },
  {
   "cell_type": "code",
   "execution_count": null,
   "id": "c36b729c-112a-4236-8273-280085c24c91",
   "metadata": {},
   "outputs": [],
   "source": [
    "px.histogram(dataset[\"staleness\"])"
   ]
  },
  {
   "cell_type": "code",
   "execution_count": null,
   "id": "58fbedbc-4d0e-43f0-9777-912647d2eacf",
   "metadata": {},
   "outputs": [],
   "source": [
    "dataset[dataset.stocks == \"ACCO\"].loc[39023:]"
   ]
  },
  {
   "cell_type": "code",
   "execution_count": null,
   "id": "9ac48223-c064-4dd0-84fb-bef6ce9fd6ed",
   "metadata": {},
   "outputs": [],
   "source": [
    "jacc_df = tmp[tmp[\"jaccard2\"] == 1]"
   ]
  },
  {
   "cell_type": "code",
   "execution_count": null,
   "id": "ba4ed181-6f46-4afd-b41d-996d5d3db355",
   "metadata": {},
   "outputs": [],
   "source": [
    "jacc_df[jacc_df.stocks == \"ACCO\"]"
   ]
  },
  {
   "cell_type": "code",
   "execution_count": null,
   "id": "b17158c8-59c4-4247-a52c-767518c8f67b",
   "metadata": {},
   "outputs": [],
   "source": []
  },
  {
   "cell_type": "markdown",
   "id": "5ea9027f-de24-4d23-8e32-35041ff53c7e",
   "metadata": {},
   "source": [
    "## Keyword Analysis"
   ]
  },
  {
   "cell_type": "code",
   "execution_count": 3,
   "id": "ab5491a2-e0e5-407d-ac1c-ccf932397e28",
   "metadata": {},
   "outputs": [],
   "source": [
    "from transformers import AutoTokenizer, BertForSequenceClassification, BertTokenizer\n",
    "from transformers import pipeline\n",
    "from src.config import PREP_CONFIG"
   ]
  },
  {
   "cell_type": "code",
   "execution_count": 4,
   "id": "0b9a00b2-51f4-460f-b9f6-c4bcdaa45ff1",
   "metadata": {},
   "outputs": [],
   "source": [
    "dat: pd.DataFrame = pd.read_parquet(path=config.data.merged)"
   ]
  },
  {
   "cell_type": "code",
   "execution_count": 33,
   "id": "791a9c01-73a0-43f5-8c28-c57e5d78050a",
   "metadata": {},
   "outputs": [],
   "source": [
    "inputs_ids = pd.read_parquet(config.data.news.input_ids)"
   ]
  },
  {
   "cell_type": "code",
   "execution_count": 34,
   "id": "ceb8ace2-daac-4a15-8441-3d88a99cea68",
   "metadata": {},
   "outputs": [],
   "source": [
    "ld: pd.DataFrame = pd.read_parquet(path=config.data.learning_dataset)"
   ]
  },
  {
   "cell_type": "code",
   "execution_count": 35,
   "id": "f65c97ec-6600-4b7f-bf63-e9100f75cf16",
   "metadata": {},
   "outputs": [],
   "source": [
    "tokenizer = AutoTokenizer.from_pretrained(PREP_CONFIG.tokenizer)"
   ]
  },
  {
   "cell_type": "code",
   "execution_count": 36,
   "id": "6bc4135b-abf9-4b5b-9986-578d496bfbc2",
   "metadata": {},
   "outputs": [
    {
     "data": {
      "text/plain": [
       "2508859"
      ]
     },
     "execution_count": 36,
     "metadata": {},
     "output_type": "execute_result"
    }
   ],
   "source": [
    "dat.shape[0]"
   ]
  },
  {
   "cell_type": "code",
   "execution_count": 37,
   "id": "4723444c-5650-4888-b919-ebf7323e8bbc",
   "metadata": {},
   "outputs": [
    {
     "data": {
      "text/plain": [
       "(628215, 48)"
      ]
     },
     "execution_count": 37,
     "metadata": {},
     "output_type": "execute_result"
    }
   ],
   "source": [
    "ld.shape"
   ]
  },
  {
   "cell_type": "code",
   "execution_count": 38,
   "id": "df974bd9-dfd9-4801-b4ed-d2f8251a46ff",
   "metadata": {},
   "outputs": [],
   "source": [
    "text = \"announced\"\n",
    "tmp = ld[ld.parsed_body.apply(lambda x: text in x)]"
   ]
  },
  {
   "cell_type": "code",
   "execution_count": 39,
   "id": "2cdac24b-7fcc-47ba-ae19-38b7f647773f",
   "metadata": {},
   "outputs": [
    {
     "data": {
      "text/plain": [
       "340421"
      ]
     },
     "execution_count": 39,
     "metadata": {},
     "output_type": "execute_result"
    }
   ],
   "source": [
    "tmp.shape[0]"
   ]
  },
  {
   "cell_type": "code",
   "execution_count": 40,
   "id": "d06023d6-7ba9-4554-b987-8dff2e334b82",
   "metadata": {},
   "outputs": [
    {
     "data": {
      "text/html": [
       "<div>\n",
       "<style scoped>\n",
       "    .dataframe tbody tr th:only-of-type {\n",
       "        vertical-align: middle;\n",
       "    }\n",
       "\n",
       "    .dataframe tbody tr th {\n",
       "        vertical-align: top;\n",
       "    }\n",
       "\n",
       "    .dataframe thead th {\n",
       "        text-align: right;\n",
       "    }\n",
       "</style>\n",
       "<table border=\"1\" class=\"dataframe\">\n",
       "  <thead>\n",
       "    <tr style=\"text-align: right;\">\n",
       "      <th></th>\n",
       "      <th>r</th>\n",
       "      <th>r_intra_(t-1)</th>\n",
       "      <th>r_mkt_adj</th>\n",
       "    </tr>\n",
       "  </thead>\n",
       "  <tbody>\n",
       "    <tr>\n",
       "      <th>count</th>\n",
       "      <td>340421.000000</td>\n",
       "      <td>340421.000000</td>\n",
       "      <td>340421.000000</td>\n",
       "    </tr>\n",
       "    <tr>\n",
       "      <th>mean</th>\n",
       "      <td>0.000909</td>\n",
       "      <td>0.000142</td>\n",
       "      <td>0.000714</td>\n",
       "    </tr>\n",
       "    <tr>\n",
       "      <th>std</th>\n",
       "      <td>0.040940</td>\n",
       "      <td>0.030532</td>\n",
       "      <td>0.039588</td>\n",
       "    </tr>\n",
       "    <tr>\n",
       "      <th>min</th>\n",
       "      <td>-0.882565</td>\n",
       "      <td>-0.660274</td>\n",
       "      <td>-0.884877</td>\n",
       "    </tr>\n",
       "    <tr>\n",
       "      <th>25%</th>\n",
       "      <td>-0.012174</td>\n",
       "      <td>-0.010412</td>\n",
       "      <td>-0.010852</td>\n",
       "    </tr>\n",
       "    <tr>\n",
       "      <th>50%</th>\n",
       "      <td>0.000705</td>\n",
       "      <td>0.000133</td>\n",
       "      <td>0.000310</td>\n",
       "    </tr>\n",
       "    <tr>\n",
       "      <th>75%</th>\n",
       "      <td>0.013414</td>\n",
       "      <td>0.010420</td>\n",
       "      <td>0.011653</td>\n",
       "    </tr>\n",
       "    <tr>\n",
       "      <th>max</th>\n",
       "      <td>2.954802</td>\n",
       "      <td>3.164384</td>\n",
       "      <td>2.978776</td>\n",
       "    </tr>\n",
       "  </tbody>\n",
       "</table>\n",
       "</div>"
      ],
      "text/plain": [
       "                   r  r_intra_(t-1)      r_mkt_adj\n",
       "count  340421.000000  340421.000000  340421.000000\n",
       "mean        0.000909       0.000142       0.000714\n",
       "std         0.040940       0.030532       0.039588\n",
       "min        -0.882565      -0.660274      -0.884877\n",
       "25%        -0.012174      -0.010412      -0.010852\n",
       "50%         0.000705       0.000133       0.000310\n",
       "75%         0.013414       0.010420       0.011653\n",
       "max         2.954802       3.164384       2.978776"
      ]
     },
     "execution_count": 40,
     "metadata": {},
     "output_type": "execute_result"
    }
   ],
   "source": [
    "tmp[[\"r\", \"r_intra_(t-1)\", \"r_mkt_adj\"]].describe()"
   ]
  },
  {
   "cell_type": "code",
   "execution_count": 41,
   "id": "cfdc1a8f-fe3f-442c-96f0-70eb4844a39a",
   "metadata": {},
   "outputs": [],
   "source": [
    "n=0"
   ]
  },
  {
   "cell_type": "code",
   "execution_count": 42,
   "id": "f23e03a6-9d38-41d3-a444-68f9d8c6a21e",
   "metadata": {},
   "outputs": [],
   "source": [
    "from IPython.display import Markdown, HTML"
   ]
  },
  {
   "cell_type": "code",
   "execution_count": 54,
   "id": "0ce6a707-d700-4a59-96c7-a53bb96eec56",
   "metadata": {},
   "outputs": [
    {
     "data": {
      "text/markdown": [
       " the company  declares quarterly dividend the company  <span style=\"color: #ff0000\">announced</span> today that its board of directors has declared a regular quarterly cash dividend of  cents on each outstanding share of its common and class b common stock the cash dividend is payable to shareholders of record at the close of business the company improves indoor living and working environments with air conditioning and heating solutions that provide comfort regardless of the outdoor climate our solutions also promote healthier indoor spaces by removing pollutants from the indoor air that can lead to asthma allergies and reductions in productivity furthermore since heating and cooling accounts for approximately  of the energy consumed in a typical united states home we offer consumers the greatest opportunity to save money on energy by replacing existing air conditioning and heating systems with more energy efficient and environmentally friendly solutions there are approximately  million central air conditioning and heating systems installed in the united states that have been in service for more than  years older systems often operate below government mandated energy efficiency and environmental standards the company has an opportunity to accelerate the replacement of these systems at a scale greater than our competitors as the movement toward reducing energy consumption and its environmental impact continues as the industry leader with over  locations in the united states and puerto rico with additional market coverage on an export basis to parts of latin america and the caribbean significant growth potential remains given that our current \n",
       "\n",
       " r=0.008650519031141668"
      ],
      "text/plain": [
       "<IPython.core.display.Markdown object>"
      ]
     },
     "metadata": {},
     "output_type": "display_data"
    }
   ],
   "source": [
    "n += 1\n",
    "idx = tmp.parsed_body.index[n]\n",
    "inputs_ids.loc[idx]\n",
    "entry = inputs_ids.loc[idx, :].values\n",
    "display_text = tokenizer.decode(entry).replace(text, f'<span style=\"color: #ff0000\">{text}</span>').strip(\"<s></s>\") + (f\" \\n\\n r={tmp.iloc[n].r}\")\n",
    "display(Markdown(display_text))"
   ]
  },
  {
   "cell_type": "code",
   "execution_count": 55,
   "id": "f6be4735-b97b-459f-86ac-d2d740d7b5e4",
   "metadata": {},
   "outputs": [
    {
     "data": {
      "text/plain": [
       "'Watsco Declares Quarterly Dividend. the company , announced today that its Board of Directors has declared a regular quarterly cash dividend of 52 cents on each outstanding share of its Common and Class B common stock. The cash dividend is payable to shareholders of record at the close of business. the company improves indoor living and working environments with air conditioning and heating solutions that provide comfort regardless of the outdoor climate. Our solutions also promote healthier indoor spaces by removing pollutants from the indoor air that can lead to asthma, allergies and reductions in productivity. Furthermore, since heating and cooling accounts for approximately 56% of the energy consumed in a typical United States home, we offer consumers the greatest opportunity to save money on energy by replacing existing air conditioning and heating systems with more energy efficient and environmentally friendly solutions. There are approximately 74 million central air conditioning and heating systems installed in the United States that have been in service for more than 10 years. Older systems often operate below government mandated energy efficiency and environmental standards. the company has an opportunity to accelerate the replacement of these systems at a scale greater than our competitors as the movement toward reducing energy consumption and its environmental impact continues. As the industry leader with over 500 locations in the United States and Puerto Rico, with additional market coverage on an export basis to parts of Latin America and the Caribbean, significant growth potential remains given that our current revenue run rate is less than 10% of the estimated $30 billion United States market for HVAC R products'"
      ]
     },
     "execution_count": 55,
     "metadata": {},
     "output_type": "execute_result"
    }
   ],
   "source": [
    "dat.loc[idx].parsed_body"
   ]
  },
  {
   "cell_type": "code",
   "execution_count": 146,
   "id": "b69ea944-d098-43b8-bbcf-4cabed584e65",
   "metadata": {},
   "outputs": [
    {
     "data": {
      "text/plain": [
       "news_time                                            2011-01-03 07:04:06-05:00\n",
       "stocks                                                                      MD\n",
       "parsed_body                  MEDNAX Announces the Acquisition of Long Beach...\n",
       "est_entry_time                                       2011-01-03 09:31:00-05:00\n",
       "est_exit_time                                        2011-01-03 16:01:00-05:00\n",
       "entry_time                                           2011-01-03 09:31:00-05:00\n",
       "open_entry                                                              33.845\n",
       "high_entry                                                              33.875\n",
       "low_entry                                                               33.845\n",
       "close_entry                                                             33.845\n",
       "volume_entry                                                            4082.0\n",
       "cum_split_ratio_entry                                                      0.5\n",
       "exit_time                                            2011-01-03 16:00:00-05:00\n",
       "open_exit                                                                34.53\n",
       "high_exit                                                               34.565\n",
       "low_exit                                                                 34.53\n",
       "close_exit                                                              34.565\n",
       "volume_exit                                                             5502.0\n",
       "cum_split_ratio_exit                                                       0.5\n",
       "r                                                                     0.020239\n",
       "SPY_open_entry                                                       99.329083\n",
       "SPY_high_entry                                                       99.352601\n",
       "SPY_low_entry                                                        99.289888\n",
       "SPY_close_entry                                                      99.336922\n",
       "SPY_volume_entry                                                2881771.472586\n",
       "SPY_cum_split_ratio_entry                                             0.783909\n",
       "SPY_open_exit                                                         99.61129\n",
       "SPY_high_exit                                                         99.61913\n",
       "SPY_low_exit                                                         99.587773\n",
       "SPY_close_exit                                                       99.595612\n",
       "SPY_volume_exit                                                 3849017.924838\n",
       "SPY_cum_split_ratio_exit                                              0.783909\n",
       "unadj_entry_open                                                         67.69\n",
       "r_spy                                                                 0.002604\n",
       "entry_is_too_far_apart                                                   False\n",
       "exit_is_too_far_apart                                                    False\n",
       "std_252                                                               0.016162\n",
       "dollar_volume                                                     42067.543266\n",
       "r_intra_(t-1)                                                        -0.010296\n",
       "unadj_open                                                               67.69\n",
       "cond_vola                                                             0.014907\n",
       "jaccard                                                                    0.0\n",
       "sample_weights                                                         0.70669\n",
       "r_mkt_adj                                                             0.017635\n",
       "z_score                                                               0.830176\n",
       "split                                                                 training\n",
       "z_score_2_class                                                              1\n",
       "z_score_3_class                                                              1\n",
       "Name: 2494479, dtype: object"
      ]
     },
     "execution_count": 146,
     "metadata": {},
     "output_type": "execute_result"
    }
   ],
   "source": [
    "tmp.iloc[n]"
   ]
  },
  {
   "cell_type": "markdown",
   "id": "c7120a90-3ce0-4020-bb46-c64534226ae4",
   "metadata": {},
   "source": [
    "## Make overnight news indicator"
   ]
  },
  {
   "cell_type": "code",
   "execution_count": 5,
   "id": "f3df566c-dfd4-44f3-9d9d-9346bd353daa",
   "metadata": {},
   "outputs": [
    {
     "data": {
      "text/plain": [
       "'AA Quantitative Stock Analysis'"
      ]
     },
     "execution_count": 5,
     "metadata": {},
     "output_type": "execute_result"
    }
   ],
   "source": [
    "dat.parsed_body.iloc[0].split(\".\")[0]"
   ]
  },
  {
   "cell_type": "code",
   "execution_count": 20,
   "id": "4f3d71f6-f5c5-4cf0-9037-132207a2f84d",
   "metadata": {},
   "outputs": [],
   "source": [
    "dat[\"has_intraday_time\"] = ~((dat.news_time.dt.hour == 0) & (dat.news_time.dt.minute == 0))"
   ]
  },
  {
   "cell_type": "code",
   "execution_count": 27,
   "id": "7c11ac2a-6b55-4d51-9c71-bdc3954eb7cf",
   "metadata": {},
   "outputs": [],
   "source": [
    "# Set is_overnight_news to 1... These should not contain as much unprocessed information as real time news\n",
    "dat[\"is_overnight_news\"] = (dat.news_time.dt.hour >= 16) | (dat.news_time.dt.hour <= 9) | ((dat.news_time.dt.hour == 9) & ((dat.news_time.dt.minute <= 30)))"
   ]
  },
  {
   "cell_type": "code",
   "execution_count": 28,
   "id": "3239aa07-ffe5-4686-993b-dba63d5ff9ac",
   "metadata": {},
   "outputs": [
    {
     "data": {
      "text/plain": [
       "is_overnight_news\n",
       "True     2253527\n",
       "False     255332\n",
       "Name: count, dtype: int64"
      ]
     },
     "execution_count": 28,
     "metadata": {},
     "output_type": "execute_result"
    }
   ],
   "source": [
    "dat.is_overnight_news.value_counts()"
   ]
  },
  {
   "cell_type": "markdown",
   "id": "7e948207-dff5-4cf2-b3da-5376278680cc",
   "metadata": {},
   "source": [
    "## Check if company title appears in title "
   ]
  },
  {
   "cell_type": "code",
   "execution_count": 29,
   "id": "a3070c03-1060-4d18-97ac-65963841a92e",
   "metadata": {},
   "outputs": [
    {
     "data": {
      "text/html": [
       "<div>\n",
       "<style scoped>\n",
       "    .dataframe tbody tr th:only-of-type {\n",
       "        vertical-align: middle;\n",
       "    }\n",
       "\n",
       "    .dataframe tbody tr th {\n",
       "        vertical-align: top;\n",
       "    }\n",
       "\n",
       "    .dataframe thead th {\n",
       "        text-align: right;\n",
       "    }\n",
       "</style>\n",
       "<table border=\"1\" class=\"dataframe\">\n",
       "  <thead>\n",
       "    <tr style=\"text-align: right;\">\n",
       "      <th></th>\n",
       "      <th>news_time</th>\n",
       "      <th>stocks</th>\n",
       "      <th>parsed_body</th>\n",
       "      <th>est_entry_time</th>\n",
       "      <th>est_exit_time</th>\n",
       "      <th>entry_time</th>\n",
       "      <th>open_entry</th>\n",
       "      <th>high_entry</th>\n",
       "      <th>low_entry</th>\n",
       "      <th>close_entry</th>\n",
       "      <th>...</th>\n",
       "      <th>unadj_entry_open</th>\n",
       "      <th>r_spy</th>\n",
       "      <th>entry_is_too_far_apart</th>\n",
       "      <th>exit_is_too_far_apart</th>\n",
       "      <th>std_252</th>\n",
       "      <th>dollar_volume</th>\n",
       "      <th>r_intra_(t-1)</th>\n",
       "      <th>unadj_open</th>\n",
       "      <th>cond_vola</th>\n",
       "      <th>jaccard</th>\n",
       "    </tr>\n",
       "    <tr>\n",
       "      <th>index</th>\n",
       "      <th></th>\n",
       "      <th></th>\n",
       "      <th></th>\n",
       "      <th></th>\n",
       "      <th></th>\n",
       "      <th></th>\n",
       "      <th></th>\n",
       "      <th></th>\n",
       "      <th></th>\n",
       "      <th></th>\n",
       "      <th></th>\n",
       "      <th></th>\n",
       "      <th></th>\n",
       "      <th></th>\n",
       "      <th></th>\n",
       "      <th></th>\n",
       "      <th></th>\n",
       "      <th></th>\n",
       "      <th></th>\n",
       "      <th></th>\n",
       "      <th></th>\n",
       "    </tr>\n",
       "  </thead>\n",
       "  <tbody>\n",
       "    <tr>\n",
       "      <th>380</th>\n",
       "      <td>2023-12-15 00:00:00-05:00</td>\n",
       "      <td>AA</td>\n",
       "      <td>AA Quantitative Stock Analysis. Below is Valid...</td>\n",
       "      <td>2023-12-15 09:31:00-05:00</td>\n",
       "      <td>2023-12-15 16:01:00-05:00</td>\n",
       "      <td>2023-12-15 09:31:00-05:00</td>\n",
       "      <td>29.9300</td>\n",
       "      <td>29.960</td>\n",
       "      <td>29.9300</td>\n",
       "      <td>29.960</td>\n",
       "      <td>...</td>\n",
       "      <td>29.9300</td>\n",
       "      <td>0.000064</td>\n",
       "      <td>False</td>\n",
       "      <td>False</td>\n",
       "      <td>0.032401</td>\n",
       "      <td>1.072004e+06</td>\n",
       "      <td>0.105769</td>\n",
       "      <td>29.93</td>\n",
       "      <td>NaN</td>\n",
       "      <td>0.055825</td>\n",
       "    </tr>\n",
       "    <tr>\n",
       "      <th>381</th>\n",
       "      <td>2023-12-14 00:00:00-05:00</td>\n",
       "      <td>AA</td>\n",
       "      <td>Notable Friday Option Activity: CPE, AA, TGT. ...</td>\n",
       "      <td>2023-12-14 09:31:00-05:00</td>\n",
       "      <td>2023-12-14 16:01:00-05:00</td>\n",
       "      <td>2023-12-14 09:31:00-05:00</td>\n",
       "      <td>27.0400</td>\n",
       "      <td>27.100</td>\n",
       "      <td>26.9400</td>\n",
       "      <td>27.000</td>\n",
       "      <td>...</td>\n",
       "      <td>27.0400</td>\n",
       "      <td>-0.001797</td>\n",
       "      <td>False</td>\n",
       "      <td>False</td>\n",
       "      <td>0.032309</td>\n",
       "      <td>1.050999e+06</td>\n",
       "      <td>0.080283</td>\n",
       "      <td>27.04</td>\n",
       "      <td>0.041552</td>\n",
       "      <td>0.000000</td>\n",
       "    </tr>\n",
       "    <tr>\n",
       "      <th>382</th>\n",
       "      <td>2023-12-07 00:00:00-05:00</td>\n",
       "      <td>AA</td>\n",
       "      <td>Notable Thursday Option Activity: AA, CIEN, PA...</td>\n",
       "      <td>2023-12-07 09:31:00-05:00</td>\n",
       "      <td>2023-12-07 16:01:00-05:00</td>\n",
       "      <td>2023-12-07 09:31:00-05:00</td>\n",
       "      <td>25.1600</td>\n",
       "      <td>25.160</td>\n",
       "      <td>25.1600</td>\n",
       "      <td>25.160</td>\n",
       "      <td>...</td>\n",
       "      <td>25.1600</td>\n",
       "      <td>0.002757</td>\n",
       "      <td>False</td>\n",
       "      <td>False</td>\n",
       "      <td>0.030531</td>\n",
       "      <td>3.525135e+05</td>\n",
       "      <td>-0.018750</td>\n",
       "      <td>25.16</td>\n",
       "      <td>0.029424</td>\n",
       "      <td>0.075758</td>\n",
       "    </tr>\n",
       "    <tr>\n",
       "      <th>383</th>\n",
       "      <td>2023-12-07 00:00:00-05:00</td>\n",
       "      <td>AA</td>\n",
       "      <td>HSBC Initiates Coverage of Alcoa (AA) with Hol...</td>\n",
       "      <td>2023-12-07 09:31:00-05:00</td>\n",
       "      <td>2023-12-07 16:01:00-05:00</td>\n",
       "      <td>2023-12-07 09:31:00-05:00</td>\n",
       "      <td>25.1600</td>\n",
       "      <td>25.160</td>\n",
       "      <td>25.1600</td>\n",
       "      <td>25.160</td>\n",
       "      <td>...</td>\n",
       "      <td>25.1600</td>\n",
       "      <td>0.002757</td>\n",
       "      <td>False</td>\n",
       "      <td>False</td>\n",
       "      <td>0.030531</td>\n",
       "      <td>3.525135e+05</td>\n",
       "      <td>-0.018750</td>\n",
       "      <td>25.16</td>\n",
       "      <td>0.029424</td>\n",
       "      <td>0.126524</td>\n",
       "    </tr>\n",
       "    <tr>\n",
       "      <th>384</th>\n",
       "      <td>2023-12-06 00:00:00-05:00</td>\n",
       "      <td>AA</td>\n",
       "      <td>Here's Why Alcoa (AA) Fell More Than Broader M...</td>\n",
       "      <td>2023-12-06 09:31:00-05:00</td>\n",
       "      <td>2023-12-06 16:01:00-05:00</td>\n",
       "      <td>2023-12-06 09:31:00-05:00</td>\n",
       "      <td>25.6000</td>\n",
       "      <td>25.700</td>\n",
       "      <td>25.6000</td>\n",
       "      <td>25.690</td>\n",
       "      <td>...</td>\n",
       "      <td>25.6000</td>\n",
       "      <td>-0.008503</td>\n",
       "      <td>False</td>\n",
       "      <td>False</td>\n",
       "      <td>0.030635</td>\n",
       "      <td>2.212592e+05</td>\n",
       "      <td>-0.047547</td>\n",
       "      <td>25.60</td>\n",
       "      <td>0.030008</td>\n",
       "      <td>0.000000</td>\n",
       "    </tr>\n",
       "    <tr>\n",
       "      <th>...</th>\n",
       "      <td>...</td>\n",
       "      <td>...</td>\n",
       "      <td>...</td>\n",
       "      <td>...</td>\n",
       "      <td>...</td>\n",
       "      <td>...</td>\n",
       "      <td>...</td>\n",
       "      <td>...</td>\n",
       "      <td>...</td>\n",
       "      <td>...</td>\n",
       "      <td>...</td>\n",
       "      <td>...</td>\n",
       "      <td>...</td>\n",
       "      <td>...</td>\n",
       "      <td>...</td>\n",
       "      <td>...</td>\n",
       "      <td>...</td>\n",
       "      <td>...</td>\n",
       "      <td>...</td>\n",
       "      <td>...</td>\n",
       "      <td>...</td>\n",
       "    </tr>\n",
       "    <tr>\n",
       "      <th>4578111</th>\n",
       "      <td>2023-08-23 21:22:00-04:00</td>\n",
       "      <td>CAN</td>\n",
       "      <td>ROSEN, LEADING TRIAL ATTORNEYS, Encourages Can...</td>\n",
       "      <td>2023-08-24 09:31:00-04:00</td>\n",
       "      <td>2023-08-24 16:01:00-04:00</td>\n",
       "      <td>2023-08-24 09:31:00-04:00</td>\n",
       "      <td>2.1500</td>\n",
       "      <td>2.150</td>\n",
       "      <td>2.1200</td>\n",
       "      <td>2.120</td>\n",
       "      <td>...</td>\n",
       "      <td>2.1500</td>\n",
       "      <td>-0.017811</td>\n",
       "      <td>False</td>\n",
       "      <td>False</td>\n",
       "      <td>0.052552</td>\n",
       "      <td>1.472945e+04</td>\n",
       "      <td>0.054455</td>\n",
       "      <td>2.15</td>\n",
       "      <td>0.063720</td>\n",
       "      <td>0.940789</td>\n",
       "    </tr>\n",
       "    <tr>\n",
       "      <th>4578113</th>\n",
       "      <td>2023-08-23 21:37:00-04:00</td>\n",
       "      <td>CYBN</td>\n",
       "      <td>Cybin Announces Renewed At-The-Market Equity P...</td>\n",
       "      <td>2023-08-24 09:31:00-04:00</td>\n",
       "      <td>2023-08-24 16:01:00-04:00</td>\n",
       "      <td>2023-08-24 09:31:00-04:00</td>\n",
       "      <td>0.3014</td>\n",
       "      <td>0.304</td>\n",
       "      <td>0.3014</td>\n",
       "      <td>0.303</td>\n",
       "      <td>...</td>\n",
       "      <td>0.3014</td>\n",
       "      <td>-0.017811</td>\n",
       "      <td>False</td>\n",
       "      <td>False</td>\n",
       "      <td>NaN</td>\n",
       "      <td>NaN</td>\n",
       "      <td>NaN</td>\n",
       "      <td>NaN</td>\n",
       "      <td>NaN</td>\n",
       "      <td>0.000000</td>\n",
       "    </tr>\n",
       "    <tr>\n",
       "      <th>4578114</th>\n",
       "      <td>2023-08-23 16:05:27-04:00</td>\n",
       "      <td>TM</td>\n",
       "      <td>Environmental Icon Dr. Jane Goodall's Roots &amp; ...</td>\n",
       "      <td>2023-08-24 09:31:00-04:00</td>\n",
       "      <td>2023-08-24 16:01:00-04:00</td>\n",
       "      <td>2023-08-24 09:31:00-04:00</td>\n",
       "      <td>164.5200</td>\n",
       "      <td>164.520</td>\n",
       "      <td>164.1600</td>\n",
       "      <td>164.520</td>\n",
       "      <td>...</td>\n",
       "      <td>164.5200</td>\n",
       "      <td>-0.017811</td>\n",
       "      <td>False</td>\n",
       "      <td>False</td>\n",
       "      <td>0.013989</td>\n",
       "      <td>9.378859e+04</td>\n",
       "      <td>0.002902</td>\n",
       "      <td>164.52</td>\n",
       "      <td>0.012968</td>\n",
       "      <td>0.074097</td>\n",
       "    </tr>\n",
       "    <tr>\n",
       "      <th>4578116</th>\n",
       "      <td>2023-08-23 22:43:00-04:00</td>\n",
       "      <td>CD</td>\n",
       "      <td>Chindata Group Unveils Pioneering Full-Stack S...</td>\n",
       "      <td>2023-08-24 09:31:00-04:00</td>\n",
       "      <td>2023-08-24 16:01:00-04:00</td>\n",
       "      <td>2023-08-24 09:31:00-04:00</td>\n",
       "      <td>8.3300</td>\n",
       "      <td>8.340</td>\n",
       "      <td>8.3200</td>\n",
       "      <td>8.330</td>\n",
       "      <td>...</td>\n",
       "      <td>8.3300</td>\n",
       "      <td>-0.017811</td>\n",
       "      <td>False</td>\n",
       "      <td>False</td>\n",
       "      <td>0.036512</td>\n",
       "      <td>3.280190e+04</td>\n",
       "      <td>0.002418</td>\n",
       "      <td>8.33</td>\n",
       "      <td>0.018377</td>\n",
       "      <td>0.000000</td>\n",
       "    </tr>\n",
       "    <tr>\n",
       "      <th>4578118</th>\n",
       "      <td>2023-08-23 23:11:00-04:00</td>\n",
       "      <td>IBRX</td>\n",
       "      <td>IBRX FINAL DEADLINE TUESDAY: ROSEN, TRUSTED IN...</td>\n",
       "      <td>2023-08-24 09:31:00-04:00</td>\n",
       "      <td>2023-08-24 16:01:00-04:00</td>\n",
       "      <td>2023-08-24 09:31:00-04:00</td>\n",
       "      <td>1.6600</td>\n",
       "      <td>1.660</td>\n",
       "      <td>1.6000</td>\n",
       "      <td>1.600</td>\n",
       "      <td>...</td>\n",
       "      <td>1.6600</td>\n",
       "      <td>-0.017811</td>\n",
       "      <td>False</td>\n",
       "      <td>False</td>\n",
       "      <td>0.084697</td>\n",
       "      <td>9.002834e+03</td>\n",
       "      <td>0.000000</td>\n",
       "      <td>1.66</td>\n",
       "      <td>0.057025</td>\n",
       "      <td>0.960340</td>\n",
       "    </tr>\n",
       "  </tbody>\n",
       "</table>\n",
       "<p>2508859 rows × 42 columns</p>\n",
       "</div>"
      ],
      "text/plain": [
       "                        news_time stocks  \\\n",
       "index                                      \n",
       "380     2023-12-15 00:00:00-05:00     AA   \n",
       "381     2023-12-14 00:00:00-05:00     AA   \n",
       "382     2023-12-07 00:00:00-05:00     AA   \n",
       "383     2023-12-07 00:00:00-05:00     AA   \n",
       "384     2023-12-06 00:00:00-05:00     AA   \n",
       "...                           ...    ...   \n",
       "4578111 2023-08-23 21:22:00-04:00    CAN   \n",
       "4578113 2023-08-23 21:37:00-04:00   CYBN   \n",
       "4578114 2023-08-23 16:05:27-04:00     TM   \n",
       "4578116 2023-08-23 22:43:00-04:00     CD   \n",
       "4578118 2023-08-23 23:11:00-04:00   IBRX   \n",
       "\n",
       "                                               parsed_body  \\\n",
       "index                                                        \n",
       "380      AA Quantitative Stock Analysis. Below is Valid...   \n",
       "381      Notable Friday Option Activity: CPE, AA, TGT. ...   \n",
       "382      Notable Thursday Option Activity: AA, CIEN, PA...   \n",
       "383      HSBC Initiates Coverage of Alcoa (AA) with Hol...   \n",
       "384      Here's Why Alcoa (AA) Fell More Than Broader M...   \n",
       "...                                                    ...   \n",
       "4578111  ROSEN, LEADING TRIAL ATTORNEYS, Encourages Can...   \n",
       "4578113  Cybin Announces Renewed At-The-Market Equity P...   \n",
       "4578114  Environmental Icon Dr. Jane Goodall's Roots & ...   \n",
       "4578116  Chindata Group Unveils Pioneering Full-Stack S...   \n",
       "4578118  IBRX FINAL DEADLINE TUESDAY: ROSEN, TRUSTED IN...   \n",
       "\n",
       "                   est_entry_time             est_exit_time  \\\n",
       "index                                                         \n",
       "380     2023-12-15 09:31:00-05:00 2023-12-15 16:01:00-05:00   \n",
       "381     2023-12-14 09:31:00-05:00 2023-12-14 16:01:00-05:00   \n",
       "382     2023-12-07 09:31:00-05:00 2023-12-07 16:01:00-05:00   \n",
       "383     2023-12-07 09:31:00-05:00 2023-12-07 16:01:00-05:00   \n",
       "384     2023-12-06 09:31:00-05:00 2023-12-06 16:01:00-05:00   \n",
       "...                           ...                       ...   \n",
       "4578111 2023-08-24 09:31:00-04:00 2023-08-24 16:01:00-04:00   \n",
       "4578113 2023-08-24 09:31:00-04:00 2023-08-24 16:01:00-04:00   \n",
       "4578114 2023-08-24 09:31:00-04:00 2023-08-24 16:01:00-04:00   \n",
       "4578116 2023-08-24 09:31:00-04:00 2023-08-24 16:01:00-04:00   \n",
       "4578118 2023-08-24 09:31:00-04:00 2023-08-24 16:01:00-04:00   \n",
       "\n",
       "                       entry_time  open_entry  high_entry  low_entry  \\\n",
       "index                                                                  \n",
       "380     2023-12-15 09:31:00-05:00     29.9300      29.960    29.9300   \n",
       "381     2023-12-14 09:31:00-05:00     27.0400      27.100    26.9400   \n",
       "382     2023-12-07 09:31:00-05:00     25.1600      25.160    25.1600   \n",
       "383     2023-12-07 09:31:00-05:00     25.1600      25.160    25.1600   \n",
       "384     2023-12-06 09:31:00-05:00     25.6000      25.700    25.6000   \n",
       "...                           ...         ...         ...        ...   \n",
       "4578111 2023-08-24 09:31:00-04:00      2.1500       2.150     2.1200   \n",
       "4578113 2023-08-24 09:31:00-04:00      0.3014       0.304     0.3014   \n",
       "4578114 2023-08-24 09:31:00-04:00    164.5200     164.520   164.1600   \n",
       "4578116 2023-08-24 09:31:00-04:00      8.3300       8.340     8.3200   \n",
       "4578118 2023-08-24 09:31:00-04:00      1.6600       1.660     1.6000   \n",
       "\n",
       "         close_entry  ...  unadj_entry_open     r_spy entry_is_too_far_apart  \\\n",
       "index                 ...                                                      \n",
       "380           29.960  ...           29.9300  0.000064                  False   \n",
       "381           27.000  ...           27.0400 -0.001797                  False   \n",
       "382           25.160  ...           25.1600  0.002757                  False   \n",
       "383           25.160  ...           25.1600  0.002757                  False   \n",
       "384           25.690  ...           25.6000 -0.008503                  False   \n",
       "...              ...  ...               ...       ...                    ...   \n",
       "4578111        2.120  ...            2.1500 -0.017811                  False   \n",
       "4578113        0.303  ...            0.3014 -0.017811                  False   \n",
       "4578114      164.520  ...          164.5200 -0.017811                  False   \n",
       "4578116        8.330  ...            8.3300 -0.017811                  False   \n",
       "4578118        1.600  ...            1.6600 -0.017811                  False   \n",
       "\n",
       "         exit_is_too_far_apart   std_252  dollar_volume  r_intra_(t-1)  \\\n",
       "index                                                                    \n",
       "380                      False  0.032401   1.072004e+06       0.105769   \n",
       "381                      False  0.032309   1.050999e+06       0.080283   \n",
       "382                      False  0.030531   3.525135e+05      -0.018750   \n",
       "383                      False  0.030531   3.525135e+05      -0.018750   \n",
       "384                      False  0.030635   2.212592e+05      -0.047547   \n",
       "...                        ...       ...            ...            ...   \n",
       "4578111                  False  0.052552   1.472945e+04       0.054455   \n",
       "4578113                  False       NaN            NaN            NaN   \n",
       "4578114                  False  0.013989   9.378859e+04       0.002902   \n",
       "4578116                  False  0.036512   3.280190e+04       0.002418   \n",
       "4578118                  False  0.084697   9.002834e+03       0.000000   \n",
       "\n",
       "         unadj_open  cond_vola   jaccard  \n",
       "index                                     \n",
       "380           29.93        NaN  0.055825  \n",
       "381           27.04   0.041552  0.000000  \n",
       "382           25.16   0.029424  0.075758  \n",
       "383           25.16   0.029424  0.126524  \n",
       "384           25.60   0.030008  0.000000  \n",
       "...             ...        ...       ...  \n",
       "4578111        2.15   0.063720  0.940789  \n",
       "4578113         NaN        NaN  0.000000  \n",
       "4578114      164.52   0.012968  0.074097  \n",
       "4578116        8.33   0.018377  0.000000  \n",
       "4578118        1.66   0.057025  0.960340  \n",
       "\n",
       "[2508859 rows x 42 columns]"
      ]
     },
     "execution_count": 29,
     "metadata": {},
     "output_type": "execute_result"
    }
   ],
   "source": [
    "dat"
   ]
  },
  {
   "cell_type": "markdown",
   "id": "e7b63eaa-2517-4cb3-b53a-e2b3172eea05",
   "metadata": {},
   "source": [
    "## Merge multiple overnight news"
   ]
  },
  {
   "cell_type": "code",
   "execution_count": 13,
   "id": "6c14ed8d-db01-48a3-bf6b-9fe1df746715",
   "metadata": {},
   "outputs": [],
   "source": [
    "tmp = dat.loc[dat['stocks'] == 'AA']"
   ]
  },
  {
   "cell_type": "code",
   "execution_count": 22,
   "id": "ee75295c-4de9-4b98-bd41-d29273d4b04a",
   "metadata": {},
   "outputs": [],
   "source": [
    "news_count = tmp.loc[:, ['est_entry_time', 'r']].groupby('est_entry_time').count()"
   ]
  },
  {
   "cell_type": "code",
   "execution_count": 27,
   "id": "ef276aeb-6c0d-4201-a961-79fe447904c2",
   "metadata": {},
   "outputs": [
    {
     "data": {
      "text/html": [
       "<div>\n",
       "<style scoped>\n",
       "    .dataframe tbody tr th:only-of-type {\n",
       "        vertical-align: middle;\n",
       "    }\n",
       "\n",
       "    .dataframe tbody tr th {\n",
       "        vertical-align: top;\n",
       "    }\n",
       "\n",
       "    .dataframe thead th {\n",
       "        text-align: right;\n",
       "    }\n",
       "</style>\n",
       "<table border=\"1\" class=\"dataframe\">\n",
       "  <thead>\n",
       "    <tr style=\"text-align: right;\">\n",
       "      <th></th>\n",
       "      <th>r</th>\n",
       "    </tr>\n",
       "    <tr>\n",
       "      <th>est_entry_time</th>\n",
       "      <th></th>\n",
       "    </tr>\n",
       "  </thead>\n",
       "  <tbody>\n",
       "    <tr>\n",
       "      <th>2013-07-08 09:31:00-04:00</th>\n",
       "      <td>13</td>\n",
       "    </tr>\n",
       "    <tr>\n",
       "      <th>2014-04-08 09:31:00-04:00</th>\n",
       "      <td>11</td>\n",
       "    </tr>\n",
       "    <tr>\n",
       "      <th>2014-04-09 09:31:00-04:00</th>\n",
       "      <td>11</td>\n",
       "    </tr>\n",
       "    <tr>\n",
       "      <th>2013-10-08 09:31:00-04:00</th>\n",
       "      <td>11</td>\n",
       "    </tr>\n",
       "    <tr>\n",
       "      <th>2012-01-10 09:31:00-05:00</th>\n",
       "      <td>11</td>\n",
       "    </tr>\n",
       "  </tbody>\n",
       "</table>\n",
       "</div>"
      ],
      "text/plain": [
       "                            r\n",
       "est_entry_time               \n",
       "2013-07-08 09:31:00-04:00  13\n",
       "2014-04-08 09:31:00-04:00  11\n",
       "2014-04-09 09:31:00-04:00  11\n",
       "2013-10-08 09:31:00-04:00  11\n",
       "2012-01-10 09:31:00-05:00  11"
      ]
     },
     "execution_count": 27,
     "metadata": {},
     "output_type": "execute_result"
    }
   ],
   "source": [
    "news_count.sort_values('r', ascending=False, inplace=True)\n",
    "news_count.head()"
   ]
  },
  {
   "cell_type": "code",
   "execution_count": 28,
   "id": "c77f2ce0-a503-4bca-acd8-06f4ec8881e2",
   "metadata": {},
   "outputs": [
    {
     "data": {
      "text/html": [
       "<div>\n",
       "<style scoped>\n",
       "    .dataframe tbody tr th:only-of-type {\n",
       "        vertical-align: middle;\n",
       "    }\n",
       "\n",
       "    .dataframe tbody tr th {\n",
       "        vertical-align: top;\n",
       "    }\n",
       "\n",
       "    .dataframe thead th {\n",
       "        text-align: right;\n",
       "    }\n",
       "</style>\n",
       "<table border=\"1\" class=\"dataframe\">\n",
       "  <thead>\n",
       "    <tr style=\"text-align: right;\">\n",
       "      <th></th>\n",
       "      <th>news_time</th>\n",
       "      <th>stocks</th>\n",
       "      <th>parsed_body</th>\n",
       "      <th>est_entry_time</th>\n",
       "      <th>est_exit_time</th>\n",
       "      <th>entry_time</th>\n",
       "      <th>open_entry</th>\n",
       "      <th>high_entry</th>\n",
       "      <th>low_entry</th>\n",
       "      <th>close_entry</th>\n",
       "      <th>...</th>\n",
       "      <th>unadj_entry_open</th>\n",
       "      <th>r_spy</th>\n",
       "      <th>entry_is_too_far_apart</th>\n",
       "      <th>exit_is_too_far_apart</th>\n",
       "      <th>std_252</th>\n",
       "      <th>dollar_volume</th>\n",
       "      <th>r_intra_(t-1)</th>\n",
       "      <th>unadj_open</th>\n",
       "      <th>cond_vola</th>\n",
       "      <th>jaccard</th>\n",
       "    </tr>\n",
       "    <tr>\n",
       "      <th>index</th>\n",
       "      <th></th>\n",
       "      <th></th>\n",
       "      <th></th>\n",
       "      <th></th>\n",
       "      <th></th>\n",
       "      <th></th>\n",
       "      <th></th>\n",
       "      <th></th>\n",
       "      <th></th>\n",
       "      <th></th>\n",
       "      <th></th>\n",
       "      <th></th>\n",
       "      <th></th>\n",
       "      <th></th>\n",
       "      <th></th>\n",
       "      <th></th>\n",
       "      <th></th>\n",
       "      <th></th>\n",
       "      <th></th>\n",
       "      <th></th>\n",
       "      <th></th>\n",
       "    </tr>\n",
       "  </thead>\n",
       "  <tbody>\n",
       "    <tr>\n",
       "      <th>1349</th>\n",
       "      <td>2013-07-08 00:00:00-04:00</td>\n",
       "      <td>AA</td>\n",
       "      <td>Benzinga Market Primer: Monday, July 8: Earnin...</td>\n",
       "      <td>2013-07-08 09:31:00-04:00</td>\n",
       "      <td>2013-07-08 16:01:00-04:00</td>\n",
       "      <td>2013-07-08 09:31:00-04:00</td>\n",
       "      <td>17.790098</td>\n",
       "      <td>17.835308</td>\n",
       "      <td>17.790098</td>\n",
       "      <td>17.812703</td>\n",
       "      <td>...</td>\n",
       "      <td>7.87</td>\n",
       "      <td>-6.100533e-07</td>\n",
       "      <td>False</td>\n",
       "      <td>False</td>\n",
       "      <td>0.014299</td>\n",
       "      <td>416582.314066</td>\n",
       "      <td>0.005148</td>\n",
       "      <td>7.87</td>\n",
       "      <td>0.015414</td>\n",
       "      <td>0.149691</td>\n",
       "    </tr>\n",
       "    <tr>\n",
       "      <th>1350</th>\n",
       "      <td>2013-07-08 00:00:00-04:00</td>\n",
       "      <td>AA</td>\n",
       "      <td>Stocks at Technical Inflection Point as Earnin...</td>\n",
       "      <td>2013-07-08 09:31:00-04:00</td>\n",
       "      <td>2013-07-08 16:01:00-04:00</td>\n",
       "      <td>2013-07-08 09:31:00-04:00</td>\n",
       "      <td>17.790098</td>\n",
       "      <td>17.835308</td>\n",
       "      <td>17.790098</td>\n",
       "      <td>17.812703</td>\n",
       "      <td>...</td>\n",
       "      <td>7.87</td>\n",
       "      <td>-6.100533e-07</td>\n",
       "      <td>False</td>\n",
       "      <td>False</td>\n",
       "      <td>0.014299</td>\n",
       "      <td>416582.314066</td>\n",
       "      <td>0.005148</td>\n",
       "      <td>7.87</td>\n",
       "      <td>0.015414</td>\n",
       "      <td>0.139442</td>\n",
       "    </tr>\n",
       "    <tr>\n",
       "      <th>1351</th>\n",
       "      <td>2013-07-08 00:00:00-04:00</td>\n",
       "      <td>AA</td>\n",
       "      <td>July 8: Earnings in the Limelight - Economic H...</td>\n",
       "      <td>2013-07-08 09:31:00-04:00</td>\n",
       "      <td>2013-07-08 16:01:00-04:00</td>\n",
       "      <td>2013-07-08 09:31:00-04:00</td>\n",
       "      <td>17.790098</td>\n",
       "      <td>17.835308</td>\n",
       "      <td>17.790098</td>\n",
       "      <td>17.812703</td>\n",
       "      <td>...</td>\n",
       "      <td>7.87</td>\n",
       "      <td>-6.100533e-07</td>\n",
       "      <td>False</td>\n",
       "      <td>False</td>\n",
       "      <td>0.014299</td>\n",
       "      <td>416582.314066</td>\n",
       "      <td>0.005148</td>\n",
       "      <td>7.87</td>\n",
       "      <td>0.015414</td>\n",
       "      <td>0.159879</td>\n",
       "    </tr>\n",
       "    <tr>\n",
       "      <th>1352</th>\n",
       "      <td>2013-07-08 00:00:00-04:00</td>\n",
       "      <td>AA</td>\n",
       "      <td>Stock Downgrades: Unpleasant Surprise Inside f...</td>\n",
       "      <td>2013-07-08 09:31:00-04:00</td>\n",
       "      <td>2013-07-08 16:01:00-04:00</td>\n",
       "      <td>2013-07-08 09:31:00-04:00</td>\n",
       "      <td>17.790098</td>\n",
       "      <td>17.835308</td>\n",
       "      <td>17.790098</td>\n",
       "      <td>17.812703</td>\n",
       "      <td>...</td>\n",
       "      <td>7.87</td>\n",
       "      <td>-6.100533e-07</td>\n",
       "      <td>False</td>\n",
       "      <td>False</td>\n",
       "      <td>0.014299</td>\n",
       "      <td>416582.314066</td>\n",
       "      <td>0.005148</td>\n",
       "      <td>7.87</td>\n",
       "      <td>0.015414</td>\n",
       "      <td>0.128698</td>\n",
       "    </tr>\n",
       "    <tr>\n",
       "      <th>1353</th>\n",
       "      <td>2013-07-08 00:00:00-04:00</td>\n",
       "      <td>AA</td>\n",
       "      <td>Pre-Market Primer: Dell Inc. Offer Gets ISS Bl...</td>\n",
       "      <td>2013-07-08 09:31:00-04:00</td>\n",
       "      <td>2013-07-08 16:01:00-04:00</td>\n",
       "      <td>2013-07-08 09:31:00-04:00</td>\n",
       "      <td>17.790098</td>\n",
       "      <td>17.835308</td>\n",
       "      <td>17.790098</td>\n",
       "      <td>17.812703</td>\n",
       "      <td>...</td>\n",
       "      <td>7.87</td>\n",
       "      <td>-6.100533e-07</td>\n",
       "      <td>False</td>\n",
       "      <td>False</td>\n",
       "      <td>0.014299</td>\n",
       "      <td>416582.314066</td>\n",
       "      <td>0.005148</td>\n",
       "      <td>7.87</td>\n",
       "      <td>0.015414</td>\n",
       "      <td>0.146341</td>\n",
       "    </tr>\n",
       "    <tr>\n",
       "      <th>1354</th>\n",
       "      <td>2013-07-08 00:00:00-04:00</td>\n",
       "      <td>AA</td>\n",
       "      <td>The Case for Alcoa. Traditionally, today’s ear...</td>\n",
       "      <td>2013-07-08 09:31:00-04:00</td>\n",
       "      <td>2013-07-08 16:01:00-04:00</td>\n",
       "      <td>2013-07-08 09:31:00-04:00</td>\n",
       "      <td>17.790098</td>\n",
       "      <td>17.835308</td>\n",
       "      <td>17.790098</td>\n",
       "      <td>17.812703</td>\n",
       "      <td>...</td>\n",
       "      <td>7.87</td>\n",
       "      <td>-6.100533e-07</td>\n",
       "      <td>False</td>\n",
       "      <td>False</td>\n",
       "      <td>0.014299</td>\n",
       "      <td>416582.314066</td>\n",
       "      <td>0.005148</td>\n",
       "      <td>7.87</td>\n",
       "      <td>0.015414</td>\n",
       "      <td>0.141892</td>\n",
       "    </tr>\n",
       "    <tr>\n",
       "      <th>1355</th>\n",
       "      <td>2013-07-08 00:00:00-04:00</td>\n",
       "      <td>AA</td>\n",
       "      <td>Alcoa Beats on the Top Line - Analyst Blog. Tr...</td>\n",
       "      <td>2013-07-08 09:31:00-04:00</td>\n",
       "      <td>2013-07-08 16:01:00-04:00</td>\n",
       "      <td>2013-07-08 09:31:00-04:00</td>\n",
       "      <td>17.790098</td>\n",
       "      <td>17.835308</td>\n",
       "      <td>17.790098</td>\n",
       "      <td>17.812703</td>\n",
       "      <td>...</td>\n",
       "      <td>7.87</td>\n",
       "      <td>-6.100533e-07</td>\n",
       "      <td>False</td>\n",
       "      <td>False</td>\n",
       "      <td>0.014299</td>\n",
       "      <td>416582.314066</td>\n",
       "      <td>0.005148</td>\n",
       "      <td>7.87</td>\n",
       "      <td>0.015414</td>\n",
       "      <td>0.166144</td>\n",
       "    </tr>\n",
       "    <tr>\n",
       "      <th>1356</th>\n",
       "      <td>2013-07-08 00:00:00-04:00</td>\n",
       "      <td>AA</td>\n",
       "      <td>After-Hours Earnings Report for July 8, 2013 :...</td>\n",
       "      <td>2013-07-08 09:31:00-04:00</td>\n",
       "      <td>2013-07-08 16:01:00-04:00</td>\n",
       "      <td>2013-07-08 09:31:00-04:00</td>\n",
       "      <td>17.790098</td>\n",
       "      <td>17.835308</td>\n",
       "      <td>17.790098</td>\n",
       "      <td>17.812703</td>\n",
       "      <td>...</td>\n",
       "      <td>7.87</td>\n",
       "      <td>-6.100533e-07</td>\n",
       "      <td>False</td>\n",
       "      <td>False</td>\n",
       "      <td>0.014299</td>\n",
       "      <td>416582.314066</td>\n",
       "      <td>0.005148</td>\n",
       "      <td>7.87</td>\n",
       "      <td>0.015414</td>\n",
       "      <td>0.141732</td>\n",
       "    </tr>\n",
       "    <tr>\n",
       "      <th>1357</th>\n",
       "      <td>2013-07-08 00:00:00-04:00</td>\n",
       "      <td>AA</td>\n",
       "      <td>Stock Upgrades: Priceline.com Inc Is Going Pla...</td>\n",
       "      <td>2013-07-08 09:31:00-04:00</td>\n",
       "      <td>2013-07-08 16:01:00-04:00</td>\n",
       "      <td>2013-07-08 09:31:00-04:00</td>\n",
       "      <td>17.790098</td>\n",
       "      <td>17.835308</td>\n",
       "      <td>17.790098</td>\n",
       "      <td>17.812703</td>\n",
       "      <td>...</td>\n",
       "      <td>7.87</td>\n",
       "      <td>-6.100533e-07</td>\n",
       "      <td>False</td>\n",
       "      <td>False</td>\n",
       "      <td>0.014299</td>\n",
       "      <td>416582.314066</td>\n",
       "      <td>0.005148</td>\n",
       "      <td>7.87</td>\n",
       "      <td>0.015414</td>\n",
       "      <td>0.136213</td>\n",
       "    </tr>\n",
       "    <tr>\n",
       "      <th>1358</th>\n",
       "      <td>2013-07-08 00:00:00-04:00</td>\n",
       "      <td>AA</td>\n",
       "      <td>After Hours Most Active for Jul 8, 2013 : S, N...</td>\n",
       "      <td>2013-07-08 09:31:00-04:00</td>\n",
       "      <td>2013-07-08 16:01:00-04:00</td>\n",
       "      <td>2013-07-08 09:31:00-04:00</td>\n",
       "      <td>17.790098</td>\n",
       "      <td>17.835308</td>\n",
       "      <td>17.790098</td>\n",
       "      <td>17.812703</td>\n",
       "      <td>...</td>\n",
       "      <td>7.87</td>\n",
       "      <td>-6.100533e-07</td>\n",
       "      <td>False</td>\n",
       "      <td>False</td>\n",
       "      <td>0.014299</td>\n",
       "      <td>416582.314066</td>\n",
       "      <td>0.005148</td>\n",
       "      <td>7.87</td>\n",
       "      <td>0.015414</td>\n",
       "      <td>0.094937</td>\n",
       "    </tr>\n",
       "    <tr>\n",
       "      <th>1359</th>\n",
       "      <td>2013-07-08 00:00:00-04:00</td>\n",
       "      <td>AA</td>\n",
       "      <td>Will Earnings Growth Bottom in Q2? - Earnings ...</td>\n",
       "      <td>2013-07-08 09:31:00-04:00</td>\n",
       "      <td>2013-07-08 16:01:00-04:00</td>\n",
       "      <td>2013-07-08 09:31:00-04:00</td>\n",
       "      <td>17.790098</td>\n",
       "      <td>17.835308</td>\n",
       "      <td>17.790098</td>\n",
       "      <td>17.812703</td>\n",
       "      <td>...</td>\n",
       "      <td>7.87</td>\n",
       "      <td>-6.100533e-07</td>\n",
       "      <td>False</td>\n",
       "      <td>False</td>\n",
       "      <td>0.014299</td>\n",
       "      <td>416582.314066</td>\n",
       "      <td>0.005148</td>\n",
       "      <td>7.87</td>\n",
       "      <td>0.015414</td>\n",
       "      <td>0.158228</td>\n",
       "    </tr>\n",
       "    <tr>\n",
       "      <th>1360</th>\n",
       "      <td>2013-07-08 00:00:00-04:00</td>\n",
       "      <td>AA</td>\n",
       "      <td>EU Finance Ministers Approve Greek Aid Tranche...</td>\n",
       "      <td>2013-07-08 09:31:00-04:00</td>\n",
       "      <td>2013-07-08 16:01:00-04:00</td>\n",
       "      <td>2013-07-08 09:31:00-04:00</td>\n",
       "      <td>17.790098</td>\n",
       "      <td>17.835308</td>\n",
       "      <td>17.790098</td>\n",
       "      <td>17.812703</td>\n",
       "      <td>...</td>\n",
       "      <td>7.87</td>\n",
       "      <td>-6.100533e-07</td>\n",
       "      <td>False</td>\n",
       "      <td>False</td>\n",
       "      <td>0.014299</td>\n",
       "      <td>416582.314066</td>\n",
       "      <td>0.005148</td>\n",
       "      <td>7.87</td>\n",
       "      <td>0.015414</td>\n",
       "      <td>0.204082</td>\n",
       "    </tr>\n",
       "    <tr>\n",
       "      <th>1361</th>\n",
       "      <td>2013-07-08 00:00:00-04:00</td>\n",
       "      <td>AA</td>\n",
       "      <td>Will Earnings Growth Bottom in Q2? - Earnings ...</td>\n",
       "      <td>2013-07-08 09:31:00-04:00</td>\n",
       "      <td>2013-07-08 16:01:00-04:00</td>\n",
       "      <td>2013-07-08 09:31:00-04:00</td>\n",
       "      <td>17.790098</td>\n",
       "      <td>17.835308</td>\n",
       "      <td>17.790098</td>\n",
       "      <td>17.812703</td>\n",
       "      <td>...</td>\n",
       "      <td>7.87</td>\n",
       "      <td>-6.100533e-07</td>\n",
       "      <td>False</td>\n",
       "      <td>False</td>\n",
       "      <td>0.014299</td>\n",
       "      <td>416582.314066</td>\n",
       "      <td>0.005148</td>\n",
       "      <td>7.87</td>\n",
       "      <td>0.015414</td>\n",
       "      <td>0.158228</td>\n",
       "    </tr>\n",
       "  </tbody>\n",
       "</table>\n",
       "<p>13 rows × 42 columns</p>\n",
       "</div>"
      ],
      "text/plain": [
       "                      news_time stocks  \\\n",
       "index                                    \n",
       "1349  2013-07-08 00:00:00-04:00     AA   \n",
       "1350  2013-07-08 00:00:00-04:00     AA   \n",
       "1351  2013-07-08 00:00:00-04:00     AA   \n",
       "1352  2013-07-08 00:00:00-04:00     AA   \n",
       "1353  2013-07-08 00:00:00-04:00     AA   \n",
       "1354  2013-07-08 00:00:00-04:00     AA   \n",
       "1355  2013-07-08 00:00:00-04:00     AA   \n",
       "1356  2013-07-08 00:00:00-04:00     AA   \n",
       "1357  2013-07-08 00:00:00-04:00     AA   \n",
       "1358  2013-07-08 00:00:00-04:00     AA   \n",
       "1359  2013-07-08 00:00:00-04:00     AA   \n",
       "1360  2013-07-08 00:00:00-04:00     AA   \n",
       "1361  2013-07-08 00:00:00-04:00     AA   \n",
       "\n",
       "                                             parsed_body  \\\n",
       "index                                                      \n",
       "1349   Benzinga Market Primer: Monday, July 8: Earnin...   \n",
       "1350   Stocks at Technical Inflection Point as Earnin...   \n",
       "1351   July 8: Earnings in the Limelight - Economic H...   \n",
       "1352   Stock Downgrades: Unpleasant Surprise Inside f...   \n",
       "1353   Pre-Market Primer: Dell Inc. Offer Gets ISS Bl...   \n",
       "1354   The Case for Alcoa. Traditionally, today’s ear...   \n",
       "1355   Alcoa Beats on the Top Line - Analyst Blog. Tr...   \n",
       "1356   After-Hours Earnings Report for July 8, 2013 :...   \n",
       "1357   Stock Upgrades: Priceline.com Inc Is Going Pla...   \n",
       "1358   After Hours Most Active for Jul 8, 2013 : S, N...   \n",
       "1359   Will Earnings Growth Bottom in Q2? - Earnings ...   \n",
       "1360   EU Finance Ministers Approve Greek Aid Tranche...   \n",
       "1361   Will Earnings Growth Bottom in Q2? - Earnings ...   \n",
       "\n",
       "                 est_entry_time             est_exit_time  \\\n",
       "index                                                       \n",
       "1349  2013-07-08 09:31:00-04:00 2013-07-08 16:01:00-04:00   \n",
       "1350  2013-07-08 09:31:00-04:00 2013-07-08 16:01:00-04:00   \n",
       "1351  2013-07-08 09:31:00-04:00 2013-07-08 16:01:00-04:00   \n",
       "1352  2013-07-08 09:31:00-04:00 2013-07-08 16:01:00-04:00   \n",
       "1353  2013-07-08 09:31:00-04:00 2013-07-08 16:01:00-04:00   \n",
       "1354  2013-07-08 09:31:00-04:00 2013-07-08 16:01:00-04:00   \n",
       "1355  2013-07-08 09:31:00-04:00 2013-07-08 16:01:00-04:00   \n",
       "1356  2013-07-08 09:31:00-04:00 2013-07-08 16:01:00-04:00   \n",
       "1357  2013-07-08 09:31:00-04:00 2013-07-08 16:01:00-04:00   \n",
       "1358  2013-07-08 09:31:00-04:00 2013-07-08 16:01:00-04:00   \n",
       "1359  2013-07-08 09:31:00-04:00 2013-07-08 16:01:00-04:00   \n",
       "1360  2013-07-08 09:31:00-04:00 2013-07-08 16:01:00-04:00   \n",
       "1361  2013-07-08 09:31:00-04:00 2013-07-08 16:01:00-04:00   \n",
       "\n",
       "                     entry_time  open_entry  high_entry  low_entry  \\\n",
       "index                                                                \n",
       "1349  2013-07-08 09:31:00-04:00   17.790098   17.835308  17.790098   \n",
       "1350  2013-07-08 09:31:00-04:00   17.790098   17.835308  17.790098   \n",
       "1351  2013-07-08 09:31:00-04:00   17.790098   17.835308  17.790098   \n",
       "1352  2013-07-08 09:31:00-04:00   17.790098   17.835308  17.790098   \n",
       "1353  2013-07-08 09:31:00-04:00   17.790098   17.835308  17.790098   \n",
       "1354  2013-07-08 09:31:00-04:00   17.790098   17.835308  17.790098   \n",
       "1355  2013-07-08 09:31:00-04:00   17.790098   17.835308  17.790098   \n",
       "1356  2013-07-08 09:31:00-04:00   17.790098   17.835308  17.790098   \n",
       "1357  2013-07-08 09:31:00-04:00   17.790098   17.835308  17.790098   \n",
       "1358  2013-07-08 09:31:00-04:00   17.790098   17.835308  17.790098   \n",
       "1359  2013-07-08 09:31:00-04:00   17.790098   17.835308  17.790098   \n",
       "1360  2013-07-08 09:31:00-04:00   17.790098   17.835308  17.790098   \n",
       "1361  2013-07-08 09:31:00-04:00   17.790098   17.835308  17.790098   \n",
       "\n",
       "       close_entry  ...  unadj_entry_open         r_spy  \\\n",
       "index               ...                                   \n",
       "1349     17.812703  ...              7.87 -6.100533e-07   \n",
       "1350     17.812703  ...              7.87 -6.100533e-07   \n",
       "1351     17.812703  ...              7.87 -6.100533e-07   \n",
       "1352     17.812703  ...              7.87 -6.100533e-07   \n",
       "1353     17.812703  ...              7.87 -6.100533e-07   \n",
       "1354     17.812703  ...              7.87 -6.100533e-07   \n",
       "1355     17.812703  ...              7.87 -6.100533e-07   \n",
       "1356     17.812703  ...              7.87 -6.100533e-07   \n",
       "1357     17.812703  ...              7.87 -6.100533e-07   \n",
       "1358     17.812703  ...              7.87 -6.100533e-07   \n",
       "1359     17.812703  ...              7.87 -6.100533e-07   \n",
       "1360     17.812703  ...              7.87 -6.100533e-07   \n",
       "1361     17.812703  ...              7.87 -6.100533e-07   \n",
       "\n",
       "      entry_is_too_far_apart  exit_is_too_far_apart   std_252  dollar_volume  \\\n",
       "index                                                                          \n",
       "1349                   False                  False  0.014299  416582.314066   \n",
       "1350                   False                  False  0.014299  416582.314066   \n",
       "1351                   False                  False  0.014299  416582.314066   \n",
       "1352                   False                  False  0.014299  416582.314066   \n",
       "1353                   False                  False  0.014299  416582.314066   \n",
       "1354                   False                  False  0.014299  416582.314066   \n",
       "1355                   False                  False  0.014299  416582.314066   \n",
       "1356                   False                  False  0.014299  416582.314066   \n",
       "1357                   False                  False  0.014299  416582.314066   \n",
       "1358                   False                  False  0.014299  416582.314066   \n",
       "1359                   False                  False  0.014299  416582.314066   \n",
       "1360                   False                  False  0.014299  416582.314066   \n",
       "1361                   False                  False  0.014299  416582.314066   \n",
       "\n",
       "       r_intra_(t-1)  unadj_open  cond_vola   jaccard  \n",
       "index                                                  \n",
       "1349        0.005148        7.87   0.015414  0.149691  \n",
       "1350        0.005148        7.87   0.015414  0.139442  \n",
       "1351        0.005148        7.87   0.015414  0.159879  \n",
       "1352        0.005148        7.87   0.015414  0.128698  \n",
       "1353        0.005148        7.87   0.015414  0.146341  \n",
       "1354        0.005148        7.87   0.015414  0.141892  \n",
       "1355        0.005148        7.87   0.015414  0.166144  \n",
       "1356        0.005148        7.87   0.015414  0.141732  \n",
       "1357        0.005148        7.87   0.015414  0.136213  \n",
       "1358        0.005148        7.87   0.015414  0.094937  \n",
       "1359        0.005148        7.87   0.015414  0.158228  \n",
       "1360        0.005148        7.87   0.015414  0.204082  \n",
       "1361        0.005148        7.87   0.015414  0.158228  \n",
       "\n",
       "[13 rows x 42 columns]"
      ]
     },
     "execution_count": 28,
     "metadata": {},
     "output_type": "execute_result"
    }
   ],
   "source": [
    "tmp[tmp.est_entry_time == news_count.index[0]]"
   ]
  },
  {
   "cell_type": "code",
   "execution_count": null,
   "id": "a62353a9-389a-4488-80d6-8f6208b48193",
   "metadata": {},
   "outputs": [],
   "source": []
  }
 ],
 "metadata": {
  "kernelspec": {
   "display_name": "Python 3 (ipykernel)",
   "language": "python",
   "name": "python3"
  },
  "language_info": {
   "codemirror_mode": {
    "name": "ipython",
    "version": 3
   },
   "file_extension": ".py",
   "mimetype": "text/x-python",
   "name": "python",
   "nbconvert_exporter": "python",
   "pygments_lexer": "ipython3",
   "version": "3.11.7"
  }
 },
 "nbformat": 4,
 "nbformat_minor": 5
}
