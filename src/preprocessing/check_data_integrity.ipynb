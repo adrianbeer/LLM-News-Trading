{
 "cells": [
  {
   "cell_type": "code",
   "execution_count": 1,
   "id": "e0a38ea4-3112-4c86-9a5b-628a49145ce3",
   "metadata": {},
   "outputs": [
    {
     "name": "stdout",
     "output_type": "stream",
     "text": [
      "/gxfs_work/cau/sunms534/trading_bot\n"
     ]
    },
    {
     "name": "stderr",
     "output_type": "stream",
     "text": [
      "/gxfs_work/cau/sunms534/.conda/envs/my_pytorch_env/lib/python3.11/site-packages/IPython/core/magics/osm.py:417: UserWarning: using dhist requires you to install the `pickleshare` library.\n",
      "  self.shell.db['dhist'] = compress_dhist(dhist)[-100:]\n"
     ]
    }
   ],
   "source": [
    "%cd /gxfs_work/cau/sunms534/trading_bot/"
   ]
  },
  {
   "cell_type": "code",
   "execution_count": 2,
   "id": "d9b81c5d-1c4e-48ef-abc9-666e8c54161d",
   "metadata": {},
   "outputs": [],
   "source": [
    "import pandas as pd \n",
    "import numpy as np\n",
    "from src.config import config, MODEL_CONFIG, PREP_CONFIG\n",
    "from transformers import AutoTokenizer"
   ]
  },
  {
   "cell_type": "code",
   "execution_count": 3,
   "id": "4ee59e81-5955-4a41-a24e-40bc18452c08",
   "metadata": {},
   "outputs": [],
   "source": [
    "# 1. Taking a look at cleaned dataset"
   ]
  },
  {
   "cell_type": "code",
   "execution_count": 4,
   "id": "fc1b5c68-b2d2-41fd-866f-f0fa33c10dd9",
   "metadata": {},
   "outputs": [],
   "source": [
    "stripped = pd.read_parquet(config.data.news.stripped)"
   ]
  },
  {
   "cell_type": "code",
   "execution_count": 5,
   "id": "a5874f10-a31d-44ad-8b23-aa021f820989",
   "metadata": {},
   "outputs": [
    {
     "data": {
      "text/plain": [
       "Index(['time', 'stocks', 'title', 'body', 'intra_day_time', 'channels',\n",
       "       'company_name', 'short_name', 'author', 'parsed_body', 'cls_token',\n",
       "       'staleness'],\n",
       "      dtype='object')"
      ]
     },
     "execution_count": 5,
     "metadata": {},
     "output_type": "execute_result"
    }
   ],
   "source": [
    "stripped.columns"
   ]
  },
  {
   "cell_type": "code",
   "execution_count": 6,
   "id": "301c7a21-09fe-403b-b815-4712df7f031b",
   "metadata": {},
   "outputs": [
    {
     "data": {
      "text/html": [
       "<div>\n",
       "<style scoped>\n",
       "    .dataframe tbody tr th:only-of-type {\n",
       "        vertical-align: middle;\n",
       "    }\n",
       "\n",
       "    .dataframe tbody tr th {\n",
       "        vertical-align: top;\n",
       "    }\n",
       "\n",
       "    .dataframe thead th {\n",
       "        text-align: right;\n",
       "    }\n",
       "</style>\n",
       "<table border=\"1\" class=\"dataframe\">\n",
       "  <thead>\n",
       "    <tr style=\"text-align: right;\">\n",
       "      <th></th>\n",
       "      <th>title</th>\n",
       "      <th>stocks</th>\n",
       "      <th>parsed_body</th>\n",
       "    </tr>\n",
       "    <tr>\n",
       "      <th>index</th>\n",
       "      <th></th>\n",
       "      <th></th>\n",
       "      <th></th>\n",
       "    </tr>\n",
       "  </thead>\n",
       "  <tbody>\n",
       "    <tr>\n",
       "      <th>4578113</th>\n",
       "      <td>Cybin Announces Renewed At-The-Market Equity P...</td>\n",
       "      <td>CYBN</td>\n",
       "      <td>the company  announces renewed atthemarket eq...</td>\n",
       "    </tr>\n",
       "    <tr>\n",
       "      <th>4578114</th>\n",
       "      <td>Environmental Icon Dr. Jane Goodall's Roots &amp; ...</td>\n",
       "      <td>TM</td>\n",
       "      <td>environmental icon dr jane goodalls roots  sho...</td>\n",
       "    </tr>\n",
       "    <tr>\n",
       "      <th>4578116</th>\n",
       "      <td>Chindata Group Unveils Pioneering Full-Stack S...</td>\n",
       "      <td>CD</td>\n",
       "      <td>chindata group unveils pioneering fullstack so...</td>\n",
       "    </tr>\n",
       "    <tr>\n",
       "      <th>4578117</th>\n",
       "      <td>Orbital Infrastructure Group Inc. Intends to E...</td>\n",
       "      <td>OIG</td>\n",
       "      <td>the company  inc intends to enter into purcha...</td>\n",
       "    </tr>\n",
       "    <tr>\n",
       "      <th>4578118</th>\n",
       "      <td>IBRX FINAL DEADLINE TUESDAY: ROSEN, TRUSTED IN...</td>\n",
       "      <td>IBRX</td>\n",
       "      <td>ibrx final deadline tuesday rosen trusted inve...</td>\n",
       "    </tr>\n",
       "  </tbody>\n",
       "</table>\n",
       "</div>"
      ],
      "text/plain": [
       "                                                     title stocks  \\\n",
       "index                                                               \n",
       "4578113  Cybin Announces Renewed At-The-Market Equity P...   CYBN   \n",
       "4578114  Environmental Icon Dr. Jane Goodall's Roots & ...     TM   \n",
       "4578116  Chindata Group Unveils Pioneering Full-Stack S...     CD   \n",
       "4578117  Orbital Infrastructure Group Inc. Intends to E...    OIG   \n",
       "4578118  IBRX FINAL DEADLINE TUESDAY: ROSEN, TRUSTED IN...   IBRX   \n",
       "\n",
       "                                               parsed_body  \n",
       "index                                                       \n",
       "4578113   the company  announces renewed atthemarket eq...  \n",
       "4578114  environmental icon dr jane goodalls roots  sho...  \n",
       "4578116  chindata group unveils pioneering fullstack so...  \n",
       "4578117   the company  inc intends to enter into purcha...  \n",
       "4578118  ibrx final deadline tuesday rosen trusted inve...  "
      ]
     },
     "execution_count": 6,
     "metadata": {},
     "output_type": "execute_result"
    }
   ],
   "source": [
    "stripped[[\"title\", \"stocks\", \"parsed_body\"]].tail()"
   ]
  },
  {
   "cell_type": "code",
   "execution_count": null,
   "id": "20cae158-e414-486f-ac38-e07fce31adb2",
   "metadata": {},
   "outputs": [],
   "source": [
    "# 2. Take a look at input_ids and if tokenizer works correctly"
   ]
  },
  {
   "cell_type": "code",
   "execution_count": 12,
   "id": "031bcb7c-91f5-4b5a-a13a-2ebc7b4fa7ce",
   "metadata": {},
   "outputs": [],
   "source": [
    "title_inputs_ids = pd.read_parquet(config.data.news.title_only.input_ids)"
   ]
  },
  {
   "cell_type": "code",
   "execution_count": 13,
   "id": "7b211b9f-8d9e-4305-902e-e68ac9dc641a",
   "metadata": {},
   "outputs": [],
   "source": [
    "ld = pd.read_parquet(config.data.learning_dataset)"
   ]
  },
  {
   "cell_type": "code",
   "execution_count": 14,
   "id": "6ace02da-14dc-4ec9-b48f-7a65ee83777b",
   "metadata": {},
   "outputs": [],
   "source": [
    "#cleaned = ld = pd.read_parquet(config.data.merged) # requires more memory"
   ]
  },
  {
   "cell_type": "code",
   "execution_count": 3,
   "id": "d972ac44-ac4e-4935-b81b-09b166e0c745",
   "metadata": {},
   "outputs": [],
   "source": [
    "tokenizer = AutoTokenizer.from_pretrained(PREP_CONFIG.tokenizer)"
   ]
  },
  {
   "cell_type": "code",
   "execution_count": 44,
   "id": "cf12f4eb-ac9c-47a2-852c-ce3145202ec8",
   "metadata": {},
   "outputs": [],
   "source": [
    "mask = ld.parsed_body.apply(lambda x: \"today announced\" in x)"
   ]
  },
  {
   "cell_type": "code",
   "execution_count": 47,
   "id": "81d5d1f3-91ec-4d2e-bcf7-dd406e83689e",
   "metadata": {},
   "outputs": [],
   "source": [
    "ld = ld[mask]"
   ]
  },
  {
   "cell_type": "code",
   "execution_count": null,
   "id": "e071688d-a35f-48ba-b37a-6c2facd9b2a3",
   "metadata": {},
   "outputs": [],
   "source": [
    "n = np.random.randint(0, ld.shape[0])\n",
    "index = ld.index[n]\n",
    "print(index)\n",
    "entry = title_inputs_ids.loc[index, :].values\n",
    "\n",
    "print(ld.loc[index, \"stocks\"])\n",
    "print(f\"{tokenizer.decode(entry)} \\n\")\n",
    "print(ld.loc[index, \"parsed_body\"])\n",
    "\n",
    "for x in entry:\n",
    "    print(f\"{x} --- {tokenizer.decode(x)}\")\n"
   ]
  },
  {
   "cell_type": "markdown",
   "id": "1c1bd24f-3ef4-4db3-ab74-6a23f77077f6",
   "metadata": {},
   "source": [
    "# Average number of token in news"
   ]
  },
  {
   "cell_type": "code",
   "execution_count": 4,
   "id": "5ede43a5-8b68-4354-a9bb-2e06a150e030",
   "metadata": {},
   "outputs": [],
   "source": [
    "title_inputs_ids = pd.read_parquet(config.data.news.input_ids)\n"
   ]
  },
  {
   "cell_type": "code",
   "execution_count": 5,
   "id": "8428caeb-256d-40bc-b6de-6b08b915ebc0",
   "metadata": {},
   "outputs": [],
   "source": [
    "n_padding = title_inputs_ids[title_inputs_ids == 0].sum(axis=1)"
   ]
  },
  {
   "cell_type": "code",
   "execution_count": null,
   "id": "859d055f-855d-4830-a0ce-c86eb62510a6",
   "metadata": {},
   "outputs": [],
   "source": []
  },
  {
   "cell_type": "markdown",
   "id": "2d7c0ba5-6b48-4a4e-ba7d-082430438dfe",
   "metadata": {},
   "source": [
    "# Predictions from Model"
   ]
  },
  {
   "cell_type": "code",
   "execution_count": 4,
   "id": "ba0a8987-71b4-44a1-8c2e-337196082884",
   "metadata": {},
   "outputs": [],
   "source": [
    "ld = pd.read_parquet(config.data.learning_dataset, columns=[\"z_score\", \"z_score_class\", \"parsed_body\"])\n",
    "title_inputs_ids = pd.read_parquet(config.data.news.title_only.input_ids)\n",
    "masks = pd.read_parquet(config.data.news.title_only.masks)"
   ]
  },
  {
   "cell_type": "code",
   "execution_count": 5,
   "id": "ce53113b-68ed-4143-bdb7-5ff1a8d4aa2e",
   "metadata": {},
   "outputs": [],
   "source": [
    "ld_mini = ld.iloc[-10000:,:]"
   ]
  },
  {
   "cell_type": "code",
   "execution_count": 6,
   "id": "299b026b-ebe1-443c-9fd6-eaa10405e319",
   "metadata": {},
   "outputs": [],
   "source": [
    "index = ld.index[0]"
   ]
  },
  {
   "cell_type": "code",
   "execution_count": 7,
   "id": "b0255cd9-5d69-4572-9317-20fcc753b855",
   "metadata": {},
   "outputs": [],
   "source": [
    "import torch\n",
    "import torch.nn.functional as F\n",
    "from tqdm.notebook import tqdm\n"
   ]
  },
  {
   "cell_type": "code",
   "execution_count": null,
   "id": "500d3933-27bc-4194-a75a-4647a50dbcc4",
   "metadata": {},
   "outputs": [],
   "source": [
    "from transformers import AutoTokenizer, BertForSequenceClassification, BertTokenizer\n",
    "from transformers import pipeline\n",
    "\n",
    "finbert = BertForSequenceClassification.from_pretrained(\"/gxfs_work/cau/sunms534/trading_bot/data/models/ProsusAI/finbert\", num_labels=3, local_files_only=True)\n",
    "\n",
    "prob = []\n",
    "preds = []\n",
    "actuals = []\n",
    "with torch.no_grad():\n",
    "    for index in tqdm(ld_mini.index):\n",
    "        input_id = torch.tensor([title_inputs_ids.loc[index, :].tolist()], dtype=torch.int32)\n",
    "        mask = torch.tensor([masks.loc[index, :].tolist()])\n",
    "        result = finbert(input_id, mask)\n",
    "        probs = F.softmax(result.logits).numpy()\n",
    "        prob.append(probs.max())\n",
    "        preds.append((probs.argmax()  + 1) % 2)\n",
    "        actuals.append(ld.loc[index, \"z_score_class\"])\n",
    "        #print(result)  #LABEL_0: neutral; LABEL_1: positive; LABEL_2: negative"
   ]
  },
  {
   "cell_type": "code",
   "execution_count": null,
   "id": "e8a07507-1a70-4af1-8f8f-2baba9802ed6",
   "metadata": {},
   "outputs": [],
   "source": [
    "F.softmax(result.logits).numpy().argmax()"
   ]
  },
  {
   "cell_type": "code",
   "execution_count": 75,
   "id": "c56829e3-c058-4896-92e4-b4ad2e3dcef5",
   "metadata": {},
   "outputs": [
    {
     "data": {
      "text/plain": [
       "'[CLS] robotexts increase while robocalls drop for third consecutive month, according to robokiller insights [SEP] [PAD] [PAD] [PAD] [PAD] [PAD] [PAD] [PAD] [PAD] [PAD] [PAD]'"
      ]
     },
     "execution_count": 75,
     "metadata": {},
     "output_type": "execute_result"
    }
   ],
   "source": [
    "tokenizer.decode(title_inputs_ids.loc[ld_mini.index[532]])"
   ]
  },
  {
   "cell_type": "code",
   "execution_count": 23,
   "id": "0a486847-9bc4-4885-b4d4-8d91c145444b",
   "metadata": {},
   "outputs": [
    {
     "data": {
      "text/plain": [
       "10000"
      ]
     },
     "execution_count": 23,
     "metadata": {},
     "output_type": "execute_result"
    }
   ],
   "source": [
    "len(preds)"
   ]
  },
  {
   "cell_type": "code",
   "execution_count": 58,
   "id": "e52c409a-784f-42be-9575-f18570769352",
   "metadata": {},
   "outputs": [],
   "source": [
    "df = pd.DataFrame(zip(preds,actuals, prob))"
   ]
  },
  {
   "cell_type": "code",
   "execution_count": 59,
   "id": "bd0a8835-abb9-4050-a937-56d2bc59943c",
   "metadata": {},
   "outputs": [
    {
     "data": {
      "text/plain": [
       "count    10000.000000\n",
       "mean         0.825836\n",
       "std          0.124616\n",
       "min          0.384929\n",
       "25%          0.757534\n",
       "50%          0.875642\n",
       "75%          0.923297\n",
       "max          0.969893\n",
       "Name: 2, dtype: float64"
      ]
     },
     "execution_count": 59,
     "metadata": {},
     "output_type": "execute_result"
    }
   ],
   "source": [
    "df.loc[:, 2].describe()"
   ]
  },
  {
   "cell_type": "code",
   "execution_count": 60,
   "id": "4ddbfdd8-147f-4541-ae93-b80f82555c95",
   "metadata": {},
   "outputs": [],
   "source": [
    "df = df[df.iloc[:, 2] > 0.95]"
   ]
  },
  {
   "cell_type": "code",
   "execution_count": 61,
   "id": "b0ef552d-e8f4-4cd3-aed7-8ad4542e7161",
   "metadata": {},
   "outputs": [
    {
     "data": {
      "text/plain": [
       "227"
      ]
     },
     "execution_count": 61,
     "metadata": {},
     "output_type": "execute_result"
    }
   ],
   "source": [
    "len(df)"
   ]
  },
  {
   "cell_type": "code",
   "execution_count": 62,
   "id": "1c12f712-d3e7-4229-a03b-b78d55b9fdc3",
   "metadata": {},
   "outputs": [
    {
     "data": {
      "text/plain": [
       "115"
      ]
     },
     "execution_count": 62,
     "metadata": {},
     "output_type": "execute_result"
    }
   ],
   "source": [
    "(df.iloc[:, 0] == df.iloc[:, 1]).sum()"
   ]
  },
  {
   "cell_type": "code",
   "execution_count": 63,
   "id": "e562de0c-26c1-4d5f-a27a-ebfecd3e0d5a",
   "metadata": {},
   "outputs": [
    {
     "data": {
      "text/plain": [
       "1\n",
       "1    119\n",
       "2     65\n",
       "0     43\n",
       "Name: count, dtype: int64"
      ]
     },
     "execution_count": 63,
     "metadata": {},
     "output_type": "execute_result"
    }
   ],
   "source": [
    "df.iloc[:, 1].value_counts()"
   ]
  },
  {
   "cell_type": "code",
   "execution_count": 64,
   "id": "689ca11b-bc72-44d2-af41-d10118dda45a",
   "metadata": {},
   "outputs": [
    {
     "data": {
      "text/plain": [
       "0\n",
       "1    210\n",
       "0     17\n",
       "Name: count, dtype: int64"
      ]
     },
     "execution_count": 64,
     "metadata": {},
     "output_type": "execute_result"
    }
   ],
   "source": [
    "df.iloc[:, 0].value_counts()"
   ]
  },
  {
   "cell_type": "code",
   "execution_count": 70,
   "id": "f2a6118e-cce3-4c63-afe9-5e9fc2a68248",
   "metadata": {},
   "outputs": [
    {
     "data": {
      "text/plain": [
       "532"
      ]
     },
     "execution_count": 70,
     "metadata": {},
     "output_type": "execute_result"
    }
   ],
   "source": [
    "df.iloc[:, 2].idxmax()"
   ]
  },
  {
   "cell_type": "code",
   "execution_count": 72,
   "id": "92fa4765-ba29-4a42-8356-5de7d2eb0ccb",
   "metadata": {},
   "outputs": [
    {
     "data": {
      "text/plain": [
       "0    0.000000\n",
       "1    1.000000\n",
       "2    0.969893\n",
       "Name: 532, dtype: float64"
      ]
     },
     "execution_count": 72,
     "metadata": {},
     "output_type": "execute_result"
    }
   ],
   "source": [
    "df.loc[532, :]"
   ]
  },
  {
   "cell_type": "code",
   "execution_count": 74,
   "id": "5f320933-c2ac-4dc5-8b8b-d64ab89d4e57",
   "metadata": {},
   "outputs": [
    {
     "data": {
      "text/plain": [
       "'Robotexts Increase While Robocalls Drop For Third Consecutive Month, According to Robokiller Insights. Americans received 14.2 billion robotexts and 4.6 billion robocalls in May, a 9% increase and 10% decrease, respectively, according to Robokiller Insights. The two categories continue to follow diverging paths — this marks the third consecutive month over month increase in SMS spam and the second consecutive month over month decrease in unwanted calls. Government anti robocall efforts continue to pay dividends The decrease in robocalls can be attributed largely to the government\\'s successful efforts to crack down on specific high volume robocalls. Yet, although the quantity of robocalls is dropping, the damage they cause is escalating. Americans have lost $29 billion to robocalls already in 2023, outpacing 2022\\'s record losses. Scammers are getting better results despite fewer calls, signifying they continue to refine their tactics and double down on scams that work. According to the FTC, the median amount lost to phone scams so far in 2023 is $1,286, more than the $1,000 from late 2022. \"As the FCC continues to successfully crack down on robocalls, Robokiller has confirmed yet another monthly decrease in spam call volume. That doesn\\'t mean we\\'re out of the woods, however, as scammers are becoming more clever with the tactics they are using to scam Americans, \" said Patrick Falzon, General Manager at Teltech, creators of Robokiller. \"Robocalls may be decreasing in volume, but they\\'re costly. And, although Americans may enjoy a little reprieve from the volume of robocalls, the larger increase in robotexts means they are actually getting more phone spam overall. We suggest Americans have a robocall and robotext blocker on their phone like Robokiller to protect themselves from emerging scams.\" Surging robotexts are leading to greater fraud losses Robotexts increased 9% month over month, and Robokiller predicts this trend will continue for the remainder of the year, with losses already reaching $12 billion in 2023 (up 58% from 2022). Robokiller warns Americans to be cautious when receiving text messages from unknown numbers or those claiming to be well known businesses, especially if you\\'re not expecting that particular company to contact you. May 2023 key trends Top robotexts nationwide: In May, Americans were frequently targeted with delivery related messages that suggested they missed a delivery, needed to update their delivery preferences, or that a package was pending. Those messages often contained links that, once clicked, could ask them to provide personal information or install malware on their phones. However, not all robotexts were scams, as political messages are making their way to phones just ahead of next year\\'s presidential election and are anticipated to increase as election day draws near. Top robocalls nationwide: Even though robocalls may be on the decline, Americans need to be aware of more targeted robocall scams like the recent AI scams that impersonate a loved one in order to steal money or your personal information. While this scam is relatively new, this is another reason Americans should ignore calls from unknown numbers. Scammers play on vulnerabilities, and these scams can often lead to falling victim. Tips on how to stop phone scams:. Don\\'t answer calls or texts from unknown numbers, especially those who call or text at odd hours. Don\\'t follow prompts like \"Press 1\" or click any links. Never provide personal information like banking details or other sensitive information. Download a spam text and call blocker like Robokiller to equip your phone with the latest technology to stop scams. About Robokiller With more than 12 million downloads and $600 million in losses prevented, Robokiller is the leading independent spam call and text blocker. Robokiller has been named a technical and mobile achievement leader by the Webby Awards, Media Excellence, Best in Biz, and more. Robokiller was named the most effective solution to robocalls by the FTC. Robokiller\\'s robocall and spam text insights are powered by a global database of millions of phone scams and audio fingerprints. Robokiller\\'s proprietary data insights have been featured by The New York Times, ABC World News, NBC Nightly News, and many others. Robokiller is available for download in the Apple App Store and Google Play. Robokiller, a Teltech brand, is a division of Mosaic Group, an the company Company'"
      ]
     },
     "execution_count": 74,
     "metadata": {},
     "output_type": "execute_result"
    }
   ],
   "source": [
    "ld.loc[ld_mini.index[532], \"parsed_body\"]"
   ]
  },
  {
   "cell_type": "markdown",
   "id": "60b2ccc2-7969-4f4e-b576-e8084f9c1a2a",
   "metadata": {},
   "source": [
    "## Analyze impact of correction for standard deviation "
   ]
  },
  {
   "cell_type": "code",
   "execution_count": null,
   "id": "c50b4eea-f6e2-4b90-9db4-2b2db194af12",
   "metadata": {},
   "outputs": [],
   "source": [
    "import pandas as pd\n",
    "from src.config import config, MODEL_CONFIG\n",
    "import numpy as np"
   ]
  },
  {
   "cell_type": "code",
   "execution_count": null,
   "id": "0281595c-2f44-4108-8556-cd6b9af5341d",
   "metadata": {},
   "outputs": [],
   "source": [
    "dat: pd.DataFrame = pd.read_parquet(path=config.data.merged)"
   ]
  },
  {
   "cell_type": "code",
   "execution_count": 5,
   "id": "d04a8421-b6f6-4dda-a3e2-41831ed760ab",
   "metadata": {},
   "outputs": [
    {
     "data": {
      "text/plain": [
       "Index(['est_entry_time', 'est_exit_time', 'entry_time', 'exit_time', 'r',\n",
       "       'r_spy', 'unadj_entry_open', 'entry_is_too_far_apart',\n",
       "       'exit_is_too_far_apart', 'parsed_body', 'staleness', 'stocks',\n",
       "       'std_252', 'dollar_volume', 'r_intra_(t-1)', 'unadj_open', 'cond_vola',\n",
       "       'r_mkt_adj', 'z_score', 'z_score_class', 'sample_weights'],\n",
       "      dtype='object')"
      ]
     },
     "execution_count": 5,
     "metadata": {},
     "output_type": "execute_result"
    }
   ],
   "source": [
    "dat.columns"
   ]
  },
  {
   "cell_type": "code",
   "execution_count": 9,
   "id": "88a98363-5b89-483a-9b00-08601b68f77e",
   "metadata": {},
   "outputs": [],
   "source": [
    "X = dat[['r', 'r_spy', 'std_252', 'stocks', 'entry_time']]"
   ]
  },
  {
   "cell_type": "code",
   "execution_count": 12,
   "id": "c894e794-70cb-42ef-9394-0ededccb9117",
   "metadata": {},
   "outputs": [],
   "source": [
    "X.loc[:, 'mkt_adj'] = X['r'] - X['r_spy']"
   ]
  },
  {
   "cell_type": "code",
   "execution_count": 15,
   "id": "4ce8ce8a-c026-4d6e-8dd1-1ea7a21e7b55",
   "metadata": {},
   "outputs": [],
   "source": [
    "X = X.dropna()"
   ]
  },
  {
   "cell_type": "code",
   "execution_count": 17,
   "id": "939ff7a9-54ec-4cbe-856f-227927442424",
   "metadata": {},
   "outputs": [
    {
     "data": {
      "text/html": [
       "<div>\n",
       "<style scoped>\n",
       "    .dataframe tbody tr th:only-of-type {\n",
       "        vertical-align: middle;\n",
       "    }\n",
       "\n",
       "    .dataframe tbody tr th {\n",
       "        vertical-align: top;\n",
       "    }\n",
       "\n",
       "    .dataframe thead th {\n",
       "        text-align: right;\n",
       "    }\n",
       "</style>\n",
       "<table border=\"1\" class=\"dataframe\">\n",
       "  <thead>\n",
       "    <tr style=\"text-align: right;\">\n",
       "      <th></th>\n",
       "      <th>r</th>\n",
       "      <th>r_spy</th>\n",
       "      <th>std_252</th>\n",
       "      <th>mkt_adj</th>\n",
       "    </tr>\n",
       "  </thead>\n",
       "  <tbody>\n",
       "    <tr>\n",
       "      <th>count</th>\n",
       "      <td>2.337559e+06</td>\n",
       "      <td>2.337559e+06</td>\n",
       "      <td>2.337559e+06</td>\n",
       "      <td>2.337559e+06</td>\n",
       "    </tr>\n",
       "    <tr>\n",
       "      <th>mean</th>\n",
       "      <td>2.261430e-04</td>\n",
       "      <td>1.758870e-04</td>\n",
       "      <td>2.962545e-02</td>\n",
       "      <td>5.025593e-05</td>\n",
       "    </tr>\n",
       "    <tr>\n",
       "      <th>std</th>\n",
       "      <td>4.079177e-02</td>\n",
       "      <td>8.814592e-03</td>\n",
       "      <td>8.741242e-01</td>\n",
       "      <td>3.954428e-02</td>\n",
       "    </tr>\n",
       "    <tr>\n",
       "      <th>min</th>\n",
       "      <td>-8.825647e-01</td>\n",
       "      <td>-1.190273e-01</td>\n",
       "      <td>1.822642e-04</td>\n",
       "      <td>-8.848767e-01</td>\n",
       "    </tr>\n",
       "    <tr>\n",
       "      <th>25%</th>\n",
       "      <td>-1.253482e-02</td>\n",
       "      <td>-3.663569e-03</td>\n",
       "      <td>1.592303e-02</td>\n",
       "      <td>-1.129293e-02</td>\n",
       "    </tr>\n",
       "    <tr>\n",
       "      <th>50%</th>\n",
       "      <td>0.000000e+00</td>\n",
       "      <td>5.393307e-04</td>\n",
       "      <td>2.241463e-02</td>\n",
       "      <td>-1.961995e-04</td>\n",
       "    </tr>\n",
       "    <tr>\n",
       "      <th>75%</th>\n",
       "      <td>1.235995e-02</td>\n",
       "      <td>4.528339e-03</td>\n",
       "      <td>3.398496e-02</td>\n",
       "      <td>1.077793e-02</td>\n",
       "    </tr>\n",
       "    <tr>\n",
       "      <th>max</th>\n",
       "      <td>6.535211e+00</td>\n",
       "      <td>1.044661e-01</td>\n",
       "      <td>4.723933e+02</td>\n",
       "      <td>6.522799e+00</td>\n",
       "    </tr>\n",
       "  </tbody>\n",
       "</table>\n",
       "</div>"
      ],
      "text/plain": [
       "                  r         r_spy       std_252       mkt_adj\n",
       "count  2.337559e+06  2.337559e+06  2.337559e+06  2.337559e+06\n",
       "mean   2.261430e-04  1.758870e-04  2.962545e-02  5.025593e-05\n",
       "std    4.079177e-02  8.814592e-03  8.741242e-01  3.954428e-02\n",
       "min   -8.825647e-01 -1.190273e-01  1.822642e-04 -8.848767e-01\n",
       "25%   -1.253482e-02 -3.663569e-03  1.592303e-02 -1.129293e-02\n",
       "50%    0.000000e+00  5.393307e-04  2.241463e-02 -1.961995e-04\n",
       "75%    1.235995e-02  4.528339e-03  3.398496e-02  1.077793e-02\n",
       "max    6.535211e+00  1.044661e-01  4.723933e+02  6.522799e+00"
      ]
     },
     "execution_count": 17,
     "metadata": {},
     "output_type": "execute_result"
    }
   ],
   "source": [
    "X.describe()"
   ]
  },
  {
   "cell_type": "code",
   "execution_count": 18,
   "id": "8b7f3a54-7d3a-46b8-94db-3a1d478e8374",
   "metadata": {},
   "outputs": [
    {
     "name": "stderr",
     "output_type": "stream",
     "text": [
      "/scratch/SlurmTMP/sunms534.10881239/ipykernel_2837370/2975249423.py:1: SettingWithCopyWarning: \n",
      "A value is trying to be set on a copy of a slice from a DataFrame.\n",
      "Try using .loc[row_indexer,col_indexer] = value instead\n",
      "\n",
      "See the caveats in the documentation: https://pandas.pydata.org/pandas-docs/stable/user_guide/indexing.html#returning-a-view-versus-a-copy\n",
      "  X.loc[:, 'z_score'] = X['mkt_adj'] / X['std_252']\n"
     ]
    }
   ],
   "source": [
    "X.loc[:, 'z_score'] = X['mkt_adj'] / X['std_252']"
   ]
  },
  {
   "cell_type": "code",
   "execution_count": 20,
   "id": "b2a954ae-cf3e-43c0-96fb-a92ed6dd725e",
   "metadata": {},
   "outputs": [
    {
     "name": "stderr",
     "output_type": "stream",
     "text": [
      "/scratch/SlurmTMP/sunms534.10881239/ipykernel_2837370/373010617.py:1: SettingWithCopyWarning: \n",
      "A value is trying to be set on a copy of a slice from a DataFrame\n",
      "\n",
      "See the caveats in the documentation: https://pandas.pydata.org/pandas-docs/stable/user_guide/indexing.html#returning-a-view-versus-a-copy\n",
      "  X.sort_values('z_score', inplace=True)\n"
     ]
    }
   ],
   "source": [
    "X.sort_values('z_score', inplace=True)"
   ]
  },
  {
   "cell_type": "code",
   "execution_count": null,
   "id": "cfc86b41-72eb-46d9-b4fb-6abe280e0a59",
   "metadata": {},
   "outputs": [],
   "source": [
    "X"
   ]
  },
  {
   "cell_type": "code",
   "execution_count": 28,
   "id": "f69c0a09-c224-40b2-a23c-acb4a97d1218",
   "metadata": {},
   "outputs": [
    {
     "data": {
      "text/plain": [
       "count    2.337559e+06\n",
       "mean     1.480262e-04\n",
       "std      1.107952e+00\n",
       "min     -1.043610e+02\n",
       "25%     -4.966595e-01\n",
       "50%     -9.333168e-03\n",
       "75%      4.859626e-01\n",
       "max      1.195337e+02\n",
       "Name: z_score, dtype: float64"
      ]
     },
     "execution_count": 28,
     "metadata": {},
     "output_type": "execute_result"
    }
   ],
   "source": [
    "X['z_score'].describe()"
   ]
  },
  {
   "cell_type": "code",
   "execution_count": 29,
   "id": "90c54760-313d-43cd-aec7-6363e9e3661f",
   "metadata": {},
   "outputs": [],
   "source": [
    "X.loc[:, \"z_score\"] = X[\"z_score\"].clip(lower=X[\"z_score\"].quantile(0.05), upper=X[\"z_score\"].quantile(0.95))"
   ]
  },
  {
   "cell_type": "code",
   "execution_count": 30,
   "id": "55b50fdf-f3a5-473c-bdb9-3101cd30b8f8",
   "metadata": {},
   "outputs": [
    {
     "data": {
      "text/plain": [
       "count    2.337559e+06\n",
       "mean    -2.617431e-03\n",
       "std      7.952768e-01\n",
       "min     -1.577498e+00\n",
       "25%     -4.966595e-01\n",
       "50%     -9.333168e-03\n",
       "75%      4.859626e-01\n",
       "max      1.602021e+00\n",
       "Name: z_score, dtype: float64"
      ]
     },
     "execution_count": 30,
     "metadata": {},
     "output_type": "execute_result"
    }
   ],
   "source": [
    "X['z_score'].describe()"
   ]
  },
  {
   "cell_type": "markdown",
   "id": "e431915a-595a-4ea1-a849-d4df56cda550",
   "metadata": {},
   "source": [
    "Maximum ist 1.6, minimum ist -1.6 nach winsorisieren..."
   ]
  },
  {
   "cell_type": "markdown",
   "id": "e1d6805d-49c7-457e-9598-4a0302126f23",
   "metadata": {},
   "source": [
    "Problem, wenn wir mit std_252 standardisieren ist, dass es Wertpapiere (Aktien?) gibt mit sehr geringer Vola. Und weil wir die std von r nehmen, und nicht von r - r_spy bekommen wir unsinnige, viel zu große Werte heraus. -> Filtere minimale std_252 heraus."
   ]
  },
  {
   "cell_type": "code",
   "execution_count": 31,
   "id": "440ba9b3-3540-4f92-8482-e2cdba0fb4d0",
   "metadata": {},
   "outputs": [
    {
     "data": {
      "text/plain": [
       "count    2.337559e+06\n",
       "mean     2.962545e-02\n",
       "std      8.741242e-01\n",
       "min      1.822642e-04\n",
       "25%      1.592303e-02\n",
       "50%      2.241463e-02\n",
       "75%      3.398496e-02\n",
       "max      4.723933e+02\n",
       "Name: std_252, dtype: float64"
      ]
     },
     "execution_count": 31,
     "metadata": {},
     "output_type": "execute_result"
    }
   ],
   "source": [
    "X['std_252'].describe()"
   ]
  },
  {
   "cell_type": "code",
   "execution_count": null,
   "id": "f5b50446-f772-41a1-9164-04e1f5899f98",
   "metadata": {},
   "outputs": [],
   "source": [
    "X.sort_values('std_252')"
   ]
  },
  {
   "cell_type": "code",
   "execution_count": null,
   "id": "6a9b6a54-91f8-4a4a-8c9f-65fa9be55bb7",
   "metadata": {},
   "outputs": [],
   "source": [
    "learndat: pd.DataFrame = pd.read_parquet(path=config.data.learning_dataset)"
   ]
  },
  {
   "cell_type": "code",
   "execution_count": null,
   "id": "d08f343f-b113-441c-b6e0-c0191255f2be",
   "metadata": {},
   "outputs": [],
   "source": [
    "learndat.sort_values(\"z_score\")"
   ]
  },
  {
   "cell_type": "code",
   "execution_count": null,
   "id": "6d219c3b-5e24-437c-ad07-e4d67ce71eed",
   "metadata": {},
   "outputs": [],
   "source": [
    "learndat.z_score.describe()"
   ]
  },
  {
   "cell_type": "code",
   "execution_count": 38,
   "id": "c2352ab3-dfd4-415e-afc9-49d3e3df305f",
   "metadata": {},
   "outputs": [
    {
     "data": {
      "text/plain": [
       "count    954478.000000\n",
       "mean         -0.003496\n",
       "std           0.949972\n",
       "min        -104.360953\n",
       "25%          -0.497133\n",
       "50%          -0.002012\n",
       "75%           0.500479\n",
       "max         119.533666\n",
       "dtype: float64"
      ]
     },
     "execution_count": 38,
     "metadata": {},
     "output_type": "execute_result"
    }
   ],
   "source": [
    "(learndat.z_score/learndat.std_252).describe()"
   ]
  },
  {
   "cell_type": "markdown",
   "id": "bec7bf2f-670e-4668-aa97-976ca85b2c77",
   "metadata": {},
   "source": [
    "## Staleness analysis"
   ]
  },
  {
   "cell_type": "code",
   "execution_count": null,
   "id": "4e3d693c-4244-42e2-87a5-ba43b6dcf8ee",
   "metadata": {},
   "outputs": [],
   "source": [
    "dat: pd.DataFrame = pd.read_parquet(path=config.data.merged)\n",
    "\n",
    "def jaccard_similarity(str1, str2):\n",
    "    set1 = set(str1.split())\n",
    "    set2 = set(str2.split())\n",
    "    intersection = set1.intersection(set2)\n",
    "    union = set1.union(set2)\n",
    "    return len(intersection) / len(union)\n",
    "\n",
    "dataset = dat\n",
    "\n",
    "from tqdm.notebook import tqdm\n",
    "\n",
    "# To determine the freshness of news, I compare the similarity of each news article with all articles published in the previous three days.\n",
    "original_index_name = dataset.index.name\n",
    "for ticker in tqdm(list(set(dataset.stocks))[1:100], desc=\"stocks\"):\n",
    "    orig_sort_ticker_news = dataset[dataset.stocks == ticker]\n",
    "\n",
    "    # Using time sorted df makes for easier splicing later\n",
    "    ticker_news = orig_sort_ticker_news.reset_index().set_index(\"est_entry_time\").sort_index(ascending=True)\n",
    "    \n",
    "    # Set staleness of first news message to 0 \n",
    "    ticker_news.at[ticker_news.index[0], \"jaccard\"] = 0\n",
    "\n",
    "    for idx in orig_sort_ticker_news.index:\n",
    "        time = orig_sort_ticker_news.at[idx, 'est_entry_time']\n",
    "        previous_news = ticker_news.loc[(time-pd.DateOffset(days=3)):time-pd.DateOffset(minutes=1), \"parsed_body\"]\n",
    "        if len(previous_news) == 0:\n",
    "            ticker_news.at[time, \"jaccard\"] = 0\n",
    "        else:\n",
    "            current_str = orig_sort_ticker_news.at[idx, 'parsed_body']\n",
    "            previous_news = previous_news\n",
    "            jaccards = previous_news.apply(lambda x: jaccard_similarity(current_str, x))\n",
    "            ticker_news.loc[ticker_news[original_index_name] == idx, \"jaccard\"] = jaccards.max()\n",
    "            \n",
    "    ticker_news.set_index(original_index_name, inplace=True)\n",
    "    # Add entries to data set\n",
    "    dataset.loc[ticker_news.index, \"jaccard2\"] = ticker_news.loc[:, \"jaccard\"]"
   ]
  },
  {
   "cell_type": "code",
   "execution_count": 59,
   "id": "69bf556b-d62a-40ff-909b-9308aa9d920e",
   "metadata": {},
   "outputs": [],
   "source": [
    "tmp = dataset.dropna()"
   ]
  },
  {
   "cell_type": "code",
   "execution_count": 33,
   "id": "a31eff18-f189-4ce6-9c16-61c3d34717e1",
   "metadata": {},
   "outputs": [
    {
     "data": {
      "text/html": [
       "<div>\n",
       "<style scoped>\n",
       "    .dataframe tbody tr th:only-of-type {\n",
       "        vertical-align: middle;\n",
       "    }\n",
       "\n",
       "    .dataframe tbody tr th {\n",
       "        vertical-align: top;\n",
       "    }\n",
       "\n",
       "    .dataframe thead th {\n",
       "        text-align: right;\n",
       "    }\n",
       "</style>\n",
       "<table border=\"1\" class=\"dataframe\">\n",
       "  <thead>\n",
       "    <tr style=\"text-align: right;\">\n",
       "      <th></th>\n",
       "      <th>jaccard</th>\n",
       "      <th>staleness</th>\n",
       "    </tr>\n",
       "  </thead>\n",
       "  <tbody>\n",
       "    <tr>\n",
       "      <th>count</th>\n",
       "      <td>2.508859e+06</td>\n",
       "      <td>2.508859e+06</td>\n",
       "    </tr>\n",
       "    <tr>\n",
       "      <th>mean</th>\n",
       "      <td>2.551004e-01</td>\n",
       "      <td>6.638613e-01</td>\n",
       "    </tr>\n",
       "    <tr>\n",
       "      <th>std</th>\n",
       "      <td>3.450391e-01</td>\n",
       "      <td>4.696810e-01</td>\n",
       "    </tr>\n",
       "    <tr>\n",
       "      <th>min</th>\n",
       "      <td>0.000000e+00</td>\n",
       "      <td>0.000000e+00</td>\n",
       "    </tr>\n",
       "    <tr>\n",
       "      <th>25%</th>\n",
       "      <td>0.000000e+00</td>\n",
       "      <td>0.000000e+00</td>\n",
       "    </tr>\n",
       "    <tr>\n",
       "      <th>50%</th>\n",
       "      <td>1.081081e-01</td>\n",
       "      <td>9.997681e-01</td>\n",
       "    </tr>\n",
       "    <tr>\n",
       "      <th>75%</th>\n",
       "      <td>2.760181e-01</td>\n",
       "      <td>1.000000e+00</td>\n",
       "    </tr>\n",
       "    <tr>\n",
       "      <th>max</th>\n",
       "      <td>1.000000e+00</td>\n",
       "      <td>1.000000e+00</td>\n",
       "    </tr>\n",
       "  </tbody>\n",
       "</table>\n",
       "</div>"
      ],
      "text/plain": [
       "            jaccard     staleness\n",
       "count  2.508859e+06  2.508859e+06\n",
       "mean   2.551004e-01  6.638613e-01\n",
       "std    3.450391e-01  4.696810e-01\n",
       "min    0.000000e+00  0.000000e+00\n",
       "25%    0.000000e+00  0.000000e+00\n",
       "50%    1.081081e-01  9.997681e-01\n",
       "75%    2.760181e-01  1.000000e+00\n",
       "max    1.000000e+00  1.000000e+00"
      ]
     },
     "execution_count": 33,
     "metadata": {},
     "output_type": "execute_result"
    }
   ],
   "source": [
    "dataset[[\"jaccard\", \"staleness\", 'jaccard2']].describe()"
   ]
  },
  {
   "cell_type": "code",
   "execution_count": 34,
   "id": "ba022137-c21c-41c7-aecb-31bab9b776e0",
   "metadata": {},
   "outputs": [],
   "source": [
    "import plotly.express as px"
   ]
  },
  {
   "cell_type": "code",
   "execution_count": null,
   "id": "058f37b4-782a-4be0-aced-4ebbbb0b2263",
   "metadata": {},
   "outputs": [],
   "source": [
    "px.histogram(dataset[\"jaccard\"])"
   ]
  },
  {
   "cell_type": "code",
   "execution_count": null,
   "id": "c36b729c-112a-4236-8273-280085c24c91",
   "metadata": {},
   "outputs": [],
   "source": [
    "px.histogram(dataset[\"staleness\"])"
   ]
  },
  {
   "cell_type": "code",
   "execution_count": null,
   "id": "58fbedbc-4d0e-43f0-9777-912647d2eacf",
   "metadata": {
    "scrolled": true
   },
   "outputs": [],
   "source": [
    "dataset[dataset.stocks == \"ACCO\"].loc[39023:]"
   ]
  },
  {
   "cell_type": "code",
   "execution_count": 66,
   "id": "9ac48223-c064-4dd0-84fb-bef6ce9fd6ed",
   "metadata": {},
   "outputs": [],
   "source": [
    "jacc_df = tmp[tmp[\"jaccard2\"] == 1]"
   ]
  },
  {
   "cell_type": "code",
   "execution_count": null,
   "id": "ba4ed181-6f46-4afd-b41d-996d5d3db355",
   "metadata": {},
   "outputs": [],
   "source": [
    "jacc_df[jacc_df.stocks == \"ACCO\"]"
   ]
  },
  {
   "cell_type": "code",
   "execution_count": null,
   "id": "b17158c8-59c4-4247-a52c-767518c8f67b",
   "metadata": {},
   "outputs": [],
   "source": []
  }
 ],
 "metadata": {
  "kernelspec": {
   "display_name": "Python 3 (ipykernel)",
   "language": "python",
   "name": "python3"
  },
  "language_info": {
   "codemirror_mode": {
    "name": "ipython",
    "version": 3
   },
   "file_extension": ".py",
   "mimetype": "text/x-python",
   "name": "python",
   "nbconvert_exporter": "python",
   "pygments_lexer": "ipython3",
   "version": "3.11.7"
  }
 },
 "nbformat": 4,
 "nbformat_minor": 5
}
