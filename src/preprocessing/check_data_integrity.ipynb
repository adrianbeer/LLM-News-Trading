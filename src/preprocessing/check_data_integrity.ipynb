{
 "cells": [
  {
   "cell_type": "code",
   "execution_count": 1,
   "id": "e0a38ea4-3112-4c86-9a5b-628a49145ce3",
   "metadata": {},
   "outputs": [
    {
     "name": "stdout",
     "output_type": "stream",
     "text": [
      "/gxfs_work/cau/sunms534/trading_bot\n"
     ]
    },
    {
     "name": "stderr",
     "output_type": "stream",
     "text": [
      "/gxfs_work/cau/sunms534/.conda/envs/my_pytorch_env/lib/python3.11/site-packages/IPython/core/magics/osm.py:417: UserWarning: using dhist requires you to install the `pickleshare` library.\n",
      "  self.shell.db['dhist'] = compress_dhist(dhist)[-100:]\n"
     ]
    }
   ],
   "source": [
    "%cd /gxfs_work/cau/sunms534/trading_bot/"
   ]
  },
  {
   "cell_type": "code",
   "execution_count": 2,
   "id": "d9b81c5d-1c4e-48ef-abc9-666e8c54161d",
   "metadata": {},
   "outputs": [],
   "source": [
    "import pandas as pd \n",
    "import numpy as np\n",
    "from src.config import config, MODEL_CONFIG, PREP_CONFIG\n",
    "from transformers import AutoTokenizer"
   ]
  },
  {
   "cell_type": "code",
   "execution_count": 3,
   "id": "4ee59e81-5955-4a41-a24e-40bc18452c08",
   "metadata": {},
   "outputs": [],
   "source": [
    "# 1. Taking a look at cleaned dataset"
   ]
  },
  {
   "cell_type": "code",
   "execution_count": 4,
   "id": "fc1b5c68-b2d2-41fd-866f-f0fa33c10dd9",
   "metadata": {},
   "outputs": [],
   "source": [
    "stripped = pd.read_parquet(config.data.news.stripped)"
   ]
  },
  {
   "cell_type": "code",
   "execution_count": 5,
   "id": "a5874f10-a31d-44ad-8b23-aa021f820989",
   "metadata": {},
   "outputs": [
    {
     "data": {
      "text/plain": [
       "Index(['time', 'stocks', 'title', 'body', 'intra_day_time', 'channels',\n",
       "       'company_name', 'short_name', 'author', 'parsed_body', 'cls_token',\n",
       "       'staleness'],\n",
       "      dtype='object')"
      ]
     },
     "execution_count": 5,
     "metadata": {},
     "output_type": "execute_result"
    }
   ],
   "source": [
    "stripped.columns"
   ]
  },
  {
   "cell_type": "code",
   "execution_count": 6,
   "id": "301c7a21-09fe-403b-b815-4712df7f031b",
   "metadata": {},
   "outputs": [
    {
     "data": {
      "text/html": [
       "<div>\n",
       "<style scoped>\n",
       "    .dataframe tbody tr th:only-of-type {\n",
       "        vertical-align: middle;\n",
       "    }\n",
       "\n",
       "    .dataframe tbody tr th {\n",
       "        vertical-align: top;\n",
       "    }\n",
       "\n",
       "    .dataframe thead th {\n",
       "        text-align: right;\n",
       "    }\n",
       "</style>\n",
       "<table border=\"1\" class=\"dataframe\">\n",
       "  <thead>\n",
       "    <tr style=\"text-align: right;\">\n",
       "      <th></th>\n",
       "      <th>title</th>\n",
       "      <th>stocks</th>\n",
       "      <th>parsed_body</th>\n",
       "    </tr>\n",
       "    <tr>\n",
       "      <th>index</th>\n",
       "      <th></th>\n",
       "      <th></th>\n",
       "      <th></th>\n",
       "    </tr>\n",
       "  </thead>\n",
       "  <tbody>\n",
       "    <tr>\n",
       "      <th>4578113</th>\n",
       "      <td>Cybin Announces Renewed At-The-Market Equity P...</td>\n",
       "      <td>CYBN</td>\n",
       "      <td>the company  announces renewed atthemarket eq...</td>\n",
       "    </tr>\n",
       "    <tr>\n",
       "      <th>4578114</th>\n",
       "      <td>Environmental Icon Dr. Jane Goodall's Roots &amp; ...</td>\n",
       "      <td>TM</td>\n",
       "      <td>environmental icon dr jane goodalls roots  sho...</td>\n",
       "    </tr>\n",
       "    <tr>\n",
       "      <th>4578116</th>\n",
       "      <td>Chindata Group Unveils Pioneering Full-Stack S...</td>\n",
       "      <td>CD</td>\n",
       "      <td>chindata group unveils pioneering fullstack so...</td>\n",
       "    </tr>\n",
       "    <tr>\n",
       "      <th>4578117</th>\n",
       "      <td>Orbital Infrastructure Group Inc. Intends to E...</td>\n",
       "      <td>OIG</td>\n",
       "      <td>the company  inc intends to enter into purcha...</td>\n",
       "    </tr>\n",
       "    <tr>\n",
       "      <th>4578118</th>\n",
       "      <td>IBRX FINAL DEADLINE TUESDAY: ROSEN, TRUSTED IN...</td>\n",
       "      <td>IBRX</td>\n",
       "      <td>ibrx final deadline tuesday rosen trusted inve...</td>\n",
       "    </tr>\n",
       "  </tbody>\n",
       "</table>\n",
       "</div>"
      ],
      "text/plain": [
       "                                                     title stocks  \\\n",
       "index                                                               \n",
       "4578113  Cybin Announces Renewed At-The-Market Equity P...   CYBN   \n",
       "4578114  Environmental Icon Dr. Jane Goodall's Roots & ...     TM   \n",
       "4578116  Chindata Group Unveils Pioneering Full-Stack S...     CD   \n",
       "4578117  Orbital Infrastructure Group Inc. Intends to E...    OIG   \n",
       "4578118  IBRX FINAL DEADLINE TUESDAY: ROSEN, TRUSTED IN...   IBRX   \n",
       "\n",
       "                                               parsed_body  \n",
       "index                                                       \n",
       "4578113   the company  announces renewed atthemarket eq...  \n",
       "4578114  environmental icon dr jane goodalls roots  sho...  \n",
       "4578116  chindata group unveils pioneering fullstack so...  \n",
       "4578117   the company  inc intends to enter into purcha...  \n",
       "4578118  ibrx final deadline tuesday rosen trusted inve...  "
      ]
     },
     "execution_count": 6,
     "metadata": {},
     "output_type": "execute_result"
    }
   ],
   "source": [
    "stripped[[\"title\", \"stocks\", \"parsed_body\"]].tail()"
   ]
  },
  {
   "cell_type": "code",
   "execution_count": null,
   "id": "20cae158-e414-486f-ac38-e07fce31adb2",
   "metadata": {},
   "outputs": [],
   "source": [
    "# 2. Take a look at input_ids and if tokenizer works correctly"
   ]
  },
  {
   "cell_type": "code",
   "execution_count": 12,
   "id": "031bcb7c-91f5-4b5a-a13a-2ebc7b4fa7ce",
   "metadata": {},
   "outputs": [],
   "source": [
    "title_inputs_ids = pd.read_parquet(config.data.news.title_only.input_ids)"
   ]
  },
  {
   "cell_type": "code",
   "execution_count": 13,
   "id": "7b211b9f-8d9e-4305-902e-e68ac9dc641a",
   "metadata": {},
   "outputs": [],
   "source": [
    "ld = pd.read_parquet(config.data.learning_dataset)"
   ]
  },
  {
   "cell_type": "code",
   "execution_count": 14,
   "id": "6ace02da-14dc-4ec9-b48f-7a65ee83777b",
   "metadata": {},
   "outputs": [],
   "source": [
    "#cleaned = ld = pd.read_parquet(config.data.merged) # requires more memory"
   ]
  },
  {
   "cell_type": "code",
   "execution_count": 3,
   "id": "d972ac44-ac4e-4935-b81b-09b166e0c745",
   "metadata": {},
   "outputs": [],
   "source": [
    "tokenizer = AutoTokenizer.from_pretrained(PREP_CONFIG.tokenizer)"
   ]
  },
  {
   "cell_type": "code",
   "execution_count": 44,
   "id": "cf12f4eb-ac9c-47a2-852c-ce3145202ec8",
   "metadata": {},
   "outputs": [],
   "source": [
    "mask = ld.parsed_body.apply(lambda x: \"today announced\" in x)"
   ]
  },
  {
   "cell_type": "code",
   "execution_count": 47,
   "id": "81d5d1f3-91ec-4d2e-bcf7-dd406e83689e",
   "metadata": {},
   "outputs": [],
   "source": [
    "ld = ld[mask]"
   ]
  },
  {
   "cell_type": "code",
   "execution_count": 60,
   "id": "e071688d-a35f-48ba-b37a-6c2facd9b2a3",
   "metadata": {},
   "outputs": [
    {
     "name": "stdout",
     "output_type": "stream",
     "text": [
      "3944556\n",
      "BLK\n",
      "[CLS] [UNK] canada announces october cash distributions for the [UNK] etfs [SEP] [PAD] [PAD] [PAD] [PAD] [PAD] [PAD] [PAD] [PAD] [PAD] [PAD] [PAD] [PAD] [PAD] [PAD] [PAD] [PAD] [PAD] [PAD] [PAD] [PAD] \n",
      "\n",
      "BlackRock® Canada Announces October Cash Distributions for the iShares® ETFs. the company Asset Management Canada Limited , an indirect, wholly owned subsidiary of the company , today announced the October 2020 cash distributions for the iShares ETFs listed on the TSX or NEO which pay on a monthly basis. Unitholders of record of a fund will receive cash distributions payable in respect of that fund. As a fiduciary to investors and a leading provider of financial technology, our clients turn to us for the solutions they need when planning for their most important goals. As , the firm managed approximately US$7.81 trillion in assets on behalf of investors worldwide. With more than twenty years of experience, a global line up of 900+ exchange traded funds (ETFs) and US$2.32 trillion in assets under management as , iShares continues to drive progress for the financial industry. iShares funds are powered by the expert portfolio and risk management of the company , trusted to manage more money than any other investment firm1. 1 Based on US$7.81 trillion in AUM as of 9 30 20 iShares® ETFs are managed by the company Asset Management Canada Limited. Commissions, trailing commissions, management fees and expenses all may be associated with investing in iShares ETFs. Please read the relevant prospectus before investing. The funds are not guaranteed, their values change frequently and past performance may not be repeated. Tax, investment and all other decisions should be made, as appropriate, only with guidance from a qualified professional\n",
      "3 --- [CLS]\n",
      "2 --- [UNK]\n",
      "1158 --- canada\n",
      "15046 --- announces\n",
      "624 --- october\n",
      "50 --- cash\n",
      "1860 --- distributions\n",
      "14 --- for\n",
      "6 --- the\n",
      "2 --- [UNK]\n",
      "23293 --- etfs\n",
      "4 --- [SEP]\n",
      "0 --- [PAD]\n",
      "0 --- [PAD]\n",
      "0 --- [PAD]\n",
      "0 --- [PAD]\n",
      "0 --- [PAD]\n",
      "0 --- [PAD]\n",
      "0 --- [PAD]\n",
      "0 --- [PAD]\n",
      "0 --- [PAD]\n",
      "0 --- [PAD]\n",
      "0 --- [PAD]\n",
      "0 --- [PAD]\n",
      "0 --- [PAD]\n",
      "0 --- [PAD]\n",
      "0 --- [PAD]\n",
      "0 --- [PAD]\n",
      "0 --- [PAD]\n",
      "0 --- [PAD]\n",
      "0 --- [PAD]\n",
      "0 --- [PAD]\n"
     ]
    }
   ],
   "source": [
    "n = np.random.randint(0, ld.shape[0])\n",
    "index = ld.index[n]\n",
    "print(index)\n",
    "entry = title_inputs_ids.loc[index, :].values\n",
    "\n",
    "print(ld.loc[index, \"stocks\"])\n",
    "print(f\"{tokenizer.decode(entry)} \\n\")\n",
    "print(ld.loc[index, \"parsed_body\"])\n",
    "\n",
    "for x in entry:\n",
    "    print(f\"{x} --- {tokenizer.decode(x)}\")\n"
   ]
  },
  {
   "cell_type": "markdown",
   "id": "1c1bd24f-3ef4-4db3-ab74-6a23f77077f6",
   "metadata": {},
   "source": [
    "# Average number of token in news"
   ]
  },
  {
   "cell_type": "code",
   "execution_count": 4,
   "id": "5ede43a5-8b68-4354-a9bb-2e06a150e030",
   "metadata": {},
   "outputs": [],
   "source": [
    "title_inputs_ids = pd.read_parquet(config.data.news.input_ids)\n"
   ]
  },
  {
   "cell_type": "code",
   "execution_count": 5,
   "id": "8428caeb-256d-40bc-b6de-6b08b915ebc0",
   "metadata": {},
   "outputs": [],
   "source": [
    "n_padding = title_inputs_ids[title_inputs_ids == 0].sum(axis=1)"
   ]
  },
  {
   "cell_type": "code",
   "execution_count": null,
   "id": "859d055f-855d-4830-a0ce-c86eb62510a6",
   "metadata": {},
   "outputs": [],
   "source": []
  },
  {
   "cell_type": "markdown",
   "id": "2d7c0ba5-6b48-4a4e-ba7d-082430438dfe",
   "metadata": {},
   "source": [
    "# Predictions from Model"
   ]
  },
  {
   "cell_type": "code",
   "execution_count": 4,
   "id": "ba0a8987-71b4-44a1-8c2e-337196082884",
   "metadata": {},
   "outputs": [],
   "source": [
    "ld = pd.read_parquet(config.data.learning_dataset, columns=[\"z_score\", \"z_score_class\", \"parsed_body\"])\n",
    "title_inputs_ids = pd.read_parquet(config.data.news.title_only.input_ids)\n",
    "masks = pd.read_parquet(config.data.news.title_only.masks)"
   ]
  },
  {
   "cell_type": "code",
   "execution_count": 5,
   "id": "ce53113b-68ed-4143-bdb7-5ff1a8d4aa2e",
   "metadata": {},
   "outputs": [],
   "source": [
    "ld_mini = ld.iloc[-10000:,:]"
   ]
  },
  {
   "cell_type": "code",
   "execution_count": 6,
   "id": "299b026b-ebe1-443c-9fd6-eaa10405e319",
   "metadata": {},
   "outputs": [],
   "source": [
    "index = ld.index[0]"
   ]
  },
  {
   "cell_type": "code",
   "execution_count": 7,
   "id": "b0255cd9-5d69-4572-9317-20fcc753b855",
   "metadata": {},
   "outputs": [],
   "source": [
    "import torch\n",
    "import torch.nn.functional as F\n",
    "from tqdm.notebook import tqdm\n"
   ]
  },
  {
   "cell_type": "code",
   "execution_count": 21,
   "id": "500d3933-27bc-4194-a75a-4647a50dbcc4",
   "metadata": {},
   "outputs": [
    {
     "data": {
      "application/vnd.jupyter.widget-view+json": {
       "model_id": "e64c0d4765454afe9156747ccdca8985",
       "version_major": 2,
       "version_minor": 0
      },
      "text/plain": [
       "  0%|          | 0/10000 [00:00<?, ?it/s]"
      ]
     },
     "metadata": {},
     "output_type": "display_data"
    },
    {
     "name": "stderr",
     "output_type": "stream",
     "text": [
      "/scratch/SlurmTMP/sunms534.10715314/ipykernel_1460224/3251329861.py:14: UserWarning: Implicit dimension choice for softmax has been deprecated. Change the call to include dim=X as an argument.\n",
      "  probs = F.softmax(result.logits).numpy()\n"
     ]
    }
   ],
   "source": [
    "from transformers import AutoTokenizer, BertForSequenceClassification, BertTokenizer\n",
    "from transformers import pipeline\n",
    "\n",
    "finbert = BertForSequenceClassification.from_pretrained(\"/gxfs_work/cau/sunms534/trading_bot/data/models/ProsusAI/finbert\", num_labels=3, local_files_only=True)\n",
    "\n",
    "prob = []\n",
    "preds = []\n",
    "actuals = []\n",
    "with torch.no_grad():\n",
    "    for index in tqdm(ld_mini.index):\n",
    "        input_id = torch.tensor([title_inputs_ids.loc[index, :].tolist()], dtype=torch.int32)\n",
    "        mask = torch.tensor([masks.loc[index, :].tolist()])\n",
    "        result = finbert(input_id, mask)\n",
    "        probs = F.softmax(result.logits).numpy()\n",
    "        prob.append(probs.max())\n",
    "        preds.append((probs.argmax()  + 1) % 2)\n",
    "        actuals.append(ld.loc[index, \"z_score_class\"])\n",
    "        #print(result)  #LABEL_0: neutral; LABEL_1: positive; LABEL_2: negative"
   ]
  },
  {
   "cell_type": "code",
   "execution_count": 44,
   "id": "e8a07507-1a70-4af1-8f8f-2baba9802ed6",
   "metadata": {},
   "outputs": [
    {
     "name": "stderr",
     "output_type": "stream",
     "text": [
      "/scratch/SlurmTMP/sunms534.10715314/ipykernel_1460224/3628110247.py:1: UserWarning: Implicit dimension choice for softmax has been deprecated. Change the call to include dim=X as an argument.\n",
      "  F.softmax(result.logits).numpy().argmax()\n"
     ]
    },
    {
     "data": {
      "text/plain": [
       "0"
      ]
     },
     "execution_count": 44,
     "metadata": {},
     "output_type": "execute_result"
    }
   ],
   "source": [
    "F.softmax(result.logits).numpy().argmax()"
   ]
  },
  {
   "cell_type": "code",
   "execution_count": 75,
   "id": "c56829e3-c058-4896-92e4-b4ad2e3dcef5",
   "metadata": {},
   "outputs": [
    {
     "data": {
      "text/plain": [
       "'[CLS] robotexts increase while robocalls drop for third consecutive month, according to robokiller insights [SEP] [PAD] [PAD] [PAD] [PAD] [PAD] [PAD] [PAD] [PAD] [PAD] [PAD]'"
      ]
     },
     "execution_count": 75,
     "metadata": {},
     "output_type": "execute_result"
    }
   ],
   "source": [
    "tokenizer.decode(title_inputs_ids.loc[ld_mini.index[532]])"
   ]
  },
  {
   "cell_type": "code",
   "execution_count": 23,
   "id": "0a486847-9bc4-4885-b4d4-8d91c145444b",
   "metadata": {},
   "outputs": [
    {
     "data": {
      "text/plain": [
       "10000"
      ]
     },
     "execution_count": 23,
     "metadata": {},
     "output_type": "execute_result"
    }
   ],
   "source": [
    "len(preds)"
   ]
  },
  {
   "cell_type": "code",
   "execution_count": 58,
   "id": "e52c409a-784f-42be-9575-f18570769352",
   "metadata": {},
   "outputs": [],
   "source": [
    "df = pd.DataFrame(zip(preds,actuals, prob))"
   ]
  },
  {
   "cell_type": "code",
   "execution_count": 59,
   "id": "bd0a8835-abb9-4050-a937-56d2bc59943c",
   "metadata": {},
   "outputs": [
    {
     "data": {
      "text/plain": [
       "count    10000.000000\n",
       "mean         0.825836\n",
       "std          0.124616\n",
       "min          0.384929\n",
       "25%          0.757534\n",
       "50%          0.875642\n",
       "75%          0.923297\n",
       "max          0.969893\n",
       "Name: 2, dtype: float64"
      ]
     },
     "execution_count": 59,
     "metadata": {},
     "output_type": "execute_result"
    }
   ],
   "source": [
    "df.loc[:, 2].describe()"
   ]
  },
  {
   "cell_type": "code",
   "execution_count": 60,
   "id": "4ddbfdd8-147f-4541-ae93-b80f82555c95",
   "metadata": {},
   "outputs": [],
   "source": [
    "df = df[df.iloc[:, 2] > 0.95]"
   ]
  },
  {
   "cell_type": "code",
   "execution_count": 61,
   "id": "b0ef552d-e8f4-4cd3-aed7-8ad4542e7161",
   "metadata": {},
   "outputs": [
    {
     "data": {
      "text/plain": [
       "227"
      ]
     },
     "execution_count": 61,
     "metadata": {},
     "output_type": "execute_result"
    }
   ],
   "source": [
    "len(df)"
   ]
  },
  {
   "cell_type": "code",
   "execution_count": 62,
   "id": "1c12f712-d3e7-4229-a03b-b78d55b9fdc3",
   "metadata": {},
   "outputs": [
    {
     "data": {
      "text/plain": [
       "115"
      ]
     },
     "execution_count": 62,
     "metadata": {},
     "output_type": "execute_result"
    }
   ],
   "source": [
    "(df.iloc[:, 0] == df.iloc[:, 1]).sum()"
   ]
  },
  {
   "cell_type": "code",
   "execution_count": 63,
   "id": "e562de0c-26c1-4d5f-a27a-ebfecd3e0d5a",
   "metadata": {},
   "outputs": [
    {
     "data": {
      "text/plain": [
       "1\n",
       "1    119\n",
       "2     65\n",
       "0     43\n",
       "Name: count, dtype: int64"
      ]
     },
     "execution_count": 63,
     "metadata": {},
     "output_type": "execute_result"
    }
   ],
   "source": [
    "df.iloc[:, 1].value_counts()"
   ]
  },
  {
   "cell_type": "code",
   "execution_count": 64,
   "id": "689ca11b-bc72-44d2-af41-d10118dda45a",
   "metadata": {},
   "outputs": [
    {
     "data": {
      "text/plain": [
       "0\n",
       "1    210\n",
       "0     17\n",
       "Name: count, dtype: int64"
      ]
     },
     "execution_count": 64,
     "metadata": {},
     "output_type": "execute_result"
    }
   ],
   "source": [
    "df.iloc[:, 0].value_counts()"
   ]
  },
  {
   "cell_type": "code",
   "execution_count": 70,
   "id": "f2a6118e-cce3-4c63-afe9-5e9fc2a68248",
   "metadata": {},
   "outputs": [
    {
     "data": {
      "text/plain": [
       "532"
      ]
     },
     "execution_count": 70,
     "metadata": {},
     "output_type": "execute_result"
    }
   ],
   "source": [
    "df.iloc[:, 2].idxmax()"
   ]
  },
  {
   "cell_type": "code",
   "execution_count": 72,
   "id": "92fa4765-ba29-4a42-8356-5de7d2eb0ccb",
   "metadata": {},
   "outputs": [
    {
     "data": {
      "text/plain": [
       "0    0.000000\n",
       "1    1.000000\n",
       "2    0.969893\n",
       "Name: 532, dtype: float64"
      ]
     },
     "execution_count": 72,
     "metadata": {},
     "output_type": "execute_result"
    }
   ],
   "source": [
    "df.loc[532, :]"
   ]
  },
  {
   "cell_type": "code",
   "execution_count": 74,
   "id": "5f320933-c2ac-4dc5-8b8b-d64ab89d4e57",
   "metadata": {},
   "outputs": [
    {
     "data": {
      "text/plain": [
       "'Robotexts Increase While Robocalls Drop For Third Consecutive Month, According to Robokiller Insights. Americans received 14.2 billion robotexts and 4.6 billion robocalls in May, a 9% increase and 10% decrease, respectively, according to Robokiller Insights. The two categories continue to follow diverging paths — this marks the third consecutive month over month increase in SMS spam and the second consecutive month over month decrease in unwanted calls. Government anti robocall efforts continue to pay dividends The decrease in robocalls can be attributed largely to the government\\'s successful efforts to crack down on specific high volume robocalls. Yet, although the quantity of robocalls is dropping, the damage they cause is escalating. Americans have lost $29 billion to robocalls already in 2023, outpacing 2022\\'s record losses. Scammers are getting better results despite fewer calls, signifying they continue to refine their tactics and double down on scams that work. According to the FTC, the median amount lost to phone scams so far in 2023 is $1,286, more than the $1,000 from late 2022. \"As the FCC continues to successfully crack down on robocalls, Robokiller has confirmed yet another monthly decrease in spam call volume. That doesn\\'t mean we\\'re out of the woods, however, as scammers are becoming more clever with the tactics they are using to scam Americans, \" said Patrick Falzon, General Manager at Teltech, creators of Robokiller. \"Robocalls may be decreasing in volume, but they\\'re costly. And, although Americans may enjoy a little reprieve from the volume of robocalls, the larger increase in robotexts means they are actually getting more phone spam overall. We suggest Americans have a robocall and robotext blocker on their phone like Robokiller to protect themselves from emerging scams.\" Surging robotexts are leading to greater fraud losses Robotexts increased 9% month over month, and Robokiller predicts this trend will continue for the remainder of the year, with losses already reaching $12 billion in 2023 (up 58% from 2022). Robokiller warns Americans to be cautious when receiving text messages from unknown numbers or those claiming to be well known businesses, especially if you\\'re not expecting that particular company to contact you. May 2023 key trends Top robotexts nationwide: In May, Americans were frequently targeted with delivery related messages that suggested they missed a delivery, needed to update their delivery preferences, or that a package was pending. Those messages often contained links that, once clicked, could ask them to provide personal information or install malware on their phones. However, not all robotexts were scams, as political messages are making their way to phones just ahead of next year\\'s presidential election and are anticipated to increase as election day draws near. Top robocalls nationwide: Even though robocalls may be on the decline, Americans need to be aware of more targeted robocall scams like the recent AI scams that impersonate a loved one in order to steal money or your personal information. While this scam is relatively new, this is another reason Americans should ignore calls from unknown numbers. Scammers play on vulnerabilities, and these scams can often lead to falling victim. Tips on how to stop phone scams:. Don\\'t answer calls or texts from unknown numbers, especially those who call or text at odd hours. Don\\'t follow prompts like \"Press 1\" or click any links. Never provide personal information like banking details or other sensitive information. Download a spam text and call blocker like Robokiller to equip your phone with the latest technology to stop scams. About Robokiller With more than 12 million downloads and $600 million in losses prevented, Robokiller is the leading independent spam call and text blocker. Robokiller has been named a technical and mobile achievement leader by the Webby Awards, Media Excellence, Best in Biz, and more. Robokiller was named the most effective solution to robocalls by the FTC. Robokiller\\'s robocall and spam text insights are powered by a global database of millions of phone scams and audio fingerprints. Robokiller\\'s proprietary data insights have been featured by The New York Times, ABC World News, NBC Nightly News, and many others. Robokiller is available for download in the Apple App Store and Google Play. Robokiller, a Teltech brand, is a division of Mosaic Group, an the company Company'"
      ]
     },
     "execution_count": 74,
     "metadata": {},
     "output_type": "execute_result"
    }
   ],
   "source": [
    "ld.loc[ld_mini.index[532], \"parsed_body\"]"
   ]
  },
  {
   "cell_type": "markdown",
   "id": "60b2ccc2-7969-4f4e-b576-e8084f9c1a2a",
   "metadata": {},
   "source": [
    "## Analyze impact of correction for standard deviation "
   ]
  },
  {
   "cell_type": "code",
   "execution_count": null,
   "id": "63ff6916-a00b-4479-bbbe-7b6cc84a8493",
   "metadata": {},
   "outputs": [],
   "source": []
  },
  {
   "cell_type": "code",
   "execution_count": null,
   "id": "c50b4eea-f6e2-4b90-9db4-2b2db194af12",
   "metadata": {},
   "outputs": [],
   "source": [
    "import pandas as pd\n",
    "from src.config import config, MODEL_CONFIG\n",
    "import numpy as np"
   ]
  },
  {
   "cell_type": "code",
   "execution_count": null,
   "id": "0281595c-2f44-4108-8556-cd6b9af5341d",
   "metadata": {},
   "outputs": [],
   "source": [
    "dat: pd.DataFrame = pd.read_parquet(path=config.data.merged)"
   ]
  },
  {
   "cell_type": "code",
   "execution_count": 5,
   "id": "d04a8421-b6f6-4dda-a3e2-41831ed760ab",
   "metadata": {},
   "outputs": [
    {
     "data": {
      "text/plain": [
       "Index(['est_entry_time', 'est_exit_time', 'entry_time', 'exit_time', 'r',\n",
       "       'r_spy', 'unadj_entry_open', 'entry_is_too_far_apart',\n",
       "       'exit_is_too_far_apart', 'parsed_body', 'staleness', 'stocks',\n",
       "       'std_252', 'dollar_volume', 'r_intra_(t-1)', 'unadj_open', 'cond_vola',\n",
       "       'r_mkt_adj', 'z_score', 'z_score_class', 'sample_weights'],\n",
       "      dtype='object')"
      ]
     },
     "execution_count": 5,
     "metadata": {},
     "output_type": "execute_result"
    }
   ],
   "source": [
    "dat.columns"
   ]
  },
  {
   "cell_type": "code",
   "execution_count": 9,
   "id": "88a98363-5b89-483a-9b00-08601b68f77e",
   "metadata": {},
   "outputs": [],
   "source": [
    "X = dat[['r', 'r_spy', 'std_252', 'stocks', 'entry_time']]"
   ]
  },
  {
   "cell_type": "code",
   "execution_count": 12,
   "id": "c894e794-70cb-42ef-9394-0ededccb9117",
   "metadata": {},
   "outputs": [],
   "source": [
    "X.loc[:, 'mkt_adj'] = X['r'] - X['r_spy']"
   ]
  },
  {
   "cell_type": "code",
   "execution_count": 15,
   "id": "4ce8ce8a-c026-4d6e-8dd1-1ea7a21e7b55",
   "metadata": {},
   "outputs": [],
   "source": [
    "X = X.dropna()"
   ]
  },
  {
   "cell_type": "code",
   "execution_count": 17,
   "id": "939ff7a9-54ec-4cbe-856f-227927442424",
   "metadata": {},
   "outputs": [
    {
     "data": {
      "text/html": [
       "<div>\n",
       "<style scoped>\n",
       "    .dataframe tbody tr th:only-of-type {\n",
       "        vertical-align: middle;\n",
       "    }\n",
       "\n",
       "    .dataframe tbody tr th {\n",
       "        vertical-align: top;\n",
       "    }\n",
       "\n",
       "    .dataframe thead th {\n",
       "        text-align: right;\n",
       "    }\n",
       "</style>\n",
       "<table border=\"1\" class=\"dataframe\">\n",
       "  <thead>\n",
       "    <tr style=\"text-align: right;\">\n",
       "      <th></th>\n",
       "      <th>r</th>\n",
       "      <th>r_spy</th>\n",
       "      <th>std_252</th>\n",
       "      <th>mkt_adj</th>\n",
       "    </tr>\n",
       "  </thead>\n",
       "  <tbody>\n",
       "    <tr>\n",
       "      <th>count</th>\n",
       "      <td>2.337559e+06</td>\n",
       "      <td>2.337559e+06</td>\n",
       "      <td>2.337559e+06</td>\n",
       "      <td>2.337559e+06</td>\n",
       "    </tr>\n",
       "    <tr>\n",
       "      <th>mean</th>\n",
       "      <td>2.261430e-04</td>\n",
       "      <td>1.758870e-04</td>\n",
       "      <td>2.962545e-02</td>\n",
       "      <td>5.025593e-05</td>\n",
       "    </tr>\n",
       "    <tr>\n",
       "      <th>std</th>\n",
       "      <td>4.079177e-02</td>\n",
       "      <td>8.814592e-03</td>\n",
       "      <td>8.741242e-01</td>\n",
       "      <td>3.954428e-02</td>\n",
       "    </tr>\n",
       "    <tr>\n",
       "      <th>min</th>\n",
       "      <td>-8.825647e-01</td>\n",
       "      <td>-1.190273e-01</td>\n",
       "      <td>1.822642e-04</td>\n",
       "      <td>-8.848767e-01</td>\n",
       "    </tr>\n",
       "    <tr>\n",
       "      <th>25%</th>\n",
       "      <td>-1.253482e-02</td>\n",
       "      <td>-3.663569e-03</td>\n",
       "      <td>1.592303e-02</td>\n",
       "      <td>-1.129293e-02</td>\n",
       "    </tr>\n",
       "    <tr>\n",
       "      <th>50%</th>\n",
       "      <td>0.000000e+00</td>\n",
       "      <td>5.393307e-04</td>\n",
       "      <td>2.241463e-02</td>\n",
       "      <td>-1.961995e-04</td>\n",
       "    </tr>\n",
       "    <tr>\n",
       "      <th>75%</th>\n",
       "      <td>1.235995e-02</td>\n",
       "      <td>4.528339e-03</td>\n",
       "      <td>3.398496e-02</td>\n",
       "      <td>1.077793e-02</td>\n",
       "    </tr>\n",
       "    <tr>\n",
       "      <th>max</th>\n",
       "      <td>6.535211e+00</td>\n",
       "      <td>1.044661e-01</td>\n",
       "      <td>4.723933e+02</td>\n",
       "      <td>6.522799e+00</td>\n",
       "    </tr>\n",
       "  </tbody>\n",
       "</table>\n",
       "</div>"
      ],
      "text/plain": [
       "                  r         r_spy       std_252       mkt_adj\n",
       "count  2.337559e+06  2.337559e+06  2.337559e+06  2.337559e+06\n",
       "mean   2.261430e-04  1.758870e-04  2.962545e-02  5.025593e-05\n",
       "std    4.079177e-02  8.814592e-03  8.741242e-01  3.954428e-02\n",
       "min   -8.825647e-01 -1.190273e-01  1.822642e-04 -8.848767e-01\n",
       "25%   -1.253482e-02 -3.663569e-03  1.592303e-02 -1.129293e-02\n",
       "50%    0.000000e+00  5.393307e-04  2.241463e-02 -1.961995e-04\n",
       "75%    1.235995e-02  4.528339e-03  3.398496e-02  1.077793e-02\n",
       "max    6.535211e+00  1.044661e-01  4.723933e+02  6.522799e+00"
      ]
     },
     "execution_count": 17,
     "metadata": {},
     "output_type": "execute_result"
    }
   ],
   "source": [
    "X.describe()"
   ]
  },
  {
   "cell_type": "code",
   "execution_count": 18,
   "id": "8b7f3a54-7d3a-46b8-94db-3a1d478e8374",
   "metadata": {},
   "outputs": [
    {
     "name": "stderr",
     "output_type": "stream",
     "text": [
      "/scratch/SlurmTMP/sunms534.10881239/ipykernel_2837370/2975249423.py:1: SettingWithCopyWarning: \n",
      "A value is trying to be set on a copy of a slice from a DataFrame.\n",
      "Try using .loc[row_indexer,col_indexer] = value instead\n",
      "\n",
      "See the caveats in the documentation: https://pandas.pydata.org/pandas-docs/stable/user_guide/indexing.html#returning-a-view-versus-a-copy\n",
      "  X.loc[:, 'z_score'] = X['mkt_adj'] / X['std_252']\n"
     ]
    }
   ],
   "source": [
    "X.loc[:, 'z_score'] = X['mkt_adj'] / X['std_252']"
   ]
  },
  {
   "cell_type": "code",
   "execution_count": 20,
   "id": "b2a954ae-cf3e-43c0-96fb-a92ed6dd725e",
   "metadata": {},
   "outputs": [
    {
     "name": "stderr",
     "output_type": "stream",
     "text": [
      "/scratch/SlurmTMP/sunms534.10881239/ipykernel_2837370/373010617.py:1: SettingWithCopyWarning: \n",
      "A value is trying to be set on a copy of a slice from a DataFrame\n",
      "\n",
      "See the caveats in the documentation: https://pandas.pydata.org/pandas-docs/stable/user_guide/indexing.html#returning-a-view-versus-a-copy\n",
      "  X.sort_values('z_score', inplace=True)\n"
     ]
    }
   ],
   "source": [
    "X.sort_values('z_score', inplace=True)"
   ]
  },
  {
   "cell_type": "code",
   "execution_count": 21,
   "id": "cfc86b41-72eb-46d9-b4fb-6abe280e0a59",
   "metadata": {},
   "outputs": [
    {
     "data": {
      "text/html": [
       "<div>\n",
       "<style scoped>\n",
       "    .dataframe tbody tr th:only-of-type {\n",
       "        vertical-align: middle;\n",
       "    }\n",
       "\n",
       "    .dataframe tbody tr th {\n",
       "        vertical-align: top;\n",
       "    }\n",
       "\n",
       "    .dataframe thead th {\n",
       "        text-align: right;\n",
       "    }\n",
       "</style>\n",
       "<table border=\"1\" class=\"dataframe\">\n",
       "  <thead>\n",
       "    <tr style=\"text-align: right;\">\n",
       "      <th></th>\n",
       "      <th>r</th>\n",
       "      <th>r_spy</th>\n",
       "      <th>std_252</th>\n",
       "      <th>stocks</th>\n",
       "      <th>entry_time</th>\n",
       "      <th>mkt_adj</th>\n",
       "      <th>z_score</th>\n",
       "    </tr>\n",
       "    <tr>\n",
       "      <th>index</th>\n",
       "      <th></th>\n",
       "      <th></th>\n",
       "      <th></th>\n",
       "      <th></th>\n",
       "      <th></th>\n",
       "      <th></th>\n",
       "      <th></th>\n",
       "    </tr>\n",
       "  </thead>\n",
       "  <tbody>\n",
       "    <tr>\n",
       "      <th>4254414</th>\n",
       "      <td>0.000084</td>\n",
       "      <td>0.020043</td>\n",
       "      <td>0.000191</td>\n",
       "      <td>FTSM</td>\n",
       "      <td>2022-02-25 09:31:00-05:00</td>\n",
       "      <td>-0.019959</td>\n",
       "      <td>-104.360953</td>\n",
       "    </tr>\n",
       "    <tr>\n",
       "      <th>4236591</th>\n",
       "      <td>0.000000</td>\n",
       "      <td>0.018497</td>\n",
       "      <td>0.000190</td>\n",
       "      <td>FTSM</td>\n",
       "      <td>2022-01-31 09:31:00-05:00</td>\n",
       "      <td>-0.018497</td>\n",
       "      <td>-97.491017</td>\n",
       "    </tr>\n",
       "    <tr>\n",
       "      <th>4428595</th>\n",
       "      <td>0.000168</td>\n",
       "      <td>0.028950</td>\n",
       "      <td>0.000473</td>\n",
       "      <td>FTSM</td>\n",
       "      <td>2022-11-30 09:31:00-05:00</td>\n",
       "      <td>-0.028781</td>\n",
       "      <td>-60.812962</td>\n",
       "    </tr>\n",
       "    <tr>\n",
       "      <th>1067216</th>\n",
       "      <td>-0.000168</td>\n",
       "      <td>0.010046</td>\n",
       "      <td>0.000210</td>\n",
       "      <td>FTSM</td>\n",
       "      <td>2022-03-24 09:31:00-04:00</td>\n",
       "      <td>-0.010214</td>\n",
       "      <td>-48.708962</td>\n",
       "    </tr>\n",
       "    <tr>\n",
       "      <th>4352005</th>\n",
       "      <td>-0.000673</td>\n",
       "      <td>0.011286</td>\n",
       "      <td>0.000301</td>\n",
       "      <td>FTSM</td>\n",
       "      <td>2022-07-29 09:31:00-04:00</td>\n",
       "      <td>-0.011959</td>\n",
       "      <td>-39.721556</td>\n",
       "    </tr>\n",
       "    <tr>\n",
       "      <th>...</th>\n",
       "      <td>...</td>\n",
       "      <td>...</td>\n",
       "      <td>...</td>\n",
       "      <td>...</td>\n",
       "      <td>...</td>\n",
       "      <td>...</td>\n",
       "      <td>...</td>\n",
       "    </tr>\n",
       "    <tr>\n",
       "      <th>3796745</th>\n",
       "      <td>2.669869</td>\n",
       "      <td>0.001551</td>\n",
       "      <td>0.040814</td>\n",
       "      <td>RCON</td>\n",
       "      <td>2019-12-26 11:06:00-05:00</td>\n",
       "      <td>2.668318</td>\n",
       "      <td>65.377072</td>\n",
       "    </tr>\n",
       "    <tr>\n",
       "      <th>1067218</th>\n",
       "      <td>0.000167</td>\n",
       "      <td>-0.012177</td>\n",
       "      <td>0.000182</td>\n",
       "      <td>FTSM</td>\n",
       "      <td>2021-12-03 09:31:00-05:00</td>\n",
       "      <td>0.012345</td>\n",
       "      <td>67.728700</td>\n",
       "    </tr>\n",
       "    <tr>\n",
       "      <th>4161429</th>\n",
       "      <td>0.000083</td>\n",
       "      <td>-0.014148</td>\n",
       "      <td>0.000202</td>\n",
       "      <td>FTSM</td>\n",
       "      <td>2021-09-30 09:31:00-04:00</td>\n",
       "      <td>0.014232</td>\n",
       "      <td>70.398063</td>\n",
       "    </tr>\n",
       "    <tr>\n",
       "      <th>1067215</th>\n",
       "      <td>-0.000588</td>\n",
       "      <td>-0.017090</td>\n",
       "      <td>0.000226</td>\n",
       "      <td>FTSM</td>\n",
       "      <td>2022-05-10 09:31:00-04:00</td>\n",
       "      <td>0.016502</td>\n",
       "      <td>72.988882</td>\n",
       "    </tr>\n",
       "    <tr>\n",
       "      <th>4297607</th>\n",
       "      <td>0.000168</td>\n",
       "      <td>-0.025975</td>\n",
       "      <td>0.000219</td>\n",
       "      <td>FTSM</td>\n",
       "      <td>2022-04-29 09:31:00-04:00</td>\n",
       "      <td>0.026143</td>\n",
       "      <td>119.533666</td>\n",
       "    </tr>\n",
       "  </tbody>\n",
       "</table>\n",
       "<p>2337559 rows × 7 columns</p>\n",
       "</div>"
      ],
      "text/plain": [
       "                r     r_spy   std_252 stocks                entry_time  \\\n",
       "index                                                                    \n",
       "4254414  0.000084  0.020043  0.000191   FTSM 2022-02-25 09:31:00-05:00   \n",
       "4236591  0.000000  0.018497  0.000190   FTSM 2022-01-31 09:31:00-05:00   \n",
       "4428595  0.000168  0.028950  0.000473   FTSM 2022-11-30 09:31:00-05:00   \n",
       "1067216 -0.000168  0.010046  0.000210   FTSM 2022-03-24 09:31:00-04:00   \n",
       "4352005 -0.000673  0.011286  0.000301   FTSM 2022-07-29 09:31:00-04:00   \n",
       "...           ...       ...       ...    ...                       ...   \n",
       "3796745  2.669869  0.001551  0.040814   RCON 2019-12-26 11:06:00-05:00   \n",
       "1067218  0.000167 -0.012177  0.000182   FTSM 2021-12-03 09:31:00-05:00   \n",
       "4161429  0.000083 -0.014148  0.000202   FTSM 2021-09-30 09:31:00-04:00   \n",
       "1067215 -0.000588 -0.017090  0.000226   FTSM 2022-05-10 09:31:00-04:00   \n",
       "4297607  0.000168 -0.025975  0.000219   FTSM 2022-04-29 09:31:00-04:00   \n",
       "\n",
       "          mkt_adj     z_score  \n",
       "index                          \n",
       "4254414 -0.019959 -104.360953  \n",
       "4236591 -0.018497  -97.491017  \n",
       "4428595 -0.028781  -60.812962  \n",
       "1067216 -0.010214  -48.708962  \n",
       "4352005 -0.011959  -39.721556  \n",
       "...           ...         ...  \n",
       "3796745  2.668318   65.377072  \n",
       "1067218  0.012345   67.728700  \n",
       "4161429  0.014232   70.398063  \n",
       "1067215  0.016502   72.988882  \n",
       "4297607  0.026143  119.533666  \n",
       "\n",
       "[2337559 rows x 7 columns]"
      ]
     },
     "execution_count": 21,
     "metadata": {},
     "output_type": "execute_result"
    }
   ],
   "source": [
    "X"
   ]
  },
  {
   "cell_type": "code",
   "execution_count": 28,
   "id": "f69c0a09-c224-40b2-a23c-acb4a97d1218",
   "metadata": {},
   "outputs": [
    {
     "data": {
      "text/plain": [
       "count    2.337559e+06\n",
       "mean     1.480262e-04\n",
       "std      1.107952e+00\n",
       "min     -1.043610e+02\n",
       "25%     -4.966595e-01\n",
       "50%     -9.333168e-03\n",
       "75%      4.859626e-01\n",
       "max      1.195337e+02\n",
       "Name: z_score, dtype: float64"
      ]
     },
     "execution_count": 28,
     "metadata": {},
     "output_type": "execute_result"
    }
   ],
   "source": [
    "X['z_score'].describe()"
   ]
  },
  {
   "cell_type": "code",
   "execution_count": 29,
   "id": "90c54760-313d-43cd-aec7-6363e9e3661f",
   "metadata": {},
   "outputs": [],
   "source": [
    "X.loc[:, \"z_score\"] = X[\"z_score\"].clip(lower=X[\"z_score\"].quantile(0.05), upper=X[\"z_score\"].quantile(0.95))"
   ]
  },
  {
   "cell_type": "code",
   "execution_count": 30,
   "id": "55b50fdf-f3a5-473c-bdb9-3101cd30b8f8",
   "metadata": {},
   "outputs": [
    {
     "data": {
      "text/plain": [
       "count    2.337559e+06\n",
       "mean    -2.617431e-03\n",
       "std      7.952768e-01\n",
       "min     -1.577498e+00\n",
       "25%     -4.966595e-01\n",
       "50%     -9.333168e-03\n",
       "75%      4.859626e-01\n",
       "max      1.602021e+00\n",
       "Name: z_score, dtype: float64"
      ]
     },
     "execution_count": 30,
     "metadata": {},
     "output_type": "execute_result"
    }
   ],
   "source": [
    "X['z_score'].describe()"
   ]
  },
  {
   "cell_type": "markdown",
   "id": "e431915a-595a-4ea1-a849-d4df56cda550",
   "metadata": {},
   "source": [
    "Maximum ist 1.6, minimum ist -1.6 nach winsorisieren..."
   ]
  },
  {
   "cell_type": "markdown",
   "id": "e1d6805d-49c7-457e-9598-4a0302126f23",
   "metadata": {},
   "source": [
    "Problem, wenn wir mit std_252 standardisieren ist, dass es Wertpapiere (Aktien?) gibt mit sehr geringer Vola. Und weil wir die std von r nehmen, und nicht von r - r_spy bekommen wir unsinnige, viel zu große Werte heraus. -> Filtere minimale std_252 heraus."
   ]
  },
  {
   "cell_type": "code",
   "execution_count": 31,
   "id": "440ba9b3-3540-4f92-8482-e2cdba0fb4d0",
   "metadata": {},
   "outputs": [
    {
     "data": {
      "text/plain": [
       "count    2.337559e+06\n",
       "mean     2.962545e-02\n",
       "std      8.741242e-01\n",
       "min      1.822642e-04\n",
       "25%      1.592303e-02\n",
       "50%      2.241463e-02\n",
       "75%      3.398496e-02\n",
       "max      4.723933e+02\n",
       "Name: std_252, dtype: float64"
      ]
     },
     "execution_count": 31,
     "metadata": {},
     "output_type": "execute_result"
    }
   ],
   "source": [
    "X['std_252'].describe()"
   ]
  },
  {
   "cell_type": "code",
   "execution_count": 27,
   "id": "f5b50446-f772-41a1-9164-04e1f5899f98",
   "metadata": {},
   "outputs": [
    {
     "data": {
      "text/html": [
       "<div>\n",
       "<style scoped>\n",
       "    .dataframe tbody tr th:only-of-type {\n",
       "        vertical-align: middle;\n",
       "    }\n",
       "\n",
       "    .dataframe tbody tr th {\n",
       "        vertical-align: top;\n",
       "    }\n",
       "\n",
       "    .dataframe thead th {\n",
       "        text-align: right;\n",
       "    }\n",
       "</style>\n",
       "<table border=\"1\" class=\"dataframe\">\n",
       "  <thead>\n",
       "    <tr style=\"text-align: right;\">\n",
       "      <th></th>\n",
       "      <th>r</th>\n",
       "      <th>r_spy</th>\n",
       "      <th>std_252</th>\n",
       "      <th>stocks</th>\n",
       "      <th>entry_time</th>\n",
       "      <th>mkt_adj</th>\n",
       "      <th>z_score</th>\n",
       "    </tr>\n",
       "    <tr>\n",
       "      <th>index</th>\n",
       "      <th></th>\n",
       "      <th></th>\n",
       "      <th></th>\n",
       "      <th></th>\n",
       "      <th></th>\n",
       "      <th></th>\n",
       "      <th></th>\n",
       "    </tr>\n",
       "  </thead>\n",
       "  <tbody>\n",
       "    <tr>\n",
       "      <th>1067218</th>\n",
       "      <td>0.000167</td>\n",
       "      <td>-0.012177</td>\n",
       "      <td>0.000182</td>\n",
       "      <td>FTSM</td>\n",
       "      <td>2021-12-03 09:31:00-05:00</td>\n",
       "      <td>0.012345</td>\n",
       "      <td>67.728700</td>\n",
       "    </tr>\n",
       "    <tr>\n",
       "      <th>4203383</th>\n",
       "      <td>-0.000084</td>\n",
       "      <td>-0.010544</td>\n",
       "      <td>0.000182</td>\n",
       "      <td>FTSM</td>\n",
       "      <td>2021-11-30 09:31:00-05:00</td>\n",
       "      <td>0.010461</td>\n",
       "      <td>57.334128</td>\n",
       "    </tr>\n",
       "    <tr>\n",
       "      <th>4180641</th>\n",
       "      <td>0.000084</td>\n",
       "      <td>0.006958</td>\n",
       "      <td>0.000185</td>\n",
       "      <td>FTSM</td>\n",
       "      <td>2021-10-29 09:31:00-04:00</td>\n",
       "      <td>-0.006875</td>\n",
       "      <td>-37.152865</td>\n",
       "    </tr>\n",
       "    <tr>\n",
       "      <th>4236591</th>\n",
       "      <td>0.000000</td>\n",
       "      <td>0.018497</td>\n",
       "      <td>0.000190</td>\n",
       "      <td>FTSM</td>\n",
       "      <td>2022-01-31 09:31:00-05:00</td>\n",
       "      <td>-0.018497</td>\n",
       "      <td>-97.491017</td>\n",
       "    </tr>\n",
       "    <tr>\n",
       "      <th>4254414</th>\n",
       "      <td>0.000084</td>\n",
       "      <td>0.020043</td>\n",
       "      <td>0.000191</td>\n",
       "      <td>FTSM</td>\n",
       "      <td>2022-02-25 09:31:00-05:00</td>\n",
       "      <td>-0.019959</td>\n",
       "      <td>-104.360953</td>\n",
       "    </tr>\n",
       "    <tr>\n",
       "      <th>...</th>\n",
       "      <td>...</td>\n",
       "      <td>...</td>\n",
       "      <td>...</td>\n",
       "      <td>...</td>\n",
       "      <td>...</td>\n",
       "      <td>...</td>\n",
       "      <td>...</td>\n",
       "    </tr>\n",
       "    <tr>\n",
       "      <th>3042698</th>\n",
       "      <td>0.018086</td>\n",
       "      <td>0.004291</td>\n",
       "      <td>472.393155</td>\n",
       "      <td>IDN</td>\n",
       "      <td>2015-04-22 09:42:00-04:00</td>\n",
       "      <td>0.013795</td>\n",
       "      <td>0.000029</td>\n",
       "    </tr>\n",
       "    <tr>\n",
       "      <th>3044272</th>\n",
       "      <td>0.012579</td>\n",
       "      <td>-0.003499</td>\n",
       "      <td>472.393159</td>\n",
       "      <td>IDN</td>\n",
       "      <td>2015-04-24 10:40:00-04:00</td>\n",
       "      <td>0.016077</td>\n",
       "      <td>0.000034</td>\n",
       "    </tr>\n",
       "    <tr>\n",
       "      <th>3029747</th>\n",
       "      <td>0.065789</td>\n",
       "      <td>0.001155</td>\n",
       "      <td>472.393187</td>\n",
       "      <td>IDN</td>\n",
       "      <td>2015-03-17 09:35:00-04:00</td>\n",
       "      <td>0.064634</td>\n",
       "      <td>0.000137</td>\n",
       "    </tr>\n",
       "    <tr>\n",
       "      <th>3034277</th>\n",
       "      <td>-0.065868</td>\n",
       "      <td>-0.001737</td>\n",
       "      <td>472.393219</td>\n",
       "      <td>IDN</td>\n",
       "      <td>2015-03-31 09:32:00-04:00</td>\n",
       "      <td>-0.064131</td>\n",
       "      <td>-0.000136</td>\n",
       "    </tr>\n",
       "    <tr>\n",
       "      <th>3032008</th>\n",
       "      <td>0.013245</td>\n",
       "      <td>-0.005430</td>\n",
       "      <td>472.393349</td>\n",
       "      <td>IDN</td>\n",
       "      <td>2015-03-24 09:35:00-04:00</td>\n",
       "      <td>0.018675</td>\n",
       "      <td>0.000040</td>\n",
       "    </tr>\n",
       "  </tbody>\n",
       "</table>\n",
       "<p>2337559 rows × 7 columns</p>\n",
       "</div>"
      ],
      "text/plain": [
       "                r     r_spy     std_252 stocks                entry_time  \\\n",
       "index                                                                      \n",
       "1067218  0.000167 -0.012177    0.000182   FTSM 2021-12-03 09:31:00-05:00   \n",
       "4203383 -0.000084 -0.010544    0.000182   FTSM 2021-11-30 09:31:00-05:00   \n",
       "4180641  0.000084  0.006958    0.000185   FTSM 2021-10-29 09:31:00-04:00   \n",
       "4236591  0.000000  0.018497    0.000190   FTSM 2022-01-31 09:31:00-05:00   \n",
       "4254414  0.000084  0.020043    0.000191   FTSM 2022-02-25 09:31:00-05:00   \n",
       "...           ...       ...         ...    ...                       ...   \n",
       "3042698  0.018086  0.004291  472.393155    IDN 2015-04-22 09:42:00-04:00   \n",
       "3044272  0.012579 -0.003499  472.393159    IDN 2015-04-24 10:40:00-04:00   \n",
       "3029747  0.065789  0.001155  472.393187    IDN 2015-03-17 09:35:00-04:00   \n",
       "3034277 -0.065868 -0.001737  472.393219    IDN 2015-03-31 09:32:00-04:00   \n",
       "3032008  0.013245 -0.005430  472.393349    IDN 2015-03-24 09:35:00-04:00   \n",
       "\n",
       "          mkt_adj     z_score  \n",
       "index                          \n",
       "1067218  0.012345   67.728700  \n",
       "4203383  0.010461   57.334128  \n",
       "4180641 -0.006875  -37.152865  \n",
       "4236591 -0.018497  -97.491017  \n",
       "4254414 -0.019959 -104.360953  \n",
       "...           ...         ...  \n",
       "3042698  0.013795    0.000029  \n",
       "3044272  0.016077    0.000034  \n",
       "3029747  0.064634    0.000137  \n",
       "3034277 -0.064131   -0.000136  \n",
       "3032008  0.018675    0.000040  \n",
       "\n",
       "[2337559 rows x 7 columns]"
      ]
     },
     "execution_count": 27,
     "metadata": {},
     "output_type": "execute_result"
    }
   ],
   "source": [
    "X.sort_values('std_252')"
   ]
  },
  {
   "cell_type": "code",
   "execution_count": 40,
   "id": "6a9b6a54-91f8-4a4a-8c9f-65fa9be55bb7",
   "metadata": {},
   "outputs": [],
   "source": [
    "learndat: pd.DataFrame = pd.read_parquet(path=config.data.learning_dataset)"
   ]
  },
  {
   "cell_type": "code",
   "execution_count": 39,
   "id": "d08f343f-b113-441c-b6e0-c0191255f2be",
   "metadata": {},
   "outputs": [
    {
     "data": {
      "text/html": [
       "<div>\n",
       "<style scoped>\n",
       "    .dataframe tbody tr th:only-of-type {\n",
       "        vertical-align: middle;\n",
       "    }\n",
       "\n",
       "    .dataframe tbody tr th {\n",
       "        vertical-align: top;\n",
       "    }\n",
       "\n",
       "    .dataframe thead th {\n",
       "        text-align: right;\n",
       "    }\n",
       "</style>\n",
       "<table border=\"1\" class=\"dataframe\">\n",
       "  <thead>\n",
       "    <tr style=\"text-align: right;\">\n",
       "      <th></th>\n",
       "      <th>est_entry_time</th>\n",
       "      <th>est_exit_time</th>\n",
       "      <th>entry_time</th>\n",
       "      <th>exit_time</th>\n",
       "      <th>r</th>\n",
       "      <th>r_spy</th>\n",
       "      <th>unadj_entry_open</th>\n",
       "      <th>entry_is_too_far_apart</th>\n",
       "      <th>exit_is_too_far_apart</th>\n",
       "      <th>parsed_body</th>\n",
       "      <th>...</th>\n",
       "      <th>std_252</th>\n",
       "      <th>dollar_volume</th>\n",
       "      <th>r_intra_(t-1)</th>\n",
       "      <th>unadj_open</th>\n",
       "      <th>cond_vola</th>\n",
       "      <th>r_mkt_adj</th>\n",
       "      <th>z_score</th>\n",
       "      <th>z_score_class</th>\n",
       "      <th>sample_weights</th>\n",
       "      <th>split</th>\n",
       "    </tr>\n",
       "    <tr>\n",
       "      <th>index</th>\n",
       "      <th></th>\n",
       "      <th></th>\n",
       "      <th></th>\n",
       "      <th></th>\n",
       "      <th></th>\n",
       "      <th></th>\n",
       "      <th></th>\n",
       "      <th></th>\n",
       "      <th></th>\n",
       "      <th></th>\n",
       "      <th></th>\n",
       "      <th></th>\n",
       "      <th></th>\n",
       "      <th></th>\n",
       "      <th></th>\n",
       "      <th></th>\n",
       "      <th></th>\n",
       "      <th></th>\n",
       "      <th></th>\n",
       "      <th></th>\n",
       "      <th></th>\n",
       "    </tr>\n",
       "  </thead>\n",
       "  <tbody>\n",
       "    <tr>\n",
       "      <th>3537527</th>\n",
       "      <td>2018-06-15 09:31:00-04:00</td>\n",
       "      <td>2018-06-15 16:01:00-04:00</td>\n",
       "      <td>2018-06-15 09:31:00-04:00</td>\n",
       "      <td>2018-06-15 16:01:00-04:00</td>\n",
       "      <td>-0.054398</td>\n",
       "      <td>0.001953</td>\n",
       "      <td>49.45</td>\n",
       "      <td>False</td>\n",
       "      <td>False</td>\n",
       "      <td>Steel Dynamics Provides Second Quarter 2018 Ea...</td>\n",
       "      <td>...</td>\n",
       "      <td>0.018048</td>\n",
       "      <td>828416.205000</td>\n",
       "      <td>-0.003457</td>\n",
       "      <td>49.45</td>\n",
       "      <td>0.020124</td>\n",
       "      <td>-0.056352</td>\n",
       "      <td>-0.053765</td>\n",
       "      <td>0</td>\n",
       "      <td>0.765191</td>\n",
       "      <td>training</td>\n",
       "    </tr>\n",
       "    <tr>\n",
       "      <th>213410</th>\n",
       "      <td>2022-03-15 09:31:00-04:00</td>\n",
       "      <td>2022-03-15 16:01:00-04:00</td>\n",
       "      <td>2022-03-15 09:31:00-04:00</td>\n",
       "      <td>2022-03-15 16:01:00-04:00</td>\n",
       "      <td>-0.122239</td>\n",
       "      <td>0.013514</td>\n",
       "      <td>33.05</td>\n",
       "      <td>False</td>\n",
       "      <td>False</td>\n",
       "      <td>ANI Pharma Q4 Adj. Profit Declines. RTTNews)  ...</td>\n",
       "      <td>...</td>\n",
       "      <td>0.043979</td>\n",
       "      <td>80336.931489</td>\n",
       "      <td>-0.021674</td>\n",
       "      <td>33.05</td>\n",
       "      <td>0.114946</td>\n",
       "      <td>-0.135753</td>\n",
       "      <td>-0.053765</td>\n",
       "      <td>0</td>\n",
       "      <td>0.277347</td>\n",
       "      <td>training</td>\n",
       "    </tr>\n",
       "    <tr>\n",
       "      <th>213386</th>\n",
       "      <td>2022-11-09 09:31:00-05:00</td>\n",
       "      <td>2022-11-09 16:01:00-05:00</td>\n",
       "      <td>2022-11-09 09:31:00-05:00</td>\n",
       "      <td>2022-11-09 16:01:00-05:00</td>\n",
       "      <td>-0.110143</td>\n",
       "      <td>-0.014353</td>\n",
       "      <td>39.04</td>\n",
       "      <td>False</td>\n",
       "      <td>False</td>\n",
       "      <td>ANI Pharmaceuticals (ANIP) Surpasses Q3 Earnin...</td>\n",
       "      <td>...</td>\n",
       "      <td>0.030984</td>\n",
       "      <td>33667.720674</td>\n",
       "      <td>0.005255</td>\n",
       "      <td>39.04</td>\n",
       "      <td>0.055847</td>\n",
       "      <td>-0.095790</td>\n",
       "      <td>-0.053765</td>\n",
       "      <td>0</td>\n",
       "      <td>0.263123</td>\n",
       "      <td>training</td>\n",
       "    </tr>\n",
       "    <tr>\n",
       "      <th>213385</th>\n",
       "      <td>2022-11-09 09:31:00-05:00</td>\n",
       "      <td>2022-11-09 16:01:00-05:00</td>\n",
       "      <td>2022-11-09 09:31:00-05:00</td>\n",
       "      <td>2022-11-09 16:01:00-05:00</td>\n",
       "      <td>-0.110143</td>\n",
       "      <td>-0.014353</td>\n",
       "      <td>39.04</td>\n",
       "      <td>False</td>\n",
       "      <td>False</td>\n",
       "      <td>ANI Pharmaceuticals, Inc. Q3 Earnings Summary....</td>\n",
       "      <td>...</td>\n",
       "      <td>0.030984</td>\n",
       "      <td>33667.720674</td>\n",
       "      <td>0.005255</td>\n",
       "      <td>39.04</td>\n",
       "      <td>0.055847</td>\n",
       "      <td>-0.095790</td>\n",
       "      <td>-0.053765</td>\n",
       "      <td>0</td>\n",
       "      <td>0.263123</td>\n",
       "      <td>training</td>\n",
       "    </tr>\n",
       "    <tr>\n",
       "      <th>213384</th>\n",
       "      <td>2022-11-09 09:31:00-05:00</td>\n",
       "      <td>2022-11-09 16:01:00-05:00</td>\n",
       "      <td>2022-11-09 09:31:00-05:00</td>\n",
       "      <td>2022-11-09 16:01:00-05:00</td>\n",
       "      <td>-0.110143</td>\n",
       "      <td>-0.014353</td>\n",
       "      <td>39.04</td>\n",
       "      <td>False</td>\n",
       "      <td>False</td>\n",
       "      <td>ANI Pharmaceuticals Q3 22 Earnings Conference ...</td>\n",
       "      <td>...</td>\n",
       "      <td>0.030984</td>\n",
       "      <td>33667.720674</td>\n",
       "      <td>0.005255</td>\n",
       "      <td>39.04</td>\n",
       "      <td>0.055847</td>\n",
       "      <td>-0.095790</td>\n",
       "      <td>-0.053765</td>\n",
       "      <td>0</td>\n",
       "      <td>0.263123</td>\n",
       "      <td>training</td>\n",
       "    </tr>\n",
       "    <tr>\n",
       "      <th>...</th>\n",
       "      <td>...</td>\n",
       "      <td>...</td>\n",
       "      <td>...</td>\n",
       "      <td>...</td>\n",
       "      <td>...</td>\n",
       "      <td>...</td>\n",
       "      <td>...</td>\n",
       "      <td>...</td>\n",
       "      <td>...</td>\n",
       "      <td>...</td>\n",
       "      <td>...</td>\n",
       "      <td>...</td>\n",
       "      <td>...</td>\n",
       "      <td>...</td>\n",
       "      <td>...</td>\n",
       "      <td>...</td>\n",
       "      <td>...</td>\n",
       "      <td>...</td>\n",
       "      <td>...</td>\n",
       "      <td>...</td>\n",
       "      <td>...</td>\n",
       "    </tr>\n",
       "    <tr>\n",
       "      <th>3477071</th>\n",
       "      <td>2018-02-20 09:31:00-05:00</td>\n",
       "      <td>2018-02-20 16:01:00-05:00</td>\n",
       "      <td>2018-02-20 09:31:00-05:00</td>\n",
       "      <td>2018-02-20 16:01:00-05:00</td>\n",
       "      <td>0.053998</td>\n",
       "      <td>-0.003123</td>\n",
       "      <td>48.52</td>\n",
       "      <td>False</td>\n",
       "      <td>False</td>\n",
       "      <td>Standard Motor Products, Inc. to Host Earnings...</td>\n",
       "      <td>...</td>\n",
       "      <td>0.013925</td>\n",
       "      <td>35306.641478</td>\n",
       "      <td>0.002496</td>\n",
       "      <td>48.52</td>\n",
       "      <td>0.030848</td>\n",
       "      <td>0.057121</td>\n",
       "      <td>0.051480</td>\n",
       "      <td>1</td>\n",
       "      <td>0.665193</td>\n",
       "      <td>training</td>\n",
       "    </tr>\n",
       "    <tr>\n",
       "      <th>3477035</th>\n",
       "      <td>2018-02-20 09:31:00-05:00</td>\n",
       "      <td>2018-02-20 16:01:00-05:00</td>\n",
       "      <td>2018-02-20 09:31:00-05:00</td>\n",
       "      <td>2018-02-20 16:00:00-05:00</td>\n",
       "      <td>0.120614</td>\n",
       "      <td>-0.002719</td>\n",
       "      <td>18.24</td>\n",
       "      <td>False</td>\n",
       "      <td>False</td>\n",
       "      <td>Rayonier Advanced Materials Inc to Host Earnin...</td>\n",
       "      <td>...</td>\n",
       "      <td>0.026722</td>\n",
       "      <td>109168.955270</td>\n",
       "      <td>-0.000549</td>\n",
       "      <td>18.24</td>\n",
       "      <td>0.039932</td>\n",
       "      <td>0.123333</td>\n",
       "      <td>0.051480</td>\n",
       "      <td>1</td>\n",
       "      <td>0.697150</td>\n",
       "      <td>training</td>\n",
       "    </tr>\n",
       "    <tr>\n",
       "      <th>4577978</th>\n",
       "      <td>2023-08-24 09:31:00-04:00</td>\n",
       "      <td>2023-08-24 16:01:00-04:00</td>\n",
       "      <td>2023-08-24 09:31:00-04:00</td>\n",
       "      <td>2023-08-24 16:01:00-04:00</td>\n",
       "      <td>0.075122</td>\n",
       "      <td>-0.017811</td>\n",
       "      <td>30.75</td>\n",
       "      <td>False</td>\n",
       "      <td>False</td>\n",
       "      <td>Aviat Networks Announces Fiscal 2023 Fourth Qu...</td>\n",
       "      <td>...</td>\n",
       "      <td>0.026545</td>\n",
       "      <td>30494.502209</td>\n",
       "      <td>0.021459</td>\n",
       "      <td>30.75</td>\n",
       "      <td>0.052597</td>\n",
       "      <td>0.092933</td>\n",
       "      <td>0.051480</td>\n",
       "      <td>1</td>\n",
       "      <td>0.215614</td>\n",
       "      <td>testing</td>\n",
       "    </tr>\n",
       "    <tr>\n",
       "      <th>586</th>\n",
       "      <td>2023-01-09 09:31:00-05:00</td>\n",
       "      <td>2023-01-09 16:01:00-05:00</td>\n",
       "      <td>2023-01-09 09:31:00-05:00</td>\n",
       "      <td>2023-01-09 16:01:00-05:00</td>\n",
       "      <td>0.056314</td>\n",
       "      <td>-0.006687</td>\n",
       "      <td>47.59</td>\n",
       "      <td>False</td>\n",
       "      <td>False</td>\n",
       "      <td>Alcoa's Australia unit flags production cuts a...</td>\n",
       "      <td>...</td>\n",
       "      <td>0.042011</td>\n",
       "      <td>610173.618568</td>\n",
       "      <td>-0.003439</td>\n",
       "      <td>47.59</td>\n",
       "      <td>0.037280</td>\n",
       "      <td>0.063002</td>\n",
       "      <td>0.051480</td>\n",
       "      <td>1</td>\n",
       "      <td>0.463902</td>\n",
       "      <td>training</td>\n",
       "    </tr>\n",
       "    <tr>\n",
       "      <th>553</th>\n",
       "      <td>2023-03-02 09:31:00-05:00</td>\n",
       "      <td>2023-03-02 16:01:00-05:00</td>\n",
       "      <td>2023-03-02 09:32:00-05:00</td>\n",
       "      <td>2023-03-02 16:01:00-05:00</td>\n",
       "      <td>0.069735</td>\n",
       "      <td>0.012987</td>\n",
       "      <td>50.19</td>\n",
       "      <td>False</td>\n",
       "      <td>False</td>\n",
       "      <td>Ex-Dividend Reminder: Mativ, Kronos Worldwide ...</td>\n",
       "      <td>...</td>\n",
       "      <td>0.041139</td>\n",
       "      <td>713169.095333</td>\n",
       "      <td>0.007019</td>\n",
       "      <td>50.19</td>\n",
       "      <td>0.032075</td>\n",
       "      <td>0.056748</td>\n",
       "      <td>0.051480</td>\n",
       "      <td>1</td>\n",
       "      <td>0.286936</td>\n",
       "      <td>training</td>\n",
       "    </tr>\n",
       "  </tbody>\n",
       "</table>\n",
       "<p>954478 rows × 22 columns</p>\n",
       "</div>"
      ],
      "text/plain": [
       "                   est_entry_time             est_exit_time  \\\n",
       "index                                                         \n",
       "3537527 2018-06-15 09:31:00-04:00 2018-06-15 16:01:00-04:00   \n",
       "213410  2022-03-15 09:31:00-04:00 2022-03-15 16:01:00-04:00   \n",
       "213386  2022-11-09 09:31:00-05:00 2022-11-09 16:01:00-05:00   \n",
       "213385  2022-11-09 09:31:00-05:00 2022-11-09 16:01:00-05:00   \n",
       "213384  2022-11-09 09:31:00-05:00 2022-11-09 16:01:00-05:00   \n",
       "...                           ...                       ...   \n",
       "3477071 2018-02-20 09:31:00-05:00 2018-02-20 16:01:00-05:00   \n",
       "3477035 2018-02-20 09:31:00-05:00 2018-02-20 16:01:00-05:00   \n",
       "4577978 2023-08-24 09:31:00-04:00 2023-08-24 16:01:00-04:00   \n",
       "586     2023-01-09 09:31:00-05:00 2023-01-09 16:01:00-05:00   \n",
       "553     2023-03-02 09:31:00-05:00 2023-03-02 16:01:00-05:00   \n",
       "\n",
       "                       entry_time                 exit_time         r  \\\n",
       "index                                                                   \n",
       "3537527 2018-06-15 09:31:00-04:00 2018-06-15 16:01:00-04:00 -0.054398   \n",
       "213410  2022-03-15 09:31:00-04:00 2022-03-15 16:01:00-04:00 -0.122239   \n",
       "213386  2022-11-09 09:31:00-05:00 2022-11-09 16:01:00-05:00 -0.110143   \n",
       "213385  2022-11-09 09:31:00-05:00 2022-11-09 16:01:00-05:00 -0.110143   \n",
       "213384  2022-11-09 09:31:00-05:00 2022-11-09 16:01:00-05:00 -0.110143   \n",
       "...                           ...                       ...       ...   \n",
       "3477071 2018-02-20 09:31:00-05:00 2018-02-20 16:01:00-05:00  0.053998   \n",
       "3477035 2018-02-20 09:31:00-05:00 2018-02-20 16:00:00-05:00  0.120614   \n",
       "4577978 2023-08-24 09:31:00-04:00 2023-08-24 16:01:00-04:00  0.075122   \n",
       "586     2023-01-09 09:31:00-05:00 2023-01-09 16:01:00-05:00  0.056314   \n",
       "553     2023-03-02 09:32:00-05:00 2023-03-02 16:01:00-05:00  0.069735   \n",
       "\n",
       "            r_spy  unadj_entry_open  entry_is_too_far_apart  \\\n",
       "index                                                         \n",
       "3537527  0.001953             49.45                   False   \n",
       "213410   0.013514             33.05                   False   \n",
       "213386  -0.014353             39.04                   False   \n",
       "213385  -0.014353             39.04                   False   \n",
       "213384  -0.014353             39.04                   False   \n",
       "...           ...               ...                     ...   \n",
       "3477071 -0.003123             48.52                   False   \n",
       "3477035 -0.002719             18.24                   False   \n",
       "4577978 -0.017811             30.75                   False   \n",
       "586     -0.006687             47.59                   False   \n",
       "553      0.012987             50.19                   False   \n",
       "\n",
       "         exit_is_too_far_apart  \\\n",
       "index                            \n",
       "3537527                  False   \n",
       "213410                   False   \n",
       "213386                   False   \n",
       "213385                   False   \n",
       "213384                   False   \n",
       "...                        ...   \n",
       "3477071                  False   \n",
       "3477035                  False   \n",
       "4577978                  False   \n",
       "586                      False   \n",
       "553                      False   \n",
       "\n",
       "                                               parsed_body  ...   std_252  \\\n",
       "index                                                       ...             \n",
       "3537527  Steel Dynamics Provides Second Quarter 2018 Ea...  ...  0.018048   \n",
       "213410   ANI Pharma Q4 Adj. Profit Declines. RTTNews)  ...  ...  0.043979   \n",
       "213386   ANI Pharmaceuticals (ANIP) Surpasses Q3 Earnin...  ...  0.030984   \n",
       "213385   ANI Pharmaceuticals, Inc. Q3 Earnings Summary....  ...  0.030984   \n",
       "213384   ANI Pharmaceuticals Q3 22 Earnings Conference ...  ...  0.030984   \n",
       "...                                                    ...  ...       ...   \n",
       "3477071  Standard Motor Products, Inc. to Host Earnings...  ...  0.013925   \n",
       "3477035  Rayonier Advanced Materials Inc to Host Earnin...  ...  0.026722   \n",
       "4577978  Aviat Networks Announces Fiscal 2023 Fourth Qu...  ...  0.026545   \n",
       "586      Alcoa's Australia unit flags production cuts a...  ...  0.042011   \n",
       "553      Ex-Dividend Reminder: Mativ, Kronos Worldwide ...  ...  0.041139   \n",
       "\n",
       "         dollar_volume  r_intra_(t-1)  unadj_open  cond_vola  r_mkt_adj  \\\n",
       "index                                                                     \n",
       "3537527  828416.205000      -0.003457       49.45   0.020124  -0.056352   \n",
       "213410    80336.931489      -0.021674       33.05   0.114946  -0.135753   \n",
       "213386    33667.720674       0.005255       39.04   0.055847  -0.095790   \n",
       "213385    33667.720674       0.005255       39.04   0.055847  -0.095790   \n",
       "213384    33667.720674       0.005255       39.04   0.055847  -0.095790   \n",
       "...                ...            ...         ...        ...        ...   \n",
       "3477071   35306.641478       0.002496       48.52   0.030848   0.057121   \n",
       "3477035  109168.955270      -0.000549       18.24   0.039932   0.123333   \n",
       "4577978   30494.502209       0.021459       30.75   0.052597   0.092933   \n",
       "586      610173.618568      -0.003439       47.59   0.037280   0.063002   \n",
       "553      713169.095333       0.007019       50.19   0.032075   0.056748   \n",
       "\n",
       "          z_score  z_score_class  sample_weights     split  \n",
       "index                                                       \n",
       "3537527 -0.053765              0        0.765191  training  \n",
       "213410  -0.053765              0        0.277347  training  \n",
       "213386  -0.053765              0        0.263123  training  \n",
       "213385  -0.053765              0        0.263123  training  \n",
       "213384  -0.053765              0        0.263123  training  \n",
       "...           ...            ...             ...       ...  \n",
       "3477071  0.051480              1        0.665193  training  \n",
       "3477035  0.051480              1        0.697150  training  \n",
       "4577978  0.051480              1        0.215614   testing  \n",
       "586      0.051480              1        0.463902  training  \n",
       "553      0.051480              1        0.286936  training  \n",
       "\n",
       "[954478 rows x 22 columns]"
      ]
     },
     "execution_count": 39,
     "metadata": {},
     "output_type": "execute_result"
    }
   ],
   "source": [
    "learndat.sort_values(\"z_score\")"
   ]
  },
  {
   "cell_type": "code",
   "execution_count": 37,
   "id": "6d219c3b-5e24-437c-ad07-e4d67ce71eed",
   "metadata": {},
   "outputs": [
    {
     "data": {
      "text/plain": [
       "count    954478.000000\n",
       "mean         -0.000081\n",
       "std           0.021671\n",
       "min          -0.053765\n",
       "25%          -0.010286\n",
       "50%          -0.000039\n",
       "75%           0.010272\n",
       "max           0.051480\n",
       "Name: z_score, dtype: float64"
      ]
     },
     "execution_count": 37,
     "metadata": {},
     "output_type": "execute_result"
    }
   ],
   "source": [
    "learndat.z_score.describe()"
   ]
  },
  {
   "cell_type": "code",
   "execution_count": 38,
   "id": "c2352ab3-dfd4-415e-afc9-49d3e3df305f",
   "metadata": {},
   "outputs": [
    {
     "data": {
      "text/plain": [
       "count    954478.000000\n",
       "mean         -0.003496\n",
       "std           0.949972\n",
       "min        -104.360953\n",
       "25%          -0.497133\n",
       "50%          -0.002012\n",
       "75%           0.500479\n",
       "max         119.533666\n",
       "dtype: float64"
      ]
     },
     "execution_count": 38,
     "metadata": {},
     "output_type": "execute_result"
    }
   ],
   "source": [
    "(learndat.z_score/learndat.std_252).describe()"
   ]
  },
  {
   "cell_type": "code",
   "execution_count": null,
   "id": "282fbb6f-8a71-49d1-9ff8-c57901ebcd64",
   "metadata": {},
   "outputs": [],
   "source": []
  }
 ],
 "metadata": {
  "kernelspec": {
   "display_name": "Python 3 (ipykernel)",
   "language": "python",
   "name": "python3"
  },
  "language_info": {
   "codemirror_mode": {
    "name": "ipython",
    "version": 3
   },
   "file_extension": ".py",
   "mimetype": "text/x-python",
   "name": "python",
   "nbconvert_exporter": "python",
   "pygments_lexer": "ipython3",
   "version": "3.11.7"
  }
 },
 "nbformat": 4,
 "nbformat_minor": 5
}
