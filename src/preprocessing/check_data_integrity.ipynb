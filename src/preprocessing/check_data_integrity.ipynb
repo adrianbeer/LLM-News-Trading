{
 "cells": [
  {
   "cell_type": "code",
   "execution_count": 1,
   "id": "e0a38ea4-3112-4c86-9a5b-628a49145ce3",
   "metadata": {},
   "outputs": [
    {
     "name": "stdout",
     "output_type": "stream",
     "text": [
      "/gxfs_work/cau/sunms534/trading_bot\n"
     ]
    },
    {
     "name": "stderr",
     "output_type": "stream",
     "text": [
      "/gxfs_work/cau/sunms534/.conda/envs/my_pytorch_env/lib/python3.11/site-packages/IPython/core/magics/osm.py:417: UserWarning: using dhist requires you to install the `pickleshare` library.\n",
      "  self.shell.db['dhist'] = compress_dhist(dhist)[-100:]\n"
     ]
    }
   ],
   "source": [
    "%cd /gxfs_work/cau/sunms534/trading_bot/"
   ]
  },
  {
   "cell_type": "code",
   "execution_count": 2,
   "id": "d9b81c5d-1c4e-48ef-abc9-666e8c54161d",
   "metadata": {},
   "outputs": [],
   "source": [
    "import pandas as pd \n",
    "import numpy as np\n",
    "from src.config import config, MODEL_CONFIG, PREP_CONFIG\n",
    "from transformers import AutoTokenizer"
   ]
  },
  {
   "cell_type": "code",
   "execution_count": 3,
   "id": "4ee59e81-5955-4a41-a24e-40bc18452c08",
   "metadata": {},
   "outputs": [],
   "source": [
    "# 1. Taking a look at cleaned dataset"
   ]
  },
  {
   "cell_type": "code",
   "execution_count": 4,
   "id": "fc1b5c68-b2d2-41fd-866f-f0fa33c10dd9",
   "metadata": {},
   "outputs": [],
   "source": [
    "stripped = pd.read_parquet(config.data.news.stripped)"
   ]
  },
  {
   "cell_type": "code",
   "execution_count": 5,
   "id": "a5874f10-a31d-44ad-8b23-aa021f820989",
   "metadata": {},
   "outputs": [
    {
     "data": {
      "text/plain": [
       "Index(['time', 'stocks', 'title', 'body', 'intra_day_time', 'channels',\n",
       "       'company_name', 'short_name', 'author', 'parsed_body', 'cls_token',\n",
       "       'staleness'],\n",
       "      dtype='object')"
      ]
     },
     "execution_count": 5,
     "metadata": {},
     "output_type": "execute_result"
    }
   ],
   "source": [
    "stripped.columns"
   ]
  },
  {
   "cell_type": "code",
   "execution_count": 6,
   "id": "301c7a21-09fe-403b-b815-4712df7f031b",
   "metadata": {},
   "outputs": [
    {
     "data": {
      "text/html": [
       "<div>\n",
       "<style scoped>\n",
       "    .dataframe tbody tr th:only-of-type {\n",
       "        vertical-align: middle;\n",
       "    }\n",
       "\n",
       "    .dataframe tbody tr th {\n",
       "        vertical-align: top;\n",
       "    }\n",
       "\n",
       "    .dataframe thead th {\n",
       "        text-align: right;\n",
       "    }\n",
       "</style>\n",
       "<table border=\"1\" class=\"dataframe\">\n",
       "  <thead>\n",
       "    <tr style=\"text-align: right;\">\n",
       "      <th></th>\n",
       "      <th>title</th>\n",
       "      <th>stocks</th>\n",
       "      <th>parsed_body</th>\n",
       "    </tr>\n",
       "    <tr>\n",
       "      <th>index</th>\n",
       "      <th></th>\n",
       "      <th></th>\n",
       "      <th></th>\n",
       "    </tr>\n",
       "  </thead>\n",
       "  <tbody>\n",
       "    <tr>\n",
       "      <th>4578113</th>\n",
       "      <td>Cybin Announces Renewed At-The-Market Equity P...</td>\n",
       "      <td>CYBN</td>\n",
       "      <td>the company  announces renewed atthemarket eq...</td>\n",
       "    </tr>\n",
       "    <tr>\n",
       "      <th>4578114</th>\n",
       "      <td>Environmental Icon Dr. Jane Goodall's Roots &amp; ...</td>\n",
       "      <td>TM</td>\n",
       "      <td>environmental icon dr jane goodalls roots  sho...</td>\n",
       "    </tr>\n",
       "    <tr>\n",
       "      <th>4578116</th>\n",
       "      <td>Chindata Group Unveils Pioneering Full-Stack S...</td>\n",
       "      <td>CD</td>\n",
       "      <td>chindata group unveils pioneering fullstack so...</td>\n",
       "    </tr>\n",
       "    <tr>\n",
       "      <th>4578117</th>\n",
       "      <td>Orbital Infrastructure Group Inc. Intends to E...</td>\n",
       "      <td>OIG</td>\n",
       "      <td>the company  inc intends to enter into purcha...</td>\n",
       "    </tr>\n",
       "    <tr>\n",
       "      <th>4578118</th>\n",
       "      <td>IBRX FINAL DEADLINE TUESDAY: ROSEN, TRUSTED IN...</td>\n",
       "      <td>IBRX</td>\n",
       "      <td>ibrx final deadline tuesday rosen trusted inve...</td>\n",
       "    </tr>\n",
       "  </tbody>\n",
       "</table>\n",
       "</div>"
      ],
      "text/plain": [
       "                                                     title stocks  \\\n",
       "index                                                               \n",
       "4578113  Cybin Announces Renewed At-The-Market Equity P...   CYBN   \n",
       "4578114  Environmental Icon Dr. Jane Goodall's Roots & ...     TM   \n",
       "4578116  Chindata Group Unveils Pioneering Full-Stack S...     CD   \n",
       "4578117  Orbital Infrastructure Group Inc. Intends to E...    OIG   \n",
       "4578118  IBRX FINAL DEADLINE TUESDAY: ROSEN, TRUSTED IN...   IBRX   \n",
       "\n",
       "                                               parsed_body  \n",
       "index                                                       \n",
       "4578113   the company  announces renewed atthemarket eq...  \n",
       "4578114  environmental icon dr jane goodalls roots  sho...  \n",
       "4578116  chindata group unveils pioneering fullstack so...  \n",
       "4578117   the company  inc intends to enter into purcha...  \n",
       "4578118  ibrx final deadline tuesday rosen trusted inve...  "
      ]
     },
     "execution_count": 6,
     "metadata": {},
     "output_type": "execute_result"
    }
   ],
   "source": [
    "stripped[[\"title\", \"stocks\", \"parsed_body\"]].tail()"
   ]
  },
  {
   "cell_type": "code",
   "execution_count": null,
   "id": "20cae158-e414-486f-ac38-e07fce31adb2",
   "metadata": {},
   "outputs": [],
   "source": [
    "# 2. Take a look at input_ids and if tokenizer works correctly"
   ]
  },
  {
   "cell_type": "code",
   "execution_count": 12,
   "id": "031bcb7c-91f5-4b5a-a13a-2ebc7b4fa7ce",
   "metadata": {},
   "outputs": [],
   "source": [
    "title_inputs_ids = pd.read_parquet(config.data.news.title_only.input_ids)"
   ]
  },
  {
   "cell_type": "code",
   "execution_count": 13,
   "id": "7b211b9f-8d9e-4305-902e-e68ac9dc641a",
   "metadata": {},
   "outputs": [],
   "source": [
    "ld = pd.read_parquet(config.data.learning_dataset)"
   ]
  },
  {
   "cell_type": "code",
   "execution_count": 14,
   "id": "6ace02da-14dc-4ec9-b48f-7a65ee83777b",
   "metadata": {},
   "outputs": [],
   "source": [
    "#cleaned = ld = pd.read_parquet(config.data.merged) # requires more memory"
   ]
  },
  {
   "cell_type": "code",
   "execution_count": 3,
   "id": "d972ac44-ac4e-4935-b81b-09b166e0c745",
   "metadata": {},
   "outputs": [],
   "source": [
    "tokenizer = AutoTokenizer.from_pretrained(PREP_CONFIG.tokenizer)"
   ]
  },
  {
   "cell_type": "code",
   "execution_count": 44,
   "id": "cf12f4eb-ac9c-47a2-852c-ce3145202ec8",
   "metadata": {},
   "outputs": [],
   "source": [
    "mask = ld.parsed_body.apply(lambda x: \"today announced\" in x)"
   ]
  },
  {
   "cell_type": "code",
   "execution_count": 47,
   "id": "81d5d1f3-91ec-4d2e-bcf7-dd406e83689e",
   "metadata": {},
   "outputs": [],
   "source": [
    "ld = ld[mask]"
   ]
  },
  {
   "cell_type": "code",
   "execution_count": 60,
   "id": "e071688d-a35f-48ba-b37a-6c2facd9b2a3",
   "metadata": {},
   "outputs": [
    {
     "name": "stdout",
     "output_type": "stream",
     "text": [
      "3944556\n",
      "BLK\n",
      "[CLS] [UNK] canada announces october cash distributions for the [UNK] etfs [SEP] [PAD] [PAD] [PAD] [PAD] [PAD] [PAD] [PAD] [PAD] [PAD] [PAD] [PAD] [PAD] [PAD] [PAD] [PAD] [PAD] [PAD] [PAD] [PAD] [PAD] \n",
      "\n",
      "BlackRock® Canada Announces October Cash Distributions for the iShares® ETFs. the company Asset Management Canada Limited , an indirect, wholly owned subsidiary of the company , today announced the October 2020 cash distributions for the iShares ETFs listed on the TSX or NEO which pay on a monthly basis. Unitholders of record of a fund will receive cash distributions payable in respect of that fund. As a fiduciary to investors and a leading provider of financial technology, our clients turn to us for the solutions they need when planning for their most important goals. As , the firm managed approximately US$7.81 trillion in assets on behalf of investors worldwide. With more than twenty years of experience, a global line up of 900+ exchange traded funds (ETFs) and US$2.32 trillion in assets under management as , iShares continues to drive progress for the financial industry. iShares funds are powered by the expert portfolio and risk management of the company , trusted to manage more money than any other investment firm1. 1 Based on US$7.81 trillion in AUM as of 9 30 20 iShares® ETFs are managed by the company Asset Management Canada Limited. Commissions, trailing commissions, management fees and expenses all may be associated with investing in iShares ETFs. Please read the relevant prospectus before investing. The funds are not guaranteed, their values change frequently and past performance may not be repeated. Tax, investment and all other decisions should be made, as appropriate, only with guidance from a qualified professional\n",
      "3 --- [CLS]\n",
      "2 --- [UNK]\n",
      "1158 --- canada\n",
      "15046 --- announces\n",
      "624 --- october\n",
      "50 --- cash\n",
      "1860 --- distributions\n",
      "14 --- for\n",
      "6 --- the\n",
      "2 --- [UNK]\n",
      "23293 --- etfs\n",
      "4 --- [SEP]\n",
      "0 --- [PAD]\n",
      "0 --- [PAD]\n",
      "0 --- [PAD]\n",
      "0 --- [PAD]\n",
      "0 --- [PAD]\n",
      "0 --- [PAD]\n",
      "0 --- [PAD]\n",
      "0 --- [PAD]\n",
      "0 --- [PAD]\n",
      "0 --- [PAD]\n",
      "0 --- [PAD]\n",
      "0 --- [PAD]\n",
      "0 --- [PAD]\n",
      "0 --- [PAD]\n",
      "0 --- [PAD]\n",
      "0 --- [PAD]\n",
      "0 --- [PAD]\n",
      "0 --- [PAD]\n",
      "0 --- [PAD]\n",
      "0 --- [PAD]\n"
     ]
    }
   ],
   "source": [
    "n = np.random.randint(0, ld.shape[0])\n",
    "index = ld.index[n]\n",
    "print(index)\n",
    "entry = title_inputs_ids.loc[index, :].values\n",
    "\n",
    "print(ld.loc[index, \"stocks\"])\n",
    "print(f\"{tokenizer.decode(entry)} \\n\")\n",
    "print(ld.loc[index, \"parsed_body\"])\n",
    "\n",
    "for x in entry:\n",
    "    print(f\"{x} --- {tokenizer.decode(x)}\")\n"
   ]
  },
  {
   "cell_type": "markdown",
   "id": "1c1bd24f-3ef4-4db3-ab74-6a23f77077f6",
   "metadata": {},
   "source": [
    "# Average number of token in news"
   ]
  },
  {
   "cell_type": "code",
   "execution_count": 4,
   "id": "5ede43a5-8b68-4354-a9bb-2e06a150e030",
   "metadata": {},
   "outputs": [],
   "source": [
    "title_inputs_ids = pd.read_parquet(config.data.news.input_ids)\n"
   ]
  },
  {
   "cell_type": "code",
   "execution_count": 5,
   "id": "8428caeb-256d-40bc-b6de-6b08b915ebc0",
   "metadata": {},
   "outputs": [],
   "source": [
    "n_padding = title_inputs_ids[title_inputs_ids == 0].sum(axis=1)"
   ]
  },
  {
   "cell_type": "code",
   "execution_count": null,
   "id": "859d055f-855d-4830-a0ce-c86eb62510a6",
   "metadata": {},
   "outputs": [],
   "source": []
  },
  {
   "cell_type": "markdown",
   "id": "2d7c0ba5-6b48-4a4e-ba7d-082430438dfe",
   "metadata": {},
   "source": [
    "# Predictions from Model"
   ]
  },
  {
   "cell_type": "code",
   "execution_count": 4,
   "id": "ba0a8987-71b4-44a1-8c2e-337196082884",
   "metadata": {},
   "outputs": [],
   "source": [
    "ld = pd.read_parquet(config.data.learning_dataset, columns=[\"z_score\", \"z_score_class\", \"parsed_body\"])\n",
    "title_inputs_ids = pd.read_parquet(config.data.news.title_only.input_ids)\n",
    "masks = pd.read_parquet(config.data.news.title_only.masks)"
   ]
  },
  {
   "cell_type": "code",
   "execution_count": 5,
   "id": "ce53113b-68ed-4143-bdb7-5ff1a8d4aa2e",
   "metadata": {},
   "outputs": [],
   "source": [
    "ld_mini = ld.iloc[-10000:,:]"
   ]
  },
  {
   "cell_type": "code",
   "execution_count": 6,
   "id": "299b026b-ebe1-443c-9fd6-eaa10405e319",
   "metadata": {},
   "outputs": [],
   "source": [
    "index = ld.index[0]"
   ]
  },
  {
   "cell_type": "code",
   "execution_count": 7,
   "id": "b0255cd9-5d69-4572-9317-20fcc753b855",
   "metadata": {},
   "outputs": [],
   "source": [
    "import torch\n",
    "import torch.nn.functional as F\n",
    "from tqdm.notebook import tqdm\n"
   ]
  },
  {
   "cell_type": "code",
   "execution_count": 21,
   "id": "500d3933-27bc-4194-a75a-4647a50dbcc4",
   "metadata": {},
   "outputs": [
    {
     "data": {
      "application/vnd.jupyter.widget-view+json": {
       "model_id": "e64c0d4765454afe9156747ccdca8985",
       "version_major": 2,
       "version_minor": 0
      },
      "text/plain": [
       "  0%|          | 0/10000 [00:00<?, ?it/s]"
      ]
     },
     "metadata": {},
     "output_type": "display_data"
    },
    {
     "name": "stderr",
     "output_type": "stream",
     "text": [
      "/scratch/SlurmTMP/sunms534.10715314/ipykernel_1460224/3251329861.py:14: UserWarning: Implicit dimension choice for softmax has been deprecated. Change the call to include dim=X as an argument.\n",
      "  probs = F.softmax(result.logits).numpy()\n"
     ]
    }
   ],
   "source": [
    "from transformers import AutoTokenizer, BertForSequenceClassification, BertTokenizer\n",
    "from transformers import pipeline\n",
    "\n",
    "finbert = BertForSequenceClassification.from_pretrained(\"/gxfs_work/cau/sunms534/trading_bot/data/models/ProsusAI/finbert\", num_labels=3, local_files_only=True)\n",
    "\n",
    "prob = []\n",
    "preds = []\n",
    "actuals = []\n",
    "with torch.no_grad():\n",
    "    for index in tqdm(ld_mini.index):\n",
    "        input_id = torch.tensor([title_inputs_ids.loc[index, :].tolist()], dtype=torch.int32)\n",
    "        mask = torch.tensor([masks.loc[index, :].tolist()])\n",
    "        result = finbert(input_id, mask)\n",
    "        probs = F.softmax(result.logits).numpy()\n",
    "        prob.append(probs.max())\n",
    "        preds.append((probs.argmax()  + 1) % 2)\n",
    "        actuals.append(ld.loc[index, \"z_score_class\"])\n",
    "        #print(result)  #LABEL_0: neutral; LABEL_1: positive; LABEL_2: negative"
   ]
  },
  {
   "cell_type": "code",
   "execution_count": 44,
   "id": "e8a07507-1a70-4af1-8f8f-2baba9802ed6",
   "metadata": {},
   "outputs": [
    {
     "name": "stderr",
     "output_type": "stream",
     "text": [
      "/scratch/SlurmTMP/sunms534.10715314/ipykernel_1460224/3628110247.py:1: UserWarning: Implicit dimension choice for softmax has been deprecated. Change the call to include dim=X as an argument.\n",
      "  F.softmax(result.logits).numpy().argmax()\n"
     ]
    },
    {
     "data": {
      "text/plain": [
       "0"
      ]
     },
     "execution_count": 44,
     "metadata": {},
     "output_type": "execute_result"
    }
   ],
   "source": [
    "F.softmax(result.logits).numpy().argmax()"
   ]
  },
  {
   "cell_type": "code",
   "execution_count": 75,
   "id": "c56829e3-c058-4896-92e4-b4ad2e3dcef5",
   "metadata": {},
   "outputs": [
    {
     "data": {
      "text/plain": [
       "'[CLS] robotexts increase while robocalls drop for third consecutive month, according to robokiller insights [SEP] [PAD] [PAD] [PAD] [PAD] [PAD] [PAD] [PAD] [PAD] [PAD] [PAD]'"
      ]
     },
     "execution_count": 75,
     "metadata": {},
     "output_type": "execute_result"
    }
   ],
   "source": [
    "tokenizer.decode(title_inputs_ids.loc[ld_mini.index[532]])"
   ]
  },
  {
   "cell_type": "code",
   "execution_count": 23,
   "id": "0a486847-9bc4-4885-b4d4-8d91c145444b",
   "metadata": {},
   "outputs": [
    {
     "data": {
      "text/plain": [
       "10000"
      ]
     },
     "execution_count": 23,
     "metadata": {},
     "output_type": "execute_result"
    }
   ],
   "source": [
    "len(preds)"
   ]
  },
  {
   "cell_type": "code",
   "execution_count": 58,
   "id": "e52c409a-784f-42be-9575-f18570769352",
   "metadata": {},
   "outputs": [],
   "source": [
    "df = pd.DataFrame(zip(preds,actuals, prob))"
   ]
  },
  {
   "cell_type": "code",
   "execution_count": 59,
   "id": "bd0a8835-abb9-4050-a937-56d2bc59943c",
   "metadata": {},
   "outputs": [
    {
     "data": {
      "text/plain": [
       "count    10000.000000\n",
       "mean         0.825836\n",
       "std          0.124616\n",
       "min          0.384929\n",
       "25%          0.757534\n",
       "50%          0.875642\n",
       "75%          0.923297\n",
       "max          0.969893\n",
       "Name: 2, dtype: float64"
      ]
     },
     "execution_count": 59,
     "metadata": {},
     "output_type": "execute_result"
    }
   ],
   "source": [
    "df.loc[:, 2].describe()"
   ]
  },
  {
   "cell_type": "code",
   "execution_count": 60,
   "id": "4ddbfdd8-147f-4541-ae93-b80f82555c95",
   "metadata": {},
   "outputs": [],
   "source": [
    "df = df[df.iloc[:, 2] > 0.95]"
   ]
  },
  {
   "cell_type": "code",
   "execution_count": 61,
   "id": "b0ef552d-e8f4-4cd3-aed7-8ad4542e7161",
   "metadata": {},
   "outputs": [
    {
     "data": {
      "text/plain": [
       "227"
      ]
     },
     "execution_count": 61,
     "metadata": {},
     "output_type": "execute_result"
    }
   ],
   "source": [
    "len(df)"
   ]
  },
  {
   "cell_type": "code",
   "execution_count": 62,
   "id": "1c12f712-d3e7-4229-a03b-b78d55b9fdc3",
   "metadata": {},
   "outputs": [
    {
     "data": {
      "text/plain": [
       "115"
      ]
     },
     "execution_count": 62,
     "metadata": {},
     "output_type": "execute_result"
    }
   ],
   "source": [
    "(df.iloc[:, 0] == df.iloc[:, 1]).sum()"
   ]
  },
  {
   "cell_type": "code",
   "execution_count": 63,
   "id": "e562de0c-26c1-4d5f-a27a-ebfecd3e0d5a",
   "metadata": {},
   "outputs": [
    {
     "data": {
      "text/plain": [
       "1\n",
       "1    119\n",
       "2     65\n",
       "0     43\n",
       "Name: count, dtype: int64"
      ]
     },
     "execution_count": 63,
     "metadata": {},
     "output_type": "execute_result"
    }
   ],
   "source": [
    "df.iloc[:, 1].value_counts()"
   ]
  },
  {
   "cell_type": "code",
   "execution_count": 64,
   "id": "689ca11b-bc72-44d2-af41-d10118dda45a",
   "metadata": {},
   "outputs": [
    {
     "data": {
      "text/plain": [
       "0\n",
       "1    210\n",
       "0     17\n",
       "Name: count, dtype: int64"
      ]
     },
     "execution_count": 64,
     "metadata": {},
     "output_type": "execute_result"
    }
   ],
   "source": [
    "df.iloc[:, 0].value_counts()"
   ]
  },
  {
   "cell_type": "code",
   "execution_count": 70,
   "id": "f2a6118e-cce3-4c63-afe9-5e9fc2a68248",
   "metadata": {},
   "outputs": [
    {
     "data": {
      "text/plain": [
       "532"
      ]
     },
     "execution_count": 70,
     "metadata": {},
     "output_type": "execute_result"
    }
   ],
   "source": [
    "df.iloc[:, 2].idxmax()"
   ]
  },
  {
   "cell_type": "code",
   "execution_count": 72,
   "id": "92fa4765-ba29-4a42-8356-5de7d2eb0ccb",
   "metadata": {},
   "outputs": [
    {
     "data": {
      "text/plain": [
       "0    0.000000\n",
       "1    1.000000\n",
       "2    0.969893\n",
       "Name: 532, dtype: float64"
      ]
     },
     "execution_count": 72,
     "metadata": {},
     "output_type": "execute_result"
    }
   ],
   "source": [
    "df.loc[532, :]"
   ]
  },
  {
   "cell_type": "code",
   "execution_count": 74,
   "id": "5f320933-c2ac-4dc5-8b8b-d64ab89d4e57",
   "metadata": {},
   "outputs": [
    {
     "data": {
      "text/plain": [
       "'Robotexts Increase While Robocalls Drop For Third Consecutive Month, According to Robokiller Insights. Americans received 14.2 billion robotexts and 4.6 billion robocalls in May, a 9% increase and 10% decrease, respectively, according to Robokiller Insights. The two categories continue to follow diverging paths — this marks the third consecutive month over month increase in SMS spam and the second consecutive month over month decrease in unwanted calls. Government anti robocall efforts continue to pay dividends The decrease in robocalls can be attributed largely to the government\\'s successful efforts to crack down on specific high volume robocalls. Yet, although the quantity of robocalls is dropping, the damage they cause is escalating. Americans have lost $29 billion to robocalls already in 2023, outpacing 2022\\'s record losses. Scammers are getting better results despite fewer calls, signifying they continue to refine their tactics and double down on scams that work. According to the FTC, the median amount lost to phone scams so far in 2023 is $1,286, more than the $1,000 from late 2022. \"As the FCC continues to successfully crack down on robocalls, Robokiller has confirmed yet another monthly decrease in spam call volume. That doesn\\'t mean we\\'re out of the woods, however, as scammers are becoming more clever with the tactics they are using to scam Americans, \" said Patrick Falzon, General Manager at Teltech, creators of Robokiller. \"Robocalls may be decreasing in volume, but they\\'re costly. And, although Americans may enjoy a little reprieve from the volume of robocalls, the larger increase in robotexts means they are actually getting more phone spam overall. We suggest Americans have a robocall and robotext blocker on their phone like Robokiller to protect themselves from emerging scams.\" Surging robotexts are leading to greater fraud losses Robotexts increased 9% month over month, and Robokiller predicts this trend will continue for the remainder of the year, with losses already reaching $12 billion in 2023 (up 58% from 2022). Robokiller warns Americans to be cautious when receiving text messages from unknown numbers or those claiming to be well known businesses, especially if you\\'re not expecting that particular company to contact you. May 2023 key trends Top robotexts nationwide: In May, Americans were frequently targeted with delivery related messages that suggested they missed a delivery, needed to update their delivery preferences, or that a package was pending. Those messages often contained links that, once clicked, could ask them to provide personal information or install malware on their phones. However, not all robotexts were scams, as political messages are making their way to phones just ahead of next year\\'s presidential election and are anticipated to increase as election day draws near. Top robocalls nationwide: Even though robocalls may be on the decline, Americans need to be aware of more targeted robocall scams like the recent AI scams that impersonate a loved one in order to steal money or your personal information. While this scam is relatively new, this is another reason Americans should ignore calls from unknown numbers. Scammers play on vulnerabilities, and these scams can often lead to falling victim. Tips on how to stop phone scams:. Don\\'t answer calls or texts from unknown numbers, especially those who call or text at odd hours. Don\\'t follow prompts like \"Press 1\" or click any links. Never provide personal information like banking details or other sensitive information. Download a spam text and call blocker like Robokiller to equip your phone with the latest technology to stop scams. About Robokiller With more than 12 million downloads and $600 million in losses prevented, Robokiller is the leading independent spam call and text blocker. Robokiller has been named a technical and mobile achievement leader by the Webby Awards, Media Excellence, Best in Biz, and more. Robokiller was named the most effective solution to robocalls by the FTC. Robokiller\\'s robocall and spam text insights are powered by a global database of millions of phone scams and audio fingerprints. Robokiller\\'s proprietary data insights have been featured by The New York Times, ABC World News, NBC Nightly News, and many others. Robokiller is available for download in the Apple App Store and Google Play. Robokiller, a Teltech brand, is a division of Mosaic Group, an the company Company'"
      ]
     },
     "execution_count": 74,
     "metadata": {},
     "output_type": "execute_result"
    }
   ],
   "source": [
    "ld.loc[ld_mini.index[532], \"parsed_body\"]"
   ]
  },
  {
   "cell_type": "code",
   "execution_count": null,
   "id": "a66c1992-ed7d-458b-8343-b442800a2421",
   "metadata": {},
   "outputs": [],
   "source": []
  },
  {
   "cell_type": "code",
   "execution_count": null,
   "id": "05165b41-46e2-4df0-9bb7-4ba3c8fcfc61",
   "metadata": {},
   "outputs": [],
   "source": []
  },
  {
   "cell_type": "code",
   "execution_count": null,
   "id": "d04a8421-b6f6-4dda-a3e2-41831ed760ab",
   "metadata": {},
   "outputs": [],
   "source": []
  },
  {
   "cell_type": "code",
   "execution_count": null,
   "id": "88a98363-5b89-483a-9b00-08601b68f77e",
   "metadata": {},
   "outputs": [],
   "source": []
  }
 ],
 "metadata": {
  "kernelspec": {
   "display_name": "Python 3 (ipykernel)",
   "language": "python",
   "name": "python3"
  },
  "language_info": {
   "codemirror_mode": {
    "name": "ipython",
    "version": 3
   },
   "file_extension": ".py",
   "mimetype": "text/x-python",
   "name": "python",
   "nbconvert_exporter": "python",
   "pygments_lexer": "ipython3",
   "version": "3.11.7"
  }
 },
 "nbformat": 4,
 "nbformat_minor": 5
}
