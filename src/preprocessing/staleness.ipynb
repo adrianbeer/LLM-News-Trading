{
 "cells": [
  {
   "cell_type": "markdown",
   "metadata": {},
   "source": [
    "# Calculate stalens factor of news"
   ]
  },
  {
   "cell_type": "code",
   "execution_count": null,
   "metadata": {},
   "outputs": [],
   "source": [
    "%load_ext autoreload\n",
    "%autoreload 2\n",
    "import pandas as pd\n",
    "import torch\n",
    "from transformers import BertModel\n",
    "from transformers import BertTokenizerFast\n",
    "from src.model.data_loading import get_data_loader_from_dataset\n",
    "from src.config import config, MODEL_CONFIG\n",
    "from numpy import dot\n",
    "from numpy.linalg import norm\n",
    "from src.model.neural_network import predict_cls\n",
    "\n",
    "TRANSFORMER_HF_ID = MODEL_CONFIG.transformer_hugface_id"
   ]
  },
  {
   "cell_type": "code",
   "execution_count": null,
   "metadata": {},
   "outputs": [],
   "source": [
    "batch_size = 16\n",
    "tokenizer = BertTokenizerFast.from_pretrained(TRANSFORMER_HF_ID)\n",
    "config.data.bzg.encoding_matrix"
   ]
  },
  {
   "cell_type": "code",
   "execution_count": null,
   "metadata": {},
   "outputs": [],
   "source": [
    "# Use baseline bert model to avoid look-ahead bias \n",
    "model = BertModel.from_pretrained(TRANSFORMER_HF_ID)\n",
    "model.eval()\n",
    "\n",
    "device = torch.device(\"cuda\" if torch.cuda.is_available() else \"cpu\")\n",
    "print(device)\n",
    "model.to(device)"
   ]
  },
  {
   "cell_type": "code",
   "execution_count": null,
   "metadata": {},
   "outputs": [],
   "source": [
    "dataset = pd.read_parquet(config.data.benzinga.cleaned)"
   ]
  },
  {
   "cell_type": "code",
   "execution_count": null,
   "metadata": {},
   "outputs": [],
   "source": [
    "dataset.index.name"
   ]
  },
  {
   "cell_type": "code",
   "execution_count": null,
   "metadata": {},
   "outputs": [],
   "source": [
    "# To determine the freshness of news, I compare the similarity of each news article with all articles published in the previous three days."
   ]
  },
  {
   "cell_type": "code",
   "execution_count": null,
   "metadata": {},
   "outputs": [],
   "source": [
    "dataset[\"text_length\"] = dataset[\"parsed_body\"].map(lambda x: len(x))"
   ]
  },
  {
   "cell_type": "code",
   "execution_count": null,
   "metadata": {},
   "outputs": [],
   "source": [
    "dataloader = get_data_loader_from_dataset(dataset=dataset,\n",
    "                                          split=None,\n",
    "                                          batch_size=batch_size,\n",
    "                                          label_col=\"text_length\",\n",
    "                                          data_loader_kwargs=dict(shuffle=False),\n",
    "                                          )"
   ]
  },
  {
   "cell_type": "code",
   "execution_count": null,
   "metadata": {},
   "outputs": [],
   "source": [
    "cls_tokens = predict_cls(model, dataloader, device)\n",
    "cls_tokens = pd.Series(list(cls_tokens))"
   ]
  },
  {
   "cell_type": "code",
   "execution_count": null,
   "metadata": {},
   "outputs": [],
   "source": [
    "\n",
    "# Otherwise index alignment leads to problems\n",
    "cls_tokens.index = dataset.index \n",
    "dataset[\"cls_token\"] = cls_tokens\n",
    "dataset[\"staleness\"] = 0"
   ]
  },
  {
   "cell_type": "code",
   "execution_count": null,
   "metadata": {},
   "outputs": [],
   "source": [
    "n_of_sametime_news = 0\n",
    "\n",
    "for i, ticker in enumerate(set(dataset.stocks)):\n",
    "    print(f\"{i}, {ticker=}\")\n",
    "    ticker_news = dataset[dataset.stocks == ticker].reset_index()\n",
    "    ticker_news = ticker_news.set_index(\"time\").sort_index(ascending=True)\n",
    "    # Set staleness of first news message to 0 \n",
    "    ticker_news.at[ticker_news.index[0], \"staleness\"] = 0\n",
    "\n",
    "    for time in  ticker_news.index:\n",
    "        previous_news = ticker_news.loc[(time-pd.DateOffset(days=3)):time, \"cls_token\"]\n",
    "        if len(previous_news) == 1:\n",
    "            ticker_news.at[time, \"staleness\"] = 0\n",
    "        else:\n",
    "            try:\n",
    "                current_cls = previous_news.pop(time)\n",
    "            except IndexError as e:\n",
    "                n_of_sametime_news += 1\n",
    "                current_cls = previous_news.iloc[-1]\n",
    "                previous_news = previous_news.iloc[:-1]\n",
    "                \n",
    "            cosine_sims = previous_news.apply(lambda x: dot(current_cls, x) / (norm(current_cls)*norm(x)))\n",
    "            ticker_news.at[time, \"staleness\"] = cosine_sims.max()\n",
    "            \n",
    "    ticker_news.set_index(\"__null_dask_index__\", inplace=True)\n",
    "    # Add entries to data set\n",
    "    dataset.loc[ticker_news.index, \"staleness\"] = ticker_news.loc[:, \"staleness\"]\n",
    "    \n",
    "print(n_of_sametime_news)"
   ]
  },
  {
   "cell_type": "code",
   "execution_count": null,
   "metadata": {},
   "outputs": [],
   "source": [
    "dataset.to_parquet(config.data.benzinga.cleaned)"
   ]
  },
  {
   "cell_type": "markdown",
   "metadata": {},
   "source": [
    "# Distribution of staleness factors"
   ]
  },
  {
   "cell_type": "code",
   "execution_count": null,
   "metadata": {},
   "outputs": [],
   "source": [
    "import plotly.express as px "
   ]
  },
  {
   "cell_type": "code",
   "execution_count": null,
   "metadata": {},
   "outputs": [],
   "source": [
    "px.histogram(dataset.loc[dataset[\"staleness\"]!=0, \"staleness\"])"
   ]
  },
  {
   "cell_type": "code",
   "execution_count": null,
   "metadata": {},
   "outputs": [],
   "source": [
    "from google.colab import runtime\n",
    "runtime.unassign()"
   ]
  },
  {
   "cell_type": "code",
   "execution_count": null,
   "metadata": {},
   "outputs": [],
   "source": []
  },
  {
   "cell_type": "code",
   "execution_count": null,
   "metadata": {},
   "outputs": [],
   "source": []
  }
 ],
 "metadata": {
  "kernelspec": {
   "display_name": ".venv",
   "language": "python",
   "name": "python3"
  },
  "language_info": {
   "codemirror_mode": {
    "name": "ipython",
    "version": 3
   },
   "file_extension": ".py",
   "mimetype": "text/x-python",
   "name": "python",
   "nbconvert_exporter": "python",
   "pygments_lexer": "ipython3",
   "version": "3.11.3"
  }
 },
 "nbformat": 4,
 "nbformat_minor": 2
}
