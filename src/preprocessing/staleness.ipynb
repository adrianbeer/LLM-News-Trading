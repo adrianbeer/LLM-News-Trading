{
 "cells": [
  {
   "cell_type": "markdown",
   "metadata": {},
   "source": [
    "# Calculate stalens factor of news"
   ]
  },
  {
   "cell_type": "code",
   "execution_count": 57,
   "metadata": {},
   "outputs": [
    {
     "name": "stdout",
     "output_type": "stream",
     "text": [
      "The autoreload extension is already loaded. To reload it, use:\n",
      "  %reload_ext autoreload\n"
     ]
    }
   ],
   "source": [
    "%load_ext autoreload\n",
    "%autoreload 2\n",
    "import pandas as pd\n",
    "import torch\n",
    "import yaml\n",
    "from dotmap import DotMap\n",
    "from transformers import BertModel\n",
    "from transformers import BertTokenizerFast\n",
    "from src.model.data_loading import get_data_loader_from_dataset\n",
    "from numpy import dot\n",
    "from numpy.linalg import norm\n",
    "from src.model.neural_network import predict, predict_cls\n",
    "import numpy as np \n",
    "\n",
    "from src.model.neural_network import (\n",
    "    TRANSFORMER_HF_ID,\n",
    "    train,\n",
    ")\n",
    "\n",
    "config = DotMap(yaml.safe_load(open(\"src/config.yaml\")), _dynamic=False)\n",
    "input_col_name = config.model.input_col_name\n",
    "target_col_name = config.model.target_col_name\n",
    "\n",
    "batch_size = 4\n",
    "epochs = 3\n",
    "tokenizer = BertTokenizerFast.from_pretrained(TRANSFORMER_HF_ID)"
   ]
  },
  {
   "cell_type": "code",
   "execution_count": 14,
   "metadata": {},
   "outputs": [
    {
     "name": "stdout",
     "output_type": "stream",
     "text": [
      "Using GPU.\n"
     ]
    },
    {
     "data": {
      "text/plain": [
       "BertModel(\n",
       "  (embeddings): BertEmbeddings(\n",
       "    (word_embeddings): Embedding(30873, 768, padding_idx=0)\n",
       "    (position_embeddings): Embedding(512, 768)\n",
       "    (token_type_embeddings): Embedding(2, 768)\n",
       "    (LayerNorm): LayerNorm((768,), eps=1e-12, elementwise_affine=True)\n",
       "    (dropout): Dropout(p=0.1, inplace=False)\n",
       "  )\n",
       "  (encoder): BertEncoder(\n",
       "    (layer): ModuleList(\n",
       "      (0-11): 12 x BertLayer(\n",
       "        (attention): BertAttention(\n",
       "          (self): BertSelfAttention(\n",
       "            (query): Linear(in_features=768, out_features=768, bias=True)\n",
       "            (key): Linear(in_features=768, out_features=768, bias=True)\n",
       "            (value): Linear(in_features=768, out_features=768, bias=True)\n",
       "            (dropout): Dropout(p=0.1, inplace=False)\n",
       "          )\n",
       "          (output): BertSelfOutput(\n",
       "            (dense): Linear(in_features=768, out_features=768, bias=True)\n",
       "            (LayerNorm): LayerNorm((768,), eps=1e-12, elementwise_affine=True)\n",
       "            (dropout): Dropout(p=0.1, inplace=False)\n",
       "          )\n",
       "        )\n",
       "        (intermediate): BertIntermediate(\n",
       "          (dense): Linear(in_features=768, out_features=3072, bias=True)\n",
       "          (intermediate_act_fn): GELUActivation()\n",
       "        )\n",
       "        (output): BertOutput(\n",
       "          (dense): Linear(in_features=3072, out_features=768, bias=True)\n",
       "          (LayerNorm): LayerNorm((768,), eps=1e-12, elementwise_affine=True)\n",
       "          (dropout): Dropout(p=0.1, inplace=False)\n",
       "        )\n",
       "      )\n",
       "    )\n",
       "  )\n",
       "  (pooler): BertPooler(\n",
       "    (dense): Linear(in_features=768, out_features=768, bias=True)\n",
       "    (activation): Tanh()\n",
       "  )\n",
       ")"
      ]
     },
     "execution_count": 14,
     "metadata": {},
     "output_type": "execute_result"
    }
   ],
   "source": [
    "# Use baseline bert model to avoid look-ahead bias \n",
    "model = BertModel.from_pretrained(TRANSFORMER_HF_ID)\n",
    "model.eval()\n",
    "\n",
    "if torch.cuda.is_available():       \n",
    "    device = torch.device(\"cuda\")\n",
    "    print(\"Using GPU.\")\n",
    "else:\n",
    "    print(\"No GPU available, using the CPU instead.\")\n",
    "    device = torch.device(\"cpu\")\n",
    "model.to(device)"
   ]
  },
  {
   "cell_type": "code",
   "execution_count": 116,
   "metadata": {},
   "outputs": [],
   "source": [
    "dataset = pd.read_parquet(config.data.benzinga.cleaned)"
   ]
  },
  {
   "cell_type": "code",
   "execution_count": 117,
   "metadata": {},
   "outputs": [
    {
     "data": {
      "text/plain": [
       "'__null_dask_index__'"
      ]
     },
     "execution_count": 117,
     "metadata": {},
     "output_type": "execute_result"
    }
   ],
   "source": [
    "dataset.index.name"
   ]
  },
  {
   "cell_type": "code",
   "execution_count": 118,
   "metadata": {},
   "outputs": [],
   "source": [
    "dataset = dataset.iloc[:300]"
   ]
  },
  {
   "cell_type": "code",
   "execution_count": 119,
   "metadata": {},
   "outputs": [],
   "source": [
    "# To determine the freshness of news, I compare the similarity of each news article with all articles published in the previous three days."
   ]
  },
  {
   "cell_type": "code",
   "execution_count": 120,
   "metadata": {},
   "outputs": [
    {
     "name": "stdout",
     "output_type": "stream",
     "text": [
      "func:'embed_inputs' took: 1.3484 sec\n"
     ]
    },
    {
     "name": "stderr",
     "output_type": "stream",
     "text": [
      "g:\\Meine Ablage\\NewsTrading\\trading_bot\\src\\model\\data_loading.py:36: UserWarning: To copy construct from a tensor, it is recommended to use sourceTensor.clone().detach() or sourceTensor.clone().detach().requires_grad_(True), rather than torch.tensor(sourceTensor).\n",
      "  input_tensor = torch.tensor(inputs)\n",
      "g:\\Meine Ablage\\NewsTrading\\trading_bot\\src\\model\\data_loading.py:37: UserWarning: To copy construct from a tensor, it is recommended to use sourceTensor.clone().detach() or sourceTensor.clone().detach().requires_grad_(True), rather than torch.tensor(sourceTensor).\n",
      "  mask_tensor = torch.tensor(masks)\n"
     ]
    }
   ],
   "source": [
    "dataloader = get_data_loader_from_dataset(dataset=dataset,\n",
    "                                          tokenizer=tokenizer,\n",
    "                                          split=None,\n",
    "                                          batch_size=batch_size,\n",
    "                                          data_loader_kwargs=dict(shuffle=False),\n",
    "                                          text_col=\"parsed_body\",\n",
    "                                          label_col=\"__null_dask_index__\") # label col is just dummy variable... we dont train the model "
   ]
  },
  {
   "cell_type": "code",
   "execution_count": 122,
   "metadata": {},
   "outputs": [],
   "source": [
    "cls_tokens = predict_cls(model, dataloader, device)\n",
    "dataset[\"cls_token\"] = pd.Series(list(cls_tokens))\n",
    "dataset[\"staleness\"] = 0"
   ]
  },
  {
   "cell_type": "code",
   "execution_count": 155,
   "metadata": {},
   "outputs": [
    {
     "data": {
      "text/html": [
       "<div>\n",
       "<style scoped>\n",
       "    .dataframe tbody tr th:only-of-type {\n",
       "        vertical-align: middle;\n",
       "    }\n",
       "\n",
       "    .dataframe tbody tr th {\n",
       "        vertical-align: top;\n",
       "    }\n",
       "\n",
       "    .dataframe thead th {\n",
       "        text-align: right;\n",
       "    }\n",
       "</style>\n",
       "<table border=\"1\" class=\"dataframe\">\n",
       "  <thead>\n",
       "    <tr style=\"text-align: right;\">\n",
       "      <th></th>\n",
       "      <th>stocks</th>\n",
       "      <th>title</th>\n",
       "      <th>channels</th>\n",
       "      <th>body</th>\n",
       "      <th>author</th>\n",
       "      <th>company_name</th>\n",
       "      <th>short_name</th>\n",
       "      <th>parsed_body</th>\n",
       "      <th>cls_token</th>\n",
       "      <th>staleness</th>\n",
       "    </tr>\n",
       "    <tr>\n",
       "      <th>__null_dask_index__</th>\n",
       "      <th></th>\n",
       "      <th></th>\n",
       "      <th></th>\n",
       "      <th></th>\n",
       "      <th></th>\n",
       "      <th></th>\n",
       "      <th></th>\n",
       "      <th></th>\n",
       "      <th></th>\n",
       "      <th></th>\n",
       "    </tr>\n",
       "  </thead>\n",
       "  <tbody>\n",
       "    <tr>\n",
       "      <th>75365</th>\n",
       "      <td>NOC</td>\n",
       "      <td>Northrop Grumman to Move Corporate Office to W...</td>\n",
       "      <td>[]</td>\n",
       "      <td>LOS ANGELES, Jan. 4 /PRNewswire-FirstCall/ -- ...</td>\n",
       "      <td>PRNewswire</td>\n",
       "      <td>Northrop Grumman Corporation</td>\n",
       "      <td>Northrop Grumman</td>\n",
       "      <td>FirstCall      the company   announced a decis...</td>\n",
       "      <td>[0.45929235219955444, -2.080160140991211, -0.5...</td>\n",
       "      <td>NaN</td>\n",
       "    </tr>\n",
       "    <tr>\n",
       "      <th>75909</th>\n",
       "      <td>NOC</td>\n",
       "      <td>Northrop Grumman and the U.S. Army Achieve Maj...</td>\n",
       "      <td>[]</td>\n",
       "      <td>EGLIN AIR FORCE BASE, Fla., Jan. 5, 2010 (GLOB...</td>\n",
       "      <td>Globe Newswire</td>\n",
       "      <td>Northrop Grumman Corporation</td>\n",
       "      <td>Northrop Grumman</td>\n",
       "      <td>the company   and the U.S.Army recently comple...</td>\n",
       "      <td>[-0.457493394613266, 0.08568877726793289, -1.0...</td>\n",
       "      <td>0.0</td>\n",
       "    </tr>\n",
       "  </tbody>\n",
       "</table>\n",
       "</div>"
      ],
      "text/plain": [
       "                    stocks                                              title  \\\n",
       "__null_dask_index__                                                             \n",
       "75365                  NOC  Northrop Grumman to Move Corporate Office to W...   \n",
       "75909                  NOC  Northrop Grumman and the U.S. Army Achieve Maj...   \n",
       "\n",
       "                    channels  \\\n",
       "__null_dask_index__            \n",
       "75365                     []   \n",
       "75909                     []   \n",
       "\n",
       "                                                                  body  \\\n",
       "__null_dask_index__                                                      \n",
       "75365                LOS ANGELES, Jan. 4 /PRNewswire-FirstCall/ -- ...   \n",
       "75909                EGLIN AIR FORCE BASE, Fla., Jan. 5, 2010 (GLOB...   \n",
       "\n",
       "                             author                  company_name  \\\n",
       "__null_dask_index__                                                 \n",
       "75365                    PRNewswire  Northrop Grumman Corporation   \n",
       "75909                Globe Newswire  Northrop Grumman Corporation   \n",
       "\n",
       "                           short_name  \\\n",
       "__null_dask_index__                     \n",
       "75365                Northrop Grumman   \n",
       "75909                Northrop Grumman   \n",
       "\n",
       "                                                           parsed_body  \\\n",
       "__null_dask_index__                                                      \n",
       "75365                FirstCall      the company   announced a decis...   \n",
       "75909                the company   and the U.S.Army recently comple...   \n",
       "\n",
       "                                                             cls_token  \\\n",
       "__null_dask_index__                                                      \n",
       "75365                [0.45929235219955444, -2.080160140991211, -0.5...   \n",
       "75909                [-0.457493394613266, 0.08568877726793289, -1.0...   \n",
       "\n",
       "                     staleness  \n",
       "__null_dask_index__             \n",
       "75365                      NaN  \n",
       "75909                      0.0  "
      ]
     },
     "execution_count": 155,
     "metadata": {},
     "output_type": "execute_result"
    }
   ],
   "source": [
    "ticker_news"
   ]
  },
  {
   "cell_type": "code",
   "execution_count": 165,
   "metadata": {},
   "outputs": [],
   "source": [
    "ticker = \"JBLU\"\n",
    "\n",
    "for ticker in set(dataset.stocks):\n",
    "    # ticker loop\n",
    "    ticker_news = dataset[dataset.stocks == ticker].reset_index()\n",
    "    ticker_news = ticker_news.set_index(\"time\")\n",
    "    # Set staleness of first news message to 0 \n",
    "    ticker_news.at[ticker_news.index[0], \"staleness\"] = 0\n",
    "\n",
    "    # time loop\n",
    "    for time in  ticker_news.index:\n",
    "        previous_news = ticker_news.loc[(time-pd.DateOffset(days=3)):time, \"cls_token\"]\n",
    "        if len(previous_news) == 1:\n",
    "            ticker_news.at[time, \"staleness\"] = 0\n",
    "        else:\n",
    "            current_cls = previous_news.pop(time)\n",
    "            cosine_sims = previous_news.apply(lambda x: dot(current_cls, x)/(norm(current_cls)*norm(x)))\n",
    "            ticker_news.at[time, \"staleness\"] = cosine_sims.max()\n",
    "    \n",
    "    ticker_news.set_index(\"__null_dask_index__\", inplace=True)\n",
    "    # Add entries to data set\n",
    "    dataset.loc[ticker_news.index, \"staleness\"] = ticker_news.loc[:, \"staleness\"]"
   ]
  },
  {
   "cell_type": "code",
   "execution_count": 171,
   "metadata": {},
   "outputs": [
    {
     "data": {
      "text/plain": [
       "'FirstCall      the company  , a leading property and casualty insurance provider, today announced that it has named Tony de Padua as a member of the company\\'s executive leadership team.Additionally, he will have direct responsibility for The Hanover\\'s growing marine and umbrella businesses, driving continued profitable growth and building new niche products for lucrative markets, such as the technology industry.He will be based in The Hanover\\'s Worcester headquarters.\"We are extremely pleased that Tony has joined our team,\" said Marita Zuraitis, president of The Hanover\\'s property and casualty companies.\"As we continue to expand our commercial lines organization, it is important that our senior leadership team is aligned to effectively manage our risk management capabilities as well as our continued expansion.Tony\\'s tremendous knowledge and skill will help us achieve our goal of becoming one of the best commercial lines businesses in the industry.\" De Padua brings more than 30 years experience to The Hanover, having worked in the field and in field support leadership roles with CNA, The St.Paul Companies, Allstate and Aetna.Most recently, he was senior vice president, commercial segments at CNA with strategic and operational responsibility for risk management casualty and middle market business, as well as strategic responsibility for the construction and technology practices.Prior to joining CNA in 2003, de Padua was president of construction at The St.Paul Companies, where he served in various leadership roles since 1996.Before that, he was chief underwriting and loss control officer at Allstate.About The Hanover.the company  , based in Worcester, Mass., is the holding company for a group of insurers that includes The Hanover Insurance Company, also based in Worcester; Citizens Insurance Company of America, headquartered in Howell, Mich., and their affiliates.The Hanover offers a wide range of property and casualty products and services to individuals, families and businesses through an extensive network of independent agents, and has been meeting its obligations to its agent partners and their customers for more than 150 years.Taken as a group, The Hanover ranks among the top 30 property and casualty insurers in the United States.CONTACTS:         Investor Relations                           Media Relations         Robert P'"
      ]
     },
     "execution_count": 171,
     "metadata": {},
     "output_type": "execute_result"
    }
   ],
   "source": [
    "dataset[dataset.stocks == \"THG\"].parsed_body.iloc[0]"
   ]
  },
  {
   "cell_type": "code",
   "execution_count": 180,
   "metadata": {},
   "outputs": [
    {
     "data": {
      "text/html": [
       "<div>\n",
       "<style scoped>\n",
       "    .dataframe tbody tr th:only-of-type {\n",
       "        vertical-align: middle;\n",
       "    }\n",
       "\n",
       "    .dataframe tbody tr th {\n",
       "        vertical-align: top;\n",
       "    }\n",
       "\n",
       "    .dataframe thead th {\n",
       "        text-align: right;\n",
       "    }\n",
       "</style>\n",
       "<table border=\"1\" class=\"dataframe\">\n",
       "  <thead>\n",
       "    <tr style=\"text-align: right;\">\n",
       "      <th></th>\n",
       "      <th>time</th>\n",
       "      <th>stocks</th>\n",
       "      <th>title</th>\n",
       "      <th>channels</th>\n",
       "      <th>body</th>\n",
       "      <th>author</th>\n",
       "      <th>company_name</th>\n",
       "      <th>short_name</th>\n",
       "      <th>parsed_body</th>\n",
       "      <th>cls_token</th>\n",
       "      <th>staleness</th>\n",
       "    </tr>\n",
       "    <tr>\n",
       "      <th>__null_dask_index__</th>\n",
       "      <th></th>\n",
       "      <th></th>\n",
       "      <th></th>\n",
       "      <th></th>\n",
       "      <th></th>\n",
       "      <th></th>\n",
       "      <th></th>\n",
       "      <th></th>\n",
       "      <th></th>\n",
       "      <th></th>\n",
       "      <th></th>\n",
       "    </tr>\n",
       "  </thead>\n",
       "  <tbody>\n",
       "    <tr>\n",
       "      <th>75302</th>\n",
       "      <td>2010-01-04 16:02:58-04:00</td>\n",
       "      <td>THG</td>\n",
       "      <td>The Hanover Names Tony de Padua To Lead Corpor...</td>\n",
       "      <td>[]</td>\n",
       "      <td>WORCESTER, Mass. Jan. 4 /PRNewswire-FirstCall/...</td>\n",
       "      <td>PRNewswire</td>\n",
       "      <td>The Hanover Insurance Group, Inc.</td>\n",
       "      <td>The Hanover Insurance Group</td>\n",
       "      <td>FirstCall      the company  , a leading proper...</td>\n",
       "      <td>[-0.1773327738046646, -1.3504993915557861, -0....</td>\n",
       "      <td>0.000000</td>\n",
       "    </tr>\n",
       "    <tr>\n",
       "      <th>76981</th>\n",
       "      <td>2010-01-05 16:17:38-04:00</td>\n",
       "      <td>THG</td>\n",
       "      <td>The Hanover Names Andrejs Krutainis to Lead Ha...</td>\n",
       "      <td>[]</td>\n",
       "      <td>WORCESTER, Mass., Jan. 5 /PRNewswire-FirstCall...</td>\n",
       "      <td>PRNewswire</td>\n",
       "      <td>The Hanover Insurance Group, Inc.</td>\n",
       "      <td>The Hanover Insurance Group</td>\n",
       "      <td>FirstCall      the company  , a leading proper...</td>\n",
       "      <td>[-0.1505945324897766, -1.544845700263977, -0.6...</td>\n",
       "      <td>0.985288</td>\n",
       "    </tr>\n",
       "  </tbody>\n",
       "</table>\n",
       "</div>"
      ],
      "text/plain": [
       "                                         time stocks  \\\n",
       "__null_dask_index__                                    \n",
       "75302               2010-01-04 16:02:58-04:00    THG   \n",
       "76981               2010-01-05 16:17:38-04:00    THG   \n",
       "\n",
       "                                                                 title  \\\n",
       "__null_dask_index__                                                      \n",
       "75302                The Hanover Names Tony de Padua To Lead Corpor...   \n",
       "76981                The Hanover Names Andrejs Krutainis to Lead Ha...   \n",
       "\n",
       "                    channels  \\\n",
       "__null_dask_index__            \n",
       "75302                     []   \n",
       "76981                     []   \n",
       "\n",
       "                                                                  body  \\\n",
       "__null_dask_index__                                                      \n",
       "75302                WORCESTER, Mass. Jan. 4 /PRNewswire-FirstCall/...   \n",
       "76981                WORCESTER, Mass., Jan. 5 /PRNewswire-FirstCall...   \n",
       "\n",
       "                         author                       company_name  \\\n",
       "__null_dask_index__                                                  \n",
       "75302                PRNewswire  The Hanover Insurance Group, Inc.   \n",
       "76981                PRNewswire  The Hanover Insurance Group, Inc.   \n",
       "\n",
       "                                      short_name  \\\n",
       "__null_dask_index__                                \n",
       "75302                The Hanover Insurance Group   \n",
       "76981                The Hanover Insurance Group   \n",
       "\n",
       "                                                           parsed_body  \\\n",
       "__null_dask_index__                                                      \n",
       "75302                FirstCall      the company  , a leading proper...   \n",
       "76981                FirstCall      the company  , a leading proper...   \n",
       "\n",
       "                                                             cls_token  \\\n",
       "__null_dask_index__                                                      \n",
       "75302                [-0.1773327738046646, -1.3504993915557861, -0....   \n",
       "76981                [-0.1505945324897766, -1.544845700263977, -0.6...   \n",
       "\n",
       "                     staleness  \n",
       "__null_dask_index__             \n",
       "75302                 0.000000  \n",
       "76981                 0.985288  "
      ]
     },
     "execution_count": 180,
     "metadata": {},
     "output_type": "execute_result"
    }
   ],
   "source": [
    "dataset[dataset.stocks == \"THG\"]"
   ]
  },
  {
   "cell_type": "code",
   "execution_count": 181,
   "metadata": {},
   "outputs": [
    {
     "data": {
      "text/plain": [
       "'WORCESTER, Mass. Jan. 4 /PRNewswire-FirstCall/ -- The Hanover Insurance Group,\\nInc. (NYSE: THG), a leading property and casualty insurance provider, today\\nannounced that it has named Tony de Padua as a member of the company\\'s\\nexecutive leadership team.\\n\\n(Logo: http://www.newscom.com/cgi-bin/prnh/20051031/NEM023LOGO )\\n\\nIn this role, de Padua will lead the company\\'s corporate commercial lines\\nproduct and underwriting functions. Additionally, he will have direct\\nresponsibility for The Hanover\\'s growing marine and umbrella businesses,\\ndriving continued profitable growth and building new niche products for\\nlucrative markets, such as the technology industry. He will be based in The\\nHanover\\'s Worcester headquarters.\\n\\n\"We are extremely pleased that Tony has joined our team,\" said Marita\\nZuraitis, president of The Hanover\\'s property and casualty companies. \"As we\\ncontinue to expand our commercial lines organization, it is important that our\\nsenior leadership team is aligned to effectively manage our risk management\\ncapabilities as well as our continued expansion. Tony\\'s tremendous knowledge\\nand skill will help us achieve our goal of becoming one of the best commercial\\nlines businesses in the industry.\"\\n\\nDe Padua brings more than 30 years experience to The Hanover, having worked in\\nthe field and in field support leadership roles with CNA, The St. Paul\\nCompanies, Allstate and Aetna.\\n\\nMost recently, he was senior vice president, commercial segments at CNA with\\nstrategic and operational responsibility for risk management casualty and\\nmiddle market business, as well as strategic responsibility for the\\nconstruction and technology practices.\\n\\nPrior to joining CNA in 2003, de Padua was president of construction at The\\nSt. Paul Companies, where he served in various leadership roles since 1996.\\nBefore that, he was chief underwriting and loss control officer at Allstate.\\n\\n**About The Hanover**\\n\\nThe Hanover Insurance Group, Inc. (NYSE: THG), based in Worcester, Mass., is\\nthe holding company for a group of insurers that includes The Hanover\\nInsurance Company, also based in Worcester; Citizens Insurance Company of\\nAmerica, headquartered in Howell, Mich., and their affiliates. The Hanover\\noffers a wide range of property and casualty products and services to\\nindividuals, families and businesses through an extensive network of\\nindependent agents, and has been meeting its obligations to its agent partners\\nand their customers for more than 150 years. Taken as a group, The Hanover\\nranks among the top 30 property and casualty insurers in the United States.\\n\\n    \\n    \\n    \\n        CONTACTS:\\n        Investor Relations                           Media Relations\\n        Robert P. Myron     Oksana Lukasheva         Amy Lynn Banek\\n        rmyron@hanover.com   olukasheva@hanover.com  abanek@hanover.com\\n        (508) 855-2200              (508) 855- 2063  (508) 855-4486\\n    \\n    \\n\\nSOURCE The Hanover Insurance Group, Inc.\\n\\n'"
      ]
     },
     "metadata": {},
     "output_type": "display_data"
    }
   ],
   "source": [
    "from IPython.display import display\n",
    "display(dataset[dataset.stocks == \"THG\"].body.iloc[0])\n"
   ]
  },
  {
   "cell_type": "markdown",
   "metadata": {},
   "source": [
    "# Distribution of staleness factors"
   ]
  },
  {
   "cell_type": "markdown",
   "metadata": {},
   "source": []
  }
 ],
 "metadata": {
  "kernelspec": {
   "display_name": ".venv",
   "language": "python",
   "name": "python3"
  },
  "language_info": {
   "codemirror_mode": {
    "name": "ipython",
    "version": 3
   },
   "file_extension": ".py",
   "mimetype": "text/x-python",
   "name": "python",
   "nbconvert_exporter": "python",
   "pygments_lexer": "ipython3",
   "version": "3.11.3"
  }
 },
 "nbformat": 4,
 "nbformat_minor": 2
}
