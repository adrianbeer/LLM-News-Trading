{
 "cells": [
  {
   "cell_type": "markdown",
   "metadata": {},
   "source": [
    "# Calculate stalens factor of news"
   ]
  },
  {
   "cell_type": "code",
   "execution_count": null,
   "metadata": {},
   "outputs": [],
   "source": [
    "import pandas as pd\n",
    "import torch\n",
    "import torch.nn as nn\n",
    "import yaml\n",
    "from dotmap import DotMap\n",
    "from transformers import BertModel\n",
    "from transformers import BertTokenizerFast\n",
    "from src.model.data_loading import get_data_loader_from_dataset\n",
    "from numpy import dot\n",
    "from numpy.linalg import norm\n",
    "from src.model.neural_network import predict\n",
    "\n",
    "from src.model.neural_network import (\n",
    "    TRANSFORMER_HF_ID,\n",
    "    train,\n",
    ")\n",
    "\n",
    "config = DotMap(yaml.safe_load(open(\"src/config.yaml\")), _dynamic=False)\n",
    "input_col_name = config.model.input_col_name\n",
    "target_col_name = config.model.target_col_name\n",
    "\n",
    "batch_size = 4\n",
    "epochs = 3\n",
    "tokenizer = BertTokenizerFast.from_pretrained(TRANSFORMER_HF_ID)"
   ]
  },
  {
   "cell_type": "code",
   "execution_count": null,
   "metadata": {},
   "outputs": [],
   "source": [
    "# Use baseline bert model to avoid look-ahead bias \n",
    "model = BertModel.from_pretrained(TRANSFORMER_HF_ID)\n",
    "model.eval()\n",
    "\n",
    "if torch.cuda.is_available():       \n",
    "    device = torch.device(\"cuda\")\n",
    "    print(\"Using GPU.\")\n",
    "else:\n",
    "    print(\"No GPU available, using the CPU instead.\")\n",
    "    device = torch.device(\"cpu\")\n",
    "model.to(device)"
   ]
  },
  {
   "cell_type": "code",
   "execution_count": null,
   "metadata": {},
   "outputs": [],
   "source": [
    "dataset = pd.read_parquet(config.data.benzinga.cleaned)\n"
   ]
  },
  {
   "cell_type": "code",
   "execution_count": null,
   "metadata": {},
   "outputs": [],
   "source": [
    "cls_tokens = predict(model, train, device)"
   ]
  },
  {
   "cell_type": "code",
   "execution_count": null,
   "metadata": {},
   "outputs": [],
   "source": [
    "# To determine the freshness of news, I compare the similarity of each news article with all articles published in the previous three days."
   ]
  },
  {
   "cell_type": "code",
   "execution_count": null,
   "metadata": {},
   "outputs": [],
   "source": [
    "ticker = \"AAPL\"\n",
    "ticker_news = dataset[dataset.ticker == ticker]\n",
    "cls_tokens = predict(model, train, device)\n",
    "ticker_news[\"cls_token\"] = None\n",
    "ticker_news[\"cls_token\"] = ticker_news[\"cls_token\"].astype(object)\n",
    "ticker_news[\"staleness\"] = 0\n",
    "\n",
    "dataloader = get_data_loader_from_dataset(dataset=ticker_news,\n",
    "                                          tokenizer=tokenizer,\n",
    "                                          batch_size=batch_size,\n",
    "                                          data_loader_kwargs=dict(shuffe=True,\n",
    "                                                                  pin_memory=True))"
   ]
  },
  {
   "cell_type": "code",
   "execution_count": null,
   "metadata": {},
   "outputs": [],
   "source": [
    "cls_tokens = predict(model, dataloader, device)\n",
    "ticker_news[\"cls_token\"] = cls_tokens\n",
    "for time in ticker_news.time:\n",
    "    last_3_day_news = ticker_news[time:time + pd.DateOffset(days=3), \"cls_token\"]\n",
    "    current_cls = ticker_news.at[time, \"cls_token\"]\n",
    "    cosine_sims = last_3_day_news.cls_token.apply(lambda x: dot(current_cls, x)/(norm(current_cls)*norm(x)))\n",
    "    ticker_news.at[time, \"staleness\"] = cosine_sims.max()"
   ]
  },
  {
   "cell_type": "code",
   "execution_count": null,
   "metadata": {},
   "outputs": [],
   "source": [
    "dataset[\"base_bert_\"]"
   ]
  },
  {
   "cell_type": "markdown",
   "metadata": {},
   "source": [
    "# Distribution of staleness factors"
   ]
  }
 ],
 "metadata": {
  "kernelspec": {
   "display_name": ".venv",
   "language": "python",
   "name": "python3"
  },
  "language_info": {
   "name": "python",
   "version": "3.11.3"
  }
 },
 "nbformat": 4,
 "nbformat_minor": 2
}
