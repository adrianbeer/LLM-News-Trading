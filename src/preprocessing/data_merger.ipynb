{
 "cells": [
  {
   "cell_type": "code",
   "execution_count": 51,
   "metadata": {},
   "outputs": [],
   "source": [
    "import pandas as pd \n",
    "import numpy as np\n",
    "import json\n",
    "import plotly.express as px"
   ]
  },
  {
   "attachments": {},
   "cell_type": "markdown",
   "metadata": {},
   "source": [
    "# Import Stocks"
   ]
  },
  {
   "cell_type": "code",
   "execution_count": 52,
   "metadata": {},
   "outputs": [],
   "source": [
    "stocks = pd.read_pickle(\"data/stocks.pkl\")"
   ]
  },
  {
   "cell_type": "code",
   "execution_count": 53,
   "metadata": {},
   "outputs": [
    {
     "data": {
      "text/html": [
       "<div>\n",
       "<style scoped>\n",
       "    .dataframe tbody tr th:only-of-type {\n",
       "        vertical-align: middle;\n",
       "    }\n",
       "\n",
       "    .dataframe tbody tr th {\n",
       "        vertical-align: top;\n",
       "    }\n",
       "\n",
       "    .dataframe thead th {\n",
       "        text-align: right;\n",
       "    }\n",
       "</style>\n",
       "<table border=\"1\" class=\"dataframe\">\n",
       "  <thead>\n",
       "    <tr style=\"text-align: right;\">\n",
       "      <th></th>\n",
       "      <th></th>\n",
       "      <th>Close</th>\n",
       "      <th>High</th>\n",
       "      <th>Low</th>\n",
       "      <th>Open</th>\n",
       "    </tr>\n",
       "    <tr>\n",
       "      <th>Date</th>\n",
       "      <th>ID</th>\n",
       "      <th></th>\n",
       "      <th></th>\n",
       "      <th></th>\n",
       "      <th></th>\n",
       "    </tr>\n",
       "  </thead>\n",
       "  <tbody>\n",
       "    <tr>\n",
       "      <th rowspan=\"2\" valign=\"top\">1976-01-05</th>\n",
       "      <th>ARNC</th>\n",
       "      <td>5.7790</td>\n",
       "      <td>5.7965</td>\n",
       "      <td>5.4802</td>\n",
       "      <td>5.4802</td>\n",
       "    </tr>\n",
       "    <tr>\n",
       "      <th>GT</th>\n",
       "      <td>11.2790</td>\n",
       "      <td>11.2790</td>\n",
       "      <td>11.0298</td>\n",
       "      <td>11.0298</td>\n",
       "    </tr>\n",
       "    <tr>\n",
       "      <th>1976-01-06</th>\n",
       "      <th>ARNC</th>\n",
       "      <td>5.9369</td>\n",
       "      <td>5.9545</td>\n",
       "      <td>5.7965</td>\n",
       "      <td>5.7965</td>\n",
       "    </tr>\n",
       "  </tbody>\n",
       "</table>\n",
       "</div>"
      ],
      "text/plain": [
       "                   Close     High      Low     Open\n",
       "Date       ID                                      \n",
       "1976-01-05 ARNC   5.7790   5.7965   5.4802   5.4802\n",
       "           GT    11.2790  11.2790  11.0298  11.0298\n",
       "1976-01-06 ARNC   5.9369   5.9545   5.7965   5.7965"
      ]
     },
     "execution_count": 53,
     "metadata": {},
     "output_type": "execute_result"
    }
   ],
   "source": [
    "stocks.head(3)"
   ]
  },
  {
   "cell_type": "code",
   "execution_count": 54,
   "metadata": {},
   "outputs": [
    {
     "data": {
      "text/plain": [
       "1959"
      ]
     },
     "execution_count": 54,
     "metadata": {},
     "output_type": "execute_result"
    }
   ],
   "source": [
    "stock_tickers = set(stocks.index.get_level_values(\"ID\").unique())\n",
    "len(stock_tickers)"
   ]
  },
  {
   "attachments": {},
   "cell_type": "markdown",
   "metadata": {},
   "source": [
    "# Import Stories"
   ]
  },
  {
   "cell_type": "code",
   "execution_count": 55,
   "metadata": {},
   "outputs": [],
   "source": [
    "stories = pd.read_pickle(\"data/stories.pkl\")"
   ]
  },
  {
   "cell_type": "code",
   "execution_count": 56,
   "metadata": {},
   "outputs": [],
   "source": [
    "stories_tickers = set(stories.stocks.unique())"
   ]
  },
  {
   "cell_type": "code",
   "execution_count": 57,
   "metadata": {},
   "outputs": [
    {
     "data": {
      "text/html": [
       "<div>\n",
       "<style scoped>\n",
       "    .dataframe tbody tr th:only-of-type {\n",
       "        vertical-align: middle;\n",
       "    }\n",
       "\n",
       "    .dataframe tbody tr th {\n",
       "        vertical-align: top;\n",
       "    }\n",
       "\n",
       "    .dataframe thead th {\n",
       "        text-align: right;\n",
       "    }\n",
       "</style>\n",
       "<table border=\"1\" class=\"dataframe\">\n",
       "  <thead>\n",
       "    <tr style=\"text-align: right;\">\n",
       "      <th></th>\n",
       "      <th>stocks</th>\n",
       "      <th>author</th>\n",
       "      <th>title</th>\n",
       "      <th>channels</th>\n",
       "      <th>body</th>\n",
       "      <th>html_body</th>\n",
       "      <th>NewsTimestamp</th>\n",
       "    </tr>\n",
       "  </thead>\n",
       "  <tbody>\n",
       "    <tr>\n",
       "      <th>33058275</th>\n",
       "      <td>BSET</td>\n",
       "      <td>Globe Newswire</td>\n",
       "      <td>Bassett Announces Fiscal Second Quarter Results</td>\n",
       "      <td>[\"Earnings\", \"Press Releases\"]</td>\n",
       "      <td>Bassett Furniture Industries,\\nInc.  announced...</td>\n",
       "      <td>&lt;link type=\"text/css\" rel=\"stylesheet\" href=\"h...</td>\n",
       "      <td>2023-06-29 09:00:00-04:00</td>\n",
       "    </tr>\n",
       "    <tr>\n",
       "      <th>33055733</th>\n",
       "      <td>SMPL</td>\n",
       "      <td>Globe Newswire</td>\n",
       "      <td>The Simply Good Foods Company Reports Third Qu...</td>\n",
       "      <td>[\"Earnings\", \"Restaurants\", \"Press Releases\", ...</td>\n",
       "      <td>the company\\n\\nand seller of branded nutrition...</td>\n",
       "      <td>&lt;link type=\"text/css\" rel=\"stylesheet\" href=\"h...</td>\n",
       "      <td>2023-06-29 07:00:00-04:00</td>\n",
       "    </tr>\n",
       "    <tr>\n",
       "      <th>33054892</th>\n",
       "      <td>GBX</td>\n",
       "      <td>PRNewswire</td>\n",
       "      <td>Greenbrier Reports Third Quarter Results</td>\n",
       "      <td>[\"Earnings\", \"Press Releases\"]</td>\n",
       "      <td>GAAP EPS of $0.64 includes $13 million loss re...</td>\n",
       "      <td>&lt;p xmlns=\"http://www.w3.org/1999/xhtml\" class=...</td>\n",
       "      <td>2023-06-29 06:00:00-04:00</td>\n",
       "    </tr>\n",
       "    <tr>\n",
       "      <th>33054856</th>\n",
       "      <td>EGBN</td>\n",
       "      <td>Globe Newswire</td>\n",
       "      <td>Eagle Bancorp, Inc. Announces Cash Dividend</td>\n",
       "      <td>[\"News\", \"Dividends\", \"Press Releases\"]</td>\n",
       "      <td>the company (the\\n\\ncash dividend for the seco...</td>\n",
       "      <td>&lt;link type=\"text/css\" rel=\"stylesheet\" href=\"h...</td>\n",
       "      <td>2023-06-29 06:00:00-04:00</td>\n",
       "    </tr>\n",
       "    <tr>\n",
       "      <th>33050541</th>\n",
       "      <td>AOUT</td>\n",
       "      <td>PRNewswire</td>\n",
       "      <td>American Outdoor Brands, Inc. Reports Fourth Q...</td>\n",
       "      <td>[\"Earnings\", \"Press Releases\"]</td>\n",
       "      <td>_• FY23_  _Net Sales $191.2 Million _\\n\\n_•_  ...</td>\n",
       "      <td>&lt;p xmlns=\"http://www.w3.org/1999/xhtml\" class=...</td>\n",
       "      <td>2023-06-28 16:29:00-04:00</td>\n",
       "    </tr>\n",
       "  </tbody>\n",
       "</table>\n",
       "</div>"
      ],
      "text/plain": [
       "         stocks          author  \\\n",
       "33058275   BSET  Globe Newswire   \n",
       "33055733   SMPL  Globe Newswire   \n",
       "33054892    GBX      PRNewswire   \n",
       "33054856   EGBN  Globe Newswire   \n",
       "33050541   AOUT      PRNewswire   \n",
       "\n",
       "                                                      title  \\\n",
       "33058275    Bassett Announces Fiscal Second Quarter Results   \n",
       "33055733  The Simply Good Foods Company Reports Third Qu...   \n",
       "33054892           Greenbrier Reports Third Quarter Results   \n",
       "33054856        Eagle Bancorp, Inc. Announces Cash Dividend   \n",
       "33050541  American Outdoor Brands, Inc. Reports Fourth Q...   \n",
       "\n",
       "                                                   channels  \\\n",
       "33058275                     [\"Earnings\", \"Press Releases\"]   \n",
       "33055733  [\"Earnings\", \"Restaurants\", \"Press Releases\", ...   \n",
       "33054892                     [\"Earnings\", \"Press Releases\"]   \n",
       "33054856            [\"News\", \"Dividends\", \"Press Releases\"]   \n",
       "33050541                     [\"Earnings\", \"Press Releases\"]   \n",
       "\n",
       "                                                       body  \\\n",
       "33058275  Bassett Furniture Industries,\\nInc.  announced...   \n",
       "33055733  the company\\n\\nand seller of branded nutrition...   \n",
       "33054892  GAAP EPS of $0.64 includes $13 million loss re...   \n",
       "33054856  the company (the\\n\\ncash dividend for the seco...   \n",
       "33050541  _• FY23_  _Net Sales $191.2 Million _\\n\\n_•_  ...   \n",
       "\n",
       "                                                  html_body  \\\n",
       "33058275  <link type=\"text/css\" rel=\"stylesheet\" href=\"h...   \n",
       "33055733  <link type=\"text/css\" rel=\"stylesheet\" href=\"h...   \n",
       "33054892  <p xmlns=\"http://www.w3.org/1999/xhtml\" class=...   \n",
       "33054856  <link type=\"text/css\" rel=\"stylesheet\" href=\"h...   \n",
       "33050541  <p xmlns=\"http://www.w3.org/1999/xhtml\" class=...   \n",
       "\n",
       "                     NewsTimestamp  \n",
       "33058275 2023-06-29 09:00:00-04:00  \n",
       "33055733 2023-06-29 07:00:00-04:00  \n",
       "33054892 2023-06-29 06:00:00-04:00  \n",
       "33054856 2023-06-29 06:00:00-04:00  \n",
       "33050541 2023-06-28 16:29:00-04:00  "
      ]
     },
     "execution_count": 57,
     "metadata": {},
     "output_type": "execute_result"
    }
   ],
   "source": [
    "stories.head()"
   ]
  },
  {
   "attachments": {},
   "cell_type": "markdown",
   "metadata": {},
   "source": [
    "## Analysis: Channel occurence"
   ]
  },
  {
   "cell_type": "code",
   "execution_count": 58,
   "metadata": {},
   "outputs": [],
   "source": [
    "channels = set()\n",
    "for i in stories.index:\n",
    "    s = pd.Series(json.loads(stories.loc[i].channels)).value_counts()\n",
    "    channels = channels.union(set(s.index))"
   ]
  },
  {
   "cell_type": "code",
   "execution_count": 59,
   "metadata": {},
   "outputs": [],
   "source": [
    "df = pd.DataFrame(data=0, index=list(channels), columns=[\"count\"])\n",
    "for i in stories.index:\n",
    "    s = pd.Series(json.loads(stories.loc[i].channels)).value_counts()\n",
    "    df.loc[s.index, \"count\"] += s.values"
   ]
  },
  {
   "cell_type": "code",
   "execution_count": 60,
   "metadata": {},
   "outputs": [
    {
     "data": {
      "text/html": [
       "<div>\n",
       "<style scoped>\n",
       "    .dataframe tbody tr th:only-of-type {\n",
       "        vertical-align: middle;\n",
       "    }\n",
       "\n",
       "    .dataframe tbody tr th {\n",
       "        vertical-align: top;\n",
       "    }\n",
       "\n",
       "    .dataframe thead th {\n",
       "        text-align: right;\n",
       "    }\n",
       "</style>\n",
       "<table border=\"1\" class=\"dataframe\">\n",
       "  <thead>\n",
       "    <tr style=\"text-align: right;\">\n",
       "      <th></th>\n",
       "      <th>count</th>\n",
       "    </tr>\n",
       "  </thead>\n",
       "  <tbody>\n",
       "    <tr>\n",
       "      <th>Press Releases</th>\n",
       "      <td>2026</td>\n",
       "    </tr>\n",
       "    <tr>\n",
       "      <th>Earnings</th>\n",
       "      <td>1588</td>\n",
       "    </tr>\n",
       "    <tr>\n",
       "      <th>Dividends</th>\n",
       "      <td>348</td>\n",
       "    </tr>\n",
       "    <tr>\n",
       "      <th>News</th>\n",
       "      <td>332</td>\n",
       "    </tr>\n",
       "    <tr>\n",
       "      <th>Financing</th>\n",
       "      <td>100</td>\n",
       "    </tr>\n",
       "    <tr>\n",
       "      <th>Real Estate</th>\n",
       "      <td>86</td>\n",
       "    </tr>\n",
       "    <tr>\n",
       "      <th>Commodities</th>\n",
       "      <td>85</td>\n",
       "    </tr>\n",
       "  </tbody>\n",
       "</table>\n",
       "</div>"
      ],
      "text/plain": [
       "                count\n",
       "Press Releases   2026\n",
       "Earnings         1588\n",
       "Dividends         348\n",
       "News              332\n",
       "Financing         100\n",
       "Real Estate        86\n",
       "Commodities        85"
      ]
     },
     "execution_count": 60,
     "metadata": {},
     "output_type": "execute_result"
    }
   ],
   "source": [
    "df = df.sort_values(\"count\", ascending=False)\n",
    "df.head(7)"
   ]
  },
  {
   "attachments": {},
   "cell_type": "markdown",
   "metadata": {},
   "source": [
    "## Parse stocks"
   ]
  },
  {
   "cell_type": "code",
   "execution_count": 61,
   "metadata": {},
   "outputs": [],
   "source": [
    "assert stories.stocks.dtype == stocks.index.dtypes[1]"
   ]
  },
  {
   "cell_type": "code",
   "execution_count": 62,
   "metadata": {},
   "outputs": [],
   "source": [
    "def add_targets(df):\n",
    "    required_columns = [\"Close\", \"High\", \"Low\", \"Open\"]\n",
    "    df.loc[:, \"IntradayReturn\"] = df[\"Close\"]/df[\"Open\"] - 1\n",
    "    df.loc[:, \"NextDayReturn\"] = df.shift(-1)[\"Close\"] / df.shift(-1)[\"Open\"] - 1\n",
    "    df.loc[:, \"CloseToNextOpen\"] = df.shift(-1)[\"Open\"] / df[\"Close\"] - 1\n",
    "    return df"
   ]
  },
  {
   "cell_type": "code",
   "execution_count": 63,
   "metadata": {},
   "outputs": [
    {
     "data": {
      "text/plain": [
       "Date    datetime64[ns]\n",
       "ID            category\n",
       "dtype: object"
      ]
     },
     "execution_count": 63,
     "metadata": {},
     "output_type": "execute_result"
    }
   ],
   "source": [
    "stocks.index.dtypes"
   ]
  },
  {
   "cell_type": "code",
   "execution_count": 64,
   "metadata": {},
   "outputs": [],
   "source": [
    "stocks.loc[:, [\"IntradayReturn\", \"NextDayReturn\"]] = np.nan\n",
    "stocks = stocks.swaplevel(0, 1).sort_index(ascending=[True, True])"
   ]
  },
  {
   "cell_type": "code",
   "execution_count": 65,
   "metadata": {},
   "outputs": [],
   "source": [
    "stocks = stocks.groupby(\"ID\", as_index=False).apply(add_targets)\n",
    "stocks.index = stocks.index.droplevel(None)"
   ]
  },
  {
   "attachments": {},
   "cell_type": "markdown",
   "metadata": {},
   "source": [
    "## Parse Stories"
   ]
  },
  {
   "cell_type": "code",
   "execution_count": 66,
   "metadata": {},
   "outputs": [],
   "source": [
    "stories.loc[:, \"Date\"] = stories.NewsTimestamp.dt.date\n",
    "stories = stories.astype({\"Date\":'datetime64[ns]'})"
   ]
  },
  {
   "attachments": {},
   "cell_type": "markdown",
   "metadata": {},
   "source": [
    "## Merging"
   ]
  },
  {
   "cell_type": "code",
   "execution_count": 67,
   "metadata": {},
   "outputs": [],
   "source": [
    "stories.rename(columns=dict(stocks=\"ID\"), inplace=True)"
   ]
  },
  {
   "cell_type": "code",
   "execution_count": 68,
   "metadata": {},
   "outputs": [
    {
     "data": {
      "text/plain": [
       "Index(['ID', 'author', 'title', 'channels', 'body', 'html_body',\n",
       "       'NewsTimestamp', 'Date'],\n",
       "      dtype='object')"
      ]
     },
     "execution_count": 68,
     "metadata": {},
     "output_type": "execute_result"
    }
   ],
   "source": [
    "stories.columns"
   ]
  },
  {
   "cell_type": "code",
   "execution_count": 69,
   "metadata": {},
   "outputs": [
    {
     "data": {
      "text/plain": [
       "Index(['Close', 'High', 'Low', 'Open', 'IntradayReturn', 'NextDayReturn',\n",
       "       'CloseToNextOpen'],\n",
       "      dtype='object')"
      ]
     },
     "execution_count": 69,
     "metadata": {},
     "output_type": "execute_result"
    }
   ],
   "source": [
    "stocks.columns"
   ]
  },
  {
   "cell_type": "code",
   "execution_count": 70,
   "metadata": {},
   "outputs": [],
   "source": [
    "dataset = stories[[\"Date\", \"NewsTimestamp\", \"ID\", \"body\"]].merge(stocks[[\"IntradayReturn\", \"NextDayReturn\", \"CloseToNextOpen\"]], on=[\"Date\", \"ID\"], how=\"inner\")"
   ]
  },
  {
   "cell_type": "code",
   "execution_count": 84,
   "metadata": {},
   "outputs": [
    {
     "data": {
      "text/html": [
       "<div>\n",
       "<style scoped>\n",
       "    .dataframe tbody tr th:only-of-type {\n",
       "        vertical-align: middle;\n",
       "    }\n",
       "\n",
       "    .dataframe tbody tr th {\n",
       "        vertical-align: top;\n",
       "    }\n",
       "\n",
       "    .dataframe thead th {\n",
       "        text-align: right;\n",
       "    }\n",
       "</style>\n",
       "<table border=\"1\" class=\"dataframe\">\n",
       "  <thead>\n",
       "    <tr style=\"text-align: right;\">\n",
       "      <th></th>\n",
       "      <th>Date</th>\n",
       "      <th>NewsTimestamp</th>\n",
       "      <th>ID</th>\n",
       "      <th>body</th>\n",
       "      <th>IntradayReturn</th>\n",
       "      <th>NextDayReturn</th>\n",
       "      <th>CloseToNextOpen</th>\n",
       "    </tr>\n",
       "  </thead>\n",
       "  <tbody>\n",
       "  </tbody>\n",
       "</table>\n",
       "</div>"
      ],
      "text/plain": [
       "Empty DataFrame\n",
       "Columns: [Date, NewsTimestamp, ID, body, IntradayReturn, NextDayReturn, CloseToNextOpen]\n",
       "Index: []"
      ]
     },
     "execution_count": 84,
     "metadata": {},
     "output_type": "execute_result"
    }
   ],
   "source": [
    "dataset[dataset.isna().sum(axis=1) > 0]"
   ]
  },
  {
   "cell_type": "code",
   "execution_count": 83,
   "metadata": {},
   "outputs": [],
   "source": [
    "dataset = dataset.dropna()"
   ]
  },
  {
   "cell_type": "code",
   "execution_count": 85,
   "metadata": {},
   "outputs": [],
   "source": [
    "dataset.to_pickle(\"data/dataset.pkl\")"
   ]
  },
  {
   "attachments": {},
   "cell_type": "markdown",
   "metadata": {},
   "source": [
    "# Create train-test-split "
   ]
  },
  {
   "cell_type": "code",
   "execution_count": 86,
   "metadata": {},
   "outputs": [],
   "source": [
    "import pandas as pd\n",
    "from sklearn.model_selection import train_test_split\n",
    "import pickle"
   ]
  },
  {
   "cell_type": "code",
   "execution_count": 87,
   "metadata": {},
   "outputs": [],
   "source": [
    "dataset = pd.read_pickle(\"data/dataset.pkl\")\n",
    "assert dataset.index.is_unique"
   ]
  },
  {
   "cell_type": "code",
   "execution_count": 88,
   "metadata": {},
   "outputs": [],
   "source": [
    "test_size = 0.2\n",
    "seed = 420\n",
    "### Train-test split -> Auslagern\n",
    "train_idx, test_idx = train_test_split(dataset.index, test_size=0.2, random_state=seed)\n",
    "with open('data/dataset_train_test_idx.pkl', 'wb') as f:\n",
    "    pickle.dump((train_idx, test_idx), f)"
   ]
  },
  {
   "cell_type": "code",
   "execution_count": 89,
   "metadata": {},
   "outputs": [
    {
     "data": {
      "text/plain": [
       "Index([1279, 1260,  884,  732,  235, 1119,  456,  687,  695, 1943,\n",
       "       ...\n",
       "       1871, 1379,  562,  645, 1209,    3, 1733,  944, 1044,  396],\n",
       "      dtype='int64', length=401)"
      ]
     },
     "execution_count": 89,
     "metadata": {},
     "output_type": "execute_result"
    }
   ],
   "source": [
    "test_idx"
   ]
  },
  {
   "cell_type": "code",
   "execution_count": null,
   "metadata": {},
   "outputs": [],
   "source": []
  }
 ],
 "metadata": {
  "kernelspec": {
   "display_name": ".env",
   "language": "python",
   "name": "python3"
  },
  "language_info": {
   "codemirror_mode": {
    "name": "ipython",
    "version": 3
   },
   "file_extension": ".py",
   "mimetype": "text/x-python",
   "name": "python",
   "nbconvert_exporter": "python",
   "pygments_lexer": "ipython3",
   "version": "3.11.3"
  },
  "orig_nbformat": 4
 },
 "nbformat": 4,
 "nbformat_minor": 2
}
