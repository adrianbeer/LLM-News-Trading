{
 "cells": [
  {
   "cell_type": "code",
   "execution_count": 15,
   "metadata": {},
   "outputs": [],
   "source": [
    "import pandas as pd \n",
    "import numpy as np\n",
    "import json\n",
    "import pandas_market_calendars as mcal"
   ]
  },
  {
   "cell_type": "markdown",
   "metadata": {},
   "source": [
    "# Minutely Data"
   ]
  },
  {
   "cell_type": "markdown",
   "metadata": {},
   "source": [
    "## Configuration"
   ]
  },
  {
   "cell_type": "code",
   "execution_count": null,
   "metadata": {},
   "outputs": [],
   "source": [
    "# List off functions for modifying the return"
   ]
  },
  {
   "cell_type": "markdown",
   "metadata": {},
   "source": [
    "## Import IQFeed Stocks"
   ]
  },
  {
   "cell_type": "markdown",
   "metadata": {},
   "source": [
    "1. Sort news by stock ticker\n",
    "2. For each stock ticker do: \n",
    "3. Download prices for stock ticker\n",
    "4. "
   ]
  },
  {
   "cell_type": "code",
   "execution_count": 3,
   "metadata": {},
   "outputs": [],
   "source": [
    "ticker = \"FITB\""
   ]
  },
  {
   "cell_type": "code",
   "execution_count": 126,
   "metadata": {},
   "outputs": [],
   "source": [
    "df = pd.read_parquet(\"data/unraw2_bzg/data-5.parquet\")\n",
    "prices = pd.read_parquet(f\"D:/IQFeedData/{ticker}_1min.parquet\")"
   ]
  },
  {
   "cell_type": "code",
   "execution_count": 127,
   "metadata": {},
   "outputs": [],
   "source": [
    "nyse_cal = mcal.get_calendar('NYSE')"
   ]
  },
  {
   "cell_type": "code",
   "execution_count": 128,
   "metadata": {},
   "outputs": [],
   "source": [
    "def get_appropriate_closing_time(time: pd.Timestamp) -> pd.Timestamp:\n",
    "    if (time.hour < 9) or ((time.hour == 9) and (time.minute < 30)):\n",
    "        return pd.Timestamp(year=time.year, month=time.month, day=time.day, hour=16, minute=0, tz=time.tz)\n",
    "    else:\n",
    "        valid_days = [x.date() for x in nyse_cal.valid_days(start_date=time.date(), end_date=time.date() + pd.DateOffset(days=10))]\n",
    "        i = 1\n",
    "        while True:\n",
    "            new_time = time + pd.DateOffset(days=i)\n",
    "            if new_time.date() in valid_days:\n",
    "                return pd.Timestamp(year=new_time.year, month=new_time.month, day=new_time.day, hour=16, minute=0, tz=time.tz)\n",
    "            if i == 7:\n",
    "                return ValueError()\n",
    "            i += 1"
   ]
  },
  {
   "cell_type": "code",
   "execution_count": 129,
   "metadata": {},
   "outputs": [
    {
     "name": "stdout",
     "output_type": "stream",
     "text": [
      "2011-04-08 07:00:00-04:00\n",
      "2011-04-08 16:00:00-04:00\n"
     ]
    }
   ],
   "source": [
    "ts = df.time.dt.ceil(\"min\").iloc[5]\n",
    "print(ts)\n",
    "new_ts = get_appropriate_closing_time(ts)\n",
    "print(new_ts)"
   ]
  },
  {
   "cell_type": "code",
   "execution_count": 130,
   "metadata": {},
   "outputs": [],
   "source": [
    "# TODO: This can be *improved* by saying that if we are very close to completing the minute e.g. :55, \n",
    "# then we dont take the next candle (T+1), but the candle after the next(T+2).\n",
    "df.loc[:, \"entry_time\"] = df.loc[:, \"time\"].dt.ceil(\"min\")\n",
    "df.loc[:, \"nn_exit_time\"] = df.loc[:, \"time\"].apply(get_appropriate_closing_time)"
   ]
  },
  {
   "cell_type": "code",
   "execution_count": 140,
   "metadata": {},
   "outputs": [
    {
     "data": {
      "text/html": [
       "<div>\n",
       "<style scoped>\n",
       "    .dataframe tbody tr th:only-of-type {\n",
       "        vertical-align: middle;\n",
       "    }\n",
       "\n",
       "    .dataframe tbody tr th {\n",
       "        vertical-align: top;\n",
       "    }\n",
       "\n",
       "    .dataframe thead th {\n",
       "        text-align: right;\n",
       "    }\n",
       "</style>\n",
       "<table border=\"1\" class=\"dataframe\">\n",
       "  <thead>\n",
       "    <tr style=\"text-align: right;\">\n",
       "      <th></th>\n",
       "      <th>time</th>\n",
       "      <th>stocks</th>\n",
       "      <th>author</th>\n",
       "      <th>title</th>\n",
       "      <th>channels</th>\n",
       "      <th>body</th>\n",
       "      <th>entry_time</th>\n",
       "      <th>nn_exit_time</th>\n",
       "    </tr>\n",
       "    <tr>\n",
       "      <th>__null_dask_index__</th>\n",
       "      <th></th>\n",
       "      <th></th>\n",
       "      <th></th>\n",
       "      <th></th>\n",
       "      <th></th>\n",
       "      <th></th>\n",
       "      <th></th>\n",
       "      <th></th>\n",
       "    </tr>\n",
       "  </thead>\n",
       "  <tbody>\n",
       "    <tr>\n",
       "      <th>988369</th>\n",
       "      <td>2011-04-07 22:14:05-04:00</td>\n",
       "      <td>ETF</td>\n",
       "      <td>Benzinga</td>\n",
       "      <td>Passive Management Gains Popularity amongst In...</td>\n",
       "      <td>[]</td>\n",
       "      <td>(via COMTEX News Network)--\n",
       "\n",
       "The Exchange Trad...</td>\n",
       "      <td>2011-04-07 22:15:00-04:00</td>\n",
       "      <td>2011-04-08 16:00:00-04:00</td>\n",
       "    </tr>\n",
       "    <tr>\n",
       "      <th>988370</th>\n",
       "      <td>2011-04-07 22:14:22-04:00</td>\n",
       "      <td>ETF</td>\n",
       "      <td>Benzinga</td>\n",
       "      <td>Passive Management Gains Popularity amongst In...</td>\n",
       "      <td>[]</td>\n",
       "      <td>(via COMTEX News Network)--\n",
       "\n",
       "The Exchange Trad...</td>\n",
       "      <td>2011-04-07 22:15:00-04:00</td>\n",
       "      <td>2011-04-08 16:00:00-04:00</td>\n",
       "    </tr>\n",
       "    <tr>\n",
       "      <th>988380</th>\n",
       "      <td>2011-04-07 23:02:04-04:00</td>\n",
       "      <td>SOL</td>\n",
       "      <td>Benzinga</td>\n",
       "      <td>ReneSola Ltd Announces Exercise and Closing of...</td>\n",
       "      <td>[]</td>\n",
       "      <td>JIASHAN, China, April 7, 2011 /PRNewswire-Asia...</td>\n",
       "      <td>2011-04-07 23:03:00-04:00</td>\n",
       "      <td>2011-04-08 16:00:00-04:00</td>\n",
       "    </tr>\n",
       "    <tr>\n",
       "      <th>988382</th>\n",
       "      <td>2011-04-07 23:08:04-04:00</td>\n",
       "      <td>DNP</td>\n",
       "      <td>Benzinga</td>\n",
       "      <td>DNP Select Income Fund Inc. Section 19(a) Notice</td>\n",
       "      <td>[]</td>\n",
       "      <td>CHICAGO, April 7, 2011 /PRNewswire/ --\n",
       "\n",
       "  \n",
       "  \n",
       "...</td>\n",
       "      <td>2011-04-07 23:09:00-04:00</td>\n",
       "      <td>2011-04-08 16:00:00-04:00</td>\n",
       "    </tr>\n",
       "    <tr>\n",
       "      <th>988569</th>\n",
       "      <td>2011-04-08 07:00:00-04:00</td>\n",
       "      <td>AMD</td>\n",
       "      <td>Benzinga</td>\n",
       "      <td>WILD Flavors, Inc. Celebrates Opening Day in C...</td>\n",
       "      <td>[]</td>\n",
       "      <td># WILD Flavors, Inc. Celebrates Opening Day in...</td>\n",
       "      <td>2011-04-08 07:00:00-04:00</td>\n",
       "      <td>2011-04-08 16:00:00-04:00</td>\n",
       "    </tr>\n",
       "  </tbody>\n",
       "</table>\n",
       "</div>"
      ],
      "text/plain": [
       "                                         time stocks    author  \\\n",
       "__null_dask_index__                                              \n",
       "988369              2011-04-07 22:14:05-04:00    ETF  Benzinga   \n",
       "988370              2011-04-07 22:14:22-04:00    ETF  Benzinga   \n",
       "988380              2011-04-07 23:02:04-04:00    SOL  Benzinga   \n",
       "988382              2011-04-07 23:08:04-04:00    DNP  Benzinga   \n",
       "988569              2011-04-08 07:00:00-04:00    AMD  Benzinga   \n",
       "\n",
       "                                                                 title  \\\n",
       "__null_dask_index__                                                      \n",
       "988369               Passive Management Gains Popularity amongst In...   \n",
       "988370               Passive Management Gains Popularity amongst In...   \n",
       "988380               ReneSola Ltd Announces Exercise and Closing of...   \n",
       "988382                DNP Select Income Fund Inc. Section 19(a) Notice   \n",
       "988569               WILD Flavors, Inc. Celebrates Opening Day in C...   \n",
       "\n",
       "                    channels  \\\n",
       "__null_dask_index__            \n",
       "988369                    []   \n",
       "988370                    []   \n",
       "988380                    []   \n",
       "988382                    []   \n",
       "988569                    []   \n",
       "\n",
       "                                                                  body  \\\n",
       "__null_dask_index__                                                      \n",
       "988369               (via COMTEX News Network)--\n",
       "\n",
       "The Exchange Trad...   \n",
       "988370               (via COMTEX News Network)--\n",
       "\n",
       "The Exchange Trad...   \n",
       "988380               JIASHAN, China, April 7, 2011 /PRNewswire-Asia...   \n",
       "988382               CHICAGO, April 7, 2011 /PRNewswire/ --\n",
       "\n",
       "  \n",
       "  \n",
       "...   \n",
       "988569               # WILD Flavors, Inc. Celebrates Opening Day in...   \n",
       "\n",
       "                                   entry_time              nn_exit_time  \n",
       "__null_dask_index__                                                      \n",
       "988369              2011-04-07 22:15:00-04:00 2011-04-08 16:00:00-04:00  \n",
       "988370              2011-04-07 22:15:00-04:00 2011-04-08 16:00:00-04:00  \n",
       "988380              2011-04-07 23:03:00-04:00 2011-04-08 16:00:00-04:00  \n",
       "988382              2011-04-07 23:09:00-04:00 2011-04-08 16:00:00-04:00  \n",
       "988569              2011-04-08 07:00:00-04:00 2011-04-08 16:00:00-04:00  "
      ]
     },
     "execution_count": 140,
     "metadata": {},
     "output_type": "execute_result"
    }
   ],
   "source": [
    "df.head()"
   ]
  },
  {
   "cell_type": "code",
   "execution_count": 141,
   "metadata": {},
   "outputs": [],
   "source": [
    "ticker_news = df[df.stocks == ticker]"
   ]
  },
  {
   "cell_type": "code",
   "execution_count": 134,
   "metadata": {},
   "outputs": [],
   "source": [
    "import pytz\n",
    "eastern = pytz.timezone('US/Eastern')\n",
    "prices.loc[:, \"time\"] = prices.loc[:, \"time\"].dt.tz_localize(None)\n",
    "prices.loc[:, \"time\"] = prices.loc[:, \"time\"].dt.tz_localize(eastern)"
   ]
  },
  {
   "cell_type": "code",
   "execution_count": 150,
   "metadata": {},
   "outputs": [
    {
     "data": {
      "text/plain": [
       "time                                    2011-04-14 10:40:05-04:00\n",
       "stocks                                                       FITB\n",
       "author                                                   Benzinga\n",
       "title           Shares of FITB Down 3.2% Since Downtrend Call ...\n",
       "channels                                       [\"Press Releases\"]\n",
       "body            (via COMTEX News Network)--\\n\\nSmarTrend ident...\n",
       "entry_time                              2011-04-14 10:41:00-04:00\n",
       "nn_exit_time                            2011-04-15 16:00:00-04:00\n",
       "Name: 1004285, dtype: object"
      ]
     },
     "execution_count": 150,
     "metadata": {},
     "output_type": "execute_result"
    }
   ],
   "source": [
    "ticker_news.iloc[0]"
   ]
  },
  {
   "cell_type": "code",
   "execution_count": 149,
   "metadata": {},
   "outputs": [
    {
     "name": "stdout",
     "output_type": "stream",
     "text": [
      "                            time   open    high    low   close   volume\n",
      "135242 2011-04-14 10:41:00-04:00  13.55  13.555  13.55  13.555  10589.0\n",
      "\n",
      "                            time  open  high    low  close    volume\n",
      "135966 2011-04-15 16:00:00-04:00  13.8  13.8  13.79  13.79  142594.0\n"
     ]
    }
   ],
   "source": [
    "print(prices.loc[prices.time == ticker_news.iloc[0].entry_time])\n",
    "print(\"\")\n",
    "print(prices.loc[prices.time == ticker_news.iloc[0].nn_exit_time])"
   ]
  },
  {
   "cell_type": "markdown",
   "metadata": {},
   "source": [
    "# Daily Data"
   ]
  },
  {
   "attachments": {},
   "cell_type": "markdown",
   "metadata": {},
   "source": [
    "## Import Stocks"
   ]
  },
  {
   "cell_type": "code",
   "execution_count": null,
   "metadata": {},
   "outputs": [],
   "source": [
    "stocks = pd.read_pickle(\"data/stocks.pkl\")"
   ]
  },
  {
   "cell_type": "code",
   "execution_count": null,
   "metadata": {},
   "outputs": [],
   "source": [
    "stocks.head(3)"
   ]
  },
  {
   "cell_type": "code",
   "execution_count": null,
   "metadata": {},
   "outputs": [],
   "source": [
    "stock_tickers = set(stocks.index.get_level_values(\"ID\").unique())\n",
    "len(stock_tickers)\n",
    "#test"
   ]
  },
  {
   "attachments": {},
   "cell_type": "markdown",
   "metadata": {},
   "source": [
    "## Import Stories"
   ]
  },
  {
   "cell_type": "code",
   "execution_count": 19,
   "metadata": {},
   "outputs": [],
   "source": [
    "#stories = pd.read_pickle(\"data/stories.pkl\")\n",
    "stories = pd.read_parquet(\"data/raw_bzg/story_df_raw_2019.parquet\")"
   ]
  },
  {
   "cell_type": "code",
   "execution_count": null,
   "metadata": {},
   "outputs": [],
   "source": [
    "stories_tickers = set(stories.stocks.unique())"
   ]
  },
  {
   "attachments": {},
   "cell_type": "markdown",
   "metadata": {},
   "source": [
    "## Parse stocks"
   ]
  },
  {
   "cell_type": "code",
   "execution_count": null,
   "metadata": {},
   "outputs": [],
   "source": [
    "assert stories.stocks.dtype == stocks.index.dtypes[1]"
   ]
  },
  {
   "cell_type": "code",
   "execution_count": null,
   "metadata": {},
   "outputs": [],
   "source": [
    "def add_targets(df):\n",
    "    required_columns = [\"Close\", \"High\", \"Low\", \"Open\"]\n",
    "    # df.loc[:, \"IntradayReturn\"] = df[\"Close\"]/df[\"Open\"] - 1\n",
    "    df.loc[:, \"CloseToCloseReturn\"] = df[\"Close\"] / df.shift(1)[\"Close\"] - 1\n",
    "    # df.loc[:, \"NextDayReturn\"] = df.shift(-1)[\"Close\"] / df.shift(-1)[\"Open\"] - 1\n",
    "    # df.loc[:, \"CloseToNextOpen\"] = df.shift(-1)[\"Open\"] / df[\"Close\"] - 1\n",
    "    return df"
   ]
  },
  {
   "cell_type": "code",
   "execution_count": null,
   "metadata": {},
   "outputs": [],
   "source": [
    "stocks.index.dtypes"
   ]
  },
  {
   "cell_type": "code",
   "execution_count": null,
   "metadata": {},
   "outputs": [],
   "source": [
    "stocks.loc[:, [\"IntradayReturn\", \"NextDayReturn\"]] = np.nan\n",
    "stocks = stocks.swaplevel(0, 1).sort_index(ascending=[True, True])"
   ]
  },
  {
   "cell_type": "code",
   "execution_count": null,
   "metadata": {},
   "outputs": [],
   "source": [
    "stocks = stocks.groupby(\"ID\", as_index=False).apply(add_targets)\n",
    "stocks.index = stocks.index.droplevel(None)"
   ]
  },
  {
   "attachments": {},
   "cell_type": "markdown",
   "metadata": {},
   "source": [
    "## Parse Stories"
   ]
  },
  {
   "cell_type": "code",
   "execution_count": null,
   "metadata": {},
   "outputs": [],
   "source": [
    "from pandas.tseries.offsets import BDay"
   ]
  },
  {
   "cell_type": "code",
   "execution_count": null,
   "metadata": {},
   "outputs": [],
   "source": [
    "# PARAMETER \n",
    "typ = \"CloseToCloseReturn\""
   ]
  },
  {
   "cell_type": "code",
   "execution_count": null,
   "metadata": {},
   "outputs": [],
   "source": [
    "def get_appropriate_date(timestamp, typ):\n",
    "    if typ == \"CloseToCloseReturn\":\n",
    "        # TODO: Some noise here due to closing auction?\n",
    "        if timestamp.hour < 16: return timestamp.date()\n",
    "        if timestamp.hour >= 16: return timestamp.date() +  BDay(1)"
   ]
  },
  {
   "cell_type": "code",
   "execution_count": null,
   "metadata": {},
   "outputs": [],
   "source": [
    "# test\n",
    "get_appropriate_date(stories.NewsTimestamp.iloc[4], typ=\"CloseToCloseReturn\")"
   ]
  },
  {
   "attachments": {},
   "cell_type": "markdown",
   "metadata": {},
   "source": [
    "### Date assignment"
   ]
  },
  {
   "cell_type": "code",
   "execution_count": null,
   "metadata": {},
   "outputs": [],
   "source": [
    "# If we use Intraday return then news should only be between 9:40 am and 4pm (us trading hours).\n",
    "# If we use close-to-close return then news for this days CTC should be between yesterday 4pm and today 4pm. \n",
    "stories.loc[:, \"Date\"] = stories.NewsTimestamp.apply(lambda x: get_appropriate_date(x, typ))\n",
    "stories = stories.astype({\"Date\":'datetime64[ns]'})"
   ]
  },
  {
   "attachments": {},
   "cell_type": "markdown",
   "metadata": {},
   "source": [
    "## Merging"
   ]
  },
  {
   "cell_type": "code",
   "execution_count": null,
   "metadata": {},
   "outputs": [],
   "source": [
    "stories.rename(columns=dict(stocks=\"ID\"), inplace=True)"
   ]
  },
  {
   "cell_type": "code",
   "execution_count": null,
   "metadata": {},
   "outputs": [],
   "source": [
    "stories.columns"
   ]
  },
  {
   "cell_type": "code",
   "execution_count": null,
   "metadata": {},
   "outputs": [],
   "source": [
    "stocks.columns"
   ]
  },
  {
   "cell_type": "code",
   "execution_count": null,
   "metadata": {},
   "outputs": [],
   "source": [
    "dataset = stories[[\"Date\", \"NewsTimestamp\", \"ID\", \"body\"]].\\\n",
    "    merge(stocks[\n",
    "        [\n",
    "            # \"IntradayReturn\", \n",
    "            # \"NextDayReturn\", \n",
    "            \"CloseToCloseReturn\"]\n",
    "         ], on=[\"Date\", \"ID\"], how=\"inner\")"
   ]
  },
  {
   "cell_type": "code",
   "execution_count": null,
   "metadata": {},
   "outputs": [],
   "source": [
    "dataset[dataset.isna().sum(axis=1) > 0]"
   ]
  },
  {
   "cell_type": "code",
   "execution_count": null,
   "metadata": {},
   "outputs": [],
   "source": [
    "dataset = dataset.dropna()"
   ]
  },
  {
   "cell_type": "markdown",
   "metadata": {},
   "source": [
    "\tDate\tNewsTimestamp\tID\tbody\tCloseToCloseReturn"
   ]
  },
  {
   "cell_type": "code",
   "execution_count": null,
   "metadata": {},
   "outputs": [],
   "source": [
    "dataset.to_pickle(\"data/dataset.pkl\")"
   ]
  },
  {
   "attachments": {},
   "cell_type": "markdown",
   "metadata": {},
   "source": [
    "## Create train-test-split "
   ]
  },
  {
   "cell_type": "code",
   "execution_count": null,
   "metadata": {},
   "outputs": [],
   "source": [
    "import pandas as pd\n",
    "from sklearn.model_selection import train_test_split\n",
    "import pickle"
   ]
  },
  {
   "cell_type": "code",
   "execution_count": null,
   "metadata": {},
   "outputs": [],
   "source": [
    "dataset = pd.read_pickle(\"data/dataset.pkl\")\n",
    "assert dataset.index.is_unique"
   ]
  },
  {
   "cell_type": "code",
   "execution_count": null,
   "metadata": {},
   "outputs": [],
   "source": [
    "test_size = 0.2\n",
    "seed = 420\n",
    "### Train-test split -> Auslagern\n",
    "train_idx, test_idx = train_test_split(dataset.index, test_size=0.2, random_state=seed)"
   ]
  },
  {
   "cell_type": "code",
   "execution_count": null,
   "metadata": {},
   "outputs": [],
   "source": [
    "test_idx"
   ]
  },
  {
   "attachments": {},
   "cell_type": "markdown",
   "metadata": {},
   "source": [
    "## Filter training set for general stock market events"
   ]
  },
  {
   "cell_type": "code",
   "execution_count": null,
   "metadata": {},
   "outputs": [],
   "source": [
    "# Select S&P\n",
    "SnP = stocks.query(\"ID == 'A0AET0'\")"
   ]
  },
  {
   "cell_type": "code",
   "execution_count": null,
   "metadata": {},
   "outputs": [],
   "source": [
    "SnP = add_targets(SnP)"
   ]
  },
  {
   "cell_type": "code",
   "execution_count": null,
   "metadata": {},
   "outputs": [],
   "source": [
    "alpha = 0.1 # Percentage observations classified as too extreme to be used in the training set  "
   ]
  },
  {
   "cell_type": "code",
   "execution_count": null,
   "metadata": {},
   "outputs": [],
   "source": [
    "target_col = \"CloseToCloseReturn\""
   ]
  },
  {
   "cell_type": "code",
   "execution_count": null,
   "metadata": {},
   "outputs": [],
   "source": [
    "lower_quantile = SnP.loc[:, target_col].quantile(alpha/2)"
   ]
  },
  {
   "cell_type": "code",
   "execution_count": null,
   "metadata": {},
   "outputs": [],
   "source": [
    "upper_quantile = SnP.loc[:, target_col].quantile(1-alpha/2)"
   ]
  },
  {
   "cell_type": "code",
   "execution_count": null,
   "metadata": {},
   "outputs": [],
   "source": [
    "print(f\"Upper Quantile: {upper_quantile:.4f}. Lower Quantile: {lower_quantile:.4f}\")"
   ]
  },
  {
   "cell_type": "code",
   "execution_count": null,
   "metadata": {},
   "outputs": [],
   "source": [
    "mask = (SnP.loc[:, target_col] >= lower_quantile) & (SnP.loc[:, target_col] <= upper_quantile)\n",
    "\n",
    "# Only select dates where SnP behaved calmly\n",
    "allowed_dates = SnP.loc[mask, :].index.get_level_values(\"Date\")"
   ]
  },
  {
   "cell_type": "code",
   "execution_count": null,
   "metadata": {},
   "outputs": [],
   "source": [
    "# Now trim  training set\n",
    "train_dat = dataset.loc[train_idx, :]\n",
    "adj_train_idx = train_dat.loc[train_dat.Date.isin(allowed_dates)].index"
   ]
  },
  {
   "cell_type": "code",
   "execution_count": null,
   "metadata": {},
   "outputs": [],
   "source": [
    "train_idx"
   ]
  },
  {
   "cell_type": "code",
   "execution_count": null,
   "metadata": {},
   "outputs": [],
   "source": [
    "adj_train_idx"
   ]
  },
  {
   "attachments": {},
   "cell_type": "markdown",
   "metadata": {},
   "source": [
    "## Save train and test indices"
   ]
  },
  {
   "cell_type": "code",
   "execution_count": null,
   "metadata": {},
   "outputs": [],
   "source": [
    "with open('data/dataset_train_test_idx.pkl', 'wb') as f:\n",
    "    pickle.dump((adj_train_idx, test_idx), f)"
   ]
  },
  {
   "cell_type": "code",
   "execution_count": null,
   "metadata": {},
   "outputs": [],
   "source": []
  },
  {
   "cell_type": "code",
   "execution_count": null,
   "metadata": {},
   "outputs": [],
   "source": []
  },
  {
   "cell_type": "code",
   "execution_count": null,
   "metadata": {},
   "outputs": [],
   "source": []
  }
 ],
 "metadata": {
  "kernelspec": {
   "display_name": ".env",
   "language": "python",
   "name": "python3"
  },
  "language_info": {
   "codemirror_mode": {
    "name": "ipython",
    "version": 3
   },
   "file_extension": ".py",
   "mimetype": "text/x-python",
   "name": "python",
   "nbconvert_exporter": "python",
   "pygments_lexer": "ipython3",
   "version": "3.11.3"
  }
 },
 "nbformat": 4,
 "nbformat_minor": 2
}
