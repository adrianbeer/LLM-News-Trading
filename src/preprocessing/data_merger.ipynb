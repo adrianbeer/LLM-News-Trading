{
 "cells": [
  {
   "cell_type": "code",
   "execution_count": 1,
   "metadata": {},
   "outputs": [],
   "source": [
    "import pandas as pd \n",
    "import numpy as np\n",
    "import json\n",
    "import pandas_market_calendars as mcal"
   ]
  },
  {
   "cell_type": "markdown",
   "metadata": {},
   "source": [
    "# Minutely Data"
   ]
  },
  {
   "cell_type": "markdown",
   "metadata": {},
   "source": [
    "## Configuration"
   ]
  },
  {
   "cell_type": "code",
   "execution_count": 2,
   "metadata": {},
   "outputs": [],
   "source": [
    "# List off functions for modifying the return"
   ]
  },
  {
   "cell_type": "markdown",
   "metadata": {},
   "source": [
    "## Import IQFeed Stocks"
   ]
  },
  {
   "cell_type": "markdown",
   "metadata": {},
   "source": [
    "1. Sort news by stock ticker\n",
    "2. For each stock ticker do: \n",
    "3. Download prices for stock ticker\n",
    "4. "
   ]
  },
  {
   "cell_type": "code",
   "execution_count": 230,
   "metadata": {},
   "outputs": [],
   "source": [
    "ticker = \"FITB\""
   ]
  },
  {
   "cell_type": "code",
   "execution_count": 231,
   "metadata": {},
   "outputs": [],
   "source": [
    "def get_next_available_candle(prices: pd.DataFrame, \n",
    "                              time: pd.Timestamp) -> pd.Series:\n",
    "    entry_candle_idx = prices.index.get_indexer(target=[time], \n",
    "                                                method=\"bfill\")\n",
    "    entry_candle = prices.take(entry_candle_idx).iloc[0]\n",
    "    return entry_candle"
   ]
  },
  {
   "cell_type": "code",
   "execution_count": 232,
   "metadata": {},
   "outputs": [],
   "source": [
    "nyse_cal = mcal.get_calendar('NYSE')\n",
    "def get_appropriate_closing_time(time: pd.Timestamp) -> pd.Timestamp:\n",
    "    if (time.hour < 9) or ((time.hour == 9) and (time.minute < 30)):\n",
    "        return pd.Timestamp(year=time.year, month=time.month, day=time.day, hour=16, minute=0, tz=time.tz)\n",
    "    else:\n",
    "        valid_days = [x.date() for x in nyse_cal.valid_days(start_date=time.date(), end_date=time.date() + pd.DateOffset(days=10))]\n",
    "        i = 1\n",
    "        while True:\n",
    "            new_time = time + pd.DateOffset(days=i)\n",
    "            if new_time.date() in valid_days:\n",
    "                return pd.Timestamp(year=new_time.year, month=new_time.month, day=new_time.day, hour=16, minute=0, tz=time.tz)\n",
    "            if i == 7:\n",
    "                return ValueError()\n",
    "            i += 1"
   ]
  },
  {
   "cell_type": "markdown",
   "metadata": {},
   "source": [
    "## Import and Preprocess Stock Prices"
   ]
  },
  {
   "cell_type": "code",
   "execution_count": 265,
   "metadata": {},
   "outputs": [
    {
     "data": {
      "text/html": [
       "<div>\n",
       "<style scoped>\n",
       "    .dataframe tbody tr th:only-of-type {\n",
       "        vertical-align: middle;\n",
       "    }\n",
       "\n",
       "    .dataframe tbody tr th {\n",
       "        vertical-align: top;\n",
       "    }\n",
       "\n",
       "    .dataframe thead th {\n",
       "        text-align: right;\n",
       "    }\n",
       "</style>\n",
       "<table border=\"1\" class=\"dataframe\">\n",
       "  <thead>\n",
       "    <tr style=\"text-align: right;\">\n",
       "      <th></th>\n",
       "      <th>close</th>\n",
       "      <th>volume</th>\n",
       "    </tr>\n",
       "    <tr>\n",
       "      <th>time</th>\n",
       "      <th></th>\n",
       "      <th></th>\n",
       "    </tr>\n",
       "  </thead>\n",
       "  <tbody>\n",
       "    <tr>\n",
       "      <th>2010-01-04 08:03:00-05:00</th>\n",
       "      <td>9.75</td>\n",
       "      <td>7799.0</td>\n",
       "    </tr>\n",
       "    <tr>\n",
       "      <th>2010-01-04 08:06:00-05:00</th>\n",
       "      <td>9.75</td>\n",
       "      <td>67884.0</td>\n",
       "    </tr>\n",
       "    <tr>\n",
       "      <th>2010-01-04 08:13:00-05:00</th>\n",
       "      <td>9.84</td>\n",
       "      <td>300.0</td>\n",
       "    </tr>\n",
       "  </tbody>\n",
       "</table>\n",
       "</div>"
      ],
      "text/plain": [
       "                           close   volume\n",
       "time                                     \n",
       "2010-01-04 08:03:00-05:00   9.75   7799.0\n",
       "2010-01-04 08:06:00-05:00   9.75  67884.0\n",
       "2010-01-04 08:13:00-05:00   9.84    300.0"
      ]
     },
     "execution_count": 265,
     "metadata": {},
     "output_type": "execute_result"
    }
   ],
   "source": [
    "prices: pd.DataFrame = pd.read_parquet(f\"D:/IQFeedData/{ticker}_1min.parquet\", columns=[\"time\", \"close\", \"volume\"])\n",
    "import pytz\n",
    "eastern = pytz.timezone('US/Eastern')\n",
    "prices.loc[:, \"time\"] = prices.loc[:, \"time\"].dt.tz_localize(None)\n",
    "prices.loc[:, \"time\"] = prices.loc[:, \"time\"].dt.tz_localize(eastern)\n",
    "prices.drop_duplicates(keep=\"first\", inplace=True)\n",
    "prices.dropna(inplace=True)\n",
    "\n",
    "# Deals with duplicate rows which occurr when not all the digits for volume are \n",
    "# correctly entered, but only the first 1-3. So keep the largest.\n",
    "prices = prices.sort_values([\"time\", \"volume\"], ascending=[True, False])\n",
    "prices = prices.drop_duplicates(subset=[\"time\"], keep=\"first\")\n",
    "\n",
    "prices.set_index(\"time\", inplace=True)\n",
    "prices.sort_index(ascending=True, inplace=True)\n",
    "assert prices.index.is_unique\n",
    "prices.head(3)"
   ]
  },
  {
   "cell_type": "markdown",
   "metadata": {},
   "source": [
    "## Import and Preprocess News "
   ]
  },
  {
   "cell_type": "code",
   "execution_count": 233,
   "metadata": {},
   "outputs": [],
   "source": [
    "df = pd.read_parquet(\"data/unraw2_bzg/data-5.parquet\")"
   ]
  },
  {
   "cell_type": "code",
   "execution_count": 234,
   "metadata": {},
   "outputs": [],
   "source": [
    "# Direct assignment doesnt work here, if df.time \n",
    "# already has a tz then it doesnt change on assignment \n",
    "tmp = df.time.dt.tz_convert(eastern)\n",
    "df.loc[:, \"time\"] = 0\n",
    "df.loc[:, \"time\"] = tmp"
   ]
  },
  {
   "cell_type": "code",
   "execution_count": 235,
   "metadata": {},
   "outputs": [
    {
     "name": "stdout",
     "output_type": "stream",
     "text": [
      "2011-04-08 07:00:00-04:00\n",
      "2011-04-08 16:00:00-04:00\n"
     ]
    }
   ],
   "source": [
    "ts = df.time.dt.ceil(\"min\").iloc[5]\n",
    "print(ts)\n",
    "new_ts = get_appropriate_closing_time(ts)\n",
    "print(new_ts)"
   ]
  },
  {
   "cell_type": "code",
   "execution_count": 236,
   "metadata": {},
   "outputs": [],
   "source": [
    "# TODO: This can be *improved* by saying that if we are very close to completing the minute e.g. :55, \n",
    "# then we dont take the next candle (T+1), but the candle after the next(T+2).\n",
    "df.loc[:, \"entry_time\"] = df.loc[:, \"time\"].dt.ceil(\"min\")\n",
    "df.loc[:, \"nn_exit_time\"] = df.loc[:, \"time\"].apply(get_appropriate_closing_time)"
   ]
  },
  {
   "cell_type": "code",
   "execution_count": 237,
   "metadata": {},
   "outputs": [],
   "source": [
    "ticker_news = df[df.stocks == ticker]"
   ]
  },
  {
   "cell_type": "code",
   "execution_count": 238,
   "metadata": {},
   "outputs": [],
   "source": [
    "news_event = ticker_news.iloc[-1]"
   ]
  },
  {
   "cell_type": "code",
   "execution_count": 249,
   "metadata": {},
   "outputs": [
    {
     "data": {
      "text/plain": [
       "Index(['time', 'stocks', 'author', 'title', 'channels', 'body', 'entry_time',\n",
       "       'nn_exit_time'],\n",
       "      dtype='object')"
      ]
     },
     "execution_count": 249,
     "metadata": {},
     "output_type": "execute_result"
    }
   ],
   "source": [
    "df.columns"
   ]
  },
  {
   "cell_type": "code",
   "execution_count": 262,
   "metadata": {},
   "outputs": [
    {
     "data": {
      "text/plain": [
       "False"
      ]
     },
     "execution_count": 262,
     "metadata": {},
     "output_type": "execute_result"
    }
   ],
   "source": [
    "prices.index.is_monotonic_decreasing"
   ]
  },
  {
   "cell_type": "markdown",
   "metadata": {},
   "source": [
    "## Make Input-Output and Merge"
   ]
  },
  {
   "cell_type": "code",
   "execution_count": 266,
   "metadata": {},
   "outputs": [],
   "source": [
    "merged = pd.merge_asof(ticker_news, prices, left_on=\"entry_time\", right_on=\"time\", direction=\"forward\")"
   ]
  },
  {
   "cell_type": "code",
   "execution_count": 267,
   "metadata": {},
   "outputs": [],
   "source": [
    "merged = pd.merge(merged, prices, left_on=\"nn_exit_time\", right_on=\"time\", suffixes=(\"_entry\", \"_exit\"))"
   ]
  },
  {
   "cell_type": "code",
   "execution_count": 272,
   "metadata": {},
   "outputs": [],
   "source": [
    "merged[\"r\"] = merged[\"close_exit\"] / merged[\"close_entry\"] - 1"
   ]
  },
  {
   "cell_type": "code",
   "execution_count": 273,
   "metadata": {},
   "outputs": [
    {
     "data": {
      "text/html": [
       "<div>\n",
       "<style scoped>\n",
       "    .dataframe tbody tr th:only-of-type {\n",
       "        vertical-align: middle;\n",
       "    }\n",
       "\n",
       "    .dataframe tbody tr th {\n",
       "        vertical-align: top;\n",
       "    }\n",
       "\n",
       "    .dataframe thead th {\n",
       "        text-align: right;\n",
       "    }\n",
       "</style>\n",
       "<table border=\"1\" class=\"dataframe\">\n",
       "  <thead>\n",
       "    <tr style=\"text-align: right;\">\n",
       "      <th></th>\n",
       "      <th>time</th>\n",
       "      <th>stocks</th>\n",
       "      <th>author</th>\n",
       "      <th>title</th>\n",
       "      <th>channels</th>\n",
       "      <th>body</th>\n",
       "      <th>entry_time</th>\n",
       "      <th>nn_exit_time</th>\n",
       "      <th>close_entry</th>\n",
       "      <th>volume_entry</th>\n",
       "      <th>close_exit</th>\n",
       "      <th>volume_exit</th>\n",
       "      <th>r</th>\n",
       "    </tr>\n",
       "  </thead>\n",
       "  <tbody>\n",
       "    <tr>\n",
       "      <th>0</th>\n",
       "      <td>2011-04-14 10:40:05-04:00</td>\n",
       "      <td>FITB</td>\n",
       "      <td>Benzinga</td>\n",
       "      <td>Shares of FITB Down 3.2% Since Downtrend Call ...</td>\n",
       "      <td>[\"Press Releases\"]</td>\n",
       "      <td>(via COMTEX News Network)--\n",
       "\n",
       "SmarTrend identif...</td>\n",
       "      <td>2011-04-14 10:41:00-04:00</td>\n",
       "      <td>2011-04-15 16:00:00-04:00</td>\n",
       "      <td>13.5550</td>\n",
       "      <td>10589.0</td>\n",
       "      <td>13.790</td>\n",
       "      <td>142594.0</td>\n",
       "      <td>0.017337</td>\n",
       "    </tr>\n",
       "    <tr>\n",
       "      <th>1</th>\n",
       "      <td>2011-04-21 10:38:05-04:00</td>\n",
       "      <td>FITB</td>\n",
       "      <td>Benzinga</td>\n",
       "      <td>Fifth Third Bancorp Has Returned 8.1% Since Sm...</td>\n",
       "      <td>[\"Press Releases\"]</td>\n",
       "      <td>(via COMTEX News Network)--\n",
       "\n",
       "SmarTrend identif...</td>\n",
       "      <td>2011-04-21 10:39:00-04:00</td>\n",
       "      <td>2011-04-25 16:00:00-04:00</td>\n",
       "      <td>12.9301</td>\n",
       "      <td>16405.0</td>\n",
       "      <td>12.920</td>\n",
       "      <td>357938.0</td>\n",
       "      <td>-0.000781</td>\n",
       "    </tr>\n",
       "    <tr>\n",
       "      <th>2</th>\n",
       "      <td>2011-04-21 11:36:05-04:00</td>\n",
       "      <td>FITB</td>\n",
       "      <td>Benzinga</td>\n",
       "      <td>Watch for Shares of Fifth Third Bancorp (FITB)...</td>\n",
       "      <td>[\"Press Releases\"]</td>\n",
       "      <td>(via COMTEX News Network)--\n",
       "\n",
       "SmarTrend has det...</td>\n",
       "      <td>2011-04-21 11:37:00-04:00</td>\n",
       "      <td>2011-04-25 16:00:00-04:00</td>\n",
       "      <td>13.1000</td>\n",
       "      <td>7973.0</td>\n",
       "      <td>12.920</td>\n",
       "      <td>357938.0</td>\n",
       "      <td>-0.013740</td>\n",
       "    </tr>\n",
       "    <tr>\n",
       "      <th>3</th>\n",
       "      <td>2011-04-25 12:14:04-04:00</td>\n",
       "      <td>FITB</td>\n",
       "      <td>Benzinga</td>\n",
       "      <td>Shares of Fifth Third Bancorp Under Pressure, ...</td>\n",
       "      <td>[\"Press Releases\"]</td>\n",
       "      <td>(via COMTEX News Network)--\n",
       "\n",
       "Fifth Third Banco...</td>\n",
       "      <td>2011-04-25 12:15:00-04:00</td>\n",
       "      <td>2011-04-26 16:00:00-04:00</td>\n",
       "      <td>12.9601</td>\n",
       "      <td>3900.0</td>\n",
       "      <td>13.050</td>\n",
       "      <td>174257.0</td>\n",
       "      <td>0.006937</td>\n",
       "    </tr>\n",
       "    <tr>\n",
       "      <th>4</th>\n",
       "      <td>2011-04-29 12:06:06-04:00</td>\n",
       "      <td>FITB</td>\n",
       "      <td>Benzinga</td>\n",
       "      <td>Downtrend Call Realized As Fifth Third Bancorp...</td>\n",
       "      <td>[\"Press Releases\"]</td>\n",
       "      <td>(via COMTEX News Network)--\n",
       "\n",
       "SmarTrend identif...</td>\n",
       "      <td>2011-04-29 12:07:00-04:00</td>\n",
       "      <td>2011-05-02 16:00:00-04:00</td>\n",
       "      <td>13.3100</td>\n",
       "      <td>14804.0</td>\n",
       "      <td>13.070</td>\n",
       "      <td>246634.0</td>\n",
       "      <td>-0.018032</td>\n",
       "    </tr>\n",
       "    <tr>\n",
       "      <th>5</th>\n",
       "      <td>2011-05-02 13:52:07-04:00</td>\n",
       "      <td>FITB</td>\n",
       "      <td>Benzinga</td>\n",
       "      <td>Fifth Third Bancorp (FITB) Crosses Pivot Point...</td>\n",
       "      <td>[\"Press Releases\"]</td>\n",
       "      <td>(via COMTEX News Network)--\n",
       "\n",
       "SmarTrend has det...</td>\n",
       "      <td>2011-05-02 13:53:00-04:00</td>\n",
       "      <td>2011-05-03 16:00:00-04:00</td>\n",
       "      <td>13.0800</td>\n",
       "      <td>5875.0</td>\n",
       "      <td>13.400</td>\n",
       "      <td>248086.0</td>\n",
       "      <td>0.024465</td>\n",
       "    </tr>\n",
       "    <tr>\n",
       "      <th>6</th>\n",
       "      <td>2011-05-03 16:16:08-04:00</td>\n",
       "      <td>FITB</td>\n",
       "      <td>Benzinga</td>\n",
       "      <td>Fifth Third Processing Solutions Expands Suite...</td>\n",
       "      <td>[\"Press Releases\"]</td>\n",
       "      <td>## Deploying Encryption Solution for Secure Te...</td>\n",
       "      <td>2011-05-03 16:17:00-04:00</td>\n",
       "      <td>2011-05-04 16:00:00-04:00</td>\n",
       "      <td>13.4100</td>\n",
       "      <td>400.0</td>\n",
       "      <td>13.150</td>\n",
       "      <td>373011.0</td>\n",
       "      <td>-0.019389</td>\n",
       "    </tr>\n",
       "    <tr>\n",
       "      <th>7</th>\n",
       "      <td>2011-05-12 13:42:06-04:00</td>\n",
       "      <td>FITB</td>\n",
       "      <td>Benzinga</td>\n",
       "      <td>Fifth Third Bancorp Has Returned 9.0% Since Sm...</td>\n",
       "      <td>[\"Press Releases\"]</td>\n",
       "      <td>(via COMTEX News Network)--\n",
       "\n",
       "SmarTrend identif...</td>\n",
       "      <td>2011-05-12 13:43:00-04:00</td>\n",
       "      <td>2011-05-13 16:00:00-04:00</td>\n",
       "      <td>12.7000</td>\n",
       "      <td>119823.0</td>\n",
       "      <td>12.490</td>\n",
       "      <td>331491.0</td>\n",
       "      <td>-0.016535</td>\n",
       "    </tr>\n",
       "    <tr>\n",
       "      <th>8</th>\n",
       "      <td>2011-05-13 12:20:06-04:00</td>\n",
       "      <td>FITB</td>\n",
       "      <td>Benzinga</td>\n",
       "      <td>Fifth Third Bancorp: Making a Move, Down 1.2% ...</td>\n",
       "      <td>[\"Press Releases\"]</td>\n",
       "      <td>(via COMTEX News Network)--\n",
       "\n",
       "Fifth Third Banco...</td>\n",
       "      <td>2011-05-13 12:21:00-04:00</td>\n",
       "      <td>2011-05-16 16:00:00-04:00</td>\n",
       "      <td>12.5300</td>\n",
       "      <td>25414.0</td>\n",
       "      <td>12.470</td>\n",
       "      <td>126287.0</td>\n",
       "      <td>-0.004789</td>\n",
       "    </tr>\n",
       "    <tr>\n",
       "      <th>9</th>\n",
       "      <td>2011-05-13 13:08:35-04:00</td>\n",
       "      <td>FITB</td>\n",
       "      <td>Benzinga</td>\n",
       "      <td>Fifth Third Bancorp (FITB) Crosses Pivot Point...</td>\n",
       "      <td>[\"Press Releases\"]</td>\n",
       "      <td>(via COMTEX News Network)--\n",
       "\n",
       "SmarTrend has det...</td>\n",
       "      <td>2011-05-13 13:09:00-04:00</td>\n",
       "      <td>2011-05-16 16:00:00-04:00</td>\n",
       "      <td>12.5010</td>\n",
       "      <td>34100.0</td>\n",
       "      <td>12.470</td>\n",
       "      <td>126287.0</td>\n",
       "      <td>-0.002480</td>\n",
       "    </tr>\n",
       "    <tr>\n",
       "      <th>10</th>\n",
       "      <td>2011-05-20 13:20:06-04:00</td>\n",
       "      <td>FITB</td>\n",
       "      <td>Benzinga</td>\n",
       "      <td>8.0% Return Seen to Date on SmarTrend Fifth Th...</td>\n",
       "      <td>[\"Press Releases\"]</td>\n",
       "      <td>(via COMTEX News Network)--\n",
       "\n",
       "SmarTrend identif...</td>\n",
       "      <td>2011-05-20 13:21:00-04:00</td>\n",
       "      <td>2011-05-23 16:00:00-04:00</td>\n",
       "      <td>12.7400</td>\n",
       "      <td>169692.0</td>\n",
       "      <td>12.390</td>\n",
       "      <td>322520.0</td>\n",
       "      <td>-0.027473</td>\n",
       "    </tr>\n",
       "    <tr>\n",
       "      <th>11</th>\n",
       "      <td>2011-06-01 14:08:04-04:00</td>\n",
       "      <td>FITB</td>\n",
       "      <td>Benzinga</td>\n",
       "      <td>Fifth Third Bancorp Down 7.5% Since SmarTrend ...</td>\n",
       "      <td>[\"Press Releases\"]</td>\n",
       "      <td>(via COMTEX News Network)--\n",
       "\n",
       "SmarTrend identif...</td>\n",
       "      <td>2011-06-01 14:09:00-04:00</td>\n",
       "      <td>2011-06-02 16:00:00-04:00</td>\n",
       "      <td>12.4600</td>\n",
       "      <td>19361.0</td>\n",
       "      <td>12.360</td>\n",
       "      <td>136133.0</td>\n",
       "      <td>-0.008026</td>\n",
       "    </tr>\n",
       "    <tr>\n",
       "      <th>12</th>\n",
       "      <td>2011-06-02 16:08:12-04:00</td>\n",
       "      <td>FITB</td>\n",
       "      <td>Benzinga</td>\n",
       "      <td>Fifth Third Bancorp to Attend the Deutsche Ban...</td>\n",
       "      <td>[\"Press Releases\"]</td>\n",
       "      <td>CINCINNATI--(BUSINESS WIRE)--\n",
       "\n",
       "Daniel T. Posto...</td>\n",
       "      <td>2011-06-02 16:09:00-04:00</td>\n",
       "      <td>2011-06-03 16:00:00-04:00</td>\n",
       "      <td>12.3595</td>\n",
       "      <td>82700.0</td>\n",
       "      <td>12.390</td>\n",
       "      <td>103521.0</td>\n",
       "      <td>0.002468</td>\n",
       "    </tr>\n",
       "    <tr>\n",
       "      <th>13</th>\n",
       "      <td>2011-06-21 15:32:05-04:00</td>\n",
       "      <td>FITB</td>\n",
       "      <td>Benzinga</td>\n",
       "      <td>Fifth Third Bancorp to Announce Second Quarter...</td>\n",
       "      <td>[\"Press Releases\"]</td>\n",
       "      <td>CINCINNATI--(BUSINESS WIRE)--\n",
       "\n",
       "Fifth Third Ban...</td>\n",
       "      <td>2011-06-21 15:33:00-04:00</td>\n",
       "      <td>2011-06-22 16:00:00-04:00</td>\n",
       "      <td>12.6300</td>\n",
       "      <td>38707.0</td>\n",
       "      <td>12.405</td>\n",
       "      <td>145400.0</td>\n",
       "      <td>-0.017815</td>\n",
       "    </tr>\n",
       "    <tr>\n",
       "      <th>14</th>\n",
       "      <td>2011-06-21 16:04:08-04:00</td>\n",
       "      <td>FITB</td>\n",
       "      <td>Benzinga</td>\n",
       "      <td>Fifth Third Appoints B. Evan Bayh to Bancorp B...</td>\n",
       "      <td>[\"Press Releases\"]</td>\n",
       "      <td>CINCINNATI--(BUSINESS WIRE)--\n",
       "\n",
       "Fifth Third Ban...</td>\n",
       "      <td>2011-06-21 16:05:00-04:00</td>\n",
       "      <td>2011-06-22 16:00:00-04:00</td>\n",
       "      <td>12.6395</td>\n",
       "      <td>29800.0</td>\n",
       "      <td>12.405</td>\n",
       "      <td>145400.0</td>\n",
       "      <td>-0.018553</td>\n",
       "    </tr>\n",
       "    <tr>\n",
       "      <th>15</th>\n",
       "      <td>2011-06-21 16:48:04-04:00</td>\n",
       "      <td>FITB</td>\n",
       "      <td>Benzinga</td>\n",
       "      <td>Fifth Third Bancorp Announces Quarterly Cash D...</td>\n",
       "      <td>[\"Press Releases\"]</td>\n",
       "      <td>CINCINNATI--(BUSINESS WIRE)--\n",
       "\n",
       "Fifth Third Ban...</td>\n",
       "      <td>2011-06-21 16:49:00-04:00</td>\n",
       "      <td>2011-06-22 16:00:00-04:00</td>\n",
       "      <td>12.6700</td>\n",
       "      <td>19400.0</td>\n",
       "      <td>12.405</td>\n",
       "      <td>145400.0</td>\n",
       "      <td>-0.020916</td>\n",
       "    </tr>\n",
       "    <tr>\n",
       "      <th>16</th>\n",
       "      <td>2011-06-22 19:26:04-04:00</td>\n",
       "      <td>FITB</td>\n",
       "      <td>Benzinga</td>\n",
       "      <td>Downtrend Call Realized As Fifth Third Bancorp...</td>\n",
       "      <td>[\"Press Releases\"]</td>\n",
       "      <td>(via COMTEX News Network)--\n",
       "\n",
       "SmarTrend identif...</td>\n",
       "      <td>2011-06-22 19:27:00-04:00</td>\n",
       "      <td>2011-06-23 16:00:00-04:00</td>\n",
       "      <td>12.3600</td>\n",
       "      <td>300.0</td>\n",
       "      <td>12.090</td>\n",
       "      <td>520518.0</td>\n",
       "      <td>-0.021845</td>\n",
       "    </tr>\n",
       "    <tr>\n",
       "      <th>17</th>\n",
       "      <td>2011-06-23 12:20:13-04:00</td>\n",
       "      <td>FITB</td>\n",
       "      <td>Benzinga</td>\n",
       "      <td>Vantiv Signs Bank of Commerce</td>\n",
       "      <td>[\"Press Releases\"]</td>\n",
       "      <td># Vantiv Signs Bank of Commerce\n",
       "\n",
       "## Wyoming Ba...</td>\n",
       "      <td>2011-06-23 12:21:00-04:00</td>\n",
       "      <td>2011-06-24 16:00:00-04:00</td>\n",
       "      <td>12.1600</td>\n",
       "      <td>38200.0</td>\n",
       "      <td>12.180</td>\n",
       "      <td>254698.0</td>\n",
       "      <td>0.001645</td>\n",
       "    </tr>\n",
       "    <tr>\n",
       "      <th>18</th>\n",
       "      <td>2011-06-28 09:28:53-04:00</td>\n",
       "      <td>FITB</td>\n",
       "      <td>Benzinga</td>\n",
       "      <td>Vantiv Signs Two Credit Unions</td>\n",
       "      <td>[\"Press Releases\"]</td>\n",
       "      <td># Vantiv Signs Two Credit Unions\n",
       "\n",
       "## Further D...</td>\n",
       "      <td>2011-06-28 09:29:00-04:00</td>\n",
       "      <td>2011-06-28 16:00:00-04:00</td>\n",
       "      <td>12.3200</td>\n",
       "      <td>900.0</td>\n",
       "      <td>12.420</td>\n",
       "      <td>147836.0</td>\n",
       "      <td>0.008117</td>\n",
       "    </tr>\n",
       "    <tr>\n",
       "      <th>19</th>\n",
       "      <td>2011-06-28 13:27:26-04:00</td>\n",
       "      <td>FITB</td>\n",
       "      <td>Benzinga</td>\n",
       "      <td>Shares of Fifth Third Bancorp Under Pressure, ...</td>\n",
       "      <td>[\"Press Releases\"]</td>\n",
       "      <td>(via COMTEX News Network)--\n",
       "\n",
       "Fifth Third Banco...</td>\n",
       "      <td>2011-06-28 13:28:00-04:00</td>\n",
       "      <td>2011-06-29 16:00:00-04:00</td>\n",
       "      <td>12.2900</td>\n",
       "      <td>108908.0</td>\n",
       "      <td>12.710</td>\n",
       "      <td>138776.0</td>\n",
       "      <td>0.034174</td>\n",
       "    </tr>\n",
       "    <tr>\n",
       "      <th>20</th>\n",
       "      <td>2011-06-30 10:37:25-04:00</td>\n",
       "      <td>FITB</td>\n",
       "      <td>Benzinga</td>\n",
       "      <td>Fifth Third Bancorp Down 9.3% Since SmarTrend ...</td>\n",
       "      <td>[\"Press Releases\"]</td>\n",
       "      <td>(via COMTEX News Network)--\n",
       "\n",
       "SmarTrend identif...</td>\n",
       "      <td>2011-06-30 10:38:00-04:00</td>\n",
       "      <td>2011-07-01 16:00:00-04:00</td>\n",
       "      <td>12.7200</td>\n",
       "      <td>700.0</td>\n",
       "      <td>12.970</td>\n",
       "      <td>206668.0</td>\n",
       "      <td>0.019654</td>\n",
       "    </tr>\n",
       "    <tr>\n",
       "      <th>21</th>\n",
       "      <td>2011-07-06 13:14:07-04:00</td>\n",
       "      <td>FITB</td>\n",
       "      <td>Benzinga</td>\n",
       "      <td>Fifth Third Bancorp (FITB) Approaches New Down...</td>\n",
       "      <td>[\"Press Releases\"]</td>\n",
       "      <td>(via COMTEX News Network)--\n",
       "\n",
       "SmarTrend has det...</td>\n",
       "      <td>2011-07-06 13:15:00-04:00</td>\n",
       "      <td>2011-07-07 16:00:00-04:00</td>\n",
       "      <td>12.6800</td>\n",
       "      <td>2500.0</td>\n",
       "      <td>12.890</td>\n",
       "      <td>200204.0</td>\n",
       "      <td>0.016562</td>\n",
       "    </tr>\n",
       "  </tbody>\n",
       "</table>\n",
       "</div>"
      ],
      "text/plain": [
       "                        time stocks    author  \\\n",
       "0  2011-04-14 10:40:05-04:00   FITB  Benzinga   \n",
       "1  2011-04-21 10:38:05-04:00   FITB  Benzinga   \n",
       "2  2011-04-21 11:36:05-04:00   FITB  Benzinga   \n",
       "3  2011-04-25 12:14:04-04:00   FITB  Benzinga   \n",
       "4  2011-04-29 12:06:06-04:00   FITB  Benzinga   \n",
       "5  2011-05-02 13:52:07-04:00   FITB  Benzinga   \n",
       "6  2011-05-03 16:16:08-04:00   FITB  Benzinga   \n",
       "7  2011-05-12 13:42:06-04:00   FITB  Benzinga   \n",
       "8  2011-05-13 12:20:06-04:00   FITB  Benzinga   \n",
       "9  2011-05-13 13:08:35-04:00   FITB  Benzinga   \n",
       "10 2011-05-20 13:20:06-04:00   FITB  Benzinga   \n",
       "11 2011-06-01 14:08:04-04:00   FITB  Benzinga   \n",
       "12 2011-06-02 16:08:12-04:00   FITB  Benzinga   \n",
       "13 2011-06-21 15:32:05-04:00   FITB  Benzinga   \n",
       "14 2011-06-21 16:04:08-04:00   FITB  Benzinga   \n",
       "15 2011-06-21 16:48:04-04:00   FITB  Benzinga   \n",
       "16 2011-06-22 19:26:04-04:00   FITB  Benzinga   \n",
       "17 2011-06-23 12:20:13-04:00   FITB  Benzinga   \n",
       "18 2011-06-28 09:28:53-04:00   FITB  Benzinga   \n",
       "19 2011-06-28 13:27:26-04:00   FITB  Benzinga   \n",
       "20 2011-06-30 10:37:25-04:00   FITB  Benzinga   \n",
       "21 2011-07-06 13:14:07-04:00   FITB  Benzinga   \n",
       "\n",
       "                                                title            channels  \\\n",
       "0   Shares of FITB Down 3.2% Since Downtrend Call ...  [\"Press Releases\"]   \n",
       "1   Fifth Third Bancorp Has Returned 8.1% Since Sm...  [\"Press Releases\"]   \n",
       "2   Watch for Shares of Fifth Third Bancorp (FITB)...  [\"Press Releases\"]   \n",
       "3   Shares of Fifth Third Bancorp Under Pressure, ...  [\"Press Releases\"]   \n",
       "4   Downtrend Call Realized As Fifth Third Bancorp...  [\"Press Releases\"]   \n",
       "5   Fifth Third Bancorp (FITB) Crosses Pivot Point...  [\"Press Releases\"]   \n",
       "6   Fifth Third Processing Solutions Expands Suite...  [\"Press Releases\"]   \n",
       "7   Fifth Third Bancorp Has Returned 9.0% Since Sm...  [\"Press Releases\"]   \n",
       "8   Fifth Third Bancorp: Making a Move, Down 1.2% ...  [\"Press Releases\"]   \n",
       "9   Fifth Third Bancorp (FITB) Crosses Pivot Point...  [\"Press Releases\"]   \n",
       "10  8.0% Return Seen to Date on SmarTrend Fifth Th...  [\"Press Releases\"]   \n",
       "11  Fifth Third Bancorp Down 7.5% Since SmarTrend ...  [\"Press Releases\"]   \n",
       "12  Fifth Third Bancorp to Attend the Deutsche Ban...  [\"Press Releases\"]   \n",
       "13  Fifth Third Bancorp to Announce Second Quarter...  [\"Press Releases\"]   \n",
       "14  Fifth Third Appoints B. Evan Bayh to Bancorp B...  [\"Press Releases\"]   \n",
       "15  Fifth Third Bancorp Announces Quarterly Cash D...  [\"Press Releases\"]   \n",
       "16  Downtrend Call Realized As Fifth Third Bancorp...  [\"Press Releases\"]   \n",
       "17                      Vantiv Signs Bank of Commerce  [\"Press Releases\"]   \n",
       "18                     Vantiv Signs Two Credit Unions  [\"Press Releases\"]   \n",
       "19  Shares of Fifth Third Bancorp Under Pressure, ...  [\"Press Releases\"]   \n",
       "20  Fifth Third Bancorp Down 9.3% Since SmarTrend ...  [\"Press Releases\"]   \n",
       "21  Fifth Third Bancorp (FITB) Approaches New Down...  [\"Press Releases\"]   \n",
       "\n",
       "                                                 body  \\\n",
       "0   (via COMTEX News Network)--\n",
       "\n",
       "SmarTrend identif...   \n",
       "1   (via COMTEX News Network)--\n",
       "\n",
       "SmarTrend identif...   \n",
       "2   (via COMTEX News Network)--\n",
       "\n",
       "SmarTrend has det...   \n",
       "3   (via COMTEX News Network)--\n",
       "\n",
       "Fifth Third Banco...   \n",
       "4   (via COMTEX News Network)--\n",
       "\n",
       "SmarTrend identif...   \n",
       "5   (via COMTEX News Network)--\n",
       "\n",
       "SmarTrend has det...   \n",
       "6   ## Deploying Encryption Solution for Secure Te...   \n",
       "7   (via COMTEX News Network)--\n",
       "\n",
       "SmarTrend identif...   \n",
       "8   (via COMTEX News Network)--\n",
       "\n",
       "Fifth Third Banco...   \n",
       "9   (via COMTEX News Network)--\n",
       "\n",
       "SmarTrend has det...   \n",
       "10  (via COMTEX News Network)--\n",
       "\n",
       "SmarTrend identif...   \n",
       "11  (via COMTEX News Network)--\n",
       "\n",
       "SmarTrend identif...   \n",
       "12  CINCINNATI--(BUSINESS WIRE)--\n",
       "\n",
       "Daniel T. Posto...   \n",
       "13  CINCINNATI--(BUSINESS WIRE)--\n",
       "\n",
       "Fifth Third Ban...   \n",
       "14  CINCINNATI--(BUSINESS WIRE)--\n",
       "\n",
       "Fifth Third Ban...   \n",
       "15  CINCINNATI--(BUSINESS WIRE)--\n",
       "\n",
       "Fifth Third Ban...   \n",
       "16  (via COMTEX News Network)--\n",
       "\n",
       "SmarTrend identif...   \n",
       "17  # Vantiv Signs Bank of Commerce\n",
       "\n",
       "## Wyoming Ba...   \n",
       "18  # Vantiv Signs Two Credit Unions\n",
       "\n",
       "## Further D...   \n",
       "19  (via COMTEX News Network)--\n",
       "\n",
       "Fifth Third Banco...   \n",
       "20  (via COMTEX News Network)--\n",
       "\n",
       "SmarTrend identif...   \n",
       "21  (via COMTEX News Network)--\n",
       "\n",
       "SmarTrend has det...   \n",
       "\n",
       "                  entry_time              nn_exit_time  close_entry  \\\n",
       "0  2011-04-14 10:41:00-04:00 2011-04-15 16:00:00-04:00      13.5550   \n",
       "1  2011-04-21 10:39:00-04:00 2011-04-25 16:00:00-04:00      12.9301   \n",
       "2  2011-04-21 11:37:00-04:00 2011-04-25 16:00:00-04:00      13.1000   \n",
       "3  2011-04-25 12:15:00-04:00 2011-04-26 16:00:00-04:00      12.9601   \n",
       "4  2011-04-29 12:07:00-04:00 2011-05-02 16:00:00-04:00      13.3100   \n",
       "5  2011-05-02 13:53:00-04:00 2011-05-03 16:00:00-04:00      13.0800   \n",
       "6  2011-05-03 16:17:00-04:00 2011-05-04 16:00:00-04:00      13.4100   \n",
       "7  2011-05-12 13:43:00-04:00 2011-05-13 16:00:00-04:00      12.7000   \n",
       "8  2011-05-13 12:21:00-04:00 2011-05-16 16:00:00-04:00      12.5300   \n",
       "9  2011-05-13 13:09:00-04:00 2011-05-16 16:00:00-04:00      12.5010   \n",
       "10 2011-05-20 13:21:00-04:00 2011-05-23 16:00:00-04:00      12.7400   \n",
       "11 2011-06-01 14:09:00-04:00 2011-06-02 16:00:00-04:00      12.4600   \n",
       "12 2011-06-02 16:09:00-04:00 2011-06-03 16:00:00-04:00      12.3595   \n",
       "13 2011-06-21 15:33:00-04:00 2011-06-22 16:00:00-04:00      12.6300   \n",
       "14 2011-06-21 16:05:00-04:00 2011-06-22 16:00:00-04:00      12.6395   \n",
       "15 2011-06-21 16:49:00-04:00 2011-06-22 16:00:00-04:00      12.6700   \n",
       "16 2011-06-22 19:27:00-04:00 2011-06-23 16:00:00-04:00      12.3600   \n",
       "17 2011-06-23 12:21:00-04:00 2011-06-24 16:00:00-04:00      12.1600   \n",
       "18 2011-06-28 09:29:00-04:00 2011-06-28 16:00:00-04:00      12.3200   \n",
       "19 2011-06-28 13:28:00-04:00 2011-06-29 16:00:00-04:00      12.2900   \n",
       "20 2011-06-30 10:38:00-04:00 2011-07-01 16:00:00-04:00      12.7200   \n",
       "21 2011-07-06 13:15:00-04:00 2011-07-07 16:00:00-04:00      12.6800   \n",
       "\n",
       "    volume_entry  close_exit  volume_exit         r  \n",
       "0        10589.0      13.790     142594.0  0.017337  \n",
       "1        16405.0      12.920     357938.0 -0.000781  \n",
       "2         7973.0      12.920     357938.0 -0.013740  \n",
       "3         3900.0      13.050     174257.0  0.006937  \n",
       "4        14804.0      13.070     246634.0 -0.018032  \n",
       "5         5875.0      13.400     248086.0  0.024465  \n",
       "6          400.0      13.150     373011.0 -0.019389  \n",
       "7       119823.0      12.490     331491.0 -0.016535  \n",
       "8        25414.0      12.470     126287.0 -0.004789  \n",
       "9        34100.0      12.470     126287.0 -0.002480  \n",
       "10      169692.0      12.390     322520.0 -0.027473  \n",
       "11       19361.0      12.360     136133.0 -0.008026  \n",
       "12       82700.0      12.390     103521.0  0.002468  \n",
       "13       38707.0      12.405     145400.0 -0.017815  \n",
       "14       29800.0      12.405     145400.0 -0.018553  \n",
       "15       19400.0      12.405     145400.0 -0.020916  \n",
       "16         300.0      12.090     520518.0 -0.021845  \n",
       "17       38200.0      12.180     254698.0  0.001645  \n",
       "18         900.0      12.420     147836.0  0.008117  \n",
       "19      108908.0      12.710     138776.0  0.034174  \n",
       "20         700.0      12.970     206668.0  0.019654  \n",
       "21        2500.0      12.890     200204.0  0.016562  "
      ]
     },
     "execution_count": 273,
     "metadata": {},
     "output_type": "execute_result"
    }
   ],
   "source": [
    "merged"
   ]
  },
  {
   "cell_type": "markdown",
   "metadata": {},
   "source": [
    "# Daily Data"
   ]
  },
  {
   "attachments": {},
   "cell_type": "markdown",
   "metadata": {},
   "source": [
    "## Import Stocks"
   ]
  },
  {
   "cell_type": "code",
   "execution_count": null,
   "metadata": {},
   "outputs": [],
   "source": [
    "stocks = pd.read_pickle(\"data/stocks.pkl\")"
   ]
  },
  {
   "cell_type": "code",
   "execution_count": null,
   "metadata": {},
   "outputs": [],
   "source": [
    "stocks.head(3)"
   ]
  },
  {
   "cell_type": "code",
   "execution_count": null,
   "metadata": {},
   "outputs": [],
   "source": [
    "stock_tickers = set(stocks.index.get_level_values(\"ID\").unique())\n",
    "len(stock_tickers)\n",
    "#test"
   ]
  },
  {
   "attachments": {},
   "cell_type": "markdown",
   "metadata": {},
   "source": [
    "## Import Stories"
   ]
  },
  {
   "cell_type": "code",
   "execution_count": 19,
   "metadata": {},
   "outputs": [],
   "source": [
    "#stories = pd.read_pickle(\"data/stories.pkl\")\n",
    "stories = pd.read_parquet(\"data/raw_bzg/story_df_raw_2019.parquet\")"
   ]
  },
  {
   "cell_type": "code",
   "execution_count": null,
   "metadata": {},
   "outputs": [],
   "source": [
    "stories_tickers = set(stories.stocks.unique())"
   ]
  },
  {
   "attachments": {},
   "cell_type": "markdown",
   "metadata": {},
   "source": [
    "## Parse stocks"
   ]
  },
  {
   "cell_type": "code",
   "execution_count": null,
   "metadata": {},
   "outputs": [],
   "source": [
    "assert stories.stocks.dtype == stocks.index.dtypes[1]"
   ]
  },
  {
   "cell_type": "code",
   "execution_count": null,
   "metadata": {},
   "outputs": [],
   "source": [
    "def add_targets(df):\n",
    "    required_columns = [\"Close\", \"High\", \"Low\", \"Open\"]\n",
    "    # df.loc[:, \"IntradayReturn\"] = df[\"Close\"]/df[\"Open\"] - 1\n",
    "    df.loc[:, \"CloseToCloseReturn\"] = df[\"Close\"] / df.shift(1)[\"Close\"] - 1\n",
    "    # df.loc[:, \"NextDayReturn\"] = df.shift(-1)[\"Close\"] / df.shift(-1)[\"Open\"] - 1\n",
    "    # df.loc[:, \"CloseToNextOpen\"] = df.shift(-1)[\"Open\"] / df[\"Close\"] - 1\n",
    "    return df"
   ]
  },
  {
   "cell_type": "code",
   "execution_count": null,
   "metadata": {},
   "outputs": [],
   "source": [
    "stocks.index.dtypes"
   ]
  },
  {
   "cell_type": "code",
   "execution_count": null,
   "metadata": {},
   "outputs": [],
   "source": [
    "stocks.loc[:, [\"IntradayReturn\", \"NextDayReturn\"]] = np.nan\n",
    "stocks = stocks.swaplevel(0, 1).sort_index(ascending=[True, True])"
   ]
  },
  {
   "cell_type": "code",
   "execution_count": null,
   "metadata": {},
   "outputs": [],
   "source": [
    "stocks = stocks.groupby(\"ID\", as_index=False).apply(add_targets)\n",
    "stocks.index = stocks.index.droplevel(None)"
   ]
  },
  {
   "attachments": {},
   "cell_type": "markdown",
   "metadata": {},
   "source": [
    "## Parse Stories"
   ]
  },
  {
   "cell_type": "code",
   "execution_count": null,
   "metadata": {},
   "outputs": [],
   "source": [
    "from pandas.tseries.offsets import BDay"
   ]
  },
  {
   "cell_type": "code",
   "execution_count": null,
   "metadata": {},
   "outputs": [],
   "source": [
    "# PARAMETER \n",
    "typ = \"CloseToCloseReturn\""
   ]
  },
  {
   "cell_type": "code",
   "execution_count": null,
   "metadata": {},
   "outputs": [],
   "source": [
    "def get_appropriate_date(timestamp, typ):\n",
    "    if typ == \"CloseToCloseReturn\":\n",
    "        # TODO: Some noise here due to closing auction?\n",
    "        if timestamp.hour < 16: return timestamp.date()\n",
    "        if timestamp.hour >= 16: return timestamp.date() +  BDay(1)"
   ]
  },
  {
   "cell_type": "code",
   "execution_count": null,
   "metadata": {},
   "outputs": [],
   "source": [
    "# test\n",
    "get_appropriate_date(stories.NewsTimestamp.iloc[4], typ=\"CloseToCloseReturn\")"
   ]
  },
  {
   "attachments": {},
   "cell_type": "markdown",
   "metadata": {},
   "source": [
    "### Date assignment"
   ]
  },
  {
   "cell_type": "code",
   "execution_count": null,
   "metadata": {},
   "outputs": [],
   "source": [
    "# If we use Intraday return then news should only be between 9:40 am and 4pm (us trading hours).\n",
    "# If we use close-to-close return then news for this days CTC should be between yesterday 4pm and today 4pm. \n",
    "stories.loc[:, \"Date\"] = stories.NewsTimestamp.apply(lambda x: get_appropriate_date(x, typ))\n",
    "stories = stories.astype({\"Date\":'datetime64[ns]'})"
   ]
  },
  {
   "attachments": {},
   "cell_type": "markdown",
   "metadata": {},
   "source": [
    "## Merging"
   ]
  },
  {
   "cell_type": "code",
   "execution_count": null,
   "metadata": {},
   "outputs": [],
   "source": [
    "stories.rename(columns=dict(stocks=\"ID\"), inplace=True)"
   ]
  },
  {
   "cell_type": "code",
   "execution_count": null,
   "metadata": {},
   "outputs": [],
   "source": [
    "stories.columns"
   ]
  },
  {
   "cell_type": "code",
   "execution_count": null,
   "metadata": {},
   "outputs": [],
   "source": [
    "stocks.columns"
   ]
  },
  {
   "cell_type": "code",
   "execution_count": null,
   "metadata": {},
   "outputs": [],
   "source": [
    "dataset = stories[[\"Date\", \"NewsTimestamp\", \"ID\", \"body\"]].\\\n",
    "    merge(stocks[\n",
    "        [\n",
    "            # \"IntradayReturn\", \n",
    "            # \"NextDayReturn\", \n",
    "            \"CloseToCloseReturn\"]\n",
    "         ], on=[\"Date\", \"ID\"], how=\"inner\")"
   ]
  },
  {
   "cell_type": "code",
   "execution_count": null,
   "metadata": {},
   "outputs": [],
   "source": [
    "dataset[dataset.isna().sum(axis=1) > 0]"
   ]
  },
  {
   "cell_type": "code",
   "execution_count": null,
   "metadata": {},
   "outputs": [],
   "source": [
    "dataset = dataset.dropna()"
   ]
  },
  {
   "cell_type": "markdown",
   "metadata": {},
   "source": [
    "\tDate\tNewsTimestamp\tID\tbody\tCloseToCloseReturn"
   ]
  },
  {
   "cell_type": "code",
   "execution_count": null,
   "metadata": {},
   "outputs": [],
   "source": [
    "dataset.to_pickle(\"data/dataset.pkl\")"
   ]
  },
  {
   "attachments": {},
   "cell_type": "markdown",
   "metadata": {},
   "source": [
    "## Create train-test-split "
   ]
  },
  {
   "cell_type": "code",
   "execution_count": null,
   "metadata": {},
   "outputs": [],
   "source": [
    "import pandas as pd\n",
    "from sklearn.model_selection import train_test_split\n",
    "import pickle"
   ]
  },
  {
   "cell_type": "code",
   "execution_count": null,
   "metadata": {},
   "outputs": [],
   "source": [
    "dataset = pd.read_pickle(\"data/dataset.pkl\")\n",
    "assert dataset.index.is_unique"
   ]
  },
  {
   "cell_type": "code",
   "execution_count": null,
   "metadata": {},
   "outputs": [],
   "source": [
    "test_size = 0.2\n",
    "seed = 420\n",
    "### Train-test split -> Auslagern\n",
    "train_idx, test_idx = train_test_split(dataset.index, test_size=0.2, random_state=seed)"
   ]
  },
  {
   "cell_type": "code",
   "execution_count": null,
   "metadata": {},
   "outputs": [],
   "source": [
    "test_idx"
   ]
  },
  {
   "attachments": {},
   "cell_type": "markdown",
   "metadata": {},
   "source": [
    "## Filter training set for general stock market events"
   ]
  },
  {
   "cell_type": "code",
   "execution_count": null,
   "metadata": {},
   "outputs": [],
   "source": [
    "# Select S&P\n",
    "SnP = stocks.query(\"ID == 'A0AET0'\")"
   ]
  },
  {
   "cell_type": "code",
   "execution_count": null,
   "metadata": {},
   "outputs": [],
   "source": [
    "SnP = add_targets(SnP)"
   ]
  },
  {
   "cell_type": "code",
   "execution_count": null,
   "metadata": {},
   "outputs": [],
   "source": [
    "alpha = 0.1 # Percentage observations classified as too extreme to be used in the training set  "
   ]
  },
  {
   "cell_type": "code",
   "execution_count": null,
   "metadata": {},
   "outputs": [],
   "source": [
    "target_col = \"CloseToCloseReturn\""
   ]
  },
  {
   "cell_type": "code",
   "execution_count": null,
   "metadata": {},
   "outputs": [],
   "source": [
    "lower_quantile = SnP.loc[:, target_col].quantile(alpha/2)"
   ]
  },
  {
   "cell_type": "code",
   "execution_count": null,
   "metadata": {},
   "outputs": [],
   "source": [
    "upper_quantile = SnP.loc[:, target_col].quantile(1-alpha/2)"
   ]
  },
  {
   "cell_type": "code",
   "execution_count": null,
   "metadata": {},
   "outputs": [],
   "source": [
    "print(f\"Upper Quantile: {upper_quantile:.4f}. Lower Quantile: {lower_quantile:.4f}\")"
   ]
  },
  {
   "cell_type": "code",
   "execution_count": null,
   "metadata": {},
   "outputs": [],
   "source": [
    "mask = (SnP.loc[:, target_col] >= lower_quantile) & (SnP.loc[:, target_col] <= upper_quantile)\n",
    "\n",
    "# Only select dates where SnP behaved calmly\n",
    "allowed_dates = SnP.loc[mask, :].index.get_level_values(\"Date\")"
   ]
  },
  {
   "cell_type": "code",
   "execution_count": null,
   "metadata": {},
   "outputs": [],
   "source": [
    "# Now trim  training set\n",
    "train_dat = dataset.loc[train_idx, :]\n",
    "adj_train_idx = train_dat.loc[train_dat.Date.isin(allowed_dates)].index"
   ]
  },
  {
   "cell_type": "code",
   "execution_count": null,
   "metadata": {},
   "outputs": [],
   "source": [
    "train_idx"
   ]
  },
  {
   "cell_type": "code",
   "execution_count": null,
   "metadata": {},
   "outputs": [],
   "source": [
    "adj_train_idx"
   ]
  },
  {
   "attachments": {},
   "cell_type": "markdown",
   "metadata": {},
   "source": [
    "## Save train and test indices"
   ]
  },
  {
   "cell_type": "code",
   "execution_count": null,
   "metadata": {},
   "outputs": [],
   "source": [
    "with open('data/dataset_train_test_idx.pkl', 'wb') as f:\n",
    "    pickle.dump((adj_train_idx, test_idx), f)"
   ]
  },
  {
   "cell_type": "code",
   "execution_count": null,
   "metadata": {},
   "outputs": [],
   "source": []
  },
  {
   "cell_type": "code",
   "execution_count": null,
   "metadata": {},
   "outputs": [],
   "source": []
  },
  {
   "cell_type": "code",
   "execution_count": null,
   "metadata": {},
   "outputs": [],
   "source": []
  }
 ],
 "metadata": {
  "kernelspec": {
   "display_name": ".env",
   "language": "python",
   "name": "python3"
  },
  "language_info": {
   "codemirror_mode": {
    "name": "ipython",
    "version": 3
   },
   "file_extension": ".py",
   "mimetype": "text/x-python",
   "name": "python",
   "nbconvert_exporter": "python",
   "pygments_lexer": "ipython3",
   "version": "3.11.3"
  }
 },
 "nbformat": 4,
 "nbformat_minor": 2
}
