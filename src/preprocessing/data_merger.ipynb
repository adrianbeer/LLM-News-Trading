{
 "cells": [
  {
   "cell_type": "code",
   "execution_count": 3,
   "metadata": {},
   "outputs": [],
   "source": [
    "import pandas as pd "
   ]
  },
  {
   "cell_type": "code",
   "execution_count": 9,
   "metadata": {},
   "outputs": [],
   "source": [
    "stocks = pd.read_csv(\"../../data/stocks.csv\")"
   ]
  },
  {
   "cell_type": "code",
   "execution_count": 10,
   "metadata": {},
   "outputs": [
    {
     "data": {
      "text/html": [
       "<div>\n",
       "<style scoped>\n",
       "    .dataframe tbody tr th:only-of-type {\n",
       "        vertical-align: middle;\n",
       "    }\n",
       "\n",
       "    .dataframe tbody tr th {\n",
       "        vertical-align: top;\n",
       "    }\n",
       "\n",
       "    .dataframe thead th {\n",
       "        text-align: right;\n",
       "    }\n",
       "</style>\n",
       "<table border=\"1\" class=\"dataframe\">\n",
       "  <thead>\n",
       "    <tr style=\"text-align: right;\">\n",
       "      <th></th>\n",
       "      <th>Date</th>\n",
       "      <th>ID</th>\n",
       "      <th>Close</th>\n",
       "      <th>High</th>\n",
       "      <th>Low</th>\n",
       "      <th>Open</th>\n",
       "    </tr>\n",
       "  </thead>\n",
       "  <tbody>\n",
       "    <tr>\n",
       "      <th>0</th>\n",
       "      <td>1976-01-05</td>\n",
       "      <td>ARNC</td>\n",
       "      <td>5,7790</td>\n",
       "      <td>5,7965</td>\n",
       "      <td>5,4802</td>\n",
       "      <td>5,4802</td>\n",
       "    </tr>\n",
       "    <tr>\n",
       "      <th>1</th>\n",
       "      <td>1976-01-05</td>\n",
       "      <td>GT</td>\n",
       "      <td>11,2790</td>\n",
       "      <td>11,2790</td>\n",
       "      <td>11,0298</td>\n",
       "      <td>11,0298</td>\n",
       "    </tr>\n",
       "    <tr>\n",
       "      <th>2</th>\n",
       "      <td>1976-01-06</td>\n",
       "      <td>ARNC</td>\n",
       "      <td>5,9369</td>\n",
       "      <td>5,9545</td>\n",
       "      <td>5,7965</td>\n",
       "      <td>5,7965</td>\n",
       "    </tr>\n",
       "    <tr>\n",
       "      <th>3</th>\n",
       "      <td>1976-01-06</td>\n",
       "      <td>GT</td>\n",
       "      <td>11,4660</td>\n",
       "      <td>11,4660</td>\n",
       "      <td>11,3413</td>\n",
       "      <td>11,3413</td>\n",
       "    </tr>\n",
       "    <tr>\n",
       "      <th>4</th>\n",
       "      <td>1976-01-07</td>\n",
       "      <td>ARNC</td>\n",
       "      <td>6,0072</td>\n",
       "      <td>6,0774</td>\n",
       "      <td>5,9019</td>\n",
       "      <td>5,9369</td>\n",
       "    </tr>\n",
       "  </tbody>\n",
       "</table>\n",
       "</div>"
      ],
      "text/plain": [
       "         Date    ID    Close     High      Low     Open\n",
       "0  1976-01-05  ARNC   5,7790   5,7965   5,4802   5,4802\n",
       "1  1976-01-05    GT  11,2790  11,2790  11,0298  11,0298\n",
       "2  1976-01-06  ARNC   5,9369   5,9545   5,7965   5,7965\n",
       "3  1976-01-06    GT  11,4660  11,4660  11,3413  11,3413\n",
       "4  1976-01-07  ARNC   6,0072   6,0774   5,9019   5,9369"
      ]
     },
     "execution_count": 10,
     "metadata": {},
     "output_type": "execute_result"
    }
   ],
   "source": [
    "stocks.head()"
   ]
  },
  {
   "cell_type": "code",
   "execution_count": 11,
   "metadata": {},
   "outputs": [],
   "source": [
    "stocks.loc[:, \"Date\"] = pd.to_datetime(stocks.Date, format=\"%Y-%m-%d\")"
   ]
  },
  {
   "cell_type": "code",
   "execution_count": 19,
   "metadata": {},
   "outputs": [],
   "source": [
    "stock_tickers = set(stocks.ID.unique())"
   ]
  },
  {
   "cell_type": "code",
   "execution_count": 31,
   "metadata": {},
   "outputs": [
    {
     "data": {
      "text/plain": [
       "1956"
      ]
     },
     "execution_count": 31,
     "metadata": {},
     "output_type": "execute_result"
    }
   ],
   "source": [
    "len(stock_tickers)"
   ]
  },
  {
   "cell_type": "code",
   "execution_count": 33,
   "metadata": {},
   "outputs": [
    {
     "data": {
      "text/html": [
       "<div>\n",
       "<style scoped>\n",
       "    .dataframe tbody tr th:only-of-type {\n",
       "        vertical-align: middle;\n",
       "    }\n",
       "\n",
       "    .dataframe tbody tr th {\n",
       "        vertical-align: top;\n",
       "    }\n",
       "\n",
       "    .dataframe thead th {\n",
       "        text-align: right;\n",
       "    }\n",
       "</style>\n",
       "<table border=\"1\" class=\"dataframe\">\n",
       "  <thead>\n",
       "    <tr style=\"text-align: right;\">\n",
       "      <th></th>\n",
       "      <th>Date</th>\n",
       "      <th>ID</th>\n",
       "      <th>Close</th>\n",
       "      <th>High</th>\n",
       "      <th>Low</th>\n",
       "      <th>Open</th>\n",
       "    </tr>\n",
       "  </thead>\n",
       "  <tbody>\n",
       "    <tr>\n",
       "      <th>0</th>\n",
       "      <td>1976-01-05 00:00:00</td>\n",
       "      <td>ARNC</td>\n",
       "      <td>5,7790</td>\n",
       "      <td>5,7965</td>\n",
       "      <td>5,4802</td>\n",
       "      <td>5,4802</td>\n",
       "    </tr>\n",
       "    <tr>\n",
       "      <th>1</th>\n",
       "      <td>1976-01-05 00:00:00</td>\n",
       "      <td>GT</td>\n",
       "      <td>11,2790</td>\n",
       "      <td>11,2790</td>\n",
       "      <td>11,0298</td>\n",
       "      <td>11,0298</td>\n",
       "    </tr>\n",
       "    <tr>\n",
       "      <th>2</th>\n",
       "      <td>1976-01-06 00:00:00</td>\n",
       "      <td>ARNC</td>\n",
       "      <td>5,9369</td>\n",
       "      <td>5,9545</td>\n",
       "      <td>5,7965</td>\n",
       "      <td>5,7965</td>\n",
       "    </tr>\n",
       "    <tr>\n",
       "      <th>3</th>\n",
       "      <td>1976-01-06 00:00:00</td>\n",
       "      <td>GT</td>\n",
       "      <td>11,4660</td>\n",
       "      <td>11,4660</td>\n",
       "      <td>11,3413</td>\n",
       "      <td>11,3413</td>\n",
       "    </tr>\n",
       "    <tr>\n",
       "      <th>4</th>\n",
       "      <td>1976-01-07 00:00:00</td>\n",
       "      <td>ARNC</td>\n",
       "      <td>6,0072</td>\n",
       "      <td>6,0774</td>\n",
       "      <td>5,9019</td>\n",
       "      <td>5,9369</td>\n",
       "    </tr>\n",
       "  </tbody>\n",
       "</table>\n",
       "</div>"
      ],
      "text/plain": [
       "                  Date    ID    Close     High      Low     Open\n",
       "0  1976-01-05 00:00:00  ARNC   5,7790   5,7965   5,4802   5,4802\n",
       "1  1976-01-05 00:00:00    GT  11,2790  11,2790  11,0298  11,0298\n",
       "2  1976-01-06 00:00:00  ARNC   5,9369   5,9545   5,7965   5,7965\n",
       "3  1976-01-06 00:00:00    GT  11,4660  11,4660  11,3413  11,3413\n",
       "4  1976-01-07 00:00:00  ARNC   6,0072   6,0774   5,9019   5,9369"
      ]
     },
     "execution_count": 33,
     "metadata": {},
     "output_type": "execute_result"
    }
   ],
   "source": [
    "stocks.head()"
   ]
  },
  {
   "cell_type": "code",
   "execution_count": 4,
   "metadata": {},
   "outputs": [],
   "source": [
    "stories = pd.read_csv(\"../../data/stories.csv\")"
   ]
  },
  {
   "cell_type": "code",
   "execution_count": 5,
   "metadata": {},
   "outputs": [],
   "source": [
    "stories.loc[:, \"time\"] = pd.to_datetime(stories.time)"
   ]
  },
  {
   "cell_type": "code",
   "execution_count": 20,
   "metadata": {},
   "outputs": [],
   "source": [
    "stories_tickers = set(stories.stocks.unique())"
   ]
  },
  {
   "cell_type": "code",
   "execution_count": 21,
   "metadata": {},
   "outputs": [
    {
     "data": {
      "text/plain": [
       "{'LVO'}"
      ]
     },
     "execution_count": 21,
     "metadata": {},
     "output_type": "execute_result"
    }
   ],
   "source": [
    "stock_tickers.intersection(stories_tickers)"
   ]
  },
  {
   "cell_type": "code",
   "execution_count": null,
   "metadata": {},
   "outputs": [],
   "source": []
  }
 ],
 "metadata": {
  "kernelspec": {
   "display_name": ".env",
   "language": "python",
   "name": "python3"
  },
  "language_info": {
   "codemirror_mode": {
    "name": "ipython",
    "version": 3
   },
   "file_extension": ".py",
   "mimetype": "text/x-python",
   "name": "python",
   "nbconvert_exporter": "python",
   "pygments_lexer": "ipython3",
   "version": "3.11.3"
  },
  "orig_nbformat": 4
 },
 "nbformat": 4,
 "nbformat_minor": 2
}
