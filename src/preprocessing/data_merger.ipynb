{
 "cells": [
  {
   "cell_type": "code",
   "execution_count": 1,
   "metadata": {},
   "outputs": [
    {
     "name": "stderr",
     "output_type": "stream",
     "text": [
      "g:\\Meine Ablage\\NewsTrading\\trading_bot\\.venv\\Lib\\site-packages\\tqdm\\auto.py:21: TqdmWarning: IProgress not found. Please update jupyter and ipywidgets. See https://ipywidgets.readthedocs.io/en/stable/user_install.html\n",
      "  from .autonotebook import tqdm as notebook_tqdm\n"
     ]
    }
   ],
   "source": [
    "\n",
    "import pandas as pd \n",
    "import numpy as np\n",
    "\n",
    "from IPython.display import clear_output\n",
    "import dask.dataframe as dd\n",
    "\n",
    "import pytz\n",
    "eastern = pytz.timezone('US/Eastern')\n",
    "\n",
    "from src.config import config\n",
    "from src.preprocessing.data_merger_util import get_appropriate_closing_time,get_appropriate_entry_time, get_time_interval, consolidate_tickers, get_primary_ticker"
   ]
  },
  {
   "cell_type": "markdown",
   "metadata": {},
   "source": [
    "[Python numpy: cannot convert datetime64[ns] to datetime64[D] (to use with Numba)](https://stackoverflow.com/a/76139900/9079015)"
   ]
  },
  {
   "cell_type": "markdown",
   "metadata": {},
   "source": [
    "## Import and Preprocess News "
   ]
  },
  {
   "cell_type": "code",
   "execution_count": 11,
   "metadata": {},
   "outputs": [],
   "source": [
    "news = dd.read_parquet(path=config.data.benzinga.cleaned, columns=[\"time\", \"stocks\", \"parsed_body\"])"
   ]
  },
  {
   "cell_type": "code",
   "execution_count": 12,
   "metadata": {},
   "outputs": [],
   "source": [
    "news = news.compute()"
   ]
  },
  {
   "cell_type": "code",
   "execution_count": 13,
   "metadata": {},
   "outputs": [],
   "source": [
    "news[\"time\"] = news.time.dt.tz_convert(eastern).astype('datetime64[ns, US/Eastern]')\n",
    "\n",
    "# TODO: This can be *improved* by saying that if we are very close to completing the minute e.g. :55, \n",
    "# then we dont take the next candle (T+1), but the candle after the next(T+2).\n",
    "# Watch out, news time is accurate, but candles are right labeled, hence add one minute.\n",
    "news[\"entry_time\"] = news[\"time\"].map(get_appropriate_entry_time)\n",
    "\n",
    "# Necessary to get `us` units, otherwise pandas will always convert back to `ns` for some reason.\n",
    "news[\"nn_exit_time\"] = news[\"time\"].map(get_appropriate_closing_time)"
   ]
  },
  {
   "cell_type": "markdown",
   "metadata": {},
   "source": [
    "## Consolidate Tickers"
   ]
  },
  {
   "cell_type": "code",
   "execution_count": 14,
   "metadata": {},
   "outputs": [
    {
     "data": {
      "text/plain": [
       "\"\\nHandling of multiple tickers for a the same company.\\nIf there is only one price time series available for the company, we simply group together the tickers.\\nHowever in some cases we will have multiple price time series for the same company.\\n\\nE.g. in case of Alphabet (Google) we have two different tickers and two different stock prices for the same\\nunderlying company. Here `GOOG` and `GOOGL` describe two different classes of stock for the same company.\\nIn this case we will try to only look at the main class. \\n\\nWe find this class by choosing the Symbol with the longer stock price history, assuming that the history\\nof it includes(!) the history of the other one completely.\\nIf one time series doesn't include the other we merge the two time series. Ideally based on which time series has more liquidity \\nin a given week or but we will simply decide that the newer time series takes precedence for simplicity. \\n\""
      ]
     },
     "execution_count": 14,
     "metadata": {},
     "output_type": "execute_result"
    }
   ],
   "source": [
    "\"\"\"\n",
    "Handling of multiple tickers for a the same company.\n",
    "If there is only one price time series available for the company, we simply group together the tickers.\n",
    "However in some cases we will have multiple price time series for the same company.\n",
    "\n",
    "E.g. in case of Alphabet (Google) we have two different tickers and two different stock prices for the same\n",
    "underlying company. Here `GOOG` and `GOOGL` describe two different classes of stock for the same company.\n",
    "In this case we will try to only look at the main class. \n",
    "\n",
    "We find this class by choosing the Symbol with the longer stock price history, assuming that the history\n",
    "of it includes(!) the history of the other one completely.\n",
    "If one time series doesn't include the other we merge the two time series. Ideally based on which time series has more liquidity \n",
    "in a given week or but we will simply decide that the newer time series takes precedence for simplicity. \n",
    "\"\"\""
   ]
  },
  {
   "cell_type": "code",
   "execution_count": 15,
   "metadata": {},
   "outputs": [],
   "source": [
    "do_consolidate_tickers = False\n",
    "if do_consolidate_tickers:\n",
    "    ticker_mapper = pd.read_parquet(\"data_shared/ticker_name_mapper_reduced.parquet\")\n",
    "    ticker_mapper[[\"first_date\", \"last_date\"]] = np.NaN\n",
    "    for i in ticker_mapper.index:\n",
    "        ticker_mapper.loc[i, [\"first_date\", \"last_date\"]] = get_time_interval(ticker_mapper.loc[i, \"stocks\"])\n",
    "    ticker_mapper.dropna(inplace=True)\n",
    "    ticker_mapper[[\"first_date\", \"last_date\"]] = ticker_mapper[[\"first_date\", \"last_date\"]].apply(pd.to_datetime, axis=0)\n",
    "\n",
    "    ticker_mapper_consolidated = ticker_mapper.copy(deep=True)\n",
    "    ticker_mapper_consolidated[\"is_primary_ticker\"] = False\n",
    "    ticker_mapper_consolidated = ticker_mapper_consolidated.groupby(\"company_name\", as_index=False).apply(consolidate_tickers)\n",
    "    print(f\"{ticker_mapper_consolidated.shape[0]} entries before consolidation. {ticker_mapper_consolidated[ticker_mapper_consolidated.is_primary_ticker].shape} entries after.\")\n",
    "    ticker_mapper_consolidated.to_parquet(\"data_shared/ticker_name_mapper_consolidated.parquet\")"
   ]
  },
  {
   "cell_type": "code",
   "execution_count": 16,
   "metadata": {},
   "outputs": [],
   "source": [
    "ticker_mapper_consolidated = pd.read_parquet(\"data_shared/ticker_name_mapper_consolidated.parquet\")"
   ]
  },
  {
   "cell_type": "code",
   "execution_count": 17,
   "metadata": {},
   "outputs": [],
   "source": [
    "# Overwrite tickers with consolidated ticker, i.e. the ticker of the time series we use to construct input-output pairs\n",
    "news[\"stocks\"] = news.stocks.map(lambda ticker: get_primary_ticker(ticker, mapper=ticker_mapper_consolidated))\n",
    "# Some tickers don't exist, they will be converted to NaNs\n",
    "news = news.dropna()"
   ]
  },
  {
   "cell_type": "code",
   "execution_count": 18,
   "metadata": {},
   "outputs": [
    {
     "data": {
      "text/plain": [
       "Index              3418496\n",
       "time               3418496\n",
       "stocks             3418496\n",
       "parsed_body     1939337930\n",
       "entry_time         3418496\n",
       "nn_exit_time       3418496\n",
       "dtype: int64"
      ]
     },
     "execution_count": 18,
     "metadata": {},
     "output_type": "execute_result"
    }
   ],
   "source": [
    "news.memory_usage()"
   ]
  },
  {
   "cell_type": "markdown",
   "metadata": {},
   "source": [
    "## Merge News with Price Time Series"
   ]
  },
  {
   "cell_type": "code",
   "execution_count": 19,
   "metadata": {},
   "outputs": [],
   "source": [
    "# TODO: Also merge with  non-adjusted prices. We don't trade penny stocks.\n",
    "# If the price is smaller than 1 when the news come out we don't trade."
   ]
  },
  {
   "cell_type": "code",
   "execution_count": 20,
   "metadata": {},
   "outputs": [],
   "source": [
    "spy: pd.DataFrame = pd.read_parquet(path=f\"{config.data.iqfeed.minute.cleaned}/SPY_1min.parquet\")\n",
    "spy.columns = [x.strip(\"adj_\") for x in spy.columns]\n",
    "spy.columns = [f\"SPY_{x}\" for x in spy.columns]"
   ]
  },
  {
   "cell_type": "code",
   "execution_count": 21,
   "metadata": {},
   "outputs": [],
   "source": [
    "unique_tickers = ticker_mapper_consolidated.stocks[ticker_mapper_consolidated.is_primary_ticker].values"
   ]
  },
  {
   "cell_type": "code",
   "execution_count": 22,
   "metadata": {},
   "outputs": [
    {
     "name": "stdout",
     "output_type": "stream",
     "text": [
      "8070 - OSSUY\n"
     ]
    }
   ],
   "source": [
    "for i, ticker in enumerate(unique_tickers):\n",
    "    clear_output(wait=True)\n",
    "    print(f\"{i} - {ticker}\", flush=True)\n",
    "\n",
    "    ticker_news = news.loc[news.stocks == ticker, :].reset_index()\n",
    "\n",
    "    prices: pd.DataFrame = pd.read_parquet(path=f\"{config.data.iqfeed.minute.cleaned}/{ticker}_1min.parquet\")\n",
    "    prices.columns = [x.strip(\"adj_\") for x in prices.columns]\n",
    "    prices = prices.sort_values(\"time\")\n",
    "\n",
    "    # We generally neeed to use `merge_asof` here instad of simple `merge`, because\n",
    "    # Sometimes no auction occurred or was recorded at 16:00 or things of this sort.\n",
    "    \n",
    "    # Left key must be sorted\n",
    "    ticker_news.sort_values(\"entry_time\", inplace=True)\n",
    "    merged = pd.merge_asof(ticker_news, prices, left_on=\"entry_time\", right_on=\"time\", direction=\"forward\")\n",
    "    merged.sort_values(\"nn_exit_time\", inplace=True)\n",
    "    merged = pd.merge_asof(merged, prices, left_on=\"nn_exit_time\", right_on=\"time\", suffixes=(\"_entry\", \"_exit\"), direction=\"backward\")\n",
    "    # We use the O part of the OHLC for intra day candles here for convenienece as well\n",
    "    merged[\"r\"] = merged[\"open_exit\"] / merged[\"open_entry\"] - 1\n",
    "\n",
    "    # Ideally we do this for every stock first and then we come back with the complete dataframe... (depends on if it fits in memory)\n",
    "    # Merge news and stock prices with spy prices\n",
    "    merged.sort_values(\"entry_time\", inplace=True)\n",
    "    merged = pd.merge_asof(merged, spy, left_on=\"entry_time\", right_on=\"time\", direction=\"forward\")\n",
    "\n",
    "    # TODO: Don't use intraday as exit here (closing candle) but the actual closing auction...\n",
    "    # But for that we need the daily time series, not with minute frequency\n",
    "    merged.sort_values(\"nn_exit_time\", inplace=True)\n",
    "    merged = pd.merge_asof(merged, spy, left_on=\"nn_exit_time\", right_on=\"time\", suffixes=(\"_entry\", \"_exit\"), direction=\"backward\")\n",
    "\n",
    "    # Calculate to potentially filter out penny stocks later on\n",
    "    merged[\"unadj_entry_open\"] = merged[\"open_entry\"] / merged[\"cum_split_ratio_entry\"]\n",
    "    \n",
    "    merged[\"r_spy\"] = merged[\"SPY_close_exit\"] / merged[\"SPY_close_entry\"] - 1\n",
    "\n",
    "    merged.set_index(\"index\", inplace=True)\n",
    "    \n",
    "    keep_columns = [\"entry_time\", \"nn_exit_time\", \"r\", \"unadj_entry_open\", \"r_spy\"]\n",
    "    news.loc[merged.index, keep_columns] = merged.loc[:, keep_columns]"
   ]
  },
  {
   "cell_type": "code",
   "execution_count": 23,
   "metadata": {},
   "outputs": [
    {
     "data": {
      "text/html": [
       "<div>\n",
       "<style scoped>\n",
       "    .dataframe tbody tr th:only-of-type {\n",
       "        vertical-align: middle;\n",
       "    }\n",
       "\n",
       "    .dataframe tbody tr th {\n",
       "        vertical-align: top;\n",
       "    }\n",
       "\n",
       "    .dataframe thead th {\n",
       "        text-align: right;\n",
       "    }\n",
       "</style>\n",
       "<table border=\"1\" class=\"dataframe\">\n",
       "  <thead>\n",
       "    <tr style=\"text-align: right;\">\n",
       "      <th></th>\n",
       "      <th></th>\n",
       "      <th>stocks</th>\n",
       "      <th>company_name</th>\n",
       "      <th>short_name</th>\n",
       "      <th>first_date</th>\n",
       "      <th>last_date</th>\n",
       "      <th>is_primary_ticker</th>\n",
       "    </tr>\n",
       "  </thead>\n",
       "  <tbody>\n",
       "    <tr>\n",
       "      <th>778</th>\n",
       "      <th>74475</th>\n",
       "      <td>ALV</td>\n",
       "      <td>Autoliv, Inc.</td>\n",
       "      <td>Autoliv</td>\n",
       "      <td>2010-01-04 09:31:00-05:00</td>\n",
       "      <td>2023-12-15 16:01:00-05:00</td>\n",
       "      <td>True</td>\n",
       "    </tr>\n",
       "  </tbody>\n",
       "</table>\n",
       "</div>"
      ],
      "text/plain": [
       "          stocks   company_name short_name                first_date  \\\n",
       "778 74475    ALV  Autoliv, Inc.    Autoliv 2010-01-04 09:31:00-05:00   \n",
       "\n",
       "                          last_date  is_primary_ticker  \n",
       "778 74475 2023-12-15 16:01:00-05:00               True  "
      ]
     },
     "execution_count": 23,
     "metadata": {},
     "output_type": "execute_result"
    }
   ],
   "source": [
    "ticker_mapper_consolidated[ticker_mapper_consolidated.stocks == \"ALV\"]"
   ]
  },
  {
   "cell_type": "code",
   "execution_count": 24,
   "metadata": {},
   "outputs": [
    {
     "name": "stdout",
     "output_type": "stream",
     "text": [
      "427312 news before. 419094 news after dropping NaNs.NaNs should occurr, when we don't have a price time series when news occurred.\n"
     ]
    }
   ],
   "source": [
    "print(f\"{news.shape[0]} news before. {news.dropna().shape[0]} news after dropping NaNs.\"\n",
    "      f\"NaNs should occurr, when we don't have a price time series when news occurred.\")\n",
    "news = news.dropna()"
   ]
  },
  {
   "cell_type": "code",
   "execution_count": 27,
   "metadata": {},
   "outputs": [],
   "source": [
    "# Save to Disk\n",
    "news.to_parquet(config.data.merged)"
   ]
  },
  {
   "cell_type": "markdown",
   "metadata": {},
   "source": [
    "------------------------------\n",
    "## Merge with Daily Indicators"
   ]
  },
  {
   "cell_type": "code",
   "execution_count": 28,
   "metadata": {},
   "outputs": [],
   "source": [
    "from src.utils.tickers import get_tickers\n",
    "tickers = get_tickers(config.data.iqfeed.daily.cleaned)"
   ]
  },
  {
   "cell_type": "code",
   "execution_count": 29,
   "metadata": {},
   "outputs": [],
   "source": [
    "dataset = pd.read_parquet(path=config.data.merged)\n",
    "dataset[[\"std_252\", \"dollar_volume\", 'r_intra_(t-1)', 'unadj_open']] = np.NaN"
   ]
  },
  {
   "cell_type": "code",
   "execution_count": 30,
   "metadata": {},
   "outputs": [],
   "source": [
    "indicators = [\"std_252\", \"dollar_volume\", 'r_intra_(t-1)', 'unadj_open']"
   ]
  },
  {
   "cell_type": "code",
   "execution_count": 31,
   "metadata": {},
   "outputs": [],
   "source": [
    "ticker = tickers[0]\n",
    "prices = pd.read_parquet(path=f\"{config.data.iqfeed.daily.cleaned}/{ticker}_daily.parquet\")\n",
    "prices.index = prices.index.tz_localize(\"US/Eastern\")\n",
    "ticker_dat = dataset.loc[dataset.stocks == ticker, :].reset_index()\n",
    "merged = pd.merge_asof(ticker_dat, prices[indicators], left_on=\"entry_time\", right_on=\"date\", direction=\"backward\")\n",
    "merged.set_index(\"index\", inplace=True)"
   ]
  },
  {
   "cell_type": "code",
   "execution_count": 32,
   "metadata": {},
   "outputs": [
    {
     "name": "stdout",
     "output_type": "stream",
     "text": [
      "8165 - ZZLL\n"
     ]
    }
   ],
   "source": [
    "for i, ticker in enumerate(tickers):\n",
    "    clear_output(wait=True)\n",
    "    print(f\"{i} - {ticker}\", flush=True)\n",
    "    \n",
    "    prices = pd.read_parquet(path=f\"{config.data.iqfeed.daily.cleaned}/{ticker}_daily.parquet\")\n",
    "    prices.index = prices.index.tz_localize(\"US/Eastern\")\n",
    "    ticker_dat = dataset.loc[dataset.stocks == ticker, :].reset_index().drop(columns=indicators)\n",
    "    ticker_dat.sort_values(\"entry_time\", inplace=True)\n",
    "    merged = pd.merge_asof(ticker_dat, prices[indicators], left_on=\"entry_time\", right_on=\"date\", direction=\"backward\")\n",
    "    merged.set_index(\"index\", inplace=True)\n",
    "    dataset.loc[merged.index, indicators] = merged[indicators]"
   ]
  },
  {
   "cell_type": "code",
   "execution_count": 33,
   "metadata": {},
   "outputs": [],
   "source": [
    "dataset.to_parquet(path=config.data.merged)"
   ]
  },
  {
   "cell_type": "markdown",
   "metadata": {},
   "source": [
    "# Calculate target variables"
   ]
  },
  {
   "cell_type": "code",
   "execution_count": 3,
   "metadata": {},
   "outputs": [],
   "source": [
    "dat: pd.DataFrame = pd.read_parquet(path=config.data.merged)"
   ]
  },
  {
   "cell_type": "code",
   "execution_count": 4,
   "metadata": {},
   "outputs": [],
   "source": [
    "dat.loc[:, \"r_mkt_adj\"] =  dat[\"r\"] - dat[\"r_spy\"]\n",
    "dat.loc[:, \"z_score\"] = dat[\"r_mkt_adj\"] / dat[\"std_252\"] #TODO: This needs to be of r_mkt_adj, not of wahtever else std_252 is or?\n",
    "\n",
    "dat.loc[:, \"z_score_class\"] = 0\n",
    "dat.loc[dat[\"z_score\"] >= 1.4, \"z_score_class\"] = 1\n",
    "dat.loc[dat[\"z_score\"] <= 1.4, \"z_score_class\"] = 2"
   ]
  },
  {
   "cell_type": "code",
   "execution_count": 5,
   "metadata": {},
   "outputs": [],
   "source": [
    "dat.to_parquet(path=config.data.merged)"
   ]
  },
  {
   "cell_type": "markdown",
   "metadata": {},
   "source": [
    "\n",
    "------------"
   ]
  },
  {
   "cell_type": "code",
   "execution_count": 4,
   "metadata": {},
   "outputs": [
    {
     "data": {
      "text/plain": [
       "z_score_class\n",
       "2    398439\n",
       "0     20440\n",
       "1       215\n",
       "Name: count, dtype: int64"
      ]
     },
     "execution_count": 4,
     "metadata": {},
     "output_type": "execute_result"
    }
   ],
   "source": [
    "dat[\"z_score_class\"].value_counts()"
   ]
  },
  {
   "cell_type": "code",
   "execution_count": null,
   "metadata": {},
   "outputs": [],
   "source": []
  }
 ],
 "metadata": {
  "kernelspec": {
   "display_name": ".env",
   "language": "python",
   "name": "python3"
  },
  "language_info": {
   "codemirror_mode": {
    "name": "ipython",
    "version": 3
   },
   "file_extension": ".py",
   "mimetype": "text/x-python",
   "name": "python",
   "nbconvert_exporter": "python",
   "pygments_lexer": "ipython3",
   "version": "3.11.3"
  }
 },
 "nbformat": 4,
 "nbformat_minor": 2
}
