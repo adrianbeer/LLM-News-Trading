{
 "cells": [
  {
   "cell_type": "code",
   "execution_count": 40,
   "metadata": {},
   "outputs": [],
   "source": [
    "import pandas as pd \n",
    "import numpy as np\n",
    "import pandas_market_calendars as mcal\n",
    "from os import listdir\n",
    "from os.path import isfile, join\n",
    "\n",
    "from src.config import TEST_CUTOFF_DATE\n",
    "\n",
    "import pytz\n",
    "eastern = pytz.timezone('US/Eastern')"
   ]
  },
  {
   "cell_type": "markdown",
   "metadata": {},
   "source": [
    "# Minutely Data"
   ]
  },
  {
   "cell_type": "markdown",
   "metadata": {},
   "source": [
    "## Configuration"
   ]
  },
  {
   "cell_type": "code",
   "execution_count": 41,
   "metadata": {},
   "outputs": [],
   "source": [
    "# List off functions for modifying the return\n",
    "raw_iq_feed_data_dir = \"D:/IQFeedData\"\n",
    "\n",
    "# Input-Output-Rows for the neural network training and validation\n",
    "train_output_dir = \"D:/Data/NN_Training\"\n",
    "\n",
    "# Input-Rows for testing\n",
    "test_output_dir = \"D:/Data/NN_Testing\""
   ]
  },
  {
   "cell_type": "markdown",
   "metadata": {},
   "source": [
    "## Import IQFeed Stocks"
   ]
  },
  {
   "cell_type": "code",
   "execution_count": 42,
   "metadata": {},
   "outputs": [],
   "source": [
    "def get_next_available_candle(prices: pd.DataFrame, \n",
    "                              time: pd.Timestamp) -> pd.Series:\n",
    "    entry_candle_idx = prices.index.get_indexer(target=[time], \n",
    "                                                method=\"bfill\")\n",
    "    entry_candle = prices.take(entry_candle_idx).iloc[0]\n",
    "    return entry_candle"
   ]
  },
  {
   "cell_type": "code",
   "execution_count": 43,
   "metadata": {},
   "outputs": [],
   "source": [
    "nyse_cal = mcal.get_calendar('NYSE')\n",
    "def get_appropriate_closing_time(time: pd.Timestamp) -> pd.Timestamp:\n",
    "    if (time.hour < 9) or ((time.hour == 9) and (time.minute < 30)):\n",
    "        return pd.Timestamp(year=time.year, month=time.month, day=time.day, hour=16, minute=0, tz=time.tz, unit=\"us\")\n",
    "    else:\n",
    "        valid_days = [x.date() for x in nyse_cal.valid_days(start_date=time.date(), end_date=time.date() + pd.DateOffset(days=10))]\n",
    "        i = 1\n",
    "        while True:\n",
    "            new_time = time + pd.DateOffset(days=i)\n",
    "            if new_time.date() in valid_days:\n",
    "                return pd.Timestamp(year=new_time.year, month=new_time.month, day=new_time.day, hour=16, minute=0, tz=time.tz, unit=\"us\")\n",
    "            if i == 7:\n",
    "                return ValueError()\n",
    "            i += 1"
   ]
  },
  {
   "cell_type": "code",
   "execution_count": 44,
   "metadata": {},
   "outputs": [],
   "source": [
    "def preprocess_iq_feed_prices(prices: pd.DataFrame) -> pd.DataFrame: \n",
    "    prices.loc[:, \"time\"] = prices.loc[:, \"time\"].dt.tz_localize(None)\n",
    "    prices.loc[:, \"time\"] = prices.loc[:, \"time\"].dt.tz_localize(eastern)\n",
    "    prices.drop_duplicates(keep=\"first\", inplace=True)\n",
    "    prices.dropna(inplace=True)\n",
    "\n",
    "    # Deals with duplicate rows which occurr when not all the digits for volume are \n",
    "    # correctly entered, but only the first 1-3. So keep the largest.\n",
    "    prices = prices.sort_values([\"time\", \"volume\"], ascending=[True, False])\n",
    "    prices = prices.drop_duplicates(subset=[\"time\"], keep=\"first\")\n",
    "\n",
    "    prices.set_index(\"time\", inplace=True)\n",
    "    prices.sort_index(ascending=True, inplace=True)\n",
    "    assert prices.index.is_unique\n",
    "    return prices"
   ]
  },
  {
   "cell_type": "markdown",
   "metadata": {},
   "source": [
    "## Import and Preprocess News "
   ]
  },
  {
   "cell_type": "code",
   "execution_count": 45,
   "metadata": {},
   "outputs": [],
   "source": [
    "df = pd.read_parquet(\"data/unraw2_bzg/data-5.parquet\")"
   ]
  },
  {
   "cell_type": "code",
   "execution_count": 46,
   "metadata": {},
   "outputs": [],
   "source": [
    "# Direct assignment doesnt work here, if df.time \n",
    "# already has a tz then it doesnt change on assignment \n",
    "tmp = df.time.dt.tz_convert(eastern)\n",
    "df.loc[:, \"time\"] = 0\n",
    "df.loc[:, \"time\"] = tmp"
   ]
  },
  {
   "cell_type": "code",
   "execution_count": 47,
   "metadata": {},
   "outputs": [],
   "source": [
    "# TODO: This can be *improved* by saying that if we are very close to completing the minute e.g. :55, \n",
    "# then we dont take the next candle (T+1), but the candle after the next(T+2).\n",
    "df.loc[:, \"entry_time\"] = df.loc[:, \"time\"].dt.ceil(\"min\")"
   ]
  },
  {
   "cell_type": "code",
   "execution_count": 48,
   "metadata": {},
   "outputs": [],
   "source": [
    "# Necessary to get `us` units, otherwise pandas will always convert back to `ns` for some reason.\n",
    "df.loc[:, \"nn_exit_time\"] = df.loc[:, \"time\"]\n",
    "df.loc[:, \"nn_exit_time\"] = df.loc[:, \"time\"].map(get_appropriate_closing_time)"
   ]
  },
  {
   "cell_type": "markdown",
   "metadata": {},
   "source": [
    "## Import and Preprocess Stock Prices"
   ]
  },
  {
   "cell_type": "code",
   "execution_count": 49,
   "metadata": {},
   "outputs": [
    {
     "data": {
      "text/html": [
       "<div>\n",
       "<style scoped>\n",
       "    .dataframe tbody tr th:only-of-type {\n",
       "        vertical-align: middle;\n",
       "    }\n",
       "\n",
       "    .dataframe tbody tr th {\n",
       "        vertical-align: top;\n",
       "    }\n",
       "\n",
       "    .dataframe thead th {\n",
       "        text-align: right;\n",
       "    }\n",
       "</style>\n",
       "<table border=\"1\" class=\"dataframe\">\n",
       "  <thead>\n",
       "    <tr style=\"text-align: right;\">\n",
       "      <th></th>\n",
       "      <th>close</th>\n",
       "      <th>volume</th>\n",
       "    </tr>\n",
       "    <tr>\n",
       "      <th>time</th>\n",
       "      <th></th>\n",
       "      <th></th>\n",
       "    </tr>\n",
       "  </thead>\n",
       "  <tbody>\n",
       "    <tr>\n",
       "      <th>2010-01-04 04:08:00-05:00</th>\n",
       "      <td>112.25</td>\n",
       "      <td>1000.0</td>\n",
       "    </tr>\n",
       "    <tr>\n",
       "      <th>2010-01-04 04:09:00-05:00</th>\n",
       "      <td>112.25</td>\n",
       "      <td>1000.0</td>\n",
       "    </tr>\n",
       "    <tr>\n",
       "      <th>2010-01-04 04:16:00-05:00</th>\n",
       "      <td>112.22</td>\n",
       "      <td>19030.0</td>\n",
       "    </tr>\n",
       "  </tbody>\n",
       "</table>\n",
       "</div>"
      ],
      "text/plain": [
       "                            close   volume\n",
       "time                                      \n",
       "2010-01-04 04:08:00-05:00  112.25   1000.0\n",
       "2010-01-04 04:09:00-05:00  112.25   1000.0\n",
       "2010-01-04 04:16:00-05:00  112.22  19030.0"
      ]
     },
     "execution_count": 49,
     "metadata": {},
     "output_type": "execute_result"
    }
   ],
   "source": [
    "spy: pd.DataFrame = pd.read_parquet(f\"{raw_iq_feed_data_dir}/SPY_1min.parquet\", columns=[\"time\", \"close\", \"volume\"])\n",
    "spy = preprocess_iq_feed_prices(spy)\n",
    "spy.head(3)"
   ]
  },
  {
   "cell_type": "code",
   "execution_count": 50,
   "metadata": {},
   "outputs": [],
   "source": [
    "ticker = \"FITB\"\n",
    "prices: pd.DataFrame = pd.read_parquet(f\"{raw_iq_feed_data_dir}/{ticker}_1min.parquet\", columns=[\"time\", \"close\", \"volume\"])\n",
    "prices = preprocess_iq_feed_prices(prices)\n",
    "\n",
    "onlyfiles = [f for f in listdir(raw_iq_feed_data_dir) if isfile(join(raw_iq_feed_data_dir, f))]\n",
    "tickers = [x.split(\"_\")[0] for x in onlyfiles]"
   ]
  },
  {
   "cell_type": "code",
   "execution_count": 51,
   "metadata": {},
   "outputs": [],
   "source": [
    "ticker_news = df[df.stocks == ticker]\n",
    "merged = pd.merge_asof(ticker_news, prices, left_on=\"entry_time\", right_on=\"time\", direction=\"forward\")"
   ]
  },
  {
   "cell_type": "code",
   "execution_count": null,
   "metadata": {},
   "outputs": [],
   "source": [
    "merged = pd.merge(merged, prices, left_on=\"nn_exit_time\", right_on=\"time\", suffixes=(\"_entry\", \"_exit\"))\n",
    "merged[\"r\"] = merged[\"close_exit\"] / merged[\"close_entry\"] - 1"
   ]
  },
  {
   "cell_type": "code",
   "execution_count": null,
   "metadata": {},
   "outputs": [],
   "source": [
    "# Ideally we do this for every stock first and then we come back with the complete dataframe... (depends on if it fits in memory)\n",
    "# Merge news and stock prices with spy prices\n",
    "merged = pd.merge_asof(merged, spy, left_on=\"entry_time\", right_on=\"time\", direction=\"forward\")\n",
    "merged = pd.merge_asof(merged, spy, left_on=\"nn_exit_time\", right_on=\"time\", suffixes=(\"_spy_entry\", \"_spy_exit\"))\n",
    "merged.loc[:, \"r_spy\"] = merged[\"close_spy_exit\"] / merged[\"close_spy_entry\"] - 1\n",
    "merged.loc[:, \"r_mkt_adj\"] = merged[\"r_spy\"] = merged[\"r\"]\n",
    "merged = merged.loc[:, [\"time\", \"stocks\", \"body\", \"entry_time\", \"r_mkt_adj\"]]"
   ]
  },
  {
   "cell_type": "code",
   "execution_count": null,
   "metadata": {},
   "outputs": [],
   "source": [
    "merged.dtypes"
   ]
  },
  {
   "cell_type": "code",
   "execution_count": 13,
   "metadata": {},
   "outputs": [
    {
     "data": {
      "text/html": [
       "<div>\n",
       "<style scoped>\n",
       "    .dataframe tbody tr th:only-of-type {\n",
       "        vertical-align: middle;\n",
       "    }\n",
       "\n",
       "    .dataframe tbody tr th {\n",
       "        vertical-align: top;\n",
       "    }\n",
       "\n",
       "    .dataframe thead th {\n",
       "        text-align: right;\n",
       "    }\n",
       "</style>\n",
       "<table border=\"1\" class=\"dataframe\">\n",
       "  <thead>\n",
       "    <tr style=\"text-align: right;\">\n",
       "      <th></th>\n",
       "      <th>time</th>\n",
       "      <th>stocks</th>\n",
       "      <th>body</th>\n",
       "      <th>entry_time</th>\n",
       "      <th>r_mkt_adj</th>\n",
       "    </tr>\n",
       "  </thead>\n",
       "  <tbody>\n",
       "    <tr>\n",
       "      <th>0</th>\n",
       "      <td>2011-04-14 10:40:05-04:00</td>\n",
       "      <td>FITB</td>\n",
       "      <td>(via COMTEX News Network)--\n",
       "\n",
       "SmarTrend identif...</td>\n",
       "      <td>2011-04-14 10:41:00-04:00</td>\n",
       "      <td>0.017337</td>\n",
       "    </tr>\n",
       "    <tr>\n",
       "      <th>1</th>\n",
       "      <td>2011-04-21 10:38:05-04:00</td>\n",
       "      <td>FITB</td>\n",
       "      <td>(via COMTEX News Network)--\n",
       "\n",
       "SmarTrend identif...</td>\n",
       "      <td>2011-04-21 10:39:00-04:00</td>\n",
       "      <td>-0.000781</td>\n",
       "    </tr>\n",
       "    <tr>\n",
       "      <th>2</th>\n",
       "      <td>2011-04-21 11:36:05-04:00</td>\n",
       "      <td>FITB</td>\n",
       "      <td>(via COMTEX News Network)--\n",
       "\n",
       "SmarTrend has det...</td>\n",
       "      <td>2011-04-21 11:37:00-04:00</td>\n",
       "      <td>-0.013740</td>\n",
       "    </tr>\n",
       "  </tbody>\n",
       "</table>\n",
       "</div>"
      ],
      "text/plain": [
       "                       time stocks  \\\n",
       "0 2011-04-14 10:40:05-04:00   FITB   \n",
       "1 2011-04-21 10:38:05-04:00   FITB   \n",
       "2 2011-04-21 11:36:05-04:00   FITB   \n",
       "\n",
       "                                                body  \\\n",
       "0  (via COMTEX News Network)--\n",
       "\n",
       "SmarTrend identif...   \n",
       "1  (via COMTEX News Network)--\n",
       "\n",
       "SmarTrend identif...   \n",
       "2  (via COMTEX News Network)--\n",
       "\n",
       "SmarTrend has det...   \n",
       "\n",
       "                 entry_time  r_mkt_adj  \n",
       "0 2011-04-14 10:41:00-04:00   0.017337  \n",
       "1 2011-04-21 10:39:00-04:00  -0.000781  \n",
       "2 2011-04-21 11:37:00-04:00  -0.013740  "
      ]
     },
     "execution_count": 13,
     "metadata": {},
     "output_type": "execute_result"
    }
   ],
   "source": [
    "merged.head(3)"
   ]
  },
  {
   "cell_type": "markdown",
   "metadata": {},
   "source": [
    "# Save to Files "
   ]
  },
  {
   "cell_type": "code",
   "execution_count": 55,
   "metadata": {},
   "outputs": [],
   "source": [
    "# Splitting training and test set\n",
    "merged_test = merged.loc[merged.time >= TEST_CUTOFF_DATE]\n",
    "merged_train = merged.loc[merged.time < TEST_CUTOFF_DATE]\n",
    "assert merged_test.shape[0] + merged_train.shape[0] == merged.shape[0]"
   ]
  },
  {
   "cell_type": "code",
   "execution_count": null,
   "metadata": {},
   "outputs": [],
   "source": [
    "train_output_dir\n",
    "test_output_dir"
   ]
  },
  {
   "cell_type": "code",
   "execution_count": null,
   "metadata": {},
   "outputs": [],
   "source": []
  }
 ],
 "metadata": {
  "kernelspec": {
   "display_name": ".env",
   "language": "python",
   "name": "python3"
  },
  "language_info": {
   "codemirror_mode": {
    "name": "ipython",
    "version": 3
   },
   "file_extension": ".py",
   "mimetype": "text/x-python",
   "name": "python",
   "nbconvert_exporter": "python",
   "pygments_lexer": "ipython3",
   "version": "3.11.3"
  }
 },
 "nbformat": 4,
 "nbformat_minor": 2
}
