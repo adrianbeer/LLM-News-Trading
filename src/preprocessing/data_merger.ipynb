{
 "cells": [
  {
   "cell_type": "code",
   "execution_count": 11,
   "metadata": {},
   "outputs": [],
   "source": [
    "import pandas as pd \n",
    "import numpy as np\n",
    "import json\n",
    "import plotly.express as px"
   ]
  },
  {
   "attachments": {},
   "cell_type": "markdown",
   "metadata": {},
   "source": [
    "# Import Stocks"
   ]
  },
  {
   "cell_type": "code",
   "execution_count": 19,
   "metadata": {},
   "outputs": [],
   "source": [
    "stocks = pd.read_pickle(\"data/stocks.pkl\")"
   ]
  },
  {
   "cell_type": "code",
   "execution_count": 23,
   "metadata": {},
   "outputs": [
    {
     "data": {
      "text/html": [
       "<div>\n",
       "<style scoped>\n",
       "    .dataframe tbody tr th:only-of-type {\n",
       "        vertical-align: middle;\n",
       "    }\n",
       "\n",
       "    .dataframe tbody tr th {\n",
       "        vertical-align: top;\n",
       "    }\n",
       "\n",
       "    .dataframe thead th {\n",
       "        text-align: right;\n",
       "    }\n",
       "</style>\n",
       "<table border=\"1\" class=\"dataframe\">\n",
       "  <thead>\n",
       "    <tr style=\"text-align: right;\">\n",
       "      <th></th>\n",
       "      <th></th>\n",
       "      <th>Close</th>\n",
       "      <th>High</th>\n",
       "      <th>Low</th>\n",
       "      <th>Open</th>\n",
       "    </tr>\n",
       "    <tr>\n",
       "      <th>Date</th>\n",
       "      <th>ID</th>\n",
       "      <th></th>\n",
       "      <th></th>\n",
       "      <th></th>\n",
       "      <th></th>\n",
       "    </tr>\n",
       "  </thead>\n",
       "  <tbody>\n",
       "    <tr>\n",
       "      <th rowspan=\"2\" valign=\"top\">1976-01-05</th>\n",
       "      <th>ARNC</th>\n",
       "      <td>5.7790</td>\n",
       "      <td>5.7965</td>\n",
       "      <td>5.4802</td>\n",
       "      <td>5.4802</td>\n",
       "    </tr>\n",
       "    <tr>\n",
       "      <th>GT</th>\n",
       "      <td>11.2790</td>\n",
       "      <td>11.2790</td>\n",
       "      <td>11.0298</td>\n",
       "      <td>11.0298</td>\n",
       "    </tr>\n",
       "    <tr>\n",
       "      <th>1976-01-06</th>\n",
       "      <th>ARNC</th>\n",
       "      <td>5.9369</td>\n",
       "      <td>5.9545</td>\n",
       "      <td>5.7965</td>\n",
       "      <td>5.7965</td>\n",
       "    </tr>\n",
       "  </tbody>\n",
       "</table>\n",
       "</div>"
      ],
      "text/plain": [
       "                   Close     High      Low     Open\n",
       "Date       ID                                      \n",
       "1976-01-05 ARNC   5.7790   5.7965   5.4802   5.4802\n",
       "           GT    11.2790  11.2790  11.0298  11.0298\n",
       "1976-01-06 ARNC   5.9369   5.9545   5.7965   5.7965"
      ]
     },
     "execution_count": 23,
     "metadata": {},
     "output_type": "execute_result"
    }
   ],
   "source": [
    "stocks.head(3)"
   ]
  },
  {
   "cell_type": "code",
   "execution_count": 25,
   "metadata": {},
   "outputs": [
    {
     "data": {
      "text/plain": [
       "1956"
      ]
     },
     "execution_count": 25,
     "metadata": {},
     "output_type": "execute_result"
    }
   ],
   "source": [
    "stock_tickers = set(stocks.index.get_level_values(\"ID\").unique())\n",
    "len(stock_tickers)"
   ]
  },
  {
   "attachments": {},
   "cell_type": "markdown",
   "metadata": {},
   "source": [
    "# Import Stories"
   ]
  },
  {
   "cell_type": "code",
   "execution_count": 26,
   "metadata": {},
   "outputs": [],
   "source": [
    "stories = pd.read_pickle(\"data/stories.pkl\")"
   ]
  },
  {
   "cell_type": "code",
   "execution_count": 28,
   "metadata": {},
   "outputs": [],
   "source": [
    "stories_tickers = set(stories.stocks.unique())"
   ]
  },
  {
   "cell_type": "code",
   "execution_count": 27,
   "metadata": {},
   "outputs": [
    {
     "data": {
      "text/html": [
       "<div>\n",
       "<style scoped>\n",
       "    .dataframe tbody tr th:only-of-type {\n",
       "        vertical-align: middle;\n",
       "    }\n",
       "\n",
       "    .dataframe tbody tr th {\n",
       "        vertical-align: top;\n",
       "    }\n",
       "\n",
       "    .dataframe thead th {\n",
       "        text-align: right;\n",
       "    }\n",
       "</style>\n",
       "<table border=\"1\" class=\"dataframe\">\n",
       "  <thead>\n",
       "    <tr style=\"text-align: right;\">\n",
       "      <th></th>\n",
       "      <th>stocks</th>\n",
       "      <th>author</th>\n",
       "      <th>title</th>\n",
       "      <th>channels</th>\n",
       "      <th>body</th>\n",
       "      <th>html_body</th>\n",
       "      <th>NewsTimestamp</th>\n",
       "    </tr>\n",
       "  </thead>\n",
       "  <tbody>\n",
       "    <tr>\n",
       "      <th>33019447</th>\n",
       "      <td>STNG</td>\n",
       "      <td>Globe Newswire</td>\n",
       "      <td>Scorpio Tankers Inc. Announces Commitments for...</td>\n",
       "      <td>[\"News\", \"Financing\", \"Press Releases\"]</td>\n",
       "      <td>the company \\n\\ncommitments from a group of fi...</td>\n",
       "      <td>&lt;link type=\"text/css\" rel=\"stylesheet\" href=\"h...</td>\n",
       "      <td>2023-06-27 06:45:01-04:00</td>\n",
       "    </tr>\n",
       "    <tr>\n",
       "      <th>33013700</th>\n",
       "      <td>ARR</td>\n",
       "      <td>Globe Newswire</td>\n",
       "      <td>ARMOUR Residential REIT, Inc. Announces Guidan...</td>\n",
       "      <td>[\"News\", \"Dividends\", \"Press Releases\"]</td>\n",
       "      <td>ARMOUR Residential\\n\\nthe July 2023 cash divid...</td>\n",
       "      <td>&lt;link type=\"text/css\" rel=\"stylesheet\" href=\"h...</td>\n",
       "      <td>2023-06-26 16:15:00-04:00</td>\n",
       "    </tr>\n",
       "    <tr>\n",
       "      <th>33002576</th>\n",
       "      <td>TNXP</td>\n",
       "      <td>Globe Newswire</td>\n",
       "      <td>Tonix Pharmaceuticals Enters into Agreement to...</td>\n",
       "      <td>[\"M&amp;A\", \"News\", \"Financing\", \"Press Releases\"]</td>\n",
       "      <td>Zembrace® SymTouch® (sumatriptan injection) an...</td>\n",
       "      <td>&lt;link type=\"text/css\" rel=\"stylesheet\" href=\"h...</td>\n",
       "      <td>2023-06-26 07:00:00-04:00</td>\n",
       "    </tr>\n",
       "    <tr>\n",
       "      <th>32982803</th>\n",
       "      <td>ANDE</td>\n",
       "      <td>PRNewswire</td>\n",
       "      <td>The Andersons, Inc. Declares Cash Dividend for...</td>\n",
       "      <td>[\"Dividends\", \"Press Releases\"]</td>\n",
       "      <td>MAUMEE, Ohio, todayCNW/ -- the company \\nannou...</td>\n",
       "      <td>&lt;p xmlns=\"http://www.w3.org/1999/xhtml\"&gt;&lt;span ...</td>\n",
       "      <td>2023-06-23 08:30:00-04:00</td>\n",
       "    </tr>\n",
       "    <tr>\n",
       "      <th>32982798</th>\n",
       "      <td>ANDE</td>\n",
       "      <td>PRNewswire</td>\n",
       "      <td>The Andersons, Inc. Declares Cash Dividend for...</td>\n",
       "      <td>[\"Dividends\", \"Press Releases\"]</td>\n",
       "      <td>the company \\nannounces a third quarter 2023 c...</td>\n",
       "      <td>&lt;p xmlns=\"http://www.w3.org/1999/xhtml\"&gt;&lt;span ...</td>\n",
       "      <td>2023-06-23 08:30:00-04:00</td>\n",
       "    </tr>\n",
       "  </tbody>\n",
       "</table>\n",
       "</div>"
      ],
      "text/plain": [
       "         stocks          author  \\\n",
       "33019447   STNG  Globe Newswire   \n",
       "33013700    ARR  Globe Newswire   \n",
       "33002576   TNXP  Globe Newswire   \n",
       "32982803   ANDE      PRNewswire   \n",
       "32982798   ANDE      PRNewswire   \n",
       "\n",
       "                                                      title  \\\n",
       "33019447  Scorpio Tankers Inc. Announces Commitments for...   \n",
       "33013700  ARMOUR Residential REIT, Inc. Announces Guidan...   \n",
       "33002576  Tonix Pharmaceuticals Enters into Agreement to...   \n",
       "32982803  The Andersons, Inc. Declares Cash Dividend for...   \n",
       "32982798  The Andersons, Inc. Declares Cash Dividend for...   \n",
       "\n",
       "                                                channels  \\\n",
       "33019447         [\"News\", \"Financing\", \"Press Releases\"]   \n",
       "33013700         [\"News\", \"Dividends\", \"Press Releases\"]   \n",
       "33002576  [\"M&A\", \"News\", \"Financing\", \"Press Releases\"]   \n",
       "32982803                 [\"Dividends\", \"Press Releases\"]   \n",
       "32982798                 [\"Dividends\", \"Press Releases\"]   \n",
       "\n",
       "                                                       body  \\\n",
       "33019447  the company \\n\\ncommitments from a group of fi...   \n",
       "33013700  ARMOUR Residential\\n\\nthe July 2023 cash divid...   \n",
       "33002576  Zembrace® SymTouch® (sumatriptan injection) an...   \n",
       "32982803  MAUMEE, Ohio, todayCNW/ -- the company \\nannou...   \n",
       "32982798  the company \\nannounces a third quarter 2023 c...   \n",
       "\n",
       "                                                  html_body  \\\n",
       "33019447  <link type=\"text/css\" rel=\"stylesheet\" href=\"h...   \n",
       "33013700  <link type=\"text/css\" rel=\"stylesheet\" href=\"h...   \n",
       "33002576  <link type=\"text/css\" rel=\"stylesheet\" href=\"h...   \n",
       "32982803  <p xmlns=\"http://www.w3.org/1999/xhtml\"><span ...   \n",
       "32982798  <p xmlns=\"http://www.w3.org/1999/xhtml\"><span ...   \n",
       "\n",
       "                     NewsTimestamp  \n",
       "33019447 2023-06-27 06:45:01-04:00  \n",
       "33013700 2023-06-26 16:15:00-04:00  \n",
       "33002576 2023-06-26 07:00:00-04:00  \n",
       "32982803 2023-06-23 08:30:00-04:00  \n",
       "32982798 2023-06-23 08:30:00-04:00  "
      ]
     },
     "execution_count": 27,
     "metadata": {},
     "output_type": "execute_result"
    }
   ],
   "source": [
    "stories.head()"
   ]
  },
  {
   "attachments": {},
   "cell_type": "markdown",
   "metadata": {},
   "source": [
    "## Analysis: Channel occurence"
   ]
  },
  {
   "cell_type": "code",
   "execution_count": 31,
   "metadata": {},
   "outputs": [],
   "source": [
    "channels = set()\n",
    "for i in stories.index:\n",
    "    s = pd.Series(json.loads(stories.loc[i].channels)).value_counts()\n",
    "    channels = channels.union(set(s.index))"
   ]
  },
  {
   "cell_type": "code",
   "execution_count": 33,
   "metadata": {},
   "outputs": [],
   "source": [
    "df = pd.DataFrame(data=0, index=list(channels), columns=[\"count\"])\n",
    "for i in stories.index:\n",
    "    s = pd.Series(json.loads(stories.loc[i].channels)).value_counts()\n",
    "    df.loc[s.index, \"count\"] += s.values"
   ]
  },
  {
   "cell_type": "code",
   "execution_count": 35,
   "metadata": {},
   "outputs": [
    {
     "data": {
      "text/html": [
       "<div>\n",
       "<style scoped>\n",
       "    .dataframe tbody tr th:only-of-type {\n",
       "        vertical-align: middle;\n",
       "    }\n",
       "\n",
       "    .dataframe tbody tr th {\n",
       "        vertical-align: top;\n",
       "    }\n",
       "\n",
       "    .dataframe thead th {\n",
       "        text-align: right;\n",
       "    }\n",
       "</style>\n",
       "<table border=\"1\" class=\"dataframe\">\n",
       "  <thead>\n",
       "    <tr style=\"text-align: right;\">\n",
       "      <th></th>\n",
       "      <th>count</th>\n",
       "    </tr>\n",
       "  </thead>\n",
       "  <tbody>\n",
       "    <tr>\n",
       "      <th>Press Releases</th>\n",
       "      <td>73</td>\n",
       "    </tr>\n",
       "    <tr>\n",
       "      <th>News</th>\n",
       "      <td>40</td>\n",
       "    </tr>\n",
       "    <tr>\n",
       "      <th>Dividends</th>\n",
       "      <td>37</td>\n",
       "    </tr>\n",
       "    <tr>\n",
       "      <th>Financing</th>\n",
       "      <td>18</td>\n",
       "    </tr>\n",
       "    <tr>\n",
       "      <th>Earnings</th>\n",
       "      <td>17</td>\n",
       "    </tr>\n",
       "    <tr>\n",
       "      <th>Commodities</th>\n",
       "      <td>6</td>\n",
       "    </tr>\n",
       "    <tr>\n",
       "      <th>Real Estate</th>\n",
       "      <td>6</td>\n",
       "    </tr>\n",
       "  </tbody>\n",
       "</table>\n",
       "</div>"
      ],
      "text/plain": [
       "                count\n",
       "Press Releases     73\n",
       "News               40\n",
       "Dividends          37\n",
       "Financing          18\n",
       "Earnings           17\n",
       "Commodities         6\n",
       "Real Estate         6"
      ]
     },
     "execution_count": 35,
     "metadata": {},
     "output_type": "execute_result"
    }
   ],
   "source": [
    "df = df.sort_values(\"count\", ascending=False)\n",
    "df.head(7)"
   ]
  },
  {
   "attachments": {},
   "cell_type": "markdown",
   "metadata": {},
   "source": [
    "## Parse stocks"
   ]
  },
  {
   "cell_type": "code",
   "execution_count": null,
   "metadata": {},
   "outputs": [],
   "source": [
    "assert stories.stocks.dtype == stocks.index.dtypes[1]"
   ]
  },
  {
   "cell_type": "code",
   "execution_count": 52,
   "metadata": {},
   "outputs": [],
   "source": [
    "def add_targets(df):\n",
    "    required_columns = [\"Close\", \"High\", \"Low\", \"Open\"]\n",
    "    df.loc[:, \"IntradayReturn\"] = df[\"Close\"]/df[\"Open\"] - 1\n",
    "    df.loc[:, \"NextDayReturn\"] = df.shift(-1)[\"Close\"] / df.shift(-1)[\"Open\"] - 1\n",
    "    df.loc[:, \"CloseToNextOpen\"] = df.shift(-1)[\"Open\"] / df[\"Close\"] - 1\n",
    "    return df"
   ]
  },
  {
   "cell_type": "code",
   "execution_count": 44,
   "metadata": {},
   "outputs": [
    {
     "data": {
      "text/plain": [
       "Date    datetime64[ns]\n",
       "ID            category\n",
       "dtype: object"
      ]
     },
     "execution_count": 44,
     "metadata": {},
     "output_type": "execute_result"
    }
   ],
   "source": [
    "stocks.index.dtypes"
   ]
  },
  {
   "cell_type": "code",
   "execution_count": 48,
   "metadata": {},
   "outputs": [],
   "source": [
    "stocks.loc[:, [\"IntradayReturn\", \"NextDayReturn\"]] = np.nan\n",
    "stocks = stocks.swaplevel(0, 1).sort_index(ascending=[True, True])"
   ]
  },
  {
   "cell_type": "code",
   "execution_count": 53,
   "metadata": {},
   "outputs": [],
   "source": [
    "stocks = stocks.groupby(\"ID\", as_index=False).apply(add_targets)\n",
    "stocks.index = stocks.index.droplevel(None)"
   ]
  },
  {
   "attachments": {},
   "cell_type": "markdown",
   "metadata": {},
   "source": [
    "## Parse Stories"
   ]
  },
  {
   "cell_type": "code",
   "execution_count": 87,
   "metadata": {},
   "outputs": [],
   "source": [
    "stories.loc[:, \"Date\"] = stories.NewsTimestamp.dt.date\n",
    "stories = stories.astype({\"Date\":'datetime64[ns]'})"
   ]
  },
  {
   "attachments": {},
   "cell_type": "markdown",
   "metadata": {},
   "source": [
    "## Merging"
   ]
  },
  {
   "cell_type": "code",
   "execution_count": 64,
   "metadata": {},
   "outputs": [],
   "source": [
    "stories.rename(columns=dict(stocks=\"ID\"), inplace=True)"
   ]
  },
  {
   "cell_type": "code",
   "execution_count": 66,
   "metadata": {},
   "outputs": [
    {
     "data": {
      "text/plain": [
       "Index(['ID', 'author', 'title', 'channels', 'body', 'html_body',\n",
       "       'NewsTimestamp', 'Date'],\n",
       "      dtype='object')"
      ]
     },
     "execution_count": 66,
     "metadata": {},
     "output_type": "execute_result"
    }
   ],
   "source": [
    "stories.columns"
   ]
  },
  {
   "cell_type": "code",
   "execution_count": 65,
   "metadata": {},
   "outputs": [
    {
     "data": {
      "text/plain": [
       "Index(['Close', 'High', 'Low', 'Open', 'IntradayReturn', 'NextDayReturn',\n",
       "       'CloseToNextOpen'],\n",
       "      dtype='object')"
      ]
     },
     "execution_count": 65,
     "metadata": {},
     "output_type": "execute_result"
    }
   ],
   "source": [
    "stocks.columns"
   ]
  },
  {
   "cell_type": "code",
   "execution_count": 91,
   "metadata": {},
   "outputs": [],
   "source": [
    "dataset = stories[[\"Date\", \"NewsTimestamp\", \"ID\", \"body\"]].merge(stocks[[\"IntradayReturn\", \"NextDayReturn\", \"CloseToNextOpen\"]], on=[\"Date\", \"ID\"], how=\"inner\")"
   ]
  },
  {
   "cell_type": "code",
   "execution_count": 24,
   "metadata": {},
   "outputs": [],
   "source": [
    "dataset.to_pickle(\"data/dataset.pkl\")"
   ]
  },
  {
   "attachments": {},
   "cell_type": "markdown",
   "metadata": {},
   "source": [
    "# Create train-test-split "
   ]
  },
  {
   "cell_type": "code",
   "execution_count": 42,
   "metadata": {},
   "outputs": [],
   "source": [
    "import pandas as pd\n",
    "from sklearn.model_selection import train_test_split\n",
    "import pickle"
   ]
  },
  {
   "cell_type": "code",
   "execution_count": 28,
   "metadata": {},
   "outputs": [],
   "source": [
    "dataset = pd.read_pickle(\"data/dataset.pkl\")\n",
    "assert dataset.index.is_unique"
   ]
  },
  {
   "cell_type": "code",
   "execution_count": 45,
   "metadata": {},
   "outputs": [],
   "source": [
    "test_size = 0.2\n",
    "seed = 420\n",
    "### Train-test split -> Auslagern\n",
    "train_idx, test_idx = train_test_split(dataset.index, test_size=0.2, random_state=seed)\n",
    "with open('data/dataset_train_test_idx.pkl', 'wb') as f:\n",
    "    pickle.dump((train_idx, test_idx), f)"
   ]
  },
  {
   "cell_type": "code",
   "execution_count": 48,
   "metadata": {},
   "outputs": [
    {
     "data": {
      "text/plain": [
       "Index([364,  82, 674, 339, 590, 311, 622, 254,  85, 553,\n",
       "       ...\n",
       "       707, 764,  31, 685, 515, 283, 668,  16, 211, 660],\n",
       "      dtype='int64', length=163)"
      ]
     },
     "execution_count": 48,
     "metadata": {},
     "output_type": "execute_result"
    }
   ],
   "source": [
    "test_idx"
   ]
  },
  {
   "cell_type": "code",
   "execution_count": null,
   "metadata": {},
   "outputs": [],
   "source": []
  }
 ],
 "metadata": {
  "kernelspec": {
   "display_name": ".env",
   "language": "python",
   "name": "python3"
  },
  "language_info": {
   "codemirror_mode": {
    "name": "ipython",
    "version": 3
   },
   "file_extension": ".py",
   "mimetype": "text/x-python",
   "name": "python",
   "nbconvert_exporter": "python",
   "pygments_lexer": "ipython3",
   "version": "3.11.3"
  },
  "orig_nbformat": 4
 },
 "nbformat": 4,
 "nbformat_minor": 2
}
