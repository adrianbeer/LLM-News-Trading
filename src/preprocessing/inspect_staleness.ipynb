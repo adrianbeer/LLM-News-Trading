{
 "cells": [
  {
   "cell_type": "code",
   "execution_count": 1,
   "id": "e0a38ea4-3112-4c86-9a5b-628a49145ce3",
   "metadata": {},
   "outputs": [
    {
     "name": "stdout",
     "output_type": "stream",
     "text": [
      "/gxfs_work/cau/sunms534/trading_bot\n"
     ]
    },
    {
     "name": "stderr",
     "output_type": "stream",
     "text": [
      "/gxfs_work/cau/sunms534/.conda/envs/my_pytorch_env/lib/python3.11/site-packages/IPython/core/magics/osm.py:417: UserWarning: using dhist requires you to install the `pickleshare` library.\n",
      "  self.shell.db['dhist'] = compress_dhist(dhist)[-100:]\n"
     ]
    }
   ],
   "source": [
    "%cd /gxfs_work/cau/sunms534/trading_bot/"
   ]
  },
  {
   "cell_type": "code",
   "execution_count": 2,
   "id": "d9b81c5d-1c4e-48ef-abc9-666e8c54161d",
   "metadata": {},
   "outputs": [],
   "source": [
    "import pandas as pd \n",
    "import numpy as np\n",
    "from src.config import config, MODEL_CONFIG, PREP_CONFIG\n",
    "from transformers import AutoTokenizer"
   ]
  },
  {
   "cell_type": "code",
   "execution_count": 3,
   "id": "031bcb7c-91f5-4b5a-a13a-2ebc7b4fa7ce",
   "metadata": {},
   "outputs": [],
   "source": [
    "title_inputs_ids = pd.read_parquet(config.data.news.title_only.input_ids)"
   ]
  },
  {
   "cell_type": "code",
   "execution_count": null,
   "id": "7b211b9f-8d9e-4305-902e-e68ac9dc641a",
   "metadata": {},
   "outputs": [],
   "source": [
    "ld = pd.read_parquet(config.data.news.cleaned)"
   ]
  },
  {
   "cell_type": "code",
   "execution_count": null,
   "id": "6ace02da-14dc-4ec9-b48f-7a65ee83777b",
   "metadata": {},
   "outputs": [],
   "source": [
    "ld.columns"
   ]
  },
  {
   "cell_type": "code",
   "execution_count": null,
   "id": "ae431d17-bfcf-406c-bddc-5d7b6fa99566",
   "metadata": {},
   "outputs": [],
   "source": [
    "ld = ld.set_index([\"stocks\", \"time\"], drop=True)\n",
    "ld = ld.sort_index()"
   ]
  },
  {
   "cell_type": "code",
   "execution_count": null,
   "id": "0faaaeb9-8034-42b5-9406-1f99cf3672b1",
   "metadata": {
    "scrolled": true
   },
   "outputs": [],
   "source": [
    "X = ld.iloc[4990:5020, :].loc[:, [\"parsed_body\", \"staleness\", \"index\"]]\n",
    "X"
   ]
  },
  {
   "cell_type": "code",
   "execution_count": 3,
   "id": "e48ca155-32c9-4d87-a5d7-b73e15b8f2b3",
   "metadata": {},
   "outputs": [],
   "source": [
    "cls_tokens = pd.read_pickle(\"data/news/cls_tokens.pkl\")\n",
    "cls_df = pd.DataFrame.from_dict(dict(zip(cls_tokens.index, cls_tokens.values)))\n",
    "del cls_tokens"
   ]
  },
  {
   "cell_type": "code",
   "execution_count": 12,
   "id": "ed342c28-7965-4e56-b67e-24abb03dc639",
   "metadata": {
    "scrolled": true
   },
   "outputs": [
    {
     "data": {
      "text/plain": [
       "0      1.438112\n",
       "1      0.504782\n",
       "2     -0.826279\n",
       "3      2.433799\n",
       "4      1.235612\n",
       "         ...   \n",
       "763   -1.372283\n",
       "764    0.039705\n",
       "765    0.632549\n",
       "766   -0.307609\n",
       "767    0.359414\n",
       "Name: 1000, Length: 768, dtype: float64"
      ]
     },
     "execution_count": 12,
     "metadata": {},
     "output_type": "execute_result"
    }
   ],
   "source": [
    "cls_df.loc[:, 1000]"
   ]
  },
  {
   "cell_type": "code",
   "execution_count": null,
   "id": "4524703e-5ae5-4dde-a01c-1e6c1cc57132",
   "metadata": {},
   "outputs": [],
   "source": [
    "cls_df.head()"
   ]
  },
  {
   "cell_type": "code",
   "execution_count": 25,
   "id": "a70506cb-3e85-4662-a2e9-fdebb838f692",
   "metadata": {},
   "outputs": [
    {
     "data": {
      "text/plain": [
       "\"Commit To Purchase American Airlines Group At $20, Earn 5.2% Using Options. Investors eyeing a purchase of the company stock, but tentative about paying the going market price of $46.69 share, might benefit from considering selling puts among the alternative strategies at their disposal. One interesting put contract in particular, is the January 2019 put at the $20 strike, which has a bid at the time of this writing of $1.05. Collecting that bid as the premium represents a 5.2% return against the $20 commitment, or a 2.6% annualized rate of return (at Stock Options Channel we call this the YieldBoost ). Selling a put does not give an investor access to AAL's upside potential the way owning shares would, because the put seller only ends up owning shares in the scenario where the contract is exercised. And the person on the other side of the contract would only benefit from exercising at the $20 strike if doing so produced a better outcome than selling at the going market price. ( Do options carry counterparty risk? This and six other common options myths debunked ). So unless the company sees its shares decline 57.2% and the contract is exercised (resulting in a cost basis of $18.95 per share before broker commissions, subtracting the $1.05 from $20), the only upside to the put seller is from collecting that premium for the 2.6% annualized rate of return. Worth considering, is that the annualized 2.6% figure actually exceeds the 0.9% annualized dividend paid by the company by 1.7%, based on the current share price of $46.69. And yet, if an investor was to buy the stock at the going market price in order to collect the dividend, there is greater downside because the stock would have to lose 57.23% to reach the $20 strike price. Always important when discussing dividends is the fact that, in general, dividend amounts are not always predictable and tend to follow the ups and downs of profitability at each company. In the case of the company looking at the dividend histo\""
      ]
     },
     "execution_count": 25,
     "metadata": {},
     "output_type": "execute_result"
    }
   ],
   "source": [
    "ld.parsed_body.iloc[4993][:2000]"
   ]
  },
  {
   "cell_type": "code",
   "execution_count": 15,
   "id": "c6f94c96-4567-4816-8bdb-25eba7c31dad",
   "metadata": {},
   "outputs": [
    {
     "data": {
      "text/plain": [
       "'Agilent Technologies (A) Breaks Through Resistance at $42.86. via COMTEX News Network)   SmarTrend has detected shares of the company have bullishly opened above the pivot of $42.08 today and have reached the first resistance level of $42.86. We are watching for a cross of the next upside pivot targets of $43.50 and $44.92. Also, the shares are currently trading above the 50 day moving average of $38.06 and above the 200 day moving average of $33.17. In the last five trading sessions, the 50 day MA has climbed 1.12% while the 200 day MA has risen 0.34%. In the past 52 weeks, shares of the company have traded between a low of $26.68 and a high of $42.72 and are now at $43.04, which is 61% above that low price. SmarTrend currently has shares of the company in an Uptrend and issued the Uptrend alert $30.57. The stock has risen 38.1% since the Uptrend alert was issued'"
      ]
     },
     "execution_count": 15,
     "metadata": {},
     "output_type": "execute_result"
    }
   ],
   "source": [
    "ld.parsed_body.iloc[3][:1000]"
   ]
  },
  {
   "cell_type": "code",
   "execution_count": 84,
   "id": "e071688d-a35f-48ba-b37a-6c2facd9b2a3",
   "metadata": {},
   "outputs": [
    {
     "name": "stdout",
     "output_type": "stream",
     "text": [
      "722252\n",
      "DE\n",
      "[CLS] noteworthy tuesday option activity : de, nke, mpc [SEP] [PAD] [PAD] [PAD] [PAD] [PAD] [PAD] [PAD] [PAD] [PAD] [PAD] [PAD] [PAD] [PAD] [PAD] [PAD] [PAD] [PAD] [PAD] [PAD] \n",
      "\n",
      "Noteworthy Tuesday Option Activity: DE, NKE, MPC. Among the underlying components of the S&P 500 index, we saw noteworthy options trading volume today in the company Co. , where a total of 13,208 contracts have traded so far, representing approximately 1.3 million underlying shares. That amounts to about 46.6% of DE's average daily trading volume over the past month of 2.8 million shares. Particularly high volume was seen for the $120 strike call option expiring , with 2,427 contracts trading so far today, representing approximately 242,700 underlying shares of DE. Below is a chart showing DE's trailing twelve month trading history, with the $120 strike highlighted in orange: Nike (Symbol: NKE) saw options trading volume of 35,877 contracts, representing approximately 3.6 million underlying shares or approximately 45.8% of NKE's average daily trading volume over the past month, of 7.8 million shares. Especially high volume was seen for the $52.50 strike call option expiring , with 2,804 contracts trading so far today, representing approximately 280,400 underlying shares of NKE. Below is a chart showing NKE's trailing twelve month trading history, with the $52.50 strike highlighted in orange: And Marathon Petroleum Corp. (Symbol: MPC) saw options trading volume of 20,991 contracts, representing approximately 2.1 million underlying shares or approximately 43.4% of MPC's average daily trading volume over the past month, of 4.8 million shares. Especially high volume was seen for the $55 strike call option expiring , with 16,877 contracts trading so far today, representing approximately 1.7 million underlying shares of MPC. Below is a chart showing MPC's trailing twelve month trading history, with the $55 strike highlighted in orange: For the various different available expirations for DE options , NKE options , or MPC options , visit StockOptionsChannel.com. Today's Most Active Call & Put Options of the S&P 500 » The views and opinions expressed herein are the views and opinions of the author and do not necessarily reflect those of Nasdaq, Inc. The views and opinions expressed herein are the views and opinions of the author and do not necessarily reflect those of Nasdaq, Inc\n"
     ]
    }
   ],
   "source": [
    "n = np.random.randint(0, ld.shape[0])\n",
    "index = ld.index[n]\n",
    "print(index)\n",
    "entry = title_inputs_ids.loc[index, :].values\n",
    "\n",
    "print(ld.loc[index, \"stocks\"])\n",
    "print(ld.loc[index, \"staleness\"])\n",
    "print(ld.loc[index, \"parsed_body\"])\n"
   ]
  },
  {
   "cell_type": "code",
   "execution_count": null,
   "id": "500d3933-27bc-4194-a75a-4647a50dbcc4",
   "metadata": {},
   "outputs": [],
   "source": []
  }
 ],
 "metadata": {
  "kernelspec": {
   "display_name": "Python 3 (ipykernel)",
   "language": "python",
   "name": "python3"
  },
  "language_info": {
   "codemirror_mode": {
    "name": "ipython",
    "version": 3
   },
   "file_extension": ".py",
   "mimetype": "text/x-python",
   "name": "python",
   "nbconvert_exporter": "python",
   "pygments_lexer": "ipython3",
   "version": "3.11.7"
  }
 },
 "nbformat": 4,
 "nbformat_minor": 5
}
