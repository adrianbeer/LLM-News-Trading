{
 "cells": [
  {
   "cell_type": "code",
   "execution_count": null,
   "id": "e0a38ea4-3112-4c86-9a5b-628a49145ce3",
   "metadata": {},
   "outputs": [],
   "source": [
    "%cd /gxfs_work/cau/sunms534/trading_bot/"
   ]
  },
  {
   "cell_type": "code",
   "execution_count": null,
   "id": "d9b81c5d-1c4e-48ef-abc9-666e8c54161d",
   "metadata": {},
   "outputs": [],
   "source": [
    "import pandas as pd \n",
    "import numpy as np\n",
    "from src.config import config, MODEL_CONFIG, PREP_CONFIG\n",
    "from transformers import AutoTokenizer"
   ]
  },
  {
   "cell_type": "code",
   "execution_count": null,
   "id": "031bcb7c-91f5-4b5a-a13a-2ebc7b4fa7ce",
   "metadata": {},
   "outputs": [],
   "source": [
    "title_inputs_ids = pd.read_parquet(config.data.news.title_only.input_ids)"
   ]
  },
  {
   "cell_type": "code",
   "execution_count": null,
   "id": "7b211b9f-8d9e-4305-902e-e68ac9dc641a",
   "metadata": {},
   "outputs": [],
   "source": [
    "ld = pd.read_parquet(config.data.news.cleaned)"
   ]
  },
  {
   "cell_type": "code",
   "execution_count": null,
   "id": "6ace02da-14dc-4ec9-b48f-7a65ee83777b",
   "metadata": {},
   "outputs": [],
   "source": [
    "ld.columns"
   ]
  },
  {
   "cell_type": "code",
   "execution_count": null,
   "id": "ae431d17-bfcf-406c-bddc-5d7b6fa99566",
   "metadata": {},
   "outputs": [],
   "source": [
    "ld = ld.set_index([\"stocks\", \"time\"], drop=True)\n",
    "ld = ld.sort_index()"
   ]
  },
  {
   "cell_type": "code",
   "execution_count": null,
   "id": "0faaaeb9-8034-42b5-9406-1f99cf3672b1",
   "metadata": {},
   "outputs": [],
   "source": [
    "X = ld.iloc[4990:5020, :].loc[:, [\"parsed_body\", \"staleness\", \"index\"]]\n",
    "X"
   ]
  },
  {
   "cell_type": "code",
   "execution_count": null,
   "id": "e48ca155-32c9-4d87-a5d7-b73e15b8f2b3",
   "metadata": {},
   "outputs": [],
   "source": [
    "cls_tokens = pd.read_pickle(\"data/news/cls_tokens.pkl\")\n",
    "cls_df = pd.DataFrame.from_dict(dict(zip(cls_tokens.index, cls_tokens.values)))\n",
    "del cls_tokens"
   ]
  },
  {
   "cell_type": "code",
   "execution_count": null,
   "id": "ed342c28-7965-4e56-b67e-24abb03dc639",
   "metadata": {},
   "outputs": [],
   "source": [
    "cls_df.loc[:, 1000]"
   ]
  },
  {
   "cell_type": "code",
   "execution_count": null,
   "id": "4524703e-5ae5-4dde-a01c-1e6c1cc57132",
   "metadata": {},
   "outputs": [],
   "source": [
    "cls_df.head()"
   ]
  },
  {
   "cell_type": "code",
   "execution_count": null,
   "id": "a70506cb-3e85-4662-a2e9-fdebb838f692",
   "metadata": {},
   "outputs": [],
   "source": [
    "ld.parsed_body.iloc[4993][:2000]"
   ]
  },
  {
   "cell_type": "code",
   "execution_count": null,
   "id": "c6f94c96-4567-4816-8bdb-25eba7c31dad",
   "metadata": {},
   "outputs": [],
   "source": [
    "ld.parsed_body.iloc[3][:1000]"
   ]
  },
  {
   "cell_type": "code",
   "execution_count": null,
   "id": "e071688d-a35f-48ba-b37a-6c2facd9b2a3",
   "metadata": {},
   "outputs": [],
   "source": [
    "n = np.random.randint(0, ld.shape[0])\n",
    "index = ld.index[n]\n",
    "print(index)\n",
    "entry = title_inputs_ids.loc[index, :].values\n",
    "\n",
    "print(ld.loc[index, \"stocks\"])\n",
    "print(ld.loc[index, \"staleness\"])\n",
    "print(ld.loc[index, \"parsed_body\"])\n"
   ]
  },
  {
   "cell_type": "code",
   "execution_count": null,
   "id": "500d3933-27bc-4194-a75a-4647a50dbcc4",
   "metadata": {},
   "outputs": [],
   "source": []
  }
 ],
 "metadata": {
  "kernelspec": {
   "display_name": "Python 3 (ipykernel)",
   "language": "python",
   "name": "python3"
  },
  "language_info": {
   "codemirror_mode": {
    "name": "ipython",
    "version": 3
   },
   "file_extension": ".py",
   "mimetype": "text/x-python",
   "name": "python",
   "nbconvert_exporter": "python",
   "pygments_lexer": "ipython3",
   "version": "3.11.7"
  }
 },
 "nbformat": 4,
 "nbformat_minor": 5
}
