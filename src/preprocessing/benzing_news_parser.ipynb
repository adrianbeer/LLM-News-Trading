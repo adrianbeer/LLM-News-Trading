{
 "cells": [
  {
   "cell_type": "markdown",
   "metadata": {
    "id": "wkovyr-oc4-K"
   },
   "source": [
    "# Benzinga-Nachrichten-Verarbeitung"
   ]
  },
  {
   "cell_type": "markdown",
   "metadata": {
    "id": "2A8GOctQmMfj"
   },
   "source": [
    "## Setup up"
   ]
  },
  {
   "cell_type": "markdown",
   "metadata": {
    "id": "VxfEWak8MNGE"
   },
   "source": [
    "### Cluster spin up"
   ]
  },
  {
   "cell_type": "code",
   "execution_count": 1,
   "metadata": {
    "id": "8pmVviAjMTaQ"
   },
   "outputs": [],
   "source": [
    "use_colab = False\n",
    "if use_colab:\n",
    "    from google.colab import drive\n",
    "    drive.mount('/content/drive')\n",
    "    cwd=\"/content/drive/MyDrive/NewsTrading/trading_bot\"\n",
    "    %cd /content/drive/MyDrive/NewsTrading/trading_bot\n",
    "    %pip install -r requirements_clean.txt"
   ]
  },
  {
   "cell_type": "code",
   "execution_count": 2,
   "metadata": {},
   "outputs": [
    {
     "name": "stdout",
     "output_type": "stream",
     "text": [
      "/gxfs_work/cau/sunms534/trading_bot\n"
     ]
    },
    {
     "name": "stderr",
     "output_type": "stream",
     "text": [
      "/gxfs_work/cau/sunms534/.conda/envs/my_pytorch_env/lib/python3.11/site-packages/IPython/core/magics/osm.py:417: UserWarning: using dhist requires you to install the `pickleshare` library.\n",
      "  self.shell.db['dhist'] = compress_dhist(dhist)[-100:]\n"
     ]
    }
   ],
   "source": [
    "%cd /gxfs_work/cau/sunms534/trading_bot/"
   ]
  },
  {
   "cell_type": "code",
   "execution_count": 61,
   "metadata": {
    "colab": {
     "base_uri": "https://localhost:8080/",
     "height": 245
    },
    "id": "zj0QodzRMNGE",
    "outputId": "88876701-df20-40bc-aab1-3dec09411b9a"
   },
   "outputs": [],
   "source": [
    "import os\n",
    "import re\n",
    "import pandas as pd\n",
    "from src.config import config \n",
    "from tqdm import tqdm\n",
    "tqdm.pandas()\n",
    "\n",
    "import logging\n",
    "import sys\n",
    "logging.basicConfig(stream=sys.stdout, level=logging.DEBUG)\n",
    "\n",
    "from src.utils.dataframes import parallelize_dataframe\n",
    "from src.preprocessing.news_parser import infer_author, filter_body, body_formatter\n",
    "\n",
    "pd.set_option(\n",
    "    'display.max_colwidth', 2000\n",
    ")"
   ]
  },
  {
   "cell_type": "markdown",
   "metadata": {
    "id": "DRqa0EPy_lpx"
   },
   "source": [
    "## Grobes HTML-Parsing\n",
    "Als erstes müssen wir die HTML-Dokumente zu normalem Text umwandeln, ansonsten sind die Text-Zellen zu groß und führen zu Problemen mit PyArrow/Dask."
   ]
  },
  {
   "cell_type": "code",
   "execution_count": null,
   "metadata": {
    "id": "3wy5-WZ4B_A2"
   },
   "outputs": [],
   "source": [
    "def body_formatter_for_series(s: pd.Series):\n",
    "    return s.progress_apply(body_formatter)"
   ]
  },
  {
   "cell_type": "code",
   "execution_count": null,
   "metadata": {},
   "outputs": [],
   "source": [
    "df = pd.read_parquet(config.data.benzinga.raw)\n",
    "df[\"html_body\"] = parallelize_dataframe(df[\"html_body\"], body_formatter_for_series, n_cores=os.cpu_count())\n",
    "df = df.rename(columns={\"html_body\":\"body\"})"
   ]
  },
  {
   "cell_type": "code",
   "execution_count": null,
   "metadata": {},
   "outputs": [],
   "source": [
    "df.to_parquet(config.data.benzinga.raw_html_parsed)"
   ]
  },
  {
   "cell_type": "markdown",
   "metadata": {
    "id": "MFnIFQW2Nag7"
   },
   "source": [
    "## Author-Inferenz"
   ]
  },
  {
   "cell_type": "code",
   "execution_count": null,
   "metadata": {
    "id": "pHFpynyiq3O4"
   },
   "outputs": [],
   "source": [
    "ddf = pd.read_parquet(config.data.benzinga.raw_html_parsed)"
   ]
  },
  {
   "cell_type": "code",
   "execution_count": null,
   "metadata": {
    "id": "ylwarwpXLegE"
   },
   "outputs": [],
   "source": [
    "# Remove rows for which noo stock ticker is recorded\n",
    "ddf = ddf[ddf.stocks != '']"
   ]
  },
  {
   "cell_type": "code",
   "execution_count": null,
   "metadata": {
    "id": "W7OPUatcMS7C"
   },
   "outputs": [],
   "source": [
    "# Convert `channels`  datatype from string to list\n",
    "ddf[\"channels\"] = ddf[\"channels\"].progress_apply(eval)"
   ]
  },
  {
   "cell_type": "markdown",
   "metadata": {
    "id": "eu1EhTqrVpBG"
   },
   "source": [
    "Untersuche als nächstes die Behauptung, dass **PRNewswire** und **Businesswire** den gesamten Markt für Pressemeldungen in den USA kontrollieren. Wenn dem so ist, und sie nicht noch weitere, unwichtige Meldungen veröffentlichen, dann können wir einfach die Newsartikel nach diesen Autoren filtern und uns viel Arbeit ersparen."
   ]
  },
  {
   "cell_type": "code",
   "execution_count": null,
   "metadata": {
    "id": "D5mO091MfO6e"
   },
   "outputs": [],
   "source": [
    "%%time\n",
    "ddf[\"inferred_author\"] = None\n",
    "ddf[\"inferred_author\"] = ddf.body.progress_apply(infer_author, meta=pd.Series(dtype=\"string\"))"
   ]
  },
  {
   "cell_type": "code",
   "execution_count": null,
   "metadata": {
    "id": "NTcPjnU0VZZu"
   },
   "outputs": [],
   "source": [
    "# value_counts for authors\n",
    "auhtor_value_counts = pd.concat([ddf.author.value_counts().head(10), ddf.inferred_author.value_counts().head(10)], axis=1)"
   ]
  },
  {
   "cell_type": "code",
   "execution_count": null,
   "metadata": {
    "id": "UNesN9jX1IP0"
   },
   "outputs": [],
   "source": [
    "auhtor_value_counts"
   ]
  },
  {
   "cell_type": "code",
   "execution_count": null,
   "metadata": {
    "id": "TKT6tusBp13y"
   },
   "outputs": [],
   "source": [
    "auhtor_value_counts.sum().diff()"
   ]
  },
  {
   "cell_type": "markdown",
   "metadata": {
    "id": "wk6p6woeqJqP"
   },
   "source": [
    "Ungefähr 650k Nachrichten werden ausgelassen, wenn nur die vier Hauptvertreiber von Pressemeldungen berücksichtigt werden."
   ]
  },
  {
   "cell_type": "code",
   "execution_count": null,
   "metadata": {
    "id": "8X8rHo-CsDCQ"
   },
   "outputs": [],
   "source": [
    "ddf = ddf[~ddf.inferred_author.isna()]"
   ]
  },
  {
   "cell_type": "code",
   "execution_count": null,
   "metadata": {
    "id": "xHvzym8sFcX_"
   },
   "outputs": [],
   "source": [
    "ddf[\"inferred_author\"] = ddf[\"inferred_author\"].astype(\"string\")"
   ]
  },
  {
   "cell_type": "code",
   "execution_count": null,
   "metadata": {
    "id": "ufk8_XUjFwdk"
   },
   "outputs": [],
   "source": [
    "ddf[\"channels\"] = ddf.channels.progress_apply(lambda x: str(x))"
   ]
  },
  {
   "cell_type": "code",
   "execution_count": null,
   "metadata": {
    "id": "KsEmViTzNvgs"
   },
   "outputs": [],
   "source": [
    "ddf.inferred_author.value_counts().compute()"
   ]
  },
  {
   "cell_type": "code",
   "execution_count": null,
   "metadata": {
    "id": "zfNNyD_31sly"
   },
   "outputs": [],
   "source": [
    "ddf.inferred_author.value_counts().sum().compute()"
   ]
  },
  {
   "cell_type": "code",
   "execution_count": null,
   "metadata": {
    "id": "pmMI9DsEhrn2"
   },
   "outputs": [],
   "source": [
    "ddf = ddf.drop(columns=[\"author\"]).rename(columns={\"inferred_author\":\"author\"})"
   ]
  },
  {
   "cell_type": "code",
   "execution_count": null,
   "metadata": {
    "id": "CLdnwdyxNFiH"
   },
   "outputs": [],
   "source": [
    "# Contains 100k rows\n",
    "earnings_ddf = ddf[ddf.channels.apply(lambda x: \"Earnings\" in x, meta=pd.Series(dtype=bool))]"
   ]
  },
  {
   "cell_type": "code",
   "execution_count": null,
   "metadata": {
    "id": "A-zs5SSiVbyp"
   },
   "outputs": [],
   "source": [
    "# value counts for authors of earnings reports (contrast to value counts of all news articles)\n",
    "earnings_ddf.inferred_author.value_counts().head(10)"
   ]
  },
  {
   "cell_type": "markdown",
   "metadata": {
    "id": "1dVD6j-G9nie"
   },
   "source": [
    "Hier sehen wir, dass es keine einzige Pressemeldung von **Business Wire** gibt, die mit *Earnings* gekennzeichnet sind. Trotzdem gibt es relevante *Earnings* reports von Business Wire. Dies habe ich kurz verifiziert..."
   ]
  },
  {
   "cell_type": "markdown",
   "metadata": {
    "id": "jafqZ87tXDKn"
   },
   "source": [
    "Wie viele Nachrichten bleiben, wenn wir auf relevante Ticker filtern? Wir wollen nicht(!) - so ist es momentan - auf die momentane Russell 3k-Zusammensetzung filtern, denn wir wollen auch ungelistete bzw. ehemalige Russell-Aktien beachten.\n",
    "\n",
    "\n",
    "**1. Full-Name-Discovery:**\n",
    "\n",
    "Herausfinden des vollen Namens des Unternehmens für jeden Ticker, damit 1. der Text richtig geparst werden kann und 2. damit wir einen Anhaltspunkt für das Ticker-Grouping haben.\n",
    "\n",
    "\n",
    "**2. Ticker-Filtering:**\n",
    "\n",
    "Alle Ticker herausfiltern, die wir nicht brauchen. Wenn wir aber ein großes Aktienuniversum (mit inzwischen ungelisteten Aktien) benutzen, werden wir fast alle Nachrichten behalten können. Allerdings lassen sich so Fehlerhafte Nachrichten/Ticker etc. herausfiltern.\n",
    "\n",
    "\n",
    "**3. Ticker-Grouping:**\n",
    "\n",
    "Was machen wir, wenn wir mehrerer Aktiengattungen für ein Unternehmen haben? Z.B. Vorzugs- und Stammaktien. Wir können i.A. die Stammaktie nehmen, da diese normalerweise ein höheres Handelsvolumen aufweist. D.h. wir bilden alle Ticker der Benzinga-Nachrichten auf den Ticker der Stammaktie ab.\n",
    "\n",
    "\n",
    "**4. Firmennamen-Nachrichtenkörper-Verifikation:**\n",
    "\n",
    "Da Ticker wiederverwendet werden können bzw. sich verändern können wollen wir sicherstellen, dass der Unternehmensname im Nachrichtenkörper vorkommt. Bzw. generell ist das eine gute Datensäuberungs-Maßnahme. Einerseits verhindern wir,\n",
    "dass später Aktienkurse einer falschen Aktie zugeordnet wird. Andererseits werden dadurch evtl. auch weniger seriöse Nachrichten herausgefiltert, die nicht\n",
    "die Kontaktadresszeile des Unternehmens am Ende besitzen, in dem der vollständige Unternehmensname vorkommt."
   ]
  },
  {
   "cell_type": "code",
   "execution_count": 6,
   "metadata": {
    "id": "70POMUC-PN-n"
   },
   "outputs": [
    {
     "name": "stderr",
     "output_type": "stream",
     "text": [
      "100%|████████████████████████████████████████████████████████████████████████████████████████████████████████████████████████████████████████████████████████████████| 1017673/1017673 [00:08<00:00, 122592.93it/s]\n",
      "100%|████████████████████████████████████████████████████████████████████████████████████████████████████████████████████████████████████████████████████████████████| 1017673/1017673 [00:08<00:00, 120427.61it/s]\n"
     ]
    },
    {
     "name": "stdout",
     "output_type": "stream",
     "text": [
      "Es verbleiben 1017673 Nachrichten, für die wir den Ticker zu einem Firmennamen aufgelösen konnten.\n"
     ]
    }
   ],
   "source": [
    "ddf = ddf[ddf.stocks.isin(mapper.index.to_list())]\n",
    "ddf[\"company_name\"] = ddf.stocks.progress_map(lambda x: mapper.company_names.loc[x]).astype(str)\n",
    "ddf[\"short_name\"] = ddf.stocks.progress_map(lambda x: mapper.short_name.loc[x]).astype(str)\n",
    "print(f\"Es verbleiben {ddf.shape[0]} Nachrichten, für die wir den Ticker zu einem Firmennamen aufgelösen konnten.\")"
   ]
  },
  {
   "cell_type": "code",
   "execution_count": 7,
   "metadata": {},
   "outputs": [
    {
     "data": {
      "text/plain": [
       "__null_dask_index__\n",
       "74407                             Rent the Runway, Inc.\n",
       "74409                            WW International, Inc.\n",
       "74416                       JetBlue Airways Corporation\n",
       "74443      iShares International Developed Property ETF\n",
       "74467                            The Ensign Group, Inc.\n",
       "                               ...                     \n",
       "2961079                   Theseus Pharmaceuticals, Inc.\n",
       "2961084                   AXIS Capital Holdings Limited\n",
       "2961085                                      CBIZ, Inc.\n",
       "2961086                            FTI Consulting, Inc.\n",
       "2961087                Gladstone Commercial Corporation\n",
       "Name: company_name, Length: 1017673, dtype: object"
      ]
     },
     "execution_count": 7,
     "metadata": {},
     "output_type": "execute_result"
    }
   ],
   "source": [
    "ddf.company_name"
   ]
  },
  {
   "cell_type": "markdown",
   "metadata": {
    "id": "5Xw1JSiI_0JH"
   },
   "source": [
    "### Duplikate Entfernen"
   ]
  },
  {
   "cell_type": "code",
   "execution_count": 8,
   "metadata": {
    "id": "cEzrJqEN_yuJ"
   },
   "outputs": [
    {
     "name": "stdout",
     "output_type": "stream",
     "text": [
      "samples_before=1017673, samples_after=1014791\n",
      "CPU times: user 19.2 s, sys: 386 ms, total: 19.6 s\n",
      "Wall time: 19.7 s\n"
     ]
    }
   ],
   "source": [
    "%%time\n",
    "samples_before = ddf.shape[0]\n",
    "ddf = ddf.drop_duplicates()\n",
    "samples_after = ddf.shape[0]\n",
    "print(f\"{samples_before=}, {samples_after=}\")"
   ]
  },
  {
   "cell_type": "markdown",
   "metadata": {
    "id": "3F3dOc35YN8k"
   },
   "source": [
    "### Firmennamen-Nachrichtenkörper-Verifikation"
   ]
  },
  {
   "cell_type": "code",
   "execution_count": 9,
   "metadata": {},
   "outputs": [],
   "source": [
    "def verify_company_name_in_body(df):\n",
    "    return df.apply(lambda x: bool(re.search(x[\"short_name\"],\n",
    "                                             x.title + x[\"body\"].replace(\"( )*\\n( )*\", \" \"),\n",
    "                                             re.IGNORECASE)),\n",
    "                    axis=1)"
   ]
  },
  {
   "cell_type": "code",
   "execution_count": 10,
   "metadata": {},
   "outputs": [
    {
     "name": "stderr",
     "output_type": "stream",
     "text": [
      "/gxfs_work/cau/sunms534/.conda/envs/my_pytorch_env/lib/python3.11/site-packages/numpy/core/fromnumeric.py:59: FutureWarning: 'DataFrame.swapaxes' is deprecated and will be removed in a future version. Please use 'DataFrame.transpose' instead.\n",
      "  return bound(*args, **kwds)\n",
      "100%|████████████████████████████████████████████████████████████████████████████████████████████████████████████████████████████████████████████████████████████████████████████| 320/320 [00:43<00:00,  7.31it/s]\n"
     ]
    },
    {
     "name": "stdout",
     "output_type": "stream",
     "text": [
      "Around 11383 stocks before filtering and 9899 after\n",
      "CPU times: user 7.46 s, sys: 11.3 s, total: 18.7 s\n",
      "Wall time: 51.1 s\n"
     ]
    }
   ],
   "source": [
    "%%time\n",
    "mask = parallelize_dataframe(ddf, verify_company_name_in_body, n_cores=os.cpu_count())\n",
    "\n",
    "print(f\"Around {len(ddf.stocks.unique())} stocks before filtering and {len(ddf[mask].stocks.unique())} after\")"
   ]
  },
  {
   "cell_type": "code",
   "execution_count": 11,
   "metadata": {
    "id": "oNAFvvVmmWm2"
   },
   "outputs": [],
   "source": [
    "# Filter out faulty news\n",
    "ddf = ddf[mask]"
   ]
  },
  {
   "cell_type": "markdown",
   "metadata": {
    "id": "Bshj1secWQ3P"
   },
   "source": [
    "Bis zu 5k Nachrichten pro Firma, z.B. AT&T, was in 13 Jahren ca. einer Nachricht pro Tag entspricht. Wir wollen nicht das eine Firma mit vielen Junk-Nachrichten das Modell dominiert. Wobei das Modell hoffentlich dann auch die Junk-Nachrichten als solche erkennt und ignoriert. Eher wichtig noch einen `staleness`-Faktor, also wie ähnlich die Nachricht zu Vorhergegangenen ist (i.e. Nachrichten desselben Tages oder derselben Woche).\n",
    "\n",
    "Kategorisieren von Nachrichten (mit Text2Topic, wie Salbrechter?) und eliminieren von Business/Strategic etc.\n",
    "Im Falle von Text2Topic, versuche Estimates des Unternehmens von Dritten zu unterscheiden.\n",
    "\n",
    "Wichtig!!! Unterscheide zwischen LERN-Phase und PRODUKTIONS-Phase.\n",
    "Wir können z.B. CLS-Token in der Produktions-Phase vergleichen, in der Lern-Phase aber noch nicht.\n",
    "\n",
    "Text2Vec -> Business category evtl. entfernen-> Intrastock variance average"
   ]
  },
  {
   "cell_type": "markdown",
   "metadata": {},
   "source": [
    "## Make reduced ticker name mapping "
   ]
  },
  {
   "cell_type": "code",
   "execution_count": 12,
   "metadata": {
    "id": "dK5naDT8t1Ap"
   },
   "outputs": [
    {
     "name": "stdout",
     "output_type": "stream",
     "text": [
      "From 11383 to 9899 tickers (reduced)\n"
     ]
    }
   ],
   "source": [
    "ticker_name_mapper = pd.read_parquet(\"data_shared/ticker_name_mapper.parquet\")\n",
    "\n",
    "ticker_name_mapper_reduced = ddf[[\"stocks\", \"company_name\", \"short_name\"]].drop_duplicates(keep=\"first\")\n",
    "\n",
    "ticker_name_mapper_reduced.to_parquet(\"data_shared/ticker_name_mapper_reduced.parquet\")\n",
    "\n",
    "print(f\"From {ticker_name_mapper.shape[0]} to {ticker_name_mapper_reduced.shape[0]} tickers (reduced)\")"
   ]
  },
  {
   "cell_type": "markdown",
   "metadata": {
    "id": "XRABrPVOcaa9"
   },
   "source": [
    "## Parsing News Bodies\n"
   ]
  },
  {
   "cell_type": "code",
   "execution_count": 13,
   "metadata": {
    "id": "qubEijBxMNGt"
   },
   "outputs": [
    {
     "name": "stderr",
     "output_type": "stream",
     "text": [
      "100%|██████████████████████████████████████████████████████████████████████████████████████████████████████████████████████████████████████████████████████████████████| 889200/889200 [00:08<00:00, 105570.59it/s]\n"
     ]
    }
   ],
   "source": [
    "from src.utils.time import convert_timezone\n",
    "ddf[\"time\"] = ddf[\"time\"].progress_map(lambda x: convert_timezone(pd.to_datetime(x)))"
   ]
  },
  {
   "cell_type": "code",
   "execution_count": 14,
   "metadata": {},
   "outputs": [],
   "source": [
    "sample = ddf.iloc[-1000:, :]"
   ]
  },
  {
   "cell_type": "code",
   "execution_count": 15,
   "metadata": {},
   "outputs": [],
   "source": [
    "logging.getLogger().setLevel(logging.WARNING)\n",
    "def filter_df(df):\n",
    "    return df.apply(filter_body, axis=1) "
   ]
  },
  {
   "cell_type": "code",
   "execution_count": 16,
   "metadata": {
    "colab": {
     "base_uri": "https://localhost:8080/"
    },
    "id": "KGlOJPEvFxuP",
    "outputId": "2e7b693a-72c0-46d8-e93c-11f6feb29d09"
   },
   "outputs": [
    {
     "name": "stderr",
     "output_type": "stream",
     "text": [
      "/gxfs_work/cau/sunms534/.conda/envs/my_pytorch_env/lib/python3.11/site-packages/numpy/core/fromnumeric.py:59: FutureWarning: 'DataFrame.swapaxes' is deprecated and will be removed in a future version. Please use 'DataFrame.transpose' instead.\n",
      "  return bound(*args, **kwds)\n",
      "100%|████████████████████████████████████████████████████████████████████████████████████████████████████████████████████████████████████████████████████████████████████████████| 320/320 [01:26<00:00,  3.68it/s]\n"
     ]
    },
    {
     "name": "stdout",
     "output_type": "stream",
     "text": [
      "CPU times: user 255 ms, sys: 3.18 s, total: 3.43 s\n",
      "Wall time: 1min 32s\n"
     ]
    }
   ],
   "source": [
    "%%time\n",
    "processed_news: pd.Series = parallelize_dataframe(sample, filter_df, n_cores=os.cpu_count())"
   ]
  },
  {
   "cell_type": "code",
   "execution_count": 17,
   "metadata": {
    "scrolled": true
   },
   "outputs": [],
   "source": [
    "ddf[\"parsed_body\"] = processed_news"
   ]
  },
  {
   "cell_type": "code",
   "execution_count": 31,
   "metadata": {},
   "outputs": [],
   "source": [
    "ddf.to_parquet('data/cleaned_sample.parquet') # config.data.benzinga.cleaned"
   ]
  },
  {
   "cell_type": "code",
   "execution_count": 48,
   "metadata": {},
   "outputs": [
    {
     "name": "stdout",
     "output_type": "stream",
     "text": [
      "The autoreload extension is already loaded. To reload it, use:\n",
      "  %reload_ext autoreload\n"
     ]
    }
   ],
   "source": [
    "# Analysis\n",
    "%load_ext autoreload\n",
    "%autoreload 2\n",
    "from src.preprocessing.news_parser import remove_patterns"
   ]
  },
  {
   "cell_type": "code",
   "execution_count": 63,
   "metadata": {},
   "outputs": [
    {
     "data": {
      "text/plain": [
       "Index(['time', 'stocks', 'author', 'title', 'channels', 'body',\n",
       "       'inferred_author', 'company_name', 'short_name', 'parsed_body'],\n",
       "      dtype='object')"
      ]
     },
     "execution_count": 63,
     "metadata": {},
     "output_type": "execute_result"
    }
   ],
   "source": [
    "ddf.columns"
   ]
  },
  {
   "cell_type": "code",
   "execution_count": 66,
   "metadata": {},
   "outputs": [
    {
     "data": {
      "text/plain": [
       "__null_dask_index__\n",
       "2960985          Northern Trust Corporation\n",
       "2960990            Hyatt Hotels Corporation\n",
       "2960991        Tenet Healthcare Corporation\n",
       "2961017                   Dana Incorporated\n",
       "2961056      Martin Midstream Partners L.P.\n",
       "2961070      Martin Midstream Partners L.P.\n",
       "2961084       AXIS Capital Holdings Limited\n",
       "2961085                          CBIZ, Inc.\n",
       "2961086                FTI Consulting, Inc.\n",
       "2961087    Gladstone Commercial Corporation\n",
       "Name: company_name, dtype: object"
      ]
     },
     "execution_count": 66,
     "metadata": {},
     "output_type": "execute_result"
    }
   ],
   "source": [
    "ddf.company_name.tail(10)"
   ]
  },
  {
   "cell_type": "code",
   "execution_count": 62,
   "metadata": {},
   "outputs": [
    {
     "data": {
      "text/html": [
       "<div>\n",
       "<style scoped>\n",
       "    .dataframe tbody tr th:only-of-type {\n",
       "        vertical-align: middle;\n",
       "    }\n",
       "\n",
       "    .dataframe tbody tr th {\n",
       "        vertical-align: top;\n",
       "    }\n",
       "\n",
       "    .dataframe thead th {\n",
       "        text-align: right;\n",
       "    }\n",
       "</style>\n",
       "<table border=\"1\" class=\"dataframe\">\n",
       "  <thead>\n",
       "    <tr style=\"text-align: right;\">\n",
       "      <th></th>\n",
       "      <th>body</th>\n",
       "      <th>parsed_body</th>\n",
       "    </tr>\n",
       "    <tr>\n",
       "      <th>__null_dask_index__</th>\n",
       "      <th></th>\n",
       "      <th></th>\n",
       "    </tr>\n",
       "  </thead>\n",
       "  <tbody>\n",
       "    <tr>\n",
       "      <th>2960985</th>\n",
       "      <td>CHICAGO--(BUSINESS WIRE)--\n",
       "\n",
       "Northern Trust Corporation announced today that it will webcast its third\n",
       "quarter 2012 earnings conference call live on Wednesday, October 17, 2012. The\n",
       "webcast will be accessible on Northern Trust's web site:\n",
       "www.northerntrust.com/financialreleases.\n",
       "\n",
       "The call will be conducted at 11 a.m. CT, following the release that morning\n",
       "of Northern Trust's third quarter 2012 earnings press release. A replay of the\n",
       "webcast will be available for approximately four weeks after the date of the\n",
       "call.\n",
       "\n",
       "Participants will need Windows Media or Adobe Flash software, which may be\n",
       "downloaded free at Northern Trust's web site. Northern Trust's third quarter\n",
       "2012 earnings press release and presentation materials referred to on the\n",
       "conference call also will be made available at the above web address.\n",
       "\n",
       "**About Northern Trust**\n",
       "\n",
       "Northern Trust Corporation (Nasdaq: NTRS) is a leading provider of investment\n",
       "management, asset and fund administration, banking solutions and fiduciary\n",
       "services for corporations, institutions and affluent individuals worldwide.\n",
       "Northern Trust, a financial holding company based in Chicago, has offices in\n",
       "18 U.S. states and 16 international locations in North America, Europe, the\n",
       "Middle East and the Asia-Pacific region. As of June 30, 2012, Northern Trust\n",
       "had assets under custody of US$4.6 trillion, and assets under investment\n",
       "management of US$704.3 billion. For more than 120 years, Northern Trust has\n",
       "earned distinction as an industry leader in combining exceptional service and\n",
       "expertise with innovative products and technology. For more information, visit\n",
       "www.northerntrust.com or follow us on Twitter @NorthernTrust.\n",
       "\n",
       "Northern Trust Corporation  \n",
       " _Investor Contact:_  \n",
       "Bev Fleming, (312) 444-7811  \n",
       "Beverly_Fleming@ntrs.com  \n",
       "or  \n",
       " _Media Contact:_  \n",
       "Doug Holt, (312) 557-1571  \n",
       "Doug_Holt@ntrs.com  \n",
       "http://www.northerntrust.com</td>\n",
       "      <td>CHICAGO  (BUSINESS WIRE)    the company  announced today that it will webcast its third quarter 2012 earnings conference call live.The call will be conducted at 11 a.m.CT, following the release that morning of  the company 's third quarter 2012 earnings press release.A replay of the webcast will be available for approximately four weeks after the date of the call.Participants will need Windows Media or Adobe Flash software, which may be downloaded free at  the company 's web site.the company 's third quarter 2012 earnings press release and presentation materials referred to on the conference call also will be made available at the above web address.About  the company   the company   is a leading provider of investment management, asset and fund administration, banking solutions and fiduciary services for corporations, institutions and affluent individuals worldwide.the company , a financial holding company based in Chicago, has offices in 18 U.S.states and 16 international locations in North America, Europe, the Middle East and the Asia Pacific region.As ,  the company  had assets under custody of US$4.6 trillion, and assets under investment management of US$704.3 billion.For more than 120 years,  the company  has earned distinction as an industry leader in combining exceptional service and expertise with innovative products and technology</td>\n",
       "    </tr>\n",
       "    <tr>\n",
       "      <th>2960990</th>\n",
       "      <td>CHICAGO--(BUSINESS WIRE)--\n",
       "\n",
       "Hyatt Hotels Corporation (NYSE: H) announced today that a Hyatt affiliate has\n",
       "entered into a management agreement with Dilony S.A. for a new Hyatt hotel in\n",
       "Montevideo, Uruguay. Hyatt Montevideo will mark the first Hyatt-branded hotel\n",
       "in Uruguay, bringing the total number of announced Hyatt-branded hotels under\n",
       "development in Latin America to 14.\n",
       "\n",
       "Hyatt Montevideo will be the first Hyatt-branded hotel in Uruguay. (C) WSW\n",
       "Montevideo\n",
       "\n",
       "“We are excited to work with Dilony S.A. on the first Hyatt-branded hotel in\n",
       "Uruguay,” said Pat McCudden, Senior Vice President, Real Estate and\n",
       "Development, Hyatt Hotels &amp; Resorts. “This project is an important step in our\n",
       "broader plans to establish Hyatt properties in all of the major gateway and\n",
       "capital cities in Latin America, and we believe that the Hyatt brand and the\n",
       "excellent location of the hotel in Montevideo will have strong appeal to\n",
       "business and leisure travelers visiting the region.”\n",
       "\n",
       "Expected to open in 2015, Hyatt Montevideo will be situated along the Rambla\n",
       "Republica del Peru, a major thoroughfare along the coastline of Montevideo.\n",
       "Located in the city's Pocitos neighborhood, the hotel will be in close\n",
       "proximity to many of area's business and leisure districts, including Ciudad\n",
       "Vieja, the World Trade Center and the Montevideo Shopping Center.\n",
       "Additionally, Carrasco International Airport is easily accessible from the\n",
       "hotel.\n",
       "\n",
       "Hyatt Montevideo will offer 167 guestrooms, including 14 suites, which will\n",
       "range in size from 484 sq ft (45 sq m) to 861 sq ft (80 sq m). The hotel will\n",
       "also offer an all-day dining restaurant, a lobby lounge, a fitness center, an\n",
       "indoor pool, and more than 6,200 sq ft (585 sq m) of meeting and event space.\n",
       "\n",
       "“We are pleased to work with Hyatt on the first Hyatt-branded hotel in\n",
       "Uruguay,” said Arq. Daniel Weiss, President of Dilony S.A. and Director of\n",
       "Weiss Sztryk Weiss, the developer group. “We appreciate Hyatt's commitment to\n",
       "providing authentic hospitality to its gues...</td>\n",
       "      <td>CHICAGO  (BUSINESS WIRE)    the company   announced today that a Hyatt affiliate has entered into a management agreement with Dilony S.A.for a new Hyatt hotel in Montevideo, Uruguay.Hyatt Montevideo will mark the first Hyatt branded hotel in Uruguay, bringing the total number of announced Hyatt branded hotels under development in Latin America to 14.Hyatt Montevideo will be the first Hyatt branded hotel in Uruguay.(C) WSW Montevideo “We are excited to work with Dilony S.A.on the first Hyatt branded hotel in Uruguay,” said Pat McCudden, Senior Vice President, Real Estate and Development,  the company  &amp; Resorts.“This project is an important step in our broader plans to establish Hyatt properties in all of the major gateway and capital cities in Latin America, and we believe that the Hyatt brand and the excellent location of the hotel in Montevideo will have strong appeal to business and leisure travelers visiting the region.” Expected to open in 2015, Hyatt Montevideo will be situated along the Rambla Republica del Peru, a major thoroughfare along the coastline of Montevideo.Located in the city's Pocitos neighborhood, the hotel will be in close proximity to many of area's business and leisure districts, including Ciudad Vieja, the World Trade Center and the Montevideo Shopping Center.Additionally, Carrasco International Airport is easily accessible from the hotel.Hyatt Montevideo will offer 167 guestrooms, including 14 suites, which will range in size from 484 sq ft (45 sq m) to 861 sq ft (80 sq m).The hotel will also offer an all day dining restaurant, a lobby lounge, a fitness center, an indoor pool, and more than 6,200 sq ft (585 sq m) of meeting and event space.“We are pleased to work with Hyatt on the first Hyatt branded hotel in Uruguay,” said Arq.Daniel Weiss, President of Dilony S.A.and Director of Weiss Sztryk Weiss, the developer group.“We appreciate Hyatt's commitment to providing authentic hospitality to its guests, and we believe Hyatt Montevideo's e...</td>\n",
       "    </tr>\n",
       "    <tr>\n",
       "      <th>2960991</th>\n",
       "      <td>FRISCO, Texas--(BUSINESS WIRE)--\n",
       "\n",
       "Conifer Health Solutions, LLC, a subsidiary of **** Tenet Healthcare\n",
       "Corporation (NYSE: THC) and a leader in business process management solutions\n",
       "for healthcare providers, has established an annual scholarship program to\n",
       "recognize Health Information Management (HIM) students who demonstrate an\n",
       "outstanding commitment to community service. Conifer Health has committed\n",
       "$7,000 annually in scholarship funds to the American Health Information\n",
       "Management Association (AHIMA) Foundation for five years.\n",
       "\n",
       "Conifer Health established the educational scholarships to encourage\n",
       "participation in community service and service learning projects that focus on\n",
       "enhancing rural and underserved communities. The scholarships are part of\n",
       "Conifer Health's overall corporate social responsibility (CSR) program, which\n",
       "allows the company, its employees and its clients to support their communities\n",
       "through charitable organizations like Habitat for Humanity, March of Dimes and\n",
       "the American Heart Association.\n",
       "\n",
       "“Conifer Health believes social responsibility should be cultivated into the\n",
       "education process,” said Paula Lawlor, vice president of Hospital Operations\n",
       "for Conifer Health Solutions. \"With these scholarships, Conifer is granting\n",
       "opportunities for health information students to make a difference in their\n",
       "communities.”\n",
       "\n",
       "The AHIMA Foundation annually offers merit scholarships to outstanding\n",
       "currently-enrolled undergraduates in HIM and health information technology\n",
       "(HIT), as well as to professionals pursuing graduate degrees in areas related\n",
       "to health information.\n",
       "\n",
       "There are four levels of scholarships offered:\n",
       "\n",
       "  1. Associate's degree - $1,000 award for students pursuing a Commission on Accreditation for Health Informatics and Information Management Education (CAHIIM) accredited AA degree in HIM or HIT \n",
       "  2. Bachelor's degree/Post-Baccalaureate certificate - $1,500 award for students pursuing a CAHIIM accredited BA/BS degree or a Post-Baccalaureate certifica...</td>\n",
       "      <td>FRISCO, Texas  (BUSINESS WIRE)   Conifer Health Solutions, LLC, a subsidiary of.the company   and a leader in business process management solutions for healthcare providers, has established an annual scholarship program to recognize Health Information Management (HIM) students who demonstrate an outstanding commitment to community service.Conifer Health has committed $7,000 annually in scholarship funds to the American Health Information Management Association (AHIMA) Foundation for five years.Conifer Health established the educational scholarships to encourage participation in community service and service learning projects that focus on enhancing rural and underserved communities.The scholarships are part of Conifer Health's overall corporate social responsibility (CSR) program, which allows the company, its employees and its clients to support their communities through charitable organizations like Habitat for Humanity, March of Dimes and the American Heart Association.“Conifer Health believes social responsibility should be cultivated into the education process,” said Paula Lawlor, vice president of Hospital Operations for Conifer Health Solutions.\"With these scholarships, Conifer is granting opportunities for health information students to make a difference in their communities.” The AHIMA Foundation annually offers merit scholarships to outstanding currently enrolled undergraduates in HIM and health information technology (HIT), as well as to professionals pursuing graduate degrees in areas related to health information.There are four levels of scholarships offered:   1.Associate's degree   $1,000 award for students pursuing a Commission on Accreditation for Health Informatics and Information Management Education (CAHIIM) accredited AA degree in HIM or HIT    2.Bachelor's degree Post Baccalaureate certificate   $1,500 award for students pursuing a CAHIIM accredited BA BS degree or a Post Baccalaureate certificate in HIM or HIT    3.Master's degree   $2,000...</td>\n",
       "    </tr>\n",
       "    <tr>\n",
       "      <th>2961017</th>\n",
       "      <td>MAUMEE, Ohio, Oct. 2, 2012 /PRNewswire/ -- Dana Holding Corporation (NYSE:\n",
       "DAN) announced today it will be highlighting its full complement of driveline\n",
       "products, including front and rear axles, driveshafts, and suspension\n",
       "components for light, commercial, and off-highway vehicles during 2012 SAE\n",
       "Congress Brazil from Oct. 2-4, at the Expocenter Norte Exhibition Center, in\n",
       "Sao Paulo.\n",
       "\n",
       "\"For 65 years, Dana has been serving customers in Brazil as a leading provider\n",
       "of full-system driveline solutions for commercial- and light-vehicles in South\n",
       "America,\" said Harro Burmann, president of Dana's South America operations.\n",
       "\"We continue to produce superior products that deliver unmatched quality for\n",
       "our customers both in the Brazilian market and across the globe.\"\n",
       "\n",
       "In 2011, Dana strengthened its commitment to Brazil and the region through a\n",
       "strategic agreement that added steer axles for trucks and buses to Dana's\n",
       "product offering in South America. The agreement secured the company's\n",
       "position as the leading full-line supplier of commercial vehicle drivelines.\n",
       "\n",
       "In addition to driveline solutions, Dana will highlight its sealing and\n",
       "thermal-management technologies, which enhances vehicle performance through\n",
       "improved fuel economy, reduced emissions, and efficient heat transfer and\n",
       "shielding solutions.\n",
       "\n",
       "The company also will introduce the Spicer® Diamond Series™ driveshafts to the\n",
       "South American marketplace. These driveshafts utilize a Dana-developed process\n",
       "that fuses steel universal joints with a single, high-strength aluminum tube\n",
       "to replace the traditional all-steel, two-piece driveshafts. Compared with the\n",
       "traditional two-piece driveshaft, this proprietary manufacturing process\n",
       "outperforms conventional welding and joining, and delivers a more robust\n",
       "driveshaft with up to 40 percent weight savings, while reducing noise,\n",
       "vibration, and harshness (NVH).\n",
       "\n",
       "Dana´s roots in South America began in Brazil in 1947. Currently, Dana Brazil\n",
       "has eight major manufacturing and assembly fa...</td>\n",
       "      <td>MAUMEE, Ohio, Oct.2, 2012  PRNewswire      the company  Holding Corporation  announced today it will be highlighting its full complement of driveline products, including front and rear axles, driveshafts, and suspension components for light, commercial, and off highway vehicles during 2012 SAE Congress Brazil from Oct.2 4, at the Expocenter Norte Exhibition Center, in Sao Paulo.\"For 65 years,  the company  has been serving customers in Brazil as a leading provider of full system driveline solutions for commercial  and light vehicles in South America,\" said Harro Burmann, president of  the company 's South America operations.\"We continue to produce superior products that deliver unmatched quality for our customers both in the Brazilian market and across the globe.\" In 2011,  the company  strengthened its commitment to Brazil and the region through a strategic agreement that added steer axles for trucks and buses to  the company 's product offering in South America.The agreement secured the company's position as the leading full line supplier of commercial vehicle drivelines.In addition to driveline solutions,  the company  will highlight its sealing and thermal management technologies, which enhances vehicle performance through improved fuel economy, reduced emissions, and efficient heat transfer and shielding solutions.The company also will introduce the Spicer® Diamond Series™ driveshafts to the South American marketplace.These driveshafts utilize a  the company  developed process that fuses steel universal joints with a single, high strength aluminum tube to replace the traditional all steel, two piece driveshafts.Compared with the traditional two piece driveshaft, this proprietary manufacturing process outperforms conventional welding and joining, and delivers a more robust driveshaft with up to 40 percent weight savings, while reducing noise, vibration, and harshness (NVH).the company ´s roots in South America began in Brazil in 1947.Currently,  the company ...</td>\n",
       "    </tr>\n",
       "    <tr>\n",
       "      <th>2961056</th>\n",
       "      <td>KILGORE, Texas, Oct. 2, 2012 (GLOBE NEWSWIRE) -- Martin Midstream Partners\n",
       "L.P. (Nasdaq: MMLP) (\"MMLP\" or the \"Partnership\") announced today the closing\n",
       "of two separate purchase agreements with certain wholly-owned subsidiaries of\n",
       "Martin Resource Management Corporation (\"MRMC\" or the \"Parent\"), the owner of\n",
       "Martin Midstream GP LLC (the \"General Partner\"), the general partner of MMLP.\n",
       "\n",
       "In the first transaction, MMLP purchased certain specialty lubricant product\n",
       "packaging assets (the \"Packaging Assets\") from Cross Oil Refining &amp; Marketing,\n",
       "Inc. (\"Cross\"), a wholly-owned subsidiary of the Parent. Total consideration\n",
       "for the Packaging Assets consisted of $121.8 million in cash, including\n",
       "working capital of approximately $36.8 million at closing, subject to certain\n",
       "post-closing adjustments. The purchase of the Packaging Assets was funded\n",
       "using availability under the Partnership's existing credit facility.\n",
       "\n",
       "In the second transaction, the Partnership purchased all of the remaining\n",
       "Class A equity interests in Redbird Gas Storage LLC (\"Redbird\") for $150.0\n",
       "million in cash. Redbird was formed by the Partnership and MRMC in 2011 to\n",
       "invest in Cardinal Gas Storage Partners (\"Cardinal\"). Cardinal is a joint\n",
       "venture between Redbird and Energy Capital Partners (\"ECP\") that is focused on\n",
       "the development, construction, operation and management of natural gas storage\n",
       "facilities across North America. Prior to closing, MMLP owned both a 10.7%\n",
       "Class A and a 100% Class B interest in Redbird. Redbird is now a wholly-owned\n",
       "subsidiary of MMLP which effectively owns a 38.1% fully diluted membership\n",
       "interest in Cardinal. The purchase of the remaining Class A equity interests\n",
       "in Redbird was also funded using availability under the Partnership's existing\n",
       "credit facility.\n",
       "\n",
       "In conjunction with the Redbird transaction, our General Partner has agreed to\n",
       "relinquish its right to receive the next $18.0 million in incentive\n",
       "distributions that it would otherwise be entitled to from MMLP. Additionally...</td>\n",
       "      <td>KILGORE, Texas, Oct.2, 2012 (GLOBE NEWSWIRE)     the company   (\"MMLP\" or the \"Partnership\") announced today the closing of two separate purchase agreements with certain wholly owned subsidiaries of Martin Resource Management Corporation (\"MRMC\" or the \"Parent\"), the owner of Martin Midstream GP LLC (the \"General Partner\"), the general partner of MMLP.In the first transaction, MMLP purchased certain specialty lubricant product packaging assets (the \"Packaging Assets\") from Cross Oil Refining &amp; Marketing, Inc.(\"Cross\"), a wholly owned subsidiary of the Parent.Total consideration for the Packaging Assets consisted of $121.8 million in cash, including working capital of approximately $36.8 million at closing, subject to certain post closing adjustments.The purchase of the Packaging Assets was funded using availability under the Partnership's existing credit facility.In the second transaction, the Partnership purchased all of the remaining Class A equity interests in Redbird Gas Storage LLC (\"Redbird\") for $150.0 million in cash.Redbird was formed by the Partnership and MRMC in 2011 to invest in Cardinal Gas Storage Partners (\"Cardinal\").Cardinal is a joint venture between Redbird and Energy Capital Partners (\"ECP\") that is focused on the development, construction, operation and management of natural gas storage facilities across North America.Prior to closing, MMLP owned both a 10.7% Class A and a 100% Class B interest in Redbird.Redbird is now a wholly owned subsidiary of MMLP which effectively owns a 38.1% fully diluted membership interest in Cardinal.The purchase of the remaining Class A equity interests in Redbird was also funded using availability under the Partnership's existing credit facility.In conjunction with the Redbird transaction, our General Partner has agreed to relinquish its right to receive the next $18.0 million in incentive distributions that it would otherwise be entitled to from MMLP.Additionally, our General Partner has agreed to relinquish ...</td>\n",
       "    </tr>\n",
       "    <tr>\n",
       "      <th>2961070</th>\n",
       "      <td>KILGORE, Texas, Oct. 2, 2012 (GLOBE NEWSWIRE) -- Martin Midstream Partners\n",
       "L.P. (Nasdaq: MMLP) (\"MMLP\" or the \"Partnership\") announced today that Martin\n",
       "Resource Management Corporation (the \"Parent\"), the owner of its general\n",
       "partner, has settled certain ongoing litigation with certain of its\n",
       "shareholders. The settlement, among other things, provides the Parent, its\n",
       "officers and directors with a full and final release and resolves the\n",
       "litigation styled _Scott Martin, et al. v. Martin Resource Management\n",
       "Corporation, et al_ , originally filed in the 215th Harris County Judicial\n",
       "District Court of Texas under Cause No. 2008-53948 (the \"Harris County\n",
       "Litigation\") for an undisclosed price. The settlement also resolves all of the\n",
       "other outstanding lawsuits between the parties to the Harris County\n",
       "Litigation.\n",
       "\n",
       "Additionally, the Parent repurchased all of the outstanding shares of the\n",
       "Parent owned by (i) Scott D. Martin, (ii) KCM LLC, formerly KC-Martin, LLC and\n",
       "(iii) SKM Partnership, Ltd. for an undisclosed sum.\n",
       "\n",
       "_About Martin Midstream Partners L.P._\n",
       "\n",
       "Martin Midstream Partners is a publicly traded limited partnership with a\n",
       "diverse set of operations focused primarily in the United States Gulf Coast\n",
       "region. The Partnership's primary business lines include: terminalling and\n",
       "storage services for petroleum products and by-products; NGL distribution\n",
       "services; and sulfur and sulfur-based products processing, manufacturing,\n",
       "marketing and distribution; marine transportation services for petroleum\n",
       "products and by-products. Additionally, the Partnership processes and packages\n",
       "naphthenic lubricating oils for specialty applications used in the automotive,\n",
       "energy, and petrochemical industries\n",
       "\n",
       "Additional information concerning Martin Midstream is available on its website\n",
       "at www.martinmidstream.com.\n",
       "\n",
       "_About Martin Resource Management Corporation_\n",
       "\n",
       "Martin Resource Management Corporation (MRMC) through its various subsidiaries\n",
       "is an independent provider of marketing and distribution a...</td>\n",
       "      <td>KILGORE, Texas, Oct.2, 2012 (GLOBE NEWSWIRE)     the company   (\"MMLP\" or the \"Partnership\") announced today that Martin Resource Management Corporation (the \"Parent\"), the owner of its general partner, has settled certain ongoing litigation with certain of its shareholders.The settlement, among other things, provides the Parent, its officers and directors with a full and final release and resolves the litigation styled _Scott Martin, et al.v.Martin Resource Management Corporation, et al_ , originally filed in the 215th Harris County Judicial District Court of Texas under Cause No.2008 53948 (the \"Harris County Litigation\") for an undisclosed price.The settlement also resolves all of the other outstanding lawsuits between the parties to the Harris County Litigation.Additionally, the Parent repurchased all of the outstanding shares of the Parent owned by (i) Scott D.Martin, (ii) KCM LLC, formerly KC Martin, LLC and (iii) SKM Partnership, Ltd.for an undisclosed sum._About  the company _ Martin Midstream Partners is a publicly traded limited partnership with a diverse set of operations focused primarily in the United States Gulf Coast region.The Partnership's primary business lines include: terminalling and storage services for petroleum products and by products; NGL distribution services; and sulfur and sulfur based products processing, manufacturing, marketing and distribution; marine transportation services for petroleum products and by products._About Martin Resource Management Corporation_ Martin Resource Management Corporation (MRMC) through its various subsidiaries is an independent provider of marketing and distribution and transportation of hydrocarbon products and by products including molten sulfur, sulfur based derivatives, fuel oil, natural gas liquids (NGLs), asphalt, paper mill liquids, and other bulk tank liquids.In addition, the Company manufactures and markets processed sulfur products including fertilizer and emulsified sulfur.Additionally, the C...</td>\n",
       "    </tr>\n",
       "    <tr>\n",
       "      <th>2961084</th>\n",
       "      <td>PEMBROKE, Bermuda--(BUSINESS WIRE)--\n",
       "\n",
       "AXIS Capital Holdings Limited (“AXIS Capital” or the “Company”) (NYSE: AXS)\n",
       "today announced that Eric Gesick has joined the Company in the new position of\n",
       "Group Chief Actuary. Mr. Gesick, who joins the Executive Committee of AXIS\n",
       "Capital in this new role, will lead the Company's actuarial function and\n",
       "provide review and oversight for all pricing and reserving activities. He will\n",
       "report directly to AXIS Capital President and CEO Albert Benchimol and will be\n",
       "based in the Company's Bermuda head office.\n",
       "\n",
       "Prior to joining AXIS Capital, Mr. Gesick served as Chief Actuarial Officer\n",
       "for PartnerRe. Mr. Gesick has over 20 years of experience in the insurance and\n",
       "reinsurance industry in the U.S., Bermuda and European markets including\n",
       "actuarial, underwriting and operational roles. Mr. Gesick is a Fellow of the\n",
       "Casualty Actuarial Society, a member of the Academy of Actuaries and holds a\n",
       "B.B.A. in Actuarial Science from the University of Wisconsin as well as a CFA\n",
       "designation.\n",
       "\n",
       "Albert Benchimol, President and Chief Executive Officer of AXIS Capital,\n",
       "commented: “I am delighted to welcome Eric to our executive team. I know him\n",
       "to be an outstanding actuary and a talented business leader, and I look\n",
       "forward to his important contributions to AXIS Capital's profitable growth.”\n",
       "\n",
       "AXIS Capital is a Bermuda-based global provider of specialty lines insurance\n",
       "and treaty reinsurance with shareholders' equity at June 30, 2012 of $5.7\n",
       "billion and locations in Bermuda, the United States, Europe, Singapore,\n",
       "Canada, Australia and Latin America. Its operating subsidiaries have been\n",
       "assigned a rating of “A+” (“Strong”) by Standard &amp; Poor's and “A”\n",
       "(“Excellent”) by A.M. Best. AXIS Capital and AXIS Specialty Finance LLC have\n",
       "been assigned senior unsecured debt ratings of A- (stable) by Standard &amp;\n",
       "Poor's and Baa1 (stable) by Moody's Investors Service. For more information\n",
       "about AXIS Capital, visit our website at www.axiscapital.com.\n",
       "\n",
       "**Investors:**  \n",
       "AXIS Capi...</td>\n",
       "      <td>PEMBROKE, Bermuda  (BUSINESS WIRE)    the company  (“AXIS Capital” or the “Company”)  today announced that Eric Gesick has joined the Company in the new position of Group Chief Actuary.Mr.Gesick, who joins the Executive Committee of AXIS Capital in this new role, will lead the Company's actuarial function and provide review and oversight for all pricing and reserving activities.He will report directly to AXIS Capital President and CEO Albert Benchimol and will be based in the Company's Bermuda head office.Prior to joining AXIS Capital, Mr.Gesick served as Chief Actuarial Officer for PartnerRe.Mr.Gesick has over 20 years of experience in the insurance and reinsurance industry in the U.S., Bermuda and European markets including actuarial, underwriting and operational roles.Mr.Gesick is a Fellow of the Casualty Actuarial Society, a member of the Academy of Actuaries and holds a B.B.A.in Actuarial Science from the University of Wisconsin as well as a CFA designation.Albert Benchimol, President and Chief Executive Officer of AXIS Capital, commented: “I am delighted to welcome Eric to our executive team.I know him to be an outstanding actuary and a talented business leader, and I look forward to his important contributions to AXIS Capital's profitable growth.” AXIS Capital is a Bermuda based global provider of specialty lines insurance and treaty reinsurance with shareholders' equity  $5.7 billion and locations in Bermuda, the United States, Europe, Singapore, Canada, Australia and Latin America.Its operating subsidiaries have been assigned a rating of “A+” (“Strong”) by Standard &amp; Poor's and “A” (“Excellent”) by A.M.Best.AXIS Capital and AXIS Specialty Finance LLC have been assigned senior unsecured debt ratings of A  (stable) by Standard &amp; Poor's and Baa1 (stable) by Moody's Investors Service</td>\n",
       "    </tr>\n",
       "    <tr>\n",
       "      <th>2961085</th>\n",
       "      <td>CLEVELAND, Oct. 2, 2012 /PRNewswire/ -- CBIZ, Inc. (NYSE: CBZ) today announced\n",
       "that it has signed a definitive agreement to acquire Strategic Employee\n",
       "Benefit Services - The Pruett Group, Inc. (\"SEBS-Pruett\") of Nashville,\n",
       "Tennessee, effective October 1, 2012.\n",
       "\n",
       "Founded in 1984, SEBS-Pruett is an employee benefit and consulting firm\n",
       "providing mid-sized businesses with group health insurance located in\n",
       "Nashville, Tennessee, with additional offices in Chattanooga, Johnson City and\n",
       "Knoxville. The SEBS-Pruett acquisition is expected to add 36 employees and\n",
       "approximately $5.1 million to CBIZ annualized revenue.\n",
       "\n",
       "On joining CBIZ, Ken Rideout, who was appointed President, CBIZ Nashville\n",
       "Benefit &amp; Insurance Services, stated, \"We are very excited to join the CBIZ\n",
       "organization. This new partnership will allow us to continue to focus on the\n",
       "needs of our existing clients while expanding our capabilities and services.\n",
       "Joining a world class organization such as CBIZ provides us with resources and\n",
       "stability in the face of our rapidly changing industry.\"\n",
       "\n",
       "Steven L. Gerard, CBIZ Chairman and CEO, stated, \"We are very pleased to add\n",
       "SEBS-Pruett to our growing employee services business. Under the leadership of\n",
       "Ken Rideout, we expect to expand our market penetration in this geographic\n",
       "area and provide our existing and future clients with a more comprehensive\n",
       "array of professional products and services.\"\n",
       "\n",
       "CBIZ, Inc. provides professional business services that help clients better\n",
       "manage their finances and employees. CBIZ provides its clients with financial\n",
       "services including accounting, tax and consulting, internal audit, merger and\n",
       "acquisition advisory and valuation services. Employee services include\n",
       "employee benefits consulting, property and casualty insurance, retirement plan\n",
       "consulting, payroll, life insurance, HR consulting, and executive recruitment.\n",
       "CBIZ also provides outsourced technology staffing and support services, real\n",
       "estate consulting services, healthcare consulting,...</td>\n",
       "      <td>CLEVELAND, Oct.2, 2012  PRNewswire      the company   today announced that it has signed a definitive agreement to acquire Strategic Employee Benefit Services   The Pruett Group, Inc.(\"SEBS Pruett\") of Nashville, Tennessee, effective.Founded in 1984, SEBS Pruett is an employee benefit and consulting firm providing mid sized businesses with group health insurance located in Nashville, Tennessee, with additional offices in Chattanooga, Johnson City and Knoxville.The SEBS Pruett acquisition is expected to add 36 employees and approximately $5.1 million to  the company  annualized revenue.On joining  the company , Ken Rideout, who was appointed President,  the company  Nashville Benefit &amp; Insurance Services, stated, \"We are very excited to join the  the company  organization.This new partnership will allow us to continue to focus on the needs of our existing clients while expanding our capabilities and services.Joining a world class organization such as  the company  provides us with resources and stability in the face of our rapidly changing industry.\" Steven L.Gerard,  the company  Chairman and CEO, stated, \"We are very pleased to add SEBS Pruett to our growing employee services business.Under the leadership of Ken Rideout, we expect to expand our market penetration in this geographic area and provide our existing and future clients with a more comprehensive array of professional products and services.\"  the company  provides professional business services that help clients better manage their finances and employees.the company  provides its clients with financial services including accounting, tax and consulting, internal audit, merger and acquisition advisory and valuation services.Employee services include employee benefits consulting, property and casualty insurance, retirement plan consulting, payroll, life insurance, HR consulting, and executive recruitment.the company  also provides outsourced technology staffing and support services, real estate consulting...</td>\n",
       "    </tr>\n",
       "    <tr>\n",
       "      <th>2961086</th>\n",
       "      <td>HONG KONG, Oct. 2, 2012 /PRNewswire/ -- FTI Consulting, Inc. (NYSE: FCN), the\n",
       "global business advisory firm dedicated to helping organisations protect and\n",
       "enhance their enterprise value, today announced that it has concluded the\n",
       "acquisition of the assets of KordaMentha (Qld) (KMQ), a corporate finance\n",
       "advisory and restructuring firm headquartered in Brisbane, Australia, and the\n",
       "Gold Coast.\n",
       "\n",
       "This announcement follows the completion of definitive documentation and\n",
       "customary closing conditions. The acquisition will significantly expand the\n",
       "presence and service offerings of FTI Consulting in Australia, adding nearly\n",
       "70 professionals, including seven senior managing directors and three managing\n",
       "directors. The KMQ business now will operate as FTI Consulting. As part of FTI\n",
       "Consulting, the two business units of KMQ, KMQ Insolvency and 22 Capital, have\n",
       "been integrated into the company's Corporate Finance/Restructuring practice\n",
       "and will be a driver to build out other service lines and augment existing\n",
       "Australian businesses.\n",
       "\n",
       "**About FTI Consulting**\n",
       "\n",
       "FTI Consulting, Inc. is a global business advisory firm dedicated to helping\n",
       "organisations protect and enhance enterprise value in an increasingly complex\n",
       "legal, regulatory and economic environment. With more than 3,800 employees\n",
       "located in 24 countries, FTI Consulting professionals work closely with\n",
       "clients to anticipate, illuminate and overcome complex business challenges in\n",
       "areas such as investigations, litigation, mergers and acquisitions, regulatory\n",
       "issues, reputation management, strategic communications and restructuring. The\n",
       "company generated $1.56 billion in revenues during fiscal year 2011. More\n",
       "information can be found at www.fticonsulting.com.\n",
       "\n",
       "**_Safe Harbor Statement_** __\n",
       "\n",
       "_This press release includes forward-looking statements within the meaning of\n",
       "Section 21E of the Securities Exchange Act of 1934 that involve uncertainties\n",
       "and risks, including statements related to our expectations regarding this\n",
       "acquisition...</td>\n",
       "      <td>HONG KONG, Oct.2, 2012  PRNewswire      the company  , the global business advisory firm dedicated to helping organisations protect and enhance their enterprise value, today announced that it has concluded the acquisition of the assets of KordaMentha (Qld) (KMQ), a corporate finance advisory and restructuring firm headquartered in Brisbane, Australia, and the Gold Coast.This announcement follows the completion of definitive documentation and customary closing conditions.The acquisition will significantly expand the presence and service offerings of  the company  in Australia, adding nearly 70 professionals, including seven senior managing directors and three managing directors.The KMQ business now will operate as  the company.As part of  the company , the two business units of KMQ, KMQ Insolvency and 22 Capital, have been integrated into the company's Corporate Finance Restructuring practice and will be a driver to build out other service lines and augment existing Australian businesses.About  the company   the company  is a global business advisory firm dedicated to helping organisations protect and enhance enterprise value in an increasingly complex legal, regulatory and economic environment.With more than 3,800 employees located in 24 countries,  the company  professionals work closely with clients to anticipate, illuminate and overcome complex business challenges in areas such as investigations, litigation, mergers and acquisitions, regulatory issues, reputation management, strategic communications and restructuring.The company generated $1.56 billion in revenues during fiscal year 2011._Safe Harbor Statement_.__ _This press release includes forward looking statements within the meaning of Section 21E of the Securities Exchange Act of 1934 that involve uncertainties and risks, including statements related to our expectations regarding this acquisition.There can be no assurance that the performance of the acquired business will not differ from the company's e...</td>\n",
       "    </tr>\n",
       "    <tr>\n",
       "      <th>2961087</th>\n",
       "      <td>MCLEAN, Va., Oct. 2, 2012 /PRNewswire/ -- Gladstone Commercial Corporation\n",
       "(NASDAQ: GOOD) (the \"Company\") reported today that it borrowed $34.0 million,\n",
       "through certain of its wholly-owned subsidiaries, pursuant to a long-term note\n",
       "payable from KeyBank National Association, which is collateralized by security\n",
       "interests in seven of its properties. The note accrues interest at a rate of\n",
       "4.86% per year and has a maturity date of October 1, 2022. The Company used\n",
       "the proceeds of the note, along with existing cash on hand, to repay its $45.3\n",
       "million mortgage, which, with extension options, was due October 1, 2013. The\n",
       "Company repaid the mortgage in full on October 1, 2012 without incurring any\n",
       "exit fees.\n",
       "\n",
       "(Logo: http://photos.prnewswire.com/prnh/20101005/GLADSTONECOMMERCIAL )\n",
       "\n",
       "\"We are excited to have completed the refinancing of the largest mortgage loan\n",
       "on our balance sheet. This long term loan will allow us to continue our path\n",
       "of growth for 2012 and 2013,\" said David Gladstone, the Chief Executive\n",
       "Officer of the Company.\n",
       "\n",
       "Gladstone Commercial Corporation is a real estate investment trust (\"REIT\")\n",
       "that invests in and owns net leased industrial, commercial and retail real\n",
       "property and selectively makes long-term industrial and commercial mortgage\n",
       "loans. The Company currently owns 78 properties. The Company has paid 93\n",
       "consecutive monthly cash distributions on its common stock. Prior to paying\n",
       "distributions on a monthly basis, the Company paid five consecutive quarterly\n",
       "cash distributions. The Company has paid 81 consecutive monthly cash\n",
       "distributions on its Series A preferred stock, 72 consecutive monthly cash\n",
       "distributions on its Series B preferred stock, 29 consecutive monthly cash\n",
       "distributions on its Senior Common Stock and 8 consecutive monthly cash\n",
       "distributions on its Series C preferred stock. The Company has never skipped,\n",
       "reduced or deferred a monthly distribution since inception, over eight years\n",
       "ago. Additional information can be found at www.gladstonecom...</td>\n",
       "      <td>MCLEAN, Va., Oct.2, 2012  PRNewswire      the company   (the \"Company\") reported today that it borrowed $34.0 million, through certain of its wholly owned subsidiaries, pursuant to a long term note payable from KeyBank National Association, which is collateralized by security interests in seven of its properties.The note accrues interest at a rate of 4.86% per year and has a maturity.The Company used the proceeds of the note, along with existing cash on hand, to repay its $45.3 million mortgage, which, with extension options, was.The Company repaid the mortgage in full  without incurring any exit fees.This long term loan will allow us to continue our path of growth for 2012 and 2013,\" said David Gladstone, the Chief Executive Officer of the Company.the company  is a real estate investment trust (\"REIT\") that invests in and owns net leased industrial, commercial and retail real property and selectively makes long term industrial and commercial mortgage loans.The Company currently owns 78 properties.The Company has paid 93 consecutive monthly cash distributions on its common stock.Prior to paying distributions on a monthly basis, the Company paid five consecutive quarterly cash distributions.The Company has paid 81 consecutive monthly cash distributions on its Series A preferred stock, 72 consecutive monthly cash distributions on its Series B preferred stock, 29 consecutive monthly cash distributions on its Senior Common Stock and 8 consecutive monthly cash distributions on its Series C preferred stock.The Company has never skipped, reduced or deferred a monthly distribution since inception, over eight years ago._All statements in this press release regarding the longer term prospects of the Company may constitute \"forward looking statements\" within the meaning of Section 27A of the Securities Act of 1933, as amended, and Section 21E of the Securities Exchange Act of 1934, as amended.These forward looking statements inherently involve risks although they are based...</td>\n",
       "    </tr>\n",
       "  </tbody>\n",
       "</table>\n",
       "</div>"
      ],
      "text/plain": [
       "                                                                                                                                                                                                                                                                                                                                                                                                                                                                                                                                                                                                                                                                                                                                                                                                                                                                                                                                                                                                                                                                                                                                                                                                                                                                                                                                                                                                                                                                                                                                                                                                                                                                                                                                                                                                                                                                                                                                                                                                                                                                                                body  \\\n",
       "__null_dask_index__                                                                                                                                                                                                                                                                                                                                                                                                                                                                                                                                                                                                                                                                                                                                                                                                                                                                                                                                                                                                                                                                                                                                                                                                                                                                                                                                                                                                                                                                                                                                                                                                                                                                                                                                                                                                                                                                                                                                                                                                                                                                                    \n",
       "2960985                                                                                                                                 CHICAGO--(BUSINESS WIRE)--\n",
       "\n",
       "Northern Trust Corporation announced today that it will webcast its third\n",
       "quarter 2012 earnings conference call live on Wednesday, October 17, 2012. The\n",
       "webcast will be accessible on Northern Trust's web site:\n",
       "www.northerntrust.com/financialreleases.\n",
       "\n",
       "The call will be conducted at 11 a.m. CT, following the release that morning\n",
       "of Northern Trust's third quarter 2012 earnings press release. A replay of the\n",
       "webcast will be available for approximately four weeks after the date of the\n",
       "call.\n",
       "\n",
       "Participants will need Windows Media or Adobe Flash software, which may be\n",
       "downloaded free at Northern Trust's web site. Northern Trust's third quarter\n",
       "2012 earnings press release and presentation materials referred to on the\n",
       "conference call also will be made available at the above web address.\n",
       "\n",
       "**About Northern Trust**\n",
       "\n",
       "Northern Trust Corporation (Nasdaq: NTRS) is a leading provider of investment\n",
       "management, asset and fund administration, banking solutions and fiduciary\n",
       "services for corporations, institutions and affluent individuals worldwide.\n",
       "Northern Trust, a financial holding company based in Chicago, has offices in\n",
       "18 U.S. states and 16 international locations in North America, Europe, the\n",
       "Middle East and the Asia-Pacific region. As of June 30, 2012, Northern Trust\n",
       "had assets under custody of US$4.6 trillion, and assets under investment\n",
       "management of US$704.3 billion. For more than 120 years, Northern Trust has\n",
       "earned distinction as an industry leader in combining exceptional service and\n",
       "expertise with innovative products and technology. For more information, visit\n",
       "www.northerntrust.com or follow us on Twitter @NorthernTrust.\n",
       "\n",
       "Northern Trust Corporation  \n",
       " _Investor Contact:_  \n",
       "Bev Fleming, (312) 444-7811  \n",
       "Beverly_Fleming@ntrs.com  \n",
       "or  \n",
       " _Media Contact:_  \n",
       "Doug Holt, (312) 557-1571  \n",
       "Doug_Holt@ntrs.com  \n",
       "http://www.northerntrust.com\n",
       "\n",
       "   \n",
       "2960990              CHICAGO--(BUSINESS WIRE)--\n",
       "\n",
       "Hyatt Hotels Corporation (NYSE: H) announced today that a Hyatt affiliate has\n",
       "entered into a management agreement with Dilony S.A. for a new Hyatt hotel in\n",
       "Montevideo, Uruguay. Hyatt Montevideo will mark the first Hyatt-branded hotel\n",
       "in Uruguay, bringing the total number of announced Hyatt-branded hotels under\n",
       "development in Latin America to 14.\n",
       "\n",
       "Hyatt Montevideo will be the first Hyatt-branded hotel in Uruguay. (C) WSW\n",
       "Montevideo\n",
       "\n",
       "“We are excited to work with Dilony S.A. on the first Hyatt-branded hotel in\n",
       "Uruguay,” said Pat McCudden, Senior Vice President, Real Estate and\n",
       "Development, Hyatt Hotels & Resorts. “This project is an important step in our\n",
       "broader plans to establish Hyatt properties in all of the major gateway and\n",
       "capital cities in Latin America, and we believe that the Hyatt brand and the\n",
       "excellent location of the hotel in Montevideo will have strong appeal to\n",
       "business and leisure travelers visiting the region.”\n",
       "\n",
       "Expected to open in 2015, Hyatt Montevideo will be situated along the Rambla\n",
       "Republica del Peru, a major thoroughfare along the coastline of Montevideo.\n",
       "Located in the city's Pocitos neighborhood, the hotel will be in close\n",
       "proximity to many of area's business and leisure districts, including Ciudad\n",
       "Vieja, the World Trade Center and the Montevideo Shopping Center.\n",
       "Additionally, Carrasco International Airport is easily accessible from the\n",
       "hotel.\n",
       "\n",
       "Hyatt Montevideo will offer 167 guestrooms, including 14 suites, which will\n",
       "range in size from 484 sq ft (45 sq m) to 861 sq ft (80 sq m). The hotel will\n",
       "also offer an all-day dining restaurant, a lobby lounge, a fitness center, an\n",
       "indoor pool, and more than 6,200 sq ft (585 sq m) of meeting and event space.\n",
       "\n",
       "“We are pleased to work with Hyatt on the first Hyatt-branded hotel in\n",
       "Uruguay,” said Arq. Daniel Weiss, President of Dilony S.A. and Director of\n",
       "Weiss Sztryk Weiss, the developer group. “We appreciate Hyatt's commitment to\n",
       "providing authentic hospitality to its gues...   \n",
       "2960991              FRISCO, Texas--(BUSINESS WIRE)--\n",
       "\n",
       "Conifer Health Solutions, LLC, a subsidiary of **** Tenet Healthcare\n",
       "Corporation (NYSE: THC) and a leader in business process management solutions\n",
       "for healthcare providers, has established an annual scholarship program to\n",
       "recognize Health Information Management (HIM) students who demonstrate an\n",
       "outstanding commitment to community service. Conifer Health has committed\n",
       "$7,000 annually in scholarship funds to the American Health Information\n",
       "Management Association (AHIMA) Foundation for five years.\n",
       "\n",
       "Conifer Health established the educational scholarships to encourage\n",
       "participation in community service and service learning projects that focus on\n",
       "enhancing rural and underserved communities. The scholarships are part of\n",
       "Conifer Health's overall corporate social responsibility (CSR) program, which\n",
       "allows the company, its employees and its clients to support their communities\n",
       "through charitable organizations like Habitat for Humanity, March of Dimes and\n",
       "the American Heart Association.\n",
       "\n",
       "“Conifer Health believes social responsibility should be cultivated into the\n",
       "education process,” said Paula Lawlor, vice president of Hospital Operations\n",
       "for Conifer Health Solutions. \"With these scholarships, Conifer is granting\n",
       "opportunities for health information students to make a difference in their\n",
       "communities.”\n",
       "\n",
       "The AHIMA Foundation annually offers merit scholarships to outstanding\n",
       "currently-enrolled undergraduates in HIM and health information technology\n",
       "(HIT), as well as to professionals pursuing graduate degrees in areas related\n",
       "to health information.\n",
       "\n",
       "There are four levels of scholarships offered:\n",
       "\n",
       "  1. Associate's degree - $1,000 award for students pursuing a Commission on Accreditation for Health Informatics and Information Management Education (CAHIIM) accredited AA degree in HIM or HIT \n",
       "  2. Bachelor's degree/Post-Baccalaureate certificate - $1,500 award for students pursuing a CAHIIM accredited BA/BS degree or a Post-Baccalaureate certifica...   \n",
       "2961017              MAUMEE, Ohio, Oct. 2, 2012 /PRNewswire/ -- Dana Holding Corporation (NYSE:\n",
       "DAN) announced today it will be highlighting its full complement of driveline\n",
       "products, including front and rear axles, driveshafts, and suspension\n",
       "components for light, commercial, and off-highway vehicles during 2012 SAE\n",
       "Congress Brazil from Oct. 2-4, at the Expocenter Norte Exhibition Center, in\n",
       "Sao Paulo.\n",
       "\n",
       "\"For 65 years, Dana has been serving customers in Brazil as a leading provider\n",
       "of full-system driveline solutions for commercial- and light-vehicles in South\n",
       "America,\" said Harro Burmann, president of Dana's South America operations.\n",
       "\"We continue to produce superior products that deliver unmatched quality for\n",
       "our customers both in the Brazilian market and across the globe.\"\n",
       "\n",
       "In 2011, Dana strengthened its commitment to Brazil and the region through a\n",
       "strategic agreement that added steer axles for trucks and buses to Dana's\n",
       "product offering in South America. The agreement secured the company's\n",
       "position as the leading full-line supplier of commercial vehicle drivelines.\n",
       "\n",
       "In addition to driveline solutions, Dana will highlight its sealing and\n",
       "thermal-management technologies, which enhances vehicle performance through\n",
       "improved fuel economy, reduced emissions, and efficient heat transfer and\n",
       "shielding solutions.\n",
       "\n",
       "The company also will introduce the Spicer® Diamond Series™ driveshafts to the\n",
       "South American marketplace. These driveshafts utilize a Dana-developed process\n",
       "that fuses steel universal joints with a single, high-strength aluminum tube\n",
       "to replace the traditional all-steel, two-piece driveshafts. Compared with the\n",
       "traditional two-piece driveshaft, this proprietary manufacturing process\n",
       "outperforms conventional welding and joining, and delivers a more robust\n",
       "driveshaft with up to 40 percent weight savings, while reducing noise,\n",
       "vibration, and harshness (NVH).\n",
       "\n",
       "Dana´s roots in South America began in Brazil in 1947. Currently, Dana Brazil\n",
       "has eight major manufacturing and assembly fa...   \n",
       "2961056              KILGORE, Texas, Oct. 2, 2012 (GLOBE NEWSWIRE) -- Martin Midstream Partners\n",
       "L.P. (Nasdaq: MMLP) (\"MMLP\" or the \"Partnership\") announced today the closing\n",
       "of two separate purchase agreements with certain wholly-owned subsidiaries of\n",
       "Martin Resource Management Corporation (\"MRMC\" or the \"Parent\"), the owner of\n",
       "Martin Midstream GP LLC (the \"General Partner\"), the general partner of MMLP.\n",
       "\n",
       "In the first transaction, MMLP purchased certain specialty lubricant product\n",
       "packaging assets (the \"Packaging Assets\") from Cross Oil Refining & Marketing,\n",
       "Inc. (\"Cross\"), a wholly-owned subsidiary of the Parent. Total consideration\n",
       "for the Packaging Assets consisted of $121.8 million in cash, including\n",
       "working capital of approximately $36.8 million at closing, subject to certain\n",
       "post-closing adjustments. The purchase of the Packaging Assets was funded\n",
       "using availability under the Partnership's existing credit facility.\n",
       "\n",
       "In the second transaction, the Partnership purchased all of the remaining\n",
       "Class A equity interests in Redbird Gas Storage LLC (\"Redbird\") for $150.0\n",
       "million in cash. Redbird was formed by the Partnership and MRMC in 2011 to\n",
       "invest in Cardinal Gas Storage Partners (\"Cardinal\"). Cardinal is a joint\n",
       "venture between Redbird and Energy Capital Partners (\"ECP\") that is focused on\n",
       "the development, construction, operation and management of natural gas storage\n",
       "facilities across North America. Prior to closing, MMLP owned both a 10.7%\n",
       "Class A and a 100% Class B interest in Redbird. Redbird is now a wholly-owned\n",
       "subsidiary of MMLP which effectively owns a 38.1% fully diluted membership\n",
       "interest in Cardinal. The purchase of the remaining Class A equity interests\n",
       "in Redbird was also funded using availability under the Partnership's existing\n",
       "credit facility.\n",
       "\n",
       "In conjunction with the Redbird transaction, our General Partner has agreed to\n",
       "relinquish its right to receive the next $18.0 million in incentive\n",
       "distributions that it would otherwise be entitled to from MMLP. Additionally...   \n",
       "2961070              KILGORE, Texas, Oct. 2, 2012 (GLOBE NEWSWIRE) -- Martin Midstream Partners\n",
       "L.P. (Nasdaq: MMLP) (\"MMLP\" or the \"Partnership\") announced today that Martin\n",
       "Resource Management Corporation (the \"Parent\"), the owner of its general\n",
       "partner, has settled certain ongoing litigation with certain of its\n",
       "shareholders. The settlement, among other things, provides the Parent, its\n",
       "officers and directors with a full and final release and resolves the\n",
       "litigation styled _Scott Martin, et al. v. Martin Resource Management\n",
       "Corporation, et al_ , originally filed in the 215th Harris County Judicial\n",
       "District Court of Texas under Cause No. 2008-53948 (the \"Harris County\n",
       "Litigation\") for an undisclosed price. The settlement also resolves all of the\n",
       "other outstanding lawsuits between the parties to the Harris County\n",
       "Litigation.\n",
       "\n",
       "Additionally, the Parent repurchased all of the outstanding shares of the\n",
       "Parent owned by (i) Scott D. Martin, (ii) KCM LLC, formerly KC-Martin, LLC and\n",
       "(iii) SKM Partnership, Ltd. for an undisclosed sum.\n",
       "\n",
       "_About Martin Midstream Partners L.P._\n",
       "\n",
       "Martin Midstream Partners is a publicly traded limited partnership with a\n",
       "diverse set of operations focused primarily in the United States Gulf Coast\n",
       "region. The Partnership's primary business lines include: terminalling and\n",
       "storage services for petroleum products and by-products; NGL distribution\n",
       "services; and sulfur and sulfur-based products processing, manufacturing,\n",
       "marketing and distribution; marine transportation services for petroleum\n",
       "products and by-products. Additionally, the Partnership processes and packages\n",
       "naphthenic lubricating oils for specialty applications used in the automotive,\n",
       "energy, and petrochemical industries\n",
       "\n",
       "Additional information concerning Martin Midstream is available on its website\n",
       "at www.martinmidstream.com.\n",
       "\n",
       "_About Martin Resource Management Corporation_\n",
       "\n",
       "Martin Resource Management Corporation (MRMC) through its various subsidiaries\n",
       "is an independent provider of marketing and distribution a...   \n",
       "2961084              PEMBROKE, Bermuda--(BUSINESS WIRE)--\n",
       "\n",
       "AXIS Capital Holdings Limited (“AXIS Capital” or the “Company”) (NYSE: AXS)\n",
       "today announced that Eric Gesick has joined the Company in the new position of\n",
       "Group Chief Actuary. Mr. Gesick, who joins the Executive Committee of AXIS\n",
       "Capital in this new role, will lead the Company's actuarial function and\n",
       "provide review and oversight for all pricing and reserving activities. He will\n",
       "report directly to AXIS Capital President and CEO Albert Benchimol and will be\n",
       "based in the Company's Bermuda head office.\n",
       "\n",
       "Prior to joining AXIS Capital, Mr. Gesick served as Chief Actuarial Officer\n",
       "for PartnerRe. Mr. Gesick has over 20 years of experience in the insurance and\n",
       "reinsurance industry in the U.S., Bermuda and European markets including\n",
       "actuarial, underwriting and operational roles. Mr. Gesick is a Fellow of the\n",
       "Casualty Actuarial Society, a member of the Academy of Actuaries and holds a\n",
       "B.B.A. in Actuarial Science from the University of Wisconsin as well as a CFA\n",
       "designation.\n",
       "\n",
       "Albert Benchimol, President and Chief Executive Officer of AXIS Capital,\n",
       "commented: “I am delighted to welcome Eric to our executive team. I know him\n",
       "to be an outstanding actuary and a talented business leader, and I look\n",
       "forward to his important contributions to AXIS Capital's profitable growth.”\n",
       "\n",
       "AXIS Capital is a Bermuda-based global provider of specialty lines insurance\n",
       "and treaty reinsurance with shareholders' equity at June 30, 2012 of $5.7\n",
       "billion and locations in Bermuda, the United States, Europe, Singapore,\n",
       "Canada, Australia and Latin America. Its operating subsidiaries have been\n",
       "assigned a rating of “A+” (“Strong”) by Standard & Poor's and “A”\n",
       "(“Excellent”) by A.M. Best. AXIS Capital and AXIS Specialty Finance LLC have\n",
       "been assigned senior unsecured debt ratings of A- (stable) by Standard &\n",
       "Poor's and Baa1 (stable) by Moody's Investors Service. For more information\n",
       "about AXIS Capital, visit our website at www.axiscapital.com.\n",
       "\n",
       "**Investors:**  \n",
       "AXIS Capi...   \n",
       "2961085              CLEVELAND, Oct. 2, 2012 /PRNewswire/ -- CBIZ, Inc. (NYSE: CBZ) today announced\n",
       "that it has signed a definitive agreement to acquire Strategic Employee\n",
       "Benefit Services - The Pruett Group, Inc. (\"SEBS-Pruett\") of Nashville,\n",
       "Tennessee, effective October 1, 2012.\n",
       "\n",
       "Founded in 1984, SEBS-Pruett is an employee benefit and consulting firm\n",
       "providing mid-sized businesses with group health insurance located in\n",
       "Nashville, Tennessee, with additional offices in Chattanooga, Johnson City and\n",
       "Knoxville. The SEBS-Pruett acquisition is expected to add 36 employees and\n",
       "approximately $5.1 million to CBIZ annualized revenue.\n",
       "\n",
       "On joining CBIZ, Ken Rideout, who was appointed President, CBIZ Nashville\n",
       "Benefit & Insurance Services, stated, \"We are very excited to join the CBIZ\n",
       "organization. This new partnership will allow us to continue to focus on the\n",
       "needs of our existing clients while expanding our capabilities and services.\n",
       "Joining a world class organization such as CBIZ provides us with resources and\n",
       "stability in the face of our rapidly changing industry.\"\n",
       "\n",
       "Steven L. Gerard, CBIZ Chairman and CEO, stated, \"We are very pleased to add\n",
       "SEBS-Pruett to our growing employee services business. Under the leadership of\n",
       "Ken Rideout, we expect to expand our market penetration in this geographic\n",
       "area and provide our existing and future clients with a more comprehensive\n",
       "array of professional products and services.\"\n",
       "\n",
       "CBIZ, Inc. provides professional business services that help clients better\n",
       "manage their finances and employees. CBIZ provides its clients with financial\n",
       "services including accounting, tax and consulting, internal audit, merger and\n",
       "acquisition advisory and valuation services. Employee services include\n",
       "employee benefits consulting, property and casualty insurance, retirement plan\n",
       "consulting, payroll, life insurance, HR consulting, and executive recruitment.\n",
       "CBIZ also provides outsourced technology staffing and support services, real\n",
       "estate consulting services, healthcare consulting,...   \n",
       "2961086              HONG KONG, Oct. 2, 2012 /PRNewswire/ -- FTI Consulting, Inc. (NYSE: FCN), the\n",
       "global business advisory firm dedicated to helping organisations protect and\n",
       "enhance their enterprise value, today announced that it has concluded the\n",
       "acquisition of the assets of KordaMentha (Qld) (KMQ), a corporate finance\n",
       "advisory and restructuring firm headquartered in Brisbane, Australia, and the\n",
       "Gold Coast.\n",
       "\n",
       "This announcement follows the completion of definitive documentation and\n",
       "customary closing conditions. The acquisition will significantly expand the\n",
       "presence and service offerings of FTI Consulting in Australia, adding nearly\n",
       "70 professionals, including seven senior managing directors and three managing\n",
       "directors. The KMQ business now will operate as FTI Consulting. As part of FTI\n",
       "Consulting, the two business units of KMQ, KMQ Insolvency and 22 Capital, have\n",
       "been integrated into the company's Corporate Finance/Restructuring practice\n",
       "and will be a driver to build out other service lines and augment existing\n",
       "Australian businesses.\n",
       "\n",
       "**About FTI Consulting**\n",
       "\n",
       "FTI Consulting, Inc. is a global business advisory firm dedicated to helping\n",
       "organisations protect and enhance enterprise value in an increasingly complex\n",
       "legal, regulatory and economic environment. With more than 3,800 employees\n",
       "located in 24 countries, FTI Consulting professionals work closely with\n",
       "clients to anticipate, illuminate and overcome complex business challenges in\n",
       "areas such as investigations, litigation, mergers and acquisitions, regulatory\n",
       "issues, reputation management, strategic communications and restructuring. The\n",
       "company generated $1.56 billion in revenues during fiscal year 2011. More\n",
       "information can be found at www.fticonsulting.com.\n",
       "\n",
       "**_Safe Harbor Statement_** __\n",
       "\n",
       "_This press release includes forward-looking statements within the meaning of\n",
       "Section 21E of the Securities Exchange Act of 1934 that involve uncertainties\n",
       "and risks, including statements related to our expectations regarding this\n",
       "acquisition...   \n",
       "2961087              MCLEAN, Va., Oct. 2, 2012 /PRNewswire/ -- Gladstone Commercial Corporation\n",
       "(NASDAQ: GOOD) (the \"Company\") reported today that it borrowed $34.0 million,\n",
       "through certain of its wholly-owned subsidiaries, pursuant to a long-term note\n",
       "payable from KeyBank National Association, which is collateralized by security\n",
       "interests in seven of its properties. The note accrues interest at a rate of\n",
       "4.86% per year and has a maturity date of October 1, 2022. The Company used\n",
       "the proceeds of the note, along with existing cash on hand, to repay its $45.3\n",
       "million mortgage, which, with extension options, was due October 1, 2013. The\n",
       "Company repaid the mortgage in full on October 1, 2012 without incurring any\n",
       "exit fees.\n",
       "\n",
       "(Logo: http://photos.prnewswire.com/prnh/20101005/GLADSTONECOMMERCIAL )\n",
       "\n",
       "\"We are excited to have completed the refinancing of the largest mortgage loan\n",
       "on our balance sheet. This long term loan will allow us to continue our path\n",
       "of growth for 2012 and 2013,\" said David Gladstone, the Chief Executive\n",
       "Officer of the Company.\n",
       "\n",
       "Gladstone Commercial Corporation is a real estate investment trust (\"REIT\")\n",
       "that invests in and owns net leased industrial, commercial and retail real\n",
       "property and selectively makes long-term industrial and commercial mortgage\n",
       "loans. The Company currently owns 78 properties. The Company has paid 93\n",
       "consecutive monthly cash distributions on its common stock. Prior to paying\n",
       "distributions on a monthly basis, the Company paid five consecutive quarterly\n",
       "cash distributions. The Company has paid 81 consecutive monthly cash\n",
       "distributions on its Series A preferred stock, 72 consecutive monthly cash\n",
       "distributions on its Series B preferred stock, 29 consecutive monthly cash\n",
       "distributions on its Senior Common Stock and 8 consecutive monthly cash\n",
       "distributions on its Series C preferred stock. The Company has never skipped,\n",
       "reduced or deferred a monthly distribution since inception, over eight years\n",
       "ago. Additional information can be found at www.gladstonecom...   \n",
       "\n",
       "                                                                                                                                                                                                                                                                                                                                                                                                                                                                                                                                                                                                                                                                                                                                                                                                                                                                                                                                                                                                                                                                                                                                                                                                                                                                                                                                                                                                                                                                                                                                                                                                                                                                                                                                                                                                                                                                                                                                                                                                                                                                                         parsed_body  \n",
       "__null_dask_index__                                                                                                                                                                                                                                                                                                                                                                                                                                                                                                                                                                                                                                                                                                                                                                                                                                                                                                                                                                                                                                                                                                                                                                                                                                                                                                                                                                                                                                                                                                                                                                                                                                                                                                                                                                                                                                                                                                                                                                                                                                                                                   \n",
       "2960985                                                                                                                                                                                                                                                                                                                                                                                                                                                                                                                                                                                                                                                                            CHICAGO  (BUSINESS WIRE)    the company  announced today that it will webcast its third quarter 2012 earnings conference call live.The call will be conducted at 11 a.m.CT, following the release that morning of  the company 's third quarter 2012 earnings press release.A replay of the webcast will be available for approximately four weeks after the date of the call.Participants will need Windows Media or Adobe Flash software, which may be downloaded free at  the company 's web site.the company 's third quarter 2012 earnings press release and presentation materials referred to on the conference call also will be made available at the above web address.About  the company   the company   is a leading provider of investment management, asset and fund administration, banking solutions and fiduciary services for corporations, institutions and affluent individuals worldwide.the company , a financial holding company based in Chicago, has offices in 18 U.S.states and 16 international locations in North America, Europe, the Middle East and the Asia Pacific region.As ,  the company  had assets under custody of US$4.6 trillion, and assets under investment management of US$704.3 billion.For more than 120 years,  the company  has earned distinction as an industry leader in combining exceptional service and expertise with innovative products and technology  \n",
       "2960990              CHICAGO  (BUSINESS WIRE)    the company   announced today that a Hyatt affiliate has entered into a management agreement with Dilony S.A.for a new Hyatt hotel in Montevideo, Uruguay.Hyatt Montevideo will mark the first Hyatt branded hotel in Uruguay, bringing the total number of announced Hyatt branded hotels under development in Latin America to 14.Hyatt Montevideo will be the first Hyatt branded hotel in Uruguay.(C) WSW Montevideo “We are excited to work with Dilony S.A.on the first Hyatt branded hotel in Uruguay,” said Pat McCudden, Senior Vice President, Real Estate and Development,  the company  & Resorts.“This project is an important step in our broader plans to establish Hyatt properties in all of the major gateway and capital cities in Latin America, and we believe that the Hyatt brand and the excellent location of the hotel in Montevideo will have strong appeal to business and leisure travelers visiting the region.” Expected to open in 2015, Hyatt Montevideo will be situated along the Rambla Republica del Peru, a major thoroughfare along the coastline of Montevideo.Located in the city's Pocitos neighborhood, the hotel will be in close proximity to many of area's business and leisure districts, including Ciudad Vieja, the World Trade Center and the Montevideo Shopping Center.Additionally, Carrasco International Airport is easily accessible from the hotel.Hyatt Montevideo will offer 167 guestrooms, including 14 suites, which will range in size from 484 sq ft (45 sq m) to 861 sq ft (80 sq m).The hotel will also offer an all day dining restaurant, a lobby lounge, a fitness center, an indoor pool, and more than 6,200 sq ft (585 sq m) of meeting and event space.“We are pleased to work with Hyatt on the first Hyatt branded hotel in Uruguay,” said Arq.Daniel Weiss, President of Dilony S.A.and Director of Weiss Sztryk Weiss, the developer group.“We appreciate Hyatt's commitment to providing authentic hospitality to its guests, and we believe Hyatt Montevideo's e...  \n",
       "2960991              FRISCO, Texas  (BUSINESS WIRE)   Conifer Health Solutions, LLC, a subsidiary of.the company   and a leader in business process management solutions for healthcare providers, has established an annual scholarship program to recognize Health Information Management (HIM) students who demonstrate an outstanding commitment to community service.Conifer Health has committed $7,000 annually in scholarship funds to the American Health Information Management Association (AHIMA) Foundation for five years.Conifer Health established the educational scholarships to encourage participation in community service and service learning projects that focus on enhancing rural and underserved communities.The scholarships are part of Conifer Health's overall corporate social responsibility (CSR) program, which allows the company, its employees and its clients to support their communities through charitable organizations like Habitat for Humanity, March of Dimes and the American Heart Association.“Conifer Health believes social responsibility should be cultivated into the education process,” said Paula Lawlor, vice president of Hospital Operations for Conifer Health Solutions.\"With these scholarships, Conifer is granting opportunities for health information students to make a difference in their communities.” The AHIMA Foundation annually offers merit scholarships to outstanding currently enrolled undergraduates in HIM and health information technology (HIT), as well as to professionals pursuing graduate degrees in areas related to health information.There are four levels of scholarships offered:   1.Associate's degree   $1,000 award for students pursuing a Commission on Accreditation for Health Informatics and Information Management Education (CAHIIM) accredited AA degree in HIM or HIT    2.Bachelor's degree Post Baccalaureate certificate   $1,500 award for students pursuing a CAHIIM accredited BA BS degree or a Post Baccalaureate certificate in HIM or HIT    3.Master's degree   $2,000...  \n",
       "2961017              MAUMEE, Ohio, Oct.2, 2012  PRNewswire      the company  Holding Corporation  announced today it will be highlighting its full complement of driveline products, including front and rear axles, driveshafts, and suspension components for light, commercial, and off highway vehicles during 2012 SAE Congress Brazil from Oct.2 4, at the Expocenter Norte Exhibition Center, in Sao Paulo.\"For 65 years,  the company  has been serving customers in Brazil as a leading provider of full system driveline solutions for commercial  and light vehicles in South America,\" said Harro Burmann, president of  the company 's South America operations.\"We continue to produce superior products that deliver unmatched quality for our customers both in the Brazilian market and across the globe.\" In 2011,  the company  strengthened its commitment to Brazil and the region through a strategic agreement that added steer axles for trucks and buses to  the company 's product offering in South America.The agreement secured the company's position as the leading full line supplier of commercial vehicle drivelines.In addition to driveline solutions,  the company  will highlight its sealing and thermal management technologies, which enhances vehicle performance through improved fuel economy, reduced emissions, and efficient heat transfer and shielding solutions.The company also will introduce the Spicer® Diamond Series™ driveshafts to the South American marketplace.These driveshafts utilize a  the company  developed process that fuses steel universal joints with a single, high strength aluminum tube to replace the traditional all steel, two piece driveshafts.Compared with the traditional two piece driveshaft, this proprietary manufacturing process outperforms conventional welding and joining, and delivers a more robust driveshaft with up to 40 percent weight savings, while reducing noise, vibration, and harshness (NVH).the company ´s roots in South America began in Brazil in 1947.Currently,  the company ...  \n",
       "2961056              KILGORE, Texas, Oct.2, 2012 (GLOBE NEWSWIRE)     the company   (\"MMLP\" or the \"Partnership\") announced today the closing of two separate purchase agreements with certain wholly owned subsidiaries of Martin Resource Management Corporation (\"MRMC\" or the \"Parent\"), the owner of Martin Midstream GP LLC (the \"General Partner\"), the general partner of MMLP.In the first transaction, MMLP purchased certain specialty lubricant product packaging assets (the \"Packaging Assets\") from Cross Oil Refining & Marketing, Inc.(\"Cross\"), a wholly owned subsidiary of the Parent.Total consideration for the Packaging Assets consisted of $121.8 million in cash, including working capital of approximately $36.8 million at closing, subject to certain post closing adjustments.The purchase of the Packaging Assets was funded using availability under the Partnership's existing credit facility.In the second transaction, the Partnership purchased all of the remaining Class A equity interests in Redbird Gas Storage LLC (\"Redbird\") for $150.0 million in cash.Redbird was formed by the Partnership and MRMC in 2011 to invest in Cardinal Gas Storage Partners (\"Cardinal\").Cardinal is a joint venture between Redbird and Energy Capital Partners (\"ECP\") that is focused on the development, construction, operation and management of natural gas storage facilities across North America.Prior to closing, MMLP owned both a 10.7% Class A and a 100% Class B interest in Redbird.Redbird is now a wholly owned subsidiary of MMLP which effectively owns a 38.1% fully diluted membership interest in Cardinal.The purchase of the remaining Class A equity interests in Redbird was also funded using availability under the Partnership's existing credit facility.In conjunction with the Redbird transaction, our General Partner has agreed to relinquish its right to receive the next $18.0 million in incentive distributions that it would otherwise be entitled to from MMLP.Additionally, our General Partner has agreed to relinquish ...  \n",
       "2961070              KILGORE, Texas, Oct.2, 2012 (GLOBE NEWSWIRE)     the company   (\"MMLP\" or the \"Partnership\") announced today that Martin Resource Management Corporation (the \"Parent\"), the owner of its general partner, has settled certain ongoing litigation with certain of its shareholders.The settlement, among other things, provides the Parent, its officers and directors with a full and final release and resolves the litigation styled _Scott Martin, et al.v.Martin Resource Management Corporation, et al_ , originally filed in the 215th Harris County Judicial District Court of Texas under Cause No.2008 53948 (the \"Harris County Litigation\") for an undisclosed price.The settlement also resolves all of the other outstanding lawsuits between the parties to the Harris County Litigation.Additionally, the Parent repurchased all of the outstanding shares of the Parent owned by (i) Scott D.Martin, (ii) KCM LLC, formerly KC Martin, LLC and (iii) SKM Partnership, Ltd.for an undisclosed sum._About  the company _ Martin Midstream Partners is a publicly traded limited partnership with a diverse set of operations focused primarily in the United States Gulf Coast region.The Partnership's primary business lines include: terminalling and storage services for petroleum products and by products; NGL distribution services; and sulfur and sulfur based products processing, manufacturing, marketing and distribution; marine transportation services for petroleum products and by products._About Martin Resource Management Corporation_ Martin Resource Management Corporation (MRMC) through its various subsidiaries is an independent provider of marketing and distribution and transportation of hydrocarbon products and by products including molten sulfur, sulfur based derivatives, fuel oil, natural gas liquids (NGLs), asphalt, paper mill liquids, and other bulk tank liquids.In addition, the Company manufactures and markets processed sulfur products including fertilizer and emulsified sulfur.Additionally, the C...  \n",
       "2961084                                                                                                                                                                                                  PEMBROKE, Bermuda  (BUSINESS WIRE)    the company  (“AXIS Capital” or the “Company”)  today announced that Eric Gesick has joined the Company in the new position of Group Chief Actuary.Mr.Gesick, who joins the Executive Committee of AXIS Capital in this new role, will lead the Company's actuarial function and provide review and oversight for all pricing and reserving activities.He will report directly to AXIS Capital President and CEO Albert Benchimol and will be based in the Company's Bermuda head office.Prior to joining AXIS Capital, Mr.Gesick served as Chief Actuarial Officer for PartnerRe.Mr.Gesick has over 20 years of experience in the insurance and reinsurance industry in the U.S., Bermuda and European markets including actuarial, underwriting and operational roles.Mr.Gesick is a Fellow of the Casualty Actuarial Society, a member of the Academy of Actuaries and holds a B.B.A.in Actuarial Science from the University of Wisconsin as well as a CFA designation.Albert Benchimol, President and Chief Executive Officer of AXIS Capital, commented: “I am delighted to welcome Eric to our executive team.I know him to be an outstanding actuary and a talented business leader, and I look forward to his important contributions to AXIS Capital's profitable growth.” AXIS Capital is a Bermuda based global provider of specialty lines insurance and treaty reinsurance with shareholders' equity  $5.7 billion and locations in Bermuda, the United States, Europe, Singapore, Canada, Australia and Latin America.Its operating subsidiaries have been assigned a rating of “A+” (“Strong”) by Standard & Poor's and “A” (“Excellent”) by A.M.Best.AXIS Capital and AXIS Specialty Finance LLC have been assigned senior unsecured debt ratings of A  (stable) by Standard & Poor's and Baa1 (stable) by Moody's Investors Service  \n",
       "2961085              CLEVELAND, Oct.2, 2012  PRNewswire      the company   today announced that it has signed a definitive agreement to acquire Strategic Employee Benefit Services   The Pruett Group, Inc.(\"SEBS Pruett\") of Nashville, Tennessee, effective.Founded in 1984, SEBS Pruett is an employee benefit and consulting firm providing mid sized businesses with group health insurance located in Nashville, Tennessee, with additional offices in Chattanooga, Johnson City and Knoxville.The SEBS Pruett acquisition is expected to add 36 employees and approximately $5.1 million to  the company  annualized revenue.On joining  the company , Ken Rideout, who was appointed President,  the company  Nashville Benefit & Insurance Services, stated, \"We are very excited to join the  the company  organization.This new partnership will allow us to continue to focus on the needs of our existing clients while expanding our capabilities and services.Joining a world class organization such as  the company  provides us with resources and stability in the face of our rapidly changing industry.\" Steven L.Gerard,  the company  Chairman and CEO, stated, \"We are very pleased to add SEBS Pruett to our growing employee services business.Under the leadership of Ken Rideout, we expect to expand our market penetration in this geographic area and provide our existing and future clients with a more comprehensive array of professional products and services.\"  the company  provides professional business services that help clients better manage their finances and employees.the company  provides its clients with financial services including accounting, tax and consulting, internal audit, merger and acquisition advisory and valuation services.Employee services include employee benefits consulting, property and casualty insurance, retirement plan consulting, payroll, life insurance, HR consulting, and executive recruitment.the company  also provides outsourced technology staffing and support services, real estate consulting...  \n",
       "2961086              HONG KONG, Oct.2, 2012  PRNewswire      the company  , the global business advisory firm dedicated to helping organisations protect and enhance their enterprise value, today announced that it has concluded the acquisition of the assets of KordaMentha (Qld) (KMQ), a corporate finance advisory and restructuring firm headquartered in Brisbane, Australia, and the Gold Coast.This announcement follows the completion of definitive documentation and customary closing conditions.The acquisition will significantly expand the presence and service offerings of  the company  in Australia, adding nearly 70 professionals, including seven senior managing directors and three managing directors.The KMQ business now will operate as  the company.As part of  the company , the two business units of KMQ, KMQ Insolvency and 22 Capital, have been integrated into the company's Corporate Finance Restructuring practice and will be a driver to build out other service lines and augment existing Australian businesses.About  the company   the company  is a global business advisory firm dedicated to helping organisations protect and enhance enterprise value in an increasingly complex legal, regulatory and economic environment.With more than 3,800 employees located in 24 countries,  the company  professionals work closely with clients to anticipate, illuminate and overcome complex business challenges in areas such as investigations, litigation, mergers and acquisitions, regulatory issues, reputation management, strategic communications and restructuring.The company generated $1.56 billion in revenues during fiscal year 2011._Safe Harbor Statement_.__ _This press release includes forward looking statements within the meaning of Section 21E of the Securities Exchange Act of 1934 that involve uncertainties and risks, including statements related to our expectations regarding this acquisition.There can be no assurance that the performance of the acquired business will not differ from the company's e...  \n",
       "2961087              MCLEAN, Va., Oct.2, 2012  PRNewswire      the company   (the \"Company\") reported today that it borrowed $34.0 million, through certain of its wholly owned subsidiaries, pursuant to a long term note payable from KeyBank National Association, which is collateralized by security interests in seven of its properties.The note accrues interest at a rate of 4.86% per year and has a maturity.The Company used the proceeds of the note, along with existing cash on hand, to repay its $45.3 million mortgage, which, with extension options, was.The Company repaid the mortgage in full  without incurring any exit fees.This long term loan will allow us to continue our path of growth for 2012 and 2013,\" said David Gladstone, the Chief Executive Officer of the Company.the company  is a real estate investment trust (\"REIT\") that invests in and owns net leased industrial, commercial and retail real property and selectively makes long term industrial and commercial mortgage loans.The Company currently owns 78 properties.The Company has paid 93 consecutive monthly cash distributions on its common stock.Prior to paying distributions on a monthly basis, the Company paid five consecutive quarterly cash distributions.The Company has paid 81 consecutive monthly cash distributions on its Series A preferred stock, 72 consecutive monthly cash distributions on its Series B preferred stock, 29 consecutive monthly cash distributions on its Senior Common Stock and 8 consecutive monthly cash distributions on its Series C preferred stock.The Company has never skipped, reduced or deferred a monthly distribution since inception, over eight years ago._All statements in this press release regarding the longer term prospects of the Company may constitute \"forward looking statements\" within the meaning of Section 27A of the Securities Act of 1933, as amended, and Section 21E of the Securities Exchange Act of 1934, as amended.These forward looking statements inherently involve risks although they are based...  "
      ]
     },
     "execution_count": 62,
     "metadata": {},
     "output_type": "execute_result"
    }
   ],
   "source": [
    "ddf[[\"body\", \"parsed_body\"]].tail(10)"
   ]
  },
  {
   "cell_type": "markdown",
   "metadata": {
    "id": "Ihzi516YMNGv"
   },
   "source": [
    "## Filtern von Newstiteln"
   ]
  },
  {
   "cell_type": "code",
   "execution_count": null,
   "metadata": {
    "id": "cdbc2yRqMNGv"
   },
   "outputs": [],
   "source": []
  },
  {
   "cell_type": "markdown",
   "metadata": {
    "id": "v1DIhhqZMNGv"
   },
   "source": [
    "## Voranstellen von gefilterten Newstiteln an Nachrichtenkörper"
   ]
  },
  {
   "cell_type": "code",
   "execution_count": null,
   "metadata": {
    "id": "rFEujkJ-MNGw"
   },
   "outputs": [],
   "source": []
  },
  {
   "cell_type": "markdown",
   "metadata": {},
   "source": [
    "# Analyse"
   ]
  },
  {
   "cell_type": "markdown",
   "metadata": {
    "id": "GaK5pLz4mRHF"
   },
   "source": [
    "## Durschnittlichen Tokenlänge"
   ]
  },
  {
   "cell_type": "code",
   "execution_count": null,
   "metadata": {},
   "outputs": [],
   "source": []
  },
  {
   "cell_type": "markdown",
   "metadata": {},
   "source": [
    "### Timedeltas zwischen Nachrichtenmeldungen"
   ]
  },
  {
   "cell_type": "code",
   "execution_count": null,
   "metadata": {},
   "outputs": [],
   "source": [
    "import plotly.express as px\n"
   ]
  },
  {
   "cell_type": "code",
   "execution_count": null,
   "metadata": {},
   "outputs": [],
   "source": [
    "ddf = pd.read_parquet(config.data.benzinga.cleaned)"
   ]
  },
  {
   "cell_type": "code",
   "execution_count": null,
   "metadata": {},
   "outputs": [],
   "source": [
    "ddf = ddf.sort_values(\"time\")\n",
    "tmp = ddf[[\"time\", \"stocks\"]]\n",
    "#### Adding timedeltas to the data frame\n",
    "news_timedeltas = tmp.groupby(\"stocks\").transform(lambda x: x.diff())\n",
    "ddf.loc[:, \"timedelta\"] = news_timedeltas.time.fillna(pd.Timedelta(days=100))"
   ]
  },
  {
   "cell_type": "code",
   "execution_count": null,
   "metadata": {},
   "outputs": [],
   "source": [
    "news_timedeltas = ddf.timedelta\n",
    "news_timedeltas.iloc[0].components\n",
    "timedelta_in_minutes = news_timedeltas.apply(lambda x: x.total_seconds() / 60)\n",
    "px.histogram(timedelta_in_minutes)"
   ]
  },
  {
   "cell_type": "code",
   "execution_count": null,
   "metadata": {
    "id": "VG5rnSiNpWVN"
   },
   "outputs": [],
   "source": []
  },
  {
   "cell_type": "code",
   "execution_count": null,
   "metadata": {
    "id": "8mc6lpRCpfVT"
   },
   "outputs": [],
   "source": []
  }
 ],
 "metadata": {
  "colab": {
   "machine_shape": "hm",
   "provenance": [],
   "toc_visible": true
  },
  "kernelspec": {
   "display_name": "Python 3 (ipykernel)",
   "language": "python",
   "name": "python3"
  },
  "language_info": {
   "codemirror_mode": {
    "name": "ipython",
    "version": 3
   },
   "file_extension": ".py",
   "mimetype": "text/x-python",
   "name": "python",
   "nbconvert_exporter": "python",
   "pygments_lexer": "ipython3",
   "version": "3.8.10"
  }
 },
 "nbformat": 4,
 "nbformat_minor": 4
}
