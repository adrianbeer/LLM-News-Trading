{
 "cells": [
  {
   "cell_type": "code",
   "execution_count": null,
   "metadata": {},
   "outputs": [],
   "source": [
    "import torch\n",
    "from util import MyBertModel\n",
    "from neural_net import validation_dataloader, test_dat\n",
    "from util import predict\n",
    "import numpy as np\n",
    "import pandas as pd\n",
    "import time\n",
    "import plotly.graph_objects as go\n",
    "import plotly.express as px\n",
    "from config import TARGET_COL_NAME"
   ]
  },
  {
   "cell_type": "code",
   "execution_count": null,
   "metadata": {},
   "outputs": [],
   "source": [
    "model = MyBertModel()\n",
    "\n",
    "#Later to restore:\n",
    "model.load_state_dict(torch.load(\"data/model\"))\n",
    "model.eval()\n",
    "\n",
    "if torch.cuda.is_available():       \n",
    "    device = torch.device(\"cuda\")\n",
    "    print(\"Using GPU.\")\n",
    "else:\n",
    "    print(\"No GPU available, using the CPU instead.\")\n",
    "    device = torch.device(\"cpu\")\n",
    "model.to(device)\n",
    "\n",
    "\n",
    "start = time.time()\n",
    "y_pred_scaled = predict(model, validation_dataloader, device)\n",
    "\n",
    "\n",
    "test_dat.loc[:, \"Fcst\"] = y_pred_scaled\n",
    "\n",
    "end = time.time()\n",
    "print(f\"{start-end:.2f}s\")\n",
    "\n",
    "\n",
    "def get_metrics(y, y_hat):\n",
    "    mae = np.abs(y_hat - y).mean()\n",
    "    rw_mae =  (np.abs(y)).mean()\n",
    "    TP = ((y_hat > 0)  & (y > 0)).mean()\n",
    "    TN = ((y_hat < 0)  & (y < 0)).mean()\n",
    "    return mae, rw_mae, TP, TN\n",
    "\n"
   ]
  },
  {
   "attachments": {},
   "cell_type": "markdown",
   "metadata": {},
   "source": [
    "# Regression Task Performance"
   ]
  },
  {
   "cell_type": "code",
   "execution_count": null,
   "metadata": {},
   "outputs": [],
   "source": [
    "test_labels = test_dat.loc[:, TARGET_COL_NAME].tolist()\n",
    "\n",
    "print(f\"Length of evaluation set: {len(y_pred_scaled)}\")\n",
    "print(\"Vanilla results:\")\n",
    "y_hat = y_pred_scaled\n",
    "y = np.array(test_labels)\n",
    "assert len(y_hat) == len(y)\n",
    "\n",
    "mae, rw_mae, TP, TN = get_metrics(y_hat, y)\n",
    "metrics_dict = dict(mae=[mae], mae_rw=[rw_mae], TP=[TP], TN=[TN])\n",
    "metrics_df = pd.DataFrame.from_dict(metrics_dict)\n",
    "print(metrics_df)\n",
    "\n",
    "\n",
    "pred_margin_mask = np.abs(y_pred_scaled) >= 0.02\n",
    "\n",
    "print(f\"\\nWith prediction margin mask:\")\n",
    "y_hat = y_pred_scaled[pred_margin_mask]\n",
    "y = np.array(test_labels)[pred_margin_mask]\n",
    "print(f\"\\nLength of prediction margin masked evaluation set: {len(y_hat)}\")\n",
    "mae, rw_mae, TP, TN = get_metrics(y_hat, y)\n",
    "metrics_dict = dict(mae=[mae], mae_rw=[rw_mae], TP=[TP], TN=[TN])\n",
    "metrics_df = pd.DataFrame.from_dict(metrics_dict)\n",
    "print(metrics_df)\n",
    "\n"
   ]
  },
  {
   "cell_type": "code",
   "execution_count": null,
   "metadata": {},
   "outputs": [],
   "source": [
    "##############\n",
    "# Import stocks\n",
    "stocks = pd.read_pickle(\"data/stocks.pkl\").reset_index()\n",
    "# TODO: Do same transformations as import in asset_data_preprocessor\n"
   ]
  },
  {
   "attachments": {},
   "cell_type": "markdown",
   "metadata": {},
   "source": [
    "# Analysis of single forecast: "
   ]
  },
  {
   "cell_type": "code",
   "execution_count": null,
   "metadata": {},
   "outputs": [],
   "source": [
    "idx = 8\n",
    "tmp = test_dat.loc[pred_margin_mask]\n",
    "row = tmp.iloc[idx, :]\n",
    "print(row)\n",
    "# print(f\"Fcst: {row.Fcst}\")\n",
    "# print(f\"Target: {row.IntradayReturn}\")\n",
    "\n",
    "print(row.body[:750])\n",
    "pr_time, ticker, fcst = row[[\"Date\", \"ID\", \"Fcst\"]]\n",
    "df = stocks.query(\"(Date >= @pr_time) & (ID == @ticker)\").head(30)\n",
    "fig = go.Figure(data=[go.Candlestick(x=df['Date'],\n",
    "                open=df['Open'],\n",
    "                high=df['High'],\n",
    "                low=df['Low'],\n",
    "                close=df['Close'])])\n",
    "fig.update_layout(xaxis_rangeslider_visible=False)\n",
    "fig.show()"
   ]
  },
  {
   "cell_type": "code",
   "execution_count": null,
   "metadata": {},
   "outputs": [],
   "source": [
    "print(row)"
   ]
  },
  {
   "attachments": {},
   "cell_type": "markdown",
   "metadata": {},
   "source": [
    "# Trading Performance"
   ]
  },
  {
   "cell_type": "code",
   "execution_count": null,
   "metadata": {},
   "outputs": [],
   "source": [
    "tmp = test_dat.loc[pred_margin_mask].dropna()"
   ]
  },
  {
   "cell_type": "code",
   "execution_count": null,
   "metadata": {},
   "outputs": [],
   "source": [
    "tmp.head()"
   ]
  },
  {
   "cell_type": "code",
   "execution_count": null,
   "metadata": {},
   "outputs": [],
   "source": [
    "trades = np.sign(tmp[\"Fcst\"])*tmp[\"CloseToCloseReturn\"]"
   ]
  },
  {
   "cell_type": "code",
   "execution_count": null,
   "metadata": {},
   "outputs": [],
   "source": [
    "trades.mean()"
   ]
  },
  {
   "cell_type": "code",
   "execution_count": null,
   "metadata": {},
   "outputs": [],
   "source": [
    "px.scatter(tmp, x=TARGET_COL_NAME, y=\"Fcst\")"
   ]
  },
  {
   "cell_type": "code",
   "execution_count": null,
   "metadata": {},
   "outputs": [],
   "source": []
  }
 ],
 "metadata": {
  "kernelspec": {
   "display_name": ".env",
   "language": "python",
   "name": "python3"
  },
  "language_info": {
   "codemirror_mode": {
    "name": "ipython",
    "version": 3
   },
   "file_extension": ".py",
   "mimetype": "text/x-python",
   "name": "python",
   "nbconvert_exporter": "python",
   "pygments_lexer": "ipython3",
   "version": "3.11.3"
  }
 },
 "nbformat": 4,
 "nbformat_minor": 2
}
