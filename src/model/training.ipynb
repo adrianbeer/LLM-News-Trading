{
  "cells": [
    {
      "cell_type": "code",
      "source": [
        "from google.colab import drive\n",
        "drive.mount('/content/drive')\n",
        "cwd=\"/content/drive/MyDrive/NewsTrading/trading_bot\"\n",
        "%cd /content/drive/MyDrive/NewsTrading/trading_bot\n",
        "%pip install -r requirements_clean.txt\n"
      ],
      "metadata": {
        "id": "6GUGkJ0V3lUT"
      },
      "execution_count": null,
      "outputs": []
    },
    {
      "cell_type": "code",
      "source": [
        "!git clone https://github.com/rapidsai/rapidsai-csp-utils.git\n",
        "!python rapidsai-csp-utils/colab/pip-install.py"
      ],
      "metadata": {
        "id": "5KXpNmtC07Ek"
      },
      "execution_count": null,
      "outputs": []
    },
    {
      "cell_type": "code",
      "source": [
        "pt_version = torch.__version__\n",
        "print(f\"[INFO] Current PyTorch version: {pt_version} (should be 2.x+)\")"
      ],
      "metadata": {
        "id": "P73cr22O4r7s",
        "outputId": "edb3396d-fcf4-49ab-db6e-3b3fe10efc20",
        "colab": {
          "base_uri": "https://localhost:8080/"
        }
      },
      "execution_count": 20,
      "outputs": [
        {
          "output_type": "stream",
          "name": "stdout",
          "text": [
            "[INFO] Current PyTorch version: 2.1.0+cu121 (should be 2.x+)\n"
          ]
        }
      ]
    },
    {
      "cell_type": "code",
      "source": [
        "import pandas as pd\n",
        "import torch\n",
        "import torch.nn as nn\n",
        "import yaml\n",
        "from dotmap import DotMap\n",
        "from torch.optim import AdamW\n",
        "from transformers import BertTokenizerFast, get_linear_schedule_with_warmup\n",
        "from src.model.data_loading import create_dataloaders, get_text_and_labels, get_data_loader_from_dataset\n",
        "\n",
        "from src.model.neural_network import (\n",
        "    TRANSFORMER_HF_ID,\n",
        "    MyBertModel,\n",
        "    WeightedSquaredLoss,\n",
        "    embed_inputs,\n",
        "    train,\n",
        ")\n",
        "\n",
        "config = DotMap(yaml.safe_load(open(\"src/config_gcs.yaml\")), _dynamic=False)\n",
        "input_col_name = config.model.input_col_name\n",
        "target_col_name = config.model.target_col_name\n",
        "\n",
        "# Settings\n",
        "FROM_SCRATCH = True\n",
        "batch_size = 16\n",
        "epochs = 3\n",
        "tokenizer = BertTokenizerFast.from_pretrained(TRANSFORMER_HF_ID)\n"
      ],
      "metadata": {
        "id": "HZjfWVr73qUs"
      },
      "execution_count": 12,
      "outputs": []
    },
    {
      "cell_type": "code",
      "source": [
        "# Download dataset\n",
        "dataset = pd.read_parquet(config.data.merged)"
      ],
      "metadata": {
        "id": "pHvtsu8M4cJg"
      },
      "execution_count": 13,
      "outputs": []
    },
    {
      "cell_type": "code",
      "source": [
        "dataset.shape[0]"
      ],
      "metadata": {
        "id": "RXTs2NN759_T",
        "outputId": "d030c413-8d1a-419a-a585-08c50eb49f8c",
        "colab": {
          "base_uri": "https://localhost:8080/"
        }
      },
      "execution_count": 14,
      "outputs": [
        {
          "output_type": "execute_result",
          "data": {
            "text/plain": [
              "419094"
            ]
          },
          "metadata": {},
          "execution_count": 14
        }
      ]
    },
    {
      "cell_type": "code",
      "source": [
        "# Filter out penny stocks\n",
        "dataset = dataset[dataset[\"unadj_open\"] >= 2]"
      ],
      "metadata": {
        "id": "nthFIAsg4fh9"
      },
      "execution_count": 15,
      "outputs": []
    },
    {
      "cell_type": "code",
      "source": [
        "dataset.shape[0]"
      ],
      "metadata": {
        "id": "uEOppiRx6gY7",
        "outputId": "d2855171-ee41-4788-a89e-ad3cc29223f8",
        "colab": {
          "base_uri": "https://localhost:8080/"
        }
      },
      "execution_count": 16,
      "outputs": [
        {
          "output_type": "execute_result",
          "data": {
            "text/plain": [
              "388700"
            ]
          },
          "metadata": {},
          "execution_count": 16
        }
      ]
    },
    {
      "cell_type": "code",
      "source": [
        "dataset.describe()"
      ],
      "metadata": {
        "id": "Nmr1bue96vNU",
        "outputId": "9c8838c9-a58e-4df5-e24d-c53bef6fbd1a",
        "colab": {
          "base_uri": "https://localhost:8080/",
          "height": 300
        }
      },
      "execution_count": 17,
      "outputs": [
        {
          "output_type": "execute_result",
          "data": {
            "text/plain": [
              "                   r          r_spy      r_mkt_adj        std_252  \\\n",
              "count  388700.000000  388700.000000  388700.000000  370265.000000   \n",
              "mean        0.041601       0.000390      -0.041211       1.075474   \n",
              "std         3.393260       0.007372       3.393262      72.026015   \n",
              "min        -0.721714      -0.078634    -310.516494       0.022605   \n",
              "25%        -0.010409      -0.002804      -0.010158       0.217405   \n",
              "50%         0.000509       0.000573      -0.000142       0.294301   \n",
              "75%         0.011783       0.004102       0.009687       0.424232   \n",
              "max       310.500000       0.061387       0.721219    9998.941949   \n",
              "\n",
              "       dollar_volume  r_intra_(t-1)     unadj_open  \n",
              "count   3.887000e+05  388418.000000  388700.000000  \n",
              "mean    3.112563e+05       0.999981      48.207447  \n",
              "std     8.256534e+05       0.026138     109.845293  \n",
              "min     0.000000e+00       0.350619       2.000000  \n",
              "25%     1.761568e+04       0.990991      14.500000  \n",
              "50%     6.917311e+04       1.000000      32.340000  \n",
              "75%     2.745007e+05       1.009047      58.380000  \n",
              "max     9.584502e+07       3.696970   33750.000000  "
            ],
            "text/html": [
              "\n",
              "  <div id=\"df-c01ebeef-2f0b-4f4a-bb67-28d6a9732960\" class=\"colab-df-container\">\n",
              "    <div>\n",
              "<style scoped>\n",
              "    .dataframe tbody tr th:only-of-type {\n",
              "        vertical-align: middle;\n",
              "    }\n",
              "\n",
              "    .dataframe tbody tr th {\n",
              "        vertical-align: top;\n",
              "    }\n",
              "\n",
              "    .dataframe thead th {\n",
              "        text-align: right;\n",
              "    }\n",
              "</style>\n",
              "<table border=\"1\" class=\"dataframe\">\n",
              "  <thead>\n",
              "    <tr style=\"text-align: right;\">\n",
              "      <th></th>\n",
              "      <th>r</th>\n",
              "      <th>r_spy</th>\n",
              "      <th>r_mkt_adj</th>\n",
              "      <th>std_252</th>\n",
              "      <th>dollar_volume</th>\n",
              "      <th>r_intra_(t-1)</th>\n",
              "      <th>unadj_open</th>\n",
              "    </tr>\n",
              "  </thead>\n",
              "  <tbody>\n",
              "    <tr>\n",
              "      <th>count</th>\n",
              "      <td>388700.000000</td>\n",
              "      <td>388700.000000</td>\n",
              "      <td>388700.000000</td>\n",
              "      <td>370265.000000</td>\n",
              "      <td>3.887000e+05</td>\n",
              "      <td>388418.000000</td>\n",
              "      <td>388700.000000</td>\n",
              "    </tr>\n",
              "    <tr>\n",
              "      <th>mean</th>\n",
              "      <td>0.041601</td>\n",
              "      <td>0.000390</td>\n",
              "      <td>-0.041211</td>\n",
              "      <td>1.075474</td>\n",
              "      <td>3.112563e+05</td>\n",
              "      <td>0.999981</td>\n",
              "      <td>48.207447</td>\n",
              "    </tr>\n",
              "    <tr>\n",
              "      <th>std</th>\n",
              "      <td>3.393260</td>\n",
              "      <td>0.007372</td>\n",
              "      <td>3.393262</td>\n",
              "      <td>72.026015</td>\n",
              "      <td>8.256534e+05</td>\n",
              "      <td>0.026138</td>\n",
              "      <td>109.845293</td>\n",
              "    </tr>\n",
              "    <tr>\n",
              "      <th>min</th>\n",
              "      <td>-0.721714</td>\n",
              "      <td>-0.078634</td>\n",
              "      <td>-310.516494</td>\n",
              "      <td>0.022605</td>\n",
              "      <td>0.000000e+00</td>\n",
              "      <td>0.350619</td>\n",
              "      <td>2.000000</td>\n",
              "    </tr>\n",
              "    <tr>\n",
              "      <th>25%</th>\n",
              "      <td>-0.010409</td>\n",
              "      <td>-0.002804</td>\n",
              "      <td>-0.010158</td>\n",
              "      <td>0.217405</td>\n",
              "      <td>1.761568e+04</td>\n",
              "      <td>0.990991</td>\n",
              "      <td>14.500000</td>\n",
              "    </tr>\n",
              "    <tr>\n",
              "      <th>50%</th>\n",
              "      <td>0.000509</td>\n",
              "      <td>0.000573</td>\n",
              "      <td>-0.000142</td>\n",
              "      <td>0.294301</td>\n",
              "      <td>6.917311e+04</td>\n",
              "      <td>1.000000</td>\n",
              "      <td>32.340000</td>\n",
              "    </tr>\n",
              "    <tr>\n",
              "      <th>75%</th>\n",
              "      <td>0.011783</td>\n",
              "      <td>0.004102</td>\n",
              "      <td>0.009687</td>\n",
              "      <td>0.424232</td>\n",
              "      <td>2.745007e+05</td>\n",
              "      <td>1.009047</td>\n",
              "      <td>58.380000</td>\n",
              "    </tr>\n",
              "    <tr>\n",
              "      <th>max</th>\n",
              "      <td>310.500000</td>\n",
              "      <td>0.061387</td>\n",
              "      <td>0.721219</td>\n",
              "      <td>9998.941949</td>\n",
              "      <td>9.584502e+07</td>\n",
              "      <td>3.696970</td>\n",
              "      <td>33750.000000</td>\n",
              "    </tr>\n",
              "  </tbody>\n",
              "</table>\n",
              "</div>\n",
              "    <div class=\"colab-df-buttons\">\n",
              "\n",
              "  <div class=\"colab-df-container\">\n",
              "    <button class=\"colab-df-convert\" onclick=\"convertToInteractive('df-c01ebeef-2f0b-4f4a-bb67-28d6a9732960')\"\n",
              "            title=\"Convert this dataframe to an interactive table.\"\n",
              "            style=\"display:none;\">\n",
              "\n",
              "  <svg xmlns=\"http://www.w3.org/2000/svg\" height=\"24px\" viewBox=\"0 -960 960 960\">\n",
              "    <path d=\"M120-120v-720h720v720H120Zm60-500h600v-160H180v160Zm220 220h160v-160H400v160Zm0 220h160v-160H400v160ZM180-400h160v-160H180v160Zm440 0h160v-160H620v160ZM180-180h160v-160H180v160Zm440 0h160v-160H620v160Z\"/>\n",
              "  </svg>\n",
              "    </button>\n",
              "\n",
              "  <style>\n",
              "    .colab-df-container {\n",
              "      display:flex;\n",
              "      gap: 12px;\n",
              "    }\n",
              "\n",
              "    .colab-df-convert {\n",
              "      background-color: #E8F0FE;\n",
              "      border: none;\n",
              "      border-radius: 50%;\n",
              "      cursor: pointer;\n",
              "      display: none;\n",
              "      fill: #1967D2;\n",
              "      height: 32px;\n",
              "      padding: 0 0 0 0;\n",
              "      width: 32px;\n",
              "    }\n",
              "\n",
              "    .colab-df-convert:hover {\n",
              "      background-color: #E2EBFA;\n",
              "      box-shadow: 0px 1px 2px rgba(60, 64, 67, 0.3), 0px 1px 3px 1px rgba(60, 64, 67, 0.15);\n",
              "      fill: #174EA6;\n",
              "    }\n",
              "\n",
              "    .colab-df-buttons div {\n",
              "      margin-bottom: 4px;\n",
              "    }\n",
              "\n",
              "    [theme=dark] .colab-df-convert {\n",
              "      background-color: #3B4455;\n",
              "      fill: #D2E3FC;\n",
              "    }\n",
              "\n",
              "    [theme=dark] .colab-df-convert:hover {\n",
              "      background-color: #434B5C;\n",
              "      box-shadow: 0px 1px 3px 1px rgba(0, 0, 0, 0.15);\n",
              "      filter: drop-shadow(0px 1px 2px rgba(0, 0, 0, 0.3));\n",
              "      fill: #FFFFFF;\n",
              "    }\n",
              "  </style>\n",
              "\n",
              "    <script>\n",
              "      const buttonEl =\n",
              "        document.querySelector('#df-c01ebeef-2f0b-4f4a-bb67-28d6a9732960 button.colab-df-convert');\n",
              "      buttonEl.style.display =\n",
              "        google.colab.kernel.accessAllowed ? 'block' : 'none';\n",
              "\n",
              "      async function convertToInteractive(key) {\n",
              "        const element = document.querySelector('#df-c01ebeef-2f0b-4f4a-bb67-28d6a9732960');\n",
              "        const dataTable =\n",
              "          await google.colab.kernel.invokeFunction('convertToInteractive',\n",
              "                                                    [key], {});\n",
              "        if (!dataTable) return;\n",
              "\n",
              "        const docLinkHtml = 'Like what you see? Visit the ' +\n",
              "          '<a target=\"_blank\" href=https://colab.research.google.com/notebooks/data_table.ipynb>data table notebook</a>'\n",
              "          + ' to learn more about interactive tables.';\n",
              "        element.innerHTML = '';\n",
              "        dataTable['output_type'] = 'display_data';\n",
              "        await google.colab.output.renderOutput(dataTable, element);\n",
              "        const docLink = document.createElement('div');\n",
              "        docLink.innerHTML = docLinkHtml;\n",
              "        element.appendChild(docLink);\n",
              "      }\n",
              "    </script>\n",
              "  </div>\n",
              "\n",
              "\n",
              "<div id=\"df-daa95b52-ee18-4fd5-95e4-3dbce13d864e\">\n",
              "  <button class=\"colab-df-quickchart\" onclick=\"quickchart('df-daa95b52-ee18-4fd5-95e4-3dbce13d864e')\"\n",
              "            title=\"Suggest charts\"\n",
              "            style=\"display:none;\">\n",
              "\n",
              "<svg xmlns=\"http://www.w3.org/2000/svg\" height=\"24px\"viewBox=\"0 0 24 24\"\n",
              "     width=\"24px\">\n",
              "    <g>\n",
              "        <path d=\"M19 3H5c-1.1 0-2 .9-2 2v14c0 1.1.9 2 2 2h14c1.1 0 2-.9 2-2V5c0-1.1-.9-2-2-2zM9 17H7v-7h2v7zm4 0h-2V7h2v10zm4 0h-2v-4h2v4z\"/>\n",
              "    </g>\n",
              "</svg>\n",
              "  </button>\n",
              "\n",
              "<style>\n",
              "  .colab-df-quickchart {\n",
              "      --bg-color: #E8F0FE;\n",
              "      --fill-color: #1967D2;\n",
              "      --hover-bg-color: #E2EBFA;\n",
              "      --hover-fill-color: #174EA6;\n",
              "      --disabled-fill-color: #AAA;\n",
              "      --disabled-bg-color: #DDD;\n",
              "  }\n",
              "\n",
              "  [theme=dark] .colab-df-quickchart {\n",
              "      --bg-color: #3B4455;\n",
              "      --fill-color: #D2E3FC;\n",
              "      --hover-bg-color: #434B5C;\n",
              "      --hover-fill-color: #FFFFFF;\n",
              "      --disabled-bg-color: #3B4455;\n",
              "      --disabled-fill-color: #666;\n",
              "  }\n",
              "\n",
              "  .colab-df-quickchart {\n",
              "    background-color: var(--bg-color);\n",
              "    border: none;\n",
              "    border-radius: 50%;\n",
              "    cursor: pointer;\n",
              "    display: none;\n",
              "    fill: var(--fill-color);\n",
              "    height: 32px;\n",
              "    padding: 0;\n",
              "    width: 32px;\n",
              "  }\n",
              "\n",
              "  .colab-df-quickchart:hover {\n",
              "    background-color: var(--hover-bg-color);\n",
              "    box-shadow: 0 1px 2px rgba(60, 64, 67, 0.3), 0 1px 3px 1px rgba(60, 64, 67, 0.15);\n",
              "    fill: var(--button-hover-fill-color);\n",
              "  }\n",
              "\n",
              "  .colab-df-quickchart-complete:disabled,\n",
              "  .colab-df-quickchart-complete:disabled:hover {\n",
              "    background-color: var(--disabled-bg-color);\n",
              "    fill: var(--disabled-fill-color);\n",
              "    box-shadow: none;\n",
              "  }\n",
              "\n",
              "  .colab-df-spinner {\n",
              "    border: 2px solid var(--fill-color);\n",
              "    border-color: transparent;\n",
              "    border-bottom-color: var(--fill-color);\n",
              "    animation:\n",
              "      spin 1s steps(1) infinite;\n",
              "  }\n",
              "\n",
              "  @keyframes spin {\n",
              "    0% {\n",
              "      border-color: transparent;\n",
              "      border-bottom-color: var(--fill-color);\n",
              "      border-left-color: var(--fill-color);\n",
              "    }\n",
              "    20% {\n",
              "      border-color: transparent;\n",
              "      border-left-color: var(--fill-color);\n",
              "      border-top-color: var(--fill-color);\n",
              "    }\n",
              "    30% {\n",
              "      border-color: transparent;\n",
              "      border-left-color: var(--fill-color);\n",
              "      border-top-color: var(--fill-color);\n",
              "      border-right-color: var(--fill-color);\n",
              "    }\n",
              "    40% {\n",
              "      border-color: transparent;\n",
              "      border-right-color: var(--fill-color);\n",
              "      border-top-color: var(--fill-color);\n",
              "    }\n",
              "    60% {\n",
              "      border-color: transparent;\n",
              "      border-right-color: var(--fill-color);\n",
              "    }\n",
              "    80% {\n",
              "      border-color: transparent;\n",
              "      border-right-color: var(--fill-color);\n",
              "      border-bottom-color: var(--fill-color);\n",
              "    }\n",
              "    90% {\n",
              "      border-color: transparent;\n",
              "      border-bottom-color: var(--fill-color);\n",
              "    }\n",
              "  }\n",
              "</style>\n",
              "\n",
              "  <script>\n",
              "    async function quickchart(key) {\n",
              "      const quickchartButtonEl =\n",
              "        document.querySelector('#' + key + ' button');\n",
              "      quickchartButtonEl.disabled = true;  // To prevent multiple clicks.\n",
              "      quickchartButtonEl.classList.add('colab-df-spinner');\n",
              "      try {\n",
              "        const charts = await google.colab.kernel.invokeFunction(\n",
              "            'suggestCharts', [key], {});\n",
              "      } catch (error) {\n",
              "        console.error('Error during call to suggestCharts:', error);\n",
              "      }\n",
              "      quickchartButtonEl.classList.remove('colab-df-spinner');\n",
              "      quickchartButtonEl.classList.add('colab-df-quickchart-complete');\n",
              "    }\n",
              "    (() => {\n",
              "      let quickchartButtonEl =\n",
              "        document.querySelector('#df-daa95b52-ee18-4fd5-95e4-3dbce13d864e button');\n",
              "      quickchartButtonEl.style.display =\n",
              "        google.colab.kernel.accessAllowed ? 'block' : 'none';\n",
              "    })();\n",
              "  </script>\n",
              "</div>\n",
              "    </div>\n",
              "  </div>\n"
            ]
          },
          "metadata": {},
          "execution_count": 17
        }
      ]
    },
    {
      "cell_type": "code",
      "source": [
        "validation_dataloader = get_data_loader_from_dataset(dataset=dataset,\n",
        "                                                split=\"validation\",\n",
        "                                                tokenizer=tokenizer,\n",
        "                                                batch_size=batch_size,\n",
        "                                                data_loader_kwargs={})\n",
        "\n",
        "train_dataloader = get_data_loader_from_dataset(dataset=dataset,\n",
        "                                                split=\"training\",\n",
        "                                                tokenizer=tokenizer,\n",
        "                                                batch_size=batch_size,\n",
        "                                                data_loader_kwargs={})\n"
      ],
      "metadata": {
        "id": "PIkre90J4bGA",
        "outputId": "01fdbb7e-790a-4e26-af7f-eddd99489c0b",
        "colab": {
          "base_uri": "https://localhost:8080/"
        }
      },
      "execution_count": 18,
      "outputs": [
        {
          "output_type": "stream",
          "name": "stdout",
          "text": [
            "func:'embed_inputs' took: 82.8882 sec\n"
          ]
        },
        {
          "output_type": "stream",
          "name": "stderr",
          "text": [
            "/content/drive/MyDrive/NewsTrading/trading_bot/src/model/data_loading.py:30: UserWarning: To copy construct from a tensor, it is recommended to use sourceTensor.clone().detach() or sourceTensor.clone().detach().requires_grad_(True), rather than torch.tensor(sourceTensor).\n",
            "  input_tensor = torch.tensor(inputs)\n",
            "/content/drive/MyDrive/NewsTrading/trading_bot/src/model/data_loading.py:31: UserWarning: To copy construct from a tensor, it is recommended to use sourceTensor.clone().detach() or sourceTensor.clone().detach().requires_grad_(True), rather than torch.tensor(sourceTensor).\n",
            "  mask_tensor = torch.tensor(masks)\n"
          ]
        },
        {
          "output_type": "stream",
          "name": "stdout",
          "text": [
            "func:'embed_inputs' took: 323.5941 sec\n"
          ]
        }
      ]
    },
    {
      "cell_type": "code",
      "execution_count": 22,
      "metadata": {
        "id": "4i-dNsG_3hN5",
        "outputId": "bfa57c74-5913-4404-b8a4-3bca24d9262f",
        "colab": {
          "base_uri": "https://localhost:8080/"
        }
      },
      "outputs": [
        {
          "output_type": "stream",
          "name": "stdout",
          "text": [
            "Using GPU.\n",
            "\n",
            "Average training loss: 0.00\n",
            "Training epoch took: 0:00:02\n",
            "\n",
            "Average training loss: 0.00\n",
            "Training epoch took: 0:11:35\n",
            "\n",
            "Average training loss: 0.00\n",
            "Training epoch took: 0:23:08\n",
            "   epoch  Training Loss  Valid. Loss Training Time  Valid.MAE  Valid.RW-MAE  \\\n",
            "0      1   3.696175e-07     0.195532       0:00:02   0.046325      0.027847   \n",
            "1      2   2.329255e-07     0.195243       0:11:35   0.034689      0.027847   \n",
            "2      3   6.162801e-08     0.195126       0:23:08   0.032609      0.027847   \n",
            "\n",
            "   Valid.Accuracy  \n",
            "0        0.497331  \n",
            "1        0.502451  \n",
            "2        0.504211  \n"
          ]
        }
      ],
      "source": [
        "model: nn.Module = MyBertModel()\n",
        "if not FROM_SCRATCH:\n",
        "    model.load_state_dict(torch.load(\"data/model\")) # Use latest iteration of the model for training\n",
        "\n",
        "# .compile currently isn't supported for Windows\n",
        "# model = torch.compile(model)\n",
        "\n",
        "if __name__ == \"__main__\":\n",
        "    torch.cuda.empty_cache()\n",
        "\n",
        "    if torch.cuda.is_available():\n",
        "        device = torch.device(\"cuda\")\n",
        "        print(\"Using GPU.\")\n",
        "    else:\n",
        "        print(\"No GPU available, using the CPU instead.\")\n",
        "        device = torch.device(\"cpu\")\n",
        "    model.to(device)\n",
        "\n",
        "    # Optimizer, scheduler and loss function\n",
        "    optimizer = AdamW(model.parameters(), lr=5e-5, eps=1e-8)\n",
        "\n",
        "    total_steps = len(train_dataloader) * epochs\n",
        "    scheduler = get_linear_schedule_with_warmup(optimizer,\n",
        "                                                num_warmup_steps=0,\n",
        "                                                num_training_steps=total_steps)\n",
        "\n",
        "    loss_function = nn.MSELoss()\n",
        "\n",
        "    # Training\n",
        "    model, training_stats = train(model,\n",
        "                                  optimizer,\n",
        "                                  scheduler,\n",
        "                                  loss_function,\n",
        "                                  epochs,\n",
        "                                  train_dataloader,\n",
        "                                  validation_dataloader,\n",
        "                                  device,\n",
        "                                  clip_value=2)\n",
        "\n",
        "    df_stats = pd.DataFrame(data=training_stats)\n",
        "    print(df_stats)\n",
        "\n",
        "    # Store Model\n",
        "    torch.save(model.state_dict(), \"data/model\")"
      ]
    },
    {
      "cell_type": "code",
      "source": [
        "from google.colab import runtime\n",
        "runtime.unassign()"
      ],
      "metadata": {
        "id": "2oQsYufL7R8M"
      },
      "execution_count": null,
      "outputs": []
    },
    {
      "cell_type": "code",
      "source": [],
      "metadata": {
        "id": "a85t-TV27Uvs"
      },
      "execution_count": null,
      "outputs": []
    }
  ],
  "metadata": {
    "language_info": {
      "name": "python"
    },
    "colab": {
      "provenance": [],
      "machine_shape": "hm",
      "gpuType": "V100"
    },
    "accelerator": "GPU",
    "kernelspec": {
      "name": "python3",
      "display_name": "Python 3"
    }
  },
  "nbformat": 4,
  "nbformat_minor": 0
}