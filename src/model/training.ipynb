{
  "cells": [
    {
      "cell_type": "code",
      "execution_count": 1,
      "metadata": {
        "id": "6GUGkJ0V3lUT"
      },
      "outputs": [],
      "source": [
        "google_colab = False\n",
        "if google_colab:\n",
        "    from google.colab import drive\n",
        "    drive.mount('/content/drive')\n",
        "    cwd=\"/content/drive/MyDrive/NewsTrading/trading_bot\"\n",
        "    %cd /content/drive/MyDrive/NewsTrading/trading_bot\n",
        "    %pip install -r requirements_clean.txt\n",
        "    !git clone https://github.com/rapidsai/rapidsai-csp-utils.git\n",
        "    !python rapidsai-csp-utils/colab/pip-install.py"
      ]
    },
    {
      "cell_type": "code",
      "execution_count": 26,
      "metadata": {
        "id": "HZjfWVr73qUs"
      },
      "outputs": [
        {
          "name": "stdout",
          "output_type": "stream",
          "text": [
            "The autoreload extension is already loaded. To reload it, use:\n",
            "  %reload_ext autoreload\n"
          ]
        }
      ],
      "source": [
        "%load_ext autoreload\n",
        "%autoreload 2\n",
        "import pandas as pd\n",
        "import torch\n",
        "import torch.nn as nn\n",
        "from torch.optim import AdamW\n",
        "from transformers import BertTokenizerFast, get_linear_schedule_with_warmup\n",
        "from src.model.data_loading import get_data_loader_from_dataset\n",
        "from src.config import config, MODEL_CONFIG\n",
        "from src.model.neural_network import train, MyBertModule, evaluate\n",
        "from sklearn.metrics import accuracy_score, balanced_accuracy_score"
      ]
    },
    {
      "cell_type": "code",
      "execution_count": 3,
      "metadata": {},
      "outputs": [],
      "source": [
        "import warnings\n",
        "warnings.filterwarnings(\"ignore\", category=UserWarning)"
      ]
    },
    {
      "cell_type": "code",
      "execution_count": 4,
      "metadata": {},
      "outputs": [],
      "source": [
        "# Settings\n",
        "target_col_name = MODEL_CONFIG.target_col_name\n",
        "bert_model_name = MODEL_CONFIG.transformer_hugface_id\n",
        "batch_size = 4\n",
        "epochs = 3\n",
        "tokenizer = BertTokenizerFast.from_pretrained(bert_model_name)\n",
        "loss_function = MODEL_CONFIG.loss\n",
        "tracking_metrics = [accuracy_score, balanced_accuracy_score]\n",
        "learning_rate = 0.01 # 5e-5 (slow) for bert, 0.3 (fast) for new feed forward\n",
        "is_deactivated_bert_learning = True"
      ]
    },
    {
      "cell_type": "code",
      "execution_count": 5,
      "metadata": {},
      "outputs": [
        {
          "name": "stdout",
          "output_type": "stream",
          "text": [
            "[INFO] Current PyTorch version: 2.1.1+cu118 (should be 2.x+)\n"
          ]
        },
        {
          "data": {
            "text/plain": [
              "True"
            ]
          },
          "execution_count": 5,
          "metadata": {},
          "output_type": "execute_result"
        }
      ],
      "source": [
        "pt_version = torch.__version__\n",
        "print(f\"[INFO] Current PyTorch version: {pt_version} (should be 2.x+)\")\n",
        "torch.cuda.is_available()"
      ]
    },
    {
      "cell_type": "code",
      "execution_count": 6,
      "metadata": {
        "id": "pHvtsu8M4cJg"
      },
      "outputs": [
        {
          "data": {
            "text/plain": [
              "40000"
            ]
          },
          "execution_count": 6,
          "metadata": {},
          "output_type": "execute_result"
        }
      ],
      "source": [
        "# Download dataset\n",
        "dataset = pd.read_parquet(config.data.merged).iloc[-40000:]\n",
        "dataset.shape[0]"
      ]
    },
    {
      "cell_type": "code",
      "execution_count": 7,
      "metadata": {
        "id": "nthFIAsg4fh9"
      },
      "outputs": [
        {
          "name": "stdout",
          "output_type": "stream",
          "text": [
            "21535\n",
            "20743\n"
          ]
        }
      ],
      "source": [
        "# Filter out Stocks... TODO: put this into filter interface and make configurable in model_config\n",
        "dataset = dataset[\n",
        "    (dataset[\"unadj_open\"] >= 2) &          # penny stocks\n",
        "    (dataset[\"dollar_volume\"] >= 30_000)  # illiquid stocks TODO: this has look-ahead bias\n",
        "                  ]\n",
        "# TODO: Staleness has yet to be calculated\n",
        "if \"staleness\" in dataset.columns:\n",
        "    dataset = dataset[(dataset[\"staleness\"] <= 0.9)] # repeat news\n",
        "\n",
        "print(dataset.shape[0])\n",
        "dataset.dropna(inplace=True)\n",
        "print(dataset.shape[0])"
      ]
    },
    {
      "cell_type": "code",
      "execution_count": 8,
      "metadata": {},
      "outputs": [
        {
          "name": "stdout",
          "output_type": "stream",
          "text": [
            "14520 samples in training set.\n",
            " 4148 samples in validation set.\n",
            " 2075 samples in testing set.\n"
          ]
        }
      ],
      "source": [
        "dataset: pd.DataFrame = MODEL_CONFIG.splitter.add_splits(dataset)"
      ]
    },
    {
      "cell_type": "code",
      "execution_count": 9,
      "metadata": {
        "colab": {
          "base_uri": "https://localhost:8080/"
        },
        "id": "PIkre90J4bGA",
        "outputId": "01fdbb7e-790a-4e26-af7f-eddd99489c0b"
      },
      "outputs": [
        {
          "name": "stdout",
          "output_type": "stream",
          "text": [
            "dataset.index.name=None\n"
          ]
        }
      ],
      "source": [
        "train_dataloader = get_data_loader_from_dataset(dataset=dataset,\n",
        "                                                split=\"training\",\n",
        "                                                batch_size=batch_size,\n",
        "                                                label_col=target_col_name,\n",
        "                                                data_loader_kwargs=dict(shuffle=True,\n",
        "                                                                        pin_memory=True))"
      ]
    },
    {
      "cell_type": "code",
      "execution_count": 10,
      "metadata": {},
      "outputs": [
        {
          "name": "stdout",
          "output_type": "stream",
          "text": [
            "dataset.index.name=None\n"
          ]
        }
      ],
      "source": [
        "validation_dataloader = get_data_loader_from_dataset(dataset=dataset,\n",
        "                                                split=\"validation\",\n",
        "                                                batch_size=batch_size,\n",
        "                                                label_col=target_col_name,\n",
        "                                                data_loader_kwargs=dict(shuffle=True,\n",
        "                                                                        pin_memory=True))"
      ]
    },
    {
      "cell_type": "code",
      "execution_count": 34,
      "metadata": {},
      "outputs": [
        {
          "data": {
            "text/plain": [
              "(0.86405784918647,\n",
              " {'accuracy_score': 0.6747933884297521,\n",
              "  'balanced_accuracy_score': 0.5864325068870524})"
            ]
          },
          "execution_count": 34,
          "metadata": {},
          "output_type": "execute_result"
        }
      ],
      "source": [
        "# device = torch.device(\"cuda\" if torch.cuda.is_available() else \"cpu\")\n",
        "# state_dict = torch.load(MODEL_CONFIG.input_params_path)\n",
        "# model.load_state_dict(state_dict)\n",
        "# model = model.to(device)\n",
        "# evaluate(model, \n",
        "#         loss_function, \n",
        "#         train_dataloader, \n",
        "#         device, \n",
        "#         tracking_metrics)"
      ]
    },
    {
      "cell_type": "code",
      "execution_count": null,
      "metadata": {},
      "outputs": [],
      "source": [
        "model: nn.Module = MODEL_CONFIG.neural_net(bert_model_name=MODEL_CONFIG.transformer_hugface_id, \n",
        "                                           num_classes=3)\n",
        "\n",
        "device = torch.device(\"cuda\" if torch.cuda.is_available() else \"cpu\")\n",
        "\n",
        "if MODEL_CONFIG.input_params_path:    \n",
        "    state_dict = torch.load(MODEL_CONFIG.input_params_path)\n",
        "    model.load_state_dict(state_dict)\n",
        "    \n",
        "if is_deactivated_bert_learning: MyBertModule.deactivate_learning_for_layer(model.bert)\n",
        "\n",
        "# .compile currently isn't supported for Windows\n",
        "# model = torch.compile(model)\n",
        "\n",
        "# torch.cuda.empty_cache()\n",
        "\n",
        "print(f\"{device=}\")\n",
        "model = model.to(device)\n",
        "\n",
        "# Optimizer, scheduler and loss function\n",
        "optimizer = AdamW(model.parameters(), lr=learning_rate, eps=1e-8)\n",
        "\n",
        "total_steps = len(train_dataloader) * epochs\n",
        "scheduler = get_linear_schedule_with_warmup(optimizer,\n",
        "                                            num_warmup_steps=0,\n",
        "                                            num_training_steps=total_steps)\n",
        "\n",
        "# Training\n",
        "model, training_stats = train(model,\n",
        "                                optimizer,\n",
        "                                scheduler,\n",
        "                                loss_function,\n",
        "                                epochs,\n",
        "                                train_dataloader,\n",
        "                                validation_dataloader,\n",
        "                                device,\n",
        "                                clip_value=2,\n",
        "                                tracking_metrics=tracking_metrics)\n",
        "\n",
        "df_stats = pd.DataFrame(data=training_stats)\n",
        "print(df_stats)\n",
        "\n",
        "# Store Model\n",
        "torch.save(model.state_dict(), MODEL_CONFIG.output_params_path)"
      ]
    },
    {
      "cell_type": "code",
      "execution_count": 12,
      "metadata": {},
      "outputs": [
        {
          "data": {
            "text/plain": [
              "z_score_class\n",
              "0    0.724446\n",
              "1    0.144166\n",
              "2    0.131389\n",
              "Name: count, dtype: float64"
            ]
          },
          "execution_count": 12,
          "metadata": {},
          "output_type": "execute_result"
        }
      ],
      "source": [
        "dataset.loc[dataset.split == \"validation\", target_col_name].value_counts() / dataset[dataset.split == \"validation\"].shape[0]"
      ]
    },
    {
      "cell_type": "code",
      "execution_count": 13,
      "metadata": {
        "id": "2oQsYufL7R8M"
      },
      "outputs": [],
      "source": [
        "if google_colab:\n",
        "    from google.colab import runtime\n",
        "    runtime.unassign()"
      ]
    },
    {
      "cell_type": "code",
      "execution_count": null,
      "metadata": {
        "id": "a85t-TV27Uvs"
      },
      "outputs": [],
      "source": []
    }
  ],
  "metadata": {
    "accelerator": "GPU",
    "colab": {
      "gpuType": "V100",
      "machine_shape": "hm",
      "provenance": []
    },
    "kernelspec": {
      "display_name": "Python 3",
      "name": "python3"
    },
    "language_info": {
      "codemirror_mode": {
        "name": "ipython",
        "version": 3
      },
      "file_extension": ".py",
      "mimetype": "text/x-python",
      "name": "python",
      "nbconvert_exporter": "python",
      "pygments_lexer": "ipython3",
      "version": "3.11.3"
    }
  },
  "nbformat": 4,
  "nbformat_minor": 0
}
